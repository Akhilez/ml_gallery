{
 "cells": [
  {
   "cell_type": "code",
   "execution_count": 1,
   "metadata": {
    "colab": {},
    "colab_type": "code",
    "id": "wYtuKeK0dImp"
   },
   "outputs": [],
   "source": [
    "# ATTENTION: Please do not alter any of the provided code in the exercise. Only add your own code where indicated\n",
    "# ATTENTION: Please do not add or remove any cells in the exercise. The grader will check specific cells based on the cell position.\n",
    "# ATTENTION: Please use the provided epoch values when training.\n",
    "\n",
    "import csv\n",
    "import numpy as np\n",
    "import tensorflow as tf\n",
    "from tensorflow.keras.preprocessing.image import ImageDataGenerator\n",
    "from os import getcwd"
   ]
  },
  {
   "cell_type": "code",
   "execution_count": 26,
   "metadata": {
    "colab": {},
    "colab_type": "code",
    "id": "4kxw-_rmcnVu"
   },
   "outputs": [
    {
     "name": "stdout",
     "output_type": "stream",
     "text": [
      "(27455, 28, 28)\n",
      "(27455,)\n",
      "(7172, 28, 28)\n",
      "(7172,)\n"
     ]
    }
   ],
   "source": [
    "def get_data(filename):\n",
    "  # You will need to write code that will read the file passed\n",
    "  # into this function. The first line contains the column headers\n",
    "  # so you should ignore it\n",
    "  # Each successive line contians 785 comma separated values between 0 and 255\n",
    "  # The first value is the label\n",
    "  # The rest are the pixel values for that picture\n",
    "  # The function will return 2 np.array types. One with all the labels\n",
    "  # One with all the images\n",
    "  #\n",
    "  # Tips: \n",
    "  # If you read a full line (as 'row') then row[0] has the label\n",
    "  # and row[1:785] has the 784 pixel values\n",
    "  # Take a look at np.array_split to turn the 784 pixels into 28x28\n",
    "  # You are reading in strings, but need the values to be floats\n",
    "  # Check out np.array().astype for a conversion\n",
    "    with open(filename) as training_file:\n",
    "      # Your code starts here\n",
    "      lines = training_file.readlines()\n",
    "      images = []\n",
    "      labels = []\n",
    "      for i in range(1, len(lines)):\n",
    "        line = lines[i]\n",
    "        line = line.split(',')\n",
    "        label = line[0]\n",
    "        image = line[1:]\n",
    "        images.append(image)\n",
    "        labels.append(label)\n",
    "      images = np.array(images,dtype=float).reshape(-1, 28,28)\n",
    "      labels = np.array(labels, dtype=int)\n",
    "      # Your code ends here\n",
    "    return images, labels\n",
    "\n",
    "path_sign_mnist_train = f\"{getcwd()}/../tmp2/sign_mnist_train.csv\"\n",
    "path_sign_mnist_test = f\"{getcwd()}/../tmp2/sign_mnist_test.csv\"\n",
    "training_images, training_labels = get_data(path_sign_mnist_train)\n",
    "testing_images, testing_labels = get_data(path_sign_mnist_test)\n",
    "\n",
    "# Keep these\n",
    "print(training_images.shape)\n",
    "print(training_labels.shape)\n",
    "print(testing_images.shape)\n",
    "print(testing_labels.shape)\n",
    "\n",
    "# Their output should be:\n",
    "# (27455, 28, 28)\n",
    "# (27455,)\n",
    "# (7172, 28, 28)\n",
    "# (7172,)"
   ]
  },
  {
   "cell_type": "code",
   "execution_count": 30,
   "metadata": {
    "colab": {},
    "colab_type": "code",
    "id": "awoqRpyZdQkD"
   },
   "outputs": [
    {
     "name": "stdout",
     "output_type": "stream",
     "text": [
      "(27455, 28, 28, 1)\n",
      "(7172, 28, 28, 1)\n"
     ]
    }
   ],
   "source": [
    "# In this section you will have to add another dimension to the data\n",
    "# So, for example, if your array is (10000, 28, 28)\n",
    "# You will need to make it (10000, 28, 28, 1)\n",
    "# Hint: np.expand_dims\n",
    "\n",
    "training_images = training_images.reshape(-1, 28, 28, 1)\n",
    "testing_images = testing_images.reshape(-1, 28, 28, 1)\n",
    "\n",
    "from tensorflow.keras.utils import to_categorical\n",
    "training_labels = to_categorical(training_labels)\n",
    "testing_labels = to_categorical(testing_labels)\n",
    "\n",
    "# Create an ImageDataGenerator and do Image Augmentation\n",
    "train_datagen = ImageDataGenerator(\n",
    "    rescale=1/255.0,\n",
    "    zoom_range=0.2,\n",
    "    rotation_range=40,\n",
    "    width_shift_range=0.2,\n",
    "    height_shift_range=0.2,\n",
    "    shear_range=0.2,\n",
    "    horizontal_flip=True\n",
    ")\n",
    "\n",
    "validation_datagen = ImageDataGenerator(rescale=1/255.0)\n",
    "    \n",
    "# Keep These\n",
    "print(training_images.shape)\n",
    "print(testing_images.shape)\n",
    "    \n",
    "# Their output should be:\n",
    "# (27455, 28, 28, 1)\n",
    "# (7172, 28, 28, 1)"
   ]
  },
  {
   "cell_type": "code",
   "execution_count": 34,
   "metadata": {
    "colab": {},
    "colab_type": "code",
    "id": "Rmb7S32cgRqS"
   },
   "outputs": [
    {
     "name": "stdout",
     "output_type": "stream",
     "text": [
      "(27455, 25)\n",
      "Epoch 1/20\n",
      "100/100 [==============================] - 7s 70ms/step - loss: 3.2087 - accuracy: 0.0330 - val_loss: 3.2090 - val_accuracy: 0.0280\n",
      "Epoch 2/20\n",
      "100/100 [==============================] - 7s 65ms/step - loss: 3.1775 - accuracy: 0.0570 - val_loss: 3.1609 - val_accuracy: 0.0360\n",
      "Epoch 3/20\n",
      "100/100 [==============================] - 6s 64ms/step - loss: 3.1059 - accuracy: 0.0820 - val_loss: 3.0303 - val_accuracy: 0.1240\n",
      "Epoch 4/20\n",
      "100/100 [==============================] - 7s 67ms/step - loss: 2.9921 - accuracy: 0.0960 - val_loss: 2.8999 - val_accuracy: 0.1120\n",
      "Epoch 5/20\n",
      "100/100 [==============================] - 7s 65ms/step - loss: 2.9114 - accuracy: 0.1360 - val_loss: 2.7649 - val_accuracy: 0.1740\n",
      "Epoch 6/20\n",
      "100/100 [==============================] - 6s 64ms/step - loss: 2.8641 - accuracy: 0.1370 - val_loss: 2.6537 - val_accuracy: 0.1840\n",
      "Epoch 7/20\n",
      "100/100 [==============================] - 6s 65ms/step - loss: 2.7358 - accuracy: 0.1650 - val_loss: 2.6891 - val_accuracy: 0.1920\n",
      "Epoch 8/20\n",
      "100/100 [==============================] - 6s 63ms/step - loss: 2.7476 - accuracy: 0.1530 - val_loss: 2.4614 - val_accuracy: 0.2380\n",
      "Epoch 9/20\n",
      "100/100 [==============================] - 6s 64ms/step - loss: 2.6178 - accuracy: 0.1850 - val_loss: 2.2820 - val_accuracy: 0.2400\n",
      "Epoch 10/20\n",
      "100/100 [==============================] - 6s 64ms/step - loss: 2.5721 - accuracy: 0.2190 - val_loss: 2.3999 - val_accuracy: 0.2240\n",
      "Epoch 11/20\n",
      "100/100 [==============================] - 6s 63ms/step - loss: 2.5189 - accuracy: 0.2020 - val_loss: 2.2483 - val_accuracy: 0.2680\n",
      "Epoch 12/20\n",
      "100/100 [==============================] - 7s 65ms/step - loss: 2.4377 - accuracy: 0.2190 - val_loss: 2.1362 - val_accuracy: 0.2620\n",
      "Epoch 13/20\n",
      "100/100 [==============================] - 6s 62ms/step - loss: 2.3821 - accuracy: 0.2450 - val_loss: 2.0558 - val_accuracy: 0.3380\n",
      "Epoch 14/20\n",
      "100/100 [==============================] - 6s 58ms/step - loss: 2.3778 - accuracy: 0.2640 - val_loss: 1.9738 - val_accuracy: 0.3340\n",
      "Epoch 15/20\n",
      "100/100 [==============================] - 6s 61ms/step - loss: 2.4131 - accuracy: 0.2680 - val_loss: 2.0282 - val_accuracy: 0.2780\n",
      "Epoch 16/20\n",
      "100/100 [==============================] - 6s 62ms/step - loss: 2.2355 - accuracy: 0.2920 - val_loss: 1.8709 - val_accuracy: 0.3680\n",
      "Epoch 17/20\n",
      "100/100 [==============================] - 6s 62ms/step - loss: 2.2410 - accuracy: 0.2840 - val_loss: 2.0074 - val_accuracy: 0.3280\n",
      "Epoch 18/20\n",
      "100/100 [==============================] - 6s 60ms/step - loss: 2.1866 - accuracy: 0.3150 - val_loss: 1.9255 - val_accuracy: 0.3820\n",
      "Epoch 19/20\n",
      "100/100 [==============================] - 6s 60ms/step - loss: 2.1918 - accuracy: 0.3030 - val_loss: 1.6815 - val_accuracy: 0.4720\n",
      "Epoch 20/20\n",
      "100/100 [==============================] - 6s 61ms/step - loss: 2.1575 - accuracy: 0.3140 - val_loss: 1.7083 - val_accuracy: 0.4140\n"
     ]
    },
    {
     "data": {
      "text/plain": [
       "[210.96734197034692, 0.3060513]"
      ]
     },
     "execution_count": 34,
     "metadata": {},
     "output_type": "execute_result"
    }
   ],
   "source": [
    "print(training_labels.shape)\n",
    "\n",
    "# Define the model\n",
    "# Use no more than 2 Conv2D and 2 MaxPooling2D\n",
    "model = tf.keras.models.Sequential([\n",
    "    tf.keras.layers.Conv2D(16, (3,3), activation='relu', input_shape=(28,28,1)),\n",
    "    tf.keras.layers.MaxPool2D((2,2)),\n",
    "    tf.keras.layers.Conv2D(32, (3,3), activation='relu'),\n",
    "    tf.keras.layers.MaxPool2D((2,2)),\n",
    "    tf.keras.layers.Flatten(),\n",
    "    tf.keras.layers.Dense(512, activation=\"relu\"),\n",
    "    tf.keras.layers.Dense(25, activation='softmax')\n",
    "])\n",
    "\n",
    "# Compile Model. \n",
    "model.compile(optimizer='adam', loss='categorical_crossentropy', metrics=['accuracy'])\n",
    "\n",
    "train_generator = train_datagen.flow(\n",
    "    training_images,\n",
    "    training_labels,\n",
    "    #class_mode='categorical',\n",
    "    #target_size=(28,28),\n",
    "    batch_size=10\n",
    ")\n",
    "\n",
    "validation_generator = validation_datagen.flow(\n",
    "    testing_images,\n",
    "    testing_labels,\n",
    "    #class_mode='categorical',\n",
    "    #target_size=(28,28),\n",
    "    batch_size=10\n",
    ")\n",
    "\n",
    "\n",
    "# Train the Model\n",
    "history = model.fit_generator(\n",
    "    train_generator,\n",
    "    validation_data=validation_generator,\n",
    "    steps_per_epoch=100,\n",
    "    validation_steps=50,\n",
    "    verbose=1,\n",
    "    epochs=10\n",
    ")\n",
    "\n",
    "model.evaluate(testing_images, testing_labels, verbose=0)"
   ]
  },
  {
   "cell_type": "code",
   "execution_count": 35,
   "metadata": {
    "colab": {},
    "colab_type": "code",
    "id": "_Q3Zpr46dsij"
   },
   "outputs": [
    {
     "data": {
      "image/png": "[encoded data removed]",
      "text/plain": [
       "<Figure size 432x288 with 1 Axes>"
      ]
     },
     "metadata": {
      "needs_background": "light"
     },
     "output_type": "display_data"
    },
    {
     "data": {
      "image/png": "[encoded data removed]",
      "text/plain": [
       "<Figure size 432x288 with 1 Axes>"
      ]
     },
     "metadata": {
      "needs_background": "light"
     },
     "output_type": "display_data"
    }
   ],
   "source": [
    "# Plot the chart for accuracy and loss on both training and validation\n",
    "%matplotlib inline\n",
    "import matplotlib.pyplot as plt\n",
    "acc = history.history['accuracy']\n",
    "val_acc = history.history['val_accuracy']\n",
    "loss = history.history['loss']\n",
    "val_loss = history.history['val_loss']\n",
    "\n",
    "epochs = range(len(acc))\n",
    "\n",
    "plt.plot(epochs, acc, 'r', label='Training accuracy')\n",
    "plt.plot(epochs, val_acc, 'b', label='Validation accuracy')\n",
    "plt.title('Training and validation accuracy')\n",
    "plt.legend()\n",
    "plt.figure()\n",
    "\n",
    "plt.plot(epochs, loss, 'r', label='Training Loss')\n",
    "plt.plot(epochs, val_loss, 'b', label='Validation Loss')\n",
    "plt.title('Training and validation loss')\n",
    "plt.legend()\n",
    "\n",
    "plt.show()"
   ]
  },
  {
   "cell_type": "markdown",
   "metadata": {},
   "source": [
    "# Submission Instructions"
   ]
  },
  {
   "cell_type": "code",
   "execution_count": null,
   "metadata": {},
   "outputs": [],
   "source": [
    "# Now click the 'Submit Assignment' button above."
   ]
  },
  {
   "cell_type": "markdown",
   "metadata": {},
   "source": [
    "# When you're done or would like to take a break, please run the two cells below to save your work and close the Notebook. This will free up resources for your fellow learners. "
   ]
  },
  {
   "cell_type": "code",
   "execution_count": null,
   "metadata": {},
   "outputs": [],
   "source": [
    "%%javascript\n",
    "<!-- Save the notebook -->\n",
    "IPython.notebook.save_checkpoint();"
   ]
  },
  {
   "cell_type": "code",
   "execution_count": null,
   "metadata": {},
   "outputs": [],
   "source": [
    "%%javascript\n",
    "IPython.notebook.session.delete();\n",
    "window.onbeforeunload = null\n",
    "setTimeout(function() { window.close(); }, 1000);"
   ]
  }
 ],
 "metadata": {
  "colab": {
   "name": "Exercise 8 - Question.ipynb",
   "provenance": []
  },
  "coursera": {
   "course_slug": "convolutional-neural-networks-tensorflow",
   "graded_item_id": "8mIh8",
   "launcher_item_id": "gg95t"
  },
  "kernelspec": {
   "display_name": "Python 3",
   "language": "python",
   "name": "python3"
  },
  "language_info": {
   "codemirror_mode": {
    "name": "ipython",
    "version": 3
   },
   "file_extension": ".py",
   "mimetype": "text/x-python",
   "name": "python",
   "nbconvert_exporter": "python",
   "pygments_lexer": "ipython3",
   "version": "3.6.8"
  }
 },
 "nbformat": 4,
 "nbformat_minor": 1
}
