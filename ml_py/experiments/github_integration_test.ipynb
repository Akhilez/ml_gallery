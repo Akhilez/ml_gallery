{
  "nbformat": 4,
  "nbformat_minor": 0,
  "metadata": {
    "colab": {
      "name": "github_integration_test.ipynb",
      "provenance": [],
      "authorship_tag": "ABX9TyMD+2LsVZJOdi7A8NJS7xeT",
      "include_colab_link": true
    },
    "kernelspec": {
      "name": "python3",
      "display_name": "Python 3"
    }
  },
  "cells": [
    {
      "cell_type": "markdown",
      "metadata": {
        "id": "view-in-github",
        "colab_type": "text"
      },
      "source": [
        "<a href=\"https://colab.research.google.com/github/Akhilez/ml_gallery/blob/master/ml_py/experiments/github_integration_test.ipynb\" target=\"_parent\"><img src=\"https://colab.research.google.com/assets/colab-badge.svg\" alt=\"Open In Colab\"/></a>"
      ]
    },
    {
      "cell_type": "code",
      "metadata": {
        "id": "BLu8jAC30W2-",
        "colab_type": "code",
        "outputId": "8e78a5e2-b1be-4340-edc8-389db8f23703",
        "colab": {
          "base_uri": "https://localhost:8080/",
          "height": 136
        }
      },
      "source": [
        "!rm -rf *\n",
        "!git config --global user.name \"Akhilez\"\n",
        "!git config --global user.email \"akhild18@yahoo.com\"\n",
        "!git clone https://github.com/Akhilez/ml_gallery.git\n",
        "%cd ml_gallery/ml_py"
      ],
      "execution_count": 0,
      "outputs": [
        {
          "output_type": "stream",
          "text": [
            "Cloning into 'ml_gallery'...\n",
            "remote: Enumerating objects: 527, done.\u001b[K\n",
            "remote: Counting objects: 100% (527/527), done.\u001b[K\n",
            "remote: Compressing objects: 100% (345/345), done.\u001b[K\n",
            "remote: Total 1194 (delta 300), reused 335 (delta 135), pack-reused 667\u001b[K\n",
            "Receiving objects: 100% (1194/1194), 5.30 MiB | 8.69 MiB/s, done.\n",
            "Resolving deltas: 100% (704/704), done.\n"
          ],
          "name": "stdout"
        }
      ]
    },
    {
      "cell_type": "code",
      "metadata": {
        "id": "Sda6fgpX1Eec",
        "colab_type": "code",
        "outputId": "eddd90cc-bc90-42a6-a15d-90ede4513001",
        "colab": {
          "base_uri": "https://localhost:8080/",
          "height": 51
        }
      },
      "source": [
        ""
      ],
      "execution_count": 0,
      "outputs": [
        {
          "output_type": "stream",
          "text": [
            "app.yaml    experiments    lib\t\t    manage.py  ml_py\n",
            "Dockerfile  gcp_deploy.sh  local_deploy.sh  MLGallery  requirements.txt\n"
          ],
          "name": "stdout"
        }
      ]
    }
  ]
}