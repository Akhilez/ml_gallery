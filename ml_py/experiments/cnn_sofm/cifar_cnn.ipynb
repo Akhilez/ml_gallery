{
  "nbformat": 4,
  "nbformat_minor": 0,
  "metadata": {
    "colab": {
      "name": "cifar_cnn.ipynb",
      "provenance": []
    },
    "kernelspec": {
      "name": "python3",
      "display_name": "Python 3"
    },
    "accelerator": "GPU"
  },
  "cells": [
    {
      "cell_type": "code",
      "metadata": {
        "id": "kf3rsHJ-XxAG",
        "colab_type": "code",
        "colab": {
          "base_uri": "https://localhost:8080/",
          "height": 374
        },
        "outputId": "70a07278-dafd-48d0-c991-cccded707957"
      },
      "source": [
        "!wget https://www.cs.toronto.edu/~kriz/cifar-10-python.tar.gz\n",
        "!mkdir data\n",
        "!tar -xvzf cifar-10-python.tar.gz -C data\n",
        "!rm cifar-10-python.tar.gz"
      ],
      "execution_count": 1,
      "outputs": [
        {
          "output_type": "stream",
          "text": [
            "--2020-06-06 07:14:25--  https://www.cs.toronto.edu/~kriz/cifar-10-python.tar.gz\n",
            "Resolving www.cs.toronto.edu (www.cs.toronto.edu)... 128.100.3.30\n",
            "Connecting to www.cs.toronto.edu (www.cs.toronto.edu)|128.100.3.30|:443... connected.\n",
            "HTTP request sent, awaiting response... 200 OK\n",
            "Length: 170498071 (163M) [application/x-gzip]\n",
            "Saving to: ‘cifar-10-python.tar.gz’\n",
            "\n",
            "cifar-10-python.tar 100%[===================>] 162.60M  31.5MB/s    in 5.8s    \n",
            "\n",
            "2020-06-06 07:14:31 (28.1 MB/s) - ‘cifar-10-python.tar.gz’ saved [170498071/170498071]\n",
            "\n",
            "mkdir: cannot create directory ‘data’: File exists\n",
            "cifar-10-batches-py/\n",
            "cifar-10-batches-py/data_batch_4\n",
            "cifar-10-batches-py/readme.html\n",
            "cifar-10-batches-py/test_batch\n",
            "cifar-10-batches-py/data_batch_3\n",
            "cifar-10-batches-py/batches.meta\n",
            "cifar-10-batches-py/data_batch_2\n",
            "cifar-10-batches-py/data_batch_5\n",
            "cifar-10-batches-py/data_batch_1\n"
          ],
          "name": "stdout"
        }
      ]
    },
    {
      "cell_type": "code",
      "metadata": {
        "id": "2DBBshj5X2wU",
        "colab_type": "code",
        "colab": {
          "base_uri": "https://localhost:8080/",
          "height": 68
        },
        "outputId": "69a503d5-fb87-4f2d-e806-e19cbbcc381b"
      },
      "source": [
        "!curl https://raw.githubusercontent.com/snatch59/load-cifar-10/master/load_cifar_10_alt.py > load_cifar.py"
      ],
      "execution_count": 2,
      "outputs": [
        {
          "output_type": "stream",
          "text": [
            "  % Total    % Received % Xferd  Average Speed   Time    Time     Time  Current\n",
            "                                 Dload  Upload   Total   Spent    Left  Speed\n",
            "100  3493  100  3493    0     0   7626      0 --:--:-- --:--:-- --:--:--  7626\n"
          ],
          "name": "stdout"
        }
      ]
    },
    {
      "cell_type": "code",
      "metadata": {
        "id": "8pKPt4tdX7vD",
        "colab_type": "code",
        "colab": {}
      },
      "source": [
        "from load_cifar import load_data\n",
        "import numpy as np\n",
        "from skimage.transform import resize\n",
        "import torchvision.models as models\n",
        "import torch\n",
        "import matplotlib.pyplot as plt"
      ],
      "execution_count": 0,
      "outputs": []
    },
    {
      "cell_type": "code",
      "metadata": {
        "id": "C3quq8LIX9YA",
        "colab_type": "code",
        "colab": {
          "base_uri": "https://localhost:8080/",
          "height": 34
        },
        "outputId": "4246b6ba-0079-4c9a-b206-c4e3267a3966"
      },
      "source": [
        "device = torch.device(\"cuda\" if torch.cuda.is_available() else \"cpu\")\n",
        "device"
      ],
      "execution_count": 4,
      "outputs": [
        {
          "output_type": "execute_result",
          "data": {
            "text/plain": [
              "device(type='cuda')"
            ]
          },
          "metadata": {
            "tags": []
          },
          "execution_count": 4
        }
      ]
    },
    {
      "cell_type": "code",
      "metadata": {
        "id": "1LNJKJTwX-7F",
        "colab_type": "code",
        "colab": {}
      },
      "source": [
        "cifar_10_dir = 'data/cifar-10-batches-py'\n",
        "(x_train, y_train), (x_test, y_test) = load_data(cifar_10_dir)"
      ],
      "execution_count": 0,
      "outputs": []
    },
    {
      "cell_type": "code",
      "metadata": {
        "id": "MNJGMiuBYAn4",
        "colab_type": "code",
        "colab": {}
      },
      "source": [
        "data_size = 1000\n",
        "x_train = x_train[:data_size]\n",
        "y_train = y_train[:data_size].reshape((data_size))\n",
        "del x_test\n",
        "del y_test"
      ],
      "execution_count": 0,
      "outputs": []
    },
    {
      "cell_type": "code",
      "metadata": {
        "id": "Oxl6x9jDYCL8",
        "colab_type": "code",
        "colab": {}
      },
      "source": [
        "def to_one_hot(x, num_classes):\n",
        "    b = np.zeros((len(x), num_classes), dtype=np.float32)\n",
        "    b[np.arange(len(x)), x] = 1\n",
        "    return b"
      ],
      "execution_count": 0,
      "outputs": []
    },
    {
      "cell_type": "code",
      "metadata": {
        "id": "qxhNv-9yYFTj",
        "colab_type": "code",
        "colab": {}
      },
      "source": [
        "x_train = torch.tensor(x_train.reshape(-1, 3, 32, 32), dtype=torch.float32) / 255\n",
        "y_train = torch.tensor(to_one_hot(y_train, 10))"
      ],
      "execution_count": 0,
      "outputs": []
    },
    {
      "cell_type": "code",
      "metadata": {
        "id": "KMwMa5KDelA4",
        "colab_type": "code",
        "colab": {
          "base_uri": "https://localhost:8080/",
          "height": 283
        },
        "outputId": "2fa0b9ca-9d58-4140-c6c3-5bebef5e5b08"
      },
      "source": [
        " plt.imshow((x_train[0]).reshape(32, 32, 3))"
      ],
      "execution_count": 74,
      "outputs": [
        {
          "output_type": "execute_result",
          "data": {
            "text/plain": [
              "<matplotlib.image.AxesImage at 0x7f9990bcfa20>"
            ]
          },
          "metadata": {
            "tags": []
          },
          "execution_count": 74
        },
        {
          "output_type": "display_data",
          "data": {
            "image/png": "[encoded data removed]",
            "text/plain": [
              "<Figure size 432x288 with 1 Axes>"
            ]
          },
          "metadata": {
            "tags": [],
            "needs_background": "light"
          }
        }
      ]
    },
    {
      "cell_type": "code",
      "metadata": {
        "id": "aTRwK6vxflgB",
        "colab_type": "code",
        "colab": {
          "base_uri": "https://localhost:8080/",
          "height": 408
        },
        "outputId": "85d5d38f-8ae0-4b3f-fe60-0845d3221b51"
      },
      "source": [
        "x_train[0]"
      ],
      "execution_count": 75,
      "outputs": [
        {
          "output_type": "execute_result",
          "data": {
            "text/plain": [
              "tensor([[[0.2314, 0.2431, 0.2471,  ..., 0.3647, 0.5137, 0.4039],\n",
              "         [0.3020, 0.4902, 0.3882,  ..., 0.4392, 0.2941, 0.5216],\n",
              "         [0.4118, 0.2706, 0.5333,  ..., 0.5804, 0.4863, 0.4039],\n",
              "         ...,\n",
              "         [0.2118, 0.1294, 0.3373,  ..., 0.5216, 0.3608, 0.2157],\n",
              "         [0.6039, 0.4784, 0.3686,  ..., 0.2667, 0.3137, 0.1569],\n",
              "         [0.0510, 0.3804, 0.2078,  ..., 0.3608, 0.2980, 0.6863]],\n",
              "\n",
              "        [[0.5059, 0.4157, 0.5569,  ..., 0.5255, 0.3647, 0.2235],\n",
              "         [0.5686, 0.4471, 0.3490,  ..., 0.2157, 0.4353, 0.2353],\n",
              "         [0.0549, 0.5725, 0.3373,  ..., 0.5882, 0.4431, 0.8196],\n",
              "         ...,\n",
              "         [0.3608, 0.6000, 0.4078,  ..., 0.4431, 0.2627, 0.6784],\n",
              "         [0.5882, 0.4392, 0.7922,  ..., 0.5333, 0.4667, 0.1961],\n",
              "         [0.5608, 0.4078, 0.2510,  ..., 0.5176, 0.6706, 0.5255]],\n",
              "\n",
              "        [[0.3882, 0.6471, 0.4510,  ..., 0.3961, 0.2157, 0.5333],\n",
              "         [0.3961, 0.2353, 0.5804,  ..., 0.7020, 0.6353, 0.3255],\n",
              "         [0.5529, 0.4000, 0.2549,  ..., 0.4196, 0.7412, 0.5922],\n",
              "         ...,\n",
              "         [0.6941, 0.5647, 0.4549,  ..., 0.3216, 0.6510, 0.5176],\n",
              "         [0.3373, 0.6392, 0.5020,  ..., 0.4118, 0.2706, 0.5647],\n",
              "         [0.3725, 0.2157, 0.4392,  ..., 0.4824, 0.3608, 0.2824]]])"
            ]
          },
          "metadata": {
            "tags": []
          },
          "execution_count": 75
        }
      ]
    },
    {
      "cell_type": "code",
      "metadata": {
        "id": "CYUXxn2MgECm",
        "colab_type": "code",
        "colab": {
          "base_uri": "https://localhost:8080/",
          "height": 34
        },
        "outputId": "f9c3cbc2-57ac-460b-8b9b-02ade3716823"
      },
      "source": [
        "torch.max(x_train[0])"
      ],
      "execution_count": 76,
      "outputs": [
        {
          "output_type": "execute_result",
          "data": {
            "text/plain": [
              "tensor(1.)"
            ]
          },
          "metadata": {
            "tags": []
          },
          "execution_count": 76
        }
      ]
    },
    {
      "cell_type": "code",
      "metadata": {
        "id": "knsSDRPcYHrL",
        "colab_type": "code",
        "colab": {}
      },
      "source": [
        "class CifarCNN (torch.nn.Module):\n",
        "  def __init__(self):\n",
        "    super().__init__()\n",
        "    self.cnn1 = torch.nn.Conv2d(3, 16, 3)  # 32 -> 30\n",
        "    self.cnn2 = torch.nn.Conv2d(16, 32, 3, stride=2)  # 30 -> 14\n",
        "    self.cnn3 = torch.nn.Conv2d(32, 64, 3)  # 12\n",
        "    self.cnn4 = torch.nn.Conv2d(64, 128, 3, stride=2)  # 5\n",
        "    self.linear1 = torch.nn.Linear(5 * 5 * 128, 1000)\n",
        "    self.linear2 = torch.nn.Linear(1000, 10)\n",
        "\n",
        "  def forward(self, x):\n",
        "    x = torch.nn.functional.relu(self.cnn1(x))\n",
        "    x = torch.nn.functional.relu(self.cnn2(x))\n",
        "    x = torch.nn.functional.relu(self.cnn3(x))\n",
        "    x = torch.nn.functional.relu(self.cnn4(x))\n",
        "    x = torch.flatten(x, start_dim=1)\n",
        "    x = torch.nn.functional.dropout(torch.nn.functional.relu(self.linear1(x)), 0.2)\n",
        "    x = torch.nn.functional.softmax(self.linear2(x))\n",
        "    return x  "
      ],
      "execution_count": 0,
      "outputs": []
    },
    {
      "cell_type": "code",
      "metadata": {
        "id": "DvwWS2mEZtdM",
        "colab_type": "code",
        "colab": {}
      },
      "source": [
        "model = CifarCNN().to(device)\n",
        "optimizer = torch.optim.Adam(model.parameters(), lr=1e-3)"
      ],
      "execution_count": 0,
      "outputs": []
    },
    {
      "cell_type": "code",
      "metadata": {
        "id": "yvWI62xgZudh",
        "colab_type": "code",
        "colab": {
          "base_uri": "https://localhost:8080/",
          "height": 1000
        },
        "outputId": "5a9f74cb-ac9c-40f6-8948-84e138115ac5"
      },
      "source": [
        "epochs = 100\n",
        "batch_size = 20\n",
        "for epoch in range(epochs):\n",
        "    losses = 0\n",
        "    for i in range(0, len(x_train), batch_size):\n",
        "        start_index = i\n",
        "        end_index = i+batch_size\n",
        "        \n",
        "        x_batch = x_train[start_index:end_index].to(device)\n",
        "        y_batch = y_train[start_index:end_index].to(device)\n",
        "\n",
        "        optimizer.zero_grad()\n",
        "        \n",
        "        y_hat = model(x_batch)\n",
        "        loss = torch.nn.functional.binary_cross_entropy(y_hat, y_batch)\n",
        "\n",
        "        loss.backward()\n",
        "        optimizer.step()\n",
        "\n",
        "        losses += float(loss)\n",
        "\n",
        "    print(loss.data.item())"
      ],
      "execution_count": 88,
      "outputs": [
        {
          "output_type": "stream",
          "text": [
            "/usr/local/lib/python3.6/dist-packages/ipykernel_launcher.py:18: UserWarning: Implicit dimension choice for softmax has been deprecated. Change the call to include dim=X as an argument.\n"
          ],
          "name": "stderr"
        },
        {
          "output_type": "stream",
          "text": [
            "0.3237142860889435\n",
            "0.31469637155532837\n",
            "0.31419628858566284\n",
            "0.2965695261955261\n",
            "0.283319890499115\n",
            "0.2852678894996643\n",
            "0.27334773540496826\n",
            "0.25995996594429016\n",
            "0.25812381505966187\n",
            "0.2409275770187378\n",
            "0.24959374964237213\n",
            "0.23828844726085663\n",
            "0.24024394154548645\n",
            "0.24341373145580292\n",
            "0.2378101348876953\n",
            "0.21670225262641907\n",
            "0.20769961178302765\n",
            "0.1947239637374878\n",
            "0.1722993105649948\n",
            "0.19037581980228424\n",
            "0.12231992185115814\n",
            "0.1339830905199051\n",
            "0.0834880918264389\n",
            "0.08238580822944641\n",
            "0.123847596347332\n",
            "0.17333918809890747\n",
            "0.043208785355091095\n",
            "0.123243547976017\n",
            "0.057195741683244705\n",
            "0.07126230001449585\n",
            "0.03999278321862221\n",
            "0.027647269889712334\n",
            "0.015712056308984756\n",
            "0.018865568563342094\n",
            "0.017627323046326637\n",
            "0.02069329284131527\n",
            "0.011945663020014763\n",
            "0.0011252632830291986\n",
            "0.0007540005026385188\n",
            "0.00037344530574046075\n",
            "0.0003894867259077728\n",
            "0.0002849164593499154\n",
            "0.00034980435157194734\n",
            "0.0007147103315219283\n",
            "0.00023349317780230194\n",
            "0.00010789336374728009\n",
            "0.00021260969515424222\n",
            "0.0005847139982506633\n",
            "0.00013258597755338997\n",
            "0.00019358991994522512\n",
            "0.0002660490572452545\n",
            "0.0002823724062182009\n",
            "4.136658026254736e-05\n",
            "0.00016416072321590036\n",
            "1.588679697306361e-05\n",
            "0.00015957174764480442\n",
            "0.00015270108997356147\n",
            "4.4347318180371076e-05\n",
            "0.00012377080565784127\n",
            "1.879625051515177e-05\n",
            "1.5153276763157919e-05\n",
            "3.551918416633271e-05\n",
            "6.17544719716534e-05\n",
            "3.461266896920279e-05\n",
            "4.4906235416419804e-05\n",
            "2.681416845007334e-05\n",
            "0.00010981940431520343\n",
            "3.9803195249987766e-05\n",
            "1.0047059731732588e-05\n",
            "5.5741325923008844e-05\n",
            "8.88724116521189e-06\n",
            "3.0571562092518434e-05\n",
            "8.318048458022531e-06\n",
            "0.0007009927066974342\n",
            "2.3604623493156396e-05\n",
            "2.1155952708795667e-05\n",
            "5.737542778661009e-06\n",
            "9.068540748558007e-06\n",
            "0.050857432186603546\n",
            "0.031531937420368195\n",
            "0.03932696580886841\n",
            "0.04037845879793167\n",
            "0.052377596497535706\n",
            "0.018793754279613495\n",
            "0.0052200318314135075\n",
            "0.013977060094475746\n",
            "0.0008237856673076749\n",
            "0.032671887427568436\n",
            "0.009514019824564457\n",
            "0.005416223779320717\n",
            "0.0007470223936252296\n",
            "0.00021774873312097043\n",
            "0.0005898044910281897\n",
            "8.561222784919664e-05\n",
            "3.0406637961277738e-05\n",
            "2.494530417607166e-05\n",
            "1.6451273040729575e-05\n",
            "3.971898331656121e-05\n",
            "3.2442869269289076e-05\n",
            "9.989523096010089e-05\n"
          ],
          "name": "stdout"
        }
      ]
    },
    {
      "cell_type": "code",
      "metadata": {
        "id": "LjbcUAx0cJYw",
        "colab_type": "code",
        "colab": {
          "base_uri": "https://localhost:8080/",
          "height": 385
        },
        "outputId": "01d8988e-f8b2-4670-92ee-2121403ab094"
      },
      "source": [
        "with torch.no_grad():\n",
        "  index = 5\n",
        "  x_test = x_train[index: index+2].to(device)\n",
        "  y_test = y_train[index: index+2]\n",
        "  plt.imshow(x_test[0].to('cpu').reshape(32, 32, 3))\n",
        "  print(y_test)\n",
        "\n",
        "  y_hat = model(x_test)\n",
        "  \n",
        "  print(y_hat)"
      ],
      "execution_count": 89,
      "outputs": [
        {
          "output_type": "stream",
          "text": [
            "tensor([[0., 1., 0., 0., 0., 0., 0., 0., 0., 0.],\n",
            "        [0., 0., 1., 0., 0., 0., 0., 0., 0., 0.]])\n",
            "tensor([[3.8487e-14, 1.0000e+00, 3.8966e-20, 2.3054e-10, 1.8425e-12, 2.1840e-22,\n",
            "         2.4841e-10, 1.8258e-11, 9.2829e-14, 1.7373e-10],\n",
            "        [6.0727e-10, 5.1713e-07, 9.9997e-01, 1.2054e-09, 8.1262e-07, 2.9341e-09,\n",
            "         2.5521e-05, 4.3117e-10, 5.7194e-07, 7.6654e-15]], device='cuda:0')\n"
          ],
          "name": "stdout"
        },
        {
          "output_type": "stream",
          "text": [
            "/usr/local/lib/python3.6/dist-packages/ipykernel_launcher.py:18: UserWarning: Implicit dimension choice for softmax has been deprecated. Change the call to include dim=X as an argument.\n"
          ],
          "name": "stderr"
        },
        {
          "output_type": "display_data",
          "data": {
            "image/png": "[encoded data removed]",
            "text/plain": [
              "<Figure size 432x288 with 1 Axes>"
            ]
          },
          "metadata": {
            "tags": [],
            "needs_background": "light"
          }
        }
      ]
    },
    {
      "cell_type": "code",
      "metadata": {
        "id": "8qz_NujyeUVg",
        "colab_type": "code",
        "colab": {}
      },
      "source": [
        ""
      ],
      "execution_count": 0,
      "outputs": []
    }
  ]
}