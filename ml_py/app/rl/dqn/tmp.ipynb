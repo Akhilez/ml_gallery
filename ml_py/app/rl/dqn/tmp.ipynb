{
 "cells": [
  {
   "cell_type": "code",
   "execution_count": 67,
   "metadata": {
    "collapsed": true
   },
   "outputs": [],
   "source": [
    "import gym\n",
    "import griddly\n",
    "from griddly import gd\n",
    "import matplotlib.pyplot as plt\n",
    "import numpy as np\n",
    "import itertools"
   ]
  },
  {
   "cell_type": "code",
   "execution_count": 3,
   "outputs": [],
   "source": [
    "# env = gym.make(f\"GDY-Sokoban-v0\", global_observer_type=gd.ObserverType.VECTOR)\n",
    "env = gym.make('GDY-Sokoban-v0', global_observer_type=gd.ObserverType.VECTOR, player_observer_type=gd.ObserverType.VECTOR)"
   ],
   "metadata": {
    "collapsed": false,
    "pycharm": {
     "name": "#%%\n"
    }
   }
  },
  {
   "cell_type": "code",
   "execution_count": 4,
   "outputs": [
    {
     "data": {
      "text/plain": "(4, 13, 9)"
     },
     "execution_count": 4,
     "metadata": {},
     "output_type": "execute_result"
    }
   ],
   "source": [
    "state = env.reset()\n",
    "state.shape"
   ],
   "metadata": {
    "collapsed": false,
    "pycharm": {
     "name": "#%%\n"
    }
   }
  },
  {
   "cell_type": "code",
   "execution_count": 54,
   "outputs": [
    {
     "data": {
      "text/plain": "(13, 9, 4)"
     },
     "execution_count": 54,
     "metadata": {},
     "output_type": "execute_result"
    }
   ],
   "source": [
    "x = np.moveaxis(state, 0, -1)\n",
    "x.shape"
   ],
   "metadata": {
    "collapsed": false,
    "pycharm": {
     "name": "#%%\n"
    }
   }
  },
  {
   "cell_type": "code",
   "execution_count": 11,
   "outputs": [
    {
     "data": {
      "text/plain": "<matplotlib.image.AxesImage at 0x12f7b9430>"
     },
     "execution_count": 11,
     "metadata": {},
     "output_type": "execute_result"
    },
    {
     "data": {
      "text/plain": "<Figure size 432x288 with 1 Axes>",
      "image/png": "[encoded data removed]"
     },
     "metadata": {
      "needs_background": "light"
     },
     "output_type": "display_data"
    }
   ],
   "source": [
    "plt.imshow(state)"
   ],
   "metadata": {
    "collapsed": false,
    "pycharm": {
     "name": "#%%\n"
    }
   }
  },
  {
   "cell_type": "code",
   "execution_count": 14,
   "outputs": [
    {
     "name": "stdout",
     "output_type": "stream",
     "text": [
      "Discrete(5)\n",
      "Box(0, 255, (4, 13, 9), uint8)\n"
     ]
    }
   ],
   "source": [
    "print(env.action_space)\n",
    "print(env.observation_space)\n",
    "# env.render()"
   ],
   "metadata": {
    "collapsed": false,
    "pycharm": {
     "name": "#%%\n"
    }
   }
  },
  {
   "cell_type": "code",
   "execution_count": 40,
   "outputs": [
    {
     "data": {
      "text/plain": "{(5, 5): {'move'}, (7, 5): {'move'}, (5, 2): {'move'}, (7, 3): {'move'}}"
     },
     "execution_count": 40,
     "metadata": {},
     "output_type": "execute_result"
    }
   ],
   "source": [
    "env.game.get_available_actions(0)"
   ],
   "metadata": {
    "collapsed": false,
    "pycharm": {
     "name": "#%%\n"
    }
   }
  },
  {
   "cell_type": "code",
   "execution_count": 9,
   "outputs": [],
   "source": [
    "state = env.render(mode='rgb_array')"
   ],
   "metadata": {
    "collapsed": false,
    "pycharm": {
     "name": "#%%\n"
    }
   }
  },
  {
   "cell_type": "code",
   "execution_count": 28,
   "outputs": [
    {
     "data": {
      "text/plain": "1"
     },
     "execution_count": 28,
     "metadata": {},
     "output_type": "execute_result"
    }
   ],
   "source": [
    "env.action_space.sample()"
   ],
   "metadata": {
    "collapsed": false,
    "pycharm": {
     "name": "#%%\n"
    }
   }
  },
  {
   "cell_type": "code",
   "execution_count": 31,
   "outputs": [
    {
     "data": {
      "text/plain": "<matplotlib.image.AxesImage at 0x12fee5670>"
     },
     "execution_count": 31,
     "metadata": {},
     "output_type": "execute_result"
    },
    {
     "data": {
      "text/plain": "<Figure size 432x288 with 1 Axes>",
      "image/png": "[encoded data removed]"
     },
     "metadata": {
      "needs_background": "light"
     },
     "output_type": "display_data"
    }
   ],
   "source": [
    "env.step(0)\n",
    "plt.imshow(env.render('rgb_array'))"
   ],
   "metadata": {
    "collapsed": false,
    "pycharm": {
     "name": "#%%\n"
    }
   }
  },
  {
   "cell_type": "code",
   "execution_count": 47,
   "outputs": [
    {
     "data": {
      "text/plain": "(array([[[0, 0, 0, 0, 0, 0, 0, 0, 0],\n         [0, 0, 0, 0, 0, 0, 0, 0, 0],\n         [0, 0, 0, 0, 0, 0, 0, 0, 0],\n         [0, 0, 0, 0, 0, 0, 0, 0, 0],\n         [0, 0, 0, 0, 0, 0, 0, 0, 0],\n         [0, 0, 1, 0, 0, 1, 0, 0, 0],\n         [0, 0, 0, 0, 0, 0, 0, 0, 0],\n         [0, 0, 0, 1, 0, 1, 0, 0, 0],\n         [0, 0, 0, 0, 0, 0, 0, 0, 0],\n         [0, 0, 0, 0, 0, 0, 0, 0, 0],\n         [0, 0, 0, 0, 0, 0, 0, 0, 0],\n         [0, 0, 0, 0, 0, 0, 0, 0, 0],\n         [0, 0, 0, 0, 0, 0, 0, 0, 0]],\n \n        [[0, 0, 0, 0, 0, 0, 0, 0, 0],\n         [0, 1, 1, 1, 1, 1, 1, 1, 0],\n         [0, 1, 0, 0, 0, 0, 0, 1, 0],\n         [0, 1, 0, 0, 0, 0, 0, 1, 0],\n         [0, 1, 0, 0, 0, 0, 0, 1, 0],\n         [0, 1, 0, 0, 0, 0, 0, 1, 0],\n         [0, 1, 0, 0, 0, 0, 0, 1, 0],\n         [0, 1, 0, 0, 0, 0, 0, 1, 0],\n         [0, 1, 0, 0, 0, 0, 0, 1, 0],\n         [0, 1, 0, 0, 0, 0, 0, 1, 0],\n         [0, 1, 0, 0, 0, 0, 0, 1, 0],\n         [0, 1, 1, 1, 1, 1, 1, 1, 0],\n         [0, 0, 0, 0, 0, 0, 0, 0, 0]],\n \n        [[1, 1, 1, 1, 1, 1, 1, 1, 1],\n         [1, 0, 0, 0, 0, 0, 0, 0, 1],\n         [1, 0, 0, 0, 0, 0, 0, 0, 1],\n         [1, 0, 0, 0, 0, 0, 0, 0, 1],\n         [1, 0, 0, 0, 0, 0, 0, 0, 1],\n         [1, 0, 0, 0, 0, 0, 0, 0, 1],\n         [1, 0, 0, 0, 0, 0, 0, 0, 1],\n         [1, 0, 0, 0, 0, 0, 0, 0, 1],\n         [1, 0, 0, 0, 0, 0, 0, 0, 1],\n         [1, 0, 0, 0, 0, 0, 0, 0, 1],\n         [1, 0, 0, 0, 0, 0, 0, 0, 1],\n         [1, 0, 0, 0, 0, 0, 0, 0, 1],\n         [1, 1, 1, 1, 1, 1, 1, 1, 1]],\n \n        [[0, 0, 0, 0, 0, 0, 0, 0, 0],\n         [0, 0, 0, 0, 0, 0, 0, 0, 0],\n         [0, 0, 0, 0, 0, 0, 0, 0, 0],\n         [0, 0, 0, 0, 0, 0, 0, 0, 0],\n         [0, 0, 0, 0, 0, 0, 0, 0, 0],\n         [0, 0, 0, 0, 1, 0, 0, 0, 0],\n         [0, 0, 0, 0, 0, 0, 0, 0, 0],\n         [0, 0, 0, 0, 0, 0, 0, 0, 0],\n         [0, 0, 0, 0, 0, 0, 0, 0, 0],\n         [0, 0, 0, 0, 0, 0, 0, 0, 0],\n         [0, 0, 0, 0, 0, 0, 0, 0, 0],\n         [0, 0, 0, 0, 0, 0, 0, 0, 0],\n         [0, 0, 0, 0, 0, 0, 0, 0, 0]]], dtype=uint8),\n 0,\n False,\n {})"
     },
     "execution_count": 47,
     "metadata": {},
     "output_type": "execute_result"
    },
    {
     "data": {
      "text/plain": "<Figure size 432x288 with 1 Axes>",
      "image/png": "[encoded data removed]"
     },
     "metadata": {
      "needs_background": "light"
     },
     "output_type": "display_data"
    }
   ],
   "source": [
    "x = env.step(1)\n",
    "plt.imshow(env.render('rgb_array'))\n",
    "x"
   ],
   "metadata": {
    "collapsed": false,
    "pycharm": {
     "name": "#%%\n"
    }
   }
  },
  {
   "cell_type": "code",
   "execution_count": 44,
   "outputs": [
    {
     "data": {
      "text/plain": "'\\n0:\\n1: left\\n2; up\\n3: right\\n4: down\\n'"
     },
     "execution_count": 44,
     "metadata": {},
     "output_type": "execute_result"
    }
   ],
   "source": [
    "\"\"\"\n",
    "0:\n",
    "1: left\n",
    "2; up\n",
    "3: right\n",
    "4: down\n",
    "\"\"\""
   ],
   "metadata": {
    "collapsed": false,
    "pycharm": {
     "name": "#%%\n"
    }
   }
  },
  {
   "cell_type": "code",
   "execution_count": 73,
   "outputs": [
    {
     "data": {
      "text/plain": "[1, 2, 3, 4]"
     },
     "execution_count": 73,
     "metadata": {},
     "output_type": "execute_result"
    }
   ],
   "source": [
    "available_actions = env.game.get_available_actions(1)\n",
    "location = list(available_actions.keys())[0]\n",
    "action = list(available_actions[location])\n",
    "valid_actions = env.game.get_available_action_ids(location, action)\n",
    "valid_actions = list(itertools.chain(*valid_actions.values()))\n",
    "valid_actions\n"
   ],
   "metadata": {
    "collapsed": false,
    "pycharm": {
     "name": "#%%\n"
    }
   }
  },
  {
   "cell_type": "code",
   "execution_count": null,
   "outputs": [],
   "source": [],
   "metadata": {
    "collapsed": false,
    "pycharm": {
     "name": "#%%\n"
    }
   }
  }
 ],
 "metadata": {
  "kernelspec": {
   "display_name": "Python 3",
   "language": "python",
   "name": "python3"
  },
  "language_info": {
   "codemirror_mode": {
    "name": "ipython",
    "version": 2
   },
   "file_extension": ".py",
   "mimetype": "text/x-python",
   "name": "python",
   "nbconvert_exporter": "python",
   "pygments_lexer": "ipython2",
   "version": "2.7.6"
  }
 },
 "nbformat": 4,
 "nbformat_minor": 0
}