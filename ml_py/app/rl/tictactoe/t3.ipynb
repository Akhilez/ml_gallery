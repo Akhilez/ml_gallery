{
 "cells": [
  {
   "cell_type": "code",
   "execution_count": 1,
   "metadata": {
    "collapsed": true
   },
   "outputs": [],
   "source": [
    "from app.rl.tictactoe.t3_test import T3Model, convert_inputs\n",
    "from gym_tic_tac_toe.envs.tic_tac_toe_env import TicTacToeEnv, Pix\n",
    "import torch\n",
    "from torch.nn import functional as F\n",
    "import numpy as np"
   ]
  },
  {
   "cell_type": "code",
   "execution_count": 2,
   "outputs": [],
   "source": [
    "device = 'cuda' if torch.cuda.is_available() else 'cpu'"
   ],
   "metadata": {
    "collapsed": false,
    "pycharm": {
     "name": "#%%\n"
    }
   }
  },
  {
   "cell_type": "code",
   "execution_count": 3,
   "outputs": [
    {
     "name": "stdout",
     "output_type": "stream",
     "text": [
      "XOX\n",
      "__O\n",
      "___\n",
      "\n"
     ]
    }
   ],
   "source": [
    "env = TicTacToeEnv()\n",
    "env.reset()\n",
    "env.step(0)\n",
    "env.step(1)\n",
    "env.step(2)\n",
    "env.step(5)\n",
    "env.render()"
   ],
   "metadata": {
    "collapsed": false,
    "pycharm": {
     "name": "#%%\n"
    }
   }
  },
  {
   "cell_type": "code",
   "execution_count": 4,
   "outputs": [],
   "source": [
    "model = T3Model(8).double().to(device)"
   ],
   "metadata": {
    "collapsed": false,
    "pycharm": {
     "name": "#%%\n"
    }
   }
  },
  {
   "cell_type": "code",
   "execution_count": 5,
   "outputs": [
    {
     "data": {
      "text/plain": "torch.Size([9, 2])"
     },
     "execution_count": 5,
     "metadata": {},
     "output_type": "execute_result"
    }
   ],
   "source": [
    "x = convert_inputs(env.state, env.player)\n",
    "x = torch.stack((x, x))\n",
    "x.T.shape"
   ],
   "metadata": {
    "collapsed": false,
    "pycharm": {
     "name": "#%%\n"
    }
   }
  },
  {
   "cell_type": "code",
   "execution_count": 6,
   "outputs": [
    {
     "data": {
      "text/plain": "torch.Size([2, 9])"
     },
     "execution_count": 6,
     "metadata": {},
     "output_type": "execute_result"
    }
   ],
   "source": [
    "y = model(x)\n",
    "y.shape"
   ],
   "metadata": {
    "collapsed": false,
    "pycharm": {
     "name": "#%%\n"
    }
   }
  },
  {
   "cell_type": "code",
   "execution_count": null,
   "outputs": [],
   "source": [
    "def get_loss(probs, rewards, is_dones):\n",
    "    pass\n",
    "\n",
    "\n",
    "model.train()\n",
    "optim = torch.optim.Adam(model.parameters(), lr=1e-2)\n",
    "batch_size = 2\n",
    "envs = [TicTacToeEnv() for _ in range(batch_size)]\n",
    "losses = []\n",
    "\n",
    "for epoch in range(10):\n",
    "\n",
    "    rewards = []\n",
    "    probs = []\n",
    "    is_dones = []\n",
    "\n",
    "    # Monte Carlo loop\n",
    "    while True:\n",
    "\n",
    "        states = [env.reset() for env in envs]\n",
    "        xs = [convert_inputs(states[i], envs[i].player) for i in range(batch_size)]\n",
    "        xs = torch.tensor(xs).double().to(device)\n",
    "        legal_actions = [env.get_legal_actions() for env in envs]\n",
    "\n",
    "        yh = model(xs)  # yh shape: (batch, 9)\n",
    "\n",
    "        action_idx = []\n",
    "        rewards_t = []\n",
    "        is_dones_t = []\n",
    "        for i in range(batch_size):\n",
    "            if is_dones[-1][i]:\n",
    "                action_i, reward, is_done = None, None, None\n",
    "            else:\n",
    "                action_i = int(torch.multinomial(yh[i, legal_actions[i]], 1).squeeze())\n",
    "                state, reward, is_done, info = env.step(action_i)\n",
    "\n",
    "            action_idx.append(action_i)\n",
    "            rewards_t.append(reward)\n",
    "            is_dones_t.append(is_done)\n",
    "\n",
    "        probs.append(yh[range(batch_size), action_idx])\n",
    "        rewards.append(rewards_t)\n",
    "        is_dones.append(is_dones_t)\n",
    "        \n",
    "        if all(is_dones_t):\n",
    "            break\n",
    "        \n",
    "    loss = get_loss(probs, rewards, is_dones)\n",
    "    \n",
    "    optim.zero_grad()\n",
    "    loss.backward()\n",
    "    optim.step()\n",
    "    losses.append(loss.item())"
   ],
   "metadata": {
    "collapsed": false,
    "pycharm": {
     "name": "#%%\n"
    }
   }
  },
  {
   "cell_type": "code",
   "execution_count": 7,
   "outputs": [
    {
     "data": {
      "text/plain": "array([3, 4, 6, 7, 8])"
     },
     "execution_count": 7,
     "metadata": {},
     "output_type": "execute_result"
    }
   ],
   "source": [
    "la = env.get_legal_actions()\n",
    "la"
   ],
   "metadata": {
    "collapsed": false,
    "pycharm": {
     "name": "#%%\n"
    }
   }
  },
  {
   "cell_type": "code",
   "execution_count": 8,
   "outputs": [
    {
     "data": {
      "text/plain": "(torch.Size([2, 9]), (5,))"
     },
     "execution_count": 8,
     "metadata": {},
     "output_type": "execute_result"
    }
   ],
   "source": [
    "y.shape, la.shape"
   ],
   "metadata": {
    "collapsed": false,
    "pycharm": {
     "name": "#%%\n"
    }
   }
  },
  {
   "cell_type": "code",
   "execution_count": 9,
   "outputs": [
    {
     "data": {
      "text/plain": "tensor([0.0200, 0.0341, 0.0000, 0.0000, 0.0000, 0.0646, 0.0000, 0.0181, 0.0000],\n       dtype=torch.float64, grad_fn=<SelectBackward>)"
     },
     "execution_count": 9,
     "metadata": {},
     "output_type": "execute_result"
    }
   ],
   "source": [
    "y[0]"
   ],
   "metadata": {
    "collapsed": false,
    "pycharm": {
     "name": "#%%\n"
    }
   }
  },
  {
   "cell_type": "code",
   "execution_count": 14,
   "outputs": [
    {
     "data": {
      "text/plain": "tensor([1])"
     },
     "execution_count": 14,
     "metadata": {},
     "output_type": "execute_result"
    }
   ],
   "source": [
    "idx=torch.multinomial(y[0], 1)\n",
    "idx"
   ],
   "metadata": {
    "collapsed": false,
    "pycharm": {
     "name": "#%%\n"
    }
   }
  },
  {
   "cell_type": "code",
   "execution_count": 15,
   "outputs": [
    {
     "data": {
      "text/plain": "tensor([0.0341], dtype=torch.float64, grad_fn=<IndexBackward>)"
     },
     "execution_count": 15,
     "metadata": {},
     "output_type": "execute_result"
    }
   ],
   "source": [
    "y[0, idx]"
   ],
   "metadata": {
    "collapsed": false,
    "pycharm": {
     "name": "#%%\n"
    }
   }
  },
  {
   "cell_type": "code",
   "execution_count": null,
   "outputs": [],
   "source": [],
   "metadata": {
    "collapsed": false,
    "pycharm": {
     "name": "#%%\n"
    }
   }
  }
 ],
 "metadata": {
  "kernelspec": {
   "display_name": "Python 3",
   "language": "python",
   "name": "python3"
  },
  "language_info": {
   "codemirror_mode": {
    "name": "ipython",
    "version": 2
   },
   "file_extension": ".py",
   "mimetype": "text/x-python",
   "name": "python",
   "nbconvert_exporter": "python",
   "pygments_lexer": "ipython2",
   "version": "2.7.6"
  }
 },
 "nbformat": 4,
 "nbformat_minor": 0
}