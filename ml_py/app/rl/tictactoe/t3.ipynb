{
 "cells": [
  {
   "cell_type": "code",
   "execution_count": 1,
   "metadata": {
    "collapsed": true
   },
   "outputs": [],
   "source": [
    "from app.rl.tictactoe.t3_test import T3Model, convert_inputs\n",
    "from gym_tic_tac_toe.envs.tic_tac_toe_env import TicTacToeEnv, Pix\n",
    "import torch\n",
    "from torch.nn import functional as F\n",
    "import matplotlib.pyplot as plt"
   ]
  },
  {
   "cell_type": "code",
   "execution_count": 2,
   "outputs": [],
   "source": [
    "device = 'cuda' if torch.cuda.is_available() else 'cpu'"
   ],
   "metadata": {
    "collapsed": false,
    "pycharm": {
     "name": "#%%\n"
    }
   }
  },
  {
   "cell_type": "code",
   "execution_count": 3,
   "outputs": [],
   "source": [
    "model = T3Model(8).double().to(device)"
   ],
   "metadata": {
    "collapsed": false,
    "pycharm": {
     "name": "#%%\n"
    }
   }
  },
  {
   "cell_type": "code",
   "execution_count": 17,
   "outputs": [
    {
     "name": "stdout",
     "output_type": "stream",
     "text": [
      "99, 199, 299, 399, 499, 599, 699, 799, 899, 999, "
     ]
    },
    {
     "data": {
      "text/plain": "<Figure size 432x288 with 1 Axes>",
      "image/png": "[encoded data removed]"
     },
     "metadata": {
      "needs_background": "light"
     },
     "output_type": "display_data"
    }
   ],
   "source": [
    "def get_credits(t, gamma):\n",
    "    credits = []\n",
    "    prev_credit = 1\n",
    "    for i in range(t):\n",
    "        credits.append(prev_credit)\n",
    "        prev_credit *= gamma\n",
    "    return torch.tensor(list(reversed(credits))).double().to(device)\n",
    "\n",
    "\n",
    "def get_returns(stats, gamma):\n",
    "    total_t = len(stats)\n",
    "    returns = []\n",
    "    prev_return = 0\n",
    "    for t in range(total_t):\n",
    "        prev_return = stats[total_t - t -1][1] + (gamma * prev_return)\n",
    "        returns.append(prev_return)\n",
    "    return torch.tensor(list(reversed(returns))).double().to(device)\n",
    "\n",
    "\n",
    "def get_loss(stats):\n",
    "    loss = 0\n",
    "    for i_env in range(len(stats)):\n",
    "        returns = get_returns(stats[i_env], gamma=0.98)\n",
    "\n",
    "        probs = torch.stack([stat[0] for stat in stats[i_env]])\n",
    "        probs = torch.log(probs)\n",
    "\n",
    "        credits = get_credits(len(stats[i_env]), gamma=0.95)\n",
    "\n",
    "        loss += torch.sum(probs * credits * returns) / len(stats[i_env])\n",
    "    return -1 * loss / len(stats)\n",
    "\n",
    "\n",
    "def train():\n",
    "    model.train()\n",
    "    optim = torch.optim.Adam(model.parameters(), lr=1e-1)\n",
    "    batch_size = 2\n",
    "    envs = [TicTacToeEnv() for _ in range(batch_size)]\n",
    "    losses = []\n",
    "\n",
    "    for epoch in range(1000):\n",
    "\n",
    "        stats = [[] for _ in range(batch_size)]\n",
    "        is_dones = [False for _ in range(batch_size)]\n",
    "        _ = [env.reset() for env in envs]\n",
    "\n",
    "        # Monte Carlo loop\n",
    "        for i_step in range(15):\n",
    "\n",
    "            legal_actions = [env.get_legal_actions() for env in envs]\n",
    "\n",
    "            if i_step % 2 == 0:\n",
    "                for i in range(batch_size):\n",
    "                    random_idx = int(torch.randint(low=0, high=len(legal_actions[i]), size=(1,))[0])\n",
    "                    action = legal_actions[i][random_idx]\n",
    "                    _, _, is_done, _ = envs[i].step(action)\n",
    "                    is_dones[i] = is_done\n",
    "\n",
    "            else:\n",
    "                xs = [convert_inputs(envs[i].state, envs[i].player) for i in range(batch_size)]\n",
    "                xs = torch.stack(xs).long().to(device)\n",
    "\n",
    "                yh = model(xs)  # yh shape: (batch, 9)\n",
    "\n",
    "                for i in range(batch_size):\n",
    "                    if not is_dones[i]:\n",
    "                        legal_probs = F.softmax(yh[i, legal_actions[i]], 0)\n",
    "                        action_idx = int(torch.multinomial(legal_probs, 1).squeeze())\n",
    "                        state, reward, is_done, info = envs[i].step(legal_actions[i][action_idx])\n",
    "                        prob = legal_probs[action_idx]\n",
    "\n",
    "                        stats[i].append([prob, reward])\n",
    "                        is_dones[i] = is_done\n",
    "\n",
    "            if all(is_dones):\n",
    "                break\n",
    "\n",
    "        loss = get_loss(stats)\n",
    "\n",
    "        optim.zero_grad()\n",
    "        loss.backward()\n",
    "        optim.step()\n",
    "        losses.append(loss.item())\n",
    "        if (epoch + 1) % 100 == 0:\n",
    "            print(epoch, end=', ')\n",
    "        if (epoch + 1) % 1000 == 0:\n",
    "            plt.plot(losses)\n",
    "            plt.show()\n",
    "\n",
    "train()"
   ],
   "metadata": {
    "collapsed": false,
    "pycharm": {
     "name": "#%%\n"
    }
   }
  },
  {
   "cell_type": "code",
   "execution_count": 16,
   "outputs": [
    {
     "data": {
      "text/plain": "tensor(3)"
     },
     "execution_count": 16,
     "metadata": {},
     "output_type": "execute_result"
    }
   ],
   "source": [],
   "metadata": {
    "collapsed": false,
    "pycharm": {
     "name": "#%%\n"
    }
   }
  },
  {
   "cell_type": "code",
   "execution_count": null,
   "outputs": [],
   "source": [],
   "metadata": {
    "collapsed": false,
    "pycharm": {
     "name": "#%%\n"
    }
   }
  }
 ],
 "metadata": {
  "kernelspec": {
   "display_name": "Python 3",
   "language": "python",
   "name": "python3"
  },
  "language_info": {
   "codemirror_mode": {
    "name": "ipython",
    "version": 2
   },
   "file_extension": ".py",
   "mimetype": "text/x-python",
   "name": "python",
   "nbconvert_exporter": "python",
   "pygments_lexer": "ipython2",
   "version": "2.7.6"
  }
 },
 "nbformat": 4,
 "nbformat_minor": 0
}