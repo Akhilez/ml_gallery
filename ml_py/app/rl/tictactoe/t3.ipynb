{
 "cells": [
  {
   "cell_type": "code",
   "execution_count": 32,
   "metadata": {
    "collapsed": true
   },
   "outputs": [],
   "source": [
    "from gym_tic_tac_toe.envs.tic_tac_toe_env import TicTacToeEnv, Pix\n",
    "import numpy as np\n",
    "import torch\n",
    "from torch import nn\n",
    "from torch.nn import functional as F"
   ]
  },
  {
   "cell_type": "code",
   "execution_count": 33,
   "outputs": [],
   "source": [
    "device = 'cuda' if torch.cuda.is_available() else 'cpu'"
   ],
   "metadata": {
    "collapsed": false,
    "pycharm": {
     "name": "#%%\n"
    }
   }
  },
  {
   "cell_type": "code",
   "execution_count": 55,
   "outputs": [],
   "source": [
    "def convert_inputs(state, me):\n",
    "    # type: (np.ndarray, [Pix.X, Pix.O]) -> np.ndarray\n",
    "    # state: ndarray of shape (batch, 3, 3, 3)\n",
    "    # Converts all pieces of current player to 1, opponent to 2 and empty space to 0\n",
    "\n",
    "    me, opponent = [1, 2] if me == Pix.X else [2, 1]\n",
    "\n",
    "    state = state.argmax(2)\n",
    "\n",
    "    state[state == me] = 10\n",
    "    state[state == opponent] = 20\n",
    "\n",
    "    return torch.tensor((state // 10).flatten()).to(device)"
   ],
   "metadata": {
    "collapsed": false,
    "pycharm": {
     "name": "#%%\n"
    }
   }
  },
  {
   "cell_type": "code",
   "execution_count": 56,
   "outputs": [
    {
     "name": "stdout",
     "output_type": "stream",
     "text": [
      "XOX\n",
      "__O\n",
      "___\n",
      "\n"
     ]
    }
   ],
   "source": [
    "env = TicTacToeEnv()\n",
    "env.reset()\n",
    "env.step(0)\n",
    "env.step(1)\n",
    "env.step(2)\n",
    "env.step(5)\n",
    "env.render()"
   ],
   "metadata": {
    "collapsed": false,
    "pycharm": {
     "name": "#%%\n"
    }
   }
  },
  {
   "cell_type": "code",
   "execution_count": 91,
   "outputs": [],
   "source": [
    "class SelfAttention(nn.Module):\n",
    "    def __init__(self, embed_dim):\n",
    "        # type: (int) -> None\n",
    "        super().__init__()\n",
    "        self.key = nn.Linear(embed_dim, embed_dim)\n",
    "        self.value = nn.Linear(embed_dim, embed_dim)\n",
    "        self.attention = nn.MultiheadAttention(embed_dim, 1, 0.3)\n",
    "\n",
    "    def forward(self, x):\n",
    "        \"\"\"\n",
    "        x: tensor of shape (batch, seq_len, embed_dim)\n",
    "        \"\"\"\n",
    "        key = F.leaky_relu(self.key(x))  # Shape: (batch, seq, embed)\n",
    "        value = F.leaky_relu(self.value(x))  # Shape: (batch, seq, embed)\n",
    "\n",
    "        return self.attention(x, key, value)\n",
    "\n",
    "\n",
    "class Model(nn.Module):\n",
    "    def __init__(self, embed_dim):\n",
    "        super().__init__()\n",
    "        self.piece_embed = nn.Embedding(num_embeddings=3, embedding_dim=embed_dim)\n",
    "        self.pos_embed = nn.Embedding(num_embeddings=9, embedding_dim=embed_dim)\n",
    "\n",
    "        self.linear1 = nn.Linear(2 * embed_dim, embed_dim)\n",
    "\n",
    "        self.attention1 = SelfAttention(embed_dim)\n",
    "        self.attention2 = SelfAttention(embed_dim)\n",
    "\n",
    "        self.linear2 = nn.Linear(9 * embed_dim, 64)\n",
    "        self.linear3 = nn.Linear(64, 9)\n",
    "\n",
    "    def forward(self, x):\n",
    "        \"\"\"\n",
    "        x: int tensor of shape (batch_size, seq_len)\n",
    "        \"\"\"\n",
    "        batch_size = len(x)\n",
    "        pos = torch.arange(9).unsqueeze(0).expand((batch_size, 9)).T\n",
    "        pos_embed = self.pos_embed(pos)  # shape: (seq, batch, embed)\n",
    "\n",
    "        x_embed = self.piece_embed(x.flatten(1).T)  # shape: (seq, batch, embed)\n",
    "\n",
    "        x = torch.cat((x_embed, pos_embed), 2)  # shape: (seq, batch, 2 * embed)\n",
    "\n",
    "        x = F.leaky_relu(self.linear1(x))  # shape: (seq, batch, embed)\n",
    "        x = F.dropout(x, 0.3)\n",
    "\n",
    "        x = F.leaky_relu(self.attention1(x)[0])\n",
    "        x = F.dropout(x, 0.3)\n",
    "\n",
    "        x = F.leaky_relu(self.attention2(x)[0])  # shape: (seq, batch, embed)\n",
    "        x = F.dropout(x, 0.3)\n",
    "\n",
    "        # Flatten the sequence\n",
    "        x = x.transpose(0, 1).flatten(1)\n",
    "\n",
    "        x = F.leaky_relu(self.linear2(x))\n",
    "        x = F.dropout(x, 0.3)\n",
    "\n",
    "        x = torch.softmax(self.linear3(x), 1)\n",
    "        return x\n",
    "\n",
    "\n",
    "model = Model(8).double().to(device)"
   ],
   "metadata": {
    "collapsed": false,
    "pycharm": {
     "name": "#%%\n"
    }
   }
  },
  {
   "cell_type": "code",
   "execution_count": 92,
   "outputs": [
    {
     "data": {
      "text/plain": "torch.Size([9, 2])"
     },
     "execution_count": 92,
     "metadata": {},
     "output_type": "execute_result"
    }
   ],
   "source": [
    "x = convert_inputs(env.state, env.player).flatten()\n",
    "x = torch.stack((x, x))\n",
    "x.T.shape"
   ],
   "metadata": {
    "collapsed": false,
    "pycharm": {
     "name": "#%%\n"
    }
   }
  },
  {
   "cell_type": "code",
   "execution_count": 94,
   "outputs": [
    {
     "data": {
      "text/plain": "torch.Size([2, 9])"
     },
     "execution_count": 94,
     "metadata": {},
     "output_type": "execute_result"
    }
   ],
   "source": [
    "y = model(x)\n",
    "y.shape"
   ],
   "metadata": {
    "collapsed": false,
    "pycharm": {
     "name": "#%%\n"
    }
   }
  },
  {
   "cell_type": "code",
   "execution_count": null,
   "outputs": [],
   "source": [],
   "metadata": {
    "collapsed": false,
    "pycharm": {
     "name": "#%%\n"
    }
   }
  }
 ],
 "metadata": {
  "kernelspec": {
   "display_name": "Python 3",
   "language": "python",
   "name": "python3"
  },
  "language_info": {
   "codemirror_mode": {
    "name": "ipython",
    "version": 2
   },
   "file_extension": ".py",
   "mimetype": "text/x-python",
   "name": "python",
   "nbconvert_exporter": "python",
   "pygments_lexer": "ipython2",
   "version": "2.7.6"
  }
 },
 "nbformat": 4,
 "nbformat_minor": 0
}