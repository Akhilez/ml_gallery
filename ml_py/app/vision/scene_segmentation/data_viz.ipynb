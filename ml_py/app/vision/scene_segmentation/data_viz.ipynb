{
 "cells": [
  {
   "cell_type": "code",
   "execution_count": 6,
   "metadata": {
    "collapsed": true
   },
   "outputs": [],
   "source": [
    "from settings import BASE_DIR\n",
    "import os\n",
    "import pickle\n",
    "import torch"
   ]
  },
  {
   "cell_type": "code",
   "execution_count": 2,
   "outputs": [],
   "source": [
    "data_path = f\"{BASE_DIR}/data/scenes/data/\"\n",
    "files = os.listdir(data_path)\n",
    "file_name = files[0]"
   ],
   "metadata": {
    "collapsed": false,
    "pycharm": {
     "name": "#%%\n"
    }
   }
  },
  {
   "cell_type": "code",
   "execution_count": 5,
   "outputs": [],
   "source": [
    "with open(f'{data_path}/{file_name}', 'rb') as f:\n",
    "    data = pickle.load(f)"
   ],
   "metadata": {
    "collapsed": false,
    "pycharm": {
     "name": "#%%\n"
    }
   }
  },
  {
   "cell_type": "code",
   "execution_count": 8,
   "outputs": [
    {
     "name": "stdout",
     "output_type": "stream",
     "text": [
      "torch.Size([2178, 2048]) \t place\n",
      "torch.Size([2178, 512]) \t cast\n",
      "torch.Size([2178, 512]) \t action\n",
      "torch.Size([2178, 512]) \t audio\n",
      "torch.Size([2177]) \t scene_transition_boundary_ground_truth\n",
      "torch.Size([2178]) \t shot_end_frame\n",
      "torch.Size([2177]) \t scene_transition_boundary_prediction\n"
     ]
    }
   ],
   "source": [
    "for key in data:\n",
    "    if type(data[key]) is torch.Tensor:\n",
    "        print(data[key].shape, '\\t', key)"
   ],
   "metadata": {
    "collapsed": false,
    "pycharm": {
     "name": "#%%\n"
    }
   }
  },
  {
   "cell_type": "code",
   "execution_count": null,
   "outputs": [],
   "source": [],
   "metadata": {
    "collapsed": false,
    "pycharm": {
     "name": "#%%\n"
    }
   }
  }
 ],
 "metadata": {
  "kernelspec": {
   "display_name": "Python 3",
   "language": "python",
   "name": "python3"
  },
  "language_info": {
   "codemirror_mode": {
    "name": "ipython",
    "version": 2
   },
   "file_extension": ".py",
   "mimetype": "text/x-python",
   "name": "python",
   "nbconvert_exporter": "python",
   "pygments_lexer": "ipython2",
   "version": "2.7.6"
  }
 },
 "nbformat": 4,
 "nbformat_minor": 0
}