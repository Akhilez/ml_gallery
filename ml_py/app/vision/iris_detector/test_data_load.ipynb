{
 "cells": [
  {
   "cell_type": "code",
   "execution_count": 1,
   "metadata": {
    "collapsed": true
   },
   "outputs": [
    {
     "name": "stdout",
     "output_type": "stream",
     "text": [
      "/Users/akhil/code/ml_gallery/ml_py\n"
     ]
    }
   ],
   "source": [
    "import os\n",
    "from settings import BASE_DIR\n",
    "import numpy as np\n",
    "import json\n",
    "import csv\n",
    "import itertools"
   ]
  },
  {
   "cell_type": "code",
   "execution_count": 2,
   "outputs": [],
   "source": [
    "data_dir = f'{BASE_DIR}/data/pupil'\n",
    "images_dir = f'{data_dir}/images'\n",
    "labels_dir = f'{data_dir}/labels'"
   ],
   "metadata": {
    "collapsed": false,
    "pycharm": {
     "name": "#%%\n"
    }
   }
  },
  {
   "cell_type": "code",
   "execution_count": 3,
   "outputs": [
    {
     "name": "stdout",
     "output_type": "stream",
     "text": [
      "2311 2250.0\n"
     ]
    }
   ],
   "source": [
    "images_list = sorted(os.listdir(images_dir))\n",
    "labels_list = sorted(os.listdir(labels_dir))\n",
    "print(len(images_list), len(labels_list) / 4)"
   ],
   "metadata": {
    "collapsed": false,
    "pycharm": {
     "name": "#%%\n"
    }
   }
  },
  {
   "cell_type": "code",
   "execution_count": 4,
   "outputs": [],
   "source": [
    "def find_circle(points):\n",
    "    m = []\n",
    "\n",
    "    for point in points:\n",
    "        x = point[0]\n",
    "        y = point[1]\n",
    "        m.append([x**2 + y**2, x, y, 1])\n",
    "\n",
    "    m = np.asmatrix(m)\n",
    "\n",
    "    m11d = np.linalg.det(m[:, 1:])\n",
    "    m12d = np.linalg.det(m[:, [0, 2, 3]])\n",
    "    m13d = np.linalg.det(m[:, [0, 1, 3]])\n",
    "    m14d = np.linalg.det(m[:, :3])\n",
    "\n",
    "    xc = 0.5 * m12d / m11d\n",
    "    yc = -0.5 * m13d / m11d\n",
    "    r = np.sqrt(xc**2 + yc**2 + m14d / m11d)\n",
    "\n",
    "    return xc, yc, r\n",
    "\n",
    "\n",
    "def find_mean_circle(points):\n",
    "\n",
    "    combinations = itertools.combinations(points, 3)\n",
    "\n",
    "    xcs = []\n",
    "    ycs = []\n",
    "    rs = []\n",
    "\n",
    "    for points_ in combinations:\n",
    "        xc, yc, r = find_circle(points_)\n",
    "        xcs.append(xc)\n",
    "        ycs.append(yc)\n",
    "        rs.append(r)\n",
    "\n",
    "    xc = np.mean(xcs)\n",
    "    yc = np.mean(ycs)\n",
    "    r = np.mean(rs)\n",
    "\n",
    "    return xc, yc, r"
   ],
   "metadata": {
    "collapsed": false,
    "pycharm": {
     "name": "#%%\n"
    }
   }
  },
  {
   "cell_type": "code",
   "execution_count": 5,
   "outputs": [
    {
     "name": "stdout",
     "output_type": "stream",
     "text": [
      ".DS_\n",
      "C53_S1_I1\n",
      "C53_S1_I10\n",
      "C53_S1_I11\n",
      "C53_S1_I12\n",
      "C53_S1_I13\n",
      "C53_S1_I14\n",
      "C53_S1_I15\n",
      "C53_S1_I2\n",
      "C53_S1_I3\n",
      "C53_S1_I4\n",
      "C53_S1_I5\n",
      "C53_S1_I6\n",
      "C53_S1_I7\n",
      "C53_S1_I8\n",
      "C53_S1_I9\n",
      "C54_S1_I1\n",
      "C54_S1_I10\n",
      "C54_S1_I11\n",
      "C54_S1_I12\n",
      "C54_S1_I13\n",
      "C54_S1_I14\n",
      "C54_S1_I15\n",
      "C54_S1_I2\n",
      "C54_S1_I3\n",
      "C54_S1_I4\n",
      "C54_S1_I5\n",
      "C54_S1_I6\n",
      "C54_S1_I7\n",
      "C54_S1_I8\n",
      "C54_S1_I9\n",
      "C55_S1_I1\n",
      "C55_S1_I10\n",
      "C55_S1_I11\n",
      "C55_S1_I12\n",
      "C55_S1_I13\n",
      "C55_S1_I14\n",
      "C55_S1_I15\n",
      "C55_S1_I2\n",
      "C55_S1_I3\n",
      "C55_S1_I4\n",
      "C55_S1_I5\n",
      "C55_S1_I6\n",
      "C55_S1_I7\n",
      "C55_S1_I8\n",
      "C55_S1_I9\n",
      "C56_S1_I1\n",
      "C56_S1_I10\n",
      "C56_S1_I11\n",
      "C56_S1_I12\n",
      "C56_S1_I13\n",
      "C56_S1_I14\n",
      "C56_S1_I15\n",
      "C56_S1_I2\n",
      "C56_S1_I3\n",
      "C56_S1_I4\n",
      "C56_S1_I5\n",
      "C56_S1_I6\n",
      "C56_S1_I7\n",
      "C56_S1_I8\n",
      "C56_S1_I9\n"
     ]
    },
    {
     "name": "stderr",
     "output_type": "stream",
     "text": [
      "<ipython-input-4-f6d53a91d749>:16: RuntimeWarning: invalid value encountered in double_scalars\n",
      "  xc = 0.5 * m12d / m11d\n",
      "<ipython-input-4-f6d53a91d749>:17: RuntimeWarning: divide by zero encountered in double_scalars\n",
      "  yc = -0.5 * m13d / m11d\n",
      "<ipython-input-4-f6d53a91d749>:18: RuntimeWarning: divide by zero encountered in double_scalars\n",
      "  r = np.sqrt(xc**2 + yc**2 + m14d / m11d)\n",
      "<ipython-input-4-f6d53a91d749>:17: RuntimeWarning: invalid value encountered in double_scalars\n",
      "  yc = -0.5 * m13d / m11d\n",
      "<ipython-input-4-f6d53a91d749>:18: RuntimeWarning: invalid value encountered in double_scalars\n",
      "  r = np.sqrt(xc**2 + yc**2 + m14d / m11d)\n",
      "<ipython-input-4-f6d53a91d749>:16: RuntimeWarning: divide by zero encountered in double_scalars\n",
      "  xc = 0.5 * m12d / m11d\n",
      "/Users/akhil/code/ml_gallery/ml_py/venv/lib/python3.8/site-packages/numpy/core/_methods.py:160: RuntimeWarning: invalid value encountered in reduce\n",
      "  ret = umr_sum(arr, axis, dtype, out, keepdims)\n",
      "<ipython-input-4-f6d53a91d749>:18: RuntimeWarning: invalid value encountered in sqrt\n",
      "  r = np.sqrt(xc**2 + yc**2 + m14d / m11d)\n"
     ]
    }
   ],
   "source": [
    "def read_data(path):\n",
    "    with open(path, 'r') as label:\n",
    "        label_data = csv.reader(label, delimiter=' ', quoting=csv.QUOTE_NONNUMERIC)\n",
    "        return np.array(list(label_data), dtype=np.int16).tolist()\n",
    "\n",
    "\n",
    "def preprocess_image(image_name: str, data_dict: dict):\n",
    "\n",
    "    current_dict = {}\n",
    "    data_dict[image_name] = current_dict\n",
    "\n",
    "    tags = ['inner', 'outer', 'upper', 'lower']\n",
    "\n",
    "    for tag in tags:\n",
    "        file_name = f'{image_name}.{tag}.txt'\n",
    "        if file_name in labels_list:\n",
    "            \n",
    "            # Get the coordinates from the file\n",
    "            data = read_data(f'{labels_dir}/{file_name}')\n",
    "\n",
    "            # Add the landmarks to data dict\n",
    "            current_dict[tag]['landmarks'] = data\n",
    "            \n",
    "            # Generate circles data if inner / outer\n",
    "            if tag in ['inner', 'outer']:\n",
    "                circles_data = np.array(find_mean_circle(data))\n",
    "                if not any(np.isnan(circles_data)) and not any(np.isinf(circles_data)):\n",
    "                    xc, yc, r = circles_data\n",
    "                    current_dict[tag]['circles'] = {'xc': xc, 'yc': yc, 'r': r}\n",
    "\n",
    "\n",
    "data_dict = {}\n",
    "for image_name in images_list:\n",
    "    image_name = image_name[:-5]\n",
    "\n",
    "    if f'{image_name}.inner.txt' in labels_list:\n",
    "        preprocess_image(image_name, data_dict)\n",
    "    else:\n",
    "        print(image_name)\n",
    "\n",
    "with open(f'{data_dir}/landmarks.json', 'w') as json_file:\n",
    "    json.dump(data_dict, json_file)"
   ],
   "metadata": {
    "collapsed": false,
    "pycharm": {
     "name": "#%%\n"
    }
   }
  },
  {
   "cell_type": "code",
   "execution_count": 5,
   "outputs": [],
   "source": [],
   "metadata": {
    "collapsed": false,
    "pycharm": {
     "name": "#%%"
    }
   }
  }
 ],
 "metadata": {
  "kernelspec": {
   "display_name": "Python 3",
   "language": "python",
   "name": "python3"
  },
  "language_info": {
   "codemirror_mode": {
    "name": "ipython",
    "version": 2
   },
   "file_extension": ".py",
   "mimetype": "text/x-python",
   "name": "python",
   "nbconvert_exporter": "python",
   "pygments_lexer": "ipython2",
   "version": "2.7.6"
  }
 },
 "nbformat": 4,
 "nbformat_minor": 0
}