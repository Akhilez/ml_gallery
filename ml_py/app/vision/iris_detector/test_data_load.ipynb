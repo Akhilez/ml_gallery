{
 "cells": [
  {
   "cell_type": "code",
   "execution_count": 5,
   "metadata": {
    "collapsed": true
   },
   "outputs": [],
   "source": [
    "import os\n",
    "from settings import BASE_DIR\n",
    "from PIL import Image\n",
    "import numpy as np\n",
    "import matplotlib.pyplot as plt\n",
    "import itertools\n",
    "import json\n",
    "import csv"
   ]
  },
  {
   "cell_type": "code",
   "execution_count": 6,
   "outputs": [],
   "source": [
    "data_dir = f'{BASE_DIR}/data/pupil'\n",
    "images_dir = f'{data_dir}/images'\n",
    "labels_dir = f'{data_dir}/labels'"
   ],
   "metadata": {
    "collapsed": false,
    "pycharm": {
     "name": "#%%\n"
    }
   }
  },
  {
   "cell_type": "code",
   "execution_count": 7,
   "outputs": [
    {
     "name": "stdout",
     "output_type": "stream",
     "text": [
      "2311 2250.0\n"
     ]
    }
   ],
   "source": [
    "images_list = sorted(os.listdir(images_dir))\n",
    "labels_list = sorted(os.listdir(labels_dir))\n",
    "print(len(images_list), len(labels_list) / 4)"
   ],
   "metadata": {
    "collapsed": false,
    "pycharm": {
     "name": "#%%\n"
    }
   }
  },
  {
   "cell_type": "code",
   "execution_count": 8,
   "outputs": [
    {
     "name": "stdout",
     "output_type": "stream",
     "text": [
      ".DS_\n",
      "C53_S1_I1\n",
      "C53_S1_I10\n",
      "C53_S1_I11\n",
      "C53_S1_I12\n",
      "C53_S1_I13\n",
      "C53_S1_I14\n",
      "C53_S1_I15\n",
      "C53_S1_I2\n",
      "C53_S1_I3\n",
      "C53_S1_I4\n",
      "C53_S1_I5\n",
      "C53_S1_I6\n",
      "C53_S1_I7\n",
      "C53_S1_I8\n",
      "C53_S1_I9\n",
      "C54_S1_I1\n",
      "C54_S1_I10\n",
      "C54_S1_I11\n",
      "C54_S1_I12\n",
      "C54_S1_I13\n",
      "C54_S1_I14\n",
      "C54_S1_I15\n",
      "C54_S1_I2\n",
      "C54_S1_I3\n",
      "C54_S1_I4\n",
      "C54_S1_I5\n",
      "C54_S1_I6\n",
      "C54_S1_I7\n",
      "C54_S1_I8\n",
      "C54_S1_I9\n",
      "C55_S1_I1\n",
      "C55_S1_I10\n",
      "C55_S1_I11\n",
      "C55_S1_I12\n",
      "C55_S1_I13\n",
      "C55_S1_I14\n",
      "C55_S1_I15\n",
      "C55_S1_I2\n",
      "C55_S1_I3\n",
      "C55_S1_I4\n",
      "C55_S1_I5\n",
      "C55_S1_I6\n",
      "C55_S1_I7\n",
      "C55_S1_I8\n",
      "C55_S1_I9\n",
      "C56_S1_I1\n",
      "C56_S1_I10\n",
      "C56_S1_I11\n",
      "C56_S1_I12\n",
      "C56_S1_I13\n",
      "C56_S1_I14\n",
      "C56_S1_I15\n",
      "C56_S1_I2\n",
      "C56_S1_I3\n",
      "C56_S1_I4\n",
      "C56_S1_I5\n",
      "C56_S1_I6\n",
      "C56_S1_I7\n",
      "C56_S1_I8\n",
      "C56_S1_I9\n"
     ]
    }
   ],
   "source": [
    "def read_data(path):\n",
    "    with open(path, 'r') as label:\n",
    "        label_data = csv.reader(label, delimiter=' ', quoting=csv.QUOTE_NONNUMERIC)\n",
    "        return np.array(list(label_data), dtype=np.int16)\n",
    "\n",
    "\n",
    "def preprocess_image(image_name: str, data_dict: dict):\n",
    "\n",
    "    current_dict = {}\n",
    "    data_dict[image_name] = current_dict\n",
    "\n",
    "    tags = ['inner', 'outer', 'upper', 'lower']\n",
    "\n",
    "    for tag in tags:\n",
    "        file_name = f'{image_name}.{tag}.txt'\n",
    "        if file_name in labels_list:\n",
    "            data = read_data(f'{labels_dir}/{file_name}')\n",
    "            current_dict[tag] = data.tolist()\n",
    "\n",
    "\n",
    "data_dict = {}\n",
    "for image_name in images_list:\n",
    "    image_name = image_name[:-5]\n",
    "\n",
    "    if f'{image_name}.inner.txt' in labels_list:\n",
    "        preprocess_image(image_name, data_dict)\n",
    "    else:\n",
    "        print(image_name)\n",
    "\n",
    "with open(f'{data_dir}/landmarks.json', 'w') as json_file:\n",
    "    json.dump(data_dict, json_file)"
   ],
   "metadata": {
    "collapsed": false,
    "pycharm": {
     "name": "#%%\n"
    }
   }
  },
  {
   "cell_type": "code",
   "execution_count": 23,
   "outputs": [
    {
     "name": "stdout",
     "output_type": "stream",
     "text": [
      "[216, 137, 226, 152, 213, 159, 205, 144, 223, 142, 203, 152]\n"
     ]
    }
   ],
   "source": [],
   "metadata": {
    "collapsed": false,
    "pycharm": {
     "name": "#%%"
    }
   }
  }
 ],
 "metadata": {
  "kernelspec": {
   "display_name": "Python 3",
   "language": "python",
   "name": "python3"
  },
  "language_info": {
   "codemirror_mode": {
    "name": "ipython",
    "version": 2
   },
   "file_extension": ".py",
   "mimetype": "text/x-python",
   "name": "python",
   "nbconvert_exporter": "python",
   "pygments_lexer": "ipython2",
   "version": "2.7.6"
  }
 },
 "nbformat": 4,
 "nbformat_minor": 0
}