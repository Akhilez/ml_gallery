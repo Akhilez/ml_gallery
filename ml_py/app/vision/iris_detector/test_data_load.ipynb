{
 "cells": [
  {
   "cell_type": "code",
   "execution_count": 10,
   "metadata": {
    "collapsed": true
   },
   "outputs": [],
   "source": [
    "import os\n",
    "from settings import BASE_DIR\n",
    "from PIL import Image\n",
    "import numpy as np\n",
    "import matplotlib.pyplot as plt\n",
    "import itertools\n",
    "import csv"
   ]
  },
  {
   "cell_type": "code",
   "execution_count": 11,
   "outputs": [],
   "source": [
    "data_dir = f'{BASE_DIR}/data/pupil'\n",
    "images_dir = f'{data_dir}/images'\n",
    "labels_dir = f'{data_dir}/labels'"
   ],
   "metadata": {
    "collapsed": false,
    "pycharm": {
     "name": "#%%\n"
    }
   }
  },
  {
   "cell_type": "code",
   "execution_count": 3,
   "outputs": [],
   "source": [
    "images_list = sorted(os.listdir(images_dir))\n",
    "labels_list = sorted(os.listdir(labels_dir))"
   ],
   "metadata": {
    "collapsed": false,
    "pycharm": {
     "name": "#%%\n"
    }
   }
  },
  {
   "cell_type": "code",
   "execution_count": 25,
   "outputs": [
    {
     "name": "stdout",
     "output_type": "stream",
     "text": [
      ".DS_\n"
     ]
    }
   ],
   "source": [
    "def read_data(path):\n",
    "    with open(path, 'r') as label:\n",
    "        label_data = csv.reader(label, delimiter=' ', quoting=csv.QUOTE_NONNUMERIC)\n",
    "        return np.array(list(label_data), dtype=np.int16).flatten()\n",
    "\n",
    "def preprocess_image(image_name, csv_writer):\n",
    "\n",
    "    tags = ['inner', 'outer', 'upper', 'lower']\n",
    "    data = [image_name]\n",
    "\n",
    "    for tag in tags:\n",
    "        file_name = f'{image_name}.{tag}.txt'\n",
    "        if file_name in labels_list:\n",
    "            data.extend(read_data(f'{labels_dir}/{file_name}'))\n",
    "\n",
    "    csv_writer.writerow(data)\n",
    "\n",
    "\n",
    "with open(f'{data_dir}/labels.csv', 'w') as new_label_file:\n",
    "    writer = csv.writer(new_label_file)\n",
    "    for image_name in images_list[:2]:\n",
    "        image_name = image_name[:-5]\n",
    "\n",
    "        if f'{image_name}.inner.txt' in labels_list:\n",
    "            preprocess_image(image_name, writer)\n",
    "        else:\n",
    "            print(image_name)"
   ],
   "metadata": {
    "collapsed": false,
    "pycharm": {
     "name": "#%%\n"
    }
   }
  },
  {
   "cell_type": "code",
   "execution_count": 23,
   "outputs": [
    {
     "name": "stdout",
     "output_type": "stream",
     "text": [
      "[216, 137, 226, 152, 213, 159, 205, 144, 223, 142, 203, 152]\n"
     ]
    }
   ],
   "source": [],
   "metadata": {
    "collapsed": false,
    "pycharm": {
     "name": "#%%"
    }
   }
  }
 ],
 "metadata": {
  "kernelspec": {
   "display_name": "Python 3",
   "language": "python",
   "name": "python3"
  },
  "language_info": {
   "codemirror_mode": {
    "name": "ipython",
    "version": 2
   },
   "file_extension": ".py",
   "mimetype": "text/x-python",
   "name": "python",
   "nbconvert_exporter": "python",
   "pygments_lexer": "ipython2",
   "version": "2.7.6"
  }
 },
 "nbformat": 4,
 "nbformat_minor": 0
}