{
 "cells": [
  {
   "cell_type": "code",
   "execution_count": 1,
   "metadata": {
    "collapsed": true
   },
   "outputs": [],
   "source": [
    "\n",
    "import tensorflow as tf\n",
    "import numpy as np\n",
    "import tensorflowjs as tfjs\n",
    "import json\n"
   ]
  },
  {
   "cell_type": "code",
   "execution_count": 2,
   "outputs": [],
   "source": [
    "\n",
    "x_train = np.load('../../../data/mnist/numbers/x_train.npy').reshape((-1, 28 * 28))\n",
    "y_train = np.load('../../../data/mnist/numbers/y_train.npy')\n"
   ],
   "metadata": {
    "collapsed": false,
    "pycharm": {
     "name": "#%%\n"
    }
   }
  },
  {
   "cell_type": "code",
   "execution_count": 3,
   "outputs": [
    {
     "data": {
      "text/plain": "((60000, 784), (60000, 10))"
     },
     "execution_count": 3,
     "metadata": {},
     "output_type": "execute_result"
    }
   ],
   "source": [
    "x_train.shape, y_train.shape"
   ],
   "metadata": {
    "collapsed": false,
    "pycharm": {
     "name": "#%%\n"
    }
   }
  },
  {
   "cell_type": "code",
   "execution_count": 5,
   "outputs": [
    {
     "name": "stdout",
     "output_type": "stream",
     "text": [
      "Finished writing batch: 0\n"
     ]
    }
   ],
   "source": [
    "data_per_batch = 100\n",
    "max_batches = 10\n",
    "\n",
    "for i in range(max_batches):\n",
    "    start_i = i * data_per_batch\n",
    "    end_i = start_i + data_per_batch\n",
    "\n",
    "    batch_x = x_train[start_i: end_i]\n",
    "    batch_y = y_train[start_i: end_i]\n",
    "\n",
    "    batch_dict = {\n",
    "        'images': batch_x.tolist(),\n",
    "        'classes': batch_y.tolist()\n",
    "    }\n",
    "\n",
    "    with open(f'../../../data/mnist/numbers/json/batch_{i}.json', 'w') as json_file:\n",
    "        json_file.write(json.dumps(batch_dict))\n",
    "\n",
    "    print(f\"Finished writing batch: {i}\")"
   ],
   "metadata": {
    "collapsed": false,
    "pycharm": {
     "name": "#%%\n"
    }
   }
  },
  {
   "cell_type": "code",
   "execution_count": 16,
   "outputs": [
    {
     "data": {
      "text/plain": "(2, 28, 28, 1)"
     },
     "execution_count": 16,
     "metadata": {},
     "output_type": "execute_result"
    }
   ],
   "source": [],
   "metadata": {
    "collapsed": false,
    "pycharm": {
     "name": "#%%\n"
    }
   }
  },
  {
   "cell_type": "code",
   "execution_count": null,
   "outputs": [],
   "source": [],
   "metadata": {
    "collapsed": false,
    "pycharm": {
     "name": "#%%\n"
    }
   }
  }
 ],
 "metadata": {
  "kernelspec": {
   "display_name": "Python 3",
   "language": "python",
   "name": "python3"
  },
  "language_info": {
   "codemirror_mode": {
    "name": "ipython",
    "version": 2
   },
   "file_extension": ".py",
   "mimetype": "text/x-python",
   "name": "python",
   "nbconvert_exporter": "python",
   "pygments_lexer": "ipython2",
   "version": "2.7.6"
  }
 },
 "nbformat": 4,
 "nbformat_minor": 0
}