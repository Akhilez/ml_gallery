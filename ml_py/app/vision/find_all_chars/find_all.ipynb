{
 "cells": [
  {
   "cell_type": "code",
   "execution_count": 1,
   "metadata": {
    "collapsed": true
   },
   "outputs": [],
   "source": [
    "import torch\n",
    "from torch import nn\n",
    "from torch.nn import functional as F\n",
    "from torch.optim import Adam\n",
    "\n",
    "from lib import detection_utils as utils\n",
    "from lib.mnist_aug.mnist_augmenter import DataManager, MNISTAug"
   ]
  },
  {
   "cell_type": "code",
   "execution_count": 2,
   "outputs": [],
   "source": [
    "k = 9\n",
    "H = 112\n",
    "W = 112\n",
    "Wp = 22\n",
    "Hp = 22\n",
    "b_regions = 256\n",
    "\n",
    "threshold_p = 0.6\n",
    "threshold_n = 0.3"
   ],
   "metadata": {
    "collapsed": false,
    "pycharm": {
     "name": "#%%\n"
    }
   }
  },
  {
   "cell_type": "code",
   "execution_count": 3,
   "outputs": [],
   "source": [
    "dm = DataManager()\n",
    "dm.load()"
   ],
   "metadata": {
    "collapsed": false,
    "pycharm": {
     "name": "#%%\n"
    }
   }
  },
  {
   "cell_type": "code",
   "execution_count": 4,
   "outputs": [],
   "source": [
    "aug = MNISTAug()\n",
    "x_train, y_train = aug.get_augmented(dm.x_train, dm.y_train, 10)\n",
    "x_test, y_test = aug.get_augmented(dm.x_test, dm.y_test, 2)\n",
    "\n",
    "x_train = torch.tensor(x_train, dtype=torch.float32).view((-1, 1, H, W))\n",
    "x_test = torch.tensor(x_test, dtype=torch.float32).view((-1, 1, H, W))"
   ],
   "metadata": {
    "collapsed": false,
    "pycharm": {
     "name": "#%%\n"
    }
   }
  },
  {
   "cell_type": "code",
   "execution_count": 5,
   "outputs": [],
   "source": [
    "anchors_tensor = utils.generate_anchors(shape=(Wp, Hp), sizes=(.15, .45, .75),\n",
    "                                        ratios=(0.5, 1, 2))  # Tensor of shape (4, k*H*W) -> cy, cy, w, h\n"
   ],
   "metadata": {
    "collapsed": false,
    "pycharm": {
     "name": "#%%\n"
    }
   }
  },
  {
   "cell_type": "code",
   "execution_count": 6,
   "outputs": [],
   "source": [
    "class MnistDetector(nn.Module):\n",
    "\n",
    "    def __init__(self, k):\n",
    "        super().__init__()\n",
    "        self.k = k\n",
    "        self.feature_extractor = nn.Sequential(\n",
    "            nn.Conv2d(1, 16, 3),\n",
    "            nn.ReLU(),\n",
    "            nn.Conv2d(16, 16, 3, padding=1),\n",
    "            nn.ReLU(),\n",
    "            nn.MaxPool2d(2,2),\n",
    "\n",
    "            nn.Conv2d(16, 32, 3),\n",
    "            nn.ReLU(),\n",
    "            nn.Conv2d(32, 32, 3, padding=1),\n",
    "            nn.ReLU(),\n",
    "            nn.MaxPool2d(2,2),\n",
    "\n",
    "            nn.Conv2d(32, 64, 3),\n",
    "            nn.ReLU(),\n",
    "            nn.Conv2d(64, 64, 3, padding=1),\n",
    "            nn.ReLU(),\n",
    "            # nn.MaxPool2d(2,2),\n",
    "\n",
    "            nn.Conv2d(64, 128, 3),\n",
    "            nn.ReLU(),\n",
    "            nn.Conv2d(128, 128, 3, padding=1),\n",
    "            nn.ReLU(),\n",
    "            # nn.MaxPool2d(2,2),\n",
    "\n",
    "            nn.Conv2d(128, 5 * self.k, 1)\n",
    "        )\n",
    "\n",
    "\n",
    "    def forward(self, x):\n",
    "        features = self.feature_extractor(x)\n",
    "        features = features.view((-1, 5, k, *features.shape[-2:]))\n",
    "        return features"
   ],
   "metadata": {
    "collapsed": false,
    "pycharm": {
     "name": "#%%\n"
    }
   }
  },
  {
   "cell_type": "code",
   "execution_count": 7,
   "outputs": [],
   "source": [
    "model = MnistDetector(k)"
   ],
   "metadata": {
    "collapsed": false,
    "pycharm": {
     "name": "#%%\n"
    }
   }
  },
  {
   "cell_type": "code",
   "execution_count": 8,
   "outputs": [],
   "source": [
    "optimizer = Adam(model.parameters())"
   ],
   "metadata": {
    "collapsed": false,
    "pycharm": {
     "name": "#%%\n"
    }
   }
  },
  {
   "cell_type": "code",
   "execution_count": 9,
   "outputs": [],
   "source": [
    "def process_y_batch(y):\n",
    "    ys = []\n",
    "    for yi in y:\n",
    "        yi_ = utils.labels_to_tensor(yi, H, W)\n",
    "        iou = utils.get_iou_map(yi_, anchors_tensor)\n",
    "        iou = utils.raise_bbox_iou(iou, threshold_p)\n",
    "        iou_max, iou_argmax = torch.max(iou, 0)  # Shape (k*H*W)\n",
    "\n",
    "        confidences = utils.get_confidences(iou_max, threshold_p, (k, Hp, Wp))\n",
    "        diffs = utils.get_diffs(yi_, anchors_tensor, iou_max, iou_argmax, k, Hp, Wp)\n",
    "\n",
    "        ys.append(torch.stack((confidences, *diffs)))\n",
    "\n",
    "    return torch.stack(ys)"
   ],
   "metadata": {
    "collapsed": false,
    "pycharm": {
     "name": "#%%\n"
    }
   }
  },
  {
   "cell_type": "code",
   "execution_count": 10,
   "outputs": [
    {
     "name": "stdout",
     "output_type": "stream",
     "text": [
      "torch.Size([0])\n"
     ]
    }
   ],
   "source": [
    "epochs = 1\n",
    "batch_size = 2\n",
    "for epoch in range(epochs):\n",
    "\n",
    "    for i in range(0, len(x_train), batch_size):\n",
    "        start_index = i\n",
    "        end_index = i+batch_size\n",
    "\n",
    "        x_batch = x_train[start_index:end_index]\n",
    "        y_batch = process_y_batch(y_train[start_index:end_index])\n",
    "\n",
    "        y_hat = model(x_batch)\n",
    "\n",
    "        indices = []\n",
    "        for j in range(batch_size):\n",
    "            idx_p, idx_n = utils.sample_pn_indices(y_hat[i][0].flatten(0), threshold_p, threshold_n, b_regions)\n",
    "            print(idx_p.shape)\n",
    "            break\n",
    "        break\n"
   ],
   "metadata": {
    "collapsed": false,
    "pycharm": {
     "name": "#%%\n"
    }
   }
  },
  {
   "cell_type": "code",
   "execution_count": 10,
   "outputs": [],
   "source": [
    "\n"
   ],
   "metadata": {
    "collapsed": false,
    "pycharm": {
     "name": "#%%\n"
    }
   }
  }
 ],
 "metadata": {
  "kernelspec": {
   "display_name": "Python 3",
   "language": "python",
   "name": "python3"
  },
  "language_info": {
   "codemirror_mode": {
    "name": "ipython",
    "version": 2
   },
   "file_extension": ".py",
   "mimetype": "text/x-python",
   "name": "python",
   "nbconvert_exporter": "python",
   "pygments_lexer": "ipython2",
   "version": "2.7.6"
  }
 },
 "nbformat": 4,
 "nbformat_minor": 0
}