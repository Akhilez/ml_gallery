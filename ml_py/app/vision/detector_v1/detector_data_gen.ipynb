{
 "cells": [
  {
   "cell_type": "code",
   "execution_count": 1,
   "metadata": {
    "collapsed": true
   },
   "outputs": [],
   "source": [
    "\n",
    "import numpy as np\n",
    "import json\n",
    "from lib.mnist_aug.mnist_augmenter import DataManager, MNISTAug"
   ]
  },
  {
   "cell_type": "code",
   "execution_count": 2,
   "outputs": [],
   "source": [
    "aug = MNISTAug()\n",
    "aug.min_objects = 1\n",
    "aug.max_objects = 1"
   ],
   "metadata": {
    "collapsed": false,
    "pycharm": {
     "name": "#%%\n"
    }
   }
  },
  {
   "cell_type": "code",
   "execution_count": 3,
   "outputs": [],
   "source": [
    "\n",
    "dm = DataManager()\n",
    "dm.load()"
   ],
   "metadata": {
    "collapsed": false,
    "pycharm": {
     "name": "#%%\n"
    }
   }
  },
  {
   "cell_type": "code",
   "execution_count": 4,
   "outputs": [],
   "source": [
    "x, y = aug.get_augmented(dm.x_test, dm.y_test, 70)\n"
   ],
   "metadata": {
    "collapsed": false,
    "pycharm": {
     "name": "#%%\n"
    }
   }
  },
  {
   "cell_type": "code",
   "execution_count": 5,
   "outputs": [],
   "source": [
    "\n",
    "anchor_cx = 56\n",
    "anchor_cy = 56\n",
    "anchor_w = 28\n"
   ],
   "metadata": {
    "collapsed": false,
    "pycharm": {
     "name": "#%%\n"
    }
   }
  },
  {
   "cell_type": "code",
   "execution_count": 6,
   "outputs": [],
   "source": [
    "\n",
    "def units_to_diff(y):\n",
    "    y_d = []\n",
    "    for i in range(len(y)):\n",
    "        cx_d = (y[i][0]['cx'] - anchor_cx) / 112\n",
    "        cy_d = (y[i][0]['cy'] - anchor_cy) / 112\n",
    "        w_d = (y[i][0]['width'] - anchor_w) / 112\n",
    "        y_d.append((cx_d, cy_d, w_d))\n",
    "    return np.array(y_d)\n",
    "\n",
    "def diff_to_units(y):\n",
    "    y_units = []\n",
    "    for i in range(len(y)):\n",
    "        cx_d = y[i][0] * 112 + anchor_cx\n",
    "        cy_d = y[i][1] * 112 + anchor_cy\n",
    "        wd = y[i][2] * 112 + anchor_w\n",
    "        y_units.append((cx_d, cy_d, wd))\n",
    "    return np.array(y_units)"
   ],
   "metadata": {
    "collapsed": false,
    "pycharm": {
     "name": "#%%\n"
    }
   }
  },
  {
   "cell_type": "code",
   "execution_count": 7,
   "outputs": [],
   "source": [
    "yd = units_to_diff(y).tolist()"
   ],
   "metadata": {
    "collapsed": false,
    "pycharm": {
     "name": "#%%\n"
    }
   }
  },
  {
   "cell_type": "code",
   "execution_count": 8,
   "outputs": [],
   "source": [
    "batch_dict = {\n",
    "    'images': x.tolist(),\n",
    "    'classes': yd\n",
    "}"
   ],
   "metadata": {
    "collapsed": false,
    "pycharm": {
     "name": "#%%\n"
    }
   }
  },
  {
   "cell_type": "code",
   "execution_count": 9,
   "outputs": [
    {
     "name": "stdout",
     "output_type": "stream",
     "text": [
      "[-0.21428571428571427, -0.16964285714285715, 0.0]\n"
     ]
    }
   ],
   "source": [
    "print(batch_dict['classes'][0])"
   ],
   "metadata": {
    "collapsed": false,
    "pycharm": {
     "name": "#%%\n"
    }
   }
  },
  {
   "cell_type": "code",
   "execution_count": 10,
   "outputs": [
    {
     "name": "stdout",
     "output_type": "stream",
     "text": [
      "Finished writing\n"
     ]
    }
   ],
   "source": [
    "with open('../../../data/mnist/numbers/json/localization.json', 'w') as json_file:\n",
    "    json_file.write(json.dumps(batch_dict))\n",
    "\n",
    "print(\"Finished writing\")"
   ],
   "metadata": {
    "collapsed": false,
    "pycharm": {
     "name": "#%%\n"
    }
   }
  },
  {
   "cell_type": "code",
   "execution_count": 10,
   "outputs": [],
   "source": [],
   "metadata": {
    "collapsed": false,
    "pycharm": {
     "name": "#%%\n"
    }
   }
  }
 ],
 "metadata": {
  "kernelspec": {
   "display_name": "Python 3",
   "language": "python",
   "name": "python3"
  },
  "language_info": {
   "codemirror_mode": {
    "name": "ipython",
    "version": 2
   },
   "file_extension": ".py",
   "mimetype": "text/x-python",
   "name": "python",
   "nbconvert_exporter": "python",
   "pygments_lexer": "ipython2",
   "version": "2.7.6"
  }
 },
 "nbformat": 4,
 "nbformat_minor": 0
}