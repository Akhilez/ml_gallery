{
 "cells": [
  {
   "cell_type": "code",
   "execution_count": 1,
   "metadata": {},
   "outputs": [],
   "source": [
    "import torch\n",
    "from torch.nn.functional import relu\n",
    "from lib.mnist_aug.mnist_augmenter import DataManager, MNISTAug\n",
    "from torch.utils.tensorboard import SummaryWriter\n",
    "writer = SummaryWriter()"
   ]
  },
  {
   "cell_type": "code",
   "execution_count": 2,
   "metadata": {},
   "outputs": [],
   "source": [
    "aug = MNISTAug()\n",
    "dm = DataManager()\n",
    "dm.load_test()"
   ]
  },
  {
   "cell_type": "code",
   "execution_count": 3,
   "outputs": [],
   "source": [
    "aug.min_objects = 1\n",
    "aug.max_objects = 1"
   ],
   "metadata": {
    "collapsed": false,
    "pycharm": {
     "name": "#%%\n"
    }
   }
  },
  {
   "cell_type": "code",
   "execution_count": 4,
   "metadata": {},
   "outputs": [
    {
     "name": "stdout",
     "output_type": "stream",
     "text": [
      "cannot convert float infinity to integer\n"
     ]
    },
    {
     "name": "stderr",
     "output_type": "stream",
     "text": [
      "/Users/akhildevarashetti/code/ml_gallery/ml_py/venv/lib/python3.8/site-packages/skimage/transform/_warps.py:115: RuntimeWarning: divide by zero encountered in true_divide\n",
      "  factors = (np.asarray(input_shape, dtype=float) /\n"
     ]
    }
   ],
   "source": [
    "x_train, y_train = aug.get_augmented(dm.x_test, dm.y_test, 1000)\n",
    "x_test, y_test = aug.get_augmented(dm.x_test, dm.y_test, 2)"
   ]
  },
  {
   "cell_type": "code",
   "execution_count": 5,
   "metadata": {
    "pycharm": {
     "name": "#%%\n"
    }
   },
   "outputs": [],
   "source": [
    "x_train = torch.tensor(x_train.reshape(-1, 1, 112, 112)).type('torch.FloatTensor')\n",
    "x_test = torch.tensor(x_test.reshape(-1, 1, 112, 112)).type('torch.FloatTensor')"
   ]
  },
  {
   "cell_type": "code",
   "execution_count": 6,
   "metadata": {},
   "outputs": [
    {
     "name": "stderr",
     "output_type": "stream",
     "text": [
      "/Users/akhildevarashetti/code/ml_gallery/ml_py/lib/mnist_aug/mnist_augmenter.py:354: UserWarning: Matplotlib is currently using module://ipykernel.pylab.backend_inline, which is a non-GUI backend, so cannot show the figure.\n",
      "  fig.show()\n"
     ]
    },
    {
     "data": {
      "text/plain": "[{'id': 0,\n  'class': 7,\n  'class_one_hot': array([0., 0., 0., 0., 0., 0., 0., 1., 0., 0.]),\n  'x1': 88,\n  'y1': 2,\n  'x2': 99,\n  'y2': 13,\n  'cx': 93.5,\n  'cy': 7.5,\n  'height': 11,\n  'width': 11,\n  'type': 'number'}]"
     },
     "execution_count": 6,
     "metadata": {},
     "output_type": "execute_result"
    },
    {
     "data": {
      "text/plain": "<Figure size 432x288 with 1 Axes>",
      "image/png": "[encoded data removed]"
     },
     "metadata": {
      "needs_background": "light"
     },
     "output_type": "display_data"
    }
   ],
   "source": [
    "DataManager.plot_num(x_train[1].reshape((112, 112)), y_train[1])\n",
    "y_train[1]"
   ]
  },
  {
   "cell_type": "code",
   "execution_count": 7,
   "metadata": {},
   "outputs": [],
   "source": [
    "anchor_cx = 56\n",
    "anchor_cy = 56\n",
    "anchor_w = 28"
   ]
  },
  {
   "cell_type": "code",
   "execution_count": 8,
   "metadata": {},
   "outputs": [],
   "source": [
    "def units_to_diff(y):\n",
    "    y_d = []\n",
    "    for i in range(len(y)):\n",
    "        cx_d = (y[i][0]['cx'] - anchor_cx) / 112\n",
    "        cy_d = (y[i][0]['cy'] - anchor_cy) / 112\n",
    "        w_d = (y[i][0]['width'] - anchor_w) / 112\n",
    "        y_d.append((cx_d, cy_d, w_d))\n",
    "    return torch.tensor(y_d)\n",
    "\n",
    "def diff_to_units(y):\n",
    "    y_units = []\n",
    "    for i in range(len(y)):\n",
    "        cx_d = y[i][0] * 112 + anchor_cx\n",
    "        cy_d = y[i][1] * 112 + anchor_cy\n",
    "        wd = y[i][2] * 112 + anchor_w\n",
    "        y_units.append((cx_d, cy_d, wd))\n",
    "    return torch.tensor(y_units)"
   ]
  },
  {
   "cell_type": "code",
   "execution_count": 9,
   "metadata": {
    "pycharm": {
     "name": "#%%\n"
    }
   },
   "outputs": [
    {
     "name": "stdout",
     "output_type": "stream",
     "text": [
      "[[{'id': 0, 'class': 0, 'class_one_hot': array([1., 0., 0., 0., 0., 0., 0., 0., 0., 0.]), 'x1': 11, 'y1': 64, 'x2': 31, 'y2': 84, 'cx': 21.0, 'cy': 74.0, 'height': 20, 'width': 20, 'type': 'number'}], [{'id': 0, 'class': 7, 'class_one_hot': array([0., 0., 0., 0., 0., 0., 0., 1., 0., 0.]), 'x1': 29, 'y1': 24, 'x2': 66, 'y2': 61, 'cx': 47.5, 'cy': 42.5, 'height': 37, 'width': 37, 'type': 'number'}]]\n",
      "tensor([[-0.3125,  0.1607, -0.0714],\n",
      "        [-0.0759, -0.1205,  0.0804]])\n",
      "tensor([[21.0000, 74.0000, 20.0000],\n",
      "        [47.5000, 42.5000, 37.0000]])\n"
     ]
    }
   ],
   "source": [
    "print(y_test)\n",
    "y_d_test = units_to_diff(y_test)\n",
    "print(y_d_test)\n",
    "y_d_unwrapped = diff_to_units(y_d_test)\n",
    "print(y_d_unwrapped)"
   ]
  },
  {
   "cell_type": "code",
   "execution_count": 10,
   "metadata": {},
   "outputs": [],
   "source": [
    "y_d = units_to_diff(y_train)\n",
    "y_d_test = units_to_diff(y_test)"
   ]
  },
  {
   "cell_type": "code",
   "execution_count": 11,
   "metadata": {
    "pycharm": {
     "name": "#%%\n"
    }
   },
   "outputs": [],
   "source": [
    "class DetectorV1 (torch.nn.Module):\n",
    "    def __init__(self):\n",
    "        super().__init__()\n",
    "        self.conv1 = torch.nn.Conv2d(1, 32, 3, padding=1)  # 112x112\n",
    "        self.conv2 = torch.nn.Conv2d(32, 64, 3, stride=2, padding=1)  # 56x56\n",
    "        self.conv3 = torch.nn.Conv2d(64, 128, 3, stride=2, padding=1)  # 28x28\n",
    "        self.conv4 = torch.nn.Conv2d(128, 256, 3, stride=2, padding=1)  # 14x14\n",
    "        self.conv5 = torch.nn.Conv2d(256, 512, 3, stride=2, padding=1)  # 7x7\n",
    "        self.linear1 = torch.nn.Linear(25088, 4096)\n",
    "        self.linear2 = torch.nn.Linear(4096, 512)\n",
    "        self.linear3 = torch.nn.Linear(512, 3)\n",
    "\n",
    "    def forward(self, x):\n",
    "        x = relu(self.conv1(x))  # 112\n",
    "        x = relu(self.conv2(x))  # 56\n",
    "        x = relu(self.conv3(x))  # 28\n",
    "        x = relu(self.conv4(x))  # 14\n",
    "        x = relu(self.conv5(x))  # 7\n",
    "        x = torch.flatten(x, 1)\n",
    "        x = relu(self.linear1(x))\n",
    "        x = relu(self.linear2(x))\n",
    "        x = torch.nn.functional.tanh(self.linear3(x))\n",
    "        return x\n",
    "\n",
    "\n",
    "model = DetectorV1()\n",
    "optimizer = torch.optim.Adam(model.parameters())"
   ]
  },
  {
   "cell_type": "code",
   "execution_count": 12,
   "metadata": {
    "pycharm": {
     "name": "#%%\n"
    }
   },
   "outputs": [
    {
     "name": "stderr",
     "output_type": "stream",
     "text": [
      "/Users/akhildevarashetti/code/ml_gallery/ml_py/venv/lib/python3.8/site-packages/torch/nn/functional.py:1628: UserWarning: nn.functional.tanh is deprecated. Use torch.tanh instead.\n",
      "  warnings.warn(\"nn.functional.tanh is deprecated. Use torch.tanh instead.\")\n"
     ]
    },
    {
     "name": "stdout",
     "output_type": "stream",
     "text": [
      "epoch=0, batch=0, loss=12.237242698669434\n",
      "epoch=0, batch=100, loss=103.9077377319336\n",
      "epoch=0, batch=200, loss=15.443633079528809\n",
      "epoch=0, batch=300, loss=10.746805191040039\n",
      "epoch=0, batch=400, loss=10.648369789123535\n",
      "epoch=0, batch=500, loss=11.259020805358887\n",
      "epoch=0, batch=600, loss=10.498801231384277\n",
      "epoch=0, batch=700, loss=12.139537811279297\n",
      "epoch=0, batch=800, loss=11.079343795776367\n",
      "epoch=0, batch=900, loss=9.9447603225708\n",
      "epoch=1, batch=0, loss=11.454277992248535\n",
      "epoch=1, batch=100, loss=9.571359634399414\n",
      "epoch=1, batch=200, loss=9.529488563537598\n",
      "epoch=1, batch=300, loss=8.44008731842041\n",
      "epoch=1, batch=400, loss=7.336843967437744\n",
      "epoch=1, batch=500, loss=6.1868085861206055\n",
      "epoch=1, batch=600, loss=9.565130233764648\n",
      "epoch=1, batch=700, loss=6.331085205078125\n",
      "epoch=1, batch=800, loss=6.826923370361328\n",
      "epoch=1, batch=900, loss=6.095118999481201\n",
      "epoch=2, batch=0, loss=7.45489501953125\n",
      "epoch=2, batch=100, loss=4.39067268371582\n",
      "epoch=2, batch=200, loss=4.70501708984375\n",
      "epoch=2, batch=300, loss=3.552639961242676\n",
      "epoch=2, batch=400, loss=4.227678298950195\n",
      "epoch=2, batch=500, loss=3.827707290649414\n",
      "epoch=2, batch=600, loss=3.0369503498077393\n",
      "epoch=2, batch=700, loss=3.4675710201263428\n",
      "epoch=2, batch=800, loss=2.6971631050109863\n",
      "epoch=2, batch=900, loss=2.5648317337036133\n",
      "epoch=3, batch=0, loss=2.9538817405700684\n",
      "epoch=3, batch=100, loss=1.8538061380386353\n",
      "epoch=3, batch=200, loss=2.5904409885406494\n",
      "epoch=3, batch=300, loss=1.3802909851074219\n",
      "epoch=3, batch=400, loss=1.9331846237182617\n",
      "epoch=3, batch=500, loss=2.1153275966644287\n",
      "epoch=3, batch=600, loss=1.2368202209472656\n",
      "epoch=3, batch=700, loss=1.2362210750579834\n",
      "epoch=3, batch=800, loss=1.3404109477996826\n",
      "epoch=3, batch=900, loss=1.2786797285079956\n"
     ]
    }
   ],
   "source": [
    "epochs = 4\n",
    "batch_size = 100\n",
    "\n",
    "for epoch in range(epochs):\n",
    "\n",
    "    for i in range(0, len(x_train), batch_size):\n",
    "        start_index = i\n",
    "        end_index = i+batch_size\n",
    "        \n",
    "        x_batch = x_train[start_index:end_index]\n",
    "        y_batch = y_d[start_index:end_index]\n",
    "        \n",
    "        optimizer.zero_grad()\n",
    "\n",
    "        y_hat = model(x_batch)\n",
    "\n",
    "        loss = sum(sum((y_batch - y_hat)**2))\n",
    "        \n",
    "        loss.backward()\n",
    "        optimizer.step()\n",
    "\n",
    "        loss = float(loss.detach())\n",
    "        print(f'{epoch=}, batch={i}, loss={loss}')\n",
    "        writer.add_scalar(\"Loss/train\", loss, epoch * batch_size + i / batch_size)\n",
    "\n",
    "writer.flush()\n",
    "writer.close()"
   ]
  },
  {
   "cell_type": "code",
   "execution_count": 13,
   "metadata": {
    "pycharm": {
     "name": "#%%\n"
    }
   },
   "outputs": [
    {
     "name": "stdout",
     "output_type": "stream",
     "text": [
      "y_pred=tensor([[-0.3365,  0.1562, -0.0060],\n",
      "        [-0.0862, -0.1307,  0.0563]])\n",
      "y_d_test=tensor([[-0.3125,  0.1607, -0.0714],\n",
      "        [-0.0759, -0.1205,  0.0804]])\n",
      "[{'x1': 4.649696350097656, 'y1': 59.833065032958984, 'x2': 31.975265502929688, 'y2': 87.15863037109375}]\n",
      "[{'x1': 29.19240951538086, 'y1': 24.206371307373047, 'x2': 63.494808197021484, 'y2': 58.50876998901367}]\n"
     ]
    },
    {
     "data": {
      "text/plain": "<Figure size 432x288 with 1 Axes>",
      "image/png": "[encoded data removed]"
     },
     "metadata": {
      "needs_background": "light"
     },
     "output_type": "display_data"
    },
    {
     "data": {
      "text/plain": "<Figure size 432x288 with 1 Axes>",
      "image/png": "[encoded data removed]"
     },
     "metadata": {
      "needs_background": "light"
     },
     "output_type": "display_data"
    }
   ],
   "source": [
    "with torch.no_grad():\n",
    "    y_pred = model(x_test)\n",
    "    \n",
    "    print(f'{y_pred=}\\n{y_d_test=}')\n",
    "    \n",
    "    y_pred = diff_to_units(y_pred)\n",
    "    for i in range(len(y_pred)):\n",
    "\n",
    "        cx_pred, cy_pred, w_pred = y_pred[i]\n",
    "        pred_boxes = [{\n",
    "            'x1': float(cx_pred - w_pred / 2),\n",
    "            'y1': float(cy_pred - w_pred / 2),\n",
    "            'x2': float(cx_pred + w_pred / 2),\n",
    "            'y2': float(cy_pred + w_pred / 2)\n",
    "        }]\n",
    "\n",
    "        # pred_boxes.extend(list(y_test[i]))\n",
    "        print(f'{pred_boxes}')\n",
    "\n",
    "        DataManager.plot_num(x_test[i].reshape((112, 112)), pred_boxes)\n"
   ]
  },
  {
   "cell_type": "code",
   "execution_count": 13,
   "metadata": {},
   "outputs": [],
   "source": []
  }
 ],
 "metadata": {
  "kernelspec": {
   "display_name": "Python 3",
   "language": "python",
   "name": "python3"
  },
  "language_info": {
   "codemirror_mode": {
    "name": "ipython",
    "version": 3
   },
   "file_extension": ".py",
   "mimetype": "text/x-python",
   "name": "python",
   "nbconvert_exporter": "python",
   "pygments_lexer": "ipython3",
   "version": "3.8.3"
  }
 },
 "nbformat": 4,
 "nbformat_minor": 1
}