{
 "cells": [
  {
   "cell_type": "code",
   "execution_count": 1,
   "metadata": {},
   "outputs": [],
   "source": [
    "import torch\n",
    "from torch.nn.functional import relu\n",
    "from lib.mnist_aug.mnist_augmenter import DataManager, MNISTAug"
   ]
  },
  {
   "cell_type": "code",
   "execution_count": 2,
   "metadata": {},
   "outputs": [],
   "source": [
    "aug = MNISTAug()\n",
    "dm = DataManager()\n",
    "dm.load_test()"
   ]
  },
  {
   "cell_type": "code",
   "execution_count": 3,
   "metadata": {},
   "outputs": [],
   "source": [
    "x_train, y_train = aug.get_augmented(dm.x_test, dm.y_test, 10000)\n",
    "x_test, y_test = aug.get_augmented(dm.x_test, dm.y_test, 2)"
   ]
  },
  {
   "cell_type": "code",
   "execution_count": 4,
   "metadata": {
    "pycharm": {
     "name": "#%%\n"
    }
   },
   "outputs": [],
   "source": [
    "x_train = torch.tensor(x_train.reshape(-1, 1, 112, 112)).type('torch.FloatTensor')\n",
    "x_test = torch.tensor(x_test.reshape(-1, 1, 112, 112)).type('torch.FloatTensor')"
   ]
  },
  {
   "cell_type": "code",
   "execution_count": 5,
   "metadata": {},
   "outputs": [
    {
     "name": "stderr",
     "output_type": "stream",
     "text": [
      "/Users/akhildevarashetti/Code/ml_gallery/ml_py/lib/mnist_aug/mnist_augmenter.py:154: UserWarning: Matplotlib is currently using module://ipykernel.pylab.backend_inline, which is a non-GUI backend, so cannot show the figure.\n",
      "  fig.show()\n"
     ]
    },
    {
     "data": {
      "text/plain": [
       "[{'class': 1,\n",
       "  'class_one_hot': array([0., 1., 0., 0., 0., 0., 0., 0., 0., 0.]),\n",
       "  'x1': 21,\n",
       "  'y1': 62,\n",
       "  'x2': 56,\n",
       "  'y2': 97,\n",
       "  'cx': 38.5,\n",
       "  'cy': 79.5,\n",
       "  'height': 35,\n",
       "  'width': 35}]"
      ]
     },
     "execution_count": 5,
     "metadata": {},
     "output_type": "execute_result"
    },
    {
     "data": {
      "image/png": "[encoded data removed]",
      "text/plain": [
       "<Figure size 432x288 with 1 Axes>"
      ]
     },
     "metadata": {
      "needs_background": "light"
     },
     "output_type": "display_data"
    }
   ],
   "source": [
    "DataManager.plot_num(x_train[1].reshape((112, 112)), y_train[1])\n",
    "y_train[1]"
   ]
  },
  {
   "cell_type": "code",
   "execution_count": 6,
   "metadata": {},
   "outputs": [],
   "source": [
    "anchor_cx = 56\n",
    "anchor_cy = 56\n",
    "anchor_w = 28"
   ]
  },
  {
   "cell_type": "code",
   "execution_count": 7,
   "metadata": {},
   "outputs": [],
   "source": [
    "def units_to_diff(y):\n",
    "    y_d = []\n",
    "    for i in range(len(y)):\n",
    "        cx_d = (y[i][0]['cx'] - anchor_cx) / 112\n",
    "        cy_d = (y[i][0]['cy'] - anchor_cy) / 112\n",
    "        w_d = (y[i][0]['width'] - anchor_w) / 112\n",
    "        y_d.append((cx_d, cy_d, w_d))\n",
    "    return torch.tensor(y_d)\n",
    "\n",
    "def diff_to_units(y):\n",
    "    y_units = []\n",
    "    for i in range(len(y)):\n",
    "        cx_d = y[i][0] * 112 + anchor_cx\n",
    "        cy_d = y[i][1] * 112 + anchor_cy\n",
    "        wd = y[i][2] * 112 + anchor_w\n",
    "        y_units.append((cx_d, cy_d, wd))\n",
    "    return torch.tensor(y_units)"
   ]
  },
  {
   "cell_type": "code",
   "execution_count": 8,
   "metadata": {
    "pycharm": {
     "name": "#%%\n"
    }
   },
   "outputs": [
    {
     "name": "stdout",
     "output_type": "stream",
     "text": [
      "[[{'class': 1, 'class_one_hot': array([0., 1., 0., 0., 0., 0., 0., 0., 0., 0.]), 'x1': 72, 'y1': 67, 'x2': 90, 'y2': 85, 'cx': 81.0, 'cy': 76.0, 'height': 18, 'width': 18}], [{'class': 8, 'class_one_hot': array([0., 0., 0., 0., 0., 0., 0., 0., 1., 0.]), 'x1': 86, 'y1': 90, 'x2': 110, 'y2': 112, 'cx': 98.0, 'cy': 101.0, 'height': 22, 'width': 24}]]\n",
      "tensor([[ 0.2232,  0.1786, -0.0893],\n",
      "        [ 0.3750,  0.4018, -0.0357]])\n",
      "tensor([[ 81.,  76.,  18.],\n",
      "        [ 98., 101.,  24.]])\n"
     ]
    }
   ],
   "source": [
    "print(y_test)\n",
    "y_d_test = units_to_diff(y_test)\n",
    "print(y_d_test)\n",
    "y_d_unwrapped = diff_to_units(y_d_test)\n",
    "print(y_d_unwrapped)"
   ]
  },
  {
   "cell_type": "code",
   "execution_count": 9,
   "metadata": {},
   "outputs": [],
   "source": [
    "y_d = units_to_diff(y_train)\n",
    "y_d_test = units_to_diff(y_test)"
   ]
  },
  {
   "cell_type": "code",
   "execution_count": 10,
   "metadata": {
    "pycharm": {
     "name": "#%%\n"
    }
   },
   "outputs": [],
   "source": [
    "class DetectorV1 (torch.nn.Module):\n",
    "    def __init__(self):\n",
    "        super().__init__()\n",
    "        self.conv1 = torch.nn.Conv2d(1, 32, 3, padding=1)  # 112x112\n",
    "        self.conv2 = torch.nn.Conv2d(32, 64, 3, stride=2, padding=1)  # 56x56\n",
    "        self.conv3 = torch.nn.Conv2d(64, 128, 3, stride=2, padding=1)  # 28x28\n",
    "        self.conv4 = torch.nn.Conv2d(128, 256, 3, stride=2, padding=1)  # 14x14\n",
    "        self.conv5 = torch.nn.Conv2d(256, 512, 3, stride=2, padding=1)  # 7x7\n",
    "        self.linear1 = torch.nn.Linear(25088, 4096)\n",
    "        self.linear2 = torch.nn.Linear(4096, 512)\n",
    "        self.linear3 = torch.nn.Linear(512, 3)\n",
    "\n",
    "    def forward(self, x):\n",
    "        x = relu(self.conv1(x))  # 112\n",
    "        x = relu(self.conv2(x))  # 56\n",
    "        x = relu(self.conv3(x))  # 28\n",
    "        x = relu(self.conv4(x))  # 14\n",
    "        x = relu(self.conv5(x))  # 7\n",
    "        x = torch.flatten(x, 1)\n",
    "        x = relu(self.linear1(x))\n",
    "        x = relu(self.linear2(x))\n",
    "        x = torch.nn.functional.tanh(self.linear3(x))\n",
    "        return x\n",
    "\n",
    "\n",
    "model = DetectorV1()\n",
    "optimizer = torch.optim.Adam(model.parameters())"
   ]
  },
  {
   "cell_type": "code",
   "execution_count": 15,
   "metadata": {
    "pycharm": {
     "name": "#%%\n"
    }
   },
   "outputs": [
    {
     "name": "stdout",
     "output_type": "stream",
     "text": [
      "epoch=0, batch=0, loss=0.061099883168935776\n",
      "epoch=0, batch=10, loss=0.1441323161125183\n",
      "epoch=0, batch=20, loss=0.04131025820970535\n",
      "epoch=0, batch=30, loss=0.12986722588539124\n",
      "epoch=0, batch=40, loss=0.05254726484417915\n",
      "epoch=0, batch=50, loss=0.04877208545804024\n",
      "epoch=0, batch=60, loss=0.0383504293859005\n",
      "epoch=0, batch=70, loss=0.09216593205928802\n",
      "epoch=0, batch=80, loss=0.09075552225112915\n",
      "epoch=0, batch=90, loss=0.04653157293796539\n",
      "epoch=0, batch=100, loss=0.06577616930007935\n",
      "epoch=0, batch=110, loss=0.05349719524383545\n",
      "epoch=0, batch=120, loss=0.06906098127365112\n",
      "epoch=0, batch=130, loss=0.06013179570436478\n",
      "epoch=0, batch=140, loss=0.024146592244505882\n",
      "epoch=0, batch=150, loss=0.027379104867577553\n",
      "epoch=0, batch=160, loss=0.030461754649877548\n",
      "epoch=0, batch=170, loss=0.03546753525733948\n",
      "epoch=0, batch=180, loss=0.19861584901809692\n",
      "epoch=0, batch=190, loss=0.056669704616069794\n",
      "epoch=0, batch=200, loss=0.04703786224126816\n",
      "epoch=0, batch=210, loss=0.07568567991256714\n",
      "epoch=0, batch=220, loss=0.05224350467324257\n",
      "epoch=0, batch=230, loss=0.11572525650262833\n",
      "epoch=0, batch=240, loss=0.05024509131908417\n",
      "epoch=0, batch=250, loss=0.053968071937561035\n",
      "epoch=0, batch=260, loss=0.08438270539045334\n",
      "epoch=0, batch=270, loss=0.06849929690361023\n",
      "epoch=0, batch=280, loss=0.04409858584403992\n",
      "epoch=0, batch=290, loss=0.03236066550016403\n",
      "epoch=0, batch=300, loss=0.12199968844652176\n",
      "epoch=0, batch=310, loss=0.05594928562641144\n",
      "epoch=0, batch=320, loss=0.041326966136693954\n",
      "epoch=0, batch=330, loss=0.07543826103210449\n",
      "epoch=0, batch=340, loss=0.0661465972661972\n",
      "epoch=0, batch=350, loss=0.030348457396030426\n",
      "epoch=0, batch=360, loss=0.04708770662546158\n",
      "epoch=0, batch=370, loss=0.02233497053384781\n",
      "epoch=0, batch=380, loss=0.07647520303726196\n",
      "epoch=0, batch=390, loss=0.05631083622574806\n",
      "epoch=0, batch=400, loss=0.03623104840517044\n",
      "epoch=0, batch=410, loss=0.04617323726415634\n",
      "epoch=0, batch=420, loss=0.04479522630572319\n",
      "epoch=0, batch=430, loss=0.03202898055315018\n",
      "epoch=0, batch=440, loss=0.022395677864551544\n",
      "epoch=0, batch=450, loss=0.0657329261302948\n",
      "epoch=0, batch=460, loss=0.024050656706094742\n",
      "epoch=0, batch=470, loss=0.03418614715337753\n",
      "epoch=0, batch=480, loss=0.04146662354469299\n",
      "epoch=0, batch=490, loss=0.23483647406101227\n",
      "epoch=0, batch=500, loss=0.05443287640810013\n",
      "epoch=0, batch=510, loss=0.03760819137096405\n",
      "epoch=0, batch=520, loss=0.03261180222034454\n",
      "epoch=0, batch=530, loss=0.021647877991199493\n",
      "epoch=0, batch=540, loss=0.03451212868094444\n",
      "epoch=0, batch=550, loss=0.02628793753683567\n",
      "epoch=0, batch=560, loss=0.02245495095849037\n",
      "epoch=0, batch=570, loss=0.041081205010414124\n",
      "epoch=0, batch=580, loss=0.026368729770183563\n",
      "epoch=0, batch=590, loss=0.046095170080661774\n",
      "epoch=0, batch=600, loss=0.028793567791581154\n",
      "epoch=0, batch=610, loss=0.027355650439858437\n",
      "epoch=0, batch=620, loss=0.04040885716676712\n",
      "epoch=0, batch=630, loss=0.05868183821439743\n",
      "epoch=0, batch=640, loss=0.0264616496860981\n",
      "epoch=0, batch=650, loss=0.08719781041145325\n",
      "epoch=0, batch=660, loss=0.027012363076210022\n",
      "epoch=0, batch=670, loss=0.09456560015678406\n",
      "epoch=0, batch=680, loss=0.06861452758312225\n",
      "epoch=0, batch=690, loss=0.03521295636892319\n",
      "epoch=0, batch=700, loss=0.05407401919364929\n",
      "epoch=0, batch=710, loss=0.022198837250471115\n",
      "epoch=0, batch=720, loss=0.023989010602235794\n",
      "epoch=0, batch=730, loss=0.03502733260393143\n",
      "epoch=0, batch=740, loss=0.05131981894373894\n",
      "epoch=0, batch=750, loss=0.02753661945462227\n",
      "epoch=0, batch=760, loss=0.035402536392211914\n",
      "epoch=0, batch=770, loss=0.0485004186630249\n",
      "epoch=0, batch=780, loss=0.043521128594875336\n",
      "epoch=0, batch=790, loss=0.03374477103352547\n",
      "epoch=0, batch=800, loss=0.05861058086156845\n",
      "epoch=0, batch=810, loss=0.03818010166287422\n",
      "epoch=0, batch=820, loss=0.035375095903873444\n",
      "epoch=0, batch=830, loss=0.023827344179153442\n",
      "epoch=0, batch=840, loss=0.02714778110384941\n",
      "epoch=0, batch=850, loss=0.026987284421920776\n",
      "epoch=0, batch=860, loss=0.024541422724723816\n",
      "epoch=0, batch=870, loss=0.02592562884092331\n",
      "epoch=0, batch=880, loss=0.035792313516139984\n",
      "epoch=0, batch=890, loss=0.07297708839178085\n",
      "epoch=0, batch=900, loss=0.04346340894699097\n",
      "epoch=0, batch=910, loss=0.02957211062312126\n",
      "epoch=0, batch=920, loss=0.034635692834854126\n",
      "epoch=0, batch=930, loss=0.03359350562095642\n",
      "epoch=0, batch=940, loss=0.020304258912801743\n",
      "epoch=0, batch=950, loss=0.08463479578495026\n",
      "epoch=0, batch=960, loss=0.02863169088959694\n",
      "epoch=0, batch=970, loss=0.01866348832845688\n",
      "epoch=0, batch=980, loss=0.04453807696700096\n",
      "epoch=0, batch=990, loss=0.03399224579334259\n",
      "epoch=1, batch=0, loss=0.039477553218603134\n",
      "epoch=1, batch=10, loss=0.024520352482795715\n",
      "epoch=1, batch=20, loss=0.020528381690382957\n",
      "epoch=1, batch=30, loss=0.032411087304353714\n",
      "epoch=1, batch=40, loss=0.026161283254623413\n",
      "epoch=1, batch=50, loss=0.028794072568416595\n",
      "epoch=1, batch=60, loss=0.014664740301668644\n",
      "epoch=1, batch=70, loss=0.02903752028942108\n",
      "epoch=1, batch=80, loss=0.049626424908638\n",
      "epoch=1, batch=90, loss=0.016849104315042496\n",
      "epoch=1, batch=100, loss=0.026103021577000618\n",
      "epoch=1, batch=110, loss=0.02116307243704796\n",
      "epoch=1, batch=120, loss=0.032237160950899124\n",
      "epoch=1, batch=130, loss=0.028605949133634567\n",
      "epoch=1, batch=140, loss=0.013064118102192879\n",
      "epoch=1, batch=150, loss=0.02219739370048046\n",
      "epoch=1, batch=160, loss=0.021425599232316017\n",
      "epoch=1, batch=170, loss=0.01676071062684059\n",
      "epoch=1, batch=180, loss=0.08740974217653275\n",
      "epoch=1, batch=190, loss=0.03254927694797516\n",
      "epoch=1, batch=200, loss=0.03531084582209587\n",
      "epoch=1, batch=210, loss=0.03728795051574707\n",
      "epoch=1, batch=220, loss=0.027893614023923874\n",
      "epoch=1, batch=230, loss=0.06230054423213005\n",
      "epoch=1, batch=240, loss=0.031644146889448166\n",
      "epoch=1, batch=250, loss=0.038858868181705475\n",
      "epoch=1, batch=260, loss=0.04568812996149063\n",
      "epoch=1, batch=270, loss=0.028849761933088303\n",
      "epoch=1, batch=280, loss=0.018262965604662895\n",
      "epoch=1, batch=290, loss=0.03310278803110123\n",
      "epoch=1, batch=300, loss=0.04063141345977783\n",
      "epoch=1, batch=310, loss=0.048193588852882385\n",
      "epoch=1, batch=320, loss=0.02139095403254032\n",
      "epoch=1, batch=330, loss=0.02289002388715744\n",
      "epoch=1, batch=340, loss=0.03229617327451706\n",
      "epoch=1, batch=350, loss=0.02674977481365204\n",
      "epoch=1, batch=360, loss=0.025215694680809975\n",
      "epoch=1, batch=370, loss=0.01277252472937107\n",
      "epoch=1, batch=380, loss=0.037093065679073334\n",
      "epoch=1, batch=390, loss=0.03576554358005524\n",
      "epoch=1, batch=400, loss=0.01793418824672699\n",
      "epoch=1, batch=410, loss=0.021511338651180267\n",
      "epoch=1, batch=420, loss=0.022595897316932678\n",
      "epoch=1, batch=430, loss=0.016971923410892487\n",
      "epoch=1, batch=440, loss=0.014044882729649544\n",
      "epoch=1, batch=450, loss=0.04480411857366562\n",
      "epoch=1, batch=460, loss=0.013923171907663345\n",
      "epoch=1, batch=470, loss=0.013682912103831768\n",
      "epoch=1, batch=480, loss=0.029646655544638634\n",
      "epoch=1, batch=490, loss=0.2190670371055603\n",
      "epoch=1, batch=500, loss=0.031904760748147964\n",
      "epoch=1, batch=510, loss=0.025512516498565674\n",
      "epoch=1, batch=520, loss=0.02907950058579445\n",
      "epoch=1, batch=530, loss=0.017415499314665794\n",
      "epoch=1, batch=540, loss=0.025274332612752914\n",
      "epoch=1, batch=550, loss=0.017794162034988403\n",
      "epoch=1, batch=560, loss=0.01531081274151802\n",
      "epoch=1, batch=570, loss=0.03107372857630253\n",
      "epoch=1, batch=580, loss=0.02092820778489113\n",
      "epoch=1, batch=590, loss=0.03826705738902092\n",
      "epoch=1, batch=600, loss=0.01997379958629608\n",
      "epoch=1, batch=610, loss=0.015801066532731056\n",
      "epoch=1, batch=620, loss=0.024762727320194244\n",
      "epoch=1, batch=630, loss=0.040286142379045486\n",
      "epoch=1, batch=640, loss=0.022446725517511368\n",
      "epoch=1, batch=650, loss=0.025591449812054634\n",
      "epoch=1, batch=660, loss=0.04469817876815796\n",
      "epoch=1, batch=670, loss=0.05948086827993393\n",
      "epoch=1, batch=680, loss=0.05301399528980255\n",
      "epoch=1, batch=690, loss=0.027989696711301804\n",
      "epoch=1, batch=700, loss=0.03732389584183693\n",
      "epoch=1, batch=710, loss=0.019420042634010315\n",
      "epoch=1, batch=720, loss=0.022135011851787567\n",
      "epoch=1, batch=730, loss=0.030205927789211273\n",
      "epoch=1, batch=740, loss=0.028825554996728897\n",
      "epoch=1, batch=750, loss=0.017671452835202217\n",
      "epoch=1, batch=760, loss=0.0262900460511446\n",
      "epoch=1, batch=770, loss=0.021071020513772964\n",
      "epoch=1, batch=780, loss=0.03447042778134346\n",
      "epoch=1, batch=790, loss=0.03152427449822426\n",
      "epoch=1, batch=800, loss=0.037391699850559235\n",
      "epoch=1, batch=810, loss=0.021989353001117706\n"
     ]
    },
    {
     "name": "stdout",
     "output_type": "stream",
     "text": [
      "epoch=1, batch=820, loss=0.03327369689941406\n",
      "epoch=1, batch=830, loss=0.022221066057682037\n",
      "epoch=1, batch=840, loss=0.020134780555963516\n",
      "epoch=1, batch=850, loss=0.029627757146954536\n",
      "epoch=1, batch=860, loss=0.02845510095357895\n",
      "epoch=1, batch=870, loss=0.020908791571855545\n",
      "epoch=1, batch=880, loss=0.025399185717105865\n",
      "epoch=1, batch=890, loss=0.03415156155824661\n",
      "epoch=1, batch=900, loss=0.02706643007695675\n",
      "epoch=1, batch=910, loss=0.015342127531766891\n",
      "epoch=1, batch=920, loss=0.019997674971818924\n",
      "epoch=1, batch=930, loss=0.019294749945402145\n",
      "epoch=1, batch=940, loss=0.013222961686551571\n",
      "epoch=1, batch=950, loss=0.021440332755446434\n",
      "epoch=1, batch=960, loss=0.015945736318826675\n",
      "epoch=1, batch=970, loss=0.007941056042909622\n",
      "epoch=1, batch=980, loss=0.011287192814052105\n",
      "epoch=1, batch=990, loss=0.020220141857862473\n"
     ]
    }
   ],
   "source": [
    "epochs = 2\n",
    "batch_size = 100\n",
    "\n",
    "for epoch in range(epochs):\n",
    "    \n",
    "    for i in range(0, len(x_train), batch_size):\n",
    "        start_index = i\n",
    "        end_index = i+batch_size\n",
    "        \n",
    "        x_batch = x_train[start_index:end_index]\n",
    "        y_batch = y_d[start_index:end_index]\n",
    "        \n",
    "        optimizer.zero_grad()\n",
    "\n",
    "        y_hat = model(x_batch)\n",
    "\n",
    "        loss = sum(sum((y_batch - y_hat)**2))\n",
    "        \n",
    "        loss.backward()\n",
    "        optimizer.step()\n",
    "        \n",
    "        print(f'{epoch=}, batch={i}, loss={float(loss)}')"
   ]
  },
  {
   "cell_type": "code",
   "execution_count": 16,
   "metadata": {
    "pycharm": {
     "name": "#%%\n"
    }
   },
   "outputs": [
    {
     "name": "stdout",
     "output_type": "stream",
     "text": [
      "y_pred=tensor([[ 0.2621,  0.1862, -0.0496],\n",
      "        [ 0.3322,  0.3651, -0.0427]])\n",
      "y_d_test=tensor([[ 0.2232,  0.1786, -0.0893],\n",
      "        [ 0.3750,  0.4018, -0.0357]])\n",
      "[{'x1': 74.13916778564453, 'y1': 65.63678741455078, 'x2': 96.58092498779297, 'y2': 88.07854461669922}]\n",
      "[{'x1': 81.60196685791016, 'y1': 85.287109375, 'x2': 104.82074737548828, 'y2': 108.50588989257812}]\n"
     ]
    },
    {
     "data": {
      "image/png": "[encoded data removed]",
      "text/plain": [
       "<Figure size 432x288 with 1 Axes>"
      ]
     },
     "metadata": {
      "needs_background": "light"
     },
     "output_type": "display_data"
    },
    {
     "data": {
      "image/png": "[encoded data removed]",
      "text/plain": [
       "<Figure size 432x288 with 1 Axes>"
      ]
     },
     "metadata": {
      "needs_background": "light"
     },
     "output_type": "display_data"
    }
   ],
   "source": [
    "with torch.no_grad():\n",
    "    y_pred = model(x_test)\n",
    "    \n",
    "    print(f'{y_pred=}\\n{y_d_test=}')\n",
    "    \n",
    "    y_pred = diff_to_units(y_pred)\n",
    "    for i in range(len(y_pred)):\n",
    "\n",
    "        cx_pred, cy_pred, w_pred = y_pred[i]\n",
    "        pred_boxes = [{\n",
    "            'x1': float(cx_pred - w_pred / 2),\n",
    "            'y1': float(cy_pred - w_pred / 2),\n",
    "            'x2': float(cx_pred + w_pred / 2),\n",
    "            'y2': float(cy_pred + w_pred / 2)\n",
    "        }]\n",
    "\n",
    "        # pred_boxes.extend(list(y_test[i]))\n",
    "        print(f'{pred_boxes}')\n",
    "\n",
    "        DataManager.plot_num(x_test[i].reshape((112, 112)), pred_boxes)\n"
   ]
  },
  {
   "cell_type": "code",
   "execution_count": null,
   "metadata": {},
   "outputs": [],
   "source": []
  }
 ],
 "metadata": {
  "kernelspec": {
   "display_name": "Python 3",
   "language": "python",
   "name": "python3"
  },
  "language_info": {
   "codemirror_mode": {
    "name": "ipython",
    "version": 3
   },
   "file_extension": ".py",
   "mimetype": "text/x-python",
   "name": "python",
   "nbconvert_exporter": "python",
   "pygments_lexer": "ipython3",
   "version": "3.8.3"
  }
 },
 "nbformat": 4,
 "nbformat_minor": 1
}