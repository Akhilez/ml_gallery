{
 "nbformat": 4,
 "nbformat_minor": 0,
 "metadata": {
  "colab": {
   "name": "mnist_detection.ipynb",
   "provenance": [],
   "collapsed_sections": []
  },
  "kernelspec": {
   "name": "python3",
   "display_name": "Python 3"
  },
  "accelerator": "GPU"
 },
 "cells": [
  {
   "cell_type": "code",
   "metadata": {
    "id": "LkRNO3wP-DVR",
    "colab_type": "code",
    "colab": {
     "base_uri": "https://localhost:8080/",
     "height": 153
    },
    "outputId": "104c822c-70fb-487d-a219-aed619034473"
   },
   "source": [
    "!rm -rf *\n",
    "!git config --global user.name \"Akhilez\"\n",
    "!git config --global user.email \"akhild18@yahoo.com\"\n",
    "!git clone https://github.com/Akhilez/ml_gallery.git\n",
    "%cd ml_gallery/ml_py"
   ],
   "execution_count": 77,
   "outputs": [
    {
     "output_type": "stream",
     "text": [
      "Cloning into 'ml_gallery'...\n",
      "remote: Enumerating objects: 605, done.\u001B[K\n",
      "remote: Counting objects: 100% (605/605), done.\u001B[K\n",
      "remote: Compressing objects: 100% (418/418), done.\u001B[K\n",
      "remote: Total 2132 (delta 373), reused 368 (delta 173), pack-reused 1527\u001B[K\n",
      "Receiving objects: 100% (2132/2132), 11.87 MiB | 19.66 MiB/s, done.\n",
      "Resolving deltas: 100% (1311/1311), done.\n",
      "/content/ml_gallery/ml_py/ml_gallery/ml_py/ml_gallery/ml_py\n"
     ],
     "name": "stdout"
    }
   ]
  },
  {
   "cell_type": "code",
   "metadata": {
    "id": "mRMuULbI-0ML",
    "colab_type": "code",
    "colab": {}
   },
   "source": [
    "import os\n",
    "os.environ['SECRET_KEY'] = '1234'\n",
    "%mkdir -p data/mnist/numbers"
   ],
   "execution_count": 78,
   "outputs": []
  },
  {
   "cell_type": "code",
   "metadata": {
    "id": "jMr-foIX-5i5",
    "colab_type": "code",
    "colab": {}
   },
   "source": [
    "import torch\n",
    "from torch.nn.functional import relu, dropout\n",
    "from collections import namedtuple\n",
    "import numpy as np\n",
    "from lib.mnist_aug.mnist_augmenter import DataManager, MNISTAug\n",
    "import torchvision"
   ],
   "execution_count": 79,
   "outputs": []
  },
  {
   "cell_type": "code",
   "metadata": {
    "id": "eshztUwq-6FE",
    "colab_type": "code",
    "colab": {
     "base_uri": "https://localhost:8080/",
     "height": 34
    },
    "outputId": "c4839f0f-d7bd-4f39-9063-70b9a24fe433"
   },
   "source": [
    "# Device configuration\n",
    "device = torch.device('cuda' if torch.cuda.is_available() else 'cpu')\n",
    "device"
   ],
   "execution_count": 80,
   "outputs": [
    {
     "output_type": "execute_result",
     "data": {
      "text/plain": [
       "device(type='cuda')"
      ]
     },
     "metadata": {
      "tags": []
     },
     "execution_count": 80
    }
   ]
  },
  {
   "cell_type": "code",
   "metadata": {
    "id": "z0Db7Exb-8D8",
    "colab_type": "code",
    "colab": {}
   },
   "source": [
    "#aug = MNISTAug()\n",
    "#dm = DataManager()\n",
    "#dm.load()\n",
    "aug.max_objects = 10\n",
    "aug.min_objects = 4\n",
    "aug.spacing = 1\n",
    "aug.scaling_mean = 1\n",
    "aug.scaling_sd = 0.25\n",
    "aug.overflow = 0"
   ],
   "execution_count": 151,
   "outputs": []
  },
  {
   "cell_type": "code",
   "metadata": {
    "id": "FCidsSEL_T9U",
    "colab_type": "code",
    "colab": {}
   },
   "source": [
    "x_train, y_train = aug.get_augmented(dm.x_train, dm.y_train, 1000)\n",
    "x_test, y_test = aug.get_augmented(dm.x_test, dm.y_test, 10)"
   ],
   "execution_count": 152,
   "outputs": []
  },
  {
   "cell_type": "code",
   "metadata": {
    "id": "GsNoRI-a_Z8m",
    "colab_type": "code",
    "colab": {}
   },
   "source": [
    "x_train = torch.tensor(x_train.reshape(-1, 1, 112, 112)).type('torch.FloatTensor')\n",
    "x_test = torch.tensor(x_test.reshape(-1, 1, 112, 112)).type('torch.FloatTensor')"
   ],
   "execution_count": 153,
   "outputs": []
  },
  {
   "cell_type": "code",
   "metadata": {
    "id": "QbZOSOWO_cZ7",
    "colab_type": "code",
    "colab": {
     "base_uri": "https://localhost:8080/",
     "height": 1000
    },
    "outputId": "c1fee20c-351f-450f-8b45-16086a78aaca"
   },
   "source": [
    "test_index = 3\n",
    "DataManager.plot_num(x_train[test_index].reshape((112, 112)), y_train[test_index])\n",
    "y_train[test_index]"
   ],
   "execution_count": 154,
   "outputs": [
    {
     "output_type": "execute_result",
     "data": {
      "text/plain": [
       "[{'class': 6,\n",
       "  'class_one_hot': tensor([0., 0., 0., 0., 0., 0., 1., 0., 0., 0.]),\n",
       "  'cx': 84.5,\n",
       "  'cy': 63.5,\n",
       "  'height': 19,\n",
       "  'width': 19,\n",
       "  'x1': 75,\n",
       "  'x2': 94,\n",
       "  'y1': 54,\n",
       "  'y2': 73},\n",
       " {'class': 4,\n",
       "  'class_one_hot': tensor([0., 0., 0., 0., 1., 0., 0., 0., 0., 0.]),\n",
       "  'cx': 78.5,\n",
       "  'cy': 20.5,\n",
       "  'height': 29,\n",
       "  'width': 29,\n",
       "  'x1': 64,\n",
       "  'x2': 93,\n",
       "  'y1': 6,\n",
       "  'y2': 35},\n",
       " {'class': 0,\n",
       "  'class_one_hot': tensor([1., 0., 0., 0., 0., 0., 0., 0., 0., 0.]),\n",
       "  'cx': 56.0,\n",
       "  'cy': 96.0,\n",
       "  'height': 12,\n",
       "  'width': 12,\n",
       "  'x1': 50,\n",
       "  'x2': 62,\n",
       "  'y1': 90,\n",
       "  'y2': 102},\n",
       " {'class': 4,\n",
       "  'class_one_hot': tensor([0., 0., 0., 0., 1., 0., 0., 0., 0., 0.]),\n",
       "  'cx': 50.0,\n",
       "  'cy': 45.0,\n",
       "  'height': 18,\n",
       "  'width': 18,\n",
       "  'x1': 41,\n",
       "  'x2': 59,\n",
       "  'y1': 36,\n",
       "  'y2': 54},\n",
       " {'class': 8,\n",
       "  'class_one_hot': tensor([0., 0., 0., 0., 0., 0., 0., 0., 1., 0.]),\n",
       "  'cx': 38.5,\n",
       "  'cy': 72.5,\n",
       "  'height': 27,\n",
       "  'width': 27,\n",
       "  'x1': 25,\n",
       "  'x2': 52,\n",
       "  'y1': 59,\n",
       "  'y2': 86},\n",
       " {'class': 4,\n",
       "  'class_one_hot': tensor([0., 0., 0., 0., 1., 0., 0., 0., 0., 0.]),\n",
       "  'cx': 87.5,\n",
       "  'cy': 95.5,\n",
       "  'height': 31,\n",
       "  'width': 31,\n",
       "  'x1': 72,\n",
       "  'x2': 103,\n",
       "  'y1': 80,\n",
       "  'y2': 111},\n",
       " {'class': 5,\n",
       "  'class_one_hot': tensor([0., 0., 0., 0., 0., 1., 0., 0., 0., 0.]),\n",
       "  'cx': 18.0,\n",
       "  'cy': 31.0,\n",
       "  'height': 34,\n",
       "  'width': 34,\n",
       "  'x1': 1,\n",
       "  'x2': 35,\n",
       "  'y1': 14,\n",
       "  'y2': 48},\n",
       " {'class': 5,\n",
       "  'class_one_hot': tensor([0., 0., 0., 0., 0., 1., 0., 0., 0., 0.]),\n",
       "  'cx': 48.0,\n",
       "  'cy': 25.0,\n",
       "  'height': 20,\n",
       "  'width': 20,\n",
       "  'x1': 38,\n",
       "  'x2': 58,\n",
       "  'y1': 15,\n",
       "  'y2': 35}]"
      ]
     },
     "metadata": {
      "tags": []
     },
     "execution_count": 154
    },
    {
     "output_type": "display_data",
     "data": {
      "image/png": "[encoded data removed]",
      "text/plain": [
       "<Figure size 432x288 with 1 Axes>"
      ]
     },
     "metadata": {
      "tags": [],
      "needs_background": "light"
     }
    }
   ]
  },
  {
   "cell_type": "code",
   "metadata": {
    "id": "1Y5MvcmNiNbD",
    "colab_type": "code",
    "colab": {}
   },
   "source": [
    "def to_one_hot(x, num_classes=10):\n",
    "  b = np.zeros((len(x), num_classes), dtype=np.float32)\n",
    "  b[np.arange(len(x)), x] = 1\n",
    "  return b"
   ],
   "execution_count": 155,
   "outputs": []
  },
  {
   "cell_type": "code",
   "metadata": {
    "id": "jI8jVrA5_ecs",
    "colab_type": "code",
    "colab": {}
   },
   "source": [
    "img_width = 112\n",
    "n_anchors_row = 4\n",
    "n_anchors = n_anchors_row ** 2\n",
    "anchor_width = 28\n",
    "anchor_grid_spacing = img_width / n_anchors_row\n",
    "\n",
    "anchor_centers = []\n",
    "for i in range(n_anchors_row):\n",
    "  anchor_row = []\n",
    "  for j in range(n_anchors_row):\n",
    "    anchor_row.append([\n",
    "      j * anchor_grid_spacing + anchor_grid_spacing / 2,\n",
    "      i * anchor_grid_spacing + anchor_grid_spacing / 2,\n",
    "    ])\n",
    "  anchor_centers.append(anchor_row)\n",
    "anchor_centers = torch.tensor(anchor_centers).reshape((-1, 2))"
   ],
   "execution_count": 163,
   "outputs": []
  },
  {
   "cell_type": "code",
   "metadata": {
    "id": "cMmayJpt3snc",
    "colab_type": "code",
    "colab": {}
   },
   "source": [
    "def get_fractional_difference(anchor, bounding_box):\n",
    "  a_box = anchor\n",
    "  b_box = bounding_box\n",
    "\n",
    "  cx_d = (b_box['cx'] - a_box[0]) / img_width\n",
    "  cy_d = (b_box['cy'] - a_box[1]) / img_width\n",
    "  wd = (b_box['width'] - anchor_width) / img_width\n",
    "\n",
    "  return cx_d, cy_d, wd\n",
    "\n",
    "def get_units_from_diff(anchors, bounding_boxes):\n",
    "    diffs = torch.zeros((len(anchors), 3)).to(device)\n",
    "    for i in range(len(anchors)):\n",
    "        diffs[i][0] = bounding_boxes[i][0] * img_width + anchors[i][0]\n",
    "        diffs[i][1] = bounding_boxes[i][1] * img_width + anchors[i][1]\n",
    "        diffs[i][2] = bounding_boxes[i][2] * img_width + anchor_width\n",
    "\n",
    "    return diffs"
   ],
   "execution_count": 87,
   "outputs": []
  },
  {
   "cell_type": "code",
   "metadata": {
    "id": "o-zkgDcan4ss",
    "colab_type": "code",
    "colab": {}
   },
   "source": [
    "def get_iou(anchor_center, bounding_box):\n",
    "\n",
    "    half_anchor_width = anchor_width / 2\n",
    "    boxA = [\n",
    "        anchor_center[0]-half_anchor_width, \n",
    "        anchor_center[1]-half_anchor_width,\n",
    "        anchor_center[0]+half_anchor_width,\n",
    "        anchor_center[1]+half_anchor_width\n",
    "    ]\n",
    "    boxB = [bounding_box['x1'], bounding_box['y1'], bounding_box['x2'], bounding_box['y2']]\n",
    "\n",
    "    # determine the (x, y)-coordinates of the intersection rectangle\n",
    "    xA = max(boxA[0], boxB[0])\n",
    "    yA = max(boxA[1], boxB[1])\n",
    "    xB = min(boxA[2], boxB[2])\n",
    "    yB = min(boxA[3], boxB[3])\n",
    "    # compute the area of intersection rectangle\n",
    "    interArea = max(0, xB - xA + 1) * max(0, yB - yA + 1)\n",
    "    # compute the area of both the prediction and ground-truth\n",
    "    # rectangles\n",
    "    boxAArea = (boxA[2] - boxA[0] + 1) * (boxA[3] - boxA[1] + 1)\n",
    "    boxBArea = (boxB[2] - boxB[0] + 1) * (boxB[3] - boxB[1] + 1)\n",
    "    # compute the intersection over union by taking the intersection\n",
    "    # area and dividing it by the sum of prediction + ground-truth\n",
    "    # areas - the interesection area\n",
    "    iou = interArea / float(boxAArea + boxBArea - interArea)\n",
    "    # return the intersection over union value\n",
    "    return iou"
   ],
   "execution_count": 88,
   "outputs": []
  },
  {
   "cell_type": "code",
   "metadata": {
    "id": "A0CKF8vFvNe3",
    "colab_type": "code",
    "colab": {}
   },
   "source": [
    "def get_positive_anchors(y_batch):\n",
    "    \"\"\"\n",
    "    1. For Each item in the batch:\n",
    "    2. For each anchor box:\n",
    "    - For each bounding box:\n",
    "        - Find the IoU.\n",
    "    - Pick bounding box with highest IoU for that anchor.\n",
    "    - # TODO: Pick the anchor with the highest IoU for that bounding box.\n",
    "    - If highest IoU is < 0.3, then continue 1.\n",
    "    # - Create the difference units for the anchor and the bounding box as y\n",
    "    - Now add the anchor box and bounding box into a map.\n",
    "    \"\"\"\n",
    "    all_positive_pairs = []\n",
    "    for batch_i in range(len(y_batch)):\n",
    "        positive_pairs_batch = []\n",
    "        max_iou_b = {}\n",
    "        max_iou_a = {}\n",
    "\n",
    "        # ---------- The two loops --------------\n",
    "\n",
    "        for anchor_i in range(len(anchor_centers)):\n",
    "            for bb_i in range(len(y_batch[batch_i])):\n",
    "\n",
    "                b_box = y_batch[batch_i][bb_i]\n",
    "                a_box = anchor_centers[anchor_i]\n",
    "\n",
    "                iou = get_iou(a_box, b_box)\n",
    "                default_iou = {'iou': 0, 'bb_i': -1, 'ab_i': -1}\n",
    "\n",
    "                # --------------- Find max IoUs ------------------\n",
    "\n",
    "                if iou > max_iou_b.get(bb_i, default_iou)['iou']:\n",
    "                    max_iou_b[bb_i] = {\n",
    "                        'iou': iou,\n",
    "                        'bb_i': bb_i,\n",
    "                        'ab_i': anchor_i\n",
    "                    }\n",
    "\n",
    "                if iou > 0.5 and iou > max_iou_a.get(anchor_i, default_iou)['iou']:\n",
    "                    max_iou_a[anchor_i] = {\n",
    "                        'iou': iou,\n",
    "                        'bb_i': bb_i,\n",
    "                        'ab_i': anchor_i\n",
    "                    }\n",
    "\n",
    "        # --------- Merge both max ious ----------------\n",
    "        \n",
    "        positive_pairs = [max_iou_b[index] for index in list(max_iou_b.keys())]\n",
    "        for index in list(max_iou_a.keys()):\n",
    "            if max_iou_a[index] not in positive_pairs:\n",
    "                positive_pairs.append(max_iou_a[index])\n",
    "        all_positive_pairs.append(positive_pairs)\n",
    "\n",
    "    return all_positive_pairs"
   ],
   "execution_count": 89,
   "outputs": []
  },
  {
   "cell_type": "code",
   "metadata": {
    "id": "CU87LW700FIz",
    "colab_type": "code",
    "colab": {
     "base_uri": "https://localhost:8080/",
     "height": 68
    },
    "outputId": "5c380ee3-0f0c-4c6d-c8cf-008b254fd264"
   },
   "source": [
    "positives = get_positive_anchors(y_test[:2])\n",
    "for positive in positives:\n",
    "  print(len(positive))\n",
    "n_anchors"
   ],
   "execution_count": 90,
   "outputs": [
    {
     "output_type": "stream",
     "text": [
      "2\n",
      "3\n"
     ],
     "name": "stdout"
    },
    {
     "output_type": "execute_result",
     "data": {
      "text/plain": [
       "16"
      ]
     },
     "metadata": {
      "tags": []
     },
     "execution_count": 90
    }
   ]
  },
  {
   "cell_type": "code",
   "metadata": {
    "id": "mOYEt0PtqNnp",
    "colab_type": "code",
    "colab": {}
   },
   "source": [
    "def get_y_d(y):\n",
    "  \"\"\"\n",
    "  Find all the positive anchor pairs.\n",
    "  for each of y:\n",
    "    for each pair in yi:\n",
    "      find fractional difference in anchor and bounding box.\n",
    "      append the fractional difference to the pair.\n",
    "  \"\"\"\n",
    "  y_d = []\n",
    "  positive_pairs = get_positive_anchors(y)\n",
    "  for yi in range(len(y)):\n",
    "    diffs = []\n",
    "    for pair_i in range(len(y[yi])):\n",
    "      pair = positive_pairs[yi][pair_i]\n",
    "      anchor = anchor_centers[pair['ab_i']]\n",
    "      bounding_box = y[yi][pair['bb_i']]\n",
    "      cx_d, cy_d, wd = get_fractional_difference(anchor, bounding_box)\n",
    "      diffs.append((cx_d, cy_d, wd, pair['ab_i'], pair['bb_i']))\n",
    "    y_d.append(torch.tensor(diffs))\n",
    "  return y_d"
   ],
   "execution_count": 91,
   "outputs": []
  },
  {
   "cell_type": "code",
   "metadata": {
    "id": "scrpMShajX4I",
    "colab_type": "code",
    "colab": {}
   },
   "source": [
    "y_train_d = get_y_d(y_train)\n",
    "y_test_d = get_y_d(y_test)"
   ],
   "execution_count": 157,
   "outputs": []
  },
  {
   "cell_type": "code",
   "metadata": {
    "id": "cGzrsvx1IemW",
    "colab_type": "code",
    "colab": {}
   },
   "source": [
    "is_training = True\n",
    "drop_p = 0.3\n",
    "\n",
    "\n",
    "class BoxPredictor(torch.nn.Module):\n",
    "  def __init__(self):\n",
    "    super().__init__()\n",
    "    self.linear1 = torch.nn.Linear(1024, 512)\n",
    "    self.linear2 = torch.nn.Linear(512, 3 * n_anchors)\n",
    "\n",
    "  def forward(self, x):\n",
    "    x = dropout(relu(self.linear1(x)), drop_p, is_training)\n",
    "    x = torch.tanh(self.linear2(x))\n",
    "    return x.reshape((-1, n_anchors, 3))\n",
    "\n",
    "\n",
    "class ConfidencePredictor(torch.nn.Module):\n",
    "  def __init__(self):\n",
    "    super().__init__()\n",
    "    self.linear1 = torch.nn.Linear(1024, 512)\n",
    "    self.linear2 = torch.nn.Linear(512, n_anchors)\n",
    "\n",
    "  def forward(self, x):\n",
    "    x = dropout(torch.relu(self.linear1(x)), drop_p, is_training)\n",
    "    x = torch.sigmoid(self.linear2(x))\n",
    "    return x\n",
    "\n",
    "\n",
    "class DetectorV1 (torch.nn.Module):\n",
    "    def __init__(self):\n",
    "        super().__init__()\n",
    "        self.conv1 = torch.nn.Conv2d(1, 10, 3, padding=1)\n",
    "        self.conv2 = torch.nn.Conv2d(10, 20, 3, stride=2, padding=1)\n",
    "        self.conv3 = torch.nn.Conv2d(20, 40, 3, stride=2)\n",
    "        self.conv4 = torch.nn.Conv2d(40, 80, 3, stride=2, padding=1)\n",
    "        self.conv5 = torch.nn.Conv2d(80, 160, 3, stride=2)\n",
    "        self.linear1 = torch.nn.Linear(5760, 1024)\n",
    "        self.box_predictor = BoxPredictor()\n",
    "        self.confidence_predictor = ConfidencePredictor()\n",
    "\n",
    "    def forward(self, x):\n",
    "        x = relu(self.conv1(x))\n",
    "        x = relu(self.conv2(x))\n",
    "        x = relu(self.conv3(x))\n",
    "        x = relu(self.conv4(x))\n",
    "        x = relu(self.conv5(x))\n",
    "        x = torch.flatten(x, 1)\n",
    "        x = dropout(relu(self.linear1(x)), drop_p, is_training)\n",
    "        boxes = self.box_predictor(x)\n",
    "        confidences = self.confidence_predictor(x)\n",
    "        return boxes, confidences\n",
    "\n",
    "model = DetectorV1().to(device)"
   ],
   "execution_count": 196,
   "outputs": []
  },
  {
   "cell_type": "code",
   "metadata": {
    "id": "Inl3qTvJHtV2",
    "colab_type": "code",
    "colab": {}
   },
   "source": [
    "optimizer = torch.optim.Adam(model.parameters())\n",
    "# optimizer = torch.optim.SGD(model.parameters(), lr=0.0001)"
   ],
   "execution_count": 197,
   "outputs": []
  },
  {
   "cell_type": "markdown",
   "metadata": {
    "id": "Q1hyZNulvcq_",
    "colab_type": "text"
   },
   "source": [
    "Steps:\n",
    " - get the predictions.\n",
    " - Find the anchors which have >0.1 IoU -> +ve anchors\n",
    " - Find the matching bounding box for each +ve anchor\n",
    " - All +ve anchors are high confidence, rest are low.\n",
    " - What is the loss for -ve anchors?\n",
    "\n",
    "\n",
    " - For each of the positive anchors, Find loss and add it to the total loss.\n",
    " - Find loss of the confidences.\n",
    " - \n"
   ]
  },
  {
   "cell_type": "code",
   "metadata": {
    "id": "SGl7qtS3u92g",
    "colab_type": "code",
    "colab": {
     "base_uri": "https://localhost:8080/",
     "height": 153
    },
    "outputId": "7c56895f-2646-4af0-a721-d3261a17a2e2"
   },
   "source": [
    "epochs = 50\n",
    "batch_size = 16\n",
    "is_training = True\n",
    "\n",
    "for epoch in range(epochs):\n",
    "    \n",
    "    for i in range(0, len(x_train), batch_size):\n",
    "        start_index = i\n",
    "        end_index = i+batch_size\n",
    "        \n",
    "        x_batch = x_train[start_index:end_index].to(device)\n",
    "        y_batch = y_train_d[start_index:end_index]\n",
    "        \n",
    "        optimizer.zero_grad()\n",
    "\n",
    "        y_hat_boxes, y_hat_confidences = model(x_batch)\n",
    "\n",
    "        loss = 0\n",
    "        for batch_i in range(len(y_batch)):  # Each image\n",
    "            y_diffs = y_batch[batch_i]\n",
    "            \"\"\"\n",
    "            1. find losses for each positive anchor\n",
    "            2. Sum them all up.\n",
    "            3. Create an array of n_anchors length for target confidences.\n",
    "            4. Make confidences 1 for positive indices.\n",
    "            5. Find losses for confidences. \n",
    "            \"\"\"\n",
    "            y_confidences = torch.zeros((n_anchors)).to(device)\n",
    "            for anchor_i in range(len(y_batch[batch_i])):  # Each positive anchor\n",
    "                box_index = int(y_batch[batch_i][anchor_i][4])\n",
    "                yd_box = y_batch[batch_i][anchor_i][:3].to(device)\n",
    "\n",
    "                anchor_index = int(y_batch[batch_i][anchor_i][3])\n",
    "                yd_pred = y_hat_boxes[batch_i][anchor_index]\n",
    "\n",
    "                loss += sum((yd_box - yd_pred) ** 2)\n",
    "\n",
    "                y_confidences[anchor_index] = 1.0\n",
    "\n",
    "            loss += sum((y_confidences - y_hat_confidences[batch_i]) ** 2)\n",
    "        \n",
    "        loss.backward()\n",
    "        optimizer.step()\n",
    "\n",
    "    print(f'Epoch: {epoch}\\tloss: {float(loss)}')"
   ],
   "execution_count": null,
   "outputs": [
    {
     "output_type": "stream",
     "text": [
      "Epoch: 0\tloss: 23.839130401611328\n",
      "Epoch: 1\tloss: 16.75935173034668\n",
      "Epoch: 2\tloss: 9.506013870239258\n",
      "Epoch: 3\tloss: 9.902826309204102\n",
      "Epoch: 4\tloss: 7.350144863128662\n",
      "Epoch: 5\tloss: 5.455845355987549\n",
      "Epoch: 6\tloss: 5.367511749267578\n",
      "Epoch: 7\tloss: 4.230063438415527\n"
     ],
     "name": "stdout"
    }
   ]
  },
  {
   "cell_type": "markdown",
   "metadata": {
    "id": "IpG50eLc7uy1",
    "colab_type": "text"
   },
   "source": [
    "- get predictions\n",
    "- get all anchor indices where confidences are > 0\n",
    "- Find the coordinates of the boxes.\n",
    "- Do nms on those.\n",
    "- plot them."
   ]
  },
  {
   "cell_type": "code",
   "metadata": {
    "id": "sQCZUhxLNskB",
    "colab_type": "code",
    "colab": {}
   },
   "source": [
    "with torch.no_grad():\n",
    "    is_training = False\n",
    "    y_hat_boxes, y_hat_confidences = model(x_test.to(device))\n",
    "    for batch_i in range(len(x_test)):\n",
    "        positive_indices = (y_hat_confidences[batch_i] > 0.7).nonzero().reshape((-1))\n",
    "\n",
    "        pred_boxes = y_hat_boxes[batch_i][positive_indices]\n",
    "        anchors = anchor_centers[positive_indices]\n",
    "        pred_confidences = y_hat_confidences[batch_i][positive_indices]\n",
    "        pred_boxes = get_units_from_diff(anchors, pred_boxes)\n",
    "\n",
    "        pred_boxes = torch.tensor([[\n",
    "            float(box[0] - box[2] / 2),\n",
    "            float(box[1] - box[2] / 2),\n",
    "            float(box[0] + box[2] / 2),\n",
    "            float(box[1] + box[2] / 2)\n",
    "         ] for box in pred_boxes]).to(device)\n",
    "        \n",
    "        #keep_indices = torchvision.ops.nms(pred_boxes, pred_confidences, 0.1)\n",
    "        #pred_boxes = pred_boxes[keep_indices]\n",
    "\n",
    "        DataManager.plot_num(\n",
    "            x_test[batch_i].reshape((img_width, img_width)), \n",
    "            [{'x1': box[0], 'y1': box[1], 'x2': box[2], 'y2': box[3]} for box in pred_boxes] # + y_test[batch_i]\n",
    "        )\n"
   ],
   "execution_count": null,
   "outputs": []
  },
  {
   "cell_type": "code",
   "metadata": {
    "id": "Jr7KlqkbC75n",
    "colab_type": "code",
    "colab": {}
   },
   "source": [
    ""
   ],
   "execution_count": null,
   "outputs": []
  }
 ]
}