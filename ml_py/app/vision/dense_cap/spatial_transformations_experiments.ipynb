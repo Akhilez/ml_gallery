{
 "cells": [
  {
   "cell_type": "code",
   "execution_count": 8,
   "metadata": {
    "collapsed": true
   },
   "outputs": [],
   "source": [
    "import torch\n",
    "from torch.nn.functional import relu\n",
    "import numpy as np\n",
    "from lib.mnist_aug.mnist_augmenter import DataManager, MNISTAug"
   ]
  },
  {
   "cell_type": "code",
   "execution_count": null,
   "outputs": [],
   "source": [
    "aug = MNISTAug()\n",
    "dm = DataManager()\n",
    "dm.load_test()"
   ],
   "metadata": {
    "collapsed": false,
    "pycharm": {
     "name": "#%%\n"
    }
   }
  },
  {
   "cell_type": "code",
   "execution_count": null,
   "outputs": [],
   "source": [
    "aug.min_objects = 1\n",
    "aug.max_objects = 1"
   ],
   "metadata": {
    "collapsed": false,
    "pycharm": {
     "name": "#%%\n"
    }
   }
  },
  {
   "cell_type": "code",
   "execution_count": null,
   "outputs": [],
   "source": [
    "image, label = aug.get_augmented(dm.x_test, dm.y_test, 1)\n",
    "image = image[0]\n",
    "label = label[0]"
   ],
   "metadata": {
    "collapsed": false,
    "pycharm": {
     "name": "#%%\n"
    }
   }
  },
  {
   "cell_type": "code",
   "execution_count": null,
   "outputs": [],
   "source": [
    "DataManager.plot_num(image.reshape((112, 112)), label)"
   ],
   "metadata": {
    "collapsed": false,
    "pycharm": {
     "name": "#%%\n"
    }
   }
  },
  {
   "cell_type": "code",
   "execution_count": null,
   "outputs": [],
   "source": [
    "trans1 = np.array([\n",
    "    [1, 0],\n",
    "    [0, 0.5]\n",
    "])\n",
    "trans1.shape"
   ],
   "metadata": {
    "collapsed": false,
    "pycharm": {
     "name": "#%%\n"
    }
   }
  },
  {
   "cell_type": "code",
   "execution_count": null,
   "outputs": [],
   "source": [
    "indices = np.array([[i, j] for i in range(112) for j in range(112)]).reshape((112, 112, 2))\n",
    "transformed_indices = indices @ trans1\n",
    "transformed_image = np.ones((112, 112))\n",
    "\n",
    "for i in range(112):\n",
    "    for j in range(112):\n",
    "        new_i, new_j = transformed_indices[i][j]\n",
    "        try:\n",
    "            transformed_image[int(new_i)][int(new_j)] = image[i][j]\n",
    "        except:\n",
    "            pass\n",
    "\n",
    "DataManager.plot_num(transformed_image, label)\n",
    "DataManager.plot_num(image, label)"
   ],
   "metadata": {
    "collapsed": false,
    "pycharm": {
     "name": "#%%\n"
    }
   }
  },
  {
   "cell_type": "code",
   "execution_count": 15,
   "outputs": [],
   "source": [],
   "metadata": {
    "collapsed": false,
    "pycharm": {
     "name": "#%%\n"
    }
   }
  }
 ],
 "metadata": {
  "kernelspec": {
   "display_name": "Python 3",
   "language": "python",
   "name": "python3"
  },
  "language_info": {
   "codemirror_mode": {
    "name": "ipython",
    "version": 2
   },
   "file_extension": ".py",
   "mimetype": "text/x-python",
   "name": "python",
   "nbconvert_exporter": "python",
   "pygments_lexer": "ipython2",
   "version": "2.7.6"
  }
 },
 "nbformat": 4,
 "nbformat_minor": 0
}