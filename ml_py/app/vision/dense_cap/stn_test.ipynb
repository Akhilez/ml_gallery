{
 "cells": [
  {
   "cell_type": "code",
   "execution_count": 33,
   "metadata": {
    "collapsed": true
   },
   "outputs": [],
   "source": [
    "import torch\n",
    "from torch.nn.functional import relu\n",
    "import numpy as np\n",
    "from lib.mnist_aug.mnist_augmenter import DataManager, MNISTAug"
   ]
  },
  {
   "cell_type": "code",
   "execution_count": 34,
   "outputs": [],
   "source": [
    "aug = MNISTAug()\n",
    "dm = DataManager()\n",
    "dm.load_test()"
   ],
   "metadata": {
    "collapsed": false,
    "pycharm": {
     "name": "#%%\n"
    }
   }
  },
  {
   "cell_type": "code",
   "execution_count": 35,
   "outputs": [],
   "source": [
    "aug.min_objects = 1\n",
    "aug.max_objects = 1"
   ],
   "metadata": {
    "collapsed": false,
    "pycharm": {
     "name": "#%%\n"
    }
   }
  },
  {
   "cell_type": "code",
   "execution_count": 58,
   "outputs": [
    {
     "data": {
      "text/plain": "{'class': 0,\n 'class_one_hot': array([1., 0., 0., 0., 0., 0., 0., 0., 0., 0.]),\n 'x1': 13,\n 'y1': 1,\n 'x2': 67,\n 'y2': 55,\n 'cx': 40.0,\n 'cy': 28.0,\n 'height': 54,\n 'width': 54}"
     },
     "execution_count": 58,
     "metadata": {},
     "output_type": "execute_result"
    },
    {
     "data": {
      "text/plain": "<Figure size 432x288 with 1 Axes>",
      "image/png": "[encoded data removed]"
     },
     "metadata": {
      "needs_background": "light"
     },
     "output_type": "display_data"
    }
   ],
   "source": [
    "image, label = aug.get_augmented(dm.x_test, dm.y_test, 1)\n",
    "image = image[0]\n",
    "label = label[0][0]\n",
    "DataManager.plot_num(image.reshape((112, 112)), [label])\n",
    "label"
   ],
   "metadata": {
    "collapsed": false,
    "pycharm": {
     "name": "#%%\n"
    }
   }
  },
  {
   "cell_type": "code",
   "execution_count": 59,
   "outputs": [],
   "source": [
    "op_w = 64\n",
    "op_h = 64\n",
    "\n",
    "in_w = 112\n",
    "in_h = 112"
   ],
   "metadata": {
    "collapsed": false,
    "pycharm": {
     "name": "#%%\n"
    }
   }
  },
  {
   "cell_type": "code",
   "execution_count": 60,
   "outputs": [],
   "source": [
    "def add_scalar_noise(value, scale=0.01):\n",
    "    return value + (np.random.random((1,))[0] - 0.5) * scale\n",
    "\n",
    "cx = add_scalar_noise(label['cx'] / in_w)\n",
    "cy = add_scalar_noise(label['cy'] / in_h)\n",
    "w = add_scalar_noise(label['width'] / in_w)\n",
    "h = add_scalar_noise(label['height'] / in_h)\n",
    "theta = [cx, cy, w, h]"
   ],
   "metadata": {
    "collapsed": false,
    "pycharm": {
     "name": "#%%\n"
    }
   }
  },
  {
   "cell_type": "code",
   "execution_count": 61,
   "outputs": [],
   "source": [
    "region_w = w * in_w\n",
    "region_h = h * in_h\n",
    "region_x1 = (cx * in_w) - (region_w / 2)\n",
    "region_y1 = (cy * in_h) - (region_h / 2)\n",
    "\n",
    "step_w = region_w / op_w\n",
    "step_h = region_h / op_h\n",
    "\n",
    "# TODO: Parallelize this step\n",
    "grid = np.zeros((op_w, op_h, 2))\n",
    "for i in range(op_w):\n",
    "    for j in range(op_h):\n",
    "        grid[i][j][0] = region_x1 + (i * step_w)\n",
    "        grid[i][j][1] = region_y1 + (j * step_h)"
   ],
   "metadata": {
    "collapsed": false,
    "pycharm": {
     "name": "#%%\n"
    }
   }
  },
  {
   "cell_type": "code",
   "execution_count": 62,
   "outputs": [],
   "source": [
    "op = np.zeros((op_w, op_h))\n",
    "kernel_radius = 2\n",
    "\n",
    "def bilinear_kernel(d):\n",
    "    return max(0, 1 - abs(d))\n",
    "\n",
    "def get_op_pixel(i, j):\n",
    "\n",
    "    pixel = 0\n",
    "\n",
    "    i_ = int(round(max(0, grid[i][j][0] - kernel_radius)))\n",
    "    while i_ < min(in_w, grid[i][j][0] + kernel_radius - 1):\n",
    "\n",
    "        j_ = int(round(max(0, grid[i][j][1] - kernel_radius)))\n",
    "        while j_ < min(in_h, grid[i][j][1] + kernel_radius - 1):\n",
    "\n",
    "            pixel += image[i_][j_] * bilinear_kernel(i_ - grid[i][j][0]) * bilinear_kernel(j_ - grid[i][j][1])\n",
    "            j_ += 1\n",
    "\n",
    "        i_ += 1\n",
    "\n",
    "    return pixel\n",
    "\n",
    "\n",
    "for i in range(op_w):\n",
    "    for j in range(op_h):\n",
    "        op[i][j] = get_op_pixel(i, j)"
   ],
   "metadata": {
    "collapsed": false,
    "pycharm": {
     "name": "#%%\n"
    }
   }
  },
  {
   "cell_type": "code",
   "execution_count": 63,
   "outputs": [
    {
     "data": {
      "text/plain": "<Figure size 432x288 with 1 Axes>",
      "image/png": "[encoded data removed]"
     },
     "metadata": {
      "needs_background": "light"
     },
     "output_type": "display_data"
    }
   ],
   "source": [
    "DataManager.plot_num(op.reshape((op_w, op_h)))"
   ],
   "metadata": {
    "collapsed": false,
    "pycharm": {
     "name": "#%%\n"
    }
   }
  },
  {
   "cell_type": "code",
   "execution_count": 48,
   "outputs": [],
   "source": [],
   "metadata": {
    "collapsed": false,
    "pycharm": {
     "name": "#%%\n"
    }
   }
  }
 ],
 "metadata": {
  "kernelspec": {
   "display_name": "Python 3",
   "language": "python",
   "name": "python3"
  },
  "language_info": {
   "codemirror_mode": {
    "name": "ipython",
    "version": 2
   },
   "file_extension": ".py",
   "mimetype": "text/x-python",
   "name": "python",
   "nbconvert_exporter": "python",
   "pygments_lexer": "ipython2",
   "version": "2.7.6"
  }
 },
 "nbformat": 4,
 "nbformat_minor": 0
}