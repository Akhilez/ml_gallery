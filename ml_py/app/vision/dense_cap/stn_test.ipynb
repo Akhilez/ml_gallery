{
 "cells": [
  {
   "cell_type": "code",
   "execution_count": 2,
   "metadata": {
    "collapsed": true
   },
   "outputs": [],
   "source": [
    "import torch\n",
    "from torch.nn.functional import relu\n",
    "import numpy as np\n",
    "from lib.mnist_aug.mnist_augmenter import DataManager, MNISTAug"
   ]
  },
  {
   "cell_type": "code",
   "execution_count": 3,
   "outputs": [],
   "source": [
    "aug = MNISTAug()\n",
    "dm = DataManager()\n",
    "dm.load_test()"
   ],
   "metadata": {
    "collapsed": false,
    "pycharm": {
     "name": "#%%\n"
    }
   }
  },
  {
   "cell_type": "code",
   "execution_count": 4,
   "outputs": [],
   "source": [
    "aug.min_objects = 1\n",
    "aug.max_objects = 1"
   ],
   "metadata": {
    "collapsed": false,
    "pycharm": {
     "name": "#%%\n"
    }
   }
  },
  {
   "cell_type": "code",
   "execution_count": 13,
   "outputs": [
    {
     "name": "stderr",
     "output_type": "stream",
     "text": [
      "/Users/akhildevarashetti/code/ml_gallery/ml_py/lib/mnist_aug/mnist_augmenter.py:216: UserWarning: Matplotlib is currently using module://ipykernel.pylab.backend_inline, which is a non-GUI backend, so cannot show the figure.\n",
      "  fig.show()\n"
     ]
    },
    {
     "data": {
      "text/plain": "{'class': 8,\n 'class_one_hot': array([0., 0., 0., 0., 0., 0., 0., 0., 1., 0.]),\n 'x1': 22,\n 'y1': 28,\n 'x2': 56,\n 'y2': 62,\n 'cx': 39.0,\n 'cy': 45.0,\n 'height': 34,\n 'width': 34}"
     },
     "execution_count": 13,
     "metadata": {},
     "output_type": "execute_result"
    },
    {
     "data": {
      "text/plain": "<Figure size 432x288 with 1 Axes>",
      "image/png": "[encoded data removed]"
     },
     "metadata": {
      "needs_background": "light"
     },
     "output_type": "display_data"
    }
   ],
   "source": [
    "image, label = aug.get_augmented(dm.x_test, dm.y_test, 1)\n",
    "image = image[0]\n",
    "label = label[0][0]\n",
    "DataManager.plot_num(image.reshape((112, 112)), [label])\n",
    "label"
   ],
   "metadata": {
    "collapsed": false,
    "pycharm": {
     "name": "#%%\n"
    }
   }
  },
  {
   "cell_type": "code",
   "execution_count": 21,
   "outputs": [],
   "source": [
    "op_w = 64\n",
    "op_h = 64\n",
    "\n",
    "in_w = 112\n",
    "in_h = 112"
   ],
   "metadata": {
    "collapsed": false,
    "pycharm": {
     "name": "#%%\n"
    }
   }
  },
  {
   "cell_type": "code",
   "execution_count": 22,
   "outputs": [],
   "source": [
    "def add_scalar_noise(value, scale=0.01):\n",
    "    return value + (np.random.random((1,))[0] - 0.5) * scale\n",
    "\n",
    "cx = add_scalar_noise(label['cx'] / in_w)\n",
    "cy = add_scalar_noise(label['cy'] / in_h)\n",
    "w = add_scalar_noise(label['width'] / in_w)\n",
    "h = add_scalar_noise(label['height'] / in_h)\n",
    "theta = [cx, cy, w, h]"
   ],
   "metadata": {
    "collapsed": false,
    "pycharm": {
     "name": "#%%\n"
    }
   }
  },
  {
   "cell_type": "code",
   "execution_count": 23,
   "outputs": [],
   "source": [
    "region_w = w * in_w\n",
    "region_h = h * in_h\n",
    "region_x1 = (cx * in_w) - (region_w / 2)\n",
    "region_y1 = (cy * in_h) - (region_h / 2)\n",
    "\n",
    "step_w = region_w / op_w\n",
    "step_h = region_h / op_h\n",
    "\n",
    "# TODO: Parallelize this step\n",
    "grid = np.zeros((op_w, op_h, 2))\n",
    "for i in range(op_w):\n",
    "    for j in range(op_h):\n",
    "        grid[i][j][0] = i * step_w\n",
    "        grid[i][j][1] = j * step_h"
   ],
   "metadata": {
    "collapsed": false,
    "pycharm": {
     "name": "#%%\n"
    }
   }
  },
  {
   "cell_type": "code",
   "execution_count": 24,
   "outputs": [
    {
     "data": {
      "text/plain": "array([[[ 0.        ,  0.        ],\n        [ 0.        ,  0.53330716],\n        [ 0.        ,  1.06661433],\n        ...,\n        [ 0.        , 32.53173695],\n        [ 0.        , 33.06504411],\n        [ 0.        , 33.59835128]],\n\n       [[ 0.52843927,  0.        ],\n        [ 0.52843927,  0.53330716],\n        [ 0.52843927,  1.06661433],\n        ...,\n        [ 0.52843927, 32.53173695],\n        [ 0.52843927, 33.06504411],\n        [ 0.52843927, 33.59835128]],\n\n       [[ 1.05687853,  0.        ],\n        [ 1.05687853,  0.53330716],\n        [ 1.05687853,  1.06661433],\n        ...,\n        [ 1.05687853, 32.53173695],\n        [ 1.05687853, 33.06504411],\n        [ 1.05687853, 33.59835128]],\n\n       ...,\n\n       [[32.23479524,  0.        ],\n        [32.23479524,  0.53330716],\n        [32.23479524,  1.06661433],\n        ...,\n        [32.23479524, 32.53173695],\n        [32.23479524, 33.06504411],\n        [32.23479524, 33.59835128]],\n\n       [[32.7632345 ,  0.        ],\n        [32.7632345 ,  0.53330716],\n        [32.7632345 ,  1.06661433],\n        ...,\n        [32.7632345 , 32.53173695],\n        [32.7632345 , 33.06504411],\n        [32.7632345 , 33.59835128]],\n\n       [[33.29167377,  0.        ],\n        [33.29167377,  0.53330716],\n        [33.29167377,  1.06661433],\n        ...,\n        [33.29167377, 32.53173695],\n        [33.29167377, 33.06504411],\n        [33.29167377, 33.59835128]]])"
     },
     "execution_count": 24,
     "metadata": {},
     "output_type": "execute_result"
    }
   ],
   "source": [
    "op = np.zeros((op_w, op_h))\n",
    "\n",
    "def bilinear_kernel(d):\n",
    "    return max(0, 1 - abs(d))\n",
    "\n",
    "def get_op_pixel(i, j):\n",
    "    for i_ in range(in_w):\n",
    "        for j_ in range(in_h):\n",
    "            image[i_][j_] * bilinear_kernel()\n",
    "\n",
    "for i in range(op_w):\n",
    "    for j in range(op_h):\n",
    "        op[i][j] = get_op_pixel(i, j)"
   ],
   "metadata": {
    "collapsed": false,
    "pycharm": {
     "name": "#%%\n"
    }
   }
  },
  {
   "cell_type": "code",
   "execution_count": null,
   "outputs": [],
   "source": [],
   "metadata": {
    "collapsed": false,
    "pycharm": {
     "name": "#%%\n"
    }
   }
  }
 ],
 "metadata": {
  "kernelspec": {
   "display_name": "Python 3",
   "language": "python",
   "name": "python3"
  },
  "language_info": {
   "codemirror_mode": {
    "name": "ipython",
    "version": 2
   },
   "file_extension": ".py",
   "mimetype": "text/x-python",
   "name": "python",
   "nbconvert_exporter": "python",
   "pygments_lexer": "ipython2",
   "version": "2.7.6"
  }
 },
 "nbformat": 4,
 "nbformat_minor": 0
}