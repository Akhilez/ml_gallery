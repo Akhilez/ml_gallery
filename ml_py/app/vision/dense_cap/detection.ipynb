{
 "cells": [
  {
   "cell_type": "code",
   "execution_count": 34,
   "outputs": [],
   "source": [
    "import torch\n",
    "from lib.mnist_aug.mnist_augmenter import DataManager"
   ],
   "metadata": {
    "collapsed": false,
    "pycharm": {
     "name": "#%%\n"
    }
   }
  },
  {
   "cell_type": "code",
   "execution_count": 47,
   "outputs": [],
   "source": [
    "# Converts labels (list of dict) to tensors (list of tensors of shape [n, 4])\n",
    "def labels_to_tensor(labels, H, W):\n",
    "    tensors = []\n",
    "    for labels_ in labels:\n",
    "\n",
    "        # For each bbox, we will have 4 numbers\n",
    "        tensor = torch.zeros((len(labels_), 4), dtype=torch.float32)\n",
    "\n",
    "        for i in range(len(labels_)):\n",
    "            coordinates = [\n",
    "                labels_[i]['cx'] / W,\n",
    "                labels_[i]['cy'] / H,\n",
    "                labels_[i]['width'] / W,\n",
    "                labels_[i]['height'] / H,\n",
    "            ]\n",
    "            tensor[i] = torch.FloatTensor(coordinates)\n",
    "\n",
    "        tensors.append(tensor.T)\n",
    "\n",
    "    return tensors"
   ],
   "metadata": {
    "collapsed": false,
    "pycharm": {
     "name": "#%%\n"
    }
   }
  },
  {
   "cell_type": "code",
   "execution_count": null,
   "outputs": [],
   "source": [
    "\n",
    "def get_shapes_from_sizes_ratios(sizes, ratios):\n",
    "    sizes_ = torch.tensor(sizes, dtype=torch.float32).repeat_interleave(len(ratios))  # [1, 2, 3] => [1, 1, 2, 2, 3, 3]\n",
    "    ratios_sqrt = torch.sqrt(torch.tensor(ratios, dtype=torch.float32)).repeat(len(sizes))\n",
    "\n",
    "    w = sizes_ / ratios_sqrt\n",
    "    h = sizes_ * ratios_sqrt\n",
    "\n",
    "    return w, h\n",
    "\n",
    "\n",
    "def get_anchor_centers(W, H):\n",
    "    hs = torch.arange(1 / H / 2, 1, 1 / H).view((H, 1)).expand(\n",
    "        (H, W))  # [0, 0.5, 1] => [(0,0,0), (0.5,0.5,0.5), (1,1,1)]\n",
    "    ws = torch.arange(1 / W / 2, 1, 1 / W).view((1, W)).expand(\n",
    "        (H, W))  # [0, 0.5, 1] => [(0,0.5,1), (0,0.5,1), (0,0.5,1)]\n",
    "\n",
    "    return ws, hs  # 2 channels\n",
    "\n",
    "\n",
    "# Generates a tensor of anchors\n",
    "def generate_anchors(shape, sizes, ratios):\n",
    "    k = len(sizes) * len(ratios)\n",
    "    W, H = shape\n",
    "\n",
    "    cx, cy = get_anchor_centers(W, H)\n",
    "    w, h = get_shapes_from_sizes_ratios(sizes, ratios)\n",
    "\n",
    "    cx = cx.view((H, W, 1)).expand((H, W, k)).flatten()\n",
    "    cy = cy.view((H, W, 1)).expand((H, W, k)).flatten()\n",
    "\n",
    "    w = w.view((1, k)).expand((H * W, k)).flatten()\n",
    "    h = h.view((1, k)).expand((H * W, k)).flatten()\n",
    "\n",
    "    return torch.stack((cx, cy, w, h))"
   ],
   "metadata": {
    "collapsed": false,
    "pycharm": {
     "name": "#%%\n"
    }
   }
  },
  {
   "cell_type": "code",
   "execution_count": 43,
   "outputs": [
    {
     "ename": "KeyboardInterrupt",
     "evalue": "",
     "output_type": "error",
     "traceback": [
      "\u001B[0;31m---------------------------------------------------------------------------\u001B[0m",
      "\u001B[0;31mKeyboardInterrupt\u001B[0m                         Traceback (most recent call last)",
      "\u001B[0;32m<ipython-input-43-f1a14df77253>\u001B[0m in \u001B[0;36m<module>\u001B[0;34m\u001B[0m\n\u001B[1;32m     56\u001B[0m     \u001B[0;32mreturn\u001B[0m \u001B[0miou\u001B[0m\u001B[0;34m.\u001B[0m\u001B[0mview\u001B[0m\u001B[0;34m(\u001B[0m\u001B[0;34m(\u001B[0m\u001B[0mn1\u001B[0m\u001B[0;34m,\u001B[0m \u001B[0mn2\u001B[0m\u001B[0;34m)\u001B[0m\u001B[0;34m)\u001B[0m\u001B[0;34m\u001B[0m\u001B[0;34m\u001B[0m\u001B[0m\n\u001B[1;32m     57\u001B[0m \u001B[0;34m\u001B[0m\u001B[0m\n\u001B[0;32m---> 58\u001B[0;31m \u001B[0miou\u001B[0m \u001B[0;34m=\u001B[0m \u001B[0mget_iou_map\u001B[0m\u001B[0;34m(\u001B[0m\u001B[0my_\u001B[0m\u001B[0;34m[\u001B[0m\u001B[0;36m1\u001B[0m\u001B[0;34m]\u001B[0m\u001B[0;34m,\u001B[0m \u001B[0manchors_tensor\u001B[0m\u001B[0;34m)\u001B[0m\u001B[0;34m\u001B[0m\u001B[0;34m\u001B[0m\u001B[0m\n\u001B[0m\u001B[1;32m     59\u001B[0m \u001B[0;34m\u001B[0m\u001B[0m\n",
      "\u001B[0;32m<ipython-input-43-f1a14df77253>\u001B[0m in \u001B[0;36mget_iou_map\u001B[0;34m(boxes1, boxes2)\u001B[0m\n\u001B[1;32m      8\u001B[0m     \u001B[0mboxes2\u001B[0m \u001B[0;34m=\u001B[0m \u001B[0mboxes2\u001B[0m\u001B[0;34m.\u001B[0m\u001B[0mrepeat\u001B[0m\u001B[0;34m(\u001B[0m\u001B[0;34m(\u001B[0m\u001B[0;36m1\u001B[0m\u001B[0;34m,\u001B[0m \u001B[0mn1\u001B[0m\u001B[0;34m)\u001B[0m\u001B[0;34m)\u001B[0m  \u001B[0;31m# [1, 2] => [1, 2, 1, 2]\u001B[0m\u001B[0;34m\u001B[0m\u001B[0;34m\u001B[0m\u001B[0m\n\u001B[1;32m      9\u001B[0m \u001B[0;34m\u001B[0m\u001B[0m\n\u001B[0;32m---> 10\u001B[0;31m     \u001B[0mwb\u001B[0m \u001B[0;34m=\u001B[0m \u001B[0mboxes1\u001B[0m\u001B[0;34m[\u001B[0m\u001B[0;36m2\u001B[0m\u001B[0;34m]\u001B[0m\u001B[0;34m\u001B[0m\u001B[0;34m\u001B[0m\u001B[0m\n\u001B[0m\u001B[1;32m     11\u001B[0m     \u001B[0mwa\u001B[0m \u001B[0;34m=\u001B[0m \u001B[0mboxes2\u001B[0m\u001B[0;34m[\u001B[0m\u001B[0;36m2\u001B[0m\u001B[0;34m]\u001B[0m\u001B[0;34m\u001B[0m\u001B[0;34m\u001B[0m\u001B[0m\n\u001B[1;32m     12\u001B[0m \u001B[0;34m\u001B[0m\u001B[0m\n",
      "\u001B[0;32m<ipython-input-43-f1a14df77253>\u001B[0m in \u001B[0;36mget_iou_map\u001B[0;34m(boxes1, boxes2)\u001B[0m\n\u001B[1;32m      8\u001B[0m     \u001B[0mboxes2\u001B[0m \u001B[0;34m=\u001B[0m \u001B[0mboxes2\u001B[0m\u001B[0;34m.\u001B[0m\u001B[0mrepeat\u001B[0m\u001B[0;34m(\u001B[0m\u001B[0;34m(\u001B[0m\u001B[0;36m1\u001B[0m\u001B[0;34m,\u001B[0m \u001B[0mn1\u001B[0m\u001B[0;34m)\u001B[0m\u001B[0;34m)\u001B[0m  \u001B[0;31m# [1, 2] => [1, 2, 1, 2]\u001B[0m\u001B[0;34m\u001B[0m\u001B[0;34m\u001B[0m\u001B[0m\n\u001B[1;32m      9\u001B[0m \u001B[0;34m\u001B[0m\u001B[0m\n\u001B[0;32m---> 10\u001B[0;31m     \u001B[0mwb\u001B[0m \u001B[0;34m=\u001B[0m \u001B[0mboxes1\u001B[0m\u001B[0;34m[\u001B[0m\u001B[0;36m2\u001B[0m\u001B[0;34m]\u001B[0m\u001B[0;34m\u001B[0m\u001B[0;34m\u001B[0m\u001B[0m\n\u001B[0m\u001B[1;32m     11\u001B[0m     \u001B[0mwa\u001B[0m \u001B[0;34m=\u001B[0m \u001B[0mboxes2\u001B[0m\u001B[0;34m[\u001B[0m\u001B[0;36m2\u001B[0m\u001B[0;34m]\u001B[0m\u001B[0;34m\u001B[0m\u001B[0;34m\u001B[0m\u001B[0m\n\u001B[1;32m     12\u001B[0m \u001B[0;34m\u001B[0m\u001B[0m\n",
      "\u001B[0;32m/snap/pycharm-professional/226/plugins/python/helpers/pydev/_pydevd_bundle/pydevd_frame.py\u001B[0m in \u001B[0;36mtrace_dispatch\u001B[0;34m(self, frame, event, arg)\u001B[0m\n\u001B[1;32m    878\u001B[0m \u001B[0;34m\u001B[0m\u001B[0m\n\u001B[1;32m    879\u001B[0m                 \u001B[0;32mif\u001B[0m \u001B[0mplugin_stop\u001B[0m\u001B[0;34m:\u001B[0m\u001B[0;34m\u001B[0m\u001B[0;34m\u001B[0m\u001B[0m\n\u001B[0;32m--> 880\u001B[0;31m                     \u001B[0mstopped_on_plugin\u001B[0m \u001B[0;34m=\u001B[0m \u001B[0mplugin_manager\u001B[0m\u001B[0;34m.\u001B[0m\u001B[0mstop\u001B[0m\u001B[0;34m(\u001B[0m\u001B[0mmain_debugger\u001B[0m\u001B[0;34m,\u001B[0m \u001B[0mframe\u001B[0m\u001B[0;34m,\u001B[0m \u001B[0mevent\u001B[0m\u001B[0;34m,\u001B[0m \u001B[0mself\u001B[0m\u001B[0;34m.\u001B[0m\u001B[0m_args\u001B[0m\u001B[0;34m,\u001B[0m \u001B[0mstop_info\u001B[0m\u001B[0;34m,\u001B[0m \u001B[0marg\u001B[0m\u001B[0;34m,\u001B[0m \u001B[0mstep_cmd\u001B[0m\u001B[0;34m)\u001B[0m\u001B[0;34m\u001B[0m\u001B[0;34m\u001B[0m\u001B[0m\n\u001B[0m\u001B[1;32m    881\u001B[0m                 \u001B[0;32melif\u001B[0m \u001B[0mstop\u001B[0m\u001B[0;34m:\u001B[0m\u001B[0;34m\u001B[0m\u001B[0;34m\u001B[0m\u001B[0m\n\u001B[1;32m    882\u001B[0m                     \u001B[0;32mif\u001B[0m \u001B[0mis_line\u001B[0m\u001B[0;34m:\u001B[0m\u001B[0;34m\u001B[0m\u001B[0;34m\u001B[0m\u001B[0m\n",
      "\u001B[0;32m/snap/pycharm-professional/226/plugins/python/helpers-pro/jupyter_debug/pydev_jupyter_plugin.py\u001B[0m in \u001B[0;36mstop\u001B[0;34m(plugin, pydb, frame, event, args, stop_info, arg, step_cmd)\u001B[0m\n\u001B[1;32m    163\u001B[0m         \u001B[0mframe\u001B[0m \u001B[0;34m=\u001B[0m \u001B[0msuspend_jupyter\u001B[0m\u001B[0;34m(\u001B[0m\u001B[0mmain_debugger\u001B[0m\u001B[0;34m,\u001B[0m \u001B[0mthread\u001B[0m\u001B[0;34m,\u001B[0m \u001B[0mframe\u001B[0m\u001B[0;34m,\u001B[0m \u001B[0mstep_cmd\u001B[0m\u001B[0;34m)\u001B[0m\u001B[0;34m\u001B[0m\u001B[0;34m\u001B[0m\u001B[0m\n\u001B[1;32m    164\u001B[0m         \u001B[0;32mif\u001B[0m \u001B[0mframe\u001B[0m\u001B[0;34m:\u001B[0m\u001B[0;34m\u001B[0m\u001B[0;34m\u001B[0m\u001B[0m\n\u001B[0;32m--> 165\u001B[0;31m             \u001B[0mmain_debugger\u001B[0m\u001B[0;34m.\u001B[0m\u001B[0mdo_wait_suspend\u001B[0m\u001B[0;34m(\u001B[0m\u001B[0mthread\u001B[0m\u001B[0;34m,\u001B[0m \u001B[0mframe\u001B[0m\u001B[0;34m,\u001B[0m \u001B[0mevent\u001B[0m\u001B[0;34m,\u001B[0m \u001B[0marg\u001B[0m\u001B[0;34m)\u001B[0m\u001B[0;34m\u001B[0m\u001B[0;34m\u001B[0m\u001B[0m\n\u001B[0m\u001B[1;32m    166\u001B[0m             \u001B[0;32mreturn\u001B[0m \u001B[0;32mTrue\u001B[0m\u001B[0;34m\u001B[0m\u001B[0;34m\u001B[0m\u001B[0m\n\u001B[1;32m    167\u001B[0m     \u001B[0;32mreturn\u001B[0m \u001B[0;32mFalse\u001B[0m\u001B[0;34m\u001B[0m\u001B[0;34m\u001B[0m\u001B[0m\n",
      "\u001B[0;32m/snap/pycharm-professional/226/plugins/python/helpers/pydev/pydevd.py\u001B[0m in \u001B[0;36mdo_wait_suspend\u001B[0;34m(self, thread, frame, event, arg, send_suspend_message, is_unhandled_exception)\u001B[0m\n\u001B[1;32m   1139\u001B[0m \u001B[0;34m\u001B[0m\u001B[0m\n\u001B[1;32m   1140\u001B[0m         \u001B[0;32mwith\u001B[0m \u001B[0mself\u001B[0m\u001B[0;34m.\u001B[0m\u001B[0m_threads_suspended_single_notification\u001B[0m\u001B[0;34m.\u001B[0m\u001B[0mnotify_thread_suspended\u001B[0m\u001B[0;34m(\u001B[0m\u001B[0mthread_id\u001B[0m\u001B[0;34m,\u001B[0m \u001B[0mstop_reason\u001B[0m\u001B[0;34m)\u001B[0m\u001B[0;34m:\u001B[0m\u001B[0;34m\u001B[0m\u001B[0;34m\u001B[0m\u001B[0m\n\u001B[0;32m-> 1141\u001B[0;31m             \u001B[0mself\u001B[0m\u001B[0;34m.\u001B[0m\u001B[0m_do_wait_suspend\u001B[0m\u001B[0;34m(\u001B[0m\u001B[0mthread\u001B[0m\u001B[0;34m,\u001B[0m \u001B[0mframe\u001B[0m\u001B[0;34m,\u001B[0m \u001B[0mevent\u001B[0m\u001B[0;34m,\u001B[0m \u001B[0marg\u001B[0m\u001B[0;34m,\u001B[0m \u001B[0msuspend_type\u001B[0m\u001B[0;34m,\u001B[0m \u001B[0mfrom_this_thread\u001B[0m\u001B[0;34m)\u001B[0m\u001B[0;34m\u001B[0m\u001B[0;34m\u001B[0m\u001B[0m\n\u001B[0m\u001B[1;32m   1142\u001B[0m \u001B[0;34m\u001B[0m\u001B[0m\n\u001B[1;32m   1143\u001B[0m     \u001B[0;32mdef\u001B[0m \u001B[0m_do_wait_suspend\u001B[0m\u001B[0;34m(\u001B[0m\u001B[0mself\u001B[0m\u001B[0;34m,\u001B[0m \u001B[0mthread\u001B[0m\u001B[0;34m,\u001B[0m \u001B[0mframe\u001B[0m\u001B[0;34m,\u001B[0m \u001B[0mevent\u001B[0m\u001B[0;34m,\u001B[0m \u001B[0marg\u001B[0m\u001B[0;34m,\u001B[0m \u001B[0msuspend_type\u001B[0m\u001B[0;34m,\u001B[0m \u001B[0mfrom_this_thread\u001B[0m\u001B[0;34m)\u001B[0m\u001B[0;34m:\u001B[0m\u001B[0;34m\u001B[0m\u001B[0;34m\u001B[0m\u001B[0m\n",
      "\u001B[0;32m/snap/pycharm-professional/226/plugins/python/helpers/pydev/pydevd.py\u001B[0m in \u001B[0;36m_do_wait_suspend\u001B[0;34m(self, thread, frame, event, arg, suspend_type, from_this_thread)\u001B[0m\n\u001B[1;32m   1154\u001B[0m \u001B[0;34m\u001B[0m\u001B[0m\n\u001B[1;32m   1155\u001B[0m                 \u001B[0mself\u001B[0m\u001B[0;34m.\u001B[0m\u001B[0mprocess_internal_commands\u001B[0m\u001B[0;34m(\u001B[0m\u001B[0;34m)\u001B[0m\u001B[0;34m\u001B[0m\u001B[0;34m\u001B[0m\u001B[0m\n\u001B[0;32m-> 1156\u001B[0;31m                 \u001B[0mtime\u001B[0m\u001B[0;34m.\u001B[0m\u001B[0msleep\u001B[0m\u001B[0;34m(\u001B[0m\u001B[0;36m0.01\u001B[0m\u001B[0;34m)\u001B[0m\u001B[0;34m\u001B[0m\u001B[0;34m\u001B[0m\u001B[0m\n\u001B[0m\u001B[1;32m   1157\u001B[0m \u001B[0;34m\u001B[0m\u001B[0m\n\u001B[1;32m   1158\u001B[0m         \u001B[0mself\u001B[0m\u001B[0;34m.\u001B[0m\u001B[0mcancel_async_evaluation\u001B[0m\u001B[0;34m(\u001B[0m\u001B[0mget_current_thread_id\u001B[0m\u001B[0;34m(\u001B[0m\u001B[0mthread\u001B[0m\u001B[0;34m)\u001B[0m\u001B[0;34m,\u001B[0m \u001B[0mstr\u001B[0m\u001B[0;34m(\u001B[0m\u001B[0mid\u001B[0m\u001B[0;34m(\u001B[0m\u001B[0mframe\u001B[0m\u001B[0;34m)\u001B[0m\u001B[0;34m)\u001B[0m\u001B[0;34m)\u001B[0m\u001B[0;34m\u001B[0m\u001B[0;34m\u001B[0m\u001B[0m\n",
      "\u001B[0;31mKeyboardInterrupt\u001B[0m: "
     ]
    }
   ],
   "source": [
    "# TODO: Pass in a batch of bboxes and single set of anchors.\n",
    "def get_iou_map(boxes1, boxes2):\n",
    "    n1 = boxes1.shape[1]\n",
    "    n2 = boxes2.shape[1]\n",
    "\n",
    "    boxes1 = boxes1.repeat_interleave(n2).reshape((4, n1 * n2))  # [1, 2] => [1, 1, 2, 2]\n",
    "    boxes2 = boxes2.repeat((1, n1))  # [1, 2] => [1, 2, 1, 2]\n",
    "\n",
    "    wb = boxes1[2]\n",
    "    wa = boxes2[2]\n",
    "\n",
    "    hb = boxes1[3]\n",
    "    ha = boxes2[3]\n",
    "\n",
    "    cxb = boxes1[0]\n",
    "    cxa = boxes2[0]\n",
    "\n",
    "    cyb = boxes1[1]\n",
    "    cya = boxes2[1]\n",
    "\n",
    "    wb_half = wb / 2\n",
    "    hb_half = hb / 2\n",
    "\n",
    "    x2b = cxb + wb_half\n",
    "    x1b = cxb - wb_half\n",
    "\n",
    "    y2b = cyb + hb_half\n",
    "    y1b = cyb - hb_half\n",
    "\n",
    "    wa_half = wa / 2\n",
    "    ha_half = ha / 2\n",
    "\n",
    "    x2a = cxa + wa_half\n",
    "    x1a = cxa - wa_half\n",
    "\n",
    "    y2a = cya + ha_half\n",
    "    y1a = cya - ha_half\n",
    "\n",
    "    x2 = torch.min(torch.stack((x2a, x2b)), 0)[0]\n",
    "    x1 = torch.max(torch.stack((x1a, x1b)), 0)[0]\n",
    "\n",
    "    y2 = torch.min(torch.stack((y2a, y2b)), 0)[0]\n",
    "    y1 = torch.max(torch.stack((y1a, y1b)), 0)[0]\n",
    "\n",
    "    w = x2 - x1\n",
    "    h = y2 - y1\n",
    "\n",
    "    w[w < 0] = 0\n",
    "    h[h < 0] = 0\n",
    "\n",
    "    intersection = w * h\n",
    "    union = (wb * hb) + (wa * ha) - intersection\n",
    "    iou = intersection / union\n",
    "\n",
    "    return iou.view((n1, n2))\n",
    "\n",
    "# iou = get_iou_map(y_[1], anchors_tensor)"
   ],
   "metadata": {
    "collapsed": false,
    "pycharm": {
     "name": "#%%\n"
    }
   }
  },
  {
   "cell_type": "code",
   "execution_count": 3,
   "outputs": [],
   "source": [
    "def sample_anchors(iou, b=256, positive_threshold=0.7, negative_threshold=0.3):\n",
    "    n_bb, n_anchors = iou.shape\n",
    "    iou[range(n_bb), iou.argmax(1)] = torch.ones(n_bb)  # For each of bb, max iou anchor will be 1\n",
    "\n",
    "    positive_indices = torch.nonzero(iou > positive_threshold)\n",
    "    bp = min(len(positive_indices), b / 2)\n",
    "    positive_indices_ = torch.multinomial(torch.ones(len(positive_indices)), bp)  # Sampled\n",
    "    positive_indices = positive_indices[positive_indices_]\n",
    "\n",
    "    iou_n = torch.clone(iou)\n",
    "    iou_n[iou_n > negative_threshold] = 0\n",
    "\n",
    "    negative_indices = torch.nonzero(iou_n > 0)\n",
    "    bn = min(len(negative_indices), b - bp)\n",
    "    negative_indices_ = torch.multinomial(torch.ones(len(negative_indices)), bn)  # Sampled\n",
    "    negative_indices = negative_indices[negative_indices_]\n",
    "\n",
    "    return positive_indices, negative_indices"
   ],
   "metadata": {
    "collapsed": false,
    "pycharm": {
     "name": "#%%\n"
    }
   }
  },
  {
   "cell_type": "code",
   "execution_count": 64,
   "outputs": [],
   "source": [
    "def get_diffs(bboxes, anchors, max_iou, argmax_iou) -> torch.Tensor:\n",
    "    \"\"\"\n",
    "    Parameters\n",
    "    ----------\n",
    "    bboxes: Tensor of shape (4, n_bboxes)\n",
    "    anchors: Tensor of shape (4, H*W*k)\n",
    "    iou: Tensor of shape (n_bboxes, H*W*k)\n",
    "\n",
    "    Returns\n",
    "    -------\n",
    "    diffs: A Tensor of shape (4*k, H, W)\n",
    "\n",
    "    Steps:\n",
    "    1. Find argmax IOUs\n",
    "    2. Extract bbox coordinates of shape (4, H*W*k)\n",
    "    3. Find diffs for each pair:\n",
    "        i.\n",
    "    \"\"\"\n",
    "\n",
    "    invalid_indices = torch.nonzero(max_iou == 0).view((-1))\n",
    "\n",
    "    bboxes_max = bboxes[:, argmax_iou]\n",
    "\n",
    "    tx = (bboxes_max[0] - anchors[0]) / anchors[2]\n",
    "    ty = (bboxes_max[1] - anchors[1]) / anchors[3]\n",
    "\n",
    "    tw = torch.log(bboxes_max[2] / anchors[2])\n",
    "    th = torch.log(bboxes_max[3] / anchors[3])\n",
    "\n",
    "    diffs = torch.stack((tx, ty, tw, th))  # Shape: (4, n_anchors)\n",
    "\n",
    "    len_invalid = len(invalid_indices)\n",
    "    diffs[:, invalid_indices] = torch.tensor([float('nan') for _ in range(4 * len_invalid)]).view((4, len_invalid))\n",
    "\n",
    "    return diffs.view((4 * k, H, W))"
   ],
   "metadata": {
    "collapsed": false,
    "pycharm": {
     "name": "#%%\n"
    }
   }
  },
  {
   "cell_type": "code",
   "execution_count": 65,
   "outputs": [],
   "source": [
    "def get_confidences(max_iou, confidence_threshold: int, shape) -> torch.Tensor:\n",
    "    \"\"\"\n",
    "    Parameters\n",
    "    ----------\n",
    "    max_iou: Tensor of shape (H*W*k), this is the IOU with best bounding box for each anchor\n",
    "    confidence_threshold: a real number between 0 to 1. All values >= this will be 1. Rest 0\n",
    "\n",
    "    Returns\n",
    "    -------\n",
    "    confidences: Tensor of shape (k, H, W)\n",
    "    \"\"\"\n",
    "\n",
    "    max_iou = max_iou.clone()\n",
    "    max_iou[max_iou < confidence_threshold] = 0\n",
    "    max_iou[max_iou >= confidence_threshold] = 1\n",
    "\n",
    "    return max_iou.view(shape)\n",
    "\n",
    "\n",
    "def get_labels(iou, bboxes, anchors, k, H, W, confidence_threshold):\n",
    "    max_iou, argmax_iou = torch.max(iou, 0)\n",
    "\n",
    "    confidences = get_confidences(max_iou, confidence_threshold, (k, H, W))\n",
    "    diffs = get_diffs(bboxes, anchors, max_iou, argmax_iou)\n",
    "\n",
    "    return torch.cat((confidences, diffs))\n"
   ],
   "metadata": {
    "collapsed": false,
    "pycharm": {
     "name": "#%%\n"
    }
   }
  },
  {
   "cell_type": "code",
   "execution_count": 49,
   "outputs": [],
   "source": [
    "\n",
    "k = 9\n",
    "W = 14\n",
    "H = 14\n",
    "B = 256\n",
    "b = 2\n",
    "\n",
    "y = [\n",
    "    [\n",
    "        {'id': 0,\n",
    "         'class': 9,\n",
    "         'class_one_hot': [0., 0., 0., 0., 0., 0., 0., 0., 0., 1.],\n",
    "         'x1': 40,\n",
    "         'y1': 26,\n",
    "         'x2': 70,\n",
    "         'y2': 56,\n",
    "         'cx': 55.0,\n",
    "         'cy': 41.0,\n",
    "         'height': 30,\n",
    "         'width': 30},\n",
    "        {'id': 1,\n",
    "         'class': 3,\n",
    "         'class_one_hot': [0., 0., 0., 1., 0., 0., 0., 0., 0., 0.],\n",
    "         'x1': 13,\n",
    "         'y1': 78,\n",
    "         'x2': 50,\n",
    "         'y2': 112,\n",
    "         'cx': 31.5,\n",
    "         'cy': 95.0,\n",
    "         'height': 34,\n",
    "         'width': 37,\n",
    "         'type': 'number'},\n",
    "        {'id': 2,\n",
    "         'class': 6,\n",
    "         'class_one_hot': [0., 0., 0., 0., 0., 0., 1., 0., 0., 0.],\n",
    "         'x1': 78,\n",
    "         'y1': 35,\n",
    "         'x2': 112,\n",
    "         'y2': 70,\n",
    "         'cx': 95.0,\n",
    "         'cy': 52.5,\n",
    "         'height': 35,\n",
    "         'width': 34,\n",
    "         'type': 'number'},\n",
    "        {'id': 3,\n",
    "         'class': 1,\n",
    "         'class_one_hot': [0., 1., 0., 0., 0., 0., 0., 0., 0., 0.],\n",
    "         'x1': 35,\n",
    "         'y1': 46,\n",
    "         'x2': 84,\n",
    "         'y2': 95,\n",
    "         'cx': 59.5,\n",
    "         'cy': 70.5,\n",
    "         'height': 49,\n",
    "         'width': 49,\n",
    "         'type': 'number'},\n",
    "        {'id': 4,\n",
    "         'class': 2,\n",
    "         'class_one_hot': [0., 0., 1., 0., 0., 0., 0., 0., 0., 0.],\n",
    "         'x1': 20,\n",
    "         'y1': 55,\n",
    "         'x2': 42,\n",
    "         'y2': 77,\n",
    "         'cx': 31.0,\n",
    "         'cy': 66.0,\n",
    "         'height': 22,\n",
    "         'width': 22,\n",
    "         'type': 'number'},\n",
    "        {'id': 5,\n",
    "         'class': 1,\n",
    "         'class_one_hot': [0., 1., 0., 0., 0., 0., 0., 0., 0., 0.],\n",
    "         'x1': 60,\n",
    "         'y1': 11,\n",
    "         'x2': 95,\n",
    "         'y2': 46,\n",
    "         'cx': 77.5,\n",
    "         'cy': 28.5,\n",
    "         'height': 35,\n",
    "         'width': 35,\n",
    "         'type': 'number'},\n",
    "        {'id': 6,\n",
    "         'class': 1,\n",
    "         'class_one_hot': [0., 1., 0., 0., 0., 0., 0., 0., 0., 0.],\n",
    "         'x1': 60,\n",
    "         'y1': 79,\n",
    "         'x2': 102,\n",
    "         'y2': 112,\n",
    "         'cx': 81.0,\n",
    "         'cy': 95.5,\n",
    "         'height': 33,\n",
    "         'width': 42,\n",
    "         'type': 'number'},\n",
    "        {'id': 7,\n",
    "         'class': 8,\n",
    "         'class_one_hot': [0., 0., 0., 0., 0., 0., 0., 0., 1., 0.],\n",
    "         'x1': 4,\n",
    "         'y1': 14,\n",
    "         'x2': 51,\n",
    "         'y2': 61,\n",
    "         'cx': 27.5,\n",
    "         'cy': 37.5,\n",
    "         'height': 47,\n",
    "         'width': 47,\n",
    "         'type': 'number'}],\n",
    "    [\n",
    "        {'id': 0,\n",
    "         'class': 4,\n",
    "         'class_one_hot': [0., 0., 0., 0., 1., 0., 0., 0., 0., 0.],\n",
    "         'x1': 33,\n",
    "         'y1': 28,\n",
    "         'x2': 87,\n",
    "         'y2': 82,\n",
    "         'cx': 60.0,\n",
    "         'cy': 55.0,\n",
    "         'height': 54,\n",
    "         'width': 54,\n",
    "         'type': 'number'},\n",
    "        {'id': 1,\n",
    "         'class': 0,\n",
    "         'class_one_hot': [1., 0., 0., 0., 0., 0., 0., 0., 0., 0.],\n",
    "         'x1': 68,\n",
    "         'y1': 69,\n",
    "         'x2': 103,\n",
    "         'y2': 104,\n",
    "         'cx': 85.5,\n",
    "         'cy': 86.5,\n",
    "         'height': 35,\n",
    "         'width': 35,\n",
    "         'type': 'number'},\n",
    "        {'id': 2,\n",
    "         'class': 1,\n",
    "         'class_one_hot': [0., 1., 0., 0., 0., 0., 0., 0., 0., 0.],\n",
    "         'x1': 62,\n",
    "         'y1': 0,\n",
    "         'x2': 95,\n",
    "         'y2': 33,\n",
    "         'cx': 78.5,\n",
    "         'cy': 16.5,\n",
    "         'height': 33,\n",
    "         'width': 33,\n",
    "         'type': 'number'},\n",
    "        {'id': 3,\n",
    "         'class': 1,\n",
    "         'class_one_hot': [0., 1., 0., 0., 0., 0., 0., 0., 0., 0.],\n",
    "         'x1': 16,\n",
    "         'y1': 88,\n",
    "         'x2': 48,\n",
    "         'y2': 112,\n",
    "         'cx': 32.0,\n",
    "         'cy': 100.0,\n",
    "         'height': 24,\n",
    "         'width': 32,\n",
    "         'type': 'number'}]]\n",
    "\n",
    "y_ = labels_to_tensor(y, 112, 112)\n",
    "\n",
    "anchors_tensor = generate_anchors(shape=(W, H), sizes=(.15, .45, .75), ratios=(0.5, 1, 2))"
   ],
   "metadata": {
    "collapsed": false,
    "pycharm": {
     "name": "#%%\n"
    }
   }
  },
  {
   "cell_type": "code",
   "execution_count": 36,
   "outputs": [
    {
     "data": {
      "text/plain": "<Figure size 432x288 with 1 Axes>",
      "image/png": "[encoded data removed]"
     },
     "metadata": {
      "needs_background": "light"
     },
     "output_type": "display_data"
    }
   ],
   "source": [
    "DataManager.plot_num(torch.ones((112, 112)), y[1])"
   ],
   "metadata": {
    "collapsed": false,
    "pycharm": {
     "name": "#%%\n"
    }
   }
  },
  {
   "cell_type": "code",
   "execution_count": 50,
   "outputs": [],
   "source": [
    "iou = get_iou_map(y_[1], anchors_tensor)"
   ],
   "metadata": {
    "collapsed": false,
    "pycharm": {
     "name": "#%%\n"
    }
   }
  },
  {
   "cell_type": "code",
   "execution_count": 68,
   "outputs": [],
   "source": [
    "positive, negative = sample_anchors(iou)"
   ],
   "metadata": {
    "collapsed": false,
    "pycharm": {
     "name": "#%%\n"
    }
   }
  },
  {
   "cell_type": "code",
   "execution_count": 66,
   "outputs": [],
   "source": [
    "labels = get_labels(iou, y_[1], anchors_tensor, k, H, W, confidence_threshold=0.7)"
   ],
   "metadata": {
    "collapsed": false,
    "pycharm": {
     "name": "#%%\n"
    }
   }
  },
  {
   "cell_type": "code",
   "execution_count": 67,
   "outputs": [
    {
     "data": {
      "text/plain": "torch.Size([45, 14, 14])"
     },
     "execution_count": 67,
     "metadata": {},
     "output_type": "execute_result"
    }
   ],
   "source": [
    "#-=================================================\n",
    "\n",
    "labels.shape"
   ],
   "metadata": {
    "collapsed": false,
    "pycharm": {
     "name": "#%%\n"
    }
   }
  },
  {
   "cell_type": "code",
   "execution_count": 71,
   "outputs": [
    {
     "data": {
      "text/plain": "torch.Size([5, 2])"
     },
     "execution_count": 71,
     "metadata": {},
     "output_type": "execute_result"
    }
   ],
   "source": [
    "positive.shape"
   ],
   "metadata": {
    "collapsed": false,
    "pycharm": {
     "name": "#%%\n"
    }
   }
  },
  {
   "cell_type": "code",
   "execution_count": 72,
   "outputs": [
    {
     "data": {
      "text/plain": "torch.Size([251, 2])"
     },
     "execution_count": 72,
     "metadata": {},
     "output_type": "execute_result"
    }
   ],
   "source": [
    "negative.shape"
   ],
   "metadata": {
    "collapsed": false,
    "pycharm": {
     "name": "#%%\n"
    }
   }
  },
  {
   "cell_type": "code",
   "execution_count": null,
   "outputs": [],
   "source": [],
   "metadata": {
    "collapsed": false,
    "pycharm": {
     "name": "#%%\n"
    }
   }
  }
 ],
 "metadata": {
  "kernelspec": {
   "display_name": "Python 3",
   "language": "python",
   "name": "python3"
  },
  "language_info": {
   "codemirror_mode": {
    "name": "ipython",
    "version": 2
   },
   "file_extension": ".py",
   "mimetype": "text/x-python",
   "name": "python",
   "nbconvert_exporter": "python",
   "pygments_lexer": "ipython2",
   "version": "2.7.6"
  }
 },
 "nbformat": 4,
 "nbformat_minor": 0
}