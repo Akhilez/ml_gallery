{
 "cells": [
  {
   "cell_type": "code",
   "execution_count": 1,
   "outputs": [],
   "source": [
    "import torch\n",
    "\n",
    "from app.vision.dense_cap import detection_utils as utils\n",
    "from lib.mnist_aug.mnist_augmenter import DataManager, MNISTAug"
   ],
   "metadata": {
    "collapsed": false,
    "pycharm": {
     "name": "#%%\n"
    }
   }
  },
  {
   "cell_type": "code",
   "execution_count": 2,
   "outputs": [],
   "source": [
    "dm = DataManager()\n",
    "dm.load_test()"
   ],
   "metadata": {
    "collapsed": false,
    "pycharm": {
     "name": "#%%\n"
    }
   }
  },
  {
   "cell_type": "code",
   "execution_count": 3,
   "outputs": [],
   "source": [
    "aug = MNISTAug()\n",
    "x, y = aug.get_augmented(dm.x_test, dm.y_test, 2)"
   ],
   "metadata": {
    "collapsed": false,
    "pycharm": {
     "name": "#%%\n"
    }
   }
  },
  {
   "cell_type": "code",
   "execution_count": 4,
   "outputs": [],
   "source": [
    "x = torch.tensor(x,  dtype=torch.float32).view((-1, 1, 112, 112))"
   ],
   "metadata": {
    "collapsed": false,
    "pycharm": {
     "name": "#%%\n"
    }
   }
  },
  {
   "cell_type": "code",
   "execution_count": 5,
   "outputs": [
    {
     "data": {
      "text/plain": "{'id': 0,\n 'class': 6,\n 'class_one_hot': array([0., 0., 0., 0., 0., 0., 1., 0., 0., 0.]),\n 'x1': 27,\n 'y1': 33,\n 'x2': 91,\n 'y2': 97,\n 'cx': 59.0,\n 'cy': 65.0,\n 'height': 64,\n 'width': 64,\n 'type': 'number'}"
     },
     "execution_count": 5,
     "metadata": {},
     "output_type": "execute_result"
    }
   ],
   "source": [
    "y[0][0]"
   ],
   "metadata": {
    "collapsed": false,
    "pycharm": {
     "name": "#%%\n"
    }
   }
  },
  {
   "cell_type": "code",
   "execution_count": 6,
   "outputs": [
    {
     "name": "stderr",
     "output_type": "stream",
     "text": [
      "/home/ak/Repos/ml_gallery/ml_py/lib/mnist_aug/mnist_augmenter.py:444: UserWarning: Matplotlib is currently using module://ipykernel.pylab.backend_inline, which is a non-GUI backend, so cannot show the figure.\n",
      "  fig.show()\n"
     ]
    },
    {
     "data": {
      "text/plain": "<Figure size 432x288 with 1 Axes>",
      "image/png": "[encoded data removed]"
     },
     "metadata": {
      "needs_background": "light"
     },
     "output_type": "display_data"
    }
   ],
   "source": [
    "\n",
    "H = 14\n",
    "W = 14\n",
    "H_full = 112\n",
    "W_full = 112\n",
    "k = 9\n",
    "\n",
    "i = 0\n",
    "\n",
    "y_ = utils.labels_to_tensor(y[i], 112, 112)\n",
    "\n",
    "anchors_tensor = utils.generate_anchors(shape=(W, H), sizes=(.15, .45, .75), ratios=(0.5, 1, 2))\n",
    "\n",
    "DataManager.plot_num(torch.ones((112, 112)), y[0])\n",
    "\n",
    "iou = utils.get_iou_map(y_, anchors_tensor)"
   ],
   "metadata": {
    "collapsed": false,
    "pycharm": {
     "name": "#%%\n"
    }
   }
  },
  {
   "cell_type": "code",
   "execution_count": 7,
   "outputs": [],
   "source": [
    "confidences, diffs = utils.get_labels(iou, y_, anchors_tensor, k, H, W, confidence_threshold=0.6)"
   ],
   "metadata": {
    "collapsed": false,
    "pycharm": {
     "name": "#%%\n"
    }
   }
  },
  {
   "cell_type": "code",
   "execution_count": null,
   "outputs": [],
   "source": [
    "def sample_pn_indices(confidences: torch.Tensor, threshold_p:float, threshold_n: float, b_samples:int):\n",
    "    \"\"\"\n",
    "    Parameters\n",
    "    ----------\n",
    "    confidences: A flat 1D tensor of confidences\n",
    "    threshold_p: something like 0.7\n",
    "    threshold_n: something like 0.3\n",
    "    b_samples: b number of samples. Something like 256 / 300\n",
    "\n",
    "    Returns\n",
    "    -------\n",
    "    A tuple of two tensors. Each containing arbitrary number of indices.\n",
    "    \"\"\"\n",
    "\n",
    "    positive_indices = torch.nonzero(confidences >= threshold_p).flatten(0)\n",
    "    negative_indices = torch.nonzero(confidences <= threshold_n).flatten(0)\n",
    "\n",
    "    bp = min(len(positive_indices), b / 2)\n",
    "    sampled_indices = torch.multinomial(torch.ones(len(positive_indices)), bp)  # Sampled\n",
    "    positive_indices = positive_indices[sampled_indices]\n",
    "\n",
    "    bn = min(len(negative_indices), b - bp)\n",
    "    sampled_indices = torch.multinomial(torch.ones(len(negative_indices)), bn)  # Sampled\n",
    "    negative_indices = negative_indices[sampled_indices]\n",
    "\n",
    "    return positive_indices, negative_indices"
   ],
   "metadata": {
    "collapsed": false,
    "pycharm": {
     "name": "#%%\n"
    }
   }
  },
  {
   "cell_type": "code",
   "execution_count": null,
   "outputs": [],
   "source": [
    "def get_pred_bboxes(diffs:torch.Tensor, anchors:torch.Tensor, idx_p:torch.Tensor, idx_n: torch.Tensor):\n",
    "    \"\"\"\n",
    "    Parameters\n",
    "    ----------\n",
    "    idx_p: 1D positive indices tensor\n",
    "    idx_n: 1D -ve indices tensor\n",
    "    diffs: Tensor of shape (4, k, H, W)\n",
    "    anchors: Tensor of shape (4, k*H*W)\n",
    "\n",
    "    Returns\n",
    "    -------\n",
    "    A tuple of two tensors -> (4, np), (4, nn)\n",
    "\n",
    "    Steps\n",
    "    -------\n",
    "    1. Extract +ve and -ve anchors\n",
    "    2. Flatten out diffs at dim 1 to make a diffs tensor of shape (4, k*H*W)\n",
    "    3. Extract +ve and -ve diffs\n",
    "    4. Apply diffs to anchors\n",
    "    5. return pred bboxes\n",
    "    \"\"\"\n",
    "\n",
    "    anchors_p = anchors[:, idx_p]\n",
    "    anchors_n = anchors[:, idx_n]\n",
    "\n",
    "    diffs = diffs.view((4, -1))\n",
    "    diffs_p = diffs[:, idx_p]\n",
    "    diffs_n = diffs[:, idx_n]\n",
    "\n",
    "    bb_p = apply_diff(anchors_p, diffs_p)\n",
    "    bb_n = apply_diff(anchors_n, diffs_n)\n",
    "\n",
    "    return bb_p, bb_n\n",
    "\n",
    "    positive_anchor_indices = torch.nonzero(confidences == 1).T  # Shape: 3, n  n = number of positives predicted\n",
    "    len_positives = positive_anchor_indices.shape[1]\n",
    "\n",
    "    cx_indices = positive_anchor_indices\n",
    "    cy_indices = torch.stack((positive_anchor_indices[0] + torch.ones(len_positives) * k, positive_anchor_indices[1], positive_anchor_indices[2])).type(torch.long)\n",
    "    w_indices = torch.stack((positive_anchor_indices[0] + torch.ones(len_positives) * 2 * k, positive_anchor_indices[1], positive_anchor_indices[2])).type(torch.long)\n",
    "    h_indices = torch.stack((positive_anchor_indices[0] + torch.ones(len_positives) * 3 * k, positive_anchor_indices[1], positive_anchor_indices[2])).type(torch.long)\n",
    "\n",
    "    cx_diffs = diffs[tuple(cx_indices)]\n",
    "    cy_diffs = diffs[tuple(cy_indices)]\n",
    "    w_diffs = diffs[tuple(w_indices)]\n",
    "    h_diffs = diffs[tuple(h_indices)]\n",
    "\n",
    "    pred_boxes = torch.empty((len_positives, 4), dtype=torch.float32)\n",
    "\n",
    "    for i in range(len_positives):\n",
    "        idx = cx_indices.T[i]\n",
    "        anchor_idx = ravel_indices(idx, diffs.shape)\n",
    "\n",
    "        b = apply_diff(anchors_tensor[:, anchor_idx], (cx_diffs[i], cy_diffs[i], w_diffs[i], h_diffs[i]))\n",
    "        pred_boxes[i] = b\n",
    "\n",
    "    pred_boxes = centers_to_diag(pred_boxes)\n",
    "\n",
    "    # Now do the Non Maximal Suppression and filter out the duplicates\n",
    "\n",
    "\n",
    "\n",
    "\n",
    "\n"
   ],
   "metadata": {
    "collapsed": false,
    "pycharm": {
     "name": "#%%\n"
    }
   }
  },
  {
   "cell_type": "code",
   "execution_count": 8,
   "outputs": [
    {
     "data": {
      "text/plain": "tensor([[ 4, 11,  2],\n        [ 4, 11, 11],\n        [ 5,  6,  2],\n        [ 5,  6, 11]])"
     },
     "execution_count": 8,
     "metadata": {},
     "output_type": "execute_result"
    }
   ],
   "source": [
    "def nms():\n",
    "    pass"
   ],
   "metadata": {
    "collapsed": false,
    "pycharm": {
     "name": "#%%\n"
    }
   }
  },
  {
   "cell_type": "code",
   "execution_count": null,
   "outputs": [],
   "source": [
    "torch.nonzero(confidences > 0.3)"
   ],
   "metadata": {
    "collapsed": false,
    "pycharm": {
     "name": "#%%\n"
    }
   }
  },
  {
   "cell_type": "code",
   "execution_count": 9,
   "outputs": [
    {
     "data": {
      "text/plain": "torch.Size([1760, 3])"
     },
     "execution_count": 9,
     "metadata": {},
     "output_type": "execute_result"
    }
   ],
   "source": [
    "torch.nonzero(confidences <= 0.3).shape"
   ],
   "metadata": {
    "collapsed": false,
    "pycharm": {
     "name": "#%%\n"
    }
   }
  },
  {
   "cell_type": "code",
   "execution_count": 10,
   "outputs": [
    {
     "data": {
      "text/plain": "torch.Size([9])"
     },
     "execution_count": 10,
     "metadata": {},
     "output_type": "execute_result"
    }
   ],
   "source": [
    "y_[i].shape"
   ],
   "metadata": {
    "collapsed": false,
    "pycharm": {
     "name": "#%%\n"
    }
   }
  },
  {
   "cell_type": "code",
   "execution_count": 11,
   "outputs": [],
   "source": [
    "positive_anchor_indices = torch.nonzero(confidences == 1).T"
   ],
   "metadata": {
    "collapsed": false,
    "pycharm": {
     "name": "#%%\n"
    }
   }
  },
  {
   "cell_type": "code",
   "execution_count": 12,
   "outputs": [
    {
     "data": {
      "text/plain": "tensor([[ 4,  4,  5,  5],\n        [11, 11,  6,  6],\n        [ 2, 11,  2, 11]])"
     },
     "execution_count": 12,
     "metadata": {},
     "output_type": "execute_result"
    }
   ],
   "source": [
    "positive_anchor_indices"
   ],
   "metadata": {
    "collapsed": false,
    "pycharm": {
     "name": "#%%\n"
    }
   }
  },
  {
   "cell_type": "code",
   "execution_count": 33,
   "outputs": [
    {
     "data": {
      "text/plain": "tensor([ 0.1389, -0.0198,  0.1389, -0.0198])"
     },
     "execution_count": 33,
     "metadata": {},
     "output_type": "execute_result"
    }
   ],
   "source": [
    "diffs[tuple(positive_anchor_indices)]"
   ],
   "metadata": {
    "collapsed": false,
    "pycharm": {
     "name": "#%%\n"
    }
   }
  },
  {
   "cell_type": "code",
   "execution_count": 14,
   "outputs": [
    {
     "data": {
      "text/plain": "torch.Size([36, 14, 14])"
     },
     "execution_count": 14,
     "metadata": {},
     "output_type": "execute_result"
    }
   ],
   "source": [
    "diffs.shape"
   ],
   "metadata": {
    "collapsed": false,
    "pycharm": {
     "name": "#%%\n"
    }
   }
  },
  {
   "cell_type": "code",
   "execution_count": 15,
   "outputs": [
    {
     "data": {
      "text/plain": "4"
     },
     "execution_count": 15,
     "metadata": {},
     "output_type": "execute_result"
    }
   ],
   "source": [
    "len_positives = positive_anchor_indices.shape[1]\n",
    "len_positives"
   ],
   "metadata": {
    "collapsed": false,
    "pycharm": {
     "name": "#%%\n"
    }
   }
  },
  {
   "cell_type": "code",
   "execution_count": 16,
   "outputs": [],
   "source": [
    "cx_indices = positive_anchor_indices\n",
    "cy_indices = torch.stack((positive_anchor_indices[0] + torch.ones(len_positives) * k, positive_anchor_indices[1], positive_anchor_indices[2])).type(torch.long)\n",
    "w_indices = torch.stack((positive_anchor_indices[0] + torch.ones(len_positives) * 2 * k, positive_anchor_indices[1], positive_anchor_indices[2])).type(torch.long)\n",
    "h_indices = torch.stack((positive_anchor_indices[0] + torch.ones(len_positives) * 3 * k, positive_anchor_indices[1], positive_anchor_indices[2])).type(torch.long)"
   ],
   "metadata": {
    "collapsed": false,
    "pycharm": {
     "name": "#%%\n"
    }
   }
  },
  {
   "cell_type": "code",
   "execution_count": 17,
   "outputs": [],
   "source": [
    "cx_diffs = diffs[tuple(cx_indices)]\n",
    "cy_diffs = diffs[tuple(cy_indices)]\n",
    "w_diffs = diffs[tuple(w_indices)]\n",
    "h_diffs = diffs[tuple(h_indices)]"
   ],
   "metadata": {
    "collapsed": false,
    "pycharm": {
     "name": "#%%\n"
    }
   }
  },
  {
   "cell_type": "code",
   "execution_count": 18,
   "outputs": [],
   "source": [
    "\n",
    "def unravel_index(index, shape):\n",
    "    out = []\n",
    "    for dim in reversed(shape):\n",
    "        out.append((index % dim).numpy())\n",
    "        index = index // dim\n",
    "    return list(reversed(out))"
   ],
   "metadata": {
    "collapsed": false,
    "pycharm": {
     "name": "#%%\n"
    }
   }
  },
  {
   "cell_type": "code",
   "execution_count": 19,
   "outputs": [],
   "source": [
    "def ravel_indices(indices, shape):\n",
    "    dims = len(shape)\n",
    "    shape = list(shape[1:])\n",
    "    shape.append(1)\n",
    "    product = 1\n",
    "    index = 0\n",
    "    for i in range(dims -1, -1, -1):\n",
    "        product *= shape[i]\n",
    "        index += indices[i] * product\n",
    "    return index\n"
   ],
   "metadata": {
    "collapsed": false,
    "pycharm": {
     "name": "#%%\n"
    }
   }
  },
  {
   "cell_type": "code",
   "execution_count": 20,
   "outputs": [],
   "source": [
    "i=3\n",
    "idx = cx_indices.T[i]\n",
    "anchor_idx = ravel_indices(idx, diffs.shape)"
   ],
   "metadata": {
    "collapsed": false,
    "pycharm": {
     "name": "#%%\n"
    }
   }
  },
  {
   "cell_type": "code",
   "execution_count": 21,
   "outputs": [
    {
     "data": {
      "text/plain": "(tensor([ 5,  6, 11]), tensor(1075))"
     },
     "execution_count": 21,
     "metadata": {},
     "output_type": "execute_result"
    }
   ],
   "source": [
    "idx, anchor_idx"
   ],
   "metadata": {
    "collapsed": false,
    "pycharm": {
     "name": "#%%\n"
    }
   }
  },
  {
   "cell_type": "code",
   "execution_count": 22,
   "outputs": [
    {
     "data": {
      "text/plain": "tensor(7)"
     },
     "execution_count": 22,
     "metadata": {},
     "output_type": "execute_result"
    }
   ],
   "source": [
    "iou.argmax(0)[913]"
   ],
   "metadata": {
    "collapsed": false,
    "pycharm": {
     "name": "#%%\n"
    }
   }
  },
  {
   "cell_type": "code",
   "execution_count": 23,
   "outputs": [
    {
     "data": {
      "text/plain": "torch.Size([4, 1764])"
     },
     "execution_count": 23,
     "metadata": {},
     "output_type": "execute_result"
    }
   ],
   "source": [
    "anchors_tensor.shape"
   ],
   "metadata": {
    "collapsed": false,
    "pycharm": {
     "name": "#%%\n"
    }
   }
  },
  {
   "cell_type": "code",
   "execution_count": 24,
   "outputs": [
    {
     "data": {
      "text/plain": "tensor([0.5357, 0.6071, 0.4500, 0.4500])"
     },
     "execution_count": 24,
     "metadata": {},
     "output_type": "execute_result"
    }
   ],
   "source": [
    "anchors_tensor[:, anchor_idx]"
   ],
   "metadata": {
    "collapsed": false,
    "pycharm": {
     "name": "#%%\n"
    }
   }
  },
  {
   "cell_type": "code",
   "execution_count": 25,
   "outputs": [
    {
     "data": {
      "text/plain": "(tensor(-0.0198), tensor(-0.0595), tensor(0.2389), tensor(0.2389))"
     },
     "execution_count": 25,
     "metadata": {},
     "output_type": "execute_result"
    }
   ],
   "source": [
    "cx_diffs[i], cy_diffs[i], w_diffs[i], h_diffs[i]"
   ],
   "metadata": {
    "collapsed": false,
    "pycharm": {
     "name": "#%%\n"
    }
   }
  },
  {
   "cell_type": "code",
   "execution_count": 27,
   "outputs": [],
   "source": [
    "def apply_diff(anchor, diffs):\n",
    "    cxa = anchor[0]\n",
    "    cya = anchor[1]\n",
    "    wa = anchor[2]\n",
    "    ha = anchor[3]\n",
    "\n",
    "    cxd = diffs[0]\n",
    "    cyd = diffs[1]\n",
    "    wd = diffs[2]\n",
    "    hd = diffs[3]\n",
    "\n",
    "    cxb = cxa + cxd * wa\n",
    "    cyb = cya + cyd * ha\n",
    "    wb = wa * torch.exp(wd)\n",
    "    hb = ha * torch.exp(hd)\n",
    "\n",
    "    return torch.stack((cxb, cyb, wb, hb))\n"
   ],
   "metadata": {
    "collapsed": false,
    "pycharm": {
     "name": "#%%\n"
    }
   }
  },
  {
   "cell_type": "code",
   "execution_count": 29,
   "outputs": [
    {
     "data": {
      "text/plain": "tensor([0.5268, 0.5804, 0.5714, 0.5714])"
     },
     "execution_count": 29,
     "metadata": {},
     "output_type": "execute_result"
    }
   ],
   "source": [
    "b = apply_diff(anchors_tensor[:, anchor_idx], (cx_diffs[i], cy_diffs[i], w_diffs[i], h_diffs[i]))\n",
    "b"
   ],
   "metadata": {
    "collapsed": false,
    "pycharm": {
     "name": "#%%\n"
    }
   }
  },
  {
   "cell_type": "code",
   "execution_count": 30,
   "outputs": [
    {
     "data": {
      "text/plain": "tensor([59., 65., 64., 64.])"
     },
     "execution_count": 30,
     "metadata": {},
     "output_type": "execute_result"
    }
   ],
   "source": [
    "b = b * 112"
   ],
   "metadata": {
    "collapsed": false,
    "pycharm": {
     "name": "#%%\n"
    }
   }
  },
  {
   "cell_type": "code",
   "execution_count": 35,
   "outputs": [
    {
     "data": {
      "text/plain": "torch.Size([1, 4])"
     },
     "execution_count": 35,
     "metadata": {},
     "output_type": "execute_result"
    }
   ],
   "source": [
    "b = b.view((1, -1))\n",
    "b.shape"
   ],
   "metadata": {
    "collapsed": false,
    "pycharm": {
     "name": "#%%\n"
    }
   }
  },
  {
   "cell_type": "code",
   "execution_count": 36,
   "outputs": [],
   "source": [
    "def centers_to_diag(boxes):\n",
    "    \"\"\"\n",
    "    Parameters\n",
    "    ----------\n",
    "    boxes: tensor of shape (4, n)\n",
    "\n",
    "    Returns\n",
    "    -------\n",
    "    boxes of shape (4, n)\n",
    "    \"\"\"\n",
    "\n",
    "    cx = boxes[:, 0]\n",
    "    cy = boxes[:, 1]\n",
    "    w = boxes[:, 2] / 2\n",
    "    h = boxes[:, 3] / 2\n",
    "\n",
    "    x1 = cx - w\n",
    "    y1 = cy - h\n",
    "    x2 = cx + w\n",
    "    y2 = cy + h\n",
    "\n",
    "    return torch.stack((x1, y1, x2, y2))  # (4, n)"
   ],
   "metadata": {
    "collapsed": false,
    "pycharm": {
     "name": "#%%\n"
    }
   }
  },
  {
   "cell_type": "code",
   "execution_count": null,
   "outputs": [],
   "source": [],
   "metadata": {
    "collapsed": false,
    "pycharm": {
     "name": "#%%\n"
    }
   }
  }
 ],
 "metadata": {
  "kernelspec": {
   "display_name": "Python 3",
   "language": "python",
   "name": "python3"
  },
  "language_info": {
   "codemirror_mode": {
    "name": "ipython",
    "version": 2
   },
   "file_extension": ".py",
   "mimetype": "text/x-python",
   "name": "python",
   "nbconvert_exporter": "python",
   "pygments_lexer": "ipython2",
   "version": "2.7.6"
  }
 },
 "nbformat": 4,
 "nbformat_minor": 0
}