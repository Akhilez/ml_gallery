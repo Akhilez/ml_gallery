{
 "cells": [
  {
   "cell_type": "code",
   "execution_count": 1,
   "metadata": {
    "collapsed": true
   },
   "outputs": [],
   "source": [
    "import numpy as np\n",
    "\n",
    "from lib.mnist_aug.mnist_augmenter import DataManager, MNISTAug"
   ]
  },
  {
   "cell_type": "code",
   "execution_count": 2,
   "outputs": [],
   "source": [
    "aug = MNISTAug()\n",
    "dm = DataManager()\n",
    "dm.load()"
   ],
   "metadata": {
    "collapsed": false,
    "pycharm": {
     "name": "#%%\n"
    }
   }
  },
  {
   "cell_type": "code",
   "execution_count": 3,
   "outputs": [],
   "source": [
    "aug.max_objects = 10\n",
    "aug.min_objects = 4\n",
    "aug.spacing = 1\n",
    "aug.scaling_mean = 1\n",
    "aug.scaling_sd = 0.25\n",
    "aug.overflow = 0"
   ],
   "metadata": {
    "collapsed": false,
    "pycharm": {
     "name": "#%%\n"
    }
   }
  },
  {
   "cell_type": "code",
   "execution_count": 4,
   "outputs": [],
   "source": [
    "x_train, y_train = aug.get_augmented(dm.x_train, dm.y_train, 10)\n",
    "x_test, y_test = aug.get_augmented(dm.x_test, dm.y_test, 2)"
   ],
   "metadata": {
    "collapsed": false,
    "pycharm": {
     "name": "#%%\n"
    }
   }
  },
  {
   "cell_type": "code",
   "execution_count": 5,
   "outputs": [],
   "source": [
    "x_train = x_train.reshape(-1, 112, 112, 1)\n",
    "x_test = x_test.reshape(-1, 112, 112, 1)"
   ],
   "metadata": {
    "collapsed": false,
    "pycharm": {
     "name": "#%%\n"
    }
   }
  },
  {
   "cell_type": "code",
   "execution_count": 6,
   "outputs": [
    {
     "name": "stderr",
     "output_type": "stream",
     "text": [
      "/Users/akhildevarashetti/code/ml_gallery/ml_py/lib/mnist_aug/mnist_augmenter.py:216: UserWarning: Matplotlib is currently using module://ipykernel.pylab.backend_inline, which is a non-GUI backend, so cannot show the figure.\n",
      "  fig.show()\n"
     ]
    },
    {
     "data": {
      "text/plain": "[{'class': 1,\n  'class_one_hot': array([0., 1., 0., 0., 0., 0., 0., 0., 0., 0.]),\n  'x1': 28,\n  'y1': 3,\n  'x2': 50,\n  'y2': 25,\n  'cx': 39.0,\n  'cy': 14.0,\n  'height': 22,\n  'width': 22},\n {'class': 2,\n  'class_one_hot': array([0., 0., 1., 0., 0., 0., 0., 0., 0., 0.]),\n  'x1': 91,\n  'y1': 42,\n  'x2': 109,\n  'y2': 60,\n  'cx': 100.0,\n  'cy': 51.0,\n  'height': 18,\n  'width': 18},\n {'class': 3,\n  'class_one_hot': array([0., 0., 0., 1., 0., 0., 0., 0., 0., 0.]),\n  'x1': 10,\n  'y1': 74,\n  'x2': 38,\n  'y2': 102,\n  'cx': 24.0,\n  'cy': 88.0,\n  'height': 28,\n  'width': 28},\n {'class': 2,\n  'class_one_hot': array([0., 0., 1., 0., 0., 0., 0., 0., 0., 0.]),\n  'x1': 72,\n  'y1': 75,\n  'x2': 104,\n  'y2': 107,\n  'cx': 88.0,\n  'cy': 91.0,\n  'height': 32,\n  'width': 32},\n {'class': 7,\n  'class_one_hot': array([0., 0., 0., 0., 0., 0., 0., 1., 0., 0.]),\n  'x1': 44,\n  'y1': 74,\n  'x2': 55,\n  'y2': 85,\n  'cx': 49.5,\n  'cy': 79.5,\n  'height': 11,\n  'width': 11},\n {'class': 5,\n  'class_one_hot': array([0., 0., 0., 0., 0., 1., 0., 0., 0., 0.]),\n  'x1': 72,\n  'y1': 0,\n  'x2': 97,\n  'y2': 25,\n  'cx': 84.5,\n  'cy': 12.5,\n  'height': 25,\n  'width': 25},\n {'class': 1,\n  'class_one_hot': array([0., 1., 0., 0., 0., 0., 0., 0., 0., 0.]),\n  'x1': 39,\n  'y1': 25,\n  'x2': 59,\n  'y2': 45,\n  'cx': 49.0,\n  'cy': 35.0,\n  'height': 20,\n  'width': 20}]"
     },
     "execution_count": 6,
     "metadata": {},
     "output_type": "execute_result"
    },
    {
     "data": {
      "text/plain": "<Figure size 432x288 with 1 Axes>",
      "image/png": "[encoded data removed]"
     },
     "metadata": {
      "needs_background": "light"
     },
     "output_type": "display_data"
    }
   ],
   "source": [
    "test_index = 3\n",
    "DataManager.plot_num(x_train[test_index].reshape((112, 112)), y_train[test_index])\n",
    "y_train[test_index]"
   ],
   "metadata": {
    "collapsed": false,
    "pycharm": {
     "name": "#%%\n"
    }
   }
  },
  {
   "cell_type": "code",
   "execution_count": 7,
   "outputs": [],
   "source": [
    "def to_one_hot(x, num_classes=10):\n",
    "  b = np.zeros((len(x), num_classes), dtype=np.float32)\n",
    "  b[np.arange(len(x)), x] = 1\n",
    "  return b"
   ],
   "metadata": {
    "collapsed": false,
    "pycharm": {
     "name": "#%%\n"
    }
   }
  },
  {
   "cell_type": "code",
   "execution_count": 8,
   "outputs": [],
   "source": [
    "img_width = 112\n",
    "n_anchors_row = 4\n",
    "n_anchors = n_anchors_row ** 2\n",
    "anchor_width = 28\n",
    "anchor_grid_spacing = img_width / n_anchors_row\n",
    "\n",
    "anchor_centers = []\n",
    "for i in range(n_anchors_row):\n",
    "  anchor_row = []\n",
    "  for j in range(n_anchors_row):\n",
    "    anchor_row.append([\n",
    "      j * anchor_grid_spacing + anchor_grid_spacing / 2,\n",
    "      i * anchor_grid_spacing + anchor_grid_spacing / 2,\n",
    "    ])\n",
    "  anchor_centers.append(anchor_row)\n",
    "anchor_centers = np.array(anchor_centers).reshape((-1, 2))"
   ],
   "metadata": {
    "collapsed": false,
    "pycharm": {
     "name": "#%%\n"
    }
   }
  },
  {
   "cell_type": "code",
   "execution_count": 9,
   "outputs": [],
   "source": [
    "def get_fractional_difference(anchor, bounding_box):\n",
    "  a_box = anchor\n",
    "  b_box = bounding_box\n",
    "\n",
    "  cx_d = (b_box['cx'] - a_box[0]) / img_width\n",
    "  cy_d = (b_box['cy'] - a_box[1]) / img_width\n",
    "  wd = (b_box['width'] - anchor_width) / img_width\n",
    "\n",
    "  return cx_d, cy_d, wd\n",
    "\n",
    "def get_units_from_diff(anchors, bounding_boxes):\n",
    "    diffs = np.zeros((len(anchors), 3))\n",
    "    for i in range(len(anchors)):\n",
    "        diffs[i][0] = bounding_boxes[i][0] * img_width + anchors[i][0]\n",
    "        diffs[i][1] = bounding_boxes[i][1] * img_width + anchors[i][1]\n",
    "        diffs[i][2] = bounding_boxes[i][2] * img_width + anchor_width\n",
    "\n",
    "    return diffs"
   ],
   "metadata": {
    "collapsed": false,
    "pycharm": {
     "name": "#%%\n"
    }
   }
  },
  {
   "cell_type": "code",
   "execution_count": 10,
   "outputs": [],
   "source": [
    "def get_iou(anchor_center, bounding_box):\n",
    "\n",
    "    half_anchor_width = anchor_width / 2\n",
    "    boxA = [\n",
    "        anchor_center[0]-half_anchor_width,\n",
    "        anchor_center[1]-half_anchor_width,\n",
    "        anchor_center[0]+half_anchor_width,\n",
    "        anchor_center[1]+half_anchor_width\n",
    "    ]\n",
    "    boxB = [bounding_box['x1'], bounding_box['y1'], bounding_box['x2'], bounding_box['y2']]\n",
    "\n",
    "    # determine the (x, y)-coordinates of the intersection rectangle\n",
    "    xA = max(boxA[0], boxB[0])\n",
    "    yA = max(boxA[1], boxB[1])\n",
    "    xB = min(boxA[2], boxB[2])\n",
    "    yB = min(boxA[3], boxB[3])\n",
    "    # compute the area of intersection rectangle\n",
    "    interArea = max(0, xB - xA + 1) * max(0, yB - yA + 1)\n",
    "    # compute the area of both the prediction and ground-truth\n",
    "    # rectangles\n",
    "    boxAArea = (boxA[2] - boxA[0] + 1) * (boxA[3] - boxA[1] + 1)\n",
    "    boxBArea = (boxB[2] - boxB[0] + 1) * (boxB[3] - boxB[1] + 1)\n",
    "    # compute the intersection over union by taking the intersection\n",
    "    # area and dividing it by the sum of prediction + ground-truth\n",
    "    # areas - the interesection area\n",
    "    iou = interArea / float(boxAArea + boxBArea - interArea)\n",
    "    # return the intersection over union value\n",
    "    return iou"
   ],
   "metadata": {
    "collapsed": false,
    "pycharm": {
     "name": "#%%\n"
    }
   }
  },
  {
   "cell_type": "code",
   "execution_count": 11,
   "outputs": [],
   "source": [
    "def get_positive_anchors(y_batch):\n",
    "    \"\"\"\n",
    "    1. For Each item in the batch:\n",
    "    2. For each anchor box:\n",
    "    - For each bounding box:\n",
    "        - Find the IoU.\n",
    "    - Pick bounding box with highest IoU for that anchor.\n",
    "    - # TODO: Pick the anchor with the highest IoU for that bounding box.\n",
    "    - If highest IoU is < 0.3, then continue 1.\n",
    "    # - Create the difference units for the anchor and the bounding box as y\n",
    "    - Now add the anchor box and bounding box into a map.\n",
    "    \"\"\"\n",
    "    all_positive_pairs = []\n",
    "    for batch_i in range(len(y_batch)):\n",
    "        positive_pairs_batch = []\n",
    "        max_iou_b = {}\n",
    "        max_iou_a = {}\n",
    "\n",
    "        # ---------- The two loops --------------\n",
    "\n",
    "        for anchor_i in range(len(anchor_centers)):\n",
    "            for bb_i in range(len(y_batch[batch_i])):\n",
    "\n",
    "                b_box = y_batch[batch_i][bb_i]\n",
    "                a_box = anchor_centers[anchor_i]\n",
    "\n",
    "                iou = get_iou(a_box, b_box)\n",
    "                default_iou = {'iou': 0, 'bb_i': -1, 'ab_i': -1}\n",
    "\n",
    "                # --------------- Find max IoUs ------------------\n",
    "\n",
    "                if iou > max_iou_b.get(bb_i, default_iou)['iou']:\n",
    "                    max_iou_b[bb_i] = {\n",
    "                        'iou': iou,\n",
    "                        'bb_i': bb_i,\n",
    "                        'ab_i': anchor_i\n",
    "                    }\n",
    "\n",
    "                if iou > 0.5 and iou > max_iou_a.get(anchor_i, default_iou)['iou']:\n",
    "                    max_iou_a[anchor_i] = {\n",
    "                        'iou': iou,\n",
    "                        'bb_i': bb_i,\n",
    "                        'ab_i': anchor_i\n",
    "                    }\n",
    "\n",
    "        # --------- Merge both max ious ----------------\n",
    "\n",
    "        positive_pairs = [max_iou_b[index] for index in list(max_iou_b.keys())]\n",
    "        for index in list(max_iou_a.keys()):\n",
    "            if max_iou_a[index] not in positive_pairs:\n",
    "                positive_pairs.append(max_iou_a[index])\n",
    "        all_positive_pairs.append(positive_pairs)\n",
    "\n",
    "    return all_positive_pairs"
   ],
   "metadata": {
    "collapsed": false,
    "pycharm": {
     "name": "#%%\n"
    }
   }
  },
  {
   "cell_type": "code",
   "execution_count": 12,
   "outputs": [
    {
     "name": "stdout",
     "output_type": "stream",
     "text": [
      "10\n",
      "5\n"
     ]
    },
    {
     "data": {
      "text/plain": "16"
     },
     "execution_count": 12,
     "metadata": {},
     "output_type": "execute_result"
    }
   ],
   "source": [
    "positives = get_positive_anchors(y_test[:2])\n",
    "for positive in positives:\n",
    "  print(len(positive))\n",
    "n_anchors"
   ],
   "metadata": {
    "collapsed": false,
    "pycharm": {
     "name": "#%%\n"
    }
   }
  },
  {
   "cell_type": "code",
   "execution_count": 13,
   "outputs": [],
   "source": [
    "def get_y_d(y):\n",
    "  \"\"\"\n",
    "  Find all the positive anchor pairs.\n",
    "  for each of y:\n",
    "    for each pair in yi:\n",
    "      find fractional difference in anchor and bounding box.\n",
    "      append the fractional difference to the pair.\n",
    "  \"\"\"\n",
    "  y_d = []\n",
    "  positive_pairs = get_positive_anchors(y)\n",
    "  for yi in range(len(y)):\n",
    "    diffs = []\n",
    "    for pair_i in range(len(y[yi])):\n",
    "      pair = positive_pairs[yi][pair_i]\n",
    "      anchor = anchor_centers[pair['ab_i']]\n",
    "      bounding_box = y[yi][pair['bb_i']]\n",
    "      cx_d, cy_d, wd = get_fractional_difference(anchor, bounding_box)\n",
    "      diffs.append((cx_d, cy_d, wd, pair['ab_i'], pair['bb_i']))\n",
    "    y_d.append(np.array(diffs))\n",
    "  return y_d"
   ],
   "metadata": {
    "collapsed": false,
    "pycharm": {
     "name": "#%%\n"
    }
   }
  },
  {
   "cell_type": "code",
   "execution_count": 14,
   "outputs": [],
   "source": [
    "y_train_d = get_y_d(y_train)\n",
    "y_test_d = get_y_d(y_test)"
   ],
   "metadata": {
    "collapsed": false,
    "pycharm": {
     "name": "#%%\n"
    }
   }
  },
  {
   "cell_type": "code",
   "execution_count": 15,
   "outputs": [],
   "source": [
    "import tensorflow as tf"
   ],
   "metadata": {
    "collapsed": false,
    "pycharm": {
     "name": "#%%\n"
    }
   }
  },
  {
   "cell_type": "code",
   "execution_count": 18,
   "outputs": [
    {
     "name": "stdout",
     "output_type": "stream",
     "text": [
      "Model: \"functional_1\"\n",
      "__________________________________________________________________________________________________\n",
      "Layer (type)                    Output Shape         Param #     Connected to                     \n",
      "==================================================================================================\n",
      "input_3 (InputLayer)            [(None, 112, 112, 1) 0                                            \n",
      "__________________________________________________________________________________________________\n",
      "sequential_6 (Sequential)       (None, 1024)         6052664     input_3[0][0]                    \n",
      "__________________________________________________________________________________________________\n",
      "sequential_8 (Sequential)       (None, 48)           549424      sequential_6[0][0]               \n",
      "__________________________________________________________________________________________________\n",
      "sequential_7 (Sequential)       (None, 16)           533008      sequential_6[0][0]               \n",
      "==================================================================================================\n",
      "Total params: 7,135,096\n",
      "Trainable params: 7,135,096\n",
      "Non-trainable params: 0\n",
      "__________________________________________________________________________________________________\n"
     ]
    }
   ],
   "source": [
    "def get_model():\n",
    "    cnn = tf.keras.models.Sequential([\n",
    "        tf.keras.layers.Conv2D(10, (3,3), padding='same', input_shape=(112, 112, 1), activation='relu'),\n",
    "        tf.keras.layers.Dropout(0.3),\n",
    "        tf.keras.layers.Conv2D(20, (3,3), padding='same', strides=2, activation='relu'),\n",
    "        tf.keras.layers.Dropout(0.3),\n",
    "        tf.keras.layers.Conv2D(40, (3,3), strides=2, activation='relu'),\n",
    "        tf.keras.layers.Dropout(0.3),\n",
    "        tf.keras.layers.Conv2D(80, (3,3), padding='same', strides=2, activation='relu'),\n",
    "        tf.keras.layers.Dropout(0.3),\n",
    "        tf.keras.layers.Conv2D(160, (3,3), strides=2, activation='relu'),\n",
    "        tf.keras.layers.Flatten(),\n",
    "        tf.keras.layers.Dropout(0.3),\n",
    "        tf.keras.layers.Dense(1024, activation='relu'),\n",
    "        tf.keras.layers.Dropout(0.3),\n",
    "    ])\n",
    "\n",
    "    input_image = tf.keras.layers.Input(shape=(112, 112, 1))\n",
    "    features = cnn(input_image)\n",
    "\n",
    "    confidence_predictor = tf.keras.models.Sequential([\n",
    "        tf.keras.layers.Dense(512, activation='relu', input_shape=(1024,)),\n",
    "        tf.keras.layers.Dropout(0.3),\n",
    "        tf.keras.layers.Dense(n_anchors, activation='sigmoid')\n",
    "    ])\n",
    "\n",
    "    confidences = confidence_predictor(features)\n",
    "\n",
    "    box_predictor = tf.keras.models.Sequential([\n",
    "        tf.keras.layers.Dense(512, input_shape=(1024,), activation='relu'),\n",
    "        tf.keras.layers.Dropout(0.3),\n",
    "        tf.keras.layers.Dense(3 * n_anchors, activation='tanh')\n",
    "    ])\n",
    "\n",
    "    box_predictions = box_predictor(features)\n",
    "\n",
    "    return tf.keras.models.Model(input_image, [box_predictions, confidences])\n",
    "\n",
    "\n",
    "model = get_model()"
   ],
   "metadata": {
    "collapsed": false,
    "pycharm": {
     "name": "#%%\n"
    }
   }
  },
  {
   "cell_type": "code",
   "execution_count": null,
   "outputs": [],
   "source": [
    "def my_loss_fn(y_true, y_pred):\n",
    "    \"\"\"\n",
    "    1. find losses for each positive anchor\n",
    "    2. Sum them all up.\n",
    "    3. Create an array of n_anchors length for target confidences.\n",
    "    4. Make confidences 1 for positive indices.\n",
    "    5. Find losses for confidences.\n",
    "    return: float tensor\n",
    "    \"\"\"\n",
    "    squared_difference = tf.square(y_true - y_pred)\n",
    "    return tf.reduce_mean(squared_difference, axis=-1)  # Note the `axis=-1`\n",
    "\n",
    "model.compile(optimizer='adam', loss=my_loss_fn, metrics=['accuracy'])\n",
    "model.summary()"
   ],
   "metadata": {
    "collapsed": false,
    "pycharm": {
     "name": "#%%\n"
    }
   }
  },
  {
   "cell_type": "code",
   "execution_count": 19,
   "outputs": [
    {
     "ename": "ValueError",
     "evalue": "Data cardinality is ambiguous:\n  x sizes: 10\n  y sizes: 10, 8, 8, 7, 8, 8, 6, 4, 8, 10\nPlease provide data which shares the same first dimension.",
     "output_type": "error",
     "traceback": [
      "\u001B[0;31m---------------------------------------------------------------------------\u001B[0m",
      "\u001B[0;31mValueError\u001B[0m                                Traceback (most recent call last)",
      "\u001B[0;32m<ipython-input-19-ca1b6f7fa40c>\u001B[0m in \u001B[0;36m<module>\u001B[0;34m\u001B[0m\n\u001B[1;32m      2\u001B[0m \u001B[0mbatch_size\u001B[0m \u001B[0;34m=\u001B[0m \u001B[0;36m16\u001B[0m\u001B[0;34m\u001B[0m\u001B[0;34m\u001B[0m\u001B[0m\n\u001B[1;32m      3\u001B[0m \u001B[0;34m\u001B[0m\u001B[0m\n\u001B[0;32m----> 4\u001B[0;31m \u001B[0mmodel\u001B[0m\u001B[0;34m.\u001B[0m\u001B[0mfit\u001B[0m\u001B[0;34m(\u001B[0m\u001B[0mx_train\u001B[0m\u001B[0;34m,\u001B[0m \u001B[0my_train_d\u001B[0m\u001B[0;34m,\u001B[0m \u001B[0mepochs\u001B[0m\u001B[0;34m=\u001B[0m\u001B[0mepochs\u001B[0m\u001B[0;34m,\u001B[0m \u001B[0mbatch_size\u001B[0m\u001B[0;34m=\u001B[0m\u001B[0mbatch_size\u001B[0m\u001B[0;34m,\u001B[0m \u001B[0mvalidation_data\u001B[0m\u001B[0;34m=\u001B[0m\u001B[0;34m(\u001B[0m\u001B[0mx_test\u001B[0m\u001B[0;34m,\u001B[0m \u001B[0my_test_d\u001B[0m\u001B[0;34m)\u001B[0m\u001B[0;34m)\u001B[0m\u001B[0;34m\u001B[0m\u001B[0;34m\u001B[0m\u001B[0m\n\u001B[0m\u001B[1;32m      5\u001B[0m \u001B[0;34m\u001B[0m\u001B[0m\n\u001B[1;32m      6\u001B[0m \u001B[0;34m\u001B[0m\u001B[0m\n",
      "\u001B[0;32m~/code/ml_gallery/ml_py/venv/lib/python3.8/site-packages/tensorflow/python/keras/engine/training.py\u001B[0m in \u001B[0;36m_method_wrapper\u001B[0;34m(self, *args, **kwargs)\u001B[0m\n\u001B[1;32m    106\u001B[0m   \u001B[0;32mdef\u001B[0m \u001B[0m_method_wrapper\u001B[0m\u001B[0;34m(\u001B[0m\u001B[0mself\u001B[0m\u001B[0;34m,\u001B[0m \u001B[0;34m*\u001B[0m\u001B[0margs\u001B[0m\u001B[0;34m,\u001B[0m \u001B[0;34m**\u001B[0m\u001B[0mkwargs\u001B[0m\u001B[0;34m)\u001B[0m\u001B[0;34m:\u001B[0m\u001B[0;34m\u001B[0m\u001B[0;34m\u001B[0m\u001B[0m\n\u001B[1;32m    107\u001B[0m     \u001B[0;32mif\u001B[0m \u001B[0;32mnot\u001B[0m \u001B[0mself\u001B[0m\u001B[0;34m.\u001B[0m\u001B[0m_in_multi_worker_mode\u001B[0m\u001B[0;34m(\u001B[0m\u001B[0;34m)\u001B[0m\u001B[0;34m:\u001B[0m  \u001B[0;31m# pylint: disable=protected-access\u001B[0m\u001B[0;34m\u001B[0m\u001B[0;34m\u001B[0m\u001B[0m\n\u001B[0;32m--> 108\u001B[0;31m       \u001B[0;32mreturn\u001B[0m \u001B[0mmethod\u001B[0m\u001B[0;34m(\u001B[0m\u001B[0mself\u001B[0m\u001B[0;34m,\u001B[0m \u001B[0;34m*\u001B[0m\u001B[0margs\u001B[0m\u001B[0;34m,\u001B[0m \u001B[0;34m**\u001B[0m\u001B[0mkwargs\u001B[0m\u001B[0;34m)\u001B[0m\u001B[0;34m\u001B[0m\u001B[0;34m\u001B[0m\u001B[0m\n\u001B[0m\u001B[1;32m    109\u001B[0m \u001B[0;34m\u001B[0m\u001B[0m\n\u001B[1;32m    110\u001B[0m     \u001B[0;31m# Running inside `run_distribute_coordinator` already.\u001B[0m\u001B[0;34m\u001B[0m\u001B[0;34m\u001B[0m\u001B[0;34m\u001B[0m\u001B[0m\n",
      "\u001B[0;32m~/code/ml_gallery/ml_py/venv/lib/python3.8/site-packages/tensorflow/python/keras/engine/training.py\u001B[0m in \u001B[0;36mfit\u001B[0;34m(self, x, y, batch_size, epochs, verbose, callbacks, validation_split, validation_data, shuffle, class_weight, sample_weight, initial_epoch, steps_per_epoch, validation_steps, validation_batch_size, validation_freq, max_queue_size, workers, use_multiprocessing)\u001B[0m\n\u001B[1;32m   1047\u001B[0m          \u001B[0mtraining_utils\u001B[0m\u001B[0;34m.\u001B[0m\u001B[0mRespectCompiledTrainableState\u001B[0m\u001B[0;34m(\u001B[0m\u001B[0mself\u001B[0m\u001B[0;34m)\u001B[0m\u001B[0;34m:\u001B[0m\u001B[0;34m\u001B[0m\u001B[0;34m\u001B[0m\u001B[0m\n\u001B[1;32m   1048\u001B[0m       \u001B[0;31m# Creates a `tf.data.Dataset` and handles batch and epoch iteration.\u001B[0m\u001B[0;34m\u001B[0m\u001B[0;34m\u001B[0m\u001B[0;34m\u001B[0m\u001B[0m\n\u001B[0;32m-> 1049\u001B[0;31m       data_handler = data_adapter.DataHandler(\n\u001B[0m\u001B[1;32m   1050\u001B[0m           \u001B[0mx\u001B[0m\u001B[0;34m=\u001B[0m\u001B[0mx\u001B[0m\u001B[0;34m,\u001B[0m\u001B[0;34m\u001B[0m\u001B[0;34m\u001B[0m\u001B[0m\n\u001B[1;32m   1051\u001B[0m           \u001B[0my\u001B[0m\u001B[0;34m=\u001B[0m\u001B[0my\u001B[0m\u001B[0;34m,\u001B[0m\u001B[0;34m\u001B[0m\u001B[0;34m\u001B[0m\u001B[0m\n",
      "\u001B[0;32m~/code/ml_gallery/ml_py/venv/lib/python3.8/site-packages/tensorflow/python/keras/engine/data_adapter.py\u001B[0m in \u001B[0;36m__init__\u001B[0;34m(self, x, y, sample_weight, batch_size, steps_per_epoch, initial_epoch, epochs, shuffle, class_weight, max_queue_size, workers, use_multiprocessing, model, steps_per_execution)\u001B[0m\n\u001B[1;32m   1103\u001B[0m \u001B[0;34m\u001B[0m\u001B[0m\n\u001B[1;32m   1104\u001B[0m     \u001B[0madapter_cls\u001B[0m \u001B[0;34m=\u001B[0m \u001B[0mselect_data_adapter\u001B[0m\u001B[0;34m(\u001B[0m\u001B[0mx\u001B[0m\u001B[0;34m,\u001B[0m \u001B[0my\u001B[0m\u001B[0;34m)\u001B[0m\u001B[0;34m\u001B[0m\u001B[0;34m\u001B[0m\u001B[0m\n\u001B[0;32m-> 1105\u001B[0;31m     self._adapter = adapter_cls(\n\u001B[0m\u001B[1;32m   1106\u001B[0m         \u001B[0mx\u001B[0m\u001B[0;34m,\u001B[0m\u001B[0;34m\u001B[0m\u001B[0;34m\u001B[0m\u001B[0m\n\u001B[1;32m   1107\u001B[0m         \u001B[0my\u001B[0m\u001B[0;34m,\u001B[0m\u001B[0;34m\u001B[0m\u001B[0;34m\u001B[0m\u001B[0m\n",
      "\u001B[0;32m~/code/ml_gallery/ml_py/venv/lib/python3.8/site-packages/tensorflow/python/keras/engine/data_adapter.py\u001B[0m in \u001B[0;36m__init__\u001B[0;34m(self, x, y, sample_weights, sample_weight_modes, batch_size, epochs, steps, shuffle, **kwargs)\u001B[0m\n\u001B[1;32m    280\u001B[0m             label, \", \".join(str(i.shape[0]) for i in nest.flatten(data)))\n\u001B[1;32m    281\u001B[0m       \u001B[0mmsg\u001B[0m \u001B[0;34m+=\u001B[0m \u001B[0;34m\"Please provide data which shares the same first dimension.\"\u001B[0m\u001B[0;34m\u001B[0m\u001B[0;34m\u001B[0m\u001B[0m\n\u001B[0;32m--> 282\u001B[0;31m       \u001B[0;32mraise\u001B[0m \u001B[0mValueError\u001B[0m\u001B[0;34m(\u001B[0m\u001B[0mmsg\u001B[0m\u001B[0;34m)\u001B[0m\u001B[0;34m\u001B[0m\u001B[0;34m\u001B[0m\u001B[0m\n\u001B[0m\u001B[1;32m    283\u001B[0m     \u001B[0mnum_samples\u001B[0m \u001B[0;34m=\u001B[0m \u001B[0mnum_samples\u001B[0m\u001B[0;34m.\u001B[0m\u001B[0mpop\u001B[0m\u001B[0;34m(\u001B[0m\u001B[0;34m)\u001B[0m\u001B[0;34m\u001B[0m\u001B[0;34m\u001B[0m\u001B[0m\n\u001B[1;32m    284\u001B[0m \u001B[0;34m\u001B[0m\u001B[0m\n",
      "\u001B[0;31mValueError\u001B[0m: Data cardinality is ambiguous:\n  x sizes: 10\n  y sizes: 10, 8, 8, 7, 8, 8, 6, 4, 8, 10\nPlease provide data which shares the same first dimension."
     ]
    }
   ],
   "source": [
    "epochs = 1\n",
    "batch_size = 16\n",
    "\n",
    "model.fit(x_train, y_train_d, epochs=epochs, batch_size=batch_size, validation_data=(x_test, y_test_d))"
   ],
   "metadata": {
    "collapsed": false,
    "pycharm": {
     "name": "#%%\n"
    }
   }
  },
  {
   "cell_type": "code",
   "execution_count": null,
   "outputs": [],
   "source": [],
   "metadata": {
    "collapsed": false,
    "pycharm": {
     "name": "#%%\n"
    }
   }
  }
 ],
 "metadata": {
  "kernelspec": {
   "display_name": "Python 3",
   "language": "python",
   "name": "python3"
  },
  "language_info": {
   "codemirror_mode": {
    "name": "ipython",
    "version": 2
   },
   "file_extension": ".py",
   "mimetype": "text/x-python",
   "name": "python",
   "nbconvert_exporter": "python",
   "pygments_lexer": "ipython2",
   "version": "2.7.6"
  }
 },
 "nbformat": 4,
 "nbformat_minor": 0
}