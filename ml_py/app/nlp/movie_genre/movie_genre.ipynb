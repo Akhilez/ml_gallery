{
 "cells": [
  {
   "cell_type": "code",
   "execution_count": null,
   "metadata": {
    "collapsed": true
   },
   "outputs": [],
   "source": [
    "import pandas as pd\n",
    "import json"
   ]
  },
  {
   "cell_type": "code",
   "execution_count": null,
   "outputs": [],
   "source": [
    "meta = pd.read_csv('data/MovieSummaries/movie.metadata.tsv', sep='\\t', header=None)\n",
    "\n",
    "meta.columns = ['id', 'id2', 'name', 'release', 'revenue', 'runtime', 'lang', 'countries', 'genres']\n",
    "\n",
    "summ = pd.read_csv('data/MovieSummaries/plot_summaries.txt', sep='\\t', header=None)\n",
    "summ.columns = ['id', 'summary']"
   ],
   "metadata": {
    "collapsed": false,
    "pycharm": {
     "name": "#%%\n"
    }
   }
  },
  {
   "cell_type": "code",
   "execution_count": null,
   "outputs": [],
   "source": [
    "df = {'id':[], 'name':[], 'genres': [], 'lang': [], 'summary': []}\n",
    "for id in meta.id:\n",
    "    count = summ.id[summ.id == id].count()\n",
    "    if count > 0:\n",
    "        ids = meta.id == id\n",
    "        df['id'].append(id)\n",
    "        df['name'].append(meta.name[ids])\n",
    "        df['genres'].append(meta.genres[ids])\n",
    "        df['lang'].append(meta.lang[ids])\n",
    "        df['summary'].append(summ.summary[summ.id == id])\n",
    "\n",
    "list(json.loads(df.lang[22].values[0]).values())"
   ],
   "metadata": {
    "collapsed": false,
    "pycharm": {
     "name": "#%%\n"
    }
   }
  },
  {
   "cell_type": "code",
   "execution_count": null,
   "outputs": [],
   "source": [
    "del meta\n",
    "del summ\n",
    "del ids"
   ],
   "metadata": {
    "collapsed": false,
    "pycharm": {
     "name": "#%%\n"
    }
   }
  },
  {
   "cell_type": "code",
   "execution_count": null,
   "outputs": [],
   "source": [
    "df = pd.DataFrame(df)"
   ],
   "metadata": {
    "collapsed": false,
    "pycharm": {
     "name": "#%%\n"
    }
   }
  },
  {
   "cell_type": "code",
   "execution_count": null,
   "outputs": [],
   "source": [
    "\n"
   ],
   "metadata": {
    "collapsed": false,
    "pycharm": {
     "name": "#%%\n"
    }
   }
  }
 ],
 "metadata": {
  "kernelspec": {
   "display_name": "Python 3",
   "language": "python",
   "name": "python3"
  },
  "language_info": {
   "codemirror_mode": {
    "name": "ipython",
    "version": 2
   },
   "file_extension": ".py",
   "mimetype": "text/x-python",
   "name": "python",
   "nbconvert_exporter": "python",
   "pygments_lexer": "ipython2",
   "version": "2.7.6"
  }
 },
 "nbformat": 4,
 "nbformat_minor": 0
}