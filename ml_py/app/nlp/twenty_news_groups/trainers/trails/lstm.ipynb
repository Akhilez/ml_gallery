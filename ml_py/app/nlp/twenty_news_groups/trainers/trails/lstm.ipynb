{
  "nbformat": 4,
  "nbformat_minor": 0,
  "metadata": {
    "colab": {
      "name": "custom_test1.ipynb",
      "provenance": [],
      "collapsed_sections": []
    },
    "kernelspec": {
      "name": "python3",
      "display_name": "Python 3"
    },
    "accelerator": "GPU"
  },
  "cells": [
    {
      "cell_type": "code",
      "metadata": {
        "id": "03YcbT9HSJtw",
        "colab_type": "code",
        "colab": {
          "base_uri": "https://localhost:8080/",
          "height": 408
        },
        "outputId": "ca2d9121-d249-44f8-a71c-dab1d4ff09f4"
      },
      "source": [
        "# Downlod the dataset\n",
        "! rm -rf data\n",
        "! rm *.csv*\n",
        "! wget https://storage.googleapis.com/akhilez/datasets/singularity_systems/test_custom.csv\n",
        "! wget https://storage.googleapis.com/akhilez/datasets/singularity_systems/train_custom.csv\n",
        "! mkdir -p data\n",
        "! mv *.csv data/\n"
      ],
      "execution_count": 1,
      "outputs": [
        {
          "output_type": "stream",
          "text": [
            "rm: cannot remove '*.csv*': No such file or directory\n",
            "--2020-08-02 00:37:43--  https://storage.googleapis.com/akhilez/datasets/singularity_systems/test_custom.csv\n",
            "Resolving storage.googleapis.com (storage.googleapis.com)... 74.125.142.128, 74.125.195.128, 172.253.117.128, ...\n",
            "Connecting to storage.googleapis.com (storage.googleapis.com)|74.125.142.128|:443... connected.\n",
            "HTTP request sent, awaiting response... 200 OK\n",
            "Length: 4111913 (3.9M) [text/csv]\n",
            "Saving to: ‘test_custom.csv’\n",
            "\n",
            "test_custom.csv     100%[===================>]   3.92M  --.-KB/s    in 0.02s   \n",
            "\n",
            "2020-08-02 00:37:43 (196 MB/s) - ‘test_custom.csv’ saved [4111913/4111913]\n",
            "\n",
            "--2020-08-02 00:37:44--  https://storage.googleapis.com/akhilez/datasets/singularity_systems/train_custom.csv\n",
            "Resolving storage.googleapis.com (storage.googleapis.com)... 74.125.142.128, 74.125.195.128, 74.125.20.128, ...\n",
            "Connecting to storage.googleapis.com (storage.googleapis.com)|74.125.142.128|:443... connected.\n",
            "HTTP request sent, awaiting response... 200 OK\n",
            "Length: 5918888 (5.6M) [text/csv]\n",
            "Saving to: ‘train_custom.csv’\n",
            "\n",
            "train_custom.csv    100%[===================>]   5.64M  --.-KB/s    in 0.05s   \n",
            "\n",
            "2020-08-02 00:37:44 (117 MB/s) - ‘train_custom.csv’ saved [5918888/5918888]\n",
            "\n"
          ],
          "name": "stdout"
        }
      ]
    },
    {
      "cell_type": "code",
      "metadata": {
        "id": "_VcQjFWpExRC",
        "colab_type": "code",
        "colab": {}
      },
      "source": [
        "import tensorflow as tf\n",
        "from tensorflow.keras.layers import Embedding, Dense, GlobalAveragePooling1D, Bidirectional, LSTM, Dropout, Conv1D, MaxPooling1D, Flatten, AveragePooling1D, MaxPooling1D\n",
        "import matplotlib.pyplot as plt\n",
        "import csv\n",
        "import numpy as np"
      ],
      "execution_count": 2,
      "outputs": []
    },
    {
      "cell_type": "code",
      "metadata": {
        "id": "NI0UVGMxC0OA",
        "colab_type": "code",
        "colab": {}
      },
      "source": [
        "class BatchGenerator:\n",
        "\n",
        "    def __init__(self, data_path, batch_size):\n",
        "        self.batch_size = batch_size\n",
        "        self.data_path = data_path\n",
        "        self.n_labels = 20\n",
        "\n",
        "    def get_batch_gen(self, repeat=True):\n",
        "        while True:\n",
        "            with open(self.data_path) as data_file:\n",
        "                reader = csv.reader(data_file)\n",
        "                batch = []\n",
        "                for row in reader:  # TODO: Can the next batch be fetched asynchronously? With asyncio?\n",
        "                    batch.append(row)\n",
        "                    if len(batch) >= self.batch_size:\n",
        "                        batch = self._split_batch(batch)\n",
        "                        yield batch\n",
        "                        batch = []\n",
        "                if 0 < len(batch) < self.batch_size:\n",
        "                    yield self._split_batch(batch)\n",
        "            if not repeat:\n",
        "                break\n",
        "\n",
        "    def _split_batch(self, batch):\n",
        "        batch = np.array(batch, dtype=int)\n",
        "        x = batch[:, :len(batch[0]) - self.n_labels]\n",
        "        y = batch[:, len(batch[0]) - self.n_labels:]\n",
        "        return x, y\n"
      ],
      "execution_count": 3,
      "outputs": []
    },
    {
      "cell_type": "code",
      "metadata": {
        "id": "FCfEtIXMCq6v",
        "colab_type": "code",
        "colab": {}
      },
      "source": [
        "train_batch_size = 30\n",
        "test_batch_size = 30\n",
        "train_size = 11083\n",
        "test_size = 7761\n",
        "train_steps = train_size / train_batch_size\n",
        "test_steps = test_size / test_batch_size\n",
        "\n",
        "train_gen = BatchGenerator(data_path='data/train_custom.csv', batch_size=train_batch_size).get_batch_gen()\n",
        "test_gen = BatchGenerator(data_path='data/test_custom.csv', batch_size=test_batch_size).get_batch_gen()"
      ],
      "execution_count": 4,
      "outputs": []
    },
    {
      "cell_type": "code",
      "metadata": {
        "id": "meEx6Rf8Co8L",
        "colab_type": "code",
        "colab": {}
      },
      "source": [
        "vocab_size = 10000\n",
        "embed_size = 64"
      ],
      "execution_count": 5,
      "outputs": []
    },
    {
      "cell_type": "code",
      "metadata": {
        "id": "g6UWJsHJCoq6",
        "colab_type": "code",
        "colab": {
          "base_uri": "https://localhost:8080/",
          "height": 357
        },
        "outputId": "84a7eb65-4ec2-4e8d-e0bf-900d87fdf851"
      },
      "source": [
        "model = tf.keras.Sequential([\n",
        "    Embedding(vocab_size, embed_size, input_length=150),\n",
        "    LSTM(128),\n",
        "    Dropout(0.3),\n",
        "    Dense(128, activation='relu'),\n",
        "    Dropout(0.3),\n",
        "    Dense(20, activation='softmax')\n",
        "])\n",
        "model.compile(loss='categorical_crossentropy', optimizer='adam', metrics=['accuracy'])\n",
        "model.summary()"
      ],
      "execution_count": 6,
      "outputs": [
        {
          "output_type": "stream",
          "text": [
            "Model: \"sequential\"\n",
            "_________________________________________________________________\n",
            "Layer (type)                 Output Shape              Param #   \n",
            "=================================================================\n",
            "embedding (Embedding)        (None, 150, 64)           640000    \n",
            "_________________________________________________________________\n",
            "lstm (LSTM)                  (None, 128)               98816     \n",
            "_________________________________________________________________\n",
            "dropout (Dropout)            (None, 128)               0         \n",
            "_________________________________________________________________\n",
            "dense (Dense)                (None, 128)               16512     \n",
            "_________________________________________________________________\n",
            "dropout_1 (Dropout)          (None, 128)               0         \n",
            "_________________________________________________________________\n",
            "dense_1 (Dense)              (None, 20)                2580      \n",
            "=================================================================\n",
            "Total params: 757,908\n",
            "Trainable params: 757,908\n",
            "Non-trainable params: 0\n",
            "_________________________________________________________________\n"
          ],
          "name": "stdout"
        }
      ]
    },
    {
      "cell_type": "code",
      "metadata": {
        "id": "32ccRMguCtrL",
        "colab_type": "code",
        "colab": {
          "base_uri": "https://localhost:8080/",
          "height": 1000
        },
        "outputId": "03bca179-f4fa-4b4c-f8f8-1543cde1aa30"
      },
      "source": [
        "epochs = 65\n",
        "history = model.fit(\n",
        "    train_gen, steps_per_epoch=train_steps, epochs=epochs,\n",
        "    validation_data=test_gen, validation_steps=test_steps)"
      ],
      "execution_count": 7,
      "outputs": [
        {
          "output_type": "stream",
          "text": [
            "Epoch 1/65\n",
            "370/369 [==============================] - 8s 23ms/step - loss: 2.8617 - accuracy: 0.0882 - val_loss: 2.8907 - val_accuracy: 0.0908\n",
            "Epoch 2/65\n",
            "370/369 [==============================] - 8s 21ms/step - loss: 2.6900 - accuracy: 0.1069 - val_loss: 2.9284 - val_accuracy: 0.0865\n",
            "Epoch 3/65\n",
            "370/369 [==============================] - 8s 21ms/step - loss: 2.7549 - accuracy: 0.1007 - val_loss: 2.8669 - val_accuracy: 0.0920\n",
            "Epoch 4/65\n",
            "370/369 [==============================] - 8s 21ms/step - loss: 2.5648 - accuracy: 0.1234 - val_loss: 3.1843 - val_accuracy: 0.0867\n",
            "Epoch 5/65\n",
            "370/369 [==============================] - 8s 20ms/step - loss: 2.5402 - accuracy: 0.1284 - val_loss: 2.7578 - val_accuracy: 0.0911\n",
            "Epoch 6/65\n",
            "370/369 [==============================] - 8s 21ms/step - loss: 2.4701 - accuracy: 0.1409 - val_loss: 2.6741 - val_accuracy: 0.1198\n",
            "Epoch 7/65\n",
            "370/369 [==============================] - 8s 21ms/step - loss: 2.6247 - accuracy: 0.1270 - val_loss: 2.7479 - val_accuracy: 0.1093\n",
            "Epoch 8/65\n",
            "370/369 [==============================] - 8s 21ms/step - loss: 2.4834 - accuracy: 0.1438 - val_loss: 2.5044 - val_accuracy: 0.1350\n",
            "Epoch 9/65\n",
            "370/369 [==============================] - 8s 21ms/step - loss: 2.2731 - accuracy: 0.1841 - val_loss: 2.4035 - val_accuracy: 0.1683\n",
            "Epoch 10/65\n",
            "370/369 [==============================] - 8s 21ms/step - loss: 1.9811 - accuracy: 0.2611 - val_loss: 2.2635 - val_accuracy: 0.2031\n",
            "Epoch 11/65\n",
            "370/369 [==============================] - 8s 21ms/step - loss: 1.7552 - accuracy: 0.3209 - val_loss: 2.0735 - val_accuracy: 0.2617\n",
            "Epoch 12/65\n",
            "370/369 [==============================] - 8s 21ms/step - loss: 1.4885 - accuracy: 0.4018 - val_loss: 2.0652 - val_accuracy: 0.3056\n",
            "Epoch 13/65\n",
            "370/369 [==============================] - 8s 21ms/step - loss: 1.2859 - accuracy: 0.4795 - val_loss: 2.0565 - val_accuracy: 0.3357\n",
            "Epoch 14/65\n",
            "370/369 [==============================] - 8s 21ms/step - loss: 1.0736 - accuracy: 0.5515 - val_loss: 2.1358 - val_accuracy: 0.3576\n",
            "Epoch 15/65\n",
            "370/369 [==============================] - 8s 21ms/step - loss: 0.9180 - accuracy: 0.6159 - val_loss: 2.0124 - val_accuracy: 0.4520\n",
            "Epoch 16/65\n",
            "370/369 [==============================] - 8s 21ms/step - loss: 0.7457 - accuracy: 0.6903 - val_loss: 1.9053 - val_accuracy: 0.4985\n",
            "Epoch 17/65\n",
            "370/369 [==============================] - 8s 21ms/step - loss: 0.6268 - accuracy: 0.7493 - val_loss: 1.8984 - val_accuracy: 0.5446\n",
            "Epoch 18/65\n",
            "370/369 [==============================] - 8s 21ms/step - loss: 0.4923 - accuracy: 0.8111 - val_loss: 2.1046 - val_accuracy: 0.5522\n",
            "Epoch 19/65\n",
            "370/369 [==============================] - 8s 21ms/step - loss: 0.4111 - accuracy: 0.8498 - val_loss: 1.9750 - val_accuracy: 0.5805\n",
            "Epoch 20/65\n",
            "370/369 [==============================] - 8s 20ms/step - loss: 0.3396 - accuracy: 0.8795 - val_loss: 1.9250 - val_accuracy: 0.6071\n",
            "Epoch 21/65\n",
            "370/369 [==============================] - 8s 21ms/step - loss: 0.2752 - accuracy: 0.9080 - val_loss: 2.0272 - val_accuracy: 0.6236\n",
            "Epoch 22/65\n",
            "370/369 [==============================] - 8s 21ms/step - loss: 0.2102 - accuracy: 0.9348 - val_loss: 2.1414 - val_accuracy: 0.6372\n",
            "Epoch 23/65\n",
            "370/369 [==============================] - 8s 21ms/step - loss: 0.1868 - accuracy: 0.9441 - val_loss: 2.0563 - val_accuracy: 0.6556\n",
            "Epoch 24/65\n",
            "370/369 [==============================] - 8s 21ms/step - loss: 0.1488 - accuracy: 0.9552 - val_loss: 2.3992 - val_accuracy: 0.6659\n",
            "Epoch 25/65\n",
            "370/369 [==============================] - 8s 21ms/step - loss: 0.1158 - accuracy: 0.9683 - val_loss: 2.2213 - val_accuracy: 0.6557\n",
            "Epoch 26/65\n",
            "370/369 [==============================] - 8s 21ms/step - loss: 0.1049 - accuracy: 0.9701 - val_loss: 2.2358 - val_accuracy: 0.6821\n",
            "Epoch 27/65\n",
            "370/369 [==============================] - 8s 20ms/step - loss: 0.0854 - accuracy: 0.9762 - val_loss: 2.5593 - val_accuracy: 0.6576\n",
            "Epoch 28/65\n",
            "370/369 [==============================] - 8s 21ms/step - loss: 0.0820 - accuracy: 0.9784 - val_loss: 2.6716 - val_accuracy: 0.6595\n",
            "Epoch 29/65\n",
            "370/369 [==============================] - 8s 21ms/step - loss: 0.0665 - accuracy: 0.9821 - val_loss: 2.5023 - val_accuracy: 0.6958\n",
            "Epoch 30/65\n",
            "370/369 [==============================] - 8s 20ms/step - loss: 0.0634 - accuracy: 0.9835 - val_loss: 2.5672 - val_accuracy: 0.6932\n",
            "Epoch 31/65\n",
            "370/369 [==============================] - 8s 22ms/step - loss: 0.0609 - accuracy: 0.9848 - val_loss: 2.3732 - val_accuracy: 0.7075\n",
            "Epoch 32/65\n",
            "370/369 [==============================] - 8s 21ms/step - loss: 0.0476 - accuracy: 0.9881 - val_loss: 2.4149 - val_accuracy: 0.6905\n",
            "Epoch 33/65\n",
            "370/369 [==============================] - 8s 21ms/step - loss: 0.0389 - accuracy: 0.9898 - val_loss: 2.4833 - val_accuracy: 0.6940\n",
            "Epoch 34/65\n",
            "370/369 [==============================] - 8s 21ms/step - loss: 0.0481 - accuracy: 0.9877 - val_loss: 2.4384 - val_accuracy: 0.6967\n",
            "Epoch 35/65\n",
            "370/369 [==============================] - 8s 20ms/step - loss: 0.0559 - accuracy: 0.9875 - val_loss: 2.6968 - val_accuracy: 0.6843\n",
            "Epoch 36/65\n",
            "370/369 [==============================] - 8s 21ms/step - loss: 0.0373 - accuracy: 0.9910 - val_loss: 2.6451 - val_accuracy: 0.6861\n",
            "Epoch 37/65\n",
            "370/369 [==============================] - 8s 20ms/step - loss: 0.0408 - accuracy: 0.9905 - val_loss: 2.8763 - val_accuracy: 0.6543\n",
            "Epoch 38/65\n",
            "370/369 [==============================] - 8s 21ms/step - loss: 0.0429 - accuracy: 0.9898 - val_loss: 2.4631 - val_accuracy: 0.7066\n",
            "Epoch 39/65\n",
            "370/369 [==============================] - 8s 21ms/step - loss: 0.0356 - accuracy: 0.9922 - val_loss: 2.5307 - val_accuracy: 0.7145\n",
            "Epoch 40/65\n",
            "370/369 [==============================] - 8s 21ms/step - loss: 0.0313 - accuracy: 0.9932 - val_loss: 2.7427 - val_accuracy: 0.7116\n",
            "Epoch 41/65\n",
            "370/369 [==============================] - 8s 21ms/step - loss: 0.0280 - accuracy: 0.9938 - val_loss: 2.6419 - val_accuracy: 0.7127\n",
            "Epoch 42/65\n",
            "370/369 [==============================] - 8s 21ms/step - loss: 0.0190 - accuracy: 0.9953 - val_loss: 2.7645 - val_accuracy: 0.7155\n",
            "Epoch 43/65\n",
            "370/369 [==============================] - 8s 21ms/step - loss: 0.0209 - accuracy: 0.9946 - val_loss: 2.8872 - val_accuracy: 0.7154\n",
            "Epoch 44/65\n",
            "370/369 [==============================] - 8s 21ms/step - loss: 0.0391 - accuracy: 0.9931 - val_loss: 2.3001 - val_accuracy: 0.7084\n",
            "Epoch 45/65\n",
            "370/369 [==============================] - 8s 21ms/step - loss: 0.0224 - accuracy: 0.9937 - val_loss: 2.5363 - val_accuracy: 0.7152\n",
            "Epoch 46/65\n",
            "370/369 [==============================] - 8s 21ms/step - loss: 0.0325 - accuracy: 0.9915 - val_loss: 2.3799 - val_accuracy: 0.7146\n",
            "Epoch 47/65\n",
            "370/369 [==============================] - 8s 20ms/step - loss: 0.0299 - accuracy: 0.9923 - val_loss: 2.4238 - val_accuracy: 0.7047\n",
            "Epoch 48/65\n",
            "370/369 [==============================] - 8s 21ms/step - loss: 0.0214 - accuracy: 0.9949 - val_loss: 2.5239 - val_accuracy: 0.7163\n",
            "Epoch 49/65\n",
            "370/369 [==============================] - 8s 20ms/step - loss: 0.0112 - accuracy: 0.9968 - val_loss: 2.7546 - val_accuracy: 0.7222\n",
            "Epoch 50/65\n",
            "370/369 [==============================] - 8s 21ms/step - loss: 0.0154 - accuracy: 0.9961 - val_loss: 2.8045 - val_accuracy: 0.7088\n",
            "Epoch 51/65\n",
            "370/369 [==============================] - 8s 21ms/step - loss: 0.0167 - accuracy: 0.9959 - val_loss: 2.7069 - val_accuracy: 0.7281\n",
            "Epoch 52/65\n",
            "370/369 [==============================] - 8s 20ms/step - loss: 0.0229 - accuracy: 0.9941 - val_loss: 2.7255 - val_accuracy: 0.7249\n",
            "Epoch 53/65\n",
            "370/369 [==============================] - 8s 21ms/step - loss: 0.0220 - accuracy: 0.9940 - val_loss: 2.7585 - val_accuracy: 0.7254\n",
            "Epoch 54/65\n",
            "370/369 [==============================] - 8s 21ms/step - loss: 0.0092 - accuracy: 0.9976 - val_loss: 2.8169 - val_accuracy: 0.7374\n",
            "Epoch 55/65\n",
            "370/369 [==============================] - 8s 21ms/step - loss: 0.0122 - accuracy: 0.9970 - val_loss: 2.7606 - val_accuracy: 0.7268\n",
            "Epoch 56/65\n",
            "370/369 [==============================] - 8s 21ms/step - loss: 0.0188 - accuracy: 0.9950 - val_loss: 2.8606 - val_accuracy: 0.7228\n",
            "Epoch 57/65\n",
            "370/369 [==============================] - 8s 21ms/step - loss: 0.0233 - accuracy: 0.9940 - val_loss: 2.8521 - val_accuracy: 0.7276\n",
            "Epoch 58/65\n",
            "370/369 [==============================] - 8s 21ms/step - loss: 0.0123 - accuracy: 0.9966 - val_loss: 2.7275 - val_accuracy: 0.7234\n",
            "Epoch 59/65\n",
            "370/369 [==============================] - 8s 20ms/step - loss: 0.0149 - accuracy: 0.9962 - val_loss: 2.9361 - val_accuracy: 0.7223\n",
            "Epoch 60/65\n",
            "370/369 [==============================] - 8s 21ms/step - loss: 0.0158 - accuracy: 0.9964 - val_loss: 2.7100 - val_accuracy: 0.7301\n",
            "Epoch 61/65\n",
            "370/369 [==============================] - 8s 21ms/step - loss: 0.0096 - accuracy: 0.9977 - val_loss: 3.0704 - val_accuracy: 0.7232\n",
            "Epoch 62/65\n",
            "370/369 [==============================] - 8s 21ms/step - loss: 0.0068 - accuracy: 0.9984 - val_loss: 3.4146 - val_accuracy: 0.7094\n",
            "Epoch 63/65\n",
            "370/369 [==============================] - 8s 21ms/step - loss: 0.0020 - accuracy: 0.9995 - val_loss: 3.4389 - val_accuracy: 0.7312\n",
            "Epoch 64/65\n",
            "370/369 [==============================] - 8s 21ms/step - loss: 0.0035 - accuracy: 0.9989 - val_loss: 3.6903 - val_accuracy: 0.7253\n",
            "Epoch 65/65\n",
            "370/369 [==============================] - 8s 21ms/step - loss: 0.0139 - accuracy: 0.9960 - val_loss: 3.0002 - val_accuracy: 0.7227\n"
          ],
          "name": "stdout"
        }
      ]
    },
    {
      "cell_type": "code",
      "metadata": {
        "id": "NetGg_y82BMA",
        "colab_type": "code",
        "colab": {
          "base_uri": "https://localhost:8080/",
          "height": 541
        },
        "outputId": "59585ef2-89d5-4fc1-8e9d-73822672ef38"
      },
      "source": [
        "def plot_graphs(history, string):\n",
        "  plt.plot(history.history[string])\n",
        "  plt.plot(history.history['val_'+string])\n",
        "  plt.xlabel(\"Epochs\")\n",
        "  plt.ylabel(string)\n",
        "  plt.legend([string, 'val_'+string])\n",
        "  plt.show()\n",
        "\n",
        "plot_graphs(history, \"accuracy\")\n",
        "plot_graphs(history, \"loss\")\n"
      ],
      "execution_count": 8,
      "outputs": [
        {
          "output_type": "display_data",
          "data": {
            "image/png": "[encoded data removed]",
            "text/plain": [
              "<Figure size 432x288 with 1 Axes>"
            ]
          },
          "metadata": {
            "tags": [],
            "needs_background": "light"
          }
        },
        {
          "output_type": "display_data",
          "data": {
            "image/png": "[encoded data removed]",
            "text/plain": [
              "<Figure size 432x288 with 1 Axes>"
            ]
          },
          "metadata": {
            "tags": [],
            "needs_background": "light"
          }
        }
      ]
    },
    {
      "cell_type": "code",
      "metadata": {
        "id": "rTG7UhTCEMKN",
        "colab_type": "code",
        "colab": {}
      },
      "source": [
        "model.save('linear.h5')"
      ],
      "execution_count": 9,
      "outputs": []
    },
    {
      "cell_type": "code",
      "metadata": {
        "id": "ySfoVlmo_Xrl",
        "colab_type": "code",
        "colab": {
          "base_uri": "https://localhost:8080/",
          "height": 17
        },
        "outputId": "3aad7539-b70a-482a-d8dd-d07f7dad1c56"
      },
      "source": [
        "from google.colab import files\n",
        "files.download('linear.h5')"
      ],
      "execution_count": 10,
      "outputs": [
        {
          "output_type": "display_data",
          "data": {
            "application/javascript": [
              "\n",
              "    async function download(id, filename, size) {\n",
              "      if (!google.colab.kernel.accessAllowed) {\n",
              "        return;\n",
              "      }\n",
              "      const div = document.createElement('div');\n",
              "      const label = document.createElement('label');\n",
              "      label.textContent = `Downloading \"${filename}\": `;\n",
              "      div.appendChild(label);\n",
              "      const progress = document.createElement('progress');\n",
              "      progress.max = size;\n",
              "      div.appendChild(progress);\n",
              "      document.body.appendChild(div);\n",
              "\n",
              "      const buffers = [];\n",
              "      let downloaded = 0;\n",
              "\n",
              "      const channel = await google.colab.kernel.comms.open(id);\n",
              "      // Send a message to notify the kernel that we're ready.\n",
              "      channel.send({})\n",
              "\n",
              "      for await (const message of channel.messages) {\n",
              "        // Send a message to notify the kernel that we're ready.\n",
              "        channel.send({})\n",
              "        if (message.buffers) {\n",
              "          for (const buffer of message.buffers) {\n",
              "            buffers.push(buffer);\n",
              "            downloaded += buffer.byteLength;\n",
              "            progress.value = downloaded;\n",
              "          }\n",
              "        }\n",
              "      }\n",
              "      const blob = new Blob(buffers, {type: 'application/binary'});\n",
              "      const a = document.createElement('a');\n",
              "      a.href = window.URL.createObjectURL(blob);\n",
              "      a.download = filename;\n",
              "      div.appendChild(a);\n",
              "      a.click();\n",
              "      div.remove();\n",
              "    }\n",
              "  "
            ],
            "text/plain": [
              "<IPython.core.display.Javascript object>"
            ]
          },
          "metadata": {
            "tags": []
          }
        },
        {
          "output_type": "display_data",
          "data": {
            "application/javascript": [
              "download(\"download_9e8868e1-00f4-498e-b1c9-c2bd19c3b08e\", \"linear.h5\", 9137496)"
            ],
            "text/plain": [
              "<IPython.core.display.Javascript object>"
            ]
          },
          "metadata": {
            "tags": []
          }
        }
      ]
    },
    {
      "cell_type": "code",
      "metadata": {
        "id": "Eqjjr81PDer9",
        "colab_type": "code",
        "colab": {}
      },
      "source": [
        ""
      ],
      "execution_count": 10,
      "outputs": []
    }
  ]
}