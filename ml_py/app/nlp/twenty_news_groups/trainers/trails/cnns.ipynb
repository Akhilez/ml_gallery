{
 "nbformat": 4,
 "nbformat_minor": 0,
 "metadata": {
  "colab": {
   "name": "custom_test2.ipynb",
   "provenance": [],
   "collapsed_sections": []
  },
  "kernelspec": {
   "name": "python3",
   "display_name": "Python 3"
  },
  "accelerator": "GPU"
 },
 "cells": [
  {
   "cell_type": "code",
   "metadata": {
    "id": "03YcbT9HSJtw",
    "colab_type": "code",
    "colab": {
     "base_uri": "https://localhost:8080/",
     "height": 408
    },
    "outputId": "41a16b6f-c71a-42cf-e7f0-e6a719509b11"
   },
   "source": [
    "# Downlod the dataset\n",
    "! rm -rf data\n",
    "! rm *.csv*\n",
    "! wget https://storage.googleapis.com/akhilez/datasets/singularity_systems/test_custom.csv\n",
    "! wget https://storage.googleapis.com/akhilez/datasets/singularity_systems/train_custom.csv\n",
    "! mkdir -p data\n",
    "! mv *.csv data/\n"
   ],
   "execution_count": 2,
   "outputs": [
    {
     "output_type": "stream",
     "text": [
      "rm: cannot remove '*.csv*': No such file or directory\n",
      "--2020-08-02 00:57:40--  https://storage.googleapis.com/akhilez/datasets/singularity_systems/test_custom.csv\n",
      "Resolving storage.googleapis.com (storage.googleapis.com)... 173.194.203.128, 74.125.20.128, 74.125.197.128, ...\n",
      "Connecting to storage.googleapis.com (storage.googleapis.com)|173.194.203.128|:443... connected.\n",
      "HTTP request sent, awaiting response... 200 OK\n",
      "Length: 4111913 (3.9M) [text/csv]\n",
      "Saving to: ‘test_custom.csv’\n",
      "\n",
      "test_custom.csv     100%[===================>]   3.92M  --.-KB/s    in 0.04s   \n",
      "\n",
      "2020-08-02 00:57:40 (108 MB/s) - ‘test_custom.csv’ saved [4111913/4111913]\n",
      "\n",
      "--2020-08-02 00:57:41--  https://storage.googleapis.com/akhilez/datasets/singularity_systems/train_custom.csv\n",
      "Resolving storage.googleapis.com (storage.googleapis.com)... 74.125.195.128, 142.250.99.128, 74.125.20.128, ...\n",
      "Connecting to storage.googleapis.com (storage.googleapis.com)|74.125.195.128|:443... connected.\n",
      "HTTP request sent, awaiting response... 200 OK\n",
      "Length: 5918888 (5.6M) [text/csv]\n",
      "Saving to: ‘train_custom.csv’\n",
      "\n",
      "train_custom.csv    100%[===================>]   5.64M  --.-KB/s    in 0.05s   \n",
      "\n",
      "2020-08-02 00:57:41 (108 MB/s) - ‘train_custom.csv’ saved [5918888/5918888]\n",
      "\n"
     ],
     "name": "stdout"
    }
   ]
  },
  {
   "cell_type": "code",
   "metadata": {
    "id": "_VcQjFWpExRC",
    "colab_type": "code",
    "colab": {}
   },
   "source": [
    "import tensorflow as tf\n",
    "from tensorflow.keras.layers import Embedding, Dense, GlobalAveragePooling1D, Bidirectional, LSTM, Dropout, Conv1D, MaxPooling1D, Flatten, AveragePooling1D, MaxPooling1D\n",
    "import matplotlib.pyplot as plt\n",
    "import csv\n",
    "import numpy as np"
   ],
   "execution_count": 3,
   "outputs": []
  },
  {
   "cell_type": "code",
   "metadata": {
    "id": "NI0UVGMxC0OA",
    "colab_type": "code",
    "colab": {}
   },
   "source": [
    "class BatchGenerator:\n",
    "\n",
    "    def __init__(self, data_path, batch_size):\n",
    "        self.batch_size = batch_size\n",
    "        self.data_path = data_path\n",
    "        self.n_labels = 20\n",
    "\n",
    "    def get_batch_gen(self, repeat=True):\n",
    "        while True:\n",
    "            with open(self.data_path) as data_file:\n",
    "                reader = csv.reader(data_file)\n",
    "                batch = []\n",
    "                for row in reader:  # TODO: Can the next batch be fetched asynchronously? With asyncio?\n",
    "                    batch.append(row)\n",
    "                    if len(batch) >= self.batch_size:\n",
    "                        batch = self._split_batch(batch)\n",
    "                        yield batch\n",
    "                        batch = []\n",
    "                if 0 < len(batch) < self.batch_size:\n",
    "                    yield self._split_batch(batch)\n",
    "            if not repeat:\n",
    "                break\n",
    "\n",
    "    def _split_batch(self, batch):\n",
    "        batch = np.array(batch, dtype=int)\n",
    "        x = batch[:, :len(batch[0]) - self.n_labels]\n",
    "        y = batch[:, len(batch[0]) - self.n_labels:]\n",
    "        return x, y\n"
   ],
   "execution_count": 4,
   "outputs": []
  },
  {
   "cell_type": "code",
   "metadata": {
    "id": "FCfEtIXMCq6v",
    "colab_type": "code",
    "colab": {}
   },
   "source": [
    "train_batch_size = 30\n",
    "test_batch_size = 30\n",
    "train_size = 11083\n",
    "test_size = 7761\n",
    "train_steps = train_size / train_batch_size\n",
    "test_steps = test_size / test_batch_size\n",
    "\n",
    "train_gen = BatchGenerator(data_path='data/train_custom.csv', batch_size=train_batch_size).get_batch_gen()\n",
    "test_gen = BatchGenerator(data_path='data/test_custom.csv', batch_size=test_batch_size).get_batch_gen()"
   ],
   "execution_count": 5,
   "outputs": []
  },
  {
   "cell_type": "code",
   "metadata": {
    "id": "meEx6Rf8Co8L",
    "colab_type": "code",
    "colab": {}
   },
   "source": [
    "vocab_size = 10000\n",
    "embed_size = 64"
   ],
   "execution_count": 6,
   "outputs": []
  },
  {
   "cell_type": "code",
   "metadata": {
    "id": "g6UWJsHJCoq6",
    "colab_type": "code",
    "colab": {
     "base_uri": "https://localhost:8080/",
     "height": 629
    },
    "outputId": "7cfc4b6b-f0fe-462a-f074-6aa067409160"
   },
   "source": [
    "model = tf.keras.Sequential([\n",
    "    Embedding(vocab_size, embed_size, input_length=150),\n",
    "    Conv1D(64, 5, activation='relu'),\n",
    "    Dropout(0.3),\n",
    "    MaxPooling1D(2),\n",
    "    Conv1D(128, 5, activation='relu'),\n",
    "    Dropout(0.3),\n",
    "    MaxPooling1D(2),\n",
    "    Conv1D(256, 5, activation='relu'),\n",
    "    Dropout(0.3),\n",
    "    MaxPooling1D(2),\n",
    "    Flatten(),\n",
    "    Dense(128, activation='relu'),\n",
    "    Dropout(0.3),\n",
    "    Dense(20, activation='softmax')\n",
    "])\n",
    "model.compile(loss='categorical_crossentropy', optimizer='adam', metrics=['accuracy'])\n",
    "model.summary()"
   ],
   "execution_count": 23,
   "outputs": [
    {
     "output_type": "stream",
     "text": [
      "Model: \"sequential_8\"\n",
      "_________________________________________________________________\n",
      "Layer (type)                 Output Shape              Param #   \n",
      "=================================================================\n",
      "embedding_8 (Embedding)      (None, 150, 64)           640000    \n",
      "_________________________________________________________________\n",
      "conv1d_11 (Conv1D)           (None, 146, 64)           20544     \n",
      "_________________________________________________________________\n",
      "dropout_17 (Dropout)         (None, 146, 64)           0         \n",
      "_________________________________________________________________\n",
      "max_pooling1d_9 (MaxPooling1 (None, 73, 64)            0         \n",
      "_________________________________________________________________\n",
      "conv1d_12 (Conv1D)           (None, 69, 128)           41088     \n",
      "_________________________________________________________________\n",
      "dropout_18 (Dropout)         (None, 69, 128)           0         \n",
      "_________________________________________________________________\n",
      "max_pooling1d_10 (MaxPooling (None, 34, 128)           0         \n",
      "_________________________________________________________________\n",
      "conv1d_13 (Conv1D)           (None, 30, 256)           164096    \n",
      "_________________________________________________________________\n",
      "dropout_19 (Dropout)         (None, 30, 256)           0         \n",
      "_________________________________________________________________\n",
      "max_pooling1d_11 (MaxPooling (None, 15, 256)           0         \n",
      "_________________________________________________________________\n",
      "flatten_7 (Flatten)          (None, 3840)              0         \n",
      "_________________________________________________________________\n",
      "dense_16 (Dense)             (None, 128)               491648    \n",
      "_________________________________________________________________\n",
      "dropout_20 (Dropout)         (None, 128)               0         \n",
      "_________________________________________________________________\n",
      "dense_17 (Dense)             (None, 20)                2580      \n",
      "=================================================================\n",
      "Total params: 1,359,956\n",
      "Trainable params: 1,359,956\n",
      "Non-trainable params: 0\n",
      "_________________________________________________________________\n"
     ],
     "name": "stdout"
    }
   ]
  },
  {
   "cell_type": "code",
   "metadata": {
    "id": "32ccRMguCtrL",
    "colab_type": "code",
    "colab": {
     "base_uri": "https://localhost:8080/",
     "height": 1000
    },
    "outputId": "d81baa17-9a93-4e1d-bdb8-0d69dc8fe52c"
   },
   "source": [
    "epochs = 30\n",
    "history = model.fit(\n",
    "    train_gen, steps_per_epoch=train_steps, epochs=epochs,\n",
    "    validation_data=test_gen, validation_steps=test_steps)"
   ],
   "execution_count": 24,
   "outputs": [
    {
     "output_type": "stream",
     "text": [
      "Epoch 1/30\n",
      "370/369 [==============================] - 5s 15ms/step - loss: 2.6612 - accuracy: 0.1152 - val_loss: 2.4426 - val_accuracy: 0.2040\n",
      "Epoch 2/30\n",
      "370/369 [==============================] - 5s 14ms/step - loss: 1.9125 - accuracy: 0.3164 - val_loss: 1.9013 - val_accuracy: 0.3601\n",
      "Epoch 3/30\n",
      "370/369 [==============================] - 5s 14ms/step - loss: 1.2968 - accuracy: 0.5360 - val_loss: 1.6554 - val_accuracy: 0.4306\n",
      "Epoch 4/30\n",
      "370/369 [==============================] - 5s 14ms/step - loss: 0.9165 - accuracy: 0.6602 - val_loss: 1.5626 - val_accuracy: 0.4729\n",
      "Epoch 5/30\n",
      "370/369 [==============================] - 5s 14ms/step - loss: 0.7153 - accuracy: 0.7427 - val_loss: 1.6141 - val_accuracy: 0.5017\n",
      "Epoch 6/30\n",
      "370/369 [==============================] - 5s 14ms/step - loss: 0.5509 - accuracy: 0.8001 - val_loss: 1.6808 - val_accuracy: 0.5245\n",
      "Epoch 7/30\n",
      "370/369 [==============================] - 5s 14ms/step - loss: 0.4283 - accuracy: 0.8490 - val_loss: 1.5974 - val_accuracy: 0.5816\n",
      "Epoch 8/30\n",
      "370/369 [==============================] - 5s 14ms/step - loss: 0.3435 - accuracy: 0.8795 - val_loss: 1.6801 - val_accuracy: 0.5754\n",
      "Epoch 9/30\n",
      "370/369 [==============================] - 5s 14ms/step - loss: 0.2857 - accuracy: 0.9017 - val_loss: 1.4884 - val_accuracy: 0.6243\n",
      "Epoch 10/30\n",
      "370/369 [==============================] - 5s 14ms/step - loss: 0.2329 - accuracy: 0.9196 - val_loss: 1.6193 - val_accuracy: 0.6312\n",
      "Epoch 11/30\n",
      "370/369 [==============================] - 5s 14ms/step - loss: 0.2015 - accuracy: 0.9344 - val_loss: 1.7053 - val_accuracy: 0.6240\n",
      "Epoch 12/30\n",
      "370/369 [==============================] - 5s 14ms/step - loss: 0.1773 - accuracy: 0.9413 - val_loss: 1.6245 - val_accuracy: 0.6511\n",
      "Epoch 13/30\n",
      "370/369 [==============================] - 5s 14ms/step - loss: 0.1520 - accuracy: 0.9505 - val_loss: 1.6714 - val_accuracy: 0.6500\n",
      "Epoch 14/30\n",
      "370/369 [==============================] - 5s 14ms/step - loss: 0.1232 - accuracy: 0.9634 - val_loss: 1.7665 - val_accuracy: 0.6512\n",
      "Epoch 15/30\n",
      "370/369 [==============================] - 5s 14ms/step - loss: 0.1018 - accuracy: 0.9686 - val_loss: 1.6551 - val_accuracy: 0.6618\n",
      "Epoch 16/30\n",
      "370/369 [==============================] - 5s 14ms/step - loss: 0.0967 - accuracy: 0.9710 - val_loss: 1.8968 - val_accuracy: 0.6490\n",
      "Epoch 17/30\n",
      "370/369 [==============================] - 5s 14ms/step - loss: 0.0943 - accuracy: 0.9728 - val_loss: 1.7639 - val_accuracy: 0.6533\n",
      "Epoch 18/30\n",
      "370/369 [==============================] - 5s 14ms/step - loss: 0.0979 - accuracy: 0.9717 - val_loss: 1.7490 - val_accuracy: 0.6643\n",
      "Epoch 19/30\n",
      "370/369 [==============================] - 5s 14ms/step - loss: 0.1076 - accuracy: 0.9681 - val_loss: 1.7439 - val_accuracy: 0.6634\n",
      "Epoch 20/30\n",
      "370/369 [==============================] - 5s 13ms/step - loss: 0.0728 - accuracy: 0.9802 - val_loss: 1.9976 - val_accuracy: 0.6762\n",
      "Epoch 21/30\n",
      "370/369 [==============================] - 5s 14ms/step - loss: 0.0711 - accuracy: 0.9788 - val_loss: 1.7893 - val_accuracy: 0.6839\n",
      "Epoch 22/30\n",
      "370/369 [==============================] - 5s 14ms/step - loss: 0.0660 - accuracy: 0.9818 - val_loss: 1.8827 - val_accuracy: 0.6808\n",
      "Epoch 23/30\n",
      "370/369 [==============================] - 5s 14ms/step - loss: 0.0677 - accuracy: 0.9807 - val_loss: 2.0039 - val_accuracy: 0.6759\n",
      "Epoch 24/30\n",
      "370/369 [==============================] - 5s 14ms/step - loss: 0.0777 - accuracy: 0.9794 - val_loss: 1.8932 - val_accuracy: 0.6806\n",
      "Epoch 25/30\n",
      "370/369 [==============================] - 5s 14ms/step - loss: 0.0626 - accuracy: 0.9816 - val_loss: 1.8062 - val_accuracy: 0.6920\n",
      "Epoch 26/30\n",
      "370/369 [==============================] - 5s 14ms/step - loss: 0.0543 - accuracy: 0.9852 - val_loss: 1.9900 - val_accuracy: 0.6905\n",
      "Epoch 27/30\n",
      "370/369 [==============================] - 5s 14ms/step - loss: 0.0605 - accuracy: 0.9835 - val_loss: 1.8884 - val_accuracy: 0.6872\n",
      "Epoch 28/30\n",
      "370/369 [==============================] - 5s 14ms/step - loss: 0.0406 - accuracy: 0.9885 - val_loss: 2.1783 - val_accuracy: 0.6846\n",
      "Epoch 29/30\n",
      "370/369 [==============================] - 5s 14ms/step - loss: 0.0627 - accuracy: 0.9834 - val_loss: 1.9423 - val_accuracy: 0.6874\n",
      "Epoch 30/30\n",
      "370/369 [==============================] - 5s 14ms/step - loss: 0.0749 - accuracy: 0.9829 - val_loss: 1.8130 - val_accuracy: 0.7057\n"
     ],
     "name": "stdout"
    }
   ]
  },
  {
   "cell_type": "code",
   "metadata": {
    "id": "NetGg_y82BMA",
    "colab_type": "code",
    "colab": {
     "base_uri": "https://localhost:8080/",
     "height": 541
    },
    "outputId": "e4061879-ed7f-4646-9b5f-462e92816219"
   },
   "source": [
    "def plot_graphs(history, string):\n",
    "  plt.plot(history.history[string])\n",
    "  plt.plot(history.history['val_'+string])\n",
    "  plt.xlabel(\"Epochs\")\n",
    "  plt.ylabel(string)\n",
    "  plt.legend([string, 'val_'+string])\n",
    "  plt.show()\n",
    "\n",
    "plot_graphs(history, \"accuracy\")\n",
    "plot_graphs(history, \"loss\")\n"
   ],
   "execution_count": 25,
   "outputs": [
    {
     "output_type": "display_data",
     "data": {
      "image/png": "[encoded data removed]",
      "text/plain": [
       "<Figure size 432x288 with 1 Axes>"
      ]
     },
     "metadata": {
      "tags": [],
      "needs_background": "light"
     }
    },
    {
     "output_type": "display_data",
     "data": {
      "image/png": "[encoded data removed]",
      "text/plain": [
       "<Figure size 432x288 with 1 Axes>"
      ]
     },
     "metadata": {
      "tags": [],
      "needs_background": "light"
     }
    }
   ]
  },
  {
   "cell_type": "code",
   "metadata": {
    "id": "rTG7UhTCEMKN",
    "colab_type": "code",
    "colab": {}
   },
   "source": [
    "model.save('linear.h5')"
   ],
   "execution_count": null,
   "outputs": []
  },
  {
   "cell_type": "code",
   "metadata": {
    "id": "ySfoVlmo_Xrl",
    "colab_type": "code",
    "colab": {}
   },
   "source": [
    "from google.colab import files\n",
    "files.download('linear.h5')"
   ],
   "execution_count": null,
   "outputs": []
  },
  {
   "cell_type": "code",
   "metadata": {
    "id": "Eqjjr81PDer9",
    "colab_type": "code",
    "colab": {}
   },
   "source": [
    ""
   ],
   "execution_count": null,
   "outputs": []
  }
 ]
}