{
  "nbformat": 4,
  "nbformat_minor": 0,
  "metadata": {
    "colab": {
      "name": "custom_test1.ipynb",
      "provenance": [],
      "collapsed_sections": []
    },
    "kernelspec": {
      "name": "python3",
      "display_name": "Python 3"
    },
    "accelerator": "GPU"
  },
  "cells": [
    {
      "cell_type": "code",
      "metadata": {
        "id": "03YcbT9HSJtw",
        "colab_type": "code",
        "colab": {
          "base_uri": "https://localhost:8080/",
          "height": 408
        },
        "outputId": "a0e22ee7-d431-43a6-b7cf-6409b28bf441"
      },
      "source": [
        "# Downlod the dataset\n",
        "! rm -rf data\n",
        "! rm *.csv*\n",
        "! wget https://storage.googleapis.com/akhilez/datasets/singularity_systems/test_custom_512.csv\n",
        "! wget https://storage.googleapis.com/akhilez/datasets/singularity_systems/train_custom_512.csv\n",
        "! mkdir -p data\n",
        "! mv *.csv data/\n"
      ],
      "execution_count": 1,
      "outputs": [
        {
          "output_type": "stream",
          "text": [
            "rm: cannot remove '*.csv*': No such file or directory\n",
            "--2020-08-01 20:20:50--  https://storage.googleapis.com/akhilez/datasets/singularity_systems/test_custom_512.csv\n",
            "Resolving storage.googleapis.com (storage.googleapis.com)... 173.194.203.128, 74.125.20.128, 74.125.142.128, ...\n",
            "Connecting to storage.googleapis.com (storage.googleapis.com)|173.194.203.128|:443... connected.\n",
            "HTTP request sent, awaiting response... 200 OK\n",
            "Length: 10772776 (10M) [text/csv]\n",
            "Saving to: ‘test_custom_512.csv’\n",
            "\n",
            "test_custom_512.csv 100%[===================>]  10.27M  --.-KB/s    in 0.1s    \n",
            "\n",
            "2020-08-01 20:20:50 (84.3 MB/s) - ‘test_custom_512.csv’ saved [10772776/10772776]\n",
            "\n",
            "--2020-08-01 20:20:51--  https://storage.googleapis.com/akhilez/datasets/singularity_systems/train_custom_512.csv\n",
            "Resolving storage.googleapis.com (storage.googleapis.com)... 74.125.195.128, 74.125.20.128, 74.125.142.128, ...\n",
            "Connecting to storage.googleapis.com (storage.googleapis.com)|74.125.195.128|:443... connected.\n",
            "HTTP request sent, awaiting response... 200 OK\n",
            "Length: 15444245 (15M) [text/csv]\n",
            "Saving to: ‘train_custom_512.csv’\n",
            "\n",
            "train_custom_512.cs 100%[===================>]  14.73M  92.6MB/s    in 0.2s    \n",
            "\n",
            "2020-08-01 20:20:51 (92.6 MB/s) - ‘train_custom_512.csv’ saved [15444245/15444245]\n",
            "\n"
          ],
          "name": "stdout"
        }
      ]
    },
    {
      "cell_type": "code",
      "metadata": {
        "id": "_VcQjFWpExRC",
        "colab_type": "code",
        "colab": {}
      },
      "source": [
        "import tensorflow as tf\n",
        "from tensorflow.keras.layers import Embedding, Dense, GlobalAveragePooling1D, Bidirectional, LSTM, Dropout, Conv1D, MaxPooling1D\n",
        "import matplotlib.pyplot as plt\n",
        "import csv\n",
        "import numpy as np"
      ],
      "execution_count": 2,
      "outputs": []
    },
    {
      "cell_type": "code",
      "metadata": {
        "id": "NI0UVGMxC0OA",
        "colab_type": "code",
        "colab": {}
      },
      "source": [
        "class BatchGenerator:\n",
        "\n",
        "    def __init__(self, data_path, batch_size):\n",
        "        self.batch_size = batch_size\n",
        "        self.data_path = data_path\n",
        "        self.n_labels = 20\n",
        "\n",
        "    def get_batch_gen(self, repeat=True):\n",
        "        while True:\n",
        "            with open(self.data_path) as data_file:\n",
        "                reader = csv.reader(data_file)\n",
        "                batch = []\n",
        "                for row in reader:  # TODO: Can the next batch be fetched asynchronously? With asyncio?\n",
        "                    batch.append(row)\n",
        "                    if len(batch) >= self.batch_size:\n",
        "                        batch = self._split_batch(batch)\n",
        "                        yield batch\n",
        "                        batch = []\n",
        "                if 0 < len(batch) < self.batch_size:\n",
        "                    yield self._split_batch(batch)\n",
        "            if not repeat:\n",
        "                break\n",
        "\n",
        "    def _split_batch(self, batch):\n",
        "        batch = np.array(batch, dtype=int)\n",
        "        x = batch[:, :len(batch[0]) - self.n_labels]\n",
        "        y = batch[:, len(batch[0]) - self.n_labels:]\n",
        "        return x, y\n"
      ],
      "execution_count": 3,
      "outputs": []
    },
    {
      "cell_type": "code",
      "metadata": {
        "id": "FCfEtIXMCq6v",
        "colab_type": "code",
        "colab": {}
      },
      "source": [
        "train_batch_size = 30\n",
        "test_batch_size = 30\n",
        "train_size = 11083\n",
        "test_size = 7761\n",
        "train_steps = train_size / train_batch_size\n",
        "test_steps = test_size / test_batch_size\n",
        "\n",
        "train_gen = BatchGenerator(data_path='data/train_custom_512.csv', batch_size=train_batch_size).get_batch_gen()\n",
        "test_gen = BatchGenerator(data_path='data/test_custom_512.csv', batch_size=test_batch_size).get_batch_gen()"
      ],
      "execution_count": 4,
      "outputs": []
    },
    {
      "cell_type": "code",
      "metadata": {
        "id": "meEx6Rf8Co8L",
        "colab_type": "code",
        "colab": {}
      },
      "source": [
        "vocab_size = 10000\n",
        "embed_size = 128"
      ],
      "execution_count": 6,
      "outputs": []
    },
    {
      "cell_type": "code",
      "metadata": {
        "id": "g6UWJsHJCoq6",
        "colab_type": "code",
        "colab": {
          "base_uri": "https://localhost:8080/",
          "height": 289
        },
        "outputId": "23a390c9-2382-4958-945f-442fdf4df3e5"
      },
      "source": [
        "model = tf.keras.Sequential([\n",
        "    Embedding(vocab_size, embed_size, input_length=512),\n",
        "    GlobalAveragePooling1D(),\n",
        "    Dense(128, activation='relu'),\n",
        "    Dense(20, activation='softmax')\n",
        "])\n",
        "model.compile(loss='categorical_crossentropy', optimizer='adam', metrics=['accuracy'])\n",
        "model.summary()"
      ],
      "execution_count": 8,
      "outputs": [
        {
          "output_type": "stream",
          "text": [
            "Model: \"sequential_1\"\n",
            "_________________________________________________________________\n",
            "Layer (type)                 Output Shape              Param #   \n",
            "=================================================================\n",
            "embedding_1 (Embedding)      (None, 512, 128)          1280000   \n",
            "_________________________________________________________________\n",
            "global_average_pooling1d_1 ( (None, 128)               0         \n",
            "_________________________________________________________________\n",
            "dense_2 (Dense)              (None, 128)               16512     \n",
            "_________________________________________________________________\n",
            "dense_3 (Dense)              (None, 20)                2580      \n",
            "=================================================================\n",
            "Total params: 1,299,092\n",
            "Trainable params: 1,299,092\n",
            "Non-trainable params: 0\n",
            "_________________________________________________________________\n"
          ],
          "name": "stdout"
        }
      ]
    },
    {
      "cell_type": "code",
      "metadata": {
        "id": "32ccRMguCtrL",
        "colab_type": "code",
        "colab": {
          "base_uri": "https://localhost:8080/",
          "height": 578
        },
        "outputId": "709d0a9e-c50d-45dc-8a07-5d551f0df6c8"
      },
      "source": [
        "epochs = 15\n",
        "history = model.fit_generator(\n",
        "    train_gen, steps_per_epoch=train_steps, epochs=epochs,\n",
        "    validation_data=test_gen, validation_steps=test_steps)"
      ],
      "execution_count": 9,
      "outputs": [
        {
          "output_type": "stream",
          "text": [
            "WARNING:tensorflow:From <ipython-input-9-31476edcd640>:4: Model.fit_generator (from tensorflow.python.keras.engine.training) is deprecated and will be removed in a future version.\n",
            "Instructions for updating:\n",
            "Please use Model.fit, which supports generators.\n",
            "Epoch 1/15\n",
            "370/369 [==============================] - 9s 23ms/step - loss: 2.7687 - accuracy: 0.1178 - val_loss: 2.6421 - val_accuracy: 0.1383\n",
            "Epoch 2/15\n",
            "370/369 [==============================] - 8s 22ms/step - loss: 2.0731 - accuracy: 0.3713 - val_loss: 2.0155 - val_accuracy: 0.4235\n",
            "Epoch 3/15\n",
            "370/369 [==============================] - 8s 22ms/step - loss: 1.3902 - accuracy: 0.6287 - val_loss: 1.5050 - val_accuracy: 0.5450\n",
            "Epoch 4/15\n",
            "370/369 [==============================] - 8s 22ms/step - loss: 0.9264 - accuracy: 0.7610 - val_loss: 1.2184 - val_accuracy: 0.6222\n",
            "Epoch 5/15\n",
            "370/369 [==============================] - 8s 22ms/step - loss: 0.6509 - accuracy: 0.8393 - val_loss: 1.0671 - val_accuracy: 0.6704\n",
            "Epoch 6/15\n",
            "370/369 [==============================] - 8s 22ms/step - loss: 0.4774 - accuracy: 0.8862 - val_loss: 0.9877 - val_accuracy: 0.7029\n",
            "Epoch 7/15\n",
            "370/369 [==============================] - 8s 22ms/step - loss: 0.3599 - accuracy: 0.9202 - val_loss: 0.9505 - val_accuracy: 0.7198\n",
            "Epoch 8/15\n",
            "370/369 [==============================] - 8s 22ms/step - loss: 0.2764 - accuracy: 0.9434 - val_loss: 0.9374 - val_accuracy: 0.7328\n",
            "Epoch 9/15\n",
            "370/369 [==============================] - 8s 22ms/step - loss: 0.2151 - accuracy: 0.9583 - val_loss: 0.9366 - val_accuracy: 0.7395\n",
            "Epoch 10/15\n",
            "370/369 [==============================] - 8s 22ms/step - loss: 0.1690 - accuracy: 0.9696 - val_loss: 0.9483 - val_accuracy: 0.7445\n",
            "Epoch 11/15\n",
            "370/369 [==============================] - 8s 23ms/step - loss: 0.1333 - accuracy: 0.9774 - val_loss: 0.9703 - val_accuracy: 0.7457\n",
            "Epoch 12/15\n",
            "370/369 [==============================] - 8s 22ms/step - loss: 0.1056 - accuracy: 0.9839 - val_loss: 1.0006 - val_accuracy: 0.7464\n",
            "Epoch 13/15\n",
            "370/369 [==============================] - 8s 22ms/step - loss: 0.0839 - accuracy: 0.9888 - val_loss: 1.0330 - val_accuracy: 0.7490\n",
            "Epoch 14/15\n",
            "370/369 [==============================] - 8s 22ms/step - loss: 0.0668 - accuracy: 0.9914 - val_loss: 1.0700 - val_accuracy: 0.7499\n",
            "Epoch 15/15\n",
            "370/369 [==============================] - 8s 23ms/step - loss: 0.0533 - accuracy: 0.9938 - val_loss: 1.1104 - val_accuracy: 0.7485\n"
          ],
          "name": "stdout"
        }
      ]
    },
    {
      "cell_type": "code",
      "metadata": {
        "id": "NetGg_y82BMA",
        "colab_type": "code",
        "colab": {
          "base_uri": "https://localhost:8080/",
          "height": 541
        },
        "outputId": "3f292f6e-c2b5-47b0-ec47-d08dc8737cbb"
      },
      "source": [
        "def plot_graphs(history, string):\n",
        "  plt.plot(history.history[string])\n",
        "  plt.plot(history.history['val_'+string])\n",
        "  plt.xlabel(\"Epochs\")\n",
        "  plt.ylabel(string)\n",
        "  plt.legend([string, 'val_'+string])\n",
        "  plt.show()\n",
        "\n",
        "plot_graphs(history, \"accuracy\")\n",
        "plot_graphs(history, \"loss\")\n"
      ],
      "execution_count": 10,
      "outputs": [
        {
          "output_type": "display_data",
          "data": {
            "image/png": "[encoded data removed]",
            "text/plain": [
              "<Figure size 432x288 with 1 Axes>"
            ]
          },
          "metadata": {
            "tags": [],
            "needs_background": "light"
          }
        },
        {
          "output_type": "display_data",
          "data": {
            "image/png": "[encoded data removed]",
            "text/plain": [
              "<Figure size 432x288 with 1 Axes>"
            ]
          },
          "metadata": {
            "tags": [],
            "needs_background": "light"
          }
        }
      ]
    },
    {
      "cell_type": "code",
      "metadata": {
        "id": "rTG7UhTCEMKN",
        "colab_type": "code",
        "colab": {}
      },
      "source": [
        "model.save('linear.h5')"
      ],
      "execution_count": null,
      "outputs": []
    },
    {
      "cell_type": "code",
      "metadata": {
        "id": "ySfoVlmo_Xrl",
        "colab_type": "code",
        "colab": {
          "base_uri": "https://localhost:8080/",
          "height": 17
        },
        "outputId": "7b18fd05-4966-4ee7-9c83-5bc9dffcf349"
      },
      "source": [
        "from google.colab import files\n",
        "files.download('linear.h5')"
      ],
      "execution_count": null,
      "outputs": [
        {
          "output_type": "display_data",
          "data": {
            "application/javascript": [
              "\n",
              "    async function download(id, filename, size) {\n",
              "      if (!google.colab.kernel.accessAllowed) {\n",
              "        return;\n",
              "      }\n",
              "      const div = document.createElement('div');\n",
              "      const label = document.createElement('label');\n",
              "      label.textContent = `Downloading \"${filename}\": `;\n",
              "      div.appendChild(label);\n",
              "      const progress = document.createElement('progress');\n",
              "      progress.max = size;\n",
              "      div.appendChild(progress);\n",
              "      document.body.appendChild(div);\n",
              "\n",
              "      const buffers = [];\n",
              "      let downloaded = 0;\n",
              "\n",
              "      const channel = await google.colab.kernel.comms.open(id);\n",
              "      // Send a message to notify the kernel that we're ready.\n",
              "      channel.send({})\n",
              "\n",
              "      for await (const message of channel.messages) {\n",
              "        // Send a message to notify the kernel that we're ready.\n",
              "        channel.send({})\n",
              "        if (message.buffers) {\n",
              "          for (const buffer of message.buffers) {\n",
              "            buffers.push(buffer);\n",
              "            downloaded += buffer.byteLength;\n",
              "            progress.value = downloaded;\n",
              "          }\n",
              "        }\n",
              "      }\n",
              "      const blob = new Blob(buffers, {type: 'application/binary'});\n",
              "      const a = document.createElement('a');\n",
              "      a.href = window.URL.createObjectURL(blob);\n",
              "      a.download = filename;\n",
              "      div.appendChild(a);\n",
              "      a.click();\n",
              "      div.remove();\n",
              "    }\n",
              "  "
            ],
            "text/plain": [
              "<IPython.core.display.Javascript object>"
            ]
          },
          "metadata": {
            "tags": []
          }
        },
        {
          "output_type": "display_data",
          "data": {
            "application/javascript": [
              "download(\"download_290aeeb4-5c96-487d-ad9e-478766ee1e1d\", \"linear.h5\", 12321936)"
            ],
            "text/plain": [
              "<IPython.core.display.Javascript object>"
            ]
          },
          "metadata": {
            "tags": []
          }
        }
      ]
    },
    {
      "cell_type": "code",
      "metadata": {
        "id": "Eqjjr81PDer9",
        "colab_type": "code",
        "colab": {}
      },
      "source": [
        ""
      ],
      "execution_count": null,
      "outputs": []
    }
  ]
}