{
  "nbformat": 4,
  "nbformat_minor": 0,
  "metadata": {
    "colab": {
      "name": "bert_test1.ipynb",
      "provenance": [],
      "collapsed_sections": []
    },
    "kernelspec": {
      "name": "python3",
      "display_name": "Python 3"
    },
    "accelerator": "GPU"
  },
  "cells": [
    {
      "cell_type": "code",
      "metadata": {
        "id": "_VcQjFWpExRC",
        "colab_type": "code",
        "colab": {
          "base_uri": "https://localhost:8080/",
          "height": 442
        },
        "outputId": "4fdc3148-004b-4733-f1d9-7e6ca43a9cef"
      },
      "source": [
        "!pip install pytorch_pretrained_bert pytorch-nlp"
      ],
      "execution_count": 1,
      "outputs": [
        {
          "output_type": "stream",
          "text": [
            "Collecting pytorch_pretrained_bert\n",
            "\u001b[?25l  Downloading https://files.pythonhosted.org/packages/d7/e0/c08d5553b89973d9a240605b9c12404bcf8227590de62bae27acbcfe076b/pytorch_pretrained_bert-0.6.2-py3-none-any.whl (123kB)\n",
            "\u001b[K     |████████████████████████████████| 133kB 4.6MB/s \n",
            "\u001b[?25hCollecting pytorch-nlp\n",
            "\u001b[?25l  Downloading https://files.pythonhosted.org/packages/4f/51/f0ee1efb75f7cc2e3065c5da1363d6be2eec79691b2821594f3f2329528c/pytorch_nlp-0.5.0-py3-none-any.whl (90kB)\n",
            "\u001b[K     |████████████████████████████████| 92kB 8.3MB/s \n",
            "\u001b[?25hRequirement already satisfied: boto3 in /usr/local/lib/python3.6/dist-packages (from pytorch_pretrained_bert) (1.14.30)\n",
            "Requirement already satisfied: numpy in /usr/local/lib/python3.6/dist-packages (from pytorch_pretrained_bert) (1.18.5)\n",
            "Requirement already satisfied: tqdm in /usr/local/lib/python3.6/dist-packages (from pytorch_pretrained_bert) (4.41.1)\n",
            "Requirement already satisfied: regex in /usr/local/lib/python3.6/dist-packages (from pytorch_pretrained_bert) (2019.12.20)\n",
            "Requirement already satisfied: torch>=0.4.1 in /usr/local/lib/python3.6/dist-packages (from pytorch_pretrained_bert) (1.6.0+cu101)\n",
            "Requirement already satisfied: requests in /usr/local/lib/python3.6/dist-packages (from pytorch_pretrained_bert) (2.23.0)\n",
            "Requirement already satisfied: jmespath<1.0.0,>=0.7.1 in /usr/local/lib/python3.6/dist-packages (from boto3->pytorch_pretrained_bert) (0.10.0)\n",
            "Requirement already satisfied: botocore<1.18.0,>=1.17.30 in /usr/local/lib/python3.6/dist-packages (from boto3->pytorch_pretrained_bert) (1.17.30)\n",
            "Requirement already satisfied: s3transfer<0.4.0,>=0.3.0 in /usr/local/lib/python3.6/dist-packages (from boto3->pytorch_pretrained_bert) (0.3.3)\n",
            "Requirement already satisfied: future in /usr/local/lib/python3.6/dist-packages (from torch>=0.4.1->pytorch_pretrained_bert) (0.16.0)\n",
            "Requirement already satisfied: certifi>=2017.4.17 in /usr/local/lib/python3.6/dist-packages (from requests->pytorch_pretrained_bert) (2020.6.20)\n",
            "Requirement already satisfied: urllib3!=1.25.0,!=1.25.1,<1.26,>=1.21.1 in /usr/local/lib/python3.6/dist-packages (from requests->pytorch_pretrained_bert) (1.24.3)\n",
            "Requirement already satisfied: chardet<4,>=3.0.2 in /usr/local/lib/python3.6/dist-packages (from requests->pytorch_pretrained_bert) (3.0.4)\n",
            "Requirement already satisfied: idna<3,>=2.5 in /usr/local/lib/python3.6/dist-packages (from requests->pytorch_pretrained_bert) (2.10)\n",
            "Requirement already satisfied: python-dateutil<3.0.0,>=2.1 in /usr/local/lib/python3.6/dist-packages (from botocore<1.18.0,>=1.17.30->boto3->pytorch_pretrained_bert) (2.8.1)\n",
            "Requirement already satisfied: docutils<0.16,>=0.10 in /usr/local/lib/python3.6/dist-packages (from botocore<1.18.0,>=1.17.30->boto3->pytorch_pretrained_bert) (0.15.2)\n",
            "Requirement already satisfied: six>=1.5 in /usr/local/lib/python3.6/dist-packages (from python-dateutil<3.0.0,>=2.1->botocore<1.18.0,>=1.17.30->boto3->pytorch_pretrained_bert) (1.15.0)\n",
            "Installing collected packages: pytorch-pretrained-bert, pytorch-nlp\n",
            "Successfully installed pytorch-nlp-0.5.0 pytorch-pretrained-bert-0.6.2\n"
          ],
          "name": "stdout"
        }
      ]
    },
    {
      "cell_type": "code",
      "metadata": {
        "id": "03YcbT9HSJtw",
        "colab_type": "code",
        "colab": {
          "base_uri": "https://localhost:8080/",
          "height": 408
        },
        "outputId": "61d00829-6e28-4ff4-a18c-670a5fb8099a"
      },
      "source": [
        "# Downlod the dataset\n",
        "\n",
        "! rm -rf data\n",
        "! rm *.csv*\n",
        "! wget https://storage.googleapis.com/akhilez/datasets/singularity_systems/test_bert.csv\n",
        "! wget https://storage.googleapis.com/akhilez/datasets/singularity_systems/train_bert.csv\n",
        "! mkdir -p data\n",
        "! mv *.csv data/\n"
      ],
      "execution_count": 2,
      "outputs": [
        {
          "output_type": "stream",
          "text": [
            "rm: cannot remove '*.csv*': No such file or directory\n",
            "--2020-08-01 05:37:36--  https://storage.googleapis.com/akhilez/datasets/singularity_systems/test_bert.csv\n",
            "Resolving storage.googleapis.com (storage.googleapis.com)... 74.125.28.128, 74.125.142.128, 74.125.195.128, ...\n",
            "Connecting to storage.googleapis.com (storage.googleapis.com)|74.125.28.128|:443... connected.\n",
            "HTTP request sent, awaiting response... 200 OK\n",
            "Length: 16310138 (16M) [text/csv]\n",
            "Saving to: ‘test_bert.csv’\n",
            "\n",
            "test_bert.csv       100%[===================>]  15.55M  96.3MB/s    in 0.2s    \n",
            "\n",
            "2020-08-01 05:37:37 (96.3 MB/s) - ‘test_bert.csv’ saved [16310138/16310138]\n",
            "\n",
            "--2020-08-01 05:37:41--  https://storage.googleapis.com/akhilez/datasets/singularity_systems/train_bert.csv\n",
            "Resolving storage.googleapis.com (storage.googleapis.com)... 74.125.20.128, 74.125.142.128, 74.125.195.128, ...\n",
            "Connecting to storage.googleapis.com (storage.googleapis.com)|74.125.20.128|:443... connected.\n",
            "HTTP request sent, awaiting response... 200 OK\n",
            "Length: 23291221 (22M) [text/csv]\n",
            "Saving to: ‘train_bert.csv’\n",
            "\n",
            "train_bert.csv      100%[===================>]  22.21M   109MB/s    in 0.2s    \n",
            "\n",
            "2020-08-01 05:37:41 (109 MB/s) - ‘train_bert.csv’ saved [23291221/23291221]\n",
            "\n"
          ],
          "name": "stdout"
        }
      ]
    },
    {
      "cell_type": "code",
      "metadata": {
        "id": "NetGg_y82BMA",
        "colab_type": "code",
        "colab": {}
      },
      "source": [
        "import torch\n",
        "from pytorch_pretrained_bert import BertModel\n",
        "import csv\n",
        "import numpy as np\n",
        "from torch import nn\n",
        "import math\n",
        "import matplotlib.pyplot as plt"
      ],
      "execution_count": 3,
      "outputs": []
    },
    {
      "cell_type": "code",
      "metadata": {
        "id": "OHlswuXv1PUG",
        "colab_type": "code",
        "colab": {
          "base_uri": "https://localhost:8080/",
          "height": 34
        },
        "outputId": "cefa3cc8-e72e-499c-eec8-949a6eceb4c4"
      },
      "source": [
        "# Device configuration\n",
        "device = torch.device('cuda' if torch.cuda.is_available() else 'cpu')\n",
        "device"
      ],
      "execution_count": 4,
      "outputs": [
        {
          "output_type": "execute_result",
          "data": {
            "text/plain": [
              "device(type='cuda')"
            ]
          },
          "metadata": {
            "tags": []
          },
          "execution_count": 4
        }
      ]
    },
    {
      "cell_type": "code",
      "metadata": {
        "id": "ALahN1BA0tFn",
        "colab_type": "code",
        "colab": {}
      },
      "source": [
        "class BatchGenerator:\n",
        "\n",
        "    def __init__(self, data_path, batch_size):\n",
        "        self.batch_size = batch_size\n",
        "        self.data_path = data_path\n",
        "        self.n_labels = 20\n",
        "\n",
        "    def get_batch_gen(self, repeat=True):\n",
        "        while True:\n",
        "            with open(self.data_path) as data_file:\n",
        "                reader = csv.reader(data_file)\n",
        "                batch = []\n",
        "                for row in reader:  # TODO: Can the next batch be fetched asynchronously? With asyncio?\n",
        "                    batch.append(row)\n",
        "                    if len(batch) >= self.batch_size:\n",
        "                        batch = self._split_batch(batch)\n",
        "                        yield batch\n",
        "                        batch = []\n",
        "                if 0 < len(batch) < self.batch_size:\n",
        "                    yield self._split_batch(batch)\n",
        "            if not repeat:\n",
        "                break\n",
        "\n",
        "    def _split_batch(self, batch):\n",
        "        batch = np.array(batch, dtype=int)\n",
        "        x = batch[:, :len(batch[0]) - self.n_labels]\n",
        "        y = batch[:, len(batch[0]) - self.n_labels:]\n",
        "        return x, y\n"
      ],
      "execution_count": 5,
      "outputs": []
    },
    {
      "cell_type": "code",
      "metadata": {
        "id": "m53j4b9L1D95",
        "colab_type": "code",
        "colab": {
          "base_uri": "https://localhost:8080/",
          "height": 34
        },
        "outputId": "bee20c3b-74cf-4a14-86aa-3f0c0c2e2da6"
      },
      "source": [
        "class BertEmailClassifier(nn.Module):\n",
        "    def __init__(self, dropout=0.1):\n",
        "        super(BertEmailClassifier, self).__init__()\n",
        "\n",
        "        self.bert = BertModel.from_pretrained('bert-base-uncased')\n",
        "        self.dropout = nn.Dropout(dropout)\n",
        "        self.linear = nn.Linear(768, 20)\n",
        "\n",
        "    def forward(self, x, masks=None):\n",
        "        _, x = self.bert(x, attention_mask=masks, output_all_encoded_layers=False)\n",
        "        x = self.dropout(x)\n",
        "        x = nn.functional.softmax(self.linear(x), dim=1)\n",
        "        return x\n",
        "\n",
        "bert_clf = BertEmailClassifier().to(device)\n",
        "optim = torch.optim.Adam(bert_clf.parameters(), lr=3e-6)\n"
      ],
      "execution_count": 6,
      "outputs": [
        {
          "output_type": "stream",
          "text": [
            "100%|██████████| 407873900/407873900 [00:10<00:00, 39108281.90B/s]\n"
          ],
          "name": "stderr"
        }
      ]
    },
    {
      "cell_type": "code",
      "metadata": {
        "id": "gL7JJyMW1EMq",
        "colab_type": "code",
        "colab": {}
      },
      "source": [
        "train_batch_size = 10\n",
        "test_batch_size = 5\n",
        "train_size = 11083\n",
        "test_size = 7761\n",
        "train_steps = train_size / train_batch_size\n",
        "test_steps = test_size / test_batch_size\n",
        "\n",
        "train_gen = BatchGenerator(data_path='data/train_bert.csv', batch_size=train_batch_size).get_batch_gen()\n",
        "test_gen = BatchGenerator(data_path='data/test_bert.csv', batch_size=test_batch_size).get_batch_gen()"
      ],
      "execution_count": 7,
      "outputs": []
    },
    {
      "cell_type": "code",
      "metadata": {
        "id": "2fysrAh7wuaJ",
        "colab_type": "code",
        "colab": {
          "base_uri": "https://localhost:8080/",
          "height": 34
        },
        "outputId": "09b1869a-bffd-452d-d8eb-851ea24e6b31"
      },
      "source": [
        "train_steps"
      ],
      "execution_count": 8,
      "outputs": [
        {
          "output_type": "execute_result",
          "data": {
            "text/plain": [
              "1108.3"
            ]
          },
          "metadata": {
            "tags": []
          },
          "execution_count": 8
        }
      ]
    },
    {
      "cell_type": "code",
      "metadata": {
        "id": "5U4i18RiBCxV",
        "colab_type": "code",
        "colab": {
          "base_uri": "https://localhost:8080/",
          "height": 51
        },
        "outputId": "17a57773-438a-44cc-ac4a-f99479297b39"
      },
      "source": [
        "print(str(torch.cuda.memory_allocated(device)/1000000 ) + 'M')\n",
        "torch.cuda.empty_cache()\n",
        "print(str(torch.cuda.memory_allocated(device)/1000000 ) + 'M')"
      ],
      "execution_count": 9,
      "outputs": [
        {
          "output_type": "stream",
          "text": [
            "439.123456M\n",
            "439.123456M\n"
          ],
          "name": "stdout"
        }
      ]
    },
    {
      "cell_type": "code",
      "metadata": {
        "id": "SAhQMNScdOFd",
        "colab_type": "code",
        "colab": {}
      },
      "source": [
        "class Metrics:\n",
        "    def __init__(self):\n",
        "        self.losses = []\n",
        "        self.accuracies = []\n",
        "\n",
        "        self._epoch_loss = 0\n",
        "        self._epoch_accuracy = 0\n",
        "\n",
        "        self.n_batches = 0\n",
        "        self.n_epochs = 0\n",
        "\n",
        "    def record_batch(self, loss, accuracy):\n",
        "        self.n_batches += 1\n",
        "        self._epoch_loss += loss\n",
        "        self._epoch_accuracy += accuracy\n",
        "\n",
        "    def record_epoch(self):\n",
        "        self.losses.append(self._epoch_loss/self.n_batches)\n",
        "        self.accuracies.append(self._epoch_accuracy/self.n_batches)\n",
        "\n",
        "        self.n_epochs += 1\n",
        "        self._epoch_loss = 0\n",
        "        self._epoch_accuracy = 0\n",
        "        self.n_batches = 0\n",
        "\n",
        "    @staticmethod\n",
        "    def find_accuracy(y_hat, y_real):\n",
        "        max_args_equals = torch.argmax(y_hat, dim=1) == torch.argmax(y_real, dim=1)\n",
        "        return sum([1 if value else 0 for value in max_args_equals]) / len(y_hat)\n"
      ],
      "execution_count": 10,
      "outputs": []
    },
    {
      "cell_type": "code",
      "metadata": {
        "id": "EHUv4ggnco6O",
        "colab_type": "code",
        "colab": {}
      },
      "source": [
        "def record_test_metrics(metrics):\n",
        "    bert_clf.eval()\n",
        "    with torch.no_grad():\n",
        "        for batch_i in range(math.ceil(test_steps)):\n",
        "\n",
        "            x_batch, y_batch = next(test_gen)\n",
        "            x_batch = torch.tensor(x_batch).to(device)\n",
        "            y_batch = torch.tensor(y_batch, dtype=torch.float32).to(device)\n",
        "            x_batch_masks = torch.tensor([[float(i > 0) for i in ii] for ii in x_batch]).to(device)\n",
        "\n",
        "            y_hat = bert_clf(x_batch, x_batch_masks)\n",
        "\n",
        "            loss = nn.functional.binary_cross_entropy(y_hat, y_batch)\n",
        "\n",
        "            metrics.record_batch(loss.item(), Metrics.find_accuracy(y_hat, y_batch))\n",
        "\n",
        "            if batch_i % 200 == 0:\n",
        "                print(loss.item())\n",
        "\n",
        "        metrics.record_epoch()"
      ],
      "execution_count": 11,
      "outputs": []
    },
    {
      "cell_type": "code",
      "metadata": {
        "id": "NTDRm01sGsed",
        "colab_type": "code",
        "colab": {}
      },
      "source": [
        "train_metrics = Metrics()\n",
        "test_metrics = Metrics()"
      ],
      "execution_count": 12,
      "outputs": []
    },
    {
      "cell_type": "code",
      "metadata": {
        "id": "p7Wj6-cD1EbP",
        "colab_type": "code",
        "colab": {
          "base_uri": "https://localhost:8080/",
          "height": 1000
        },
        "outputId": "bf44f877-6a59-427a-e2a1-c73667179f61"
      },
      "source": [
        "def train(epochs, train_metrics, test_metrics):\n",
        "\n",
        "    for epoch in range(epochs):\n",
        "\n",
        "        for batch_i in range(math.ceil(train_steps)):\n",
        "\n",
        "            x_batch, y_batch = next(train_gen)\n",
        "            y_batch = torch.tensor(y_batch, dtype=torch.float32).to(device)\n",
        "            x_batch_masks = torch.tensor([[float(i > 0) for i in ii] for ii in x_batch]).to(device)\n",
        "            x_batch = torch.tensor(x_batch).to(device)\n",
        "\n",
        "            optim.zero_grad()\n",
        "\n",
        "            y_hat = bert_clf(x_batch, x_batch_masks)\n",
        "\n",
        "            loss = nn.functional.binary_cross_entropy(y_hat, y_batch)\n",
        "\n",
        "            loss.backward()\n",
        "            optim.step()\n",
        "\n",
        "            train_metrics.record_batch(loss.item(), Metrics.find_accuracy(y_hat, y_batch))\n",
        "\n",
        "            if batch_i % 200 == 0:\n",
        "                print(loss.item())\n",
        "\n",
        "        train_metrics.record_epoch()\n",
        "        record_test_metrics(test_metrics)\n",
        "\n",
        "        print(f'Epoch: {epoch}, train_loss={train_metrics.losses[-1]}, train_accuracy={train_metrics.accuracies[-1]}, val_loss={test_metrics.losses[-1]}, val_accuracy={test_metrics.accuracies[-1]}')\n",
        "\n",
        "train(7, train_metrics, test_metrics)"
      ],
      "execution_count": 13,
      "outputs": [
        {
          "output_type": "stream",
          "text": [
            "0.2024816870689392\n",
            "0.18500015139579773\n",
            "0.1506507694721222\n",
            "0.13745072484016418\n",
            "0.11775776743888855\n",
            "0.11297935247421265\n",
            "0.09622488170862198\n",
            "0.08227772265672684\n",
            "0.11618775874376297\n",
            "0.08756206929683685\n",
            "0.09415136277675629\n",
            "0.09082947671413422\n",
            "0.08744733780622482\n",
            "0.08624626696109772\n",
            "Epoch: 0, train_loss=0.14828684555183563, train_accuracy=0.48999098286744885, val_loss=0.09973225612565155, val_accuracy=0.7294269156471274\n",
            "0.10116111487150192\n",
            "0.08822470158338547\n",
            "0.05261806398630142\n",
            "0.04719800874590874\n",
            "0.05465045943856239\n",
            "0.06227647140622139\n",
            "0.05608008801937103\n",
            "0.02660210058093071\n",
            "0.08267854154109955\n",
            "0.025071796029806137\n",
            "0.040913231670856476\n",
            "0.04748505353927612\n",
            "0.053673695772886276\n",
            "0.03555981442332268\n",
            "Epoch: 1, train_loss=0.06798594857660954, train_accuracy=0.8108205590622116, val_loss=0.06148046409952318, val_accuracy=0.8038634900193067\n",
            "0.06791946291923523\n",
            "0.0548502616584301\n",
            "0.026279818266630173\n",
            "0.02252727374434471\n",
            "0.022704806178808212\n",
            "0.032037023454904556\n",
            "0.05669257044792175\n",
            "0.00942771602421999\n",
            "0.08218974620103836\n",
            "0.010825392790138721\n",
            "0.025983991101384163\n",
            "0.01813344843685627\n",
            "0.038471803069114685\n",
            "0.013087283819913864\n",
            "Epoch: 2, train_loss=0.037316231618444724, train_accuracy=0.894830177336932, val_loss=0.049643391281239214, val_accuracy=0.8343850611719141\n",
            "0.05515534430742264\n",
            "0.032531220465898514\n",
            "0.013978082686662674\n",
            "0.012884212657809258\n",
            "0.011747019365429878\n",
            "0.01575956866145134\n",
            "0.0709877535700798\n",
            "0.005163201130926609\n",
            "0.0899086445569992\n",
            "0.005918831564486027\n",
            "0.020555123686790466\n",
            "0.009280635043978691\n",
            "0.03018786385655403\n",
            "0.013084176927804947\n",
            "Epoch: 3, train_loss=0.021321848196937384, train_accuracy=0.9479711451758289, val_loss=0.04626565788097737, val_accuracy=0.8400515132002474\n",
            "0.0372747965157032\n",
            "0.01860339194536209\n",
            "0.006226826924830675\n",
            "0.004046644549816847\n",
            "0.0056345961056649685\n",
            "0.006983759347349405\n",
            "0.06397401541471481\n",
            "0.003061058232560754\n",
            "0.09507497400045395\n",
            "0.003682466456666589\n",
            "0.01612292043864727\n",
            "0.005166973918676376\n",
            "0.04807260259985924\n",
            "0.003977985121309757\n",
            "Epoch: 4, train_loss=0.01243675555538376, train_accuracy=0.9744815148782661, val_loss=0.04568448028635445, val_accuracy=0.8441725692208532\n",
            "0.012557023204863071\n",
            "0.008459812961518764\n",
            "0.0029970891773700714\n",
            "0.0022626977879554033\n",
            "0.003893653629347682\n",
            "0.006190283689647913\n",
            "0.062431465834379196\n",
            "0.001993378158658743\n",
            "0.10265355557203293\n",
            "0.0026066910941153765\n",
            "0.020885061472654343\n",
            "0.004017891827970743\n",
            "0.029444413259625435\n",
            "0.0027455214876681566\n",
            "Epoch: 5, train_loss=0.007653640771584503, train_accuracy=0.9850315599639299, val_loss=0.04798070005423354, val_accuracy=0.8396651641983154\n",
            "0.003265947103500366\n",
            "0.004029732197523117\n",
            "0.0018672578735277057\n",
            "0.001494857482612133\n",
            "0.0037322337739169598\n",
            "0.0019073328003287315\n",
            "0.04559842869639397\n",
            "0.0013386696809902787\n",
            "0.11351746320724487\n",
            "0.001594094093888998\n",
            "0.020805221050977707\n",
            "0.0029000204522162676\n",
            "0.034222014248371124\n",
            "0.002101143356412649\n",
            "Epoch: 6, train_loss=0.004843632810277994, train_accuracy=0.9910730387736687, val_loss=0.04857039992799185, val_accuracy=0.8513844172569118\n"
          ],
          "name": "stdout"
        }
      ]
    },
    {
      "cell_type": "code",
      "metadata": {
        "id": "n46mNVMv_sXm",
        "colab_type": "code",
        "colab": {
          "base_uri": "https://localhost:8080/",
          "height": 279
        },
        "outputId": "0347f107-25b6-487b-d3d5-ca2bfc8b4a0f"
      },
      "source": [
        "plt.plot(train_metrics.accuracies)\n",
        "plt.plot(test_metrics.accuracies)\n",
        "plt.xlabel(\"Epochs\")\n",
        "plt.ylabel('accuracy')\n",
        "plt.legend(['accuracy', 'val_accuracy'])\n",
        "plt.show()"
      ],
      "execution_count": 14,
      "outputs": [
        {
          "output_type": "display_data",
          "data": {
            "image/png": "[encoded data removed]",
            "text/plain": [
              "<Figure size 432x288 with 1 Axes>"
            ]
          },
          "metadata": {
            "tags": [],
            "needs_background": "light"
          }
        }
      ]
    },
    {
      "cell_type": "code",
      "metadata": {
        "id": "O8pAbU2gIUK9",
        "colab_type": "code",
        "colab": {
          "base_uri": "https://localhost:8080/",
          "height": 279
        },
        "outputId": "bfaa4ff0-fe46-4d16-8bd9-85f42a079d11"
      },
      "source": [
        "plt.plot(train_metrics.losses)\n",
        "plt.plot(test_metrics.losses)\n",
        "plt.xlabel(\"Epochs\")\n",
        "plt.ylabel('loss')\n",
        "plt.legend(['loss', 'val_loss'])\n",
        "plt.show()"
      ],
      "execution_count": 15,
      "outputs": [
        {
          "output_type": "display_data",
          "data": {
            "image/png": "[encoded data removed]",
            "text/plain": [
              "<Figure size 432x288 with 1 Axes>"
            ]
          },
          "metadata": {
            "tags": [],
            "needs_background": "light"
          }
        }
      ]
    },
    {
      "cell_type": "code",
      "metadata": {
        "id": "n-UNGhiapRK5",
        "colab_type": "code",
        "colab": {}
      },
      "source": [
        "torch.save(bert_clf, 'bert_clf.pt')"
      ],
      "execution_count": 16,
      "outputs": []
    },
    {
      "cell_type": "code",
      "metadata": {
        "id": "gSHdgt0_p_9a",
        "colab_type": "code",
        "colab": {
          "base_uri": "https://localhost:8080/",
          "height": 300
        },
        "outputId": "a1c6e93d-10cc-4d2f-b88e-babe7f8156c4"
      },
      "source": [
        "from google.colab import files\n",
        "files.download('bert_clf.pt')"
      ],
      "execution_count": 17,
      "outputs": [
        {
          "output_type": "error",
          "ename": "FileNotFoundError",
          "evalue": "ignored",
          "traceback": [
            "\u001b[0;31m---------------------------------------------------------------------------\u001b[0m",
            "\u001b[0;31mFileNotFoundError\u001b[0m                         Traceback (most recent call last)",
            "\u001b[0;32m<ipython-input-17-793d8f915c59>\u001b[0m in \u001b[0;36m<module>\u001b[0;34m()\u001b[0m\n\u001b[1;32m      1\u001b[0m \u001b[0;32mfrom\u001b[0m \u001b[0mgoogle\u001b[0m\u001b[0;34m.\u001b[0m\u001b[0mcolab\u001b[0m \u001b[0;32mimport\u001b[0m \u001b[0mfiles\u001b[0m\u001b[0;34m\u001b[0m\u001b[0;34m\u001b[0m\u001b[0m\n\u001b[0;32m----> 2\u001b[0;31m \u001b[0mfiles\u001b[0m\u001b[0;34m.\u001b[0m\u001b[0mdownload\u001b[0m\u001b[0;34m(\u001b[0m\u001b[0;34m'bert_clf.pt'\u001b[0m\u001b[0;34m)\u001b[0m\u001b[0;34m\u001b[0m\u001b[0;34m\u001b[0m\u001b[0m\n\u001b[0m",
            "\u001b[0;32m/usr/local/lib/python3.6/dist-packages/google/colab/files.py\u001b[0m in \u001b[0;36mdownload\u001b[0;34m(filename)\u001b[0m\n\u001b[1;32m    141\u001b[0m       \u001b[0;32mraise\u001b[0m \u001b[0mOSError\u001b[0m\u001b[0;34m(\u001b[0m\u001b[0mmsg\u001b[0m\u001b[0;34m)\u001b[0m\u001b[0;34m\u001b[0m\u001b[0;34m\u001b[0m\u001b[0m\n\u001b[1;32m    142\u001b[0m     \u001b[0;32melse\u001b[0m\u001b[0;34m:\u001b[0m\u001b[0;34m\u001b[0m\u001b[0;34m\u001b[0m\u001b[0m\n\u001b[0;32m--> 143\u001b[0;31m       \u001b[0;32mraise\u001b[0m \u001b[0mFileNotFoundError\u001b[0m\u001b[0;34m(\u001b[0m\u001b[0mmsg\u001b[0m\u001b[0;34m)\u001b[0m  \u001b[0;31m# pylint: disable=undefined-variable\u001b[0m\u001b[0;34m\u001b[0m\u001b[0;34m\u001b[0m\u001b[0m\n\u001b[0m\u001b[1;32m    144\u001b[0m \u001b[0;34m\u001b[0m\u001b[0m\n\u001b[1;32m    145\u001b[0m   \u001b[0mcomm_manager\u001b[0m \u001b[0;34m=\u001b[0m \u001b[0m_IPython\u001b[0m\u001b[0;34m.\u001b[0m\u001b[0mget_ipython\u001b[0m\u001b[0;34m(\u001b[0m\u001b[0;34m)\u001b[0m\u001b[0;34m.\u001b[0m\u001b[0mkernel\u001b[0m\u001b[0;34m.\u001b[0m\u001b[0mcomm_manager\u001b[0m\u001b[0;34m\u001b[0m\u001b[0;34m\u001b[0m\u001b[0m\n",
            "\u001b[0;31mFileNotFoundError\u001b[0m: Cannot find file: bert_clf.pt"
          ]
        }
      ]
    },
    {
      "cell_type": "code",
      "metadata": {
        "id": "-J4xmxHvS1HE",
        "colab_type": "code",
        "colab": {}
      },
      "source": [
        "from google.colab import files\n",
        "files.download('bert_clf2.pt')"
      ],
      "execution_count": null,
      "outputs": []
    },
    {
      "cell_type": "code",
      "metadata": {
        "id": "8yqNhZIGS2SM",
        "colab_type": "code",
        "colab": {
          "base_uri": "https://localhost:8080/",
          "height": 34
        },
        "outputId": "8eec7bba-83a3-4af1-d3a2-901f78087790"
      },
      "source": [
        "!ls"
      ],
      "execution_count": 1,
      "outputs": [
        {
          "output_type": "stream",
          "text": [
            "sample_data\n"
          ],
          "name": "stdout"
        }
      ]
    },
    {
      "cell_type": "code",
      "metadata": {
        "id": "ZqD_6MaofOOk",
        "colab_type": "code",
        "colab": {}
      },
      "source": [
        ""
      ],
      "execution_count": null,
      "outputs": []
    }
  ]
}