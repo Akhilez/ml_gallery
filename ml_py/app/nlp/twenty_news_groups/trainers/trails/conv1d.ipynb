{
 "cells": [
  {
   "cell_type": "code",
   "execution_count": null,
   "metadata": {
    "colab": {
     "base_uri": "https://localhost:8080/",
     "height": 408
    },
    "colab_type": "code",
    "id": "03YcbT9HSJtw",
    "outputId": "476fe592-edce-4dee-dd87-0ab0e4765119"
   },
   "outputs": [
    {
     "name": "stdout",
     "output_type": "stream",
     "text": [
      "rm: cannot remove '*.csv*': No such file or directory\n",
      "--2020-08-02 20:32:26--  https://storage.googleapis.com/akhilez/datasets/singularity_systems/test_custom.csv\n",
      "Resolving storage.googleapis.com (storage.googleapis.com)... 74.125.31.128, 173.194.216.128, 74.125.26.128, ...\n",
      "Connecting to storage.googleapis.com (storage.googleapis.com)|74.125.31.128|:443... connected.\n",
      "HTTP request sent, awaiting response... 200 OK\n",
      "Length: 4111913 (3.9M) [text/csv]\n",
      "Saving to: ‘test_custom.csv’\n",
      "\n",
      "test_custom.csv     100%[===================>]   3.92M  --.-KB/s    in 0.04s   \n",
      "\n",
      "2020-08-02 20:32:27 (108 MB/s) - ‘test_custom.csv’ saved [4111913/4111913]\n",
      "\n",
      "--2020-08-02 20:32:27--  https://storage.googleapis.com/akhilez/datasets/singularity_systems/train_custom.csv\n",
      "Resolving storage.googleapis.com (storage.googleapis.com)... 172.217.204.128, 172.217.203.128, 74.125.31.128, ...\n",
      "Connecting to storage.googleapis.com (storage.googleapis.com)|172.217.204.128|:443... connected.\n",
      "HTTP request sent, awaiting response... 200 OK\n",
      "Length: 5918888 (5.6M) [text/csv]\n",
      "Saving to: ‘train_custom.csv’\n",
      "\n",
      "train_custom.csv    100%[===================>]   5.64M  --.-KB/s    in 0.08s   \n",
      "\n",
      "2020-08-02 20:32:27 (67.6 MB/s) - ‘train_custom.csv’ saved [5918888/5918888]\n",
      "\n"
     ]
    }
   ],
   "source": [
    "# Downlod the dataset\n",
    "! rm -rf data\n",
    "! rm *.csv*\n",
    "! wget https://storage.googleapis.com/akhilez/datasets/singularity_systems/test_custom.csv\n",
    "! wget https://storage.googleapis.com/akhilez/datasets/singularity_systems/train_custom.csv\n",
    "! mkdir -p data\n",
    "! mv *.csv data/\n"
   ]
  },
  {
   "cell_type": "code",
   "execution_count": null,
   "metadata": {
    "colab": {},
    "colab_type": "code",
    "id": "_VcQjFWpExRC"
   },
   "outputs": [],
   "source": [
    "import tensorflow as tf\n",
    "from tensorflow.keras.layers import Embedding, Dense, GlobalAveragePooling1D, Bidirectional, LSTM, Dropout, Conv1D, MaxPooling1D, Flatten, AveragePooling1D, MaxPooling1D\n",
    "import matplotlib.pyplot as plt\n",
    "import csv\n",
    "import numpy as np\n",
    "from tensorflow.keras.callbacks import Callback\n",
    "import math\n",
    "from tensorflow.keras.losses import categorical_crossentropy"
   ]
  },
  {
   "cell_type": "code",
   "execution_count": null,
   "metadata": {
    "colab": {},
    "colab_type": "code",
    "id": "NI0UVGMxC0OA"
   },
   "outputs": [],
   "source": [
    "class BatchGenerator:\n",
    "\n",
    "    def __init__(self, data_path, batch_size):\n",
    "        self.batch_size = batch_size\n",
    "        self.data_path = data_path\n",
    "        self.n_labels = 20\n",
    "\n",
    "    def get_batch_gen(self, repeat=True):\n",
    "        while True:\n",
    "            with open(self.data_path) as data_file:\n",
    "                reader = csv.reader(data_file)\n",
    "                batch = []\n",
    "                for row in reader:  # TODO: Can the next batch be fetched asynchronously? With asyncio?\n",
    "                    batch.append(row)\n",
    "                    if len(batch) >= self.batch_size:\n",
    "                        batch = self._split_batch(batch)\n",
    "                        yield batch\n",
    "                        batch = []\n",
    "                if 0 < len(batch) < self.batch_size:\n",
    "                    yield self._split_batch(batch)\n",
    "            if not repeat:\n",
    "                break\n",
    "\n",
    "    def _split_batch(self, batch):\n",
    "        batch = np.array(batch, dtype=int)\n",
    "        x = batch[:, :len(batch[0]) - self.n_labels]\n",
    "        y = batch[:, len(batch[0]) - self.n_labels:]\n",
    "        return x, y\n",
    "\n",
    "\n",
    "class Metrics:\n",
    "    def __init__(self):\n",
    "        self.n_classes = 20\n",
    "\n",
    "        self.losses = []\n",
    "        self.accuracies = []\n",
    "        self.f1macros = []\n",
    "\n",
    "        self._epoch_loss = 0\n",
    "        self._epoch_accuracy = 0\n",
    "        self.confusion_matrix = np.zeros((self.n_classes, self.n_classes))\n",
    "\n",
    "        self.n_batches = 0\n",
    "        self.n_epochs = 0\n",
    "\n",
    "    def record_batch(self, loss, yh, y):\n",
    "        self.n_batches += 1\n",
    "        self._epoch_loss += loss\n",
    "        self._epoch_accuracy += self.find_accuracy(yh, y)\n",
    "        self.confusion_matrix += self.get_confusion_matrix(yh, y, self.n_classes)\n",
    "\n",
    "    def record_epoch(self):\n",
    "        self.losses.append(self._epoch_loss / self.n_batches)\n",
    "        self.accuracies.append(self._epoch_accuracy / self.n_batches)\n",
    "        self.f1macros.append(self.get_f1_macro(self.confusion_matrix))\n",
    "\n",
    "        self.n_epochs += 1\n",
    "        self._epoch_loss = 0\n",
    "        self._epoch_accuracy = 0\n",
    "        self.n_batches = 0\n",
    "\n",
    "    @staticmethod\n",
    "    def get_f1_macro(confusion_matrix):\n",
    "        n_classes = len(confusion_matrix)\n",
    "\n",
    "        tp = np.zeros((n_classes,))\n",
    "        fn = np.zeros((n_classes,))\n",
    "        fp = np.zeros((n_classes,))\n",
    "\n",
    "        for i_real in range(n_classes):\n",
    "            for i_pred in range(n_classes):\n",
    "                value = confusion_matrix[i_real][i_pred]\n",
    "                if i_real == i_pred:\n",
    "                    tp[i_real] = value\n",
    "                else:\n",
    "                    fn[i_real] += value\n",
    "                    fp[i_pred] += value\n",
    "\n",
    "        fn[fn == 0] = 1.e-06\n",
    "        fp[fp == 0] = 1.e-06\n",
    "\n",
    "        recall = tp / (tp + fn)\n",
    "        precision = tp / (tp + fp)\n",
    "\n",
    "        p_macro = sum(precision) / n_classes\n",
    "        r_macro = sum(recall) / n_classes\n",
    "\n",
    "        f_macro = 2 * p_macro * r_macro / (p_macro + r_macro)\n",
    "        return f_macro\n",
    "\n",
    "    @staticmethod\n",
    "    def get_confusion_matrix(yh, y, n_classes):\n",
    "        max_yh = yh.argmax(axis=1)\n",
    "        max_y = y.argmax(axis=1)\n",
    "\n",
    "        conf = np.zeros((n_classes, n_classes))\n",
    "        for i in range(len(y)):\n",
    "            conf[max_y[i]][max_yh[i]] += 1\n",
    "        return conf\n",
    "\n",
    "    @staticmethod\n",
    "    def find_accuracy(y_hat, y_real):\n",
    "        return sum(np.argmax(y_hat, axis=1) == np.argmax(y_real, axis=1)) / len(y_hat)\n",
    "\n",
    "\n",
    "class MetricsCallback(Callback):\n",
    "    def __init__(self, metrics_obj, data_gen, steps):\n",
    "        super(MetricsCallback, self).__init__()\n",
    "        self.metrics = metrics_obj\n",
    "        self.data_gen = data_gen\n",
    "        self.steps = steps\n",
    "\n",
    "    def on_epoch_end(self, epoch, logs=None):\n",
    "        for batch_i in range(math.ceil(self.steps)):\n",
    "            x_batch, y_batch = next(self.data_gen)\n",
    "\n",
    "            y_hat = self.model.predict(x_batch)\n",
    "\n",
    "            loss = categorical_crossentropy(y_batch, y_hat)\n",
    "\n",
    "            self.metrics.record_batch(float(sum(loss)), y_hat, y_batch)\n",
    "\n",
    "        self.metrics.record_epoch()\n",
    "\n",
    "        print(f\"\\tval_f1_macro: {self.metrics.f1macros[-1]}\")\n"
   ]
  },
  {
   "cell_type": "code",
   "execution_count": null,
   "metadata": {
    "colab": {},
    "colab_type": "code",
    "id": "FCfEtIXMCq6v"
   },
   "outputs": [],
   "source": [
    "train_batch_size = 30\n",
    "test_batch_size = 30\n",
    "train_size = 11083\n",
    "test_size = 7761\n",
    "train_steps = train_size / train_batch_size\n",
    "test_steps = test_size / test_batch_size\n",
    "\n",
    "train_gen = BatchGenerator(data_path='data/train_custom.csv', batch_size=train_batch_size).get_batch_gen()\n",
    "test_gen = BatchGenerator(data_path='data/test_custom.csv', batch_size=test_batch_size).get_batch_gen()"
   ]
  },
  {
   "cell_type": "code",
   "execution_count": null,
   "metadata": {
    "colab": {},
    "colab_type": "code",
    "id": "meEx6Rf8Co8L"
   },
   "outputs": [],
   "source": [
    "vocab_size = 10000\n",
    "embed_size = 128"
   ]
  },
  {
   "cell_type": "code",
   "execution_count": null,
   "metadata": {
    "colab": {
     "base_uri": "https://localhost:8080/",
     "height": 425
    },
    "colab_type": "code",
    "id": "g6UWJsHJCoq6",
    "outputId": "0e61d97a-f6ca-4ea8-e621-d9a26ae72cf0"
   },
   "outputs": [
    {
     "name": "stdout",
     "output_type": "stream",
     "text": [
      "Model: \"sequential_4\"\n",
      "_________________________________________________________________\n",
      "Layer (type)                 Output Shape              Param #   \n",
      "=================================================================\n",
      "embedding_4 (Embedding)      (None, 150, 128)          1280000   \n",
      "_________________________________________________________________\n",
      "conv1d_4 (Conv1D)            (None, 146, 128)          82048     \n",
      "_________________________________________________________________\n",
      "max_pooling1d_3 (MaxPooling1 (None, 73, 128)           0         \n",
      "_________________________________________________________________\n",
      "dropout_8 (Dropout)          (None, 73, 128)           0         \n",
      "_________________________________________________________________\n",
      "flatten_3 (Flatten)          (None, 9344)              0         \n",
      "_________________________________________________________________\n",
      "dense_8 (Dense)              (None, 128)               1196160   \n",
      "_________________________________________________________________\n",
      "dropout_9 (Dropout)          (None, 128)               0         \n",
      "_________________________________________________________________\n",
      "dense_9 (Dense)              (None, 20)                2580      \n",
      "=================================================================\n",
      "Total params: 2,560,788\n",
      "Trainable params: 2,560,788\n",
      "Non-trainable params: 0\n",
      "_________________________________________________________________\n"
     ]
    }
   ],
   "source": [
    "model = tf.keras.Sequential([\n",
    "    Embedding(vocab_size, embed_size, input_length=150),\n",
    "    #GlobalAveragePooling1D(),\n",
    "    #LSTM(128, activation='relu'),\n",
    "    #Bidirectional(LSTM(64, activation='relu')),\n",
    "    Conv1D(128, 5, activation='relu'),\n",
    "    MaxPooling1D(),\n",
    "    Dropout(0.3),\n",
    "    Flatten(),\n",
    "    Dense(128, activation='relu'),\n",
    "    Dropout(0.3),\n",
    "    Dense(20, activation='softmax')\n",
    "])\n",
    "model.compile(loss='categorical_crossentropy', optimizer='adam', metrics=['accuracy'])\n",
    "model.summary()"
   ]
  },
  {
   "cell_type": "code",
   "execution_count": null,
   "metadata": {
    "colab": {
     "base_uri": "https://localhost:8080/",
     "height": 1000
    },
    "colab_type": "code",
    "id": "32ccRMguCtrL",
    "outputId": "8524e6d2-117d-47ff-f4e4-150d6fc226be"
   },
   "outputs": [
    {
     "name": "stdout",
     "output_type": "stream",
     "text": [
      "Epoch 1/35\n",
      "370/369 [==============================] - ETA: 0s - loss: 2.4001 - accuracy: 0.2309\tval_f1_macro: 0.47115822898529525\n",
      "370/369 [==============================] - 14s 37ms/step - loss: 2.4001 - accuracy: 0.2309 - val_loss: 1.7561 - val_accuracy: 0.4479\n",
      "Epoch 2/35\n",
      "370/369 [==============================] - ETA: 0s - loss: 0.9368 - accuracy: 0.6943\tval_f1_macro: 0.5963013296654888\n",
      "370/369 [==============================] - 14s 37ms/step - loss: 0.9368 - accuracy: 0.6943 - val_loss: 1.0738 - val_accuracy: 0.6933\n",
      "Epoch 3/35\n",
      "370/369 [==============================] - ETA: 0s - loss: 0.4106 - accuracy: 0.8693\tval_f1_macro: 0.6347955776671782\n",
      "370/369 [==============================] - 14s 37ms/step - loss: 0.4106 - accuracy: 0.8693 - val_loss: 1.1787 - val_accuracy: 0.7114\n",
      "Epoch 4/35\n",
      "369/369 [============================>.] - ETA: 0s - loss: 0.2249 - accuracy: 0.9312\tval_f1_macro: 0.6540121477782075\n",
      "370/369 [==============================] - 14s 37ms/step - loss: 0.2252 - accuracy: 0.9312 - val_loss: 1.4876 - val_accuracy: 0.6972\n",
      "Epoch 5/35\n",
      "367/369 [============================>.] - ETA: 0s - loss: 0.1554 - accuracy: 0.9473\tval_f1_macro: 0.6695943436825275\n",
      "370/369 [==============================] - 13s 36ms/step - loss: 0.1552 - accuracy: 0.9474 - val_loss: 1.3397 - val_accuracy: 0.7370\n",
      "Epoch 6/35\n",
      "370/369 [==============================] - ETA: 0s - loss: 0.1041 - accuracy: 0.9657\tval_f1_macro: 0.6793784654990845\n",
      "370/369 [==============================] - 14s 37ms/step - loss: 0.1041 - accuracy: 0.9657 - val_loss: 1.5619 - val_accuracy: 0.7325\n",
      "Epoch 7/35\n",
      "368/369 [============================>.] - ETA: 0s - loss: 0.0854 - accuracy: 0.9725\tval_f1_macro: 0.6888012986024036\n",
      "370/369 [==============================] - 14s 37ms/step - loss: 0.0854 - accuracy: 0.9724 - val_loss: 1.5247 - val_accuracy: 0.7462\n",
      "Epoch 8/35\n",
      "367/369 [============================>.] - ETA: 0s - loss: 0.0661 - accuracy: 0.9774\tval_f1_macro: 0.6966438094008256\n",
      "370/369 [==============================] - 14s 37ms/step - loss: 0.0663 - accuracy: 0.9774 - val_loss: 1.6295 - val_accuracy: 0.7543\n",
      "Epoch 9/35\n",
      "368/369 [============================>.] - ETA: 0s - loss: 0.0684 - accuracy: 0.9782\tval_f1_macro: 0.7030637962928856\n",
      "370/369 [==============================] - 14s 37ms/step - loss: 0.0684 - accuracy: 0.9782 - val_loss: 1.6385 - val_accuracy: 0.7551\n",
      "Epoch 10/35\n",
      "369/369 [============================>.] - ETA: 0s - loss: 0.0533 - accuracy: 0.9824\tval_f1_macro: 0.7084014192536379\n",
      "370/369 [==============================] - 13s 36ms/step - loss: 0.0533 - accuracy: 0.9824 - val_loss: 1.8993 - val_accuracy: 0.7560\n",
      "Epoch 11/35\n",
      "370/369 [==============================] - ETA: 0s - loss: 0.0575 - accuracy: 0.9810\tval_f1_macro: 0.712168293290826\n",
      "370/369 [==============================] - 14s 37ms/step - loss: 0.0575 - accuracy: 0.9810 - val_loss: 1.8293 - val_accuracy: 0.7552\n",
      "Epoch 12/35\n",
      "370/369 [==============================] - ETA: 0s - loss: 0.0505 - accuracy: 0.9848\tval_f1_macro: 0.7151965164818886\n",
      "370/369 [==============================] - 14s 37ms/step - loss: 0.0505 - accuracy: 0.9848 - val_loss: 2.1225 - val_accuracy: 0.7473\n",
      "Epoch 13/35\n",
      "370/369 [==============================] - ETA: 0s - loss: 0.0377 - accuracy: 0.9875\tval_f1_macro: 0.7183910485440057\n",
      "370/369 [==============================] - 13s 36ms/step - loss: 0.0377 - accuracy: 0.9875 - val_loss: 1.9055 - val_accuracy: 0.7643\n",
      "Epoch 14/35\n",
      "369/369 [============================>.] - ETA: 0s - loss: 0.0466 - accuracy: 0.9861\tval_f1_macro: 0.7209152913286083\n",
      "370/369 [==============================] - 14s 37ms/step - loss: 0.0465 - accuracy: 0.9861 - val_loss: 2.0017 - val_accuracy: 0.7561\n",
      "Epoch 15/35\n",
      "370/369 [==============================] - ETA: 0s - loss: 0.0399 - accuracy: 0.9874\tval_f1_macro: 0.7226401250903585\n",
      "370/369 [==============================] - 14s 37ms/step - loss: 0.0399 - accuracy: 0.9874 - val_loss: 2.2060 - val_accuracy: 0.7482\n",
      "Epoch 16/35\n",
      "370/369 [==============================] - ETA: 0s - loss: 0.0315 - accuracy: 0.9886\tval_f1_macro: 0.7245553276279553\n",
      "370/369 [==============================] - 13s 36ms/step - loss: 0.0315 - accuracy: 0.9886 - val_loss: 2.3705 - val_accuracy: 0.7505\n",
      "Epoch 17/35\n",
      "369/369 [============================>.] - ETA: 0s - loss: 0.0335 - accuracy: 0.9903\tval_f1_macro: 0.7257852021048756\n",
      "370/369 [==============================] - 14s 39ms/step - loss: 0.0336 - accuracy: 0.9903 - val_loss: 2.3518 - val_accuracy: 0.7413\n",
      "Epoch 18/35\n",
      "370/369 [==============================] - ETA: 0s - loss: 0.0362 - accuracy: 0.9887\tval_f1_macro: 0.7275388027565142\n",
      "370/369 [==============================] - 14s 37ms/step - loss: 0.0362 - accuracy: 0.9887 - val_loss: 2.4596 - val_accuracy: 0.7545\n",
      "Epoch 19/35\n",
      "369/369 [============================>.] - ETA: 0s - loss: 0.0329 - accuracy: 0.9903\tval_f1_macro: 0.7291357258730415\n",
      "370/369 [==============================] - 14s 37ms/step - loss: 0.0331 - accuracy: 0.9903 - val_loss: 2.3672 - val_accuracy: 0.7574\n",
      "Epoch 20/35\n",
      "370/369 [==============================] - ETA: 0s - loss: 0.0317 - accuracy: 0.9899\tval_f1_macro: 0.7306739336357518\n",
      "370/369 [==============================] - 14s 37ms/step - loss: 0.0317 - accuracy: 0.9899 - val_loss: 2.4506 - val_accuracy: 0.7658\n",
      "Epoch 21/35\n",
      "369/369 [============================>.] - ETA: 0s - loss: 0.0275 - accuracy: 0.9907\tval_f1_macro: 0.7319074975551523\n",
      "370/369 [==============================] - 14s 37ms/step - loss: 0.0277 - accuracy: 0.9905 - val_loss: 2.5631 - val_accuracy: 0.7561\n",
      "Epoch 22/35\n",
      "368/369 [============================>.] - ETA: 0s - loss: 0.0360 - accuracy: 0.9889\tval_f1_macro: 0.7328843311142594\n",
      "370/369 [==============================] - 13s 36ms/step - loss: 0.0361 - accuracy: 0.9889 - val_loss: 2.6396 - val_accuracy: 0.7570\n",
      "Epoch 23/35\n",
      "368/369 [============================>.] - ETA: 0s - loss: 0.0249 - accuracy: 0.9915\tval_f1_macro: 0.734211289222236\n",
      "370/369 [==============================] - 14s 37ms/step - loss: 0.0248 - accuracy: 0.9915 - val_loss: 2.5147 - val_accuracy: 0.7700\n",
      "Epoch 24/35\n",
      "370/369 [==============================] - ETA: 0s - loss: 0.0241 - accuracy: 0.9936\tval_f1_macro: 0.7352461151043127\n",
      "370/369 [==============================] - 13s 36ms/step - loss: 0.0241 - accuracy: 0.9936 - val_loss: 2.7613 - val_accuracy: 0.7605\n",
      "Epoch 25/35\n",
      "370/369 [==============================] - ETA: 0s - loss: 0.0356 - accuracy: 0.9912\tval_f1_macro: 0.7362394649108251\n",
      "370/369 [==============================] - 13s 36ms/step - loss: 0.0356 - accuracy: 0.9912 - val_loss: 2.5776 - val_accuracy: 0.7605\n",
      "Epoch 26/35\n",
      "369/369 [============================>.] - ETA: 0s - loss: 0.0182 - accuracy: 0.9946\tval_f1_macro: 0.7374149880097675\n",
      "370/369 [==============================] - 14s 37ms/step - loss: 0.0182 - accuracy: 0.9946 - val_loss: 2.7641 - val_accuracy: 0.7694\n",
      "Epoch 27/35\n",
      "369/369 [============================>.] - ETA: 0s - loss: 0.0151 - accuracy: 0.9946\tval_f1_macro: 0.7382282539940637\n",
      "370/369 [==============================] - 14s 37ms/step - loss: 0.0151 - accuracy: 0.9946 - val_loss: 3.1680 - val_accuracy: 0.7558\n",
      "Epoch 28/35\n",
      "367/369 [============================>.] - ETA: 0s - loss: 0.0217 - accuracy: 0.9935\tval_f1_macro: 0.7392491284771854\n",
      "370/369 [==============================] - 13s 36ms/step - loss: 0.0220 - accuracy: 0.9934 - val_loss: 2.9035 - val_accuracy: 0.7687\n",
      "Epoch 29/35\n",
      "368/369 [============================>.] - ETA: 0s - loss: 0.0207 - accuracy: 0.9938\tval_f1_macro: 0.7392694425739523\n",
      "370/369 [==============================] - 14s 37ms/step - loss: 0.0211 - accuracy: 0.9937 - val_loss: 3.3835 - val_accuracy: 0.7445\n",
      "Epoch 30/35\n",
      "368/369 [============================>.] - ETA: 0s - loss: 0.0261 - accuracy: 0.9936\tval_f1_macro: 0.7398260648016219\n",
      "370/369 [==============================] - 13s 36ms/step - loss: 0.0261 - accuracy: 0.9937 - val_loss: 2.9952 - val_accuracy: 0.7587\n",
      "Epoch 31/35\n",
      "370/369 [==============================] - ETA: 0s - loss: 0.0221 - accuracy: 0.9935\tval_f1_macro: 0.7398065902341322\n",
      "370/369 [==============================] - 13s 36ms/step - loss: 0.0221 - accuracy: 0.9935 - val_loss: 3.3867 - val_accuracy: 0.7422\n",
      "Epoch 32/35\n",
      "368/369 [============================>.] - ETA: 0s - loss: 0.0107 - accuracy: 0.9970\tval_f1_macro: 0.7404759820184562\n",
      "370/369 [==============================] - 14s 37ms/step - loss: 0.0106 - accuracy: 0.9970 - val_loss: 3.0187 - val_accuracy: 0.7632\n",
      "Epoch 33/35\n",
      "368/369 [============================>.] - ETA: 0s - loss: 0.0157 - accuracy: 0.9947\tval_f1_macro: 0.7410681117775939\n",
      "370/369 [==============================] - 14s 37ms/step - loss: 0.0157 - accuracy: 0.9948 - val_loss: 3.1071 - val_accuracy: 0.7663\n",
      "Epoch 34/35\n",
      "367/369 [============================>.] - ETA: 0s - loss: 0.0168 - accuracy: 0.9960\tval_f1_macro: 0.7415345514635161\n",
      "370/369 [==============================] - 14s 37ms/step - loss: 0.0179 - accuracy: 0.9958 - val_loss: 3.3460 - val_accuracy: 0.7605\n",
      "Epoch 35/35\n",
      "370/369 [==============================] - ETA: 0s - loss: 0.0322 - accuracy: 0.9912\tval_f1_macro: 0.741941412762762\n",
      "370/369 [==============================] - 14s 37ms/step - loss: 0.0322 - accuracy: 0.9912 - val_loss: 3.3526 - val_accuracy: 0.7593\n"
     ]
    }
   ],
   "source": [
    "epochs = 35\n",
    "metrics = Metrics()\n",
    "history = model.fit(\n",
    "    train_gen, steps_per_epoch=train_steps, epochs=epochs,\n",
    "    validation_data=test_gen, validation_steps=test_steps, callbacks=[MetricsCallback(metrics, test_gen, test_steps)])"
   ]
  },
  {
   "cell_type": "code",
   "execution_count": null,
   "metadata": {
    "colab": {
     "base_uri": "https://localhost:8080/",
     "height": 542
    },
    "colab_type": "code",
    "id": "NetGg_y82BMA",
    "outputId": "215ac197-a76b-481c-d309-2760ade88554"
   },
   "outputs": [
    {
     "data": {
      "image/png": "[encoded data removed]",
      "text/plain": [
       "<Figure size 432x288 with 1 Axes>"
      ]
     },
     "metadata": {
      "needs_background": "light",
      "tags": []
     },
     "output_type": "display_data"
    },
    {
     "data": {
      "image/png": "[encoded data removed]",
      "text/plain": [
       "<Figure size 432x288 with 1 Axes>"
      ]
     },
     "metadata": {
      "needs_background": "light",
      "tags": []
     },
     "output_type": "display_data"
    }
   ],
   "source": [
    "def plot_graphs(history, string, metrics=None):\n",
    "    legend = [string, 'val_' + string]\n",
    "    plt.plot(history.history[string])\n",
    "    plt.plot(history.history['val_' + string])\n",
    "    if string == 'accuracy':\n",
    "        plt.plot(metrics.f1macros)\n",
    "        legend.append('f1_macro')\n",
    "    plt.xlabel(\"Epochs\")\n",
    "    plt.ylabel(string)\n",
    "    plt.legend(legend)\n",
    "    plt.show()\n",
    "\n",
    "plot_graphs(history, \"accuracy\", metrics)\n",
    "plot_graphs(history, \"loss\")\n"
   ]
  },
  {
   "cell_type": "code",
   "execution_count": null,
   "metadata": {
    "colab": {},
    "colab_type": "code",
    "id": "rTG7UhTCEMKN"
   },
   "outputs": [],
   "source": [
    "model.save('linear.h5')"
   ]
  },
  {
   "cell_type": "code",
   "execution_count": null,
   "metadata": {
    "colab": {},
    "colab_type": "code",
    "id": "ySfoVlmo_Xrl"
   },
   "outputs": [],
   "source": [
    "#from google.colab import files\n",
    "#files.download('linear.h5')"
   ]
  },
  {
   "cell_type": "code",
   "execution_count": null,
   "metadata": {
    "colab": {},
    "colab_type": "code",
    "id": "Eqjjr81PDer9"
   },
   "outputs": [],
   "source": []
  }
 ],
 "metadata": {
  "accelerator": "GPU",
  "colab": {
   "collapsed_sections": [],
   "name": "custom_test3.ipynb",
   "provenance": []
  },
  "kernelspec": {
   "display_name": "Python 3",
   "language": "python",
   "name": "python3"
  },
  "language_info": {
   "codemirror_mode": {
    "name": "ipython",
    "version": 3
   },
   "file_extension": ".py",
   "mimetype": "text/x-python",
   "name": "python",
   "nbconvert_exporter": "python",
   "pygments_lexer": "ipython3",
   "version": "3.8.4"
  }
 },
 "nbformat": 4,
 "nbformat_minor": 1
}
