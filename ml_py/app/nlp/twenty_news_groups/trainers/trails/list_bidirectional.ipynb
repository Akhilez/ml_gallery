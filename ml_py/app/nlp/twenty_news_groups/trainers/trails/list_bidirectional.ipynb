{
  "nbformat": 4,
  "nbformat_minor": 0,
  "metadata": {
    "colab": {
      "name": "custom_test1.ipynb",
      "provenance": [],
      "collapsed_sections": []
    },
    "kernelspec": {
      "name": "python3",
      "display_name": "Python 3"
    },
    "accelerator": "GPU"
  },
  "cells": [
    {
      "cell_type": "code",
      "metadata": {
        "id": "03YcbT9HSJtw",
        "colab_type": "code",
        "colab": {
          "base_uri": "https://localhost:8080/",
          "height": 408
        },
        "outputId": "9dcfacce-d21f-405e-8ad2-81caeea6a21b"
      },
      "source": [
        "# Downlod the dataset\n",
        "! rm -rf data\n",
        "! rm *.csv*\n",
        "! wget https://storage.googleapis.com/akhilez/datasets/singularity_systems/test_custom.csv\n",
        "! wget https://storage.googleapis.com/akhilez/datasets/singularity_systems/train_custom.csv\n",
        "! mkdir -p data\n",
        "! mv *.csv data/\n"
      ],
      "execution_count": 1,
      "outputs": [
        {
          "output_type": "stream",
          "text": [
            "rm: cannot remove '*.csv*': No such file or directory\n",
            "--2020-08-02 00:55:24--  https://storage.googleapis.com/akhilez/datasets/singularity_systems/test_custom.csv\n",
            "Resolving storage.googleapis.com (storage.googleapis.com)... 74.125.142.128, 74.125.195.128, 74.125.20.128, ...\n",
            "Connecting to storage.googleapis.com (storage.googleapis.com)|74.125.142.128|:443... connected.\n",
            "HTTP request sent, awaiting response... 200 OK\n",
            "Length: 4111913 (3.9M) [text/csv]\n",
            "Saving to: ‘test_custom.csv’\n",
            "\n",
            "test_custom.csv     100%[===================>]   3.92M  --.-KB/s    in 0.01s   \n",
            "\n",
            "2020-08-02 00:55:24 (281 MB/s) - ‘test_custom.csv’ saved [4111913/4111913]\n",
            "\n",
            "--2020-08-02 00:55:25--  https://storage.googleapis.com/akhilez/datasets/singularity_systems/train_custom.csv\n",
            "Resolving storage.googleapis.com (storage.googleapis.com)... 74.125.20.128, 74.125.142.128, 74.125.195.128, ...\n",
            "Connecting to storage.googleapis.com (storage.googleapis.com)|74.125.20.128|:443... connected.\n",
            "HTTP request sent, awaiting response... 200 OK\n",
            "Length: 5918888 (5.6M) [text/csv]\n",
            "Saving to: ‘train_custom.csv’\n",
            "\n",
            "train_custom.csv    100%[===================>]   5.64M  --.-KB/s    in 0.03s   \n",
            "\n",
            "2020-08-02 00:55:25 (209 MB/s) - ‘train_custom.csv’ saved [5918888/5918888]\n",
            "\n"
          ],
          "name": "stdout"
        }
      ]
    },
    {
      "cell_type": "code",
      "metadata": {
        "id": "_VcQjFWpExRC",
        "colab_type": "code",
        "colab": {}
      },
      "source": [
        "import tensorflow as tf\n",
        "from tensorflow.keras.layers import Embedding, Dense, GlobalAveragePooling1D, Bidirectional, LSTM, Dropout, Conv1D, MaxPooling1D, Flatten, AveragePooling1D, MaxPooling1D\n",
        "import matplotlib.pyplot as plt\n",
        "import csv\n",
        "import numpy as np"
      ],
      "execution_count": 2,
      "outputs": []
    },
    {
      "cell_type": "code",
      "metadata": {
        "id": "NI0UVGMxC0OA",
        "colab_type": "code",
        "colab": {}
      },
      "source": [
        "class BatchGenerator:\n",
        "\n",
        "    def __init__(self, data_path, batch_size):\n",
        "        self.batch_size = batch_size\n",
        "        self.data_path = data_path\n",
        "        self.n_labels = 20\n",
        "\n",
        "    def get_batch_gen(self, repeat=True):\n",
        "        while True:\n",
        "            with open(self.data_path) as data_file:\n",
        "                reader = csv.reader(data_file)\n",
        "                batch = []\n",
        "                for row in reader:  # TODO: Can the next batch be fetched asynchronously? With asyncio?\n",
        "                    batch.append(row)\n",
        "                    if len(batch) >= self.batch_size:\n",
        "                        batch = self._split_batch(batch)\n",
        "                        yield batch\n",
        "                        batch = []\n",
        "                if 0 < len(batch) < self.batch_size:\n",
        "                    yield self._split_batch(batch)\n",
        "            if not repeat:\n",
        "                break\n",
        "\n",
        "    def _split_batch(self, batch):\n",
        "        batch = np.array(batch, dtype=int)\n",
        "        x = batch[:, :len(batch[0]) - self.n_labels]\n",
        "        y = batch[:, len(batch[0]) - self.n_labels:]\n",
        "        return x, y\n"
      ],
      "execution_count": 3,
      "outputs": []
    },
    {
      "cell_type": "code",
      "metadata": {
        "id": "FCfEtIXMCq6v",
        "colab_type": "code",
        "colab": {}
      },
      "source": [
        "train_batch_size = 30\n",
        "test_batch_size = 30\n",
        "train_size = 11083\n",
        "test_size = 7761\n",
        "train_steps = train_size / train_batch_size\n",
        "test_steps = test_size / test_batch_size\n",
        "\n",
        "train_gen = BatchGenerator(data_path='data/train_custom.csv', batch_size=train_batch_size).get_batch_gen()\n",
        "test_gen = BatchGenerator(data_path='data/test_custom.csv', batch_size=test_batch_size).get_batch_gen()"
      ],
      "execution_count": 4,
      "outputs": []
    },
    {
      "cell_type": "code",
      "metadata": {
        "id": "meEx6Rf8Co8L",
        "colab_type": "code",
        "colab": {}
      },
      "source": [
        "vocab_size = 10000\n",
        "embed_size = 64"
      ],
      "execution_count": 5,
      "outputs": []
    },
    {
      "cell_type": "code",
      "metadata": {
        "id": "g6UWJsHJCoq6",
        "colab_type": "code",
        "colab": {
          "base_uri": "https://localhost:8080/",
          "height": 408
        },
        "outputId": "ddac2ded-bd45-4745-874b-06fa4256bae2"
      },
      "source": [
        "model = tf.keras.Sequential([\n",
        "    Embedding(vocab_size, embed_size, input_length=150),\n",
        "    #GlobalAveragePooling1D(),\n",
        "    #LSTM(128, activation='relu'),\n",
        "    Bidirectional(LSTM(64, activation='relu')),\n",
        "    Dropout(0.3),\n",
        "    Dense(128, activation='relu'),\n",
        "    Dropout(0.3),\n",
        "    Dense(20, activation='softmax')\n",
        "])\n",
        "model.compile(loss='categorical_crossentropy', optimizer='adam', metrics=['accuracy'])\n",
        "model.summary()"
      ],
      "execution_count": 6,
      "outputs": [
        {
          "output_type": "stream",
          "text": [
            "WARNING:tensorflow:Layer lstm will not use cuDNN kernel since it doesn't meet the cuDNN kernel criteria. It will use generic GPU kernel as fallback when running on GPU\n",
            "WARNING:tensorflow:Layer lstm will not use cuDNN kernel since it doesn't meet the cuDNN kernel criteria. It will use generic GPU kernel as fallback when running on GPU\n",
            "WARNING:tensorflow:Layer lstm will not use cuDNN kernel since it doesn't meet the cuDNN kernel criteria. It will use generic GPU kernel as fallback when running on GPU\n",
            "Model: \"sequential\"\n",
            "_________________________________________________________________\n",
            "Layer (type)                 Output Shape              Param #   \n",
            "=================================================================\n",
            "embedding (Embedding)        (None, 150, 64)           640000    \n",
            "_________________________________________________________________\n",
            "bidirectional (Bidirectional (None, 128)               66048     \n",
            "_________________________________________________________________\n",
            "dropout (Dropout)            (None, 128)               0         \n",
            "_________________________________________________________________\n",
            "dense (Dense)                (None, 128)               16512     \n",
            "_________________________________________________________________\n",
            "dropout_1 (Dropout)          (None, 128)               0         \n",
            "_________________________________________________________________\n",
            "dense_1 (Dense)              (None, 20)                2580      \n",
            "=================================================================\n",
            "Total params: 725,140\n",
            "Trainable params: 725,140\n",
            "Non-trainable params: 0\n",
            "_________________________________________________________________\n"
          ],
          "name": "stdout"
        }
      ]
    },
    {
      "cell_type": "code",
      "metadata": {
        "id": "32ccRMguCtrL",
        "colab_type": "code",
        "colab": {
          "base_uri": "https://localhost:8080/",
          "height": 1000
        },
        "outputId": "7aec6ee7-299f-4a78-e2fb-148e080774a5"
      },
      "source": [
        "epochs = 50\n",
        "history = model.fit(\n",
        "    train_gen, steps_per_epoch=train_steps, epochs=epochs,\n",
        "    validation_data=test_gen, validation_steps=test_steps)"
      ],
      "execution_count": 8,
      "outputs": [
        {
          "output_type": "stream",
          "text": [
            "Epoch 1/50\n",
            "370/369 [==============================] - 154s 418ms/step - loss: 2.3786 - accuracy: 0.3050 - val_loss: 2.4465 - val_accuracy: 0.2855\n",
            "Epoch 2/50\n",
            "370/369 [==============================] - 155s 418ms/step - loss: 2.3574 - accuracy: 0.4141 - val_loss: 2.2401 - val_accuracy: 0.3497\n",
            "Epoch 3/50\n",
            "370/369 [==============================] - 155s 419ms/step - loss: 11984898621440.0000 - accuracy: 0.4355 - val_loss: 2.3537 - val_accuracy: 0.3211\n",
            "Epoch 4/50\n",
            "370/369 [==============================] - 156s 421ms/step - loss: 2490918.0000 - accuracy: 0.4354 - val_loss: 2.2323 - val_accuracy: 0.3576\n",
            "Epoch 5/50\n",
            "370/369 [==============================] - 156s 421ms/step - loss: 1.6346 - accuracy: 0.4954 - val_loss: 2.1732 - val_accuracy: 0.3823\n",
            "Epoch 6/50\n",
            "370/369 [==============================] - 157s 423ms/step - loss: 123.7071 - accuracy: 0.5317 - val_loss: 2.1226 - val_accuracy: 0.4082\n",
            "Epoch 7/50\n",
            "370/369 [==============================] - 155s 419ms/step - loss: 1.4146 - accuracy: 0.5743 - val_loss: 1577.3716 - val_accuracy: 0.4210\n",
            "Epoch 8/50\n",
            "370/369 [==============================] - 156s 422ms/step - loss: 151.4099 - accuracy: 0.6082 - val_loss: 40209862656.0000 - val_accuracy: 0.4337\n",
            "Epoch 9/50\n",
            "370/369 [==============================] - 156s 421ms/step - loss: 13163218944.0000 - accuracy: 0.6231 - val_loss: 24348.6484 - val_accuracy: 0.4327\n",
            "Epoch 10/50\n",
            "370/369 [==============================] - 155s 420ms/step - loss: 331.2109 - accuracy: 0.6583 - val_loss: 1092.6864 - val_accuracy: 0.4448\n",
            "Epoch 11/50\n",
            "370/369 [==============================] - 156s 423ms/step - loss: 1942.5878 - accuracy: 0.6817 - val_loss: 3118.5198 - val_accuracy: 0.4574\n",
            "Epoch 12/50\n",
            "370/369 [==============================] - 157s 424ms/step - loss: 549.6607 - accuracy: 0.6980 - val_loss: 2551.2729 - val_accuracy: 0.4618\n",
            "Epoch 13/50\n",
            "370/369 [==============================] - 158s 427ms/step - loss: 40252.3906 - accuracy: 0.7124 - val_loss: 308.5197 - val_accuracy: 0.4664\n",
            "Epoch 14/50\n",
            "370/369 [==============================] - 159s 429ms/step - loss: 131.4557 - accuracy: 0.7286 - val_loss: 298.6285 - val_accuracy: 0.4724\n",
            "Epoch 15/50\n",
            "370/369 [==============================] - 157s 425ms/step - loss: 159.2457 - accuracy: 0.7420 - val_loss: 392.4300 - val_accuracy: 0.4751\n",
            "Epoch 16/50\n",
            "370/369 [==============================] - 158s 427ms/step - loss: 246.8021 - accuracy: 0.7552 - val_loss: 107.6793 - val_accuracy: 0.4811\n",
            "Epoch 17/50\n",
            "370/369 [==============================] - 156s 423ms/step - loss: 128.4682 - accuracy: 0.7668 - val_loss: 221.7167 - val_accuracy: 0.4785\n",
            "Epoch 18/50\n",
            "370/369 [==============================] - 157s 424ms/step - loss: 66.7611 - accuracy: 0.7708 - val_loss: 279.0060 - val_accuracy: 0.4819\n",
            "Epoch 19/50\n",
            "370/369 [==============================] - 155s 419ms/step - loss: 5.7067 - accuracy: 0.7826 - val_loss: 4135.1021 - val_accuracy: 0.4850\n",
            "Epoch 20/50\n",
            "370/369 [==============================] - 159s 429ms/step - loss: 3.5323 - accuracy: 0.7974 - val_loss: 3446.8115 - val_accuracy: 0.4849\n",
            "Epoch 21/50\n",
            "370/369 [==============================] - 158s 428ms/step - loss: 30.5890 - accuracy: 0.7986 - val_loss: 5678.0308 - val_accuracy: 0.4873\n",
            "Epoch 22/50\n",
            "370/369 [==============================] - 159s 429ms/step - loss: 302.9300 - accuracy: 0.8142 - val_loss: 3940.2717 - val_accuracy: 0.4871\n",
            "Epoch 23/50\n",
            "370/369 [==============================] - 158s 427ms/step - loss: 64.3534 - accuracy: 0.8145 - val_loss: 4168.3105 - val_accuracy: 0.4910\n",
            "Epoch 24/50\n",
            "370/369 [==============================] - 158s 426ms/step - loss: 348.0144 - accuracy: 0.8241 - val_loss: 95.0822 - val_accuracy: 0.4954\n",
            "Epoch 25/50\n",
            "370/369 [==============================] - 159s 429ms/step - loss: 0.6158 - accuracy: 0.8293 - val_loss: 224.7670 - val_accuracy: 0.4971\n",
            "Epoch 26/50\n",
            "370/369 [==============================] - 158s 428ms/step - loss: 418.4560 - accuracy: 0.8316 - val_loss: 397.2347 - val_accuracy: 0.4984\n",
            "Epoch 27/50\n",
            "370/369 [==============================] - 158s 427ms/step - loss: 191.0918 - accuracy: 0.8370 - val_loss: 273.2544 - val_accuracy: 0.4989\n",
            "Epoch 28/50\n",
            "370/369 [==============================] - 159s 429ms/step - loss: 1.1625 - accuracy: 0.8461 - val_loss: 329.2212 - val_accuracy: 0.4975\n",
            "Epoch 29/50\n",
            "370/369 [==============================] - 159s 430ms/step - loss: 4.4336 - accuracy: 0.8514 - val_loss: 464.5910 - val_accuracy: 0.4970\n",
            "Epoch 30/50\n",
            "370/369 [==============================] - 158s 428ms/step - loss: 22.7981 - accuracy: 0.8495 - val_loss: 450.4512 - val_accuracy: 0.4974\n",
            "Epoch 31/50\n",
            "370/369 [==============================] - 159s 431ms/step - loss: 470.7644 - accuracy: 0.8547 - val_loss: 21145590.0000 - val_accuracy: 0.4995\n",
            "Epoch 32/50\n",
            "370/369 [==============================] - 158s 427ms/step - loss: 1184.0254 - accuracy: 0.8530 - val_loss: 12.8878 - val_accuracy: 0.4967\n",
            "Epoch 33/50\n",
            "370/369 [==============================] - 159s 429ms/step - loss: 0.5312 - accuracy: 0.8582 - val_loss: 2.7640 - val_accuracy: 0.4972\n",
            "Epoch 34/50\n",
            "370/369 [==============================] - 158s 427ms/step - loss: 0.4540 - accuracy: 0.8627 - val_loss: 21.8666 - val_accuracy: 0.5042\n",
            "Epoch 35/50\n",
            "370/369 [==============================] - 159s 431ms/step - loss: 0.4853 - accuracy: 0.8654 - val_loss: 22.5673 - val_accuracy: 0.5001\n",
            "Epoch 36/50\n",
            "370/369 [==============================] - 160s 432ms/step - loss: 0.4291 - accuracy: 0.8715 - val_loss: 44.6663 - val_accuracy: 0.4970\n",
            "Epoch 37/50\n",
            "370/369 [==============================] - 160s 432ms/step - loss: 0.4180 - accuracy: 0.8756 - val_loss: 3.6565 - val_accuracy: 0.4975\n",
            "Epoch 38/50\n",
            "370/369 [==============================] - 159s 429ms/step - loss: 0.4043 - accuracy: 0.8767 - val_loss: 4.0247 - val_accuracy: 0.4976\n",
            "Epoch 39/50\n",
            "370/369 [==============================] - 159s 430ms/step - loss: 0.4322 - accuracy: 0.8818 - val_loss: 508.0561 - val_accuracy: 0.4980\n",
            "Epoch 40/50\n",
            "370/369 [==============================] - 159s 431ms/step - loss: 0.5316 - accuracy: 0.8791 - val_loss: 74.1558 - val_accuracy: 0.4998\n",
            "Epoch 41/50\n",
            "370/369 [==============================] - 160s 431ms/step - loss: 0.3874 - accuracy: 0.8862 - val_loss: 514.9374 - val_accuracy: 0.5017\n",
            "Epoch 42/50\n",
            "370/369 [==============================] - 158s 428ms/step - loss: 0.3894 - accuracy: 0.8887 - val_loss: 32.2762 - val_accuracy: 0.4981\n",
            "Epoch 43/50\n",
            "370/369 [==============================] - 159s 431ms/step - loss: 4.4820 - accuracy: 0.8947 - val_loss: 142.0993 - val_accuracy: 0.4997\n",
            "Epoch 44/50\n",
            "370/369 [==============================] - 159s 429ms/step - loss: 8.4606 - accuracy: 0.8936 - val_loss: 76.3505 - val_accuracy: 0.5023\n",
            "Epoch 45/50\n",
            "370/369 [==============================] - 159s 430ms/step - loss: 1.1292 - accuracy: 0.8954 - val_loss: 205.5357 - val_accuracy: 0.5029\n",
            "Epoch 46/50\n",
            "370/369 [==============================] - 159s 429ms/step - loss: 0.6463 - accuracy: 0.8974 - val_loss: 132.8186 - val_accuracy: 0.5064\n",
            "Epoch 47/50\n",
            "370/369 [==============================] - 159s 431ms/step - loss: 0.5856 - accuracy: 0.8983 - val_loss: 586.3020 - val_accuracy: 0.5037\n",
            "Epoch 48/50\n",
            "370/369 [==============================] - 160s 432ms/step - loss: 34.9057 - accuracy: 0.9009 - val_loss: 4.4671 - val_accuracy: 0.4992\n",
            "Epoch 49/50\n",
            "370/369 [==============================] - 160s 433ms/step - loss: 0.3197 - accuracy: 0.9027 - val_loss: 3.6708 - val_accuracy: 0.5026\n",
            "Epoch 50/50\n",
            "370/369 [==============================] - 160s 434ms/step - loss: 0.3183 - accuracy: 0.9012 - val_loss: 3.5301 - val_accuracy: 0.5026\n"
          ],
          "name": "stdout"
        }
      ]
    },
    {
      "cell_type": "code",
      "metadata": {
        "id": "NetGg_y82BMA",
        "colab_type": "code",
        "colab": {
          "base_uri": "https://localhost:8080/",
          "height": 552
        },
        "outputId": "1522eff9-7384-497c-bd2a-6e920c154324"
      },
      "source": [
        "def plot_graphs(history, string):\n",
        "  plt.plot(history.history[string])\n",
        "  plt.plot(history.history['val_'+string])\n",
        "  plt.xlabel(\"Epochs\")\n",
        "  plt.ylabel(string)\n",
        "  plt.legend([string, 'val_'+string])\n",
        "  plt.show()\n",
        "\n",
        "plot_graphs(history, \"accuracy\")\n",
        "plot_graphs(history, \"loss\")\n"
      ],
      "execution_count": 9,
      "outputs": [
        {
          "output_type": "display_data",
          "data": {
            "image/png": "[encoded data removed]",
            "text/plain": [
              "<Figure size 432x288 with 1 Axes>"
            ]
          },
          "metadata": {
            "tags": [],
            "needs_background": "light"
          }
        },
        {
          "output_type": "display_data",
          "data": {
            "image/png": "[encoded data removed]",
            "text/plain": [
              "<Figure size 432x288 with 1 Axes>"
            ]
          },
          "metadata": {
            "tags": [],
            "needs_background": "light"
          }
        }
      ]
    },
    {
      "cell_type": "code",
      "metadata": {
        "id": "rTG7UhTCEMKN",
        "colab_type": "code",
        "colab": {}
      },
      "source": [
        "model.save('linear.h5')"
      ],
      "execution_count": null,
      "outputs": []
    },
    {
      "cell_type": "code",
      "metadata": {
        "id": "ySfoVlmo_Xrl",
        "colab_type": "code",
        "colab": {}
      },
      "source": [
        "from google.colab import files\n",
        "files.download('linear.h5')"
      ],
      "execution_count": null,
      "outputs": []
    },
    {
      "cell_type": "code",
      "metadata": {
        "id": "Eqjjr81PDer9",
        "colab_type": "code",
        "colab": {}
      },
      "source": [
        ""
      ],
      "execution_count": null,
      "outputs": []
    }
  ]
}