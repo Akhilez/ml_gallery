{
 "nbformat": 4,
 "nbformat_minor": 0,
 "metadata": {
  "colab": {
   "name": "custom_test2.ipynb",
   "provenance": [],
   "collapsed_sections": []
  },
  "kernelspec": {
   "name": "python3",
   "display_name": "Python 3"
  },
  "accelerator": "GPU"
 },
 "cells": [
  {
   "cell_type": "code",
   "metadata": {
    "id": "03YcbT9HSJtw",
    "colab_type": "code",
    "colab": {
     "base_uri": "https://localhost:8080/",
     "height": 408
    },
    "outputId": "41a16b6f-c71a-42cf-e7f0-e6a719509b11"
   },
   "source": [
    "# Downlod the dataset\n",
    "! rm -rf data\n",
    "! rm *.csv*\n",
    "! wget https://storage.googleapis.com/akhilez/datasets/singularity_systems/test_custom.csv\n",
    "! wget https://storage.googleapis.com/akhilez/datasets/singularity_systems/train_custom.csv\n",
    "! mkdir -p data\n",
    "! mv *.csv data/\n"
   ],
   "execution_count": 2,
   "outputs": [
    {
     "output_type": "stream",
     "text": [
      "rm: cannot remove '*.csv*': No such file or directory\n",
      "--2020-08-02 00:57:40--  https://storage.googleapis.com/akhilez/datasets/singularity_systems/test_custom.csv\n",
      "Resolving storage.googleapis.com (storage.googleapis.com)... 173.194.203.128, 74.125.20.128, 74.125.197.128, ...\n",
      "Connecting to storage.googleapis.com (storage.googleapis.com)|173.194.203.128|:443... connected.\n",
      "HTTP request sent, awaiting response... 200 OK\n",
      "Length: 4111913 (3.9M) [text/csv]\n",
      "Saving to: ‘test_custom.csv’\n",
      "\n",
      "test_custom.csv     100%[===================>]   3.92M  --.-KB/s    in 0.04s   \n",
      "\n",
      "2020-08-02 00:57:40 (108 MB/s) - ‘test_custom.csv’ saved [4111913/4111913]\n",
      "\n",
      "--2020-08-02 00:57:41--  https://storage.googleapis.com/akhilez/datasets/singularity_systems/train_custom.csv\n",
      "Resolving storage.googleapis.com (storage.googleapis.com)... 74.125.195.128, 142.250.99.128, 74.125.20.128, ...\n",
      "Connecting to storage.googleapis.com (storage.googleapis.com)|74.125.195.128|:443... connected.\n",
      "HTTP request sent, awaiting response... 200 OK\n",
      "Length: 5918888 (5.6M) [text/csv]\n",
      "Saving to: ‘train_custom.csv’\n",
      "\n",
      "train_custom.csv    100%[===================>]   5.64M  --.-KB/s    in 0.05s   \n",
      "\n",
      "2020-08-02 00:57:41 (108 MB/s) - ‘train_custom.csv’ saved [5918888/5918888]\n",
      "\n"
     ],
     "name": "stdout"
    }
   ]
  },
  {
   "cell_type": "code",
   "metadata": {
    "id": "_VcQjFWpExRC",
    "colab_type": "code",
    "colab": {}
   },
   "source": [
    "import tensorflow as tf\n",
    "from tensorflow.keras.layers import Embedding, Dense, GlobalAveragePooling1D, Bidirectional, LSTM, Dropout, Conv1D, MaxPooling1D, Flatten, AveragePooling1D, MaxPooling1D\n",
    "import matplotlib.pyplot as plt\n",
    "import csv\n",
    "import numpy as np"
   ],
   "execution_count": 3,
   "outputs": []
  },
  {
   "cell_type": "code",
   "metadata": {
    "id": "NI0UVGMxC0OA",
    "colab_type": "code",
    "colab": {}
   },
   "source": [
    "class BatchGenerator:\n",
    "\n",
    "    def __init__(self, data_path, batch_size):\n",
    "        self.batch_size = batch_size\n",
    "        self.data_path = data_path\n",
    "        self.n_labels = 20\n",
    "\n",
    "    def get_batch_gen(self, repeat=True):\n",
    "        while True:\n",
    "            with open(self.data_path) as data_file:\n",
    "                reader = csv.reader(data_file)\n",
    "                batch = []\n",
    "                for row in reader:  # TODO: Can the next batch be fetched asynchronously? With asyncio?\n",
    "                    batch.append(row)\n",
    "                    if len(batch) >= self.batch_size:\n",
    "                        batch = self._split_batch(batch)\n",
    "                        yield batch\n",
    "                        batch = []\n",
    "                if 0 < len(batch) < self.batch_size:\n",
    "                    yield self._split_batch(batch)\n",
    "            if not repeat:\n",
    "                break\n",
    "\n",
    "    def _split_batch(self, batch):\n",
    "        batch = np.array(batch, dtype=int)\n",
    "        x = batch[:, :len(batch[0]) - self.n_labels]\n",
    "        y = batch[:, len(batch[0]) - self.n_labels:]\n",
    "        return x, y\n"
   ],
   "execution_count": 4,
   "outputs": []
  },
  {
   "cell_type": "code",
   "metadata": {
    "id": "FCfEtIXMCq6v",
    "colab_type": "code",
    "colab": {}
   },
   "source": [
    "train_batch_size = 30\n",
    "test_batch_size = 30\n",
    "train_size = 11083\n",
    "test_size = 7761\n",
    "train_steps = train_size / train_batch_size\n",
    "test_steps = test_size / test_batch_size\n",
    "\n",
    "train_gen = BatchGenerator(data_path='data/train_custom.csv', batch_size=train_batch_size).get_batch_gen()\n",
    "test_gen = BatchGenerator(data_path='data/test_custom.csv', batch_size=test_batch_size).get_batch_gen()"
   ],
   "execution_count": 5,
   "outputs": []
  },
  {
   "cell_type": "code",
   "metadata": {
    "id": "meEx6Rf8Co8L",
    "colab_type": "code",
    "colab": {}
   },
   "source": [
    "vocab_size = 10000\n",
    "embed_size = 128"
   ],
   "execution_count": 28,
   "outputs": []
  },
  {
   "cell_type": "code",
   "metadata": {
    "id": "g6UWJsHJCoq6",
    "colab_type": "code",
    "colab": {
     "base_uri": "https://localhost:8080/",
     "height": 493
    },
    "outputId": "ff062320-dde3-4771-b8e9-0348374195b8"
   },
   "source": [
    "model = tf.keras.Sequential([\n",
    "    Embedding(vocab_size, embed_size, input_length=150),\n",
    "    #GlobalAveragePooling1D(),\n",
    "    Flatten(),\n",
    "    Dropout(0.3),\n",
    "    Dense(512, activation='relu'),\n",
    "    Dropout(0.3),\n",
    "    Dense(256, activation='relu'),\n",
    "    Dropout(0.3),\n",
    "    Dense(128, activation='relu'),\n",
    "    Dropout(0.3),\n",
    "    Dense(20, activation='softmax')\n",
    "])\n",
    "model.compile(loss='categorical_crossentropy', optimizer='adam', metrics=['accuracy'])\n",
    "model.summary()"
   ],
   "execution_count": 29,
   "outputs": [
    {
     "output_type": "stream",
     "text": [
      "Model: \"sequential_11\"\n",
      "_________________________________________________________________\n",
      "Layer (type)                 Output Shape              Param #   \n",
      "=================================================================\n",
      "embedding_11 (Embedding)     (None, 150, 128)          1280000   \n",
      "_________________________________________________________________\n",
      "flatten_9 (Flatten)          (None, 19200)             0         \n",
      "_________________________________________________________________\n",
      "dropout_29 (Dropout)         (None, 19200)             0         \n",
      "_________________________________________________________________\n",
      "dense_26 (Dense)             (None, 512)               9830912   \n",
      "_________________________________________________________________\n",
      "dropout_30 (Dropout)         (None, 512)               0         \n",
      "_________________________________________________________________\n",
      "dense_27 (Dense)             (None, 256)               131328    \n",
      "_________________________________________________________________\n",
      "dropout_31 (Dropout)         (None, 256)               0         \n",
      "_________________________________________________________________\n",
      "dense_28 (Dense)             (None, 128)               32896     \n",
      "_________________________________________________________________\n",
      "dropout_32 (Dropout)         (None, 128)               0         \n",
      "_________________________________________________________________\n",
      "dense_29 (Dense)             (None, 20)                2580      \n",
      "=================================================================\n",
      "Total params: 11,277,716\n",
      "Trainable params: 11,277,716\n",
      "Non-trainable params: 0\n",
      "_________________________________________________________________\n"
     ],
     "name": "stdout"
    }
   ]
  },
  {
   "cell_type": "code",
   "metadata": {
    "id": "32ccRMguCtrL",
    "colab_type": "code",
    "colab": {
     "base_uri": "https://localhost:8080/",
     "height": 1000
    },
    "outputId": "bebc3f6c-50f8-44b2-be4b-0defacf61160"
   },
   "source": [
    "epochs = 30\n",
    "history = model.fit(\n",
    "    train_gen, steps_per_epoch=train_steps, epochs=epochs,\n",
    "    validation_data=test_gen, validation_steps=test_steps)"
   ],
   "execution_count": 30,
   "outputs": [
    {
     "output_type": "stream",
     "text": [
      "Epoch 1/30\n",
      "370/369 [==============================] - 7s 19ms/step - loss: 2.3396 - accuracy: 0.2450 - val_loss: 1.7921 - val_accuracy: 0.4167\n",
      "Epoch 2/30\n",
      "370/369 [==============================] - 7s 19ms/step - loss: 0.8274 - accuracy: 0.7220 - val_loss: 1.2708 - val_accuracy: 0.6122\n",
      "Epoch 3/30\n",
      "370/369 [==============================] - 7s 20ms/step - loss: 0.2519 - accuracy: 0.9185 - val_loss: 1.2912 - val_accuracy: 0.6480\n",
      "Epoch 4/30\n",
      "370/369 [==============================] - 7s 19ms/step - loss: 0.0979 - accuracy: 0.9692 - val_loss: 1.5614 - val_accuracy: 0.6444\n",
      "Epoch 5/30\n",
      "370/369 [==============================] - 7s 18ms/step - loss: 0.0668 - accuracy: 0.9800 - val_loss: 1.6094 - val_accuracy: 0.6444\n",
      "Epoch 6/30\n",
      "370/369 [==============================] - 7s 19ms/step - loss: 0.0571 - accuracy: 0.9818 - val_loss: 1.8759 - val_accuracy: 0.6236\n",
      "Epoch 7/30\n",
      "370/369 [==============================] - 7s 18ms/step - loss: 0.0739 - accuracy: 0.9799 - val_loss: 1.9152 - val_accuracy: 0.6261\n",
      "Epoch 8/30\n",
      "370/369 [==============================] - 7s 19ms/step - loss: 0.0774 - accuracy: 0.9794 - val_loss: 1.7263 - val_accuracy: 0.6379\n",
      "Epoch 9/30\n",
      "370/369 [==============================] - 7s 18ms/step - loss: 0.0737 - accuracy: 0.9793 - val_loss: 1.7719 - val_accuracy: 0.6330\n",
      "Epoch 10/30\n",
      "370/369 [==============================] - 7s 19ms/step - loss: 0.0583 - accuracy: 0.9831 - val_loss: 1.8061 - val_accuracy: 0.6484\n",
      "Epoch 11/30\n",
      "370/369 [==============================] - 7s 18ms/step - loss: 0.0613 - accuracy: 0.9855 - val_loss: 1.8417 - val_accuracy: 0.6334\n",
      "Epoch 12/30\n",
      "370/369 [==============================] - 7s 19ms/step - loss: 0.0529 - accuracy: 0.9866 - val_loss: 1.8256 - val_accuracy: 0.6450\n",
      "Epoch 13/30\n",
      "370/369 [==============================] - 7s 18ms/step - loss: 0.0474 - accuracy: 0.9885 - val_loss: 1.8457 - val_accuracy: 0.6516\n",
      "Epoch 14/30\n",
      "370/369 [==============================] - 7s 18ms/step - loss: 0.0259 - accuracy: 0.9932 - val_loss: 1.9803 - val_accuracy: 0.6464\n",
      "Epoch 15/30\n",
      "370/369 [==============================] - 7s 18ms/step - loss: 0.0519 - accuracy: 0.9893 - val_loss: 1.9530 - val_accuracy: 0.6455\n",
      "Epoch 16/30\n",
      "370/369 [==============================] - 7s 19ms/step - loss: 0.0538 - accuracy: 0.9885 - val_loss: 1.8483 - val_accuracy: 0.6436\n",
      "Epoch 17/30\n",
      "370/369 [==============================] - 7s 19ms/step - loss: 0.0361 - accuracy: 0.9903 - val_loss: 1.9323 - val_accuracy: 0.6526\n",
      "Epoch 18/30\n",
      "370/369 [==============================] - 7s 19ms/step - loss: 0.0496 - accuracy: 0.9875 - val_loss: 1.9683 - val_accuracy: 0.6458\n",
      "Epoch 19/30\n",
      "370/369 [==============================] - 7s 19ms/step - loss: 0.0453 - accuracy: 0.9888 - val_loss: 1.9704 - val_accuracy: 0.6488\n",
      "Epoch 20/30\n",
      "370/369 [==============================] - 7s 18ms/step - loss: 0.0396 - accuracy: 0.9908 - val_loss: 2.1619 - val_accuracy: 0.6423\n",
      "Epoch 21/30\n",
      "370/369 [==============================] - 7s 18ms/step - loss: 0.0434 - accuracy: 0.9920 - val_loss: 2.3681 - val_accuracy: 0.6272\n",
      "Epoch 22/30\n",
      "370/369 [==============================] - 7s 18ms/step - loss: 0.0411 - accuracy: 0.9909 - val_loss: 1.9912 - val_accuracy: 0.6530\n",
      "Epoch 23/30\n",
      "370/369 [==============================] - 7s 19ms/step - loss: 0.0387 - accuracy: 0.9922 - val_loss: 2.1979 - val_accuracy: 0.6405\n",
      "Epoch 24/30\n",
      "370/369 [==============================] - 7s 18ms/step - loss: 0.0293 - accuracy: 0.9926 - val_loss: 2.0299 - val_accuracy: 0.6515\n",
      "Epoch 25/30\n",
      "370/369 [==============================] - 7s 19ms/step - loss: 0.0298 - accuracy: 0.9919 - val_loss: 2.1571 - val_accuracy: 0.6497\n",
      "Epoch 26/30\n",
      "370/369 [==============================] - 7s 19ms/step - loss: 0.0348 - accuracy: 0.9921 - val_loss: 1.9939 - val_accuracy: 0.6614\n",
      "Epoch 27/30\n",
      "370/369 [==============================] - 7s 18ms/step - loss: 0.0438 - accuracy: 0.9925 - val_loss: 1.9530 - val_accuracy: 0.6533\n",
      "Epoch 28/30\n",
      "370/369 [==============================] - 7s 19ms/step - loss: 0.0264 - accuracy: 0.9938 - val_loss: 2.0754 - val_accuracy: 0.6588\n",
      "Epoch 29/30\n",
      "370/369 [==============================] - 7s 19ms/step - loss: 0.0253 - accuracy: 0.9943 - val_loss: 2.2324 - val_accuracy: 0.6526\n",
      "Epoch 30/30\n",
      "370/369 [==============================] - 7s 19ms/step - loss: 0.0309 - accuracy: 0.9925 - val_loss: 2.2358 - val_accuracy: 0.6573\n"
     ],
     "name": "stdout"
    }
   ]
  },
  {
   "cell_type": "code",
   "metadata": {
    "id": "NetGg_y82BMA",
    "colab_type": "code",
    "colab": {
     "base_uri": "https://localhost:8080/",
     "height": 541
    },
    "outputId": "c686a11d-b434-4686-e302-98a612d65ad4"
   },
   "source": [
    "def plot_graphs(history, string):\n",
    "  plt.plot(history.history[string])\n",
    "  plt.plot(history.history['val_'+string])\n",
    "  plt.xlabel(\"Epochs\")\n",
    "  plt.ylabel(string)\n",
    "  plt.legend([string, 'val_'+string])\n",
    "  plt.show()\n",
    "\n",
    "plot_graphs(history, \"accuracy\")\n",
    "plot_graphs(history, \"loss\")\n"
   ],
   "execution_count": 31,
   "outputs": [
    {
     "output_type": "display_data",
     "data": {
      "image/png": "[encoded data removed]",
      "text/plain": [
       "<Figure size 432x288 with 1 Axes>"
      ]
     },
     "metadata": {
      "tags": [],
      "needs_background": "light"
     }
    },
    {
     "output_type": "display_data",
     "data": {
      "image/png": "[encoded data removed]",
      "text/plain": [
       "<Figure size 432x288 with 1 Axes>"
      ]
     },
     "metadata": {
      "tags": [],
      "needs_background": "light"
     }
    }
   ]
  },
  {
   "cell_type": "code",
   "metadata": {
    "id": "rTG7UhTCEMKN",
    "colab_type": "code",
    "colab": {}
   },
   "source": [
    "model.save('linear.h5')"
   ],
   "execution_count": null,
   "outputs": []
  },
  {
   "cell_type": "code",
   "metadata": {
    "id": "ySfoVlmo_Xrl",
    "colab_type": "code",
    "colab": {}
   },
   "source": [
    "from google.colab import files\n",
    "files.download('linear.h5')"
   ],
   "execution_count": null,
   "outputs": []
  },
  {
   "cell_type": "code",
   "metadata": {
    "id": "Eqjjr81PDer9",
    "colab_type": "code",
    "colab": {}
   },
   "source": [
    ""
   ],
   "execution_count": null,
   "outputs": []
  }
 ]
}