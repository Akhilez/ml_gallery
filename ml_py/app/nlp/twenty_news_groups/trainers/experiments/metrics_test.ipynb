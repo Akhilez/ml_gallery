{
 "cells": [
  {
   "cell_type": "code",
   "execution_count": 30,
   "metadata": {
    "collapsed": true
   },
   "outputs": [],
   "source": [
    "import numpy as np\n",
    "from sklearn import metrics"
   ]
  },
  {
   "cell_type": "code",
   "execution_count": 31,
   "outputs": [],
   "source": [
    "def to_one_hot(x, size):\n",
    "    b = np.zeros((x.size, size))\n",
    "    b[np.arange(x.size),x] = 1\n",
    "    return b"
   ],
   "metadata": {
    "collapsed": false,
    "pycharm": {
     "name": "#%%\n"
    }
   }
  },
  {
   "cell_type": "code",
   "execution_count": 32,
   "outputs": [],
   "source": [
    "ncls = 10\n",
    "nrows = 100\n",
    "size = (nrows, ncls)\n",
    "\n",
    "x = np.random.random(size)\n",
    "y = (np.random.random(size) - 0.5) * 0.1 + x"
   ],
   "metadata": {
    "collapsed": false,
    "pycharm": {
     "name": "#%%\n"
    }
   }
  },
  {
   "cell_type": "code",
   "execution_count": 33,
   "outputs": [
    {
     "name": "stdout",
     "output_type": "stream",
     "text": [
      "[6 5 6 7 2 2 8 0 5 3 3 9 1 3 3 1 4 0 6 2 8 1 9 4 6 1 7 3 1 6 8 8 6 6 2 7 1\n",
      " 6 5 2 0 4 3 5 3 3 8 0 0 2 8 1 4 5 3 0 0 9 5 3 6 7 3 5 5 2 2 7 8 0 5 9 0 5\n",
      " 2 9 8 7 9 7 5 5 7 0 7 0 8 7 3 4 8 4 2 9 9 4 4 6 2 9]\n",
      "[6 5 6 7 2 2 8 0 5 2 3 9 1 2 3 1 9 5 6 2 8 1 9 4 6 1 7 3 1 6 8 8 6 6 2 7 1\n",
      " 6 5 2 0 4 3 5 1 0 8 0 0 2 5 1 5 5 3 0 0 9 5 3 6 8 3 9 5 0 2 4 8 0 5 9 0 5\n",
      " 2 9 8 0 9 7 5 5 7 0 7 0 8 7 3 4 8 4 2 9 6 4 4 6 2 9]\n"
     ]
    },
    {
     "data": {
      "text/plain": "0.86"
     },
     "execution_count": 33,
     "metadata": {},
     "output_type": "execute_result"
    }
   ],
   "source": [
    "mxx = x.argmax(axis=1)\n",
    "mxy = y.argmax(axis=1)\n",
    "\n",
    "print(mxx)\n",
    "print(mxy)\n",
    "\n",
    "sum(mxx == mxy) / nrows"
   ],
   "metadata": {
    "collapsed": false,
    "pycharm": {
     "name": "#%%\n"
    }
   }
  },
  {
   "cell_type": "code",
   "execution_count": 34,
   "outputs": [
    {
     "data": {
      "text/plain": "array([[10.,  0.,  0.,  0.,  0.,  1.,  0.,  0.,  0.,  0.],\n       [ 0.,  7.,  0.,  0.,  0.,  0.,  0.,  0.,  0.,  0.],\n       [ 1.,  0., 10.,  0.,  0.,  0.,  0.,  0.,  0.,  0.],\n       [ 1.,  1.,  2.,  8.,  0.,  0.,  0.,  0.,  0.,  0.],\n       [ 0.,  0.,  0.,  0.,  6.,  1.,  0.,  0.,  0.,  1.],\n       [ 0.,  0.,  0.,  0.,  0., 11.,  0.,  0.,  0.,  1.],\n       [ 0.,  0.,  0.,  0.,  0.,  0., 10.,  0.,  0.,  0.],\n       [ 1.,  0.,  0.,  0.,  1.,  0.,  0.,  7.,  1.,  0.],\n       [ 0.,  0.,  0.,  0.,  0.,  1.,  0.,  0.,  9.,  0.],\n       [ 0.,  0.,  0.,  0.,  0.,  0.,  1.,  0.,  0.,  8.]])"
     },
     "execution_count": 34,
     "metadata": {},
     "output_type": "execute_result"
    }
   ],
   "source": [
    "conf = np.zeros((ncls, ncls))\n",
    "for i in range(len(mxx)):\n",
    "    conf[mxx[i]][mxy[i]] += 1\n",
    "conf"
   ],
   "metadata": {
    "collapsed": false,
    "pycharm": {
     "name": "#%%\n"
    }
   }
  },
  {
   "cell_type": "code",
   "execution_count": 35,
   "outputs": [],
   "source": [
    "tp = np.zeros((ncls,))\n",
    "fn = np.zeros((ncls,))\n",
    "fp = np.zeros((ncls,))\n",
    "precision = np.zeros((ncls,))\n",
    "recall = np.zeros((ncls,))\n",
    "\n",
    "for i_real in range(ncls):\n",
    "    for i_pred in range(ncls):\n",
    "        value = conf[i_real][i_pred]\n",
    "        if i_real == i_pred:\n",
    "            tp[i_real] = value\n",
    "        else:\n",
    "            fn[i_real] += value\n",
    "            fp[i_pred] += value\n",
    "\n",
    "fn[fn == 0] = 1.e-09\n",
    "fp[fp == 0] = 1.e-09\n",
    "\n",
    "recall = tp / (tp + fn)\n",
    "precision = tp / (tp + fp)\n",
    "\n",
    "p_macro = sum(precision) / ncls\n",
    "r_macro = sum(recall) / ncls\n",
    "\n",
    "f_macro = 2 * p_macro * r_macro / (p_macro + r_macro)"
   ],
   "metadata": {
    "collapsed": false,
    "pycharm": {
     "name": "#%%\n"
    }
   }
  },
  {
   "cell_type": "code",
   "execution_count": 36,
   "outputs": [
    {
     "name": "stdout",
     "output_type": "stream",
     "text": [
      "[10.  7. 10.  8.  6. 11. 10.  7.  9.  8.]\n",
      "[1.e+00 1.e-09 1.e+00 4.e+00 2.e+00 1.e+00 1.e-09 3.e+00 1.e+00 1.e+00]\n",
      "[0.90909091 1.         0.90909091 0.66666667 0.75       0.91666667\n",
      " 1.         0.7        0.9        0.88888889]\n",
      "0.8684729533751236\n"
     ]
    }
   ],
   "source": [
    "print(tp)\n",
    "print(fn)\n",
    "print(recall)\n",
    "print(f_macro)"
   ],
   "metadata": {
    "collapsed": false,
    "pycharm": {
     "name": "#%%\n"
    }
   }
  },
  {
   "cell_type": "code",
   "execution_count": 37,
   "outputs": [
    {
     "data": {
      "text/plain": "array([1.e+00, 1.e-09, 1.e+00, 1.e-09, 2.e+00, 1.e+00, 1.e-09, 3.e+00,\n       1.e+00, 1.e+00])"
     },
     "execution_count": 37,
     "metadata": {},
     "output_type": "execute_result"
    }
   ],
   "source": [
    "fn[3] = 0\n",
    "fn[fn == 0] = 1.e-09\n",
    "fn"
   ],
   "metadata": {
    "collapsed": false,
    "pycharm": {
     "name": "#%%\n"
    }
   }
  },
  {
   "cell_type": "code",
   "execution_count": 41,
   "outputs": [
    {
     "data": {
      "text/plain": "(100, 10)"
     },
     "execution_count": 41,
     "metadata": {},
     "output_type": "execute_result"
    }
   ],
   "source": [
    "mxy_onehot = to_one_hot(mxy, ncls)\n",
    "mxx_onehot = to_one_hot(mxx, ncls)\n",
    "\n",
    "mxy_onehot.shape"
   ],
   "metadata": {
    "collapsed": false,
    "pycharm": {
     "name": "#%%\n"
    }
   }
  },
  {
   "cell_type": "code",
   "execution_count": 40,
   "outputs": [
    {
     "data": {
      "text/plain": "0.8600401357515371"
     },
     "execution_count": 40,
     "metadata": {},
     "output_type": "execute_result"
    }
   ],
   "source": [
    "f1 = metrics.f1_score(mxy_onehot, mxx_onehot, average='macro')\n",
    "f1"
   ],
   "metadata": {
    "collapsed": false,
    "pycharm": {
     "name": "#%%\n"
    }
   }
  },
  {
   "cell_type": "code",
   "execution_count": 7,
   "outputs": [
    {
     "data": {
      "text/plain": "array([[5, 0, 0, 0, 0, 0, 0, 0, 0],\n       [0, 4, 0, 0, 0, 0, 0, 0, 0],\n       [0, 0, 8, 0, 0, 1, 0, 0, 0],\n       [1, 0, 0, 3, 0, 0, 0, 0, 0],\n       [0, 0, 0, 0, 4, 0, 0, 0, 0],\n       [0, 0, 0, 0, 0, 5, 0, 0, 0],\n       [0, 0, 0, 0, 1, 1, 6, 0, 0],\n       [0, 0, 1, 0, 1, 0, 0, 5, 0],\n       [0, 0, 0, 0, 0, 0, 0, 0, 4]])"
     },
     "execution_count": 7,
     "metadata": {},
     "output_type": "execute_result"
    }
   ],
   "source": [
    "confmat = metrics.confusion_matrix(mxx, mxy)\n",
    "confmat"
   ],
   "metadata": {
    "collapsed": false,
    "pycharm": {
     "name": "#%%\n"
    }
   }
  },
  {
   "cell_type": "code",
   "execution_count": 29,
   "outputs": [
    {
     "name": "stdout",
     "output_type": "stream",
     "text": [
      "0\n",
      "1\n",
      "2\n",
      "3\n"
     ]
    }
   ],
   "source": [
    "steps = 3.33\n",
    "for batch_i in range(int(steps)+1):\n",
    "    if (batch_i + 1) % (int(steps / 4) + 1) == 0:\n",
    "        print(batch_i)"
   ],
   "metadata": {
    "collapsed": false,
    "pycharm": {
     "name": "#%%\n"
    }
   }
  },
  {
   "cell_type": "code",
   "execution_count": null,
   "outputs": [],
   "source": [],
   "metadata": {
    "collapsed": false,
    "pycharm": {
     "name": "#%%\n"
    }
   }
  }
 ],
 "metadata": {
  "kernelspec": {
   "display_name": "Python 3",
   "language": "python",
   "name": "python3"
  },
  "language_info": {
   "codemirror_mode": {
    "name": "ipython",
    "version": 2
   },
   "file_extension": ".py",
   "mimetype": "text/x-python",
   "name": "python",
   "nbconvert_exporter": "python",
   "pygments_lexer": "ipython2",
   "version": "2.7.6"
  }
 },
 "nbformat": 4,
 "nbformat_minor": 0
}