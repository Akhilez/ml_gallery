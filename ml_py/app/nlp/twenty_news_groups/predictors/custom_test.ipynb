{
 "cells": [
  {
   "cell_type": "code",
   "execution_count": 1,
   "metadata": {
    "collapsed": true
   },
   "outputs": [],
   "source": [
    "from preprocessors.sequencers import CustomSequencer, BertSequencer\n",
    "from trainers.custom_trainer import CustomTrainer\n",
    "from trainers.bert_trainer import BertTrainer\n",
    "from trainers.bert_trainer import BertEmailClassifier  # Important to import"
   ]
  },
  {
   "cell_type": "code",
   "execution_count": 2,
   "outputs": [],
   "source": [
    "sentences = [\n",
    "    \"\"\"\n",
    "From: dr17@crux2.cit.cornell.edu (Dean M Robinson)\n",
    "Subject: Re: Buying a high speed v.everything modem\n",
    "Nntp-Posting-Host: crux2.cit.cornell.edu\n",
    "Organization: Cornell University\n",
    "Lines: 20\n",
    "\n",
    "ejbehr@rs6000.cmp.ilstu.edu (Eric Behr) writes:\n",
    "\n",
    ">Just a quick summary of recent findings re. high speed modems. Top three\n",
    ">contenders seem to be AT&T Paradyne, ZyXEL, and US Robotics. ZyXEL has the\n",
    ">biggest \"cult following\", and can be had for under $300, but I ignored it\n",
    ">because I need something with Mac software, which will work without any\n",
    ">tweaking.\n",
    "\n",
    "You shouldn't have ignored the ZyXEL.  It can be purchased with a \"Mac\n",
    "bundle\", which includes a hardware-handshaking cable and FaxSTF software.\n",
    "The bundle adds between $35 and $60 to the price of the modem, depending\n",
    "on the supplier.  It is true that the modem has no Mac-specific docs,\n",
    "but it doesn't require much 'tweaking' (aside from setting &D0 in the\n",
    "init string, to enable hardware handshaking).\n",
    "\n",
    "For more information on the ZyXEL, including sources, look at various files\n",
    "on sumex-aim.stanford.edu, in info-mac/report.\n",
    "\n",
    "Disclaimer:  I have no affiliation with ZyXEL, though I did buy a ZyXEL\n",
    "a U1496E modem.\n",
    "\n",
    "    \"\"\",\n",
    "    \"\"\"\n",
    "Subject: Re: Key Registering Bodies\n",
    "From: a_rubin@dsg4.dse.beckman.com (Arthur Rubin)\n",
    "Organization: Beckman Instruments, Inc.\n",
    "Nntp-Posting-Host: dsg4.dse.beckman.com\n",
    "Lines: 16\n",
    "\n",
    "In <nagleC5w79E.7HL@netcom.com> nagle@netcom.com (John Nagle) writes:\n",
    "\n",
    ">       Since the law requires that wiretaps be requested by the Executive\n",
    ">Branch and approved by the Judicial Branch, it seems clear that one\n",
    ">of the key registering bodies should be under the control of the\n",
    ">Judicial Branch.  I suggest the Supreme Court, or, regionally, the\n",
    ">Courts of Appeal.  More specifically, the offices of their Clerks.\n",
    "\n",
    "Now THAT makes sense.  But the other half must be in a non-government\n",
    "escrow.  (I still like EFF, but I admin their security has not been\n",
    "tested.)\n",
    "\n",
    "--\n",
    "Arthur L. Rubin: a_rubin@dsg4.dse.beckman.com (work) Beckman Instruments/Brea\n",
    "216-5888@mcimail.com 70707.453@compuserve.com arthur@pnet01.cts.com (personal)\n",
    "My opinions are my own, and do not represent those of my employer.\n",
    "\n",
    "    \"\"\"\n",
    "] + [\n",
    "    'my macbook heats up too much, but there is no better laptop for 3000 dollars',\n",
    "    'I am a clear atheist, sometimes, I hear people say they are agnostic, I hate it.'\n",
    "]\n",
    "\n",
    "labels = [\n",
    "    \"comp.sys.mac.hardware\",\n",
    "    \"sci.crypt\"\n",
    "] + [\n",
    "    \"comp.sys.mac.hardware\",\n",
    "    'alt.atheism'\n",
    "]"
   ],
   "metadata": {
    "collapsed": false,
    "pycharm": {
     "name": "#%%\n"
    }
   }
  },
  {
   "cell_type": "code",
   "execution_count": 3,
   "outputs": [],
   "source": [
    "id_to_label = [\n",
    "    'alt.atheism',\n",
    "    'comp.graphics',\n",
    "    'comp.os.ms-windows.misc',\n",
    "    'comp.sys.ibm.pc.hardware',\n",
    "    'comp.sys.mac.hardware',\n",
    "    'comp.windows.x',\n",
    "    'misc.forsale',\n",
    "    'rec.autos',\n",
    "    'rec.motorcycles',\n",
    "    'rec.sport.baseball',\n",
    "    'rec.sport.hockey',\n",
    "    'sci.crypt',\n",
    "    'sci.electronics',\n",
    "    'sci.med',\n",
    "    'sci.space',\n",
    "    'soc.religion.christian',\n",
    "    'talk.politics.guns',\n",
    "    'talk.politics.mideast',\n",
    "    'talk.politics.misc',\n",
    "    'talk.religion.misc'\n",
    "]"
   ],
   "metadata": {
    "collapsed": false,
    "pycharm": {
     "name": "#%%\n"
    }
   }
  },
  {
   "cell_type": "code",
   "execution_count": 4,
   "outputs": [],
   "source": [
    "sequencer_custom = CustomSequencer()\n",
    "sequencer_custom.tokenizer = CustomSequencer.load_tokenizer('../preprocessors/custom_tokenizer.json')"
   ],
   "metadata": {
    "collapsed": false,
    "pycharm": {
     "name": "#%%\n"
    }
   }
  },
  {
   "cell_type": "code",
   "execution_count": 5,
   "outputs": [
    {
     "data": {
      "text/plain": "(4, 150)"
     },
     "execution_count": 5,
     "metadata": {},
     "output_type": "execute_result"
    }
   ],
   "source": [
    "sequences_custom = sequencer_custom.make_sequences(sentences)\n",
    "sequences_custom.shape"
   ],
   "metadata": {
    "collapsed": false,
    "pycharm": {
     "name": "#%%\n"
    }
   }
  },
  {
   "cell_type": "code",
   "execution_count": 6,
   "outputs": [],
   "source": [
    "custom_trainer = CustomTrainer('../trainers/models/linear.h5')"
   ],
   "metadata": {
    "collapsed": false,
    "pycharm": {
     "name": "#%%\n"
    }
   }
  },
  {
   "cell_type": "code",
   "execution_count": 7,
   "outputs": [],
   "source": [
    "prediction_custom = custom_trainer.predict(sequences_custom)"
   ],
   "metadata": {
    "collapsed": false,
    "pycharm": {
     "name": "#%%\n"
    }
   }
  },
  {
   "cell_type": "code",
   "execution_count": 8,
   "outputs": [
    {
     "name": "stdout",
     "output_type": "stream",
     "text": [
      "Predictions\t\tReal\n",
      "----------------------------\n",
      "comp.sys.mac.hardware\t\tcomp.sys.mac.hardware\n",
      "sci.crypt\t\tsci.crypt\n",
      "rec.sport.baseball\t\tcomp.sys.mac.hardware\n",
      "soc.religion.christian\t\talt.atheism\n"
     ]
    }
   ],
   "source": [
    "ids = prediction_custom.argmax(axis=1)\n",
    "print(\"Predictions\\t\\tReal\\n----------------------------\")\n",
    "for pred_id, real_label in zip(ids, labels):\n",
    "    print(f'{id_to_label[pred_id]}\\t\\t{real_label}')"
   ],
   "metadata": {
    "collapsed": false,
    "pycharm": {
     "name": "#%%\n"
    }
   }
  },
  {
   "cell_type": "code",
   "execution_count": 10,
   "outputs": [
    {
     "data": {
      "text/plain": "(4, 512)"
     },
     "execution_count": 10,
     "metadata": {},
     "output_type": "execute_result"
    }
   ],
   "source": [
    "sequencer_bert = BertSequencer()\n",
    "sequences_bert = sequencer_bert.make_sequences(sentences)\n",
    "sequences_bert.shape"
   ],
   "metadata": {
    "collapsed": false,
    "pycharm": {
     "name": "#%%\n"
    }
   }
  },
  {
   "cell_type": "code",
   "execution_count": 11,
   "outputs": [],
   "source": [
    "bert_trainer = BertTrainer(load_path='../trainers/models/bert_clf.pt')"
   ],
   "metadata": {
    "collapsed": false,
    "pycharm": {
     "name": "#%%\n"
    }
   }
  },
  {
   "cell_type": "code",
   "execution_count": 12,
   "outputs": [],
   "source": [
    "prediction_bert = bert_trainer.predict(sequences_bert)"
   ],
   "metadata": {
    "collapsed": false,
    "pycharm": {
     "name": "#%%\n"
    }
   }
  },
  {
   "cell_type": "code",
   "execution_count": 13,
   "outputs": [
    {
     "name": "stdout",
     "output_type": "stream",
     "text": [
      "Predictions\t\tReal\n",
      "----------------------------\n",
      "comp.sys.mac.hardware\t\tcomp.sys.mac.hardware\n",
      "sci.crypt\t\tsci.crypt\n",
      "misc.forsale\t\tcomp.sys.mac.hardware\n",
      "alt.atheism\t\talt.atheism\n"
     ]
    }
   ],
   "source": [
    "ids = prediction_bert.argmax(axis=1)\n",
    "print(\"Predictions\\t\\tReal\\n----------------------------\")\n",
    "for pred_id, real_label in zip(ids, labels):\n",
    "    print(f'{id_to_label[pred_id]}\\t\\t{real_label}')"
   ],
   "metadata": {
    "collapsed": false,
    "pycharm": {
     "name": "#%%\n"
    }
   }
  },
  {
   "cell_type": "code",
   "execution_count": 14,
   "outputs": [
    {
     "name": "stdout",
     "output_type": "stream",
     "text": [
      "tensor([[2.1233e-03, 1.1182e-03, 6.4410e-04, 2.6203e-03, 9.7992e-01, 9.8657e-04,\n",
      "         1.7045e-03, 1.1660e-03, 2.2988e-04, 4.8275e-04, 3.7244e-04, 4.8188e-04,\n",
      "         1.9904e-03, 1.0086e-03, 2.9782e-04, 1.2105e-03, 4.8972e-04, 9.8602e-04,\n",
      "         1.5422e-03, 6.2061e-04],\n",
      "        [1.3790e-03, 3.8299e-04, 6.0808e-04, 7.0174e-04, 4.1560e-04, 7.1869e-04,\n",
      "         1.0412e-03, 7.3274e-04, 7.1932e-04, 9.7821e-04, 1.1487e-03, 9.7853e-01,\n",
      "         1.2747e-03, 4.6278e-04, 9.7632e-04, 6.2176e-04, 2.8434e-03, 2.1772e-03,\n",
      "         3.3126e-03, 9.7755e-04],\n",
      "        [3.5820e-03, 5.7003e-03, 1.4491e-02, 6.5536e-03, 2.9461e-01, 4.3612e-03,\n",
      "         5.1769e-01, 9.1748e-02, 8.0672e-03, 5.7857e-03, 5.8959e-03, 1.8336e-03,\n",
      "         3.6739e-03, 9.0327e-03, 4.6993e-03, 6.8493e-03, 2.2674e-03, 3.5573e-03,\n",
      "         5.5848e-03, 4.0166e-03],\n",
      "        [7.4543e-01, 8.8457e-03, 9.3976e-03, 2.7785e-03, 2.1870e-02, 4.1538e-03,\n",
      "         5.2523e-03, 2.3102e-03, 2.3648e-03, 1.0256e-02, 6.8491e-03, 3.5207e-03,\n",
      "         1.5150e-03, 2.7842e-03, 9.7836e-04, 1.0868e-01, 1.4744e-03, 6.6926e-03,\n",
      "         4.2953e-03, 5.0558e-02]])\n"
     ]
    },
    {
     "data": {
      "text/plain": "tensor([ 4, 11,  6,  0])"
     },
     "execution_count": 14,
     "metadata": {},
     "output_type": "execute_result"
    }
   ],
   "source": [
    "print(prediction_bert)\n",
    "prediction_bert.argmax(axis=1)"
   ],
   "metadata": {
    "collapsed": false,
    "pycharm": {
     "name": "#%%\n"
    }
   }
  },
  {
   "cell_type": "code",
   "execution_count": 15,
   "outputs": [
    {
     "name": "stdout",
     "output_type": "stream",
     "text": [
      "[[2.31406568e-19 1.81764483e-15 1.01153441e-08 2.32112171e-07\n",
      "  9.99999762e-01 1.87728288e-11 9.12295217e-09 4.90418417e-09\n",
      "  1.78645473e-10 7.20960767e-14 5.00692966e-14 6.47765058e-16\n",
      "  2.16097344e-08 4.15439760e-15 2.40586034e-13 8.90908013e-18\n",
      "  2.83749734e-23 8.06993346e-24 2.22078597e-18 4.94397167e-19]\n",
      " [3.33759829e-08 1.80159815e-12 6.82441583e-20 1.52260804e-09\n",
      "  2.45338477e-15 5.17724427e-13 8.81763082e-24 1.84482759e-13\n",
      "  1.14253829e-09 2.31020724e-23 1.76744965e-16 1.00000000e+00\n",
      "  1.41780018e-10 7.05825237e-14 5.05246422e-09 9.61604962e-11\n",
      "  4.46470257e-11 1.07726155e-20 5.90609228e-10 2.10220708e-09]\n",
      " [1.32372748e-04 5.92641719e-02 1.89327389e-01 3.00018284e-02\n",
      "  3.49076353e-02 4.11276380e-03 6.59645051e-02 1.33163810e-01\n",
      "  3.70249734e-03 2.66374737e-01 1.18337460e-02 2.49315344e-04\n",
      "  7.81236589e-02 9.97302756e-02 5.63397072e-03 1.12903854e-02\n",
      "  3.33014294e-03 5.01253700e-04 1.34756102e-03 1.00791466e-03]\n",
      " [6.31099218e-04 1.50614930e-02 6.62229955e-02 1.05250254e-02\n",
      "  4.05990519e-02 1.20556739e-03 1.37224467e-03 3.74619290e-02\n",
      "  3.35456920e-04 2.84075707e-01 7.33642257e-04 1.79196388e-04\n",
      "  8.13453272e-03 1.66546255e-01 1.06240716e-02 3.52842480e-01\n",
      "  7.95609551e-04 2.47224962e-04 5.43384522e-04 1.86305342e-03]]\n"
     ]
    },
    {
     "data": {
      "text/plain": "array([ 4, 11,  9, 15])"
     },
     "execution_count": 15,
     "metadata": {},
     "output_type": "execute_result"
    }
   ],
   "source": [
    "print(prediction_custom)\n",
    "prediction_custom.argmax(axis=1)"
   ],
   "metadata": {
    "collapsed": false,
    "pycharm": {
     "name": "#%%\n"
    }
   }
  },
  {
   "cell_type": "code",
   "execution_count": null,
   "outputs": [],
   "source": [],
   "metadata": {
    "collapsed": false,
    "pycharm": {
     "name": "#%%\n"
    }
   }
  }
 ],
 "metadata": {
  "kernelspec": {
   "display_name": "Python 3",
   "language": "python",
   "name": "python3"
  },
  "language_info": {
   "codemirror_mode": {
    "name": "ipython",
    "version": 2
   },
   "file_extension": ".py",
   "mimetype": "text/x-python",
   "name": "python",
   "nbconvert_exporter": "python",
   "pygments_lexer": "ipython2",
   "version": "2.7.6"
  }
 },
 "nbformat": 4,
 "nbformat_minor": 0
}