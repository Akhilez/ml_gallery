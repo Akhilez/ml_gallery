{
 "cells": [
  {
   "cell_type": "code",
   "execution_count": 23,
   "metadata": {
    "collapsed": true
   },
   "outputs": [],
   "source": [
    "import torch\n",
    "from sentence_transformers import SentenceTransformer, util"
   ]
  },
  {
   "cell_type": "code",
   "execution_count": 24,
   "outputs": [],
   "source": [
    "MIN_SENTENCE_LEN = 20\n",
    "BATCH_LEN = 32\n",
    "\n",
    "\n",
    "model: SentenceTransformer = None\n",
    "device = 'cuda' if torch.cuda.is_available() else 'cpu'"
   ],
   "metadata": {
    "collapsed": false,
    "pycharm": {
     "name": "#%%\n"
    }
   }
  },
  {
   "cell_type": "code",
   "execution_count": 2,
   "outputs": [],
   "source": [
    "def get_cos_scores(job_embeddings, resume_embeddings):\n",
    "    from sentence_transformers import util\n",
    "\n",
    "    cos_scores = util.pytorch_cos_sim(job_embeddings, resume_embeddings)\n",
    "    # cos_scores = sigmoid(cos_scores, a=9.8, b=1.017, c=5.8)  # a=8.5, b=1.03, c=5)\n",
    "\n",
    "    return cos_scores\n",
    "\n",
    "\n",
    "def init_model():\n",
    "    global model\n",
    "    if model is None:\n",
    "\n",
    "        # List of pre-trained models: https://www.sbert.net/docs/pretrained_models.html\n",
    "        # These will be downloaded from https://sbert.net/models/<model_name>.zip\n",
    "        # The model will be cached in ~/.cache/torch/sentence_transformers/sbert.net_models_<model_name>\n",
    "\n",
    "        model_name = 'distilbert-base-nli-stsb-mean-tokens'  # small <250 MB RAM\n",
    "        # model_name = 'roberta-base-nli-stsb-mean-tokens'      # medium\n",
    "        # model_name = 'roberta-large-nli-stsb-mean-tokens'  # Large 1.3 GB RAM\n",
    "\n",
    "        model = SentenceTransformer(model_name, device=device)\n"
   ],
   "metadata": {
    "collapsed": false,
    "pycharm": {
     "name": "#%%\n"
    }
   }
  },
  {
   "cell_type": "code",
   "execution_count": 25,
   "outputs": [],
   "source": [
    "init_model()"
   ],
   "metadata": {
    "collapsed": false,
    "pycharm": {
     "name": "#%%\n"
    }
   }
  },
  {
   "cell_type": "code",
   "execution_count": 38,
   "outputs": [],
   "source": [
    "sentence = ' As part of a cross-functional Agile development team, the SDETs primary role is to ensure quality through delivery of test automation best practices'"
   ],
   "metadata": {
    "collapsed": false,
    "pycharm": {
     "name": "#%%\n"
    }
   }
  },
  {
   "cell_type": "code",
   "execution_count": 39,
   "outputs": [],
   "source": [
    "tokens = torch.tensor(model.tokenize(sentence))"
   ],
   "metadata": {
    "collapsed": false,
    "pycharm": {
     "name": "#%%\n"
    }
   }
  },
  {
   "cell_type": "code",
   "execution_count": 17,
   "outputs": [],
   "source": [
    "embeddings = model.encode([tokens], batch_size=BATCH_LEN, output_value='token_embeddings', is_pretokenized=True, device=device)[0]"
   ],
   "metadata": {
    "collapsed": false,
    "pycharm": {
     "name": "#%%\n"
    }
   }
  },
  {
   "cell_type": "code",
   "execution_count": 5,
   "outputs": [
    {
     "name": "stdout",
     "output_type": "stream",
     "text": [
      "as part of a cross - functional agile development team , the sd ##ets primary role is to ensure quality through delivery of test automation best practices "
     ]
    }
   ],
   "source": [
    "for token in tokens:\n",
    "    print(model.tokenizer.ids_to_tokens[token], end=' ')"
   ],
   "metadata": {
    "collapsed": false,
    "pycharm": {
     "name": "#%%\n"
    }
   }
  },
  {
   "cell_type": "code",
   "execution_count": 48,
   "outputs": [],
   "source": [
    "\n",
    "segment_len = 3\n",
    "segments = []\n",
    "\n",
    "for i in range(len(tokens) - segment_len):\n",
    "    segments.append(range(i, i+segment_len))\n",
    "\n",
    "segments = torch.tensor(segments)"
   ],
   "metadata": {
    "collapsed": false,
    "pycharm": {
     "name": "#%%\n"
    }
   }
  },
  {
   "cell_type": "code",
   "execution_count": 49,
   "outputs": [
    {
     "name": "stderr",
     "output_type": "stream",
     "text": [
      "<ipython-input-49-e9c10591e13b>:1: VisibleDeprecationWarning: Creating an ndarray from ragged nested sequences (which is a list-or-tuple of lists-or-tuples-or ndarrays with different lengths or shapes) is deprecated. If you meant to do this, you must specify 'dtype=object' when creating the ndarray\n",
      "  combinations = embeddings[segments].mean(1)\n"
     ]
    },
    {
     "ename": "IndexError",
     "evalue": "only integers, slices (`:`), ellipsis (`...`), numpy.newaxis (`None`) and integer or boolean arrays are valid indices",
     "output_type": "error",
     "traceback": [
      "\u001B[0;31m---------------------------------------------------------------------------\u001B[0m",
      "\u001B[0;31mIndexError\u001B[0m                                Traceback (most recent call last)",
      "\u001B[0;32m<ipython-input-49-e9c10591e13b>\u001B[0m in \u001B[0;36m<module>\u001B[0;34m\u001B[0m\n\u001B[0;32m----> 1\u001B[0;31m \u001B[0mcombinations\u001B[0m \u001B[0;34m=\u001B[0m \u001B[0membeddings\u001B[0m\u001B[0;34m[\u001B[0m\u001B[0msegments\u001B[0m\u001B[0;34m]\u001B[0m\u001B[0;34m.\u001B[0m\u001B[0mmean\u001B[0m\u001B[0;34m(\u001B[0m\u001B[0;36m1\u001B[0m\u001B[0;34m)\u001B[0m\u001B[0;34m\u001B[0m\u001B[0;34m\u001B[0m\u001B[0m\n\u001B[0m\u001B[1;32m      2\u001B[0m \u001B[0;34m\u001B[0m\u001B[0m\n",
      "\u001B[0;31mIndexError\u001B[0m: only integers, slices (`:`), ellipsis (`...`), numpy.newaxis (`None`) and integer or boolean arrays are valid indices"
     ]
    }
   ],
   "source": [
    "combinations = embeddings[segments].mean(1)"
   ],
   "metadata": {
    "collapsed": false,
    "pycharm": {
     "name": "#%%\n"
    }
   }
  },
  {
   "cell_type": "code",
   "execution_count": 29,
   "outputs": [],
   "source": [
    "sentence_embedding = torch.tensor(embeddings).mean(0).view((1, -1))"
   ],
   "metadata": {
    "collapsed": false,
    "pycharm": {
     "name": "#%%\n"
    }
   }
  },
  {
   "cell_type": "code",
   "execution_count": 32,
   "outputs": [],
   "source": [
    "cos_scores = util.pytorch_cos_sim(sentence_embedding, combinations)[0]"
   ],
   "metadata": {
    "collapsed": false,
    "pycharm": {
     "name": "#%%\n"
    }
   }
  },
  {
   "cell_type": "code",
   "execution_count": 34,
   "outputs": [],
   "source": [
    "top_combinations_idx = cos_scores.argsort()[:5]"
   ],
   "metadata": {
    "collapsed": false,
    "pycharm": {
     "name": "#%%\n"
    }
   }
  },
  {
   "cell_type": "code",
   "execution_count": 36,
   "outputs": [],
   "source": [
    "top_combinations = segments[top_combinations_idx]"
   ],
   "metadata": {
    "collapsed": false,
    "pycharm": {
     "name": "#%%\n"
    }
   }
  },
  {
   "cell_type": "code",
   "execution_count": 40,
   "outputs": [],
   "source": [
    "top_segment_tokens = tokens[top_combinations]"
   ],
   "metadata": {
    "collapsed": false,
    "pycharm": {
     "name": "#%%\n"
    }
   }
  },
  {
   "cell_type": "code",
   "execution_count": 42,
   "outputs": [],
   "source": [
    "ids_to_tokens = model.tokenizer.ids_to_tokens"
   ],
   "metadata": {
    "collapsed": false,
    "pycharm": {
     "name": "#%%\n"
    }
   }
  },
  {
   "cell_type": "code",
   "execution_count": 45,
   "outputs": [
    {
     "name": "stdout",
     "output_type": "stream",
     "text": [
      "of a cross \n",
      "part of a \n",
      "a cross - \n",
      "quality through delivery \n",
      "- functional agile \n"
     ]
    }
   ],
   "source": [
    "for segment in top_segment_tokens:\n",
    "    for token in segment:\n",
    "        print(ids_to_tokens[int(token)], end=' ')\n",
    "    print()"
   ],
   "metadata": {
    "collapsed": false,
    "pycharm": {
     "name": "#%%\n"
    }
   }
  },
  {
   "cell_type": "code",
   "execution_count": null,
   "outputs": [],
   "source": [],
   "metadata": {
    "collapsed": false,
    "pycharm": {
     "name": "#%%\n"
    }
   }
  }
 ],
 "metadata": {
  "kernelspec": {
   "display_name": "Python 3",
   "language": "python",
   "name": "python3"
  },
  "language_info": {
   "codemirror_mode": {
    "name": "ipython",
    "version": 2
   },
   "file_extension": ".py",
   "mimetype": "text/x-python",
   "name": "python",
   "nbconvert_exporter": "python",
   "pygments_lexer": "ipython2",
   "version": "2.7.6"
  }
 },
 "nbformat": 4,
 "nbformat_minor": 0
}