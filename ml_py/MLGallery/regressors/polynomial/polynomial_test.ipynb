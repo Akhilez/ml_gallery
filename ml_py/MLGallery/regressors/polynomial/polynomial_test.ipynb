{
  "nbformat": 4,
  "nbformat_minor": 0,
  "metadata": {
    "colab": {
      "name": "polynomial_learner.ipynb",
      "provenance": [],
      "authorship_tag": "ABX9TyPAYRmyx73n2/FOfUisUFa6",
      "include_colab_link": true
    },
    "kernelspec": {
      "name": "python3",
      "display_name": "Python 3"
    }
  },
  "cells": [
    {
      "cell_type": "markdown",
      "metadata": {
        "id": "view-in-github",
        "colab_type": "text"
      },
      "source": [
        "<a href=\"https://colab.research.google.com/github/Akhilez/ml_gallery/blob/master/ml_py/MLGallery/regressors/polynomial/polynomial_test.ipynb\" target=\"_parent\"><img src=\"https://colab.research.google.com/assets/colab-badge.svg\" alt=\"Open In Colab\"/></a>"
      ]
    },
    {
      "cell_type": "markdown",
      "metadata": {
        "id": "u3ZU36Kxwkor",
        "colab_type": "text"
      },
      "source": [
        "# Polynomial Equation\n",
        "\n",
        "An equation that can approximate a curve of certain complexity\n",
        "\n",
        "Curve equation => w1(x^n) + w2(x^n-1) + ... + wn(x^1) + b = 0"
      ]
    },
    {
      "cell_type": "markdown",
      "metadata": {
        "id": "-j11kqJbyMeN",
        "colab_type": "text"
      },
      "source": [
        "First sample: 2x^{5}+3x^{4}-2x^{3}-x^{2}+2x-1=y"
      ]
    },
    {
      "cell_type": "code",
      "metadata": {
        "id": "TEOo1bikwjkC",
        "colab_type": "code",
        "colab": {}
      },
      "source": [
        "import torch\n",
        "import numpy as np"
      ],
      "execution_count": 0,
      "outputs": []
    },
    {
      "cell_type": "code",
      "metadata": {
        "id": "KbbO88iGwhC7",
        "colab_type": "code",
        "colab": {}
      },
      "source": [
        "params = [2, 3, -2, -1, 2, -1]\n",
        "def equation (x):\n",
        "    return 2 * x**5 + 3 * x**4 -2 * x**3 -1 * x**2 + 2 * x -1"
      ],
      "execution_count": 0,
      "outputs": []
    },
    {
      "cell_type": "code",
      "metadata": {
        "id": "A2r6igHV1RVE",
        "colab_type": "code",
        "colab": {}
      },
      "source": [
        "x = (torch.rand((100)) - 0.5) * 5\n",
        "y = equation(x)"
      ],
      "execution_count": 0,
      "outputs": []
    },
    {
      "cell_type": "code",
      "metadata": {
        "id": "ehp_3hMT1kE5",
        "colab_type": "code",
        "colab": {}
      },
      "source": [
        "class PolynomialLearner (torch.nn.Module):\n",
        "    def __init__(self):\n",
        "        super().__init__()\n",
        "        self.order = 5\n",
        "        self.w = (torch.rand((5)) - 0.5).requires_grad_()\n",
        "        self.b = torch.zeros((1), requires_grad=True)\n",
        "\n",
        "    def forward(self, x):\n",
        "        x = torch.stack([x ** i for i in range(5, 0, -1)])\n",
        "        return sum((x.T * self.w).T) + self.b\n",
        "\n",
        "learner = PolynomialLearner()\n",
        "optimizer = torch.optim.Adam([learner.w, learner.b])"
      ],
      "execution_count": 0,
      "outputs": []
    },
    {
      "cell_type": "code",
      "metadata": {
        "id": "DlRollAs669n",
        "colab_type": "code",
        "colab": {
          "base_uri": "https://localhost:8080/",
          "height": 459
        },
        "outputId": "e9e48add-be3a-4fa0-f684-39c553794600"
      },
      "source": [
        "epochs = 20000\n",
        "\n",
        "for epoch in range(epochs):\n",
        "    optimizer.zero_grad()\n",
        "\n",
        "    yh = learner(x)\n",
        "\n",
        "    loss = sum((y - yh)**2)\n",
        "\n",
        "    loss.backward()\n",
        "    optimizer.step()\n",
        "\n",
        "    if epoch % 1000 == 0:\n",
        "        print(loss)\n",
        "\n",
        "for i in range(len(params)-1):\n",
        "    print(params[i], learner.w[i].data.item())\n",
        "print(params[-1], learner.b.data.item())"
      ],
      "execution_count": 166,
      "outputs": [
        {
          "output_type": "stream",
          "text": [
            "tensor(406753.4375, grad_fn=<AddBackward0>)\n",
            "tensor(94141.2500, grad_fn=<AddBackward0>)\n",
            "tensor(22881.3867, grad_fn=<AddBackward0>)\n",
            "tensor(7148.9214, grad_fn=<AddBackward0>)\n",
            "tensor(3337.3750, grad_fn=<AddBackward0>)\n",
            "tensor(2359.2041, grad_fn=<AddBackward0>)\n",
            "tensor(1625.3308, grad_fn=<AddBackward0>)\n",
            "tensor(1003.4916, grad_fn=<AddBackward0>)\n",
            "tensor(570.7032, grad_fn=<AddBackward0>)\n",
            "tensor(335.5934, grad_fn=<AddBackward0>)\n",
            "tensor(227.4709, grad_fn=<AddBackward0>)\n",
            "tensor(162.9536, grad_fn=<AddBackward0>)\n",
            "tensor(106.3519, grad_fn=<AddBackward0>)\n",
            "tensor(57.5583, grad_fn=<AddBackward0>)\n",
            "tensor(24.6835, grad_fn=<AddBackward0>)\n",
            "tensor(8.2383, grad_fn=<AddBackward0>)\n",
            "tensor(1.9727, grad_fn=<AddBackward0>)\n",
            "tensor(0.2391, grad_fn=<AddBackward0>)\n",
            "tensor(0.0078, grad_fn=<AddBackward0>)\n",
            "tensor(2.6021e-05, grad_fn=<AddBackward0>)\n",
            "2 1.999998927116394\n",
            "3 3.0000007152557373\n",
            "-2 -1.9999926090240479\n",
            "-1 -1.000003457069397\n",
            "2 1.999988079071045\n",
            "-1 -0.9999971985816956\n"
          ],
          "name": "stdout"
        }
      ]
    },
    {
      "cell_type": "code",
      "metadata": {
        "id": "njoLI9xP7una",
        "colab_type": "code",
        "colab": {}
      },
      "source": [
        ""
      ],
      "execution_count": 0,
      "outputs": []
    }
  ]
}