{
 "cells": [
  {
   "cell_type": "code",
   "execution_count": 2,
   "metadata": {},
   "outputs": [],
   "source": [
    "import torch\n",
    "from torch.nn.functional import relu\n",
    "from lib.mnist_aug.mnist_augmenter import DataManager, MNISTAug"
   ]
  },
  {
   "cell_type": "code",
   "execution_count": 3,
   "metadata": {},
   "outputs": [],
   "source": [
    "aug = MNISTAug()\n",
    "dm = DataManager()\n",
    "dm.load_test()"
   ]
  },
  {
   "cell_type": "code",
   "execution_count": 4,
   "metadata": {},
   "outputs": [],
   "source": [
    "x, y = aug.get_augmented(dm.x_test, dm.y_test, 10)"
   ]
  },
  {
   "cell_type": "code",
   "execution_count": 5,
   "metadata": {
    "pycharm": {
     "name": "#%%\n"
    }
   },
   "outputs": [],
   "source": [
    "x = torch.tensor(x.reshape(-1, 1, 112, 112)).type('torch.FloatTensor')"
   ]
  },
  {
   "cell_type": "code",
   "execution_count": 6,
   "metadata": {},
   "outputs": [
    {
     "name": "stderr",
     "output_type": "stream",
     "text": [
      "/Users/akhildevarashetti/Code/ml_gallery/ml_py/lib/mnist_aug/mnist_augmenter.py:152: UserWarning: Matplotlib is currently using module://ipykernel.pylab.backend_inline, which is a non-GUI backend, so cannot show the figure.\n",
      "  fig.show()\n"
     ]
    },
    {
     "data": {
      "text/plain": [
       "[{'class': 0,\n",
       "  'class_one_hot': array([1., 0., 0., 0., 0., 0., 0., 0., 0., 0.]),\n",
       "  'x1': 38,\n",
       "  'y1': 1,\n",
       "  'x2': 74,\n",
       "  'y2': 37,\n",
       "  'cx': 56.0,\n",
       "  'cy': 19.0,\n",
       "  'height': 36,\n",
       "  'width': 36}]"
      ]
     },
     "execution_count": 6,
     "metadata": {},
     "output_type": "execute_result"
    },
    {
     "data": {
      "image/png": "[encoded data removed]",
      "text/plain": [
       "<Figure size 432x288 with 1 Axes>"
      ]
     },
     "metadata": {
      "needs_background": "light"
     },
     "output_type": "display_data"
    }
   ],
   "source": [
    "DataManager.plot_num(x[1].reshape((112, 112)), y[1])\n",
    "y[1]"
   ]
  },
  {
   "cell_type": "code",
   "execution_count": 7,
   "metadata": {},
   "outputs": [],
   "source": [
    "anchor_cx = 56\n",
    "anchor_cy = 56\n",
    "anchor_h = 28\n",
    "anchor_w = 28"
   ]
  },
  {
   "cell_type": "code",
   "execution_count": 19,
   "metadata": {},
   "outputs": [],
   "source": [
    "class DetectorV1 (torch.nn.Module):\n",
    "    def __init__(self):\n",
    "        super().__init__()\n",
    "        self.conv1 = torch.nn.Conv2d(1, 32, 3, padding=1)  # 112x112\n",
    "        self.conv2 = torch.nn.Conv2d(32, 64, 3, stride=2, padding=1)  # 56x56\n",
    "        self.conv3 = torch.nn.Conv2d(64, 128, 3, stride=2, padding=1)  # 28x28\n",
    "        self.conv4 = torch.nn.Conv2d(128, 256, 3, stride=2, padding=1)  # 14x14\n",
    "        self.conv5 = torch.nn.Conv2d(256, 512, 3, stride=2, padding=1)  # 7x7\n",
    "        self.linear1 = torch.nn.Linear(25088, 4096)\n",
    "        self.linear2 = torch.nn.Linear(4096, 512)\n",
    "        self.linear3 = torch.nn.Linear(512, 4)\n",
    "\n",
    "    def forward(self, x):\n",
    "        x = relu(self.conv1(x))  # 112\n",
    "        x = relu(self.conv2(x))  # 56\n",
    "        x = relu(self.conv3(x))  # 28\n",
    "        x = relu(self.conv4(x))  # 14\n",
    "        x = relu(self.conv5(x))  # 7\n",
    "        x = torch.flatten(x, 1)\n",
    "        x = relu(self.linear1(x))\n",
    "        x = relu(self.linear2(x))\n",
    "        x = torch.nn.functional.tanh(self.linear3(x))\n",
    "        return x\n",
    "\n",
    "\n",
    "model = DetectorV1()\n",
    "optimizer = torch.optim.Adam(model.parameters(), lr=0.001)"
   ]
  },
  {
   "cell_type": "code",
   "execution_count": 20,
   "metadata": {
    "pycharm": {
     "name": "#%%\n"
    }
   },
   "outputs": [
    {
     "name": "stderr",
     "output_type": "stream",
     "text": [
      "/Users/akhildevarashetti/Code/ml_gallery/ml_py/venv/lib/python3.8/site-packages/torch/nn/functional.py:1558: UserWarning: nn.functional.tanh is deprecated. Use torch.tanh instead.\n",
      "  warnings.warn(\"nn.functional.tanh is deprecated. Use torch.tanh instead.\")\n"
     ]
    },
    {
     "name": "stdout",
     "output_type": "stream",
     "text": [
      "tensor(1.1062, grad_fn=<AddBackward0>)\n",
      "tensor(7.2193, grad_fn=<AddBackward0>)\n",
      "tensor(1.4599, grad_fn=<AddBackward0>)\n",
      "tensor(1.1722, grad_fn=<AddBackward0>)\n",
      "tensor(1.0373, grad_fn=<AddBackward0>)\n",
      "tensor(0.9993, grad_fn=<AddBackward0>)\n",
      "tensor(0.9523, grad_fn=<AddBackward0>)\n",
      "tensor(0.8824, grad_fn=<AddBackward0>)\n",
      "tensor(0.9232, grad_fn=<AddBackward0>)\n",
      "tensor(0.8739, grad_fn=<AddBackward0>)\n"
     ]
    }
   ],
   "source": [
    "epochs = 10\n",
    "\n",
    "for epoch in range(epochs):\n",
    "\n",
    "    optimizer.zero_grad()\n",
    "\n",
    "    y_hat = model(x)\n",
    "\n",
    "    y_d = []\n",
    "    for i in range(len(y)):\n",
    "        cx_d = (y[i][0]['cx'] - anchor_cx) / 112\n",
    "        cy_d = (y[i][0]['cy'] - anchor_cy) / 112\n",
    "        w_d = (y[i][0]['width'] - anchor_w) / 112\n",
    "        h_d = (y[i][0]['height'] - anchor_h) / 112\n",
    "        y_d.append((cx_d, cy_d, w_d, h_d))\n",
    "    y_d = torch.tensor(y_d)  # TODO: Move this to preprocessing\n",
    "\n",
    "    loss = sum(sum((y_d - y_hat[0])**2))\n",
    "    print(loss)\n",
    "    \n",
    "    loss.backward()\n",
    "    optimizer.step()"
   ]
  },
  {
   "cell_type": "code",
   "execution_count": null,
   "metadata": {},
   "outputs": [],
   "source": []
  }
 ],
 "metadata": {
  "kernelspec": {
   "display_name": "Python 3",
   "language": "python",
   "name": "python3"
  },
  "language_info": {
   "codemirror_mode": {
    "name": "ipython",
    "version": 3
   },
   "file_extension": ".py",
   "mimetype": "text/x-python",
   "name": "python",
   "nbconvert_exporter": "python",
   "pygments_lexer": "ipython3",
   "version": "3.8.3"
  }
 },
 "nbformat": 4,
 "nbformat_minor": 1
}
