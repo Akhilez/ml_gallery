{
 "cells": [
  {
   "cell_type": "code",
   "execution_count": 9,
   "metadata": {},
   "outputs": [],
   "source": [
    "import torch\n",
    "from torch.nn.functional import relu\n",
    "from lib.mnist_aug.mnist_augmenter import DataManager, MNISTAug"
   ]
  },
  {
   "cell_type": "code",
   "execution_count": 6,
   "metadata": {},
   "outputs": [],
   "source": [
    "aug = MNISTAug()\n",
    "dm = DataManager()\n",
    "dm.load_test()"
   ]
  },
  {
   "cell_type": "code",
   "execution_count": 7,
   "metadata": {},
   "outputs": [],
   "source": [
    "x, y = aug.get_augmented(dm.x_test, dm.y_test, 10)"
   ]
  },
  {
   "cell_type": "code",
   "execution_count": 21,
   "metadata": {
    "pycharm": {
     "name": "#%%\n"
    }
   },
   "outputs": [
    {
     "name": "stderr",
     "output_type": "stream",
     "text": [
      "<ipython-input-21-5f8ba7c27508>:1: UserWarning: To copy construct from a tensor, it is recommended to use sourceTensor.clone().detach() or sourceTensor.clone().detach().requires_grad_(True), rather than torch.tensor(sourceTensor).\n",
      "  x = torch.tensor(x.reshape(-1, 1, 112, 112)).type('torch.FloatTensor')\n"
     ]
    }
   ],
   "source": [
    "x = torch.tensor(x.reshape(-1, 1, 112, 112)).type('torch.FloatTensor')"
   ]
  },
  {
   "cell_type": "code",
   "execution_count": 41,
   "metadata": {},
   "outputs": [
    {
     "data": {
      "text/plain": [
       "[{'class': 8,\n",
       "  'class_one_hot': array([0., 0., 0., 0., 0., 0., 0., 0., 1., 0.]),\n",
       "  'x1': 51,\n",
       "  'y1': 90,\n",
       "  'x2': 66,\n",
       "  'y2': 105,\n",
       "  'cx': 58.5,\n",
       "  'cy': 97.5,\n",
       "  'height': 15,\n",
       "  'width': 15}]"
      ]
     },
     "execution_count": 41,
     "metadata": {},
     "output_type": "execute_result"
    },
    {
     "data": {
      "image/png": "[encoded data removed]",
      "text/plain": [
       "<Figure size 432x288 with 1 Axes>"
      ]
     },
     "metadata": {
      "needs_background": "light"
     },
     "output_type": "display_data"
    }
   ],
   "source": [
    "DataManager.plot_num(x[1].reshape((112, 112)), y[1])\n",
    "y[1]"
   ]
  },
  {
   "cell_type": "code",
   "execution_count": 36,
   "metadata": {},
   "outputs": [],
   "source": [
    "\n",
    "class DetectorV1 (torch.nn.Module):\n",
    "    def __init__(self):\n",
    "        super().__init__()\n",
    "        self.conv1 = torch.nn.Conv2d(1, 32, 3, padding=1)  # 112x112\n",
    "        self.conv2 = torch.nn.Conv2d(32, 64, 3, stride=2, padding=1)  # 56x56\n",
    "        self.conv3 = torch.nn.Conv2d(64, 128, 3, stride=2, padding=1)  # 28x28\n",
    "        self.conv4 = torch.nn.Conv2d(128, 256, 3, stride=2, padding=1)  # 14x14\n",
    "        self.conv5 = torch.nn.Conv2d(256, 512, 3, stride=2, padding=1)  # 7x7\n",
    "        self.linear1 = torch.nn.Linear(25088, 4096)\n",
    "        self.linear2 = torch.nn.Linear(4096, 512)\n",
    "        self.linear3 = torch.nn.Linear(512, 4)\n",
    "\n",
    "    def forward(self, x):\n",
    "        print(x.shape)\n",
    "        x = relu(self.conv1(x))  # 112\n",
    "        print(x.shape)\n",
    "        x = relu(self.conv2(x))  # 56\n",
    "        print(x.shape)\n",
    "        x = relu(self.conv3(x))  # 28\n",
    "        print(x.shape)\n",
    "        x = relu(self.conv4(x))  # 14\n",
    "        print(x.shape)\n",
    "        x = relu(self.conv5(x))  # 7\n",
    "        print(x.shape)\n",
    "        x = torch.flatten(x, 1)\n",
    "        print(x.shape)\n",
    "        x = relu(self.linear1(x))\n",
    "        x = relu(self.linear2(x))\n",
    "        x = self.linear3(x)\n",
    "        return x\n",
    "\n",
    "\n",
    "model = DetectorV1()\n",
    "optimizer = torch.optim.Adam(model.parameters(), lr=0.001)"
   ]
  },
  {
   "cell_type": "code",
   "execution_count": 37,
   "metadata": {
    "pycharm": {
     "name": "#%%\n"
    }
   },
   "outputs": [
    {
     "name": "stdout",
     "output_type": "stream",
     "text": [
      "torch.Size([10, 1, 112, 112])\n",
      "torch.Size([10, 32, 112, 112])\n",
      "torch.Size([10, 64, 56, 56])\n",
      "torch.Size([10, 128, 28, 28])\n",
      "torch.Size([10, 256, 14, 14])\n",
      "torch.Size([10, 512, 7, 7])\n",
      "torch.Size([10, 25088])\n"
     ]
    }
   ],
   "source": [
    "optimizer.zero_grad()\n",
    "\n",
    "y_hat = model(x)"
   ]
  },
  {
   "cell_type": "code",
   "execution_count": 38,
   "metadata": {},
   "outputs": [
    {
     "data": {
      "text/plain": [
       "tensor([[0.0427, 0.0184, 0.0258, 0.0385],\n",
       "        [0.0427, 0.0185, 0.0259, 0.0384],\n",
       "        [0.0426, 0.0184, 0.0258, 0.0384],\n",
       "        [0.0428, 0.0185, 0.0259, 0.0385],\n",
       "        [0.0426, 0.0185, 0.0258, 0.0384],\n",
       "        [0.0426, 0.0185, 0.0256, 0.0385],\n",
       "        [0.0427, 0.0185, 0.0258, 0.0384],\n",
       "        [0.0427, 0.0185, 0.0258, 0.0384],\n",
       "        [0.0427, 0.0185, 0.0259, 0.0384],\n",
       "        [0.0427, 0.0185, 0.0260, 0.0383]], grad_fn=<AddmmBackward>)"
      ]
     },
     "execution_count": 38,
     "metadata": {},
     "output_type": "execute_result"
    }
   ],
   "source": [
    "cx_d_hat, cy_d_hat, h_d_hat, w_d_hat = y_hat[0]"
   ]
  },
  {
   "cell_type": "code",
   "execution_count": 61,
   "metadata": {},
   "outputs": [],
   "source": [
    "anchor_cx = 56\n",
    "anchor_cy = 56\n",
    "anchor_h = 28\n",
    "anchor_w = 28"
   ]
  },
  {
   "cell_type": "code",
   "execution_count": 62,
   "metadata": {
    "pycharm": {
     "name": "#%%\n"
    }
   },
   "outputs": [
    {
     "name": "stdout",
     "output_type": "stream",
     "text": [
      "{'class': 3, 'class_one_hot': array([0., 0., 0., 1., 0., 0., 0., 0., 0., 0.]), 'x1': 67, 'y1': 76, 'x2': 91, 'y2': 100, 'cx': 79.0, 'cy': 88.0, 'height': 24, 'width': 24}\n"
     ]
    }
   ],
   "source": [
    "print(y[0][0])\n",
    "cx_d = (y[0][0]['cx'] - anchor_cx) / 112\n",
    "cy_d = (y[0][0]['cy'] - anchor_cy) / 112\n",
    "w_d = (y[0][0]['width'] - anchor_w) / 112\n",
    "h_d = (y[0][0]['height'] - anchor_h) / 112"
   ]
  },
  {
   "cell_type": "code",
   "execution_count": 66,
   "metadata": {
    "pycharm": {
     "name": "#%%\n"
    }
   },
   "outputs": [
    {
     "data": {
      "text/plain": [
       "tensor([ 0.2054,  0.2857, -0.0357, -0.0357])"
      ]
     },
     "execution_count": 66,
     "metadata": {},
     "output_type": "execute_result"
    }
   ],
   "source": [
    "yi = torch.tensor((cx_d, cy_d, w_d, h_d))\n",
    "yi"
   ]
  },
  {
   "cell_type": "code",
   "execution_count": null,
   "outputs": [],
   "source": [
    "loss_i = yi - y_hat[0]\n",
    "loss_i"
   ],
   "metadata": {
    "collapsed": false,
    "pycharm": {
     "name": "#%%\n"
    }
   }
  },
  {
   "cell_type": "code",
   "execution_count": null,
   "outputs": [],
   "source": [],
   "metadata": {
    "collapsed": false,
    "pycharm": {
     "name": "#%%\n"
    }
   }
  },
  {
   "cell_type": "code",
   "execution_count": 67,
   "metadata": {},
   "outputs": [
    {
     "data": {
      "text/plain": [
       "tensor([ 0.2075,  0.2719, -0.0368, -0.0460], grad_fn=<SubBackward0>)"
      ]
     },
     "execution_count": 67,
     "metadata": {},
     "output_type": "execute_result"
    }
   ],
   "source": []
  },
  {
   "cell_type": "code",
   "execution_count": null,
   "metadata": {},
   "outputs": [],
   "source": []
  }
 ],
 "metadata": {
  "kernelspec": {
   "display_name": "Python 3",
   "language": "python",
   "name": "python3"
  },
  "language_info": {
   "codemirror_mode": {
    "name": "ipython",
    "version": 3
   },
   "file_extension": ".py",
   "mimetype": "text/x-python",
   "name": "python",
   "nbconvert_exporter": "python",
   "pygments_lexer": "ipython3",
   "version": "3.8.3"
  }
 },
 "nbformat": 4,
 "nbformat_minor": 1
}