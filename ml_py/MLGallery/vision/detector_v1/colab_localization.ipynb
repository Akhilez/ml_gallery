{
  "nbformat": 4,
  "nbformat_minor": 0,
  "metadata": {
    "colab": {
      "name": "mnist_localization.ipynb",
      "provenance": []
    },
    "kernelspec": {
      "name": "python3",
      "display_name": "Python 3"
    },
    "accelerator": "GPU",
    "widgets": {
      "application/vnd.jupyter.widget-state+json": {
        "72b5c85af8474ccf925d2ea3d8bf035f": {
          "model_module": "@jupyter-widgets/controls",
          "model_name": "HBoxModel",
          "state": {
            "_view_name": "HBoxView",
            "_dom_classes": [],
            "_model_name": "HBoxModel",
            "_view_module": "@jupyter-widgets/controls",
            "_model_module_version": "1.5.0",
            "_view_count": null,
            "_view_module_version": "1.5.0",
            "box_style": "",
            "layout": "IPY_MODEL_a8139198ca0943ef81eb0e3d0d21bc82",
            "_model_module": "@jupyter-widgets/controls",
            "children": [
              "IPY_MODEL_b285e8922b4c4472a33911f17cadf242",
              "IPY_MODEL_dfdab44195fd46b3b19f2c6abaefc0bf"
            ]
          }
        },
        "a8139198ca0943ef81eb0e3d0d21bc82": {
          "model_module": "@jupyter-widgets/base",
          "model_name": "LayoutModel",
          "state": {
            "_view_name": "LayoutView",
            "grid_template_rows": null,
            "right": null,
            "justify_content": null,
            "_view_module": "@jupyter-widgets/base",
            "overflow": null,
            "_model_module_version": "1.2.0",
            "_view_count": null,
            "flex_flow": null,
            "width": null,
            "min_width": null,
            "border": null,
            "align_items": null,
            "bottom": null,
            "_model_module": "@jupyter-widgets/base",
            "top": null,
            "grid_column": null,
            "overflow_y": null,
            "overflow_x": null,
            "grid_auto_flow": null,
            "grid_area": null,
            "grid_template_columns": null,
            "flex": null,
            "_model_name": "LayoutModel",
            "justify_items": null,
            "grid_row": null,
            "max_height": null,
            "align_content": null,
            "visibility": null,
            "align_self": null,
            "height": null,
            "min_height": null,
            "padding": null,
            "grid_auto_rows": null,
            "grid_gap": null,
            "max_width": null,
            "order": null,
            "_view_module_version": "1.2.0",
            "grid_template_areas": null,
            "object_position": null,
            "object_fit": null,
            "grid_auto_columns": null,
            "margin": null,
            "display": null,
            "left": null
          }
        },
        "b285e8922b4c4472a33911f17cadf242": {
          "model_module": "@jupyter-widgets/controls",
          "model_name": "FloatProgressModel",
          "state": {
            "_view_name": "ProgressView",
            "style": "IPY_MODEL_b6f5c61596d94d1297f9486e17a60b1b",
            "_dom_classes": [],
            "description": "",
            "_model_name": "FloatProgressModel",
            "bar_style": "success",
            "max": 1,
            "_view_module": "@jupyter-widgets/controls",
            "_model_module_version": "1.5.0",
            "value": 1,
            "_view_count": null,
            "_view_module_version": "1.5.0",
            "orientation": "horizontal",
            "min": 0,
            "description_tooltip": null,
            "_model_module": "@jupyter-widgets/controls",
            "layout": "IPY_MODEL_d69d31c99e814907915765149b64f676"
          }
        },
        "dfdab44195fd46b3b19f2c6abaefc0bf": {
          "model_module": "@jupyter-widgets/controls",
          "model_name": "HTMLModel",
          "state": {
            "_view_name": "HTMLView",
            "style": "IPY_MODEL_35ec3960ca0f45b683eb6c43e48b3d4a",
            "_dom_classes": [],
            "description": "",
            "_model_name": "HTMLModel",
            "placeholder": "​",
            "_view_module": "@jupyter-widgets/controls",
            "_model_module_version": "1.5.0",
            "value": " 9920512/? [00:06&lt;00:00, 1526264.13it/s]",
            "_view_count": null,
            "_view_module_version": "1.5.0",
            "description_tooltip": null,
            "_model_module": "@jupyter-widgets/controls",
            "layout": "IPY_MODEL_5bf15137e4814e5e836135598e810303"
          }
        },
        "b6f5c61596d94d1297f9486e17a60b1b": {
          "model_module": "@jupyter-widgets/controls",
          "model_name": "ProgressStyleModel",
          "state": {
            "_view_name": "StyleView",
            "_model_name": "ProgressStyleModel",
            "description_width": "initial",
            "_view_module": "@jupyter-widgets/base",
            "_model_module_version": "1.5.0",
            "_view_count": null,
            "_view_module_version": "1.2.0",
            "bar_color": null,
            "_model_module": "@jupyter-widgets/controls"
          }
        },
        "d69d31c99e814907915765149b64f676": {
          "model_module": "@jupyter-widgets/base",
          "model_name": "LayoutModel",
          "state": {
            "_view_name": "LayoutView",
            "grid_template_rows": null,
            "right": null,
            "justify_content": null,
            "_view_module": "@jupyter-widgets/base",
            "overflow": null,
            "_model_module_version": "1.2.0",
            "_view_count": null,
            "flex_flow": null,
            "width": null,
            "min_width": null,
            "border": null,
            "align_items": null,
            "bottom": null,
            "_model_module": "@jupyter-widgets/base",
            "top": null,
            "grid_column": null,
            "overflow_y": null,
            "overflow_x": null,
            "grid_auto_flow": null,
            "grid_area": null,
            "grid_template_columns": null,
            "flex": null,
            "_model_name": "LayoutModel",
            "justify_items": null,
            "grid_row": null,
            "max_height": null,
            "align_content": null,
            "visibility": null,
            "align_self": null,
            "height": null,
            "min_height": null,
            "padding": null,
            "grid_auto_rows": null,
            "grid_gap": null,
            "max_width": null,
            "order": null,
            "_view_module_version": "1.2.0",
            "grid_template_areas": null,
            "object_position": null,
            "object_fit": null,
            "grid_auto_columns": null,
            "margin": null,
            "display": null,
            "left": null
          }
        },
        "35ec3960ca0f45b683eb6c43e48b3d4a": {
          "model_module": "@jupyter-widgets/controls",
          "model_name": "DescriptionStyleModel",
          "state": {
            "_view_name": "StyleView",
            "_model_name": "DescriptionStyleModel",
            "description_width": "",
            "_view_module": "@jupyter-widgets/base",
            "_model_module_version": "1.5.0",
            "_view_count": null,
            "_view_module_version": "1.2.0",
            "_model_module": "@jupyter-widgets/controls"
          }
        },
        "5bf15137e4814e5e836135598e810303": {
          "model_module": "@jupyter-widgets/base",
          "model_name": "LayoutModel",
          "state": {
            "_view_name": "LayoutView",
            "grid_template_rows": null,
            "right": null,
            "justify_content": null,
            "_view_module": "@jupyter-widgets/base",
            "overflow": null,
            "_model_module_version": "1.2.0",
            "_view_count": null,
            "flex_flow": null,
            "width": null,
            "min_width": null,
            "border": null,
            "align_items": null,
            "bottom": null,
            "_model_module": "@jupyter-widgets/base",
            "top": null,
            "grid_column": null,
            "overflow_y": null,
            "overflow_x": null,
            "grid_auto_flow": null,
            "grid_area": null,
            "grid_template_columns": null,
            "flex": null,
            "_model_name": "LayoutModel",
            "justify_items": null,
            "grid_row": null,
            "max_height": null,
            "align_content": null,
            "visibility": null,
            "align_self": null,
            "height": null,
            "min_height": null,
            "padding": null,
            "grid_auto_rows": null,
            "grid_gap": null,
            "max_width": null,
            "order": null,
            "_view_module_version": "1.2.0",
            "grid_template_areas": null,
            "object_position": null,
            "object_fit": null,
            "grid_auto_columns": null,
            "margin": null,
            "display": null,
            "left": null
          }
        },
        "cec802a2d2ac431191120de51cb96099": {
          "model_module": "@jupyter-widgets/controls",
          "model_name": "HBoxModel",
          "state": {
            "_view_name": "HBoxView",
            "_dom_classes": [],
            "_model_name": "HBoxModel",
            "_view_module": "@jupyter-widgets/controls",
            "_model_module_version": "1.5.0",
            "_view_count": null,
            "_view_module_version": "1.5.0",
            "box_style": "",
            "layout": "IPY_MODEL_ddc192c20d3f4373ba8cd463e760845c",
            "_model_module": "@jupyter-widgets/controls",
            "children": [
              "IPY_MODEL_f37aea11f95341f8b09021f67b03c7d7",
              "IPY_MODEL_c0d555f7feac4bab96ccbe4cf1bda3a4"
            ]
          }
        },
        "ddc192c20d3f4373ba8cd463e760845c": {
          "model_module": "@jupyter-widgets/base",
          "model_name": "LayoutModel",
          "state": {
            "_view_name": "LayoutView",
            "grid_template_rows": null,
            "right": null,
            "justify_content": null,
            "_view_module": "@jupyter-widgets/base",
            "overflow": null,
            "_model_module_version": "1.2.0",
            "_view_count": null,
            "flex_flow": null,
            "width": null,
            "min_width": null,
            "border": null,
            "align_items": null,
            "bottom": null,
            "_model_module": "@jupyter-widgets/base",
            "top": null,
            "grid_column": null,
            "overflow_y": null,
            "overflow_x": null,
            "grid_auto_flow": null,
            "grid_area": null,
            "grid_template_columns": null,
            "flex": null,
            "_model_name": "LayoutModel",
            "justify_items": null,
            "grid_row": null,
            "max_height": null,
            "align_content": null,
            "visibility": null,
            "align_self": null,
            "height": null,
            "min_height": null,
            "padding": null,
            "grid_auto_rows": null,
            "grid_gap": null,
            "max_width": null,
            "order": null,
            "_view_module_version": "1.2.0",
            "grid_template_areas": null,
            "object_position": null,
            "object_fit": null,
            "grid_auto_columns": null,
            "margin": null,
            "display": null,
            "left": null
          }
        },
        "f37aea11f95341f8b09021f67b03c7d7": {
          "model_module": "@jupyter-widgets/controls",
          "model_name": "FloatProgressModel",
          "state": {
            "_view_name": "ProgressView",
            "style": "IPY_MODEL_2662cb7bcb924658bc3f9b37adfea680",
            "_dom_classes": [],
            "description": "",
            "_model_name": "FloatProgressModel",
            "bar_style": "success",
            "max": 1,
            "_view_module": "@jupyter-widgets/controls",
            "_model_module_version": "1.5.0",
            "value": 1,
            "_view_count": null,
            "_view_module_version": "1.5.0",
            "orientation": "horizontal",
            "min": 0,
            "description_tooltip": null,
            "_model_module": "@jupyter-widgets/controls",
            "layout": "IPY_MODEL_e53f6864b8534d2a85620507f8d69776"
          }
        },
        "c0d555f7feac4bab96ccbe4cf1bda3a4": {
          "model_module": "@jupyter-widgets/controls",
          "model_name": "HTMLModel",
          "state": {
            "_view_name": "HTMLView",
            "style": "IPY_MODEL_8c066a6af06a44c6a397f005d73231ce",
            "_dom_classes": [],
            "description": "",
            "_model_name": "HTMLModel",
            "placeholder": "​",
            "_view_module": "@jupyter-widgets/controls",
            "_model_module_version": "1.5.0",
            "value": " 32768/? [00:03&lt;00:00, 9597.94it/s]",
            "_view_count": null,
            "_view_module_version": "1.5.0",
            "description_tooltip": null,
            "_model_module": "@jupyter-widgets/controls",
            "layout": "IPY_MODEL_f4d2f5c20050419d9704d90fa74e7bef"
          }
        },
        "2662cb7bcb924658bc3f9b37adfea680": {
          "model_module": "@jupyter-widgets/controls",
          "model_name": "ProgressStyleModel",
          "state": {
            "_view_name": "StyleView",
            "_model_name": "ProgressStyleModel",
            "description_width": "initial",
            "_view_module": "@jupyter-widgets/base",
            "_model_module_version": "1.5.0",
            "_view_count": null,
            "_view_module_version": "1.2.0",
            "bar_color": null,
            "_model_module": "@jupyter-widgets/controls"
          }
        },
        "e53f6864b8534d2a85620507f8d69776": {
          "model_module": "@jupyter-widgets/base",
          "model_name": "LayoutModel",
          "state": {
            "_view_name": "LayoutView",
            "grid_template_rows": null,
            "right": null,
            "justify_content": null,
            "_view_module": "@jupyter-widgets/base",
            "overflow": null,
            "_model_module_version": "1.2.0",
            "_view_count": null,
            "flex_flow": null,
            "width": null,
            "min_width": null,
            "border": null,
            "align_items": null,
            "bottom": null,
            "_model_module": "@jupyter-widgets/base",
            "top": null,
            "grid_column": null,
            "overflow_y": null,
            "overflow_x": null,
            "grid_auto_flow": null,
            "grid_area": null,
            "grid_template_columns": null,
            "flex": null,
            "_model_name": "LayoutModel",
            "justify_items": null,
            "grid_row": null,
            "max_height": null,
            "align_content": null,
            "visibility": null,
            "align_self": null,
            "height": null,
            "min_height": null,
            "padding": null,
            "grid_auto_rows": null,
            "grid_gap": null,
            "max_width": null,
            "order": null,
            "_view_module_version": "1.2.0",
            "grid_template_areas": null,
            "object_position": null,
            "object_fit": null,
            "grid_auto_columns": null,
            "margin": null,
            "display": null,
            "left": null
          }
        },
        "8c066a6af06a44c6a397f005d73231ce": {
          "model_module": "@jupyter-widgets/controls",
          "model_name": "DescriptionStyleModel",
          "state": {
            "_view_name": "StyleView",
            "_model_name": "DescriptionStyleModel",
            "description_width": "",
            "_view_module": "@jupyter-widgets/base",
            "_model_module_version": "1.5.0",
            "_view_count": null,
            "_view_module_version": "1.2.0",
            "_model_module": "@jupyter-widgets/controls"
          }
        },
        "f4d2f5c20050419d9704d90fa74e7bef": {
          "model_module": "@jupyter-widgets/base",
          "model_name": "LayoutModel",
          "state": {
            "_view_name": "LayoutView",
            "grid_template_rows": null,
            "right": null,
            "justify_content": null,
            "_view_module": "@jupyter-widgets/base",
            "overflow": null,
            "_model_module_version": "1.2.0",
            "_view_count": null,
            "flex_flow": null,
            "width": null,
            "min_width": null,
            "border": null,
            "align_items": null,
            "bottom": null,
            "_model_module": "@jupyter-widgets/base",
            "top": null,
            "grid_column": null,
            "overflow_y": null,
            "overflow_x": null,
            "grid_auto_flow": null,
            "grid_area": null,
            "grid_template_columns": null,
            "flex": null,
            "_model_name": "LayoutModel",
            "justify_items": null,
            "grid_row": null,
            "max_height": null,
            "align_content": null,
            "visibility": null,
            "align_self": null,
            "height": null,
            "min_height": null,
            "padding": null,
            "grid_auto_rows": null,
            "grid_gap": null,
            "max_width": null,
            "order": null,
            "_view_module_version": "1.2.0",
            "grid_template_areas": null,
            "object_position": null,
            "object_fit": null,
            "grid_auto_columns": null,
            "margin": null,
            "display": null,
            "left": null
          }
        },
        "ad9d880b5be74ea7b66cf7fc59919708": {
          "model_module": "@jupyter-widgets/controls",
          "model_name": "HBoxModel",
          "state": {
            "_view_name": "HBoxView",
            "_dom_classes": [],
            "_model_name": "HBoxModel",
            "_view_module": "@jupyter-widgets/controls",
            "_model_module_version": "1.5.0",
            "_view_count": null,
            "_view_module_version": "1.5.0",
            "box_style": "",
            "layout": "IPY_MODEL_06d6f57d35d848aea03b326da7e0b114",
            "_model_module": "@jupyter-widgets/controls",
            "children": [
              "IPY_MODEL_bbe2a1450db44d92ac2553d72c2b9cb8",
              "IPY_MODEL_b79fe01836244c71a8df84c10c7db60a"
            ]
          }
        },
        "06d6f57d35d848aea03b326da7e0b114": {
          "model_module": "@jupyter-widgets/base",
          "model_name": "LayoutModel",
          "state": {
            "_view_name": "LayoutView",
            "grid_template_rows": null,
            "right": null,
            "justify_content": null,
            "_view_module": "@jupyter-widgets/base",
            "overflow": null,
            "_model_module_version": "1.2.0",
            "_view_count": null,
            "flex_flow": null,
            "width": null,
            "min_width": null,
            "border": null,
            "align_items": null,
            "bottom": null,
            "_model_module": "@jupyter-widgets/base",
            "top": null,
            "grid_column": null,
            "overflow_y": null,
            "overflow_x": null,
            "grid_auto_flow": null,
            "grid_area": null,
            "grid_template_columns": null,
            "flex": null,
            "_model_name": "LayoutModel",
            "justify_items": null,
            "grid_row": null,
            "max_height": null,
            "align_content": null,
            "visibility": null,
            "align_self": null,
            "height": null,
            "min_height": null,
            "padding": null,
            "grid_auto_rows": null,
            "grid_gap": null,
            "max_width": null,
            "order": null,
            "_view_module_version": "1.2.0",
            "grid_template_areas": null,
            "object_position": null,
            "object_fit": null,
            "grid_auto_columns": null,
            "margin": null,
            "display": null,
            "left": null
          }
        },
        "bbe2a1450db44d92ac2553d72c2b9cb8": {
          "model_module": "@jupyter-widgets/controls",
          "model_name": "FloatProgressModel",
          "state": {
            "_view_name": "ProgressView",
            "style": "IPY_MODEL_59b8e29dd8ad4d3798c582c85c388ea8",
            "_dom_classes": [],
            "description": "",
            "_model_name": "FloatProgressModel",
            "bar_style": "success",
            "max": 1,
            "_view_module": "@jupyter-widgets/controls",
            "_model_module_version": "1.5.0",
            "value": 1,
            "_view_count": null,
            "_view_module_version": "1.5.0",
            "orientation": "horizontal",
            "min": 0,
            "description_tooltip": null,
            "_model_module": "@jupyter-widgets/controls",
            "layout": "IPY_MODEL_0058ac65d22647ed9eb023855372e9d2"
          }
        },
        "b79fe01836244c71a8df84c10c7db60a": {
          "model_module": "@jupyter-widgets/controls",
          "model_name": "HTMLModel",
          "state": {
            "_view_name": "HTMLView",
            "style": "IPY_MODEL_ec97d4c7504d4c68b03feb9cedc32cbd",
            "_dom_classes": [],
            "description": "",
            "_model_name": "HTMLModel",
            "placeholder": "​",
            "_view_module": "@jupyter-widgets/controls",
            "_model_module_version": "1.5.0",
            "value": " 1654784/? [00:02&lt;00:00, 719790.59it/s]",
            "_view_count": null,
            "_view_module_version": "1.5.0",
            "description_tooltip": null,
            "_model_module": "@jupyter-widgets/controls",
            "layout": "IPY_MODEL_ff58646e48854c4591a8b106b679cae0"
          }
        },
        "59b8e29dd8ad4d3798c582c85c388ea8": {
          "model_module": "@jupyter-widgets/controls",
          "model_name": "ProgressStyleModel",
          "state": {
            "_view_name": "StyleView",
            "_model_name": "ProgressStyleModel",
            "description_width": "initial",
            "_view_module": "@jupyter-widgets/base",
            "_model_module_version": "1.5.0",
            "_view_count": null,
            "_view_module_version": "1.2.0",
            "bar_color": null,
            "_model_module": "@jupyter-widgets/controls"
          }
        },
        "0058ac65d22647ed9eb023855372e9d2": {
          "model_module": "@jupyter-widgets/base",
          "model_name": "LayoutModel",
          "state": {
            "_view_name": "LayoutView",
            "grid_template_rows": null,
            "right": null,
            "justify_content": null,
            "_view_module": "@jupyter-widgets/base",
            "overflow": null,
            "_model_module_version": "1.2.0",
            "_view_count": null,
            "flex_flow": null,
            "width": null,
            "min_width": null,
            "border": null,
            "align_items": null,
            "bottom": null,
            "_model_module": "@jupyter-widgets/base",
            "top": null,
            "grid_column": null,
            "overflow_y": null,
            "overflow_x": null,
            "grid_auto_flow": null,
            "grid_area": null,
            "grid_template_columns": null,
            "flex": null,
            "_model_name": "LayoutModel",
            "justify_items": null,
            "grid_row": null,
            "max_height": null,
            "align_content": null,
            "visibility": null,
            "align_self": null,
            "height": null,
            "min_height": null,
            "padding": null,
            "grid_auto_rows": null,
            "grid_gap": null,
            "max_width": null,
            "order": null,
            "_view_module_version": "1.2.0",
            "grid_template_areas": null,
            "object_position": null,
            "object_fit": null,
            "grid_auto_columns": null,
            "margin": null,
            "display": null,
            "left": null
          }
        },
        "ec97d4c7504d4c68b03feb9cedc32cbd": {
          "model_module": "@jupyter-widgets/controls",
          "model_name": "DescriptionStyleModel",
          "state": {
            "_view_name": "StyleView",
            "_model_name": "DescriptionStyleModel",
            "description_width": "",
            "_view_module": "@jupyter-widgets/base",
            "_model_module_version": "1.5.0",
            "_view_count": null,
            "_view_module_version": "1.2.0",
            "_model_module": "@jupyter-widgets/controls"
          }
        },
        "ff58646e48854c4591a8b106b679cae0": {
          "model_module": "@jupyter-widgets/base",
          "model_name": "LayoutModel",
          "state": {
            "_view_name": "LayoutView",
            "grid_template_rows": null,
            "right": null,
            "justify_content": null,
            "_view_module": "@jupyter-widgets/base",
            "overflow": null,
            "_model_module_version": "1.2.0",
            "_view_count": null,
            "flex_flow": null,
            "width": null,
            "min_width": null,
            "border": null,
            "align_items": null,
            "bottom": null,
            "_model_module": "@jupyter-widgets/base",
            "top": null,
            "grid_column": null,
            "overflow_y": null,
            "overflow_x": null,
            "grid_auto_flow": null,
            "grid_area": null,
            "grid_template_columns": null,
            "flex": null,
            "_model_name": "LayoutModel",
            "justify_items": null,
            "grid_row": null,
            "max_height": null,
            "align_content": null,
            "visibility": null,
            "align_self": null,
            "height": null,
            "min_height": null,
            "padding": null,
            "grid_auto_rows": null,
            "grid_gap": null,
            "max_width": null,
            "order": null,
            "_view_module_version": "1.2.0",
            "grid_template_areas": null,
            "object_position": null,
            "object_fit": null,
            "grid_auto_columns": null,
            "margin": null,
            "display": null,
            "left": null
          }
        },
        "a74a94b134e044c6be8f5f1998914fc3": {
          "model_module": "@jupyter-widgets/controls",
          "model_name": "HBoxModel",
          "state": {
            "_view_name": "HBoxView",
            "_dom_classes": [],
            "_model_name": "HBoxModel",
            "_view_module": "@jupyter-widgets/controls",
            "_model_module_version": "1.5.0",
            "_view_count": null,
            "_view_module_version": "1.5.0",
            "box_style": "",
            "layout": "IPY_MODEL_88b3ddcae7aa4a07b021c65378ee18c6",
            "_model_module": "@jupyter-widgets/controls",
            "children": [
              "IPY_MODEL_4cccc3e890354671a45e3c4e10829b46",
              "IPY_MODEL_13b1a45520f043459491ebda82bfe215"
            ]
          }
        },
        "88b3ddcae7aa4a07b021c65378ee18c6": {
          "model_module": "@jupyter-widgets/base",
          "model_name": "LayoutModel",
          "state": {
            "_view_name": "LayoutView",
            "grid_template_rows": null,
            "right": null,
            "justify_content": null,
            "_view_module": "@jupyter-widgets/base",
            "overflow": null,
            "_model_module_version": "1.2.0",
            "_view_count": null,
            "flex_flow": null,
            "width": null,
            "min_width": null,
            "border": null,
            "align_items": null,
            "bottom": null,
            "_model_module": "@jupyter-widgets/base",
            "top": null,
            "grid_column": null,
            "overflow_y": null,
            "overflow_x": null,
            "grid_auto_flow": null,
            "grid_area": null,
            "grid_template_columns": null,
            "flex": null,
            "_model_name": "LayoutModel",
            "justify_items": null,
            "grid_row": null,
            "max_height": null,
            "align_content": null,
            "visibility": null,
            "align_self": null,
            "height": null,
            "min_height": null,
            "padding": null,
            "grid_auto_rows": null,
            "grid_gap": null,
            "max_width": null,
            "order": null,
            "_view_module_version": "1.2.0",
            "grid_template_areas": null,
            "object_position": null,
            "object_fit": null,
            "grid_auto_columns": null,
            "margin": null,
            "display": null,
            "left": null
          }
        },
        "4cccc3e890354671a45e3c4e10829b46": {
          "model_module": "@jupyter-widgets/controls",
          "model_name": "FloatProgressModel",
          "state": {
            "_view_name": "ProgressView",
            "style": "IPY_MODEL_965b9411c2fc408f9f50066fb4a0b55a",
            "_dom_classes": [],
            "description": "",
            "_model_name": "FloatProgressModel",
            "bar_style": "success",
            "max": 1,
            "_view_module": "@jupyter-widgets/controls",
            "_model_module_version": "1.5.0",
            "value": 1,
            "_view_count": null,
            "_view_module_version": "1.5.0",
            "orientation": "horizontal",
            "min": 0,
            "description_tooltip": null,
            "_model_module": "@jupyter-widgets/controls",
            "layout": "IPY_MODEL_6d4c65d8e76744bca2d7dffabe59488f"
          }
        },
        "13b1a45520f043459491ebda82bfe215": {
          "model_module": "@jupyter-widgets/controls",
          "model_name": "HTMLModel",
          "state": {
            "_view_name": "HTMLView",
            "style": "IPY_MODEL_ec92a61caef44ee6ba287069e1906093",
            "_dom_classes": [],
            "description": "",
            "_model_name": "HTMLModel",
            "placeholder": "​",
            "_view_module": "@jupyter-widgets/controls",
            "_model_module_version": "1.5.0",
            "value": " 8192/? [00:00&lt;00:00, 15420.20it/s]",
            "_view_count": null,
            "_view_module_version": "1.5.0",
            "description_tooltip": null,
            "_model_module": "@jupyter-widgets/controls",
            "layout": "IPY_MODEL_2b2e3a7a3a504b3e8616cd8c7873c00b"
          }
        },
        "965b9411c2fc408f9f50066fb4a0b55a": {
          "model_module": "@jupyter-widgets/controls",
          "model_name": "ProgressStyleModel",
          "state": {
            "_view_name": "StyleView",
            "_model_name": "ProgressStyleModel",
            "description_width": "initial",
            "_view_module": "@jupyter-widgets/base",
            "_model_module_version": "1.5.0",
            "_view_count": null,
            "_view_module_version": "1.2.0",
            "bar_color": null,
            "_model_module": "@jupyter-widgets/controls"
          }
        },
        "6d4c65d8e76744bca2d7dffabe59488f": {
          "model_module": "@jupyter-widgets/base",
          "model_name": "LayoutModel",
          "state": {
            "_view_name": "LayoutView",
            "grid_template_rows": null,
            "right": null,
            "justify_content": null,
            "_view_module": "@jupyter-widgets/base",
            "overflow": null,
            "_model_module_version": "1.2.0",
            "_view_count": null,
            "flex_flow": null,
            "width": null,
            "min_width": null,
            "border": null,
            "align_items": null,
            "bottom": null,
            "_model_module": "@jupyter-widgets/base",
            "top": null,
            "grid_column": null,
            "overflow_y": null,
            "overflow_x": null,
            "grid_auto_flow": null,
            "grid_area": null,
            "grid_template_columns": null,
            "flex": null,
            "_model_name": "LayoutModel",
            "justify_items": null,
            "grid_row": null,
            "max_height": null,
            "align_content": null,
            "visibility": null,
            "align_self": null,
            "height": null,
            "min_height": null,
            "padding": null,
            "grid_auto_rows": null,
            "grid_gap": null,
            "max_width": null,
            "order": null,
            "_view_module_version": "1.2.0",
            "grid_template_areas": null,
            "object_position": null,
            "object_fit": null,
            "grid_auto_columns": null,
            "margin": null,
            "display": null,
            "left": null
          }
        },
        "ec92a61caef44ee6ba287069e1906093": {
          "model_module": "@jupyter-widgets/controls",
          "model_name": "DescriptionStyleModel",
          "state": {
            "_view_name": "StyleView",
            "_model_name": "DescriptionStyleModel",
            "description_width": "",
            "_view_module": "@jupyter-widgets/base",
            "_model_module_version": "1.5.0",
            "_view_count": null,
            "_view_module_version": "1.2.0",
            "_model_module": "@jupyter-widgets/controls"
          }
        },
        "2b2e3a7a3a504b3e8616cd8c7873c00b": {
          "model_module": "@jupyter-widgets/base",
          "model_name": "LayoutModel",
          "state": {
            "_view_name": "LayoutView",
            "grid_template_rows": null,
            "right": null,
            "justify_content": null,
            "_view_module": "@jupyter-widgets/base",
            "overflow": null,
            "_model_module_version": "1.2.0",
            "_view_count": null,
            "flex_flow": null,
            "width": null,
            "min_width": null,
            "border": null,
            "align_items": null,
            "bottom": null,
            "_model_module": "@jupyter-widgets/base",
            "top": null,
            "grid_column": null,
            "overflow_y": null,
            "overflow_x": null,
            "grid_auto_flow": null,
            "grid_area": null,
            "grid_template_columns": null,
            "flex": null,
            "_model_name": "LayoutModel",
            "justify_items": null,
            "grid_row": null,
            "max_height": null,
            "align_content": null,
            "visibility": null,
            "align_self": null,
            "height": null,
            "min_height": null,
            "padding": null,
            "grid_auto_rows": null,
            "grid_gap": null,
            "max_width": null,
            "order": null,
            "_view_module_version": "1.2.0",
            "grid_template_areas": null,
            "object_position": null,
            "object_fit": null,
            "grid_auto_columns": null,
            "margin": null,
            "display": null,
            "left": null
          }
        }
      }
    }
  },
  "cells": [
    {
      "cell_type": "code",
      "metadata": {
        "id": "OyVeQAHvGmZB",
        "colab_type": "code",
        "colab": {
          "base_uri": "https://localhost:8080/",
          "height": 153
        },
        "outputId": "a9f0f32f-5ac2-4046-aed6-f0ce0eb08c89"
      },
      "source": [
        "!rm -rf *\n",
        "!git config --global user.name \"Akhilez\"\n",
        "!git config --global user.email \"akhild18@yahoo.com\"\n",
        "!git clone https://github.com/Akhilez/ml_gallery.git\n",
        "%cd ml_gallery/ml_py"
      ],
      "execution_count": 1,
      "outputs": [
        {
          "output_type": "stream",
          "text": [
            "Cloning into 'ml_gallery'...\n",
            "remote: Enumerating objects: 522, done.\u001b[K\n",
            "remote: Counting objects: 100% (522/522), done.\u001b[K\n",
            "remote: Compressing objects: 100% (361/361), done.\u001b[K\n",
            "remote: Total 2049 (delta 305), reused 330 (delta 147), pack-reused 1527\u001b[K\n",
            "Receiving objects: 100% (2049/2049), 11.66 MiB | 7.09 MiB/s, done.\n",
            "Resolving deltas: 100% (1243/1243), done.\n",
            "/content/ml_gallery/ml_py\n"
          ],
          "name": "stdout"
        }
      ]
    },
    {
      "cell_type": "code",
      "metadata": {
        "id": "VxAM4Vj_ImMi",
        "colab_type": "code",
        "colab": {}
      },
      "source": [
        "import os\n",
        "os.environ['SECRET_KEY'] = '1234'\n",
        "%mkdir -p data/mnist/numbers"
      ],
      "execution_count": 2,
      "outputs": []
    },
    {
      "cell_type": "code",
      "metadata": {
        "id": "0Qb4fj7vIHp2",
        "colab_type": "code",
        "colab": {}
      },
      "source": [
        "import torch\n",
        "from torch.nn.functional import relu\n",
        "from lib.mnist_aug.mnist_augmenter import DataManager, MNISTAug"
      ],
      "execution_count": 3,
      "outputs": []
    },
    {
      "cell_type": "code",
      "metadata": {
        "id": "qETkHh3hJ_S9",
        "colab_type": "code",
        "colab": {
          "base_uri": "https://localhost:8080/",
          "height": 34
        },
        "outputId": "16dd5851-9db7-4920-c1f9-e59fb5c37f02"
      },
      "source": [
        "# Device configuration\n",
        "device = torch.device('cuda' if torch.cuda.is_available() else 'cpu')\n",
        "device"
      ],
      "execution_count": 4,
      "outputs": [
        {
          "output_type": "execute_result",
          "data": {
            "text/plain": [
              "device(type='cuda')"
            ]
          },
          "metadata": {
            "tags": []
          },
          "execution_count": 4
        }
      ]
    },
    {
      "cell_type": "code",
      "metadata": {
        "id": "RkX_ec34ITR9",
        "colab_type": "code",
        "colab": {
          "base_uri": "https://localhost:8080/",
          "height": 420,
          "referenced_widgets": [
            "72b5c85af8474ccf925d2ea3d8bf035f",
            "a8139198ca0943ef81eb0e3d0d21bc82",
            "b285e8922b4c4472a33911f17cadf242",
            "dfdab44195fd46b3b19f2c6abaefc0bf",
            "b6f5c61596d94d1297f9486e17a60b1b",
            "d69d31c99e814907915765149b64f676",
            "35ec3960ca0f45b683eb6c43e48b3d4a",
            "5bf15137e4814e5e836135598e810303",
            "cec802a2d2ac431191120de51cb96099",
            "ddc192c20d3f4373ba8cd463e760845c",
            "f37aea11f95341f8b09021f67b03c7d7",
            "c0d555f7feac4bab96ccbe4cf1bda3a4",
            "2662cb7bcb924658bc3f9b37adfea680",
            "e53f6864b8534d2a85620507f8d69776",
            "8c066a6af06a44c6a397f005d73231ce",
            "f4d2f5c20050419d9704d90fa74e7bef",
            "ad9d880b5be74ea7b66cf7fc59919708",
            "06d6f57d35d848aea03b326da7e0b114",
            "bbe2a1450db44d92ac2553d72c2b9cb8",
            "b79fe01836244c71a8df84c10c7db60a",
            "59b8e29dd8ad4d3798c582c85c388ea8",
            "0058ac65d22647ed9eb023855372e9d2",
            "ec97d4c7504d4c68b03feb9cedc32cbd",
            "ff58646e48854c4591a8b106b679cae0",
            "a74a94b134e044c6be8f5f1998914fc3",
            "88b3ddcae7aa4a07b021c65378ee18c6",
            "4cccc3e890354671a45e3c4e10829b46",
            "13b1a45520f043459491ebda82bfe215",
            "965b9411c2fc408f9f50066fb4a0b55a",
            "6d4c65d8e76744bca2d7dffabe59488f",
            "ec92a61caef44ee6ba287069e1906093",
            "2b2e3a7a3a504b3e8616cd8c7873c00b"
          ]
        },
        "outputId": "f9c03680-92ed-4672-e6ba-eee4933bc97d"
      },
      "source": [
        "aug = MNISTAug()\n",
        "dm = DataManager()\n",
        "dm.load()"
      ],
      "execution_count": 5,
      "outputs": [
        {
          "output_type": "stream",
          "text": [
            "Downloading http://yann.lecun.com/exdb/mnist/train-images-idx3-ubyte.gz to /content/ml_gallery/ml_py/data/mnist/numbers/MNIST/raw/train-images-idx3-ubyte.gz\n"
          ],
          "name": "stdout"
        },
        {
          "output_type": "display_data",
          "data": {
            "application/vnd.jupyter.widget-view+json": {
              "model_id": "72b5c85af8474ccf925d2ea3d8bf035f",
              "version_minor": 0,
              "version_major": 2
            },
            "text/plain": [
              "HBox(children=(FloatProgress(value=1.0, bar_style='info', max=1.0), HTML(value='')))"
            ]
          },
          "metadata": {
            "tags": []
          }
        },
        {
          "output_type": "stream",
          "text": [
            "Extracting /content/ml_gallery/ml_py/data/mnist/numbers/MNIST/raw/train-images-idx3-ubyte.gz to /content/ml_gallery/ml_py/data/mnist/numbers/MNIST/raw\n",
            "Downloading http://yann.lecun.com/exdb/mnist/train-labels-idx1-ubyte.gz to /content/ml_gallery/ml_py/data/mnist/numbers/MNIST/raw/train-labels-idx1-ubyte.gz\n"
          ],
          "name": "stdout"
        },
        {
          "output_type": "display_data",
          "data": {
            "application/vnd.jupyter.widget-view+json": {
              "model_id": "cec802a2d2ac431191120de51cb96099",
              "version_minor": 0,
              "version_major": 2
            },
            "text/plain": [
              "HBox(children=(FloatProgress(value=1.0, bar_style='info', max=1.0), HTML(value='')))"
            ]
          },
          "metadata": {
            "tags": []
          }
        },
        {
          "output_type": "stream",
          "text": [
            "Extracting /content/ml_gallery/ml_py/data/mnist/numbers/MNIST/raw/train-labels-idx1-ubyte.gz to /content/ml_gallery/ml_py/data/mnist/numbers/MNIST/raw\n",
            "Downloading http://yann.lecun.com/exdb/mnist/t10k-images-idx3-ubyte.gz to /content/ml_gallery/ml_py/data/mnist/numbers/MNIST/raw/t10k-images-idx3-ubyte.gz\n"
          ],
          "name": "stdout"
        },
        {
          "output_type": "display_data",
          "data": {
            "application/vnd.jupyter.widget-view+json": {
              "model_id": "ad9d880b5be74ea7b66cf7fc59919708",
              "version_minor": 0,
              "version_major": 2
            },
            "text/plain": [
              "HBox(children=(FloatProgress(value=1.0, bar_style='info', max=1.0), HTML(value='')))"
            ]
          },
          "metadata": {
            "tags": []
          }
        },
        {
          "output_type": "stream",
          "text": [
            "Extracting /content/ml_gallery/ml_py/data/mnist/numbers/MNIST/raw/t10k-images-idx3-ubyte.gz to /content/ml_gallery/ml_py/data/mnist/numbers/MNIST/raw\n",
            "Downloading http://yann.lecun.com/exdb/mnist/t10k-labels-idx1-ubyte.gz to /content/ml_gallery/ml_py/data/mnist/numbers/MNIST/raw/t10k-labels-idx1-ubyte.gz\n"
          ],
          "name": "stdout"
        },
        {
          "output_type": "display_data",
          "data": {
            "application/vnd.jupyter.widget-view+json": {
              "model_id": "a74a94b134e044c6be8f5f1998914fc3",
              "version_minor": 0,
              "version_major": 2
            },
            "text/plain": [
              "HBox(children=(FloatProgress(value=1.0, bar_style='info', max=1.0), HTML(value='')))"
            ]
          },
          "metadata": {
            "tags": []
          }
        },
        {
          "output_type": "stream",
          "text": [
            "Extracting /content/ml_gallery/ml_py/data/mnist/numbers/MNIST/raw/t10k-labels-idx1-ubyte.gz to /content/ml_gallery/ml_py/data/mnist/numbers/MNIST/raw\n",
            "Processing...\n",
            "Done!\n"
          ],
          "name": "stdout"
        },
        {
          "output_type": "stream",
          "text": [
            "/pytorch/torch/csrc/utils/tensor_numpy.cpp:141: UserWarning: The given NumPy array is not writeable, and PyTorch does not support non-writeable tensors. This means you can write to the underlying (supposedly non-writeable) NumPy array using the tensor. You may want to copy the array to protect its data or make it writeable before converting it to a tensor. This type of warning will be suppressed for the rest of this program.\n"
          ],
          "name": "stderr"
        },
        {
          "output_type": "stream",
          "text": [
            "\n",
            "\n",
            "\n",
            "\n"
          ],
          "name": "stdout"
        }
      ]
    },
    {
      "cell_type": "code",
      "metadata": {
        "id": "6QlSYcoCMBLa",
        "colab_type": "code",
        "colab": {}
      },
      "source": [
        "x_train, y_train = aug.get_augmented(dm.x_train, dm.y_train, 10000)\n",
        "x_test, y_test = aug.get_augmented(dm.x_test, dm.y_test, 2)"
      ],
      "execution_count": 6,
      "outputs": []
    },
    {
      "cell_type": "code",
      "metadata": {
        "id": "VApS6HcTJWKS",
        "colab_type": "code",
        "colab": {}
      },
      "source": [
        "x_train = torch.tensor(x_train.reshape(-1, 1, 112, 112)).type('torch.FloatTensor')\n",
        "x_test = torch.tensor(x_test.reshape(-1, 1, 112, 112)).type('torch.FloatTensor')"
      ],
      "execution_count": 7,
      "outputs": []
    },
    {
      "cell_type": "code",
      "metadata": {
        "id": "Y_ErncBpJZDr",
        "colab_type": "code",
        "colab": {
          "base_uri": "https://localhost:8080/",
          "height": 438
        },
        "outputId": "70601dca-c7c0-43e5-d1f6-d189ab6c8101"
      },
      "source": [
        "DataManager.plot_num(x_train[1].reshape((112, 112)), y_train[1])\n",
        "y_train[1]"
      ],
      "execution_count": 8,
      "outputs": [
        {
          "output_type": "execute_result",
          "data": {
            "text/plain": [
              "[{'class': tensor(3),\n",
              "  'class_one_hot': tensor([0., 0., 0., 1., 0., 0., 0., 0., 0., 0.]),\n",
              "  'cx': 28.5,\n",
              "  'cy': 75.5,\n",
              "  'height': 17,\n",
              "  'width': 17,\n",
              "  'x1': 20,\n",
              "  'x2': 37,\n",
              "  'y1': 67,\n",
              "  'y2': 84}]"
            ]
          },
          "metadata": {
            "tags": []
          },
          "execution_count": 8
        },
        {
          "output_type": "display_data",
          "data": {
            "image/png": "[encoded data removed]",
            "text/plain": [
              "<Figure size 432x288 with 1 Axes>"
            ]
          },
          "metadata": {
            "tags": [],
            "needs_background": "light"
          }
        }
      ]
    },
    {
      "cell_type": "code",
      "metadata": {
        "id": "8sawqK_MJasB",
        "colab_type": "code",
        "colab": {}
      },
      "source": [
        "anchor_cx = 56\n",
        "anchor_cy = 56\n",
        "anchor_w = 28"
      ],
      "execution_count": 9,
      "outputs": []
    },
    {
      "cell_type": "code",
      "metadata": {
        "id": "U9UnpGguJcrv",
        "colab_type": "code",
        "colab": {}
      },
      "source": [
        "def units_to_diff(y):\n",
        "    y_d = []\n",
        "    for i in range(len(y)):\n",
        "        cx_d = (y[i][0]['cx'] - anchor_cx) / 112\n",
        "        cy_d = (y[i][0]['cy'] - anchor_cy) / 112\n",
        "        w_d = (y[i][0]['width'] - anchor_w) / 112\n",
        "        y_d.append((cx_d, cy_d, w_d))\n",
        "    return torch.tensor(y_d)\n",
        "\n",
        "def diff_to_units(y):\n",
        "    y_units = []\n",
        "    for i in range(len(y)):\n",
        "        cx_d = y[i][0] * 112 + anchor_cx\n",
        "        cy_d = y[i][1] * 112 + anchor_cy\n",
        "        wd = y[i][2] * 112 + anchor_w\n",
        "        y_units.append((cx_d, cy_d, wd))\n",
        "    return torch.tensor(y_units)"
      ],
      "execution_count": 10,
      "outputs": []
    },
    {
      "cell_type": "code",
      "metadata": {
        "id": "X6eTAhCRJeNK",
        "colab_type": "code",
        "colab": {}
      },
      "source": [
        "y_d = units_to_diff(y_train)\n",
        "y_d_test = units_to_diff(y_test)"
      ],
      "execution_count": 11,
      "outputs": []
    },
    {
      "cell_type": "code",
      "metadata": {
        "id": "Iv77VQu8JiTT",
        "colab_type": "code",
        "colab": {}
      },
      "source": [
        "class DetectorV1 (torch.nn.Module):\n",
        "    def __init__(self):\n",
        "        super().__init__()\n",
        "        self.conv1 = torch.nn.Conv2d(1, 32, 3, padding=1)  # 112x112\n",
        "        self.conv2 = torch.nn.Conv2d(32, 64, 3, stride=2, padding=1)  # 56x56\n",
        "        self.conv3 = torch.nn.Conv2d(64, 128, 3, stride=2, padding=1)  # 28x28\n",
        "        self.conv4 = torch.nn.Conv2d(128, 256, 3, stride=2, padding=1)  # 14x14\n",
        "        self.conv5 = torch.nn.Conv2d(256, 512, 3, stride=2, padding=1)  # 7x7\n",
        "        self.linear1 = torch.nn.Linear(25088, 4096)\n",
        "        self.linear2 = torch.nn.Linear(4096, 512)\n",
        "        self.linear3 = torch.nn.Linear(512, 3)\n",
        "\n",
        "    def forward(self, x):\n",
        "        x = relu(self.conv1(x))  # 112\n",
        "        x = relu(self.conv2(x))  # 56\n",
        "        x = relu(self.conv3(x))  # 28\n",
        "        x = relu(self.conv4(x))  # 14\n",
        "        x = relu(self.conv5(x))  # 7\n",
        "        x = torch.flatten(x, 1)\n",
        "        x = relu(self.linear1(x))\n",
        "        x = relu(self.linear2(x))\n",
        "        x = torch.tanh(self.linear3(x))\n",
        "        return x\n",
        "\n",
        "model = DetectorV1().to(device)\n",
        "optimizer = torch.optim.Adam(model.parameters())"
      ],
      "execution_count": 12,
      "outputs": []
    },
    {
      "cell_type": "code",
      "metadata": {
        "id": "UQ5mTBUmJkFO",
        "colab_type": "code",
        "colab": {
          "base_uri": "https://localhost:8080/",
          "height": 1000
        },
        "outputId": "8cbdb177-5cba-44ce-d665-73128f321cb9"
      },
      "source": [
        "epochs = 100\n",
        "batch_size = 100\n",
        "\n",
        "for epoch in range(epochs):\n",
        "    \n",
        "    for i in range(0, len(x_train), batch_size):\n",
        "        start_index = i\n",
        "        end_index = i+batch_size\n",
        "        \n",
        "        x_batch = x_train[start_index:end_index].to(device)\n",
        "        y_batch = y_d[start_index:end_index].to(device)\n",
        "        \n",
        "        optimizer.zero_grad()\n",
        "\n",
        "        y_hat = model(x_batch)\n",
        "\n",
        "        loss = sum(sum((y_batch - y_hat)**2))\n",
        "        \n",
        "        loss.backward()\n",
        "        optimizer.step()\n",
        "        \n",
        "    print(f'Epoch: {epoch}, loss={float(loss)}')"
      ],
      "execution_count": 13,
      "outputs": [
        {
          "output_type": "stream",
          "text": [
            "/usr/local/lib/python3.6/dist-packages/torch/nn/functional.py:1558: UserWarning: nn.functional.tanh is deprecated. Use torch.tanh instead.\n",
            "  warnings.warn(\"nn.functional.tanh is deprecated. Use torch.tanh instead.\")\n"
          ],
          "name": "stderr"
        },
        {
          "output_type": "stream",
          "text": [
            "Epoch: 0, loss=0.16823479533195496\n",
            "Epoch: 1, loss=0.10180797427892685\n",
            "Epoch: 2, loss=0.10015550255775452\n",
            "Epoch: 3, loss=0.07467661798000336\n",
            "Epoch: 4, loss=0.07522343099117279\n",
            "Epoch: 5, loss=0.0731273889541626\n",
            "Epoch: 6, loss=0.1418144404888153\n",
            "Epoch: 7, loss=0.04398808628320694\n",
            "Epoch: 8, loss=0.05635416507720947\n",
            "Epoch: 9, loss=0.04011496528983116\n",
            "Epoch: 10, loss=0.029763929545879364\n",
            "Epoch: 11, loss=0.04689549654722214\n",
            "Epoch: 12, loss=0.030234280973672867\n",
            "Epoch: 13, loss=0.02477845549583435\n",
            "Epoch: 14, loss=0.03813482075929642\n",
            "Epoch: 15, loss=0.03009878471493721\n",
            "Epoch: 16, loss=0.028555791825056076\n",
            "Epoch: 17, loss=0.023446427658200264\n",
            "Epoch: 18, loss=0.030766725540161133\n",
            "Epoch: 19, loss=0.04641591012477875\n",
            "Epoch: 20, loss=0.03584263473749161\n",
            "Epoch: 21, loss=0.03443138673901558\n",
            "Epoch: 22, loss=1.0625619888305664\n",
            "Epoch: 23, loss=0.049681104719638824\n",
            "Epoch: 24, loss=0.02707039564847946\n",
            "Epoch: 25, loss=0.044279154390096664\n",
            "Epoch: 26, loss=0.019792985171079636\n",
            "Epoch: 27, loss=0.021597247570753098\n",
            "Epoch: 28, loss=0.019200846552848816\n",
            "Epoch: 29, loss=0.017206910997629166\n",
            "Epoch: 30, loss=0.04931146651506424\n",
            "Epoch: 31, loss=0.05398087948560715\n",
            "Epoch: 32, loss=0.0318269319832325\n",
            "Epoch: 33, loss=0.02401629649102688\n",
            "Epoch: 34, loss=0.021867353469133377\n",
            "Epoch: 35, loss=0.03447601571679115\n",
            "Epoch: 36, loss=0.06359893083572388\n",
            "Epoch: 37, loss=0.04026748612523079\n",
            "Epoch: 38, loss=0.02304963767528534\n",
            "Epoch: 39, loss=0.03623601049184799\n",
            "Epoch: 40, loss=0.03026071935892105\n",
            "Epoch: 41, loss=0.028359856456518173\n",
            "Epoch: 42, loss=0.07106098532676697\n",
            "Epoch: 43, loss=0.03909342736005783\n",
            "Epoch: 44, loss=0.038503795862197876\n",
            "Epoch: 45, loss=0.026547521352767944\n",
            "Epoch: 46, loss=0.018783412873744965\n",
            "Epoch: 47, loss=0.03518776595592499\n",
            "Epoch: 48, loss=0.043019913136959076\n",
            "Epoch: 49, loss=0.031153837218880653\n",
            "Epoch: 50, loss=0.05952906981110573\n",
            "Epoch: 51, loss=0.03657997399568558\n",
            "Epoch: 52, loss=0.015202758833765984\n",
            "Epoch: 53, loss=0.048776425421237946\n",
            "Epoch: 54, loss=0.0475645437836647\n",
            "Epoch: 55, loss=0.04969463497400284\n",
            "Epoch: 56, loss=0.024072296917438507\n",
            "Epoch: 57, loss=0.03207721561193466\n",
            "Epoch: 58, loss=0.029831793159246445\n",
            "Epoch: 59, loss=0.02846239134669304\n",
            "Epoch: 60, loss=0.050908412784338\n",
            "Epoch: 61, loss=0.046583663672208786\n",
            "Epoch: 62, loss=0.01775762252509594\n",
            "Epoch: 63, loss=0.020635955035686493\n",
            "Epoch: 64, loss=0.018902048468589783\n",
            "Epoch: 65, loss=0.07612191140651703\n",
            "Epoch: 66, loss=0.05091007426381111\n",
            "Epoch: 67, loss=0.03611312806606293\n",
            "Epoch: 68, loss=0.05446690320968628\n",
            "Epoch: 69, loss=0.05721239745616913\n",
            "Epoch: 70, loss=0.022313587367534637\n",
            "Epoch: 71, loss=0.015900855883955956\n",
            "Epoch: 72, loss=0.01271524466574192\n",
            "Epoch: 73, loss=0.015214433893561363\n",
            "Epoch: 74, loss=0.018041325733065605\n",
            "Epoch: 75, loss=0.029357844963669777\n",
            "Epoch: 76, loss=0.024657784029841423\n",
            "Epoch: 77, loss=0.025021957233548164\n",
            "Epoch: 78, loss=0.022186292335391045\n",
            "Epoch: 79, loss=0.024221058934926987\n",
            "Epoch: 80, loss=0.04691857844591141\n",
            "Epoch: 81, loss=0.03517259657382965\n",
            "Epoch: 82, loss=0.027979839593172073\n",
            "Epoch: 83, loss=0.051837727427482605\n",
            "Epoch: 84, loss=0.04223838075995445\n",
            "Epoch: 85, loss=0.022090408951044083\n",
            "Epoch: 86, loss=0.029254484921693802\n",
            "Epoch: 87, loss=0.022656282410025597\n",
            "Epoch: 88, loss=0.016505682840943336\n",
            "Epoch: 89, loss=0.019505906850099564\n",
            "Epoch: 90, loss=0.02254118025302887\n",
            "Epoch: 91, loss=0.03230331093072891\n",
            "Epoch: 92, loss=0.029596203938126564\n",
            "Epoch: 93, loss=0.024034246802330017\n",
            "Epoch: 94, loss=0.015540973283350468\n",
            "Epoch: 95, loss=0.029222460463643074\n",
            "Epoch: 96, loss=0.01667742431163788\n",
            "Epoch: 97, loss=0.03520073741674423\n",
            "Epoch: 98, loss=0.01727328449487686\n",
            "Epoch: 99, loss=0.022594619542360306\n"
          ],
          "name": "stdout"
        }
      ]
    },
    {
      "cell_type": "code",
      "metadata": {
        "id": "jk1J9n2RJlrD",
        "colab_type": "code",
        "colab": {
          "base_uri": "https://localhost:8080/",
          "height": 655
        },
        "outputId": "f1408cef-ae44-4519-8010-43ba56a057f4"
      },
      "source": [
        "with torch.no_grad():\n",
        "    y_pred = model(x_test.to(device))\n",
        "    \n",
        "    print(f'y_pred: {y_pred}\\ny_d_test: {y_d_test}')\n",
        "    \n",
        "    y_pred = diff_to_units(y_pred)\n",
        "    for i in range(len(y_pred)):\n",
        "\n",
        "        cx_pred, cy_pred, w_pred = y_pred[i]\n",
        "        pred_boxes = [{\n",
        "            'x1': float(cx_pred - w_pred / 2),\n",
        "            'y1': float(cy_pred - w_pred / 2),\n",
        "            'x2': float(cx_pred + w_pred / 2),\n",
        "            'y2': float(cy_pred + w_pred / 2)\n",
        "        }]\n",
        "\n",
        "        # pred_boxes.extend(list(y_test[i]))\n",
        "        print(f'{pred_boxes}')\n",
        "\n",
        "        DataManager.plot_num(x_test[i].reshape((112, 112)), pred_boxes)\n"
      ],
      "execution_count": 14,
      "outputs": [
        {
          "output_type": "stream",
          "text": [
            "y_pred: tensor([[ 0.3252,  0.2031,  0.0520],\n",
            "        [-0.2833,  0.3075,  0.0184]], device='cuda:0')\n",
            "y_d_test: tensor([[ 0.3259,  0.1830,  0.0268],\n",
            "        [-0.2812,  0.2634, -0.0089]])\n",
            "[{'x1': 75.51124572753906, 'y1': 61.83416748046875, 'x2': 109.33619689941406, 'y2': 95.65911865234375}]\n",
            "[{'x1': 9.240846633911133, 'y1': 75.41117858886719, 'x2': 39.298545837402344, 'y2': 105.4688720703125}]\n"
          ],
          "name": "stdout"
        },
        {
          "output_type": "stream",
          "text": [
            "/usr/local/lib/python3.6/dist-packages/torch/nn/functional.py:1558: UserWarning: nn.functional.tanh is deprecated. Use torch.tanh instead.\n",
            "  warnings.warn(\"nn.functional.tanh is deprecated. Use torch.tanh instead.\")\n"
          ],
          "name": "stderr"
        },
        {
          "output_type": "display_data",
          "data": {
            "image/png": "[encoded data removed]",
            "text/plain": [
              "<Figure size 432x288 with 1 Axes>"
            ]
          },
          "metadata": {
            "tags": [],
            "needs_background": "light"
          }
        },
        {
          "output_type": "display_data",
          "data": {
            "image/png": "[encoded data removed]",
            "text/plain": [
              "<Figure size 432x288 with 1 Axes>"
            ]
          },
          "metadata": {
            "tags": [],
            "needs_background": "light"
          }
        }
      ]
    },
    {
      "cell_type": "code",
      "metadata": {
        "id": "YtKumECrJsZT",
        "colab_type": "code",
        "colab": {
          "base_uri": "https://localhost:8080/",
          "height": 51
        },
        "outputId": "f6f4cacb-6527-49b9-ae55-a953f503e4c2"
      },
      "source": [
        "torch.save(model, 'model.pt')\n",
        "torch.save(model.state_dict(), 'model_weights.pt')"
      ],
      "execution_count": 21,
      "outputs": [
        {
          "output_type": "stream",
          "text": [
            "/usr/local/lib/python3.6/dist-packages/torch/serialization.py:402: UserWarning: Couldn't retrieve source code for container of type DetectorV1. It won't be checked for correctness upon loading.\n",
            "  \"type \" + obj.__name__ + \". It won't be checked \"\n"
          ],
          "name": "stderr"
        }
      ]
    },
    {
      "cell_type": "code",
      "metadata": {
        "id": "en8nk3XBlyJm",
        "colab_type": "code",
        "colab": {}
      },
      "source": [
        "from google.colab import files"
      ],
      "execution_count": null,
      "outputs": []
    },
    {
      "cell_type": "code",
      "metadata": {
        "id": "rTf0JkLWkgGM",
        "colab_type": "code",
        "colab": {
          "base_uri": "https://localhost:8080/",
          "height": 34
        },
        "outputId": "a7b0f670-2b0f-4f63-819d-d94218609fe2"
      },
      "source": [
        "files.download('model.pt')\n",
        "# files.download('model_weights.pt')"
      ],
      "execution_count": 24,
      "outputs": [
        {
          "output_type": "display_data",
          "data": {
            "application/javascript": [
              "\n",
              "    async function download(id, filename, size) {\n",
              "      if (!google.colab.kernel.accessAllowed) {\n",
              "        return;\n",
              "      }\n",
              "      const div = document.createElement('div');\n",
              "      const label = document.createElement('label');\n",
              "      label.textContent = `Downloading \"${filename}\": `;\n",
              "      div.appendChild(label);\n",
              "      const progress = document.createElement('progress');\n",
              "      progress.max = size;\n",
              "      div.appendChild(progress);\n",
              "      document.body.appendChild(div);\n",
              "\n",
              "      const buffers = [];\n",
              "      let downloaded = 0;\n",
              "\n",
              "      const channel = await google.colab.kernel.comms.open(id);\n",
              "      // Send a message to notify the kernel that we're ready.\n",
              "      channel.send({})\n",
              "\n",
              "      for await (const message of channel.messages) {\n",
              "        // Send a message to notify the kernel that we're ready.\n",
              "        channel.send({})\n",
              "        if (message.buffers) {\n",
              "          for (const buffer of message.buffers) {\n",
              "            buffers.push(buffer);\n",
              "            downloaded += buffer.byteLength;\n",
              "            progress.value = downloaded;\n",
              "          }\n",
              "        }\n",
              "      }\n",
              "      const blob = new Blob(buffers, {type: 'application/binary'});\n",
              "      const a = document.createElement('a');\n",
              "      a.href = window.URL.createObjectURL(blob);\n",
              "      a.download = filename;\n",
              "      div.appendChild(a);\n",
              "      a.click();\n",
              "      div.remove();\n",
              "    }\n",
              "  "
            ],
            "text/plain": [
              "<IPython.core.display.Javascript object>"
            ]
          },
          "metadata": {
            "tags": []
          }
        },
        {
          "output_type": "display_data",
          "data": {
            "application/javascript": [
              "download(\"download_b14e203c-166f-487f-a692-d66eda8fcdb1\", \"model.pt\", 425740870)"
            ],
            "text/plain": [
              "<IPython.core.display.Javascript object>"
            ]
          },
          "metadata": {
            "tags": []
          }
        }
      ]
    },
    {
      "cell_type": "code",
      "metadata": {
        "id": "v_NfaEZplUz9",
        "colab_type": "code",
        "colab": {
          "base_uri": "https://localhost:8080/",
          "height": 340
        },
        "outputId": "600893b9-627c-4eef-b148-e2f9a3cac8af"
      },
      "source": [
        "!ls -lah ."
      ],
      "execution_count": 25,
      "outputs": [
        {
          "output_type": "stream",
          "text": [
            "total 813M\n",
            "drwxr-xr-x 8 root root 4.0K Jun 28 20:17 .\n",
            "drwxr-xr-x 5 root root 4.0K Jun 28 19:58 ..\n",
            "-rw-r--r-- 1 root root  288 Jun 28 19:58 app.yaml\n",
            "drwxr-xr-x 3 root root 4.0K Jun 28 19:58 data\n",
            "drwxr-xr-x 2 root root 4.0K Jun 28 19:58 deploy\n",
            "-rw-r--r-- 1 root root  407 Jun 28 19:58 Dockerfile\n",
            "-rw-r--r-- 1 root root   62 Jun 28 19:58 .dockerignore\n",
            "drwxr-xr-x 8 root root 4.0K Jun 28 19:58 experiments\n",
            "-rw-r--r-- 1 root root   68 Jun 28 19:58 .gcloudignore\n",
            "-rw-r--r-- 1 root root 1.1K Jun 28 19:58 .gitignore\n",
            "drwxr-xr-x 6 root root 4.0K Jun 28 19:58 lib\n",
            "-rw-r--r-- 1 root root  625 Jun 28 19:58 manage.py\n",
            "drwxr-xr-x 5 root root 4.0K Jun 28 19:58 MLGallery\n",
            "drwxr-xr-x 3 root root 4.0K Jun 28 19:58 ml_py\n",
            "-rw-r--r-- 1 root root 407M Jun 28 20:17 model.pt\n",
            "-rw-r--r-- 1 root root 407M Jun 28 20:17 model_weights.pt\n",
            "-rw-r--r-- 1 root root  299 Jun 28 19:58 requirements.txt\n",
            "-rw-r--r-- 1 root root   19 Jun 28 19:58 secondary_requirements.txt\n"
          ],
          "name": "stdout"
        }
      ]
    },
    {
      "cell_type": "code",
      "metadata": {
        "id": "ijrdqyLel7Om",
        "colab_type": "code",
        "colab": {}
      },
      "source": [
        ""
      ],
      "execution_count": null,
      "outputs": []
    }
  ]
}