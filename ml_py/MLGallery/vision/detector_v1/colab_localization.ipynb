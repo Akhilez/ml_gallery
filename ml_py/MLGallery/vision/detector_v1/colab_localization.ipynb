{
  "nbformat": 4,
  "nbformat_minor": 0,
  "metadata": {
    "colab": {
      "name": "mnist_localization.ipynb",
      "provenance": []
    },
    "kernelspec": {
      "name": "python3",
      "display_name": "Python 3"
    },
    "accelerator": "GPU"
  },
  "cells": [
    {
      "cell_type": "code",
      "metadata": {
        "id": "OyVeQAHvGmZB",
        "colab_type": "code",
        "colab": {
          "base_uri": "https://localhost:8080/",
          "height": 153
        },
        "outputId": "91ae8211-4782-4ca1-cc6f-2e58829e283c"
      },
      "source": [
        "!rm -rf *\n",
        "!git config --global user.name \"Akhilez\"\n",
        "!git config --global user.email \"akhild18@yahoo.com\"\n",
        "!git clone https://github.com/Akhilez/ml_gallery.git\n",
        "%cd ml_gallery/ml_py"
      ],
      "execution_count": 1,
      "outputs": [
        {
          "output_type": "stream",
          "text": [
            "Cloning into 'ml_gallery'...\n",
            "remote: Enumerating objects: 507, done.\u001b[K\n",
            "remote: Counting objects: 100% (507/507), done.\u001b[K\n",
            "remote: Compressing objects: 100% (358/358), done.\u001b[K\n",
            "remote: Total 2034 (delta 293), reused 315 (delta 135), pack-reused 1527\u001b[K\n",
            "Receiving objects: 100% (2034/2034), 11.65 MiB | 10.28 MiB/s, done.\n",
            "Resolving deltas: 100% (1231/1231), done.\n",
            "/content/ml_gallery/ml_py\n"
          ],
          "name": "stdout"
        }
      ]
    },
    {
      "cell_type": "code",
      "metadata": {
        "id": "VxAM4Vj_ImMi",
        "colab_type": "code",
        "colab": {}
      },
      "source": [
        "import os\n",
        "os.environ['SECRET_KEY'] = '1234'\n",
        "%mkdir -p data/mnist/numbers"
      ],
      "execution_count": 2,
      "outputs": []
    },
    {
      "cell_type": "code",
      "metadata": {
        "id": "0Qb4fj7vIHp2",
        "colab_type": "code",
        "colab": {}
      },
      "source": [
        "import torch\n",
        "from torch.nn.functional import relu\n",
        "from lib.mnist_aug.mnist_augmenter import DataManager, MNISTAug"
      ],
      "execution_count": 3,
      "outputs": []
    },
    {
      "cell_type": "code",
      "metadata": {
        "id": "qETkHh3hJ_S9",
        "colab_type": "code",
        "colab": {
          "base_uri": "https://localhost:8080/",
          "height": 34
        },
        "outputId": "dec7a8f4-28c2-4994-ace1-87ad5c787e58"
      },
      "source": [
        "# Device configuration\n",
        "device = torch.device('cuda' if torch.cuda.is_available() else 'cpu')\n",
        "device"
      ],
      "execution_count": 4,
      "outputs": [
        {
          "output_type": "execute_result",
          "data": {
            "text/plain": [
              "device(type='cuda')"
            ]
          },
          "metadata": {
            "tags": []
          },
          "execution_count": 4
        }
      ]
    },
    {
      "cell_type": "code",
      "metadata": {
        "id": "RkX_ec34ITR9",
        "colab_type": "code",
        "colab": {}
      },
      "source": [
        "aug = MNISTAug()\n",
        "dm = DataManager()\n",
        "dm.load()"
      ],
      "execution_count": 6,
      "outputs": []
    },
    {
      "cell_type": "code",
      "metadata": {
        "id": "6QlSYcoCMBLa",
        "colab_type": "code",
        "colab": {}
      },
      "source": [
        "x_train, y_train = aug.get_augmented(dm.x_train, dm.y_train, 1000)\n",
        "x_test, y_test = aug.get_augmented(dm.x_test, dm.y_test, 2)"
      ],
      "execution_count": 7,
      "outputs": []
    },
    {
      "cell_type": "code",
      "metadata": {
        "id": "VApS6HcTJWKS",
        "colab_type": "code",
        "colab": {}
      },
      "source": [
        "x_train = torch.tensor(x_train.reshape(-1, 1, 112, 112)).type('torch.FloatTensor')\n",
        "x_test = torch.tensor(x_test.reshape(-1, 1, 112, 112)).type('torch.FloatTensor')"
      ],
      "execution_count": 8,
      "outputs": []
    },
    {
      "cell_type": "code",
      "metadata": {
        "id": "Y_ErncBpJZDr",
        "colab_type": "code",
        "colab": {
          "base_uri": "https://localhost:8080/",
          "height": 438
        },
        "outputId": "86e1c29d-4cee-4bf7-d1ce-6d2af9b61154"
      },
      "source": [
        "DataManager.plot_num(x_train[1].reshape((112, 112)), y_train[1])\n",
        "y_train[1]"
      ],
      "execution_count": 9,
      "outputs": [
        {
          "output_type": "execute_result",
          "data": {
            "text/plain": [
              "[{'class': tensor(3),\n",
              "  'class_one_hot': tensor([0., 0., 0., 1., 0., 0., 0., 0., 0., 0.]),\n",
              "  'cx': 104.5,\n",
              "  'cy': 86.5,\n",
              "  'height': 15,\n",
              "  'width': 15,\n",
              "  'x1': 97,\n",
              "  'x2': 112,\n",
              "  'y1': 79,\n",
              "  'y2': 94}]"
            ]
          },
          "metadata": {
            "tags": []
          },
          "execution_count": 9
        },
        {
          "output_type": "display_data",
          "data": {
            "image/png": "[encoded data removed]",
            "text/plain": [
              "<Figure size 432x288 with 1 Axes>"
            ]
          },
          "metadata": {
            "tags": [],
            "needs_background": "light"
          }
        }
      ]
    },
    {
      "cell_type": "code",
      "metadata": {
        "id": "8sawqK_MJasB",
        "colab_type": "code",
        "colab": {}
      },
      "source": [
        "anchor_cx = 56\n",
        "anchor_cy = 56\n",
        "anchor_w = 28"
      ],
      "execution_count": 10,
      "outputs": []
    },
    {
      "cell_type": "code",
      "metadata": {
        "id": "U9UnpGguJcrv",
        "colab_type": "code",
        "colab": {}
      },
      "source": [
        "def units_to_diff(y):\n",
        "    y_d = []\n",
        "    for i in range(len(y)):\n",
        "        cx_d = (y[i][0]['cx'] - anchor_cx) / 112\n",
        "        cy_d = (y[i][0]['cy'] - anchor_cy) / 112\n",
        "        w_d = (y[i][0]['width'] - anchor_w) / 112\n",
        "        y_d.append((cx_d, cy_d, w_d))\n",
        "    return torch.tensor(y_d)\n",
        "\n",
        "def diff_to_units(y):\n",
        "    y_units = []\n",
        "    for i in range(len(y)):\n",
        "        cx_d = y[i][0] * 112 + anchor_cx\n",
        "        cy_d = y[i][1] * 112 + anchor_cy\n",
        "        wd = y[i][2] * 112 + anchor_w\n",
        "        y_units.append((cx_d, cy_d, wd))\n",
        "    return torch.tensor(y_units)"
      ],
      "execution_count": 11,
      "outputs": []
    },
    {
      "cell_type": "code",
      "metadata": {
        "id": "X6eTAhCRJeNK",
        "colab_type": "code",
        "colab": {}
      },
      "source": [
        "y_d = units_to_diff(y_train)\n",
        "y_d_test = units_to_diff(y_test)"
      ],
      "execution_count": 12,
      "outputs": []
    },
    {
      "cell_type": "code",
      "metadata": {
        "id": "Iv77VQu8JiTT",
        "colab_type": "code",
        "colab": {}
      },
      "source": [
        "class DetectorV1 (torch.nn.Module):\n",
        "    def __init__(self):\n",
        "        super().__init__()\n",
        "        self.conv1 = torch.nn.Conv2d(1, 32, 3, padding=1)  # 112x112\n",
        "        self.conv2 = torch.nn.Conv2d(32, 64, 3, stride=2, padding=1)  # 56x56\n",
        "        self.conv3 = torch.nn.Conv2d(64, 128, 3, stride=2, padding=1)  # 28x28\n",
        "        self.conv4 = torch.nn.Conv2d(128, 256, 3, stride=2, padding=1)  # 14x14\n",
        "        self.conv5 = torch.nn.Conv2d(256, 512, 3, stride=2, padding=1)  # 7x7\n",
        "        self.linear1 = torch.nn.Linear(25088, 4096)\n",
        "        self.linear2 = torch.nn.Linear(4096, 512)\n",
        "        self.linear3 = torch.nn.Linear(512, 3)\n",
        "\n",
        "    def forward(self, x):\n",
        "        x = relu(self.conv1(x))  # 112\n",
        "        x = relu(self.conv2(x))  # 56\n",
        "        x = relu(self.conv3(x))  # 28\n",
        "        x = relu(self.conv4(x))  # 14\n",
        "        x = relu(self.conv5(x))  # 7\n",
        "        x = torch.flatten(x, 1)\n",
        "        x = relu(self.linear1(x))\n",
        "        x = relu(self.linear2(x))\n",
        "        x = torch.nn.functional.tanh(self.linear3(x))\n",
        "        return x\n",
        "\n",
        "\n",
        "class Classifier (torch.nn.Module):\n",
        "  def __init__(self):\n",
        "    super().__init__()\n",
        "    self.conv1 = torch.nn.\n",
        "\n",
        "model = DetectorV1().to(device)\n",
        "optimizer = torch.optim.Adam(model.parameters())"
      ],
      "execution_count": 15,
      "outputs": []
    },
    {
      "cell_type": "code",
      "metadata": {
        "id": "UQ5mTBUmJkFO",
        "colab_type": "code",
        "colab": {
          "base_uri": "https://localhost:8080/",
          "height": 221
        },
        "outputId": "6c62ae36-c682-438d-c77f-64fd6a1cc207"
      },
      "source": [
        "epochs = 10\n",
        "batch_size = 100\n",
        "\n",
        "for epoch in range(epochs):\n",
        "    \n",
        "    for i in range(0, len(x_train), batch_size):\n",
        "        start_index = i\n",
        "        end_index = i+batch_size\n",
        "        \n",
        "        x_batch = x_train[start_index:end_index].to(device)\n",
        "        y_batch = y_d[start_index:end_index].to(device)\n",
        "        \n",
        "        optimizer.zero_grad()\n",
        "\n",
        "        y_hat = model(x_batch)\n",
        "\n",
        "        loss = sum(sum((y_batch - y_hat)**2))\n",
        "        \n",
        "        loss.backward()\n",
        "        optimizer.step()\n",
        "        \n",
        "    print(f'Epoch: {epoch}, loss={float(loss)}')"
      ],
      "execution_count": 17,
      "outputs": [
        {
          "output_type": "stream",
          "text": [
            "/usr/local/lib/python3.6/dist-packages/torch/nn/functional.py:1558: UserWarning: nn.functional.tanh is deprecated. Use torch.tanh instead.\n",
            "  warnings.warn(\"nn.functional.tanh is deprecated. Use torch.tanh instead.\")\n"
          ],
          "name": "stderr"
        },
        {
          "output_type": "stream",
          "text": [
            "Epoch: 0, loss=1.55461585521698\n",
            "Epoch: 1, loss=0.9850618839263916\n",
            "Epoch: 2, loss=0.40620675683021545\n",
            "Epoch: 3, loss=0.2603498697280884\n",
            "Epoch: 4, loss=0.355426549911499\n",
            "Epoch: 5, loss=0.18558809161186218\n",
            "Epoch: 6, loss=0.15935498476028442\n",
            "Epoch: 7, loss=0.13240544497966766\n",
            "Epoch: 8, loss=0.10754375159740448\n",
            "Epoch: 9, loss=0.08911023288965225\n"
          ],
          "name": "stdout"
        }
      ]
    },
    {
      "cell_type": "code",
      "metadata": {
        "id": "jk1J9n2RJlrD",
        "colab_type": "code",
        "colab": {
          "base_uri": "https://localhost:8080/",
          "height": 655
        },
        "outputId": "8aa4ee6c-ee0b-4121-b523-2a60d5793cd9"
      },
      "source": [
        "with torch.no_grad():\n",
        "    y_pred = model(x_test.to(device))\n",
        "    \n",
        "    print(f'y_pred: {y_pred}\\ny_d_test: {y_d_test}')\n",
        "    \n",
        "    y_pred = diff_to_units(y_pred)\n",
        "    for i in range(len(y_pred)):\n",
        "\n",
        "        cx_pred, cy_pred, w_pred = y_pred[i]\n",
        "        pred_boxes = [{\n",
        "            'x1': float(cx_pred - w_pred / 2),\n",
        "            'y1': float(cy_pred - w_pred / 2),\n",
        "            'x2': float(cx_pred + w_pred / 2),\n",
        "            'y2': float(cy_pred + w_pred / 2)\n",
        "        }]\n",
        "\n",
        "        # pred_boxes.extend(list(y_test[i]))\n",
        "        print(f'{pred_boxes}')\n",
        "\n",
        "        DataManager.plot_num(x_test[i].reshape((112, 112)), pred_boxes)\n"
      ],
      "execution_count": 21,
      "outputs": [
        {
          "output_type": "stream",
          "text": [
            "/usr/local/lib/python3.6/dist-packages/torch/nn/functional.py:1558: UserWarning: nn.functional.tanh is deprecated. Use torch.tanh instead.\n",
            "  warnings.warn(\"nn.functional.tanh is deprecated. Use torch.tanh instead.\")\n"
          ],
          "name": "stderr"
        },
        {
          "output_type": "stream",
          "text": [
            "y_pred: tensor([[-0.0996,  0.3411,  0.0275],\n",
            "        [ 0.2852, -0.2837,  0.0070]], device='cuda:0')\n",
            "y_d_test: tensor([[-0.0982,  0.3482,  0.0179],\n",
            "        [ 0.2946, -0.2946,  0.0179]])\n",
            "[{'x1': 29.31041717529297, 'y1': 78.66602325439453, 'x2': 60.38934326171875, 'y2': 109.74495697021484}]\n",
            "[{'x1': 73.55078887939453, 'y1': 9.832630157470703, 'x2': 102.33081817626953, 'y2': 38.61266326904297}]\n"
          ],
          "name": "stdout"
        },
        {
          "output_type": "display_data",
          "data": {
            "image/png": "[encoded data removed]",
            "text/plain": [
              "<Figure size 432x288 with 1 Axes>"
            ]
          },
          "metadata": {
            "tags": [],
            "needs_background": "light"
          }
        },
        {
          "output_type": "display_data",
          "data": {
            "image/png": "[encoded data removed]",
            "text/plain": [
              "<Figure size 432x288 with 1 Axes>"
            ]
          },
          "metadata": {
            "tags": [],
            "needs_background": "light"
          }
        }
      ]
    },
    {
      "cell_type": "code",
      "metadata": {
        "id": "YtKumECrJsZT",
        "colab_type": "code",
        "colab": {}
      },
      "source": [
        ""
      ],
      "execution_count": null,
      "outputs": []
    }
  ]
}