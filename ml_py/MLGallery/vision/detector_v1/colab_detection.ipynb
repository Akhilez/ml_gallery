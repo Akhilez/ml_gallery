{
  "nbformat": 4,
  "nbformat_minor": 0,
  "metadata": {
    "colab": {
      "name": "mnist_detection.ipynb",
      "provenance": [],
      "collapsed_sections": []
    },
    "kernelspec": {
      "name": "python3",
      "display_name": "Python 3"
    },
    "widgets": {
      "application/vnd.jupyter.widget-state+json": {
        "e8fdd52850474571862425b2f6eb5136": {
          "model_module": "@jupyter-widgets/controls",
          "model_name": "HBoxModel",
          "state": {
            "_view_name": "HBoxView",
            "_dom_classes": [],
            "_model_name": "HBoxModel",
            "_view_module": "@jupyter-widgets/controls",
            "_model_module_version": "1.5.0",
            "_view_count": null,
            "_view_module_version": "1.5.0",
            "box_style": "",
            "layout": "IPY_MODEL_dc4de92282164bbf9da744474316579a",
            "_model_module": "@jupyter-widgets/controls",
            "children": [
              "IPY_MODEL_43d745ae30114d7f9cf6d3a291cbd16c",
              "IPY_MODEL_a9280590b8194a0b8c7ce4a563c131cf"
            ]
          }
        },
        "dc4de92282164bbf9da744474316579a": {
          "model_module": "@jupyter-widgets/base",
          "model_name": "LayoutModel",
          "state": {
            "_view_name": "LayoutView",
            "grid_template_rows": null,
            "right": null,
            "justify_content": null,
            "_view_module": "@jupyter-widgets/base",
            "overflow": null,
            "_model_module_version": "1.2.0",
            "_view_count": null,
            "flex_flow": null,
            "width": null,
            "min_width": null,
            "border": null,
            "align_items": null,
            "bottom": null,
            "_model_module": "@jupyter-widgets/base",
            "top": null,
            "grid_column": null,
            "overflow_y": null,
            "overflow_x": null,
            "grid_auto_flow": null,
            "grid_area": null,
            "grid_template_columns": null,
            "flex": null,
            "_model_name": "LayoutModel",
            "justify_items": null,
            "grid_row": null,
            "max_height": null,
            "align_content": null,
            "visibility": null,
            "align_self": null,
            "height": null,
            "min_height": null,
            "padding": null,
            "grid_auto_rows": null,
            "grid_gap": null,
            "max_width": null,
            "order": null,
            "_view_module_version": "1.2.0",
            "grid_template_areas": null,
            "object_position": null,
            "object_fit": null,
            "grid_auto_columns": null,
            "margin": null,
            "display": null,
            "left": null
          }
        },
        "43d745ae30114d7f9cf6d3a291cbd16c": {
          "model_module": "@jupyter-widgets/controls",
          "model_name": "FloatProgressModel",
          "state": {
            "_view_name": "ProgressView",
            "style": "IPY_MODEL_9cead16e86874f0e88e24fb959d0dfc7",
            "_dom_classes": [],
            "description": "",
            "_model_name": "FloatProgressModel",
            "bar_style": "success",
            "max": 1,
            "_view_module": "@jupyter-widgets/controls",
            "_model_module_version": "1.5.0",
            "value": 1,
            "_view_count": null,
            "_view_module_version": "1.5.0",
            "orientation": "horizontal",
            "min": 0,
            "description_tooltip": null,
            "_model_module": "@jupyter-widgets/controls",
            "layout": "IPY_MODEL_ee7a38f4bd0a41449e68c66b0f3b7d04"
          }
        },
        "a9280590b8194a0b8c7ce4a563c131cf": {
          "model_module": "@jupyter-widgets/controls",
          "model_name": "HTMLModel",
          "state": {
            "_view_name": "HTMLView",
            "style": "IPY_MODEL_9ca1b6ee15174e0a9afc839d7555c47c",
            "_dom_classes": [],
            "description": "",
            "_model_name": "HTMLModel",
            "placeholder": "​",
            "_view_module": "@jupyter-widgets/controls",
            "_model_module_version": "1.5.0",
            "value": " 9920512/? [00:06&lt;00:00, 1479988.56it/s]",
            "_view_count": null,
            "_view_module_version": "1.5.0",
            "description_tooltip": null,
            "_model_module": "@jupyter-widgets/controls",
            "layout": "IPY_MODEL_2fb78a7badbd451387109f437a412556"
          }
        },
        "9cead16e86874f0e88e24fb959d0dfc7": {
          "model_module": "@jupyter-widgets/controls",
          "model_name": "ProgressStyleModel",
          "state": {
            "_view_name": "StyleView",
            "_model_name": "ProgressStyleModel",
            "description_width": "initial",
            "_view_module": "@jupyter-widgets/base",
            "_model_module_version": "1.5.0",
            "_view_count": null,
            "_view_module_version": "1.2.0",
            "bar_color": null,
            "_model_module": "@jupyter-widgets/controls"
          }
        },
        "ee7a38f4bd0a41449e68c66b0f3b7d04": {
          "model_module": "@jupyter-widgets/base",
          "model_name": "LayoutModel",
          "state": {
            "_view_name": "LayoutView",
            "grid_template_rows": null,
            "right": null,
            "justify_content": null,
            "_view_module": "@jupyter-widgets/base",
            "overflow": null,
            "_model_module_version": "1.2.0",
            "_view_count": null,
            "flex_flow": null,
            "width": null,
            "min_width": null,
            "border": null,
            "align_items": null,
            "bottom": null,
            "_model_module": "@jupyter-widgets/base",
            "top": null,
            "grid_column": null,
            "overflow_y": null,
            "overflow_x": null,
            "grid_auto_flow": null,
            "grid_area": null,
            "grid_template_columns": null,
            "flex": null,
            "_model_name": "LayoutModel",
            "justify_items": null,
            "grid_row": null,
            "max_height": null,
            "align_content": null,
            "visibility": null,
            "align_self": null,
            "height": null,
            "min_height": null,
            "padding": null,
            "grid_auto_rows": null,
            "grid_gap": null,
            "max_width": null,
            "order": null,
            "_view_module_version": "1.2.0",
            "grid_template_areas": null,
            "object_position": null,
            "object_fit": null,
            "grid_auto_columns": null,
            "margin": null,
            "display": null,
            "left": null
          }
        },
        "9ca1b6ee15174e0a9afc839d7555c47c": {
          "model_module": "@jupyter-widgets/controls",
          "model_name": "DescriptionStyleModel",
          "state": {
            "_view_name": "StyleView",
            "_model_name": "DescriptionStyleModel",
            "description_width": "",
            "_view_module": "@jupyter-widgets/base",
            "_model_module_version": "1.5.0",
            "_view_count": null,
            "_view_module_version": "1.2.0",
            "_model_module": "@jupyter-widgets/controls"
          }
        },
        "2fb78a7badbd451387109f437a412556": {
          "model_module": "@jupyter-widgets/base",
          "model_name": "LayoutModel",
          "state": {
            "_view_name": "LayoutView",
            "grid_template_rows": null,
            "right": null,
            "justify_content": null,
            "_view_module": "@jupyter-widgets/base",
            "overflow": null,
            "_model_module_version": "1.2.0",
            "_view_count": null,
            "flex_flow": null,
            "width": null,
            "min_width": null,
            "border": null,
            "align_items": null,
            "bottom": null,
            "_model_module": "@jupyter-widgets/base",
            "top": null,
            "grid_column": null,
            "overflow_y": null,
            "overflow_x": null,
            "grid_auto_flow": null,
            "grid_area": null,
            "grid_template_columns": null,
            "flex": null,
            "_model_name": "LayoutModel",
            "justify_items": null,
            "grid_row": null,
            "max_height": null,
            "align_content": null,
            "visibility": null,
            "align_self": null,
            "height": null,
            "min_height": null,
            "padding": null,
            "grid_auto_rows": null,
            "grid_gap": null,
            "max_width": null,
            "order": null,
            "_view_module_version": "1.2.0",
            "grid_template_areas": null,
            "object_position": null,
            "object_fit": null,
            "grid_auto_columns": null,
            "margin": null,
            "display": null,
            "left": null
          }
        },
        "95b79e756e994536a3b33e7ff1d956c5": {
          "model_module": "@jupyter-widgets/controls",
          "model_name": "HBoxModel",
          "state": {
            "_view_name": "HBoxView",
            "_dom_classes": [],
            "_model_name": "HBoxModel",
            "_view_module": "@jupyter-widgets/controls",
            "_model_module_version": "1.5.0",
            "_view_count": null,
            "_view_module_version": "1.5.0",
            "box_style": "",
            "layout": "IPY_MODEL_0645bcc2c3a944e0ac987c2917223bee",
            "_model_module": "@jupyter-widgets/controls",
            "children": [
              "IPY_MODEL_c82996f6e98c410f938290f6258534eb",
              "IPY_MODEL_3e8b40af108c4a1a908acba5007c1fbc"
            ]
          }
        },
        "0645bcc2c3a944e0ac987c2917223bee": {
          "model_module": "@jupyter-widgets/base",
          "model_name": "LayoutModel",
          "state": {
            "_view_name": "LayoutView",
            "grid_template_rows": null,
            "right": null,
            "justify_content": null,
            "_view_module": "@jupyter-widgets/base",
            "overflow": null,
            "_model_module_version": "1.2.0",
            "_view_count": null,
            "flex_flow": null,
            "width": null,
            "min_width": null,
            "border": null,
            "align_items": null,
            "bottom": null,
            "_model_module": "@jupyter-widgets/base",
            "top": null,
            "grid_column": null,
            "overflow_y": null,
            "overflow_x": null,
            "grid_auto_flow": null,
            "grid_area": null,
            "grid_template_columns": null,
            "flex": null,
            "_model_name": "LayoutModel",
            "justify_items": null,
            "grid_row": null,
            "max_height": null,
            "align_content": null,
            "visibility": null,
            "align_self": null,
            "height": null,
            "min_height": null,
            "padding": null,
            "grid_auto_rows": null,
            "grid_gap": null,
            "max_width": null,
            "order": null,
            "_view_module_version": "1.2.0",
            "grid_template_areas": null,
            "object_position": null,
            "object_fit": null,
            "grid_auto_columns": null,
            "margin": null,
            "display": null,
            "left": null
          }
        },
        "c82996f6e98c410f938290f6258534eb": {
          "model_module": "@jupyter-widgets/controls",
          "model_name": "FloatProgressModel",
          "state": {
            "_view_name": "ProgressView",
            "style": "IPY_MODEL_97d84a1de8904d72aa498cd2ecefdce4",
            "_dom_classes": [],
            "description": "",
            "_model_name": "FloatProgressModel",
            "bar_style": "success",
            "max": 1,
            "_view_module": "@jupyter-widgets/controls",
            "_model_module_version": "1.5.0",
            "value": 1,
            "_view_count": null,
            "_view_module_version": "1.5.0",
            "orientation": "horizontal",
            "min": 0,
            "description_tooltip": null,
            "_model_module": "@jupyter-widgets/controls",
            "layout": "IPY_MODEL_84a0b69a49e4433c97a410e1dfdbba69"
          }
        },
        "3e8b40af108c4a1a908acba5007c1fbc": {
          "model_module": "@jupyter-widgets/controls",
          "model_name": "HTMLModel",
          "state": {
            "_view_name": "HTMLView",
            "style": "IPY_MODEL_640bbe8d985447e5bde8416cc51108c3",
            "_dom_classes": [],
            "description": "",
            "_model_name": "HTMLModel",
            "placeholder": "​",
            "_view_module": "@jupyter-widgets/controls",
            "_model_module_version": "1.5.0",
            "value": " 32768/? [00:03&lt;00:00, 9455.10it/s]",
            "_view_count": null,
            "_view_module_version": "1.5.0",
            "description_tooltip": null,
            "_model_module": "@jupyter-widgets/controls",
            "layout": "IPY_MODEL_1b77a754f5194284ac8d6bd71df903a8"
          }
        },
        "97d84a1de8904d72aa498cd2ecefdce4": {
          "model_module": "@jupyter-widgets/controls",
          "model_name": "ProgressStyleModel",
          "state": {
            "_view_name": "StyleView",
            "_model_name": "ProgressStyleModel",
            "description_width": "initial",
            "_view_module": "@jupyter-widgets/base",
            "_model_module_version": "1.5.0",
            "_view_count": null,
            "_view_module_version": "1.2.0",
            "bar_color": null,
            "_model_module": "@jupyter-widgets/controls"
          }
        },
        "84a0b69a49e4433c97a410e1dfdbba69": {
          "model_module": "@jupyter-widgets/base",
          "model_name": "LayoutModel",
          "state": {
            "_view_name": "LayoutView",
            "grid_template_rows": null,
            "right": null,
            "justify_content": null,
            "_view_module": "@jupyter-widgets/base",
            "overflow": null,
            "_model_module_version": "1.2.0",
            "_view_count": null,
            "flex_flow": null,
            "width": null,
            "min_width": null,
            "border": null,
            "align_items": null,
            "bottom": null,
            "_model_module": "@jupyter-widgets/base",
            "top": null,
            "grid_column": null,
            "overflow_y": null,
            "overflow_x": null,
            "grid_auto_flow": null,
            "grid_area": null,
            "grid_template_columns": null,
            "flex": null,
            "_model_name": "LayoutModel",
            "justify_items": null,
            "grid_row": null,
            "max_height": null,
            "align_content": null,
            "visibility": null,
            "align_self": null,
            "height": null,
            "min_height": null,
            "padding": null,
            "grid_auto_rows": null,
            "grid_gap": null,
            "max_width": null,
            "order": null,
            "_view_module_version": "1.2.0",
            "grid_template_areas": null,
            "object_position": null,
            "object_fit": null,
            "grid_auto_columns": null,
            "margin": null,
            "display": null,
            "left": null
          }
        },
        "640bbe8d985447e5bde8416cc51108c3": {
          "model_module": "@jupyter-widgets/controls",
          "model_name": "DescriptionStyleModel",
          "state": {
            "_view_name": "StyleView",
            "_model_name": "DescriptionStyleModel",
            "description_width": "",
            "_view_module": "@jupyter-widgets/base",
            "_model_module_version": "1.5.0",
            "_view_count": null,
            "_view_module_version": "1.2.0",
            "_model_module": "@jupyter-widgets/controls"
          }
        },
        "1b77a754f5194284ac8d6bd71df903a8": {
          "model_module": "@jupyter-widgets/base",
          "model_name": "LayoutModel",
          "state": {
            "_view_name": "LayoutView",
            "grid_template_rows": null,
            "right": null,
            "justify_content": null,
            "_view_module": "@jupyter-widgets/base",
            "overflow": null,
            "_model_module_version": "1.2.0",
            "_view_count": null,
            "flex_flow": null,
            "width": null,
            "min_width": null,
            "border": null,
            "align_items": null,
            "bottom": null,
            "_model_module": "@jupyter-widgets/base",
            "top": null,
            "grid_column": null,
            "overflow_y": null,
            "overflow_x": null,
            "grid_auto_flow": null,
            "grid_area": null,
            "grid_template_columns": null,
            "flex": null,
            "_model_name": "LayoutModel",
            "justify_items": null,
            "grid_row": null,
            "max_height": null,
            "align_content": null,
            "visibility": null,
            "align_self": null,
            "height": null,
            "min_height": null,
            "padding": null,
            "grid_auto_rows": null,
            "grid_gap": null,
            "max_width": null,
            "order": null,
            "_view_module_version": "1.2.0",
            "grid_template_areas": null,
            "object_position": null,
            "object_fit": null,
            "grid_auto_columns": null,
            "margin": null,
            "display": null,
            "left": null
          }
        },
        "85409f7cf1364169898c0dead548970b": {
          "model_module": "@jupyter-widgets/controls",
          "model_name": "HBoxModel",
          "state": {
            "_view_name": "HBoxView",
            "_dom_classes": [],
            "_model_name": "HBoxModel",
            "_view_module": "@jupyter-widgets/controls",
            "_model_module_version": "1.5.0",
            "_view_count": null,
            "_view_module_version": "1.5.0",
            "box_style": "",
            "layout": "IPY_MODEL_636eaa824e544bb0b59bee40a2f33364",
            "_model_module": "@jupyter-widgets/controls",
            "children": [
              "IPY_MODEL_6fe48b3329f04c238866a5b755bac11c",
              "IPY_MODEL_8740507211634889b4a8376c8060f61e"
            ]
          }
        },
        "636eaa824e544bb0b59bee40a2f33364": {
          "model_module": "@jupyter-widgets/base",
          "model_name": "LayoutModel",
          "state": {
            "_view_name": "LayoutView",
            "grid_template_rows": null,
            "right": null,
            "justify_content": null,
            "_view_module": "@jupyter-widgets/base",
            "overflow": null,
            "_model_module_version": "1.2.0",
            "_view_count": null,
            "flex_flow": null,
            "width": null,
            "min_width": null,
            "border": null,
            "align_items": null,
            "bottom": null,
            "_model_module": "@jupyter-widgets/base",
            "top": null,
            "grid_column": null,
            "overflow_y": null,
            "overflow_x": null,
            "grid_auto_flow": null,
            "grid_area": null,
            "grid_template_columns": null,
            "flex": null,
            "_model_name": "LayoutModel",
            "justify_items": null,
            "grid_row": null,
            "max_height": null,
            "align_content": null,
            "visibility": null,
            "align_self": null,
            "height": null,
            "min_height": null,
            "padding": null,
            "grid_auto_rows": null,
            "grid_gap": null,
            "max_width": null,
            "order": null,
            "_view_module_version": "1.2.0",
            "grid_template_areas": null,
            "object_position": null,
            "object_fit": null,
            "grid_auto_columns": null,
            "margin": null,
            "display": null,
            "left": null
          }
        },
        "6fe48b3329f04c238866a5b755bac11c": {
          "model_module": "@jupyter-widgets/controls",
          "model_name": "FloatProgressModel",
          "state": {
            "_view_name": "ProgressView",
            "style": "IPY_MODEL_a48b92dc77f94640be8527e1b501e576",
            "_dom_classes": [],
            "description": "",
            "_model_name": "FloatProgressModel",
            "bar_style": "success",
            "max": 1,
            "_view_module": "@jupyter-widgets/controls",
            "_model_module_version": "1.5.0",
            "value": 1,
            "_view_count": null,
            "_view_module_version": "1.5.0",
            "orientation": "horizontal",
            "min": 0,
            "description_tooltip": null,
            "_model_module": "@jupyter-widgets/controls",
            "layout": "IPY_MODEL_a54ef8242abf47b9b791a7967c81a1b5"
          }
        },
        "8740507211634889b4a8376c8060f61e": {
          "model_module": "@jupyter-widgets/controls",
          "model_name": "HTMLModel",
          "state": {
            "_view_name": "HTMLView",
            "style": "IPY_MODEL_41deb7c8e59941a094a12fed08be818e",
            "_dom_classes": [],
            "description": "",
            "_model_name": "HTMLModel",
            "placeholder": "​",
            "_view_module": "@jupyter-widgets/controls",
            "_model_module_version": "1.5.0",
            "value": " 1654784/? [00:02&lt;00:00, 663033.82it/s]",
            "_view_count": null,
            "_view_module_version": "1.5.0",
            "description_tooltip": null,
            "_model_module": "@jupyter-widgets/controls",
            "layout": "IPY_MODEL_8f8b9e238ea644d0950cd2702892d73d"
          }
        },
        "a48b92dc77f94640be8527e1b501e576": {
          "model_module": "@jupyter-widgets/controls",
          "model_name": "ProgressStyleModel",
          "state": {
            "_view_name": "StyleView",
            "_model_name": "ProgressStyleModel",
            "description_width": "initial",
            "_view_module": "@jupyter-widgets/base",
            "_model_module_version": "1.5.0",
            "_view_count": null,
            "_view_module_version": "1.2.0",
            "bar_color": null,
            "_model_module": "@jupyter-widgets/controls"
          }
        },
        "a54ef8242abf47b9b791a7967c81a1b5": {
          "model_module": "@jupyter-widgets/base",
          "model_name": "LayoutModel",
          "state": {
            "_view_name": "LayoutView",
            "grid_template_rows": null,
            "right": null,
            "justify_content": null,
            "_view_module": "@jupyter-widgets/base",
            "overflow": null,
            "_model_module_version": "1.2.0",
            "_view_count": null,
            "flex_flow": null,
            "width": null,
            "min_width": null,
            "border": null,
            "align_items": null,
            "bottom": null,
            "_model_module": "@jupyter-widgets/base",
            "top": null,
            "grid_column": null,
            "overflow_y": null,
            "overflow_x": null,
            "grid_auto_flow": null,
            "grid_area": null,
            "grid_template_columns": null,
            "flex": null,
            "_model_name": "LayoutModel",
            "justify_items": null,
            "grid_row": null,
            "max_height": null,
            "align_content": null,
            "visibility": null,
            "align_self": null,
            "height": null,
            "min_height": null,
            "padding": null,
            "grid_auto_rows": null,
            "grid_gap": null,
            "max_width": null,
            "order": null,
            "_view_module_version": "1.2.0",
            "grid_template_areas": null,
            "object_position": null,
            "object_fit": null,
            "grid_auto_columns": null,
            "margin": null,
            "display": null,
            "left": null
          }
        },
        "41deb7c8e59941a094a12fed08be818e": {
          "model_module": "@jupyter-widgets/controls",
          "model_name": "DescriptionStyleModel",
          "state": {
            "_view_name": "StyleView",
            "_model_name": "DescriptionStyleModel",
            "description_width": "",
            "_view_module": "@jupyter-widgets/base",
            "_model_module_version": "1.5.0",
            "_view_count": null,
            "_view_module_version": "1.2.0",
            "_model_module": "@jupyter-widgets/controls"
          }
        },
        "8f8b9e238ea644d0950cd2702892d73d": {
          "model_module": "@jupyter-widgets/base",
          "model_name": "LayoutModel",
          "state": {
            "_view_name": "LayoutView",
            "grid_template_rows": null,
            "right": null,
            "justify_content": null,
            "_view_module": "@jupyter-widgets/base",
            "overflow": null,
            "_model_module_version": "1.2.0",
            "_view_count": null,
            "flex_flow": null,
            "width": null,
            "min_width": null,
            "border": null,
            "align_items": null,
            "bottom": null,
            "_model_module": "@jupyter-widgets/base",
            "top": null,
            "grid_column": null,
            "overflow_y": null,
            "overflow_x": null,
            "grid_auto_flow": null,
            "grid_area": null,
            "grid_template_columns": null,
            "flex": null,
            "_model_name": "LayoutModel",
            "justify_items": null,
            "grid_row": null,
            "max_height": null,
            "align_content": null,
            "visibility": null,
            "align_self": null,
            "height": null,
            "min_height": null,
            "padding": null,
            "grid_auto_rows": null,
            "grid_gap": null,
            "max_width": null,
            "order": null,
            "_view_module_version": "1.2.0",
            "grid_template_areas": null,
            "object_position": null,
            "object_fit": null,
            "grid_auto_columns": null,
            "margin": null,
            "display": null,
            "left": null
          }
        },
        "4582960960a54c86aa5c8e7781fb16e0": {
          "model_module": "@jupyter-widgets/controls",
          "model_name": "HBoxModel",
          "state": {
            "_view_name": "HBoxView",
            "_dom_classes": [],
            "_model_name": "HBoxModel",
            "_view_module": "@jupyter-widgets/controls",
            "_model_module_version": "1.5.0",
            "_view_count": null,
            "_view_module_version": "1.5.0",
            "box_style": "",
            "layout": "IPY_MODEL_373ecd9f6a2d4445a541d42f24f7315d",
            "_model_module": "@jupyter-widgets/controls",
            "children": [
              "IPY_MODEL_61713eb76c154ac59ad93d02561d6620",
              "IPY_MODEL_0fc1a291cc2c42d38c112f624e43c6e8"
            ]
          }
        },
        "373ecd9f6a2d4445a541d42f24f7315d": {
          "model_module": "@jupyter-widgets/base",
          "model_name": "LayoutModel",
          "state": {
            "_view_name": "LayoutView",
            "grid_template_rows": null,
            "right": null,
            "justify_content": null,
            "_view_module": "@jupyter-widgets/base",
            "overflow": null,
            "_model_module_version": "1.2.0",
            "_view_count": null,
            "flex_flow": null,
            "width": null,
            "min_width": null,
            "border": null,
            "align_items": null,
            "bottom": null,
            "_model_module": "@jupyter-widgets/base",
            "top": null,
            "grid_column": null,
            "overflow_y": null,
            "overflow_x": null,
            "grid_auto_flow": null,
            "grid_area": null,
            "grid_template_columns": null,
            "flex": null,
            "_model_name": "LayoutModel",
            "justify_items": null,
            "grid_row": null,
            "max_height": null,
            "align_content": null,
            "visibility": null,
            "align_self": null,
            "height": null,
            "min_height": null,
            "padding": null,
            "grid_auto_rows": null,
            "grid_gap": null,
            "max_width": null,
            "order": null,
            "_view_module_version": "1.2.0",
            "grid_template_areas": null,
            "object_position": null,
            "object_fit": null,
            "grid_auto_columns": null,
            "margin": null,
            "display": null,
            "left": null
          }
        },
        "61713eb76c154ac59ad93d02561d6620": {
          "model_module": "@jupyter-widgets/controls",
          "model_name": "FloatProgressModel",
          "state": {
            "_view_name": "ProgressView",
            "style": "IPY_MODEL_8ac876c75d764ab29c3705867a081db0",
            "_dom_classes": [],
            "description": "",
            "_model_name": "FloatProgressModel",
            "bar_style": "success",
            "max": 1,
            "_view_module": "@jupyter-widgets/controls",
            "_model_module_version": "1.5.0",
            "value": 1,
            "_view_count": null,
            "_view_module_version": "1.5.0",
            "orientation": "horizontal",
            "min": 0,
            "description_tooltip": null,
            "_model_module": "@jupyter-widgets/controls",
            "layout": "IPY_MODEL_3797ffc8236444209ab3fe6b56c45511"
          }
        },
        "0fc1a291cc2c42d38c112f624e43c6e8": {
          "model_module": "@jupyter-widgets/controls",
          "model_name": "HTMLModel",
          "state": {
            "_view_name": "HTMLView",
            "style": "IPY_MODEL_408486ea22544ac3b444992e9d8844ab",
            "_dom_classes": [],
            "description": "",
            "_model_name": "HTMLModel",
            "placeholder": "​",
            "_view_module": "@jupyter-widgets/controls",
            "_model_module_version": "1.5.0",
            "value": " 8192/? [00:00&lt;00:00, 12416.68it/s]",
            "_view_count": null,
            "_view_module_version": "1.5.0",
            "description_tooltip": null,
            "_model_module": "@jupyter-widgets/controls",
            "layout": "IPY_MODEL_fba290b4f62b4733ab62cf2d8a301b9b"
          }
        },
        "8ac876c75d764ab29c3705867a081db0": {
          "model_module": "@jupyter-widgets/controls",
          "model_name": "ProgressStyleModel",
          "state": {
            "_view_name": "StyleView",
            "_model_name": "ProgressStyleModel",
            "description_width": "initial",
            "_view_module": "@jupyter-widgets/base",
            "_model_module_version": "1.5.0",
            "_view_count": null,
            "_view_module_version": "1.2.0",
            "bar_color": null,
            "_model_module": "@jupyter-widgets/controls"
          }
        },
        "3797ffc8236444209ab3fe6b56c45511": {
          "model_module": "@jupyter-widgets/base",
          "model_name": "LayoutModel",
          "state": {
            "_view_name": "LayoutView",
            "grid_template_rows": null,
            "right": null,
            "justify_content": null,
            "_view_module": "@jupyter-widgets/base",
            "overflow": null,
            "_model_module_version": "1.2.0",
            "_view_count": null,
            "flex_flow": null,
            "width": null,
            "min_width": null,
            "border": null,
            "align_items": null,
            "bottom": null,
            "_model_module": "@jupyter-widgets/base",
            "top": null,
            "grid_column": null,
            "overflow_y": null,
            "overflow_x": null,
            "grid_auto_flow": null,
            "grid_area": null,
            "grid_template_columns": null,
            "flex": null,
            "_model_name": "LayoutModel",
            "justify_items": null,
            "grid_row": null,
            "max_height": null,
            "align_content": null,
            "visibility": null,
            "align_self": null,
            "height": null,
            "min_height": null,
            "padding": null,
            "grid_auto_rows": null,
            "grid_gap": null,
            "max_width": null,
            "order": null,
            "_view_module_version": "1.2.0",
            "grid_template_areas": null,
            "object_position": null,
            "object_fit": null,
            "grid_auto_columns": null,
            "margin": null,
            "display": null,
            "left": null
          }
        },
        "408486ea22544ac3b444992e9d8844ab": {
          "model_module": "@jupyter-widgets/controls",
          "model_name": "DescriptionStyleModel",
          "state": {
            "_view_name": "StyleView",
            "_model_name": "DescriptionStyleModel",
            "description_width": "",
            "_view_module": "@jupyter-widgets/base",
            "_model_module_version": "1.5.0",
            "_view_count": null,
            "_view_module_version": "1.2.0",
            "_model_module": "@jupyter-widgets/controls"
          }
        },
        "fba290b4f62b4733ab62cf2d8a301b9b": {
          "model_module": "@jupyter-widgets/base",
          "model_name": "LayoutModel",
          "state": {
            "_view_name": "LayoutView",
            "grid_template_rows": null,
            "right": null,
            "justify_content": null,
            "_view_module": "@jupyter-widgets/base",
            "overflow": null,
            "_model_module_version": "1.2.0",
            "_view_count": null,
            "flex_flow": null,
            "width": null,
            "min_width": null,
            "border": null,
            "align_items": null,
            "bottom": null,
            "_model_module": "@jupyter-widgets/base",
            "top": null,
            "grid_column": null,
            "overflow_y": null,
            "overflow_x": null,
            "grid_auto_flow": null,
            "grid_area": null,
            "grid_template_columns": null,
            "flex": null,
            "_model_name": "LayoutModel",
            "justify_items": null,
            "grid_row": null,
            "max_height": null,
            "align_content": null,
            "visibility": null,
            "align_self": null,
            "height": null,
            "min_height": null,
            "padding": null,
            "grid_auto_rows": null,
            "grid_gap": null,
            "max_width": null,
            "order": null,
            "_view_module_version": "1.2.0",
            "grid_template_areas": null,
            "object_position": null,
            "object_fit": null,
            "grid_auto_columns": null,
            "margin": null,
            "display": null,
            "left": null
          }
        }
      }
    }
  },
  "cells": [
    {
      "cell_type": "code",
      "metadata": {
        "id": "LkRNO3wP-DVR",
        "colab_type": "code",
        "colab": {
          "base_uri": "https://localhost:8080/",
          "height": 153
        },
        "outputId": "57556e97-1f03-4ce6-e5b9-816feab153dd"
      },
      "source": [
        "!rm -rf *\n",
        "!git config --global user.name \"Akhilez\"\n",
        "!git config --global user.email \"akhild18@yahoo.com\"\n",
        "!git clone https://github.com/Akhilez/ml_gallery.git\n",
        "%cd ml_gallery/ml_py"
      ],
      "execution_count": null,
      "outputs": [
        {
          "output_type": "stream",
          "text": [
            "Cloning into 'ml_gallery'...\n",
            "remote: Enumerating objects: 551, done.\u001b[K\n",
            "remote: Counting objects: 100% (551/551), done.\u001b[K\n",
            "remote: Compressing objects: 100% (380/380), done.\u001b[K\n",
            "remote: Total 2078 (delta 329), reused 345 (delta 157), pack-reused 1527\u001b[K\n",
            "Receiving objects: 100% (2078/2078), 11.71 MiB | 7.23 MiB/s, done.\n",
            "Resolving deltas: 100% (1267/1267), done.\n",
            "/content/ml_gallery/ml_py\n"
          ],
          "name": "stdout"
        }
      ]
    },
    {
      "cell_type": "code",
      "metadata": {
        "id": "mRMuULbI-0ML",
        "colab_type": "code",
        "colab": {}
      },
      "source": [
        "import os\n",
        "os.environ['SECRET_KEY'] = '1234'\n",
        "%mkdir -p data/mnist/numbers"
      ],
      "execution_count": null,
      "outputs": []
    },
    {
      "cell_type": "code",
      "metadata": {
        "id": "jMr-foIX-5i5",
        "colab_type": "code",
        "colab": {}
      },
      "source": [
        "import torch\n",
        "from torch.nn.functional import relu\n",
        "from collections import namedtuple\n",
        "from lib.mnist_aug.mnist_augmenter import DataManager, MNISTAug"
      ],
      "execution_count": null,
      "outputs": []
    },
    {
      "cell_type": "code",
      "metadata": {
        "id": "eshztUwq-6FE",
        "colab_type": "code",
        "colab": {
          "base_uri": "https://localhost:8080/",
          "height": 34
        },
        "outputId": "90695e30-8f0a-4b87-ad94-a3a274c7ef5c"
      },
      "source": [
        "# Device configuration\n",
        "device = torch.device('cuda' if torch.cuda.is_available() else 'cpu')\n",
        "device"
      ],
      "execution_count": null,
      "outputs": [
        {
          "output_type": "execute_result",
          "data": {
            "text/plain": [
              "device(type='cpu')"
            ]
          },
          "metadata": {
            "tags": []
          },
          "execution_count": 6
        }
      ]
    },
    {
      "cell_type": "code",
      "metadata": {
        "id": "z0Db7Exb-8D8",
        "colab_type": "code",
        "colab": {
          "base_uri": "https://localhost:8080/",
          "height": 420,
          "referenced_widgets": [
            "e8fdd52850474571862425b2f6eb5136",
            "dc4de92282164bbf9da744474316579a",
            "43d745ae30114d7f9cf6d3a291cbd16c",
            "a9280590b8194a0b8c7ce4a563c131cf",
            "9cead16e86874f0e88e24fb959d0dfc7",
            "ee7a38f4bd0a41449e68c66b0f3b7d04",
            "9ca1b6ee15174e0a9afc839d7555c47c",
            "2fb78a7badbd451387109f437a412556",
            "95b79e756e994536a3b33e7ff1d956c5",
            "0645bcc2c3a944e0ac987c2917223bee",
            "c82996f6e98c410f938290f6258534eb",
            "3e8b40af108c4a1a908acba5007c1fbc",
            "97d84a1de8904d72aa498cd2ecefdce4",
            "84a0b69a49e4433c97a410e1dfdbba69",
            "640bbe8d985447e5bde8416cc51108c3",
            "1b77a754f5194284ac8d6bd71df903a8",
            "85409f7cf1364169898c0dead548970b",
            "636eaa824e544bb0b59bee40a2f33364",
            "6fe48b3329f04c238866a5b755bac11c",
            "8740507211634889b4a8376c8060f61e",
            "a48b92dc77f94640be8527e1b501e576",
            "a54ef8242abf47b9b791a7967c81a1b5",
            "41deb7c8e59941a094a12fed08be818e",
            "8f8b9e238ea644d0950cd2702892d73d",
            "4582960960a54c86aa5c8e7781fb16e0",
            "373ecd9f6a2d4445a541d42f24f7315d",
            "61713eb76c154ac59ad93d02561d6620",
            "0fc1a291cc2c42d38c112f624e43c6e8",
            "8ac876c75d764ab29c3705867a081db0",
            "3797ffc8236444209ab3fe6b56c45511",
            "408486ea22544ac3b444992e9d8844ab",
            "fba290b4f62b4733ab62cf2d8a301b9b"
          ]
        },
        "outputId": "557b0a37-9138-45c2-ffb5-e886249048cb"
      },
      "source": [
        "aug = MNISTAug()\n",
        "dm = DataManager()\n",
        "dm.load()\n",
        "aug.max_objects = 10\n",
        "aug.min_objects = 4"
      ],
      "execution_count": null,
      "outputs": [
        {
          "output_type": "stream",
          "text": [
            "Downloading http://yann.lecun.com/exdb/mnist/train-images-idx3-ubyte.gz to /content/ml_gallery/ml_py/data/mnist/numbers/MNIST/raw/train-images-idx3-ubyte.gz\n"
          ],
          "name": "stdout"
        },
        {
          "output_type": "display_data",
          "data": {
            "application/vnd.jupyter.widget-view+json": {
              "model_id": "e8fdd52850474571862425b2f6eb5136",
              "version_minor": 0,
              "version_major": 2
            },
            "text/plain": [
              "HBox(children=(FloatProgress(value=1.0, bar_style='info', max=1.0), HTML(value='')))"
            ]
          },
          "metadata": {
            "tags": []
          }
        },
        {
          "output_type": "stream",
          "text": [
            "Extracting /content/ml_gallery/ml_py/data/mnist/numbers/MNIST/raw/train-images-idx3-ubyte.gz to /content/ml_gallery/ml_py/data/mnist/numbers/MNIST/raw\n",
            "Downloading http://yann.lecun.com/exdb/mnist/train-labels-idx1-ubyte.gz to /content/ml_gallery/ml_py/data/mnist/numbers/MNIST/raw/train-labels-idx1-ubyte.gz\n"
          ],
          "name": "stdout"
        },
        {
          "output_type": "display_data",
          "data": {
            "application/vnd.jupyter.widget-view+json": {
              "model_id": "95b79e756e994536a3b33e7ff1d956c5",
              "version_minor": 0,
              "version_major": 2
            },
            "text/plain": [
              "HBox(children=(FloatProgress(value=1.0, bar_style='info', max=1.0), HTML(value='')))"
            ]
          },
          "metadata": {
            "tags": []
          }
        },
        {
          "output_type": "stream",
          "text": [
            "Extracting /content/ml_gallery/ml_py/data/mnist/numbers/MNIST/raw/train-labels-idx1-ubyte.gz to /content/ml_gallery/ml_py/data/mnist/numbers/MNIST/raw\n",
            "Downloading http://yann.lecun.com/exdb/mnist/t10k-images-idx3-ubyte.gz to /content/ml_gallery/ml_py/data/mnist/numbers/MNIST/raw/t10k-images-idx3-ubyte.gz\n"
          ],
          "name": "stdout"
        },
        {
          "output_type": "display_data",
          "data": {
            "application/vnd.jupyter.widget-view+json": {
              "model_id": "85409f7cf1364169898c0dead548970b",
              "version_minor": 0,
              "version_major": 2
            },
            "text/plain": [
              "HBox(children=(FloatProgress(value=1.0, bar_style='info', max=1.0), HTML(value='')))"
            ]
          },
          "metadata": {
            "tags": []
          }
        },
        {
          "output_type": "stream",
          "text": [
            "Extracting /content/ml_gallery/ml_py/data/mnist/numbers/MNIST/raw/t10k-images-idx3-ubyte.gz to /content/ml_gallery/ml_py/data/mnist/numbers/MNIST/raw\n",
            "Downloading http://yann.lecun.com/exdb/mnist/t10k-labels-idx1-ubyte.gz to /content/ml_gallery/ml_py/data/mnist/numbers/MNIST/raw/t10k-labels-idx1-ubyte.gz\n"
          ],
          "name": "stdout"
        },
        {
          "output_type": "display_data",
          "data": {
            "application/vnd.jupyter.widget-view+json": {
              "model_id": "4582960960a54c86aa5c8e7781fb16e0",
              "version_minor": 0,
              "version_major": 2
            },
            "text/plain": [
              "HBox(children=(FloatProgress(value=1.0, bar_style='info', max=1.0), HTML(value='')))"
            ]
          },
          "metadata": {
            "tags": []
          }
        },
        {
          "output_type": "stream",
          "text": [
            "Extracting /content/ml_gallery/ml_py/data/mnist/numbers/MNIST/raw/t10k-labels-idx1-ubyte.gz to /content/ml_gallery/ml_py/data/mnist/numbers/MNIST/raw\n",
            "Processing...\n",
            "Done!\n",
            "\n",
            "\n"
          ],
          "name": "stdout"
        },
        {
          "output_type": "stream",
          "text": [
            "/pytorch/torch/csrc/utils/tensor_numpy.cpp:141: UserWarning: The given NumPy array is not writeable, and PyTorch does not support non-writeable tensors. This means you can write to the underlying (supposedly non-writeable) NumPy array using the tensor. You may want to copy the array to protect its data or make it writeable before converting it to a tensor. This type of warning will be suppressed for the rest of this program.\n"
          ],
          "name": "stderr"
        },
        {
          "output_type": "stream",
          "text": [
            "\n",
            "\n"
          ],
          "name": "stdout"
        }
      ]
    },
    {
      "cell_type": "code",
      "metadata": {
        "id": "FCidsSEL_T9U",
        "colab_type": "code",
        "colab": {}
      },
      "source": [
        "x_train, y_train = aug.get_augmented(dm.x_train, dm.y_train, 10)\n",
        "x_test, y_test = aug.get_augmented(dm.x_test, dm.y_test, 2)"
      ],
      "execution_count": null,
      "outputs": []
    },
    {
      "cell_type": "code",
      "metadata": {
        "id": "GsNoRI-a_Z8m",
        "colab_type": "code",
        "colab": {}
      },
      "source": [
        "x_train = torch.tensor(x_train.reshape(-1, 1, 112, 112)).type('torch.FloatTensor')\n",
        "x_test = torch.tensor(x_test.reshape(-1, 1, 112, 112)).type('torch.FloatTensor')"
      ],
      "execution_count": null,
      "outputs": []
    },
    {
      "cell_type": "code",
      "metadata": {
        "id": "QbZOSOWO_cZ7",
        "colab_type": "code",
        "colab": {
          "base_uri": "https://localhost:8080/",
          "height": 1000
        },
        "outputId": "afdbb4b3-010d-462d-9b5e-d58b2c521927"
      },
      "source": [
        "DataManager.plot_num(x_train[0].reshape((112, 112)), y_train[0])\n",
        "y_train[0]"
      ],
      "execution_count": null,
      "outputs": [
        {
          "output_type": "execute_result",
          "data": {
            "text/plain": [
              "[{'class': 3,\n",
              "  'class_one_hot': tensor([0., 0., 0., 1., 0., 0., 0., 0., 0., 0.]),\n",
              "  'cx': 51.0,\n",
              "  'cy': 46.0,\n",
              "  'height': 42,\n",
              "  'width': 42,\n",
              "  'x1': 30,\n",
              "  'x2': 72,\n",
              "  'y1': 25,\n",
              "  'y2': 67},\n",
              " {'class': 8,\n",
              "  'class_one_hot': tensor([0., 0., 0., 0., 0., 0., 0., 0., 1., 0.]),\n",
              "  'cx': 21.0,\n",
              "  'cy': 52.0,\n",
              "  'height': 30,\n",
              "  'width': 30,\n",
              "  'x1': 6,\n",
              "  'x2': 36,\n",
              "  'y1': 37,\n",
              "  'y2': 67},\n",
              " {'class': 6,\n",
              "  'class_one_hot': tensor([0., 0., 0., 0., 0., 0., 1., 0., 0., 0.]),\n",
              "  'cx': 88.0,\n",
              "  'cy': 78.5,\n",
              "  'height': 53,\n",
              "  'width': 48,\n",
              "  'x1': 64,\n",
              "  'x2': 112,\n",
              "  'y1': 52,\n",
              "  'y2': 105},\n",
              " {'class': 0,\n",
              "  'class_one_hot': tensor([1., 0., 0., 0., 0., 0., 0., 0., 0., 0.]),\n",
              "  'cx': 90.0,\n",
              "  'cy': 44.0,\n",
              "  'height': 38,\n",
              "  'width': 38,\n",
              "  'x1': 71,\n",
              "  'x2': 109,\n",
              "  'y1': 25,\n",
              "  'y2': 63},\n",
              " {'class': 2,\n",
              "  'class_one_hot': tensor([0., 0., 1., 0., 0., 0., 0., 0., 0., 0.]),\n",
              "  'cx': 73.5,\n",
              "  'cy': 23.5,\n",
              "  'height': 19,\n",
              "  'width': 19,\n",
              "  'x1': 64,\n",
              "  'x2': 83,\n",
              "  'y1': 14,\n",
              "  'y2': 33},\n",
              " {'class': 8,\n",
              "  'class_one_hot': tensor([0., 0., 0., 0., 0., 0., 0., 0., 1., 0.]),\n",
              "  'cx': 46.5,\n",
              "  'cy': 92.5,\n",
              "  'height': 39,\n",
              "  'width': 41,\n",
              "  'x1': 26,\n",
              "  'x2': 67,\n",
              "  'y1': 73,\n",
              "  'y2': 112},\n",
              " {'class': 2,\n",
              "  'class_one_hot': tensor([0., 0., 1., 0., 0., 0., 0., 0., 0., 0.]),\n",
              "  'cx': 20.0,\n",
              "  'cy': 18.0,\n",
              "  'height': 36,\n",
              "  'width': 36,\n",
              "  'x1': 2,\n",
              "  'x2': 38,\n",
              "  'y1': 0,\n",
              "  'y2': 36},\n",
              " {'class': 4,\n",
              "  'class_one_hot': tensor([0., 0., 0., 0., 1., 0., 0., 0., 0., 0.]),\n",
              "  'cx': 20.5,\n",
              "  'cy': 79.5,\n",
              "  'height': 39,\n",
              "  'width': 39,\n",
              "  'x1': 1,\n",
              "  'x2': 40,\n",
              "  'y1': 60,\n",
              "  'y2': 99},\n",
              " {'class': 9,\n",
              "  'class_one_hot': tensor([0., 0., 0., 0., 0., 0., 0., 0., 0., 1.]),\n",
              "  'cx': 63.0,\n",
              "  'cy': 105.0,\n",
              "  'height': 14,\n",
              "  'width': 16,\n",
              "  'x1': 55,\n",
              "  'x2': 71,\n",
              "  'y1': 98,\n",
              "  'y2': 112},\n",
              " {'class': 9,\n",
              "  'class_one_hot': tensor([0., 0., 0., 0., 0., 0., 0., 0., 0., 1.]),\n",
              "  'cx': 90.5,\n",
              "  'cy': 16.5,\n",
              "  'height': 23,\n",
              "  'width': 23,\n",
              "  'x1': 79,\n",
              "  'x2': 102,\n",
              "  'y1': 5,\n",
              "  'y2': 28}]"
            ]
          },
          "metadata": {
            "tags": []
          },
          "execution_count": 10
        },
        {
          "output_type": "display_data",
          "data": {
            "image/png": "[encoded data removed]",
            "text/plain": [
              "<Figure size 432x288 with 1 Axes>"
            ]
          },
          "metadata": {
            "tags": [],
            "needs_background": "light"
          }
        }
      ]
    },
    {
      "cell_type": "code",
      "metadata": {
        "id": "jI8jVrA5_ecs",
        "colab_type": "code",
        "colab": {}
      },
      "source": [
        "# 14 * 14  = 196 anchor boxes\n",
        "# side of each anchor box = 28\n",
        "\n",
        "n_anchors = 14 * 14\n",
        "\n",
        "anchor_grid_spacing = 8\n",
        "\n",
        "anchor_centers = []\n",
        "for i in range(14):\n",
        "  anchor_row = []\n",
        "  for j in range(14):\n",
        "    anchor_row.append([\n",
        "      j * anchor_grid_spacing + anchor_grid_spacing / 2,\n",
        "      i * anchor_grid_spacing + anchor_grid_spacing / 2,\n",
        "    ])\n",
        "  anchor_centers.append(anchor_row)\n",
        "anchor_centers = torch.tensor(anchor_centers)"
      ],
      "execution_count": null,
      "outputs": []
    },
    {
      "cell_type": "code",
      "metadata": {
        "id": "1Y5MvcmNiNbD",
        "colab_type": "code",
        "colab": {
          "base_uri": "https://localhost:8080/",
          "height": 34
        },
        "outputId": "9f71ccf7-b389-4c1d-9fb7-37c53cb81d78"
      },
      "source": [
        "anchor_centers.shape"
      ],
      "execution_count": null,
      "outputs": [
        {
          "output_type": "execute_result",
          "data": {
            "text/plain": [
              "torch.Size([14, 14, 2])"
            ]
          },
          "metadata": {
            "tags": []
          },
          "execution_count": 13
        }
      ]
    },
    {
      "cell_type": "code",
      "metadata": {
        "id": "8rH8nv0gb7MK",
        "colab_type": "code",
        "colab": {}
      },
      "source": [
        "class BoxPredictor(torch.nn.Module):\n",
        "  def __init__(self):\n",
        "    super().__init__()\n",
        "    self.linear1 = torch.nn.Linear(4096, 1024)\n",
        "    self.linear2 = torch.nn.Linear(1024, 3 * n_anchors)\n",
        "\n",
        "  def forward(self, x):\n",
        "    x = relu(self.linear1(x))\n",
        "    x = torch.tanh(self.linear2(x))\n",
        "    return x\n",
        "\n",
        "\n",
        "class ConfidencePredictor(torch.nn.Module):\n",
        "  def __init__(self):\n",
        "    super().__init__()\n",
        "    self.linear1 = torch.nn.Linear(4096, 1024)\n",
        "    self.linear2 = torch.nn.Linear(1024, 2 * n_anchors)\n",
        "\n",
        "  def forward(self, x):\n",
        "    x = relu(self.linear1(x))\n",
        "    x = torch.nn.functional.softmax(self.linear2(x).reshape((-1, n_anchors, 2)), 2)\n",
        "    return x\n",
        "\n",
        "\n",
        "class DetectorV1 (torch.nn.Module):\n",
        "    def __init__(self):\n",
        "        super().__init__()\n",
        "        self.conv1 = torch.nn.Conv2d(1, 32, 3, padding=1)  # 112x112\n",
        "        self.conv2 = torch.nn.Conv2d(32, 64, 3, stride=2, padding=1)  # 56x56\n",
        "        self.conv3 = torch.nn.Conv2d(64, 128, 3, stride=2, padding=1)  # 28x28\n",
        "        self.conv4 = torch.nn.Conv2d(128, 256, 3, stride=2, padding=1)  # 14x14\n",
        "        self.conv5 = torch.nn.Conv2d(256, 512, 3, stride=2, padding=1)  # 7x7\n",
        "        self.linear1 = torch.nn.Linear(25088, 4096)\n",
        "        self.box_predictor = BoxPredictor()\n",
        "        self.confidence_predictor = ConfidencePredictor()\n",
        "\n",
        "    def forward(self, x):\n",
        "        x = relu(self.conv1(x))  # 112\n",
        "        x = relu(self.conv2(x))  # 56\n",
        "        x = relu(self.conv3(x))  # 28\n",
        "        x = relu(self.conv4(x))  # 14\n",
        "        x = relu(self.conv5(x))  # 7\n",
        "        x = torch.flatten(x, 1)\n",
        "        x = relu(self.linear1(x))\n",
        "        boxes = self.box_predictor(x)\n",
        "        confidences = self.confidence_predictor(x)\n",
        "        return boxes, confidences\n",
        "\n",
        "model = DetectorV1().to(device)\n",
        "optimizer = torch.optim.Adam(model.parameters())"
      ],
      "execution_count": null,
      "outputs": []
    },
    {
      "cell_type": "markdown",
      "metadata": {
        "id": "Q1hyZNulvcq_",
        "colab_type": "text"
      },
      "source": [
        "Steps:\n",
        " - get the predictions.\n",
        " - Find the anchors which have >0.1 IoU -> +ve anchors\n",
        " - Find the matching bounding box for each +ve anchor\n",
        " - All +ve anchors are high confidence, rest are low.\n",
        " - What is the loss for -ve anchors?"
      ]
    },
    {
      "cell_type": "code",
      "metadata": {
        "id": "SGl7qtS3u92g",
        "colab_type": "code",
        "colab": {}
      },
      "source": [
        "epochs = 2\n",
        "batch_size = 5\n",
        "\n",
        "for epoch in range(epochs):\n",
        "    \n",
        "    for i in range(0, len(x_train), batch_size):\n",
        "        start_index = i\n",
        "        end_index = i+batch_size\n",
        "        \n",
        "        x_batch = x_train[start_index:end_index].to(device)\n",
        "        y_batch = y_d[start_index:end_index].to(device)\n",
        "        \n",
        "        optimizer.zero_grad()\n",
        "\n",
        "        y_hat = model(x_batch)\n",
        "\n",
        "        positive_anchors = get_positive_anchors(y_hat, y_batch)\n",
        "\n",
        "        loss = sum(sum((y_batch - y_hat)**2))\n",
        "        \n",
        "        loss.backward()\n",
        "        optimizer.step()\n",
        "        \n",
        "    print(f'Epoch: {epoch}, loss={float(loss)}')"
      ],
      "execution_count": null,
      "outputs": []
    },
    {
      "cell_type": "code",
      "metadata": {
        "id": "A0CKF8vFvNe3",
        "colab_type": "code",
        "colab": {}
      },
      "source": [
        "def get_positive_anchors(y_hat, y_batch):\n",
        "  \"\"\"\n",
        "  1. For Each item in the batch:\n",
        "  2. For each anchor box:\n",
        "    - For each bounding box:\n",
        "      - Find the IoU.\n",
        "    - Pick bounding box with highest IoU\n",
        "    - If highest IoU is < 0.3, then continue 1.\n",
        "    # - Create the difference units for the anchor and the bounding box as y\n",
        "    - Now add the anchor box and bounding box into a map.\n",
        "\n",
        "  for i in range()\n",
        "  return [{\n",
        "      1: 3\n",
        "  }]\n",
        "  \"\"\""
      ],
      "execution_count": null,
      "outputs": []
    },
    {
      "cell_type": "code",
      "metadata": {
        "id": "scrpMShajX4I",
        "colab_type": "code",
        "colab": {}
      },
      "source": [
        "def units_to_diff(y):\n",
        "    y_d = []\n",
        "    for i in range(len(y)):\n",
        "      yi_d = []\n",
        "      for j in range(len(y[i])):\n",
        "        cx_d = (y[i][j]['cx'] - anchor_centers[i][j][0]) / 112\n",
        "        cy_d = (y[i][j]['cy'] - anchor_centers[i][j][1]) / 112\n",
        "        w_d = (y[i][j]['width'] - 28) / 112\n",
        "        yi_d.append((cx_d, cy_d, w_d))\n",
        "      y_d.append(yi_d)\n",
        "    return y_d\n",
        "\n",
        "def diff_to_units(y):\n",
        "    y_units = []\n",
        "    for i in range(len(y)):\n",
        "        cx_d = y[i][0] * 112 + anchor_cx\n",
        "        cy_d = y[i][1] * 112 + anchor_cy\n",
        "        wd = y[i][2] * 112 + anchor_w\n",
        "        y_units.append((cx_d, cy_d, wd))\n",
        "    return torch.tensor(y_units)"
      ],
      "execution_count": null,
      "outputs": []
    }
  ]
}