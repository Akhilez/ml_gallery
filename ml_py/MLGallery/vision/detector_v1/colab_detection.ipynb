{
  "nbformat": 4,
  "nbformat_minor": 0,
  "metadata": {
    "colab": {
      "name": "mnist_detection.ipynb",
      "provenance": [],
      "collapsed_sections": []
    },
    "kernelspec": {
      "name": "python3",
      "display_name": "Python 3"
    },
    "widgets": {
      "application/vnd.jupyter.widget-state+json": {
        "0be171f099ed4b1e9986942a9792fe97": {
          "model_module": "@jupyter-widgets/controls",
          "model_name": "HBoxModel",
          "state": {
            "_view_name": "HBoxView",
            "_dom_classes": [],
            "_model_name": "HBoxModel",
            "_view_module": "@jupyter-widgets/controls",
            "_model_module_version": "1.5.0",
            "_view_count": null,
            "_view_module_version": "1.5.0",
            "box_style": "",
            "layout": "IPY_MODEL_45aa5471760c430ebb3070b76d7a6d7f",
            "_model_module": "@jupyter-widgets/controls",
            "children": [
              "IPY_MODEL_be636e45712d43af80af7259e9e103cb",
              "IPY_MODEL_6df32b1fbbcd48978a5568a34ae5d127"
            ]
          }
        },
        "45aa5471760c430ebb3070b76d7a6d7f": {
          "model_module": "@jupyter-widgets/base",
          "model_name": "LayoutModel",
          "state": {
            "_view_name": "LayoutView",
            "grid_template_rows": null,
            "right": null,
            "justify_content": null,
            "_view_module": "@jupyter-widgets/base",
            "overflow": null,
            "_model_module_version": "1.2.0",
            "_view_count": null,
            "flex_flow": null,
            "width": null,
            "min_width": null,
            "border": null,
            "align_items": null,
            "bottom": null,
            "_model_module": "@jupyter-widgets/base",
            "top": null,
            "grid_column": null,
            "overflow_y": null,
            "overflow_x": null,
            "grid_auto_flow": null,
            "grid_area": null,
            "grid_template_columns": null,
            "flex": null,
            "_model_name": "LayoutModel",
            "justify_items": null,
            "grid_row": null,
            "max_height": null,
            "align_content": null,
            "visibility": null,
            "align_self": null,
            "height": null,
            "min_height": null,
            "padding": null,
            "grid_auto_rows": null,
            "grid_gap": null,
            "max_width": null,
            "order": null,
            "_view_module_version": "1.2.0",
            "grid_template_areas": null,
            "object_position": null,
            "object_fit": null,
            "grid_auto_columns": null,
            "margin": null,
            "display": null,
            "left": null
          }
        },
        "be636e45712d43af80af7259e9e103cb": {
          "model_module": "@jupyter-widgets/controls",
          "model_name": "FloatProgressModel",
          "state": {
            "_view_name": "ProgressView",
            "style": "IPY_MODEL_7c8ed89abc9f4b6689f0d3875d62e504",
            "_dom_classes": [],
            "description": "",
            "_model_name": "FloatProgressModel",
            "bar_style": "success",
            "max": 1,
            "_view_module": "@jupyter-widgets/controls",
            "_model_module_version": "1.5.0",
            "value": 1,
            "_view_count": null,
            "_view_module_version": "1.5.0",
            "orientation": "horizontal",
            "min": 0,
            "description_tooltip": null,
            "_model_module": "@jupyter-widgets/controls",
            "layout": "IPY_MODEL_1c433240374d4e1c985dfd68f96b38ca"
          }
        },
        "6df32b1fbbcd48978a5568a34ae5d127": {
          "model_module": "@jupyter-widgets/controls",
          "model_name": "HTMLModel",
          "state": {
            "_view_name": "HTMLView",
            "style": "IPY_MODEL_24813b4dc4c747bfbd89edbaa23e2913",
            "_dom_classes": [],
            "description": "",
            "_model_name": "HTMLModel",
            "placeholder": "​",
            "_view_module": "@jupyter-widgets/controls",
            "_model_module_version": "1.5.0",
            "value": " 9920512/? [00:02&lt;00:00, 3462780.22it/s]",
            "_view_count": null,
            "_view_module_version": "1.5.0",
            "description_tooltip": null,
            "_model_module": "@jupyter-widgets/controls",
            "layout": "IPY_MODEL_544d746976674af1b0319c869888d98f"
          }
        },
        "7c8ed89abc9f4b6689f0d3875d62e504": {
          "model_module": "@jupyter-widgets/controls",
          "model_name": "ProgressStyleModel",
          "state": {
            "_view_name": "StyleView",
            "_model_name": "ProgressStyleModel",
            "description_width": "initial",
            "_view_module": "@jupyter-widgets/base",
            "_model_module_version": "1.5.0",
            "_view_count": null,
            "_view_module_version": "1.2.0",
            "bar_color": null,
            "_model_module": "@jupyter-widgets/controls"
          }
        },
        "1c433240374d4e1c985dfd68f96b38ca": {
          "model_module": "@jupyter-widgets/base",
          "model_name": "LayoutModel",
          "state": {
            "_view_name": "LayoutView",
            "grid_template_rows": null,
            "right": null,
            "justify_content": null,
            "_view_module": "@jupyter-widgets/base",
            "overflow": null,
            "_model_module_version": "1.2.0",
            "_view_count": null,
            "flex_flow": null,
            "width": null,
            "min_width": null,
            "border": null,
            "align_items": null,
            "bottom": null,
            "_model_module": "@jupyter-widgets/base",
            "top": null,
            "grid_column": null,
            "overflow_y": null,
            "overflow_x": null,
            "grid_auto_flow": null,
            "grid_area": null,
            "grid_template_columns": null,
            "flex": null,
            "_model_name": "LayoutModel",
            "justify_items": null,
            "grid_row": null,
            "max_height": null,
            "align_content": null,
            "visibility": null,
            "align_self": null,
            "height": null,
            "min_height": null,
            "padding": null,
            "grid_auto_rows": null,
            "grid_gap": null,
            "max_width": null,
            "order": null,
            "_view_module_version": "1.2.0",
            "grid_template_areas": null,
            "object_position": null,
            "object_fit": null,
            "grid_auto_columns": null,
            "margin": null,
            "display": null,
            "left": null
          }
        },
        "24813b4dc4c747bfbd89edbaa23e2913": {
          "model_module": "@jupyter-widgets/controls",
          "model_name": "DescriptionStyleModel",
          "state": {
            "_view_name": "StyleView",
            "_model_name": "DescriptionStyleModel",
            "description_width": "",
            "_view_module": "@jupyter-widgets/base",
            "_model_module_version": "1.5.0",
            "_view_count": null,
            "_view_module_version": "1.2.0",
            "_model_module": "@jupyter-widgets/controls"
          }
        },
        "544d746976674af1b0319c869888d98f": {
          "model_module": "@jupyter-widgets/base",
          "model_name": "LayoutModel",
          "state": {
            "_view_name": "LayoutView",
            "grid_template_rows": null,
            "right": null,
            "justify_content": null,
            "_view_module": "@jupyter-widgets/base",
            "overflow": null,
            "_model_module_version": "1.2.0",
            "_view_count": null,
            "flex_flow": null,
            "width": null,
            "min_width": null,
            "border": null,
            "align_items": null,
            "bottom": null,
            "_model_module": "@jupyter-widgets/base",
            "top": null,
            "grid_column": null,
            "overflow_y": null,
            "overflow_x": null,
            "grid_auto_flow": null,
            "grid_area": null,
            "grid_template_columns": null,
            "flex": null,
            "_model_name": "LayoutModel",
            "justify_items": null,
            "grid_row": null,
            "max_height": null,
            "align_content": null,
            "visibility": null,
            "align_self": null,
            "height": null,
            "min_height": null,
            "padding": null,
            "grid_auto_rows": null,
            "grid_gap": null,
            "max_width": null,
            "order": null,
            "_view_module_version": "1.2.0",
            "grid_template_areas": null,
            "object_position": null,
            "object_fit": null,
            "grid_auto_columns": null,
            "margin": null,
            "display": null,
            "left": null
          }
        },
        "4a4d09e62d8e44c4b1880db5aa25a333": {
          "model_module": "@jupyter-widgets/controls",
          "model_name": "HBoxModel",
          "state": {
            "_view_name": "HBoxView",
            "_dom_classes": [],
            "_model_name": "HBoxModel",
            "_view_module": "@jupyter-widgets/controls",
            "_model_module_version": "1.5.0",
            "_view_count": null,
            "_view_module_version": "1.5.0",
            "box_style": "",
            "layout": "IPY_MODEL_10b0f76b03f24c498ece3ad01b33a65a",
            "_model_module": "@jupyter-widgets/controls",
            "children": [
              "IPY_MODEL_0942ce54766f4a1ab7b7e21d26aad08f",
              "IPY_MODEL_f11a7b4314524bf586ce9011c9f73f38"
            ]
          }
        },
        "10b0f76b03f24c498ece3ad01b33a65a": {
          "model_module": "@jupyter-widgets/base",
          "model_name": "LayoutModel",
          "state": {
            "_view_name": "LayoutView",
            "grid_template_rows": null,
            "right": null,
            "justify_content": null,
            "_view_module": "@jupyter-widgets/base",
            "overflow": null,
            "_model_module_version": "1.2.0",
            "_view_count": null,
            "flex_flow": null,
            "width": null,
            "min_width": null,
            "border": null,
            "align_items": null,
            "bottom": null,
            "_model_module": "@jupyter-widgets/base",
            "top": null,
            "grid_column": null,
            "overflow_y": null,
            "overflow_x": null,
            "grid_auto_flow": null,
            "grid_area": null,
            "grid_template_columns": null,
            "flex": null,
            "_model_name": "LayoutModel",
            "justify_items": null,
            "grid_row": null,
            "max_height": null,
            "align_content": null,
            "visibility": null,
            "align_self": null,
            "height": null,
            "min_height": null,
            "padding": null,
            "grid_auto_rows": null,
            "grid_gap": null,
            "max_width": null,
            "order": null,
            "_view_module_version": "1.2.0",
            "grid_template_areas": null,
            "object_position": null,
            "object_fit": null,
            "grid_auto_columns": null,
            "margin": null,
            "display": null,
            "left": null
          }
        },
        "0942ce54766f4a1ab7b7e21d26aad08f": {
          "model_module": "@jupyter-widgets/controls",
          "model_name": "FloatProgressModel",
          "state": {
            "_view_name": "ProgressView",
            "style": "IPY_MODEL_e8f4026eb1d8447599125dfc487a5bc8",
            "_dom_classes": [],
            "description": "",
            "_model_name": "FloatProgressModel",
            "bar_style": "success",
            "max": 1,
            "_view_module": "@jupyter-widgets/controls",
            "_model_module_version": "1.5.0",
            "value": 1,
            "_view_count": null,
            "_view_module_version": "1.5.0",
            "orientation": "horizontal",
            "min": 0,
            "description_tooltip": null,
            "_model_module": "@jupyter-widgets/controls",
            "layout": "IPY_MODEL_ea4db4728f094190bfb5051fab1d5d41"
          }
        },
        "f11a7b4314524bf586ce9011c9f73f38": {
          "model_module": "@jupyter-widgets/controls",
          "model_name": "HTMLModel",
          "state": {
            "_view_name": "HTMLView",
            "style": "IPY_MODEL_1fd3fe607ff14a2e94e7c5e3d43455de",
            "_dom_classes": [],
            "description": "",
            "_model_name": "HTMLModel",
            "placeholder": "​",
            "_view_module": "@jupyter-widgets/controls",
            "_model_module_version": "1.5.0",
            "value": " 32768/? [00:01&lt;00:00, 21208.52it/s]",
            "_view_count": null,
            "_view_module_version": "1.5.0",
            "description_tooltip": null,
            "_model_module": "@jupyter-widgets/controls",
            "layout": "IPY_MODEL_1920f730bad6478d9b2c16ae9eb33fbd"
          }
        },
        "e8f4026eb1d8447599125dfc487a5bc8": {
          "model_module": "@jupyter-widgets/controls",
          "model_name": "ProgressStyleModel",
          "state": {
            "_view_name": "StyleView",
            "_model_name": "ProgressStyleModel",
            "description_width": "initial",
            "_view_module": "@jupyter-widgets/base",
            "_model_module_version": "1.5.0",
            "_view_count": null,
            "_view_module_version": "1.2.0",
            "bar_color": null,
            "_model_module": "@jupyter-widgets/controls"
          }
        },
        "ea4db4728f094190bfb5051fab1d5d41": {
          "model_module": "@jupyter-widgets/base",
          "model_name": "LayoutModel",
          "state": {
            "_view_name": "LayoutView",
            "grid_template_rows": null,
            "right": null,
            "justify_content": null,
            "_view_module": "@jupyter-widgets/base",
            "overflow": null,
            "_model_module_version": "1.2.0",
            "_view_count": null,
            "flex_flow": null,
            "width": null,
            "min_width": null,
            "border": null,
            "align_items": null,
            "bottom": null,
            "_model_module": "@jupyter-widgets/base",
            "top": null,
            "grid_column": null,
            "overflow_y": null,
            "overflow_x": null,
            "grid_auto_flow": null,
            "grid_area": null,
            "grid_template_columns": null,
            "flex": null,
            "_model_name": "LayoutModel",
            "justify_items": null,
            "grid_row": null,
            "max_height": null,
            "align_content": null,
            "visibility": null,
            "align_self": null,
            "height": null,
            "min_height": null,
            "padding": null,
            "grid_auto_rows": null,
            "grid_gap": null,
            "max_width": null,
            "order": null,
            "_view_module_version": "1.2.0",
            "grid_template_areas": null,
            "object_position": null,
            "object_fit": null,
            "grid_auto_columns": null,
            "margin": null,
            "display": null,
            "left": null
          }
        },
        "1fd3fe607ff14a2e94e7c5e3d43455de": {
          "model_module": "@jupyter-widgets/controls",
          "model_name": "DescriptionStyleModel",
          "state": {
            "_view_name": "StyleView",
            "_model_name": "DescriptionStyleModel",
            "description_width": "",
            "_view_module": "@jupyter-widgets/base",
            "_model_module_version": "1.5.0",
            "_view_count": null,
            "_view_module_version": "1.2.0",
            "_model_module": "@jupyter-widgets/controls"
          }
        },
        "1920f730bad6478d9b2c16ae9eb33fbd": {
          "model_module": "@jupyter-widgets/base",
          "model_name": "LayoutModel",
          "state": {
            "_view_name": "LayoutView",
            "grid_template_rows": null,
            "right": null,
            "justify_content": null,
            "_view_module": "@jupyter-widgets/base",
            "overflow": null,
            "_model_module_version": "1.2.0",
            "_view_count": null,
            "flex_flow": null,
            "width": null,
            "min_width": null,
            "border": null,
            "align_items": null,
            "bottom": null,
            "_model_module": "@jupyter-widgets/base",
            "top": null,
            "grid_column": null,
            "overflow_y": null,
            "overflow_x": null,
            "grid_auto_flow": null,
            "grid_area": null,
            "grid_template_columns": null,
            "flex": null,
            "_model_name": "LayoutModel",
            "justify_items": null,
            "grid_row": null,
            "max_height": null,
            "align_content": null,
            "visibility": null,
            "align_self": null,
            "height": null,
            "min_height": null,
            "padding": null,
            "grid_auto_rows": null,
            "grid_gap": null,
            "max_width": null,
            "order": null,
            "_view_module_version": "1.2.0",
            "grid_template_areas": null,
            "object_position": null,
            "object_fit": null,
            "grid_auto_columns": null,
            "margin": null,
            "display": null,
            "left": null
          }
        },
        "3e5c6dc594d140deab5aab7f422f2b6b": {
          "model_module": "@jupyter-widgets/controls",
          "model_name": "HBoxModel",
          "state": {
            "_view_name": "HBoxView",
            "_dom_classes": [],
            "_model_name": "HBoxModel",
            "_view_module": "@jupyter-widgets/controls",
            "_model_module_version": "1.5.0",
            "_view_count": null,
            "_view_module_version": "1.5.0",
            "box_style": "",
            "layout": "IPY_MODEL_c288918d3cca4940815e167e5033f190",
            "_model_module": "@jupyter-widgets/controls",
            "children": [
              "IPY_MODEL_12af26a2c42544be8eff060ccde39d52",
              "IPY_MODEL_763fd48ab2234fb28f980eacdd9a4880"
            ]
          }
        },
        "c288918d3cca4940815e167e5033f190": {
          "model_module": "@jupyter-widgets/base",
          "model_name": "LayoutModel",
          "state": {
            "_view_name": "LayoutView",
            "grid_template_rows": null,
            "right": null,
            "justify_content": null,
            "_view_module": "@jupyter-widgets/base",
            "overflow": null,
            "_model_module_version": "1.2.0",
            "_view_count": null,
            "flex_flow": null,
            "width": null,
            "min_width": null,
            "border": null,
            "align_items": null,
            "bottom": null,
            "_model_module": "@jupyter-widgets/base",
            "top": null,
            "grid_column": null,
            "overflow_y": null,
            "overflow_x": null,
            "grid_auto_flow": null,
            "grid_area": null,
            "grid_template_columns": null,
            "flex": null,
            "_model_name": "LayoutModel",
            "justify_items": null,
            "grid_row": null,
            "max_height": null,
            "align_content": null,
            "visibility": null,
            "align_self": null,
            "height": null,
            "min_height": null,
            "padding": null,
            "grid_auto_rows": null,
            "grid_gap": null,
            "max_width": null,
            "order": null,
            "_view_module_version": "1.2.0",
            "grid_template_areas": null,
            "object_position": null,
            "object_fit": null,
            "grid_auto_columns": null,
            "margin": null,
            "display": null,
            "left": null
          }
        },
        "12af26a2c42544be8eff060ccde39d52": {
          "model_module": "@jupyter-widgets/controls",
          "model_name": "FloatProgressModel",
          "state": {
            "_view_name": "ProgressView",
            "style": "IPY_MODEL_db18a485ce0b4873ae9e5b08fa360ab5",
            "_dom_classes": [],
            "description": "",
            "_model_name": "FloatProgressModel",
            "bar_style": "success",
            "max": 1,
            "_view_module": "@jupyter-widgets/controls",
            "_model_module_version": "1.5.0",
            "value": 1,
            "_view_count": null,
            "_view_module_version": "1.5.0",
            "orientation": "horizontal",
            "min": 0,
            "description_tooltip": null,
            "_model_module": "@jupyter-widgets/controls",
            "layout": "IPY_MODEL_beb510abd4b04cea81f25ec03e02734b"
          }
        },
        "763fd48ab2234fb28f980eacdd9a4880": {
          "model_module": "@jupyter-widgets/controls",
          "model_name": "HTMLModel",
          "state": {
            "_view_name": "HTMLView",
            "style": "IPY_MODEL_f9e6d7a43681422db62049ca629bc53c",
            "_dom_classes": [],
            "description": "",
            "_model_name": "HTMLModel",
            "placeholder": "​",
            "_view_module": "@jupyter-widgets/controls",
            "_model_module_version": "1.5.0",
            "value": " 1654784/? [00:01&lt;00:00, 1618447.96it/s]",
            "_view_count": null,
            "_view_module_version": "1.5.0",
            "description_tooltip": null,
            "_model_module": "@jupyter-widgets/controls",
            "layout": "IPY_MODEL_34764a9c32284f9a82d07785072c0a38"
          }
        },
        "db18a485ce0b4873ae9e5b08fa360ab5": {
          "model_module": "@jupyter-widgets/controls",
          "model_name": "ProgressStyleModel",
          "state": {
            "_view_name": "StyleView",
            "_model_name": "ProgressStyleModel",
            "description_width": "initial",
            "_view_module": "@jupyter-widgets/base",
            "_model_module_version": "1.5.0",
            "_view_count": null,
            "_view_module_version": "1.2.0",
            "bar_color": null,
            "_model_module": "@jupyter-widgets/controls"
          }
        },
        "beb510abd4b04cea81f25ec03e02734b": {
          "model_module": "@jupyter-widgets/base",
          "model_name": "LayoutModel",
          "state": {
            "_view_name": "LayoutView",
            "grid_template_rows": null,
            "right": null,
            "justify_content": null,
            "_view_module": "@jupyter-widgets/base",
            "overflow": null,
            "_model_module_version": "1.2.0",
            "_view_count": null,
            "flex_flow": null,
            "width": null,
            "min_width": null,
            "border": null,
            "align_items": null,
            "bottom": null,
            "_model_module": "@jupyter-widgets/base",
            "top": null,
            "grid_column": null,
            "overflow_y": null,
            "overflow_x": null,
            "grid_auto_flow": null,
            "grid_area": null,
            "grid_template_columns": null,
            "flex": null,
            "_model_name": "LayoutModel",
            "justify_items": null,
            "grid_row": null,
            "max_height": null,
            "align_content": null,
            "visibility": null,
            "align_self": null,
            "height": null,
            "min_height": null,
            "padding": null,
            "grid_auto_rows": null,
            "grid_gap": null,
            "max_width": null,
            "order": null,
            "_view_module_version": "1.2.0",
            "grid_template_areas": null,
            "object_position": null,
            "object_fit": null,
            "grid_auto_columns": null,
            "margin": null,
            "display": null,
            "left": null
          }
        },
        "f9e6d7a43681422db62049ca629bc53c": {
          "model_module": "@jupyter-widgets/controls",
          "model_name": "DescriptionStyleModel",
          "state": {
            "_view_name": "StyleView",
            "_model_name": "DescriptionStyleModel",
            "description_width": "",
            "_view_module": "@jupyter-widgets/base",
            "_model_module_version": "1.5.0",
            "_view_count": null,
            "_view_module_version": "1.2.0",
            "_model_module": "@jupyter-widgets/controls"
          }
        },
        "34764a9c32284f9a82d07785072c0a38": {
          "model_module": "@jupyter-widgets/base",
          "model_name": "LayoutModel",
          "state": {
            "_view_name": "LayoutView",
            "grid_template_rows": null,
            "right": null,
            "justify_content": null,
            "_view_module": "@jupyter-widgets/base",
            "overflow": null,
            "_model_module_version": "1.2.0",
            "_view_count": null,
            "flex_flow": null,
            "width": null,
            "min_width": null,
            "border": null,
            "align_items": null,
            "bottom": null,
            "_model_module": "@jupyter-widgets/base",
            "top": null,
            "grid_column": null,
            "overflow_y": null,
            "overflow_x": null,
            "grid_auto_flow": null,
            "grid_area": null,
            "grid_template_columns": null,
            "flex": null,
            "_model_name": "LayoutModel",
            "justify_items": null,
            "grid_row": null,
            "max_height": null,
            "align_content": null,
            "visibility": null,
            "align_self": null,
            "height": null,
            "min_height": null,
            "padding": null,
            "grid_auto_rows": null,
            "grid_gap": null,
            "max_width": null,
            "order": null,
            "_view_module_version": "1.2.0",
            "grid_template_areas": null,
            "object_position": null,
            "object_fit": null,
            "grid_auto_columns": null,
            "margin": null,
            "display": null,
            "left": null
          }
        },
        "6a68f60e8e1c45069ebd5bd8bd9ccdf0": {
          "model_module": "@jupyter-widgets/controls",
          "model_name": "HBoxModel",
          "state": {
            "_view_name": "HBoxView",
            "_dom_classes": [],
            "_model_name": "HBoxModel",
            "_view_module": "@jupyter-widgets/controls",
            "_model_module_version": "1.5.0",
            "_view_count": null,
            "_view_module_version": "1.5.0",
            "box_style": "",
            "layout": "IPY_MODEL_3f8a54f6cd6b4cffa7a4629ae844f984",
            "_model_module": "@jupyter-widgets/controls",
            "children": [
              "IPY_MODEL_6d77b45bfd864ac997c759c14bc740d1",
              "IPY_MODEL_d2e7de9d12384eedba9b08f95f171679"
            ]
          }
        },
        "3f8a54f6cd6b4cffa7a4629ae844f984": {
          "model_module": "@jupyter-widgets/base",
          "model_name": "LayoutModel",
          "state": {
            "_view_name": "LayoutView",
            "grid_template_rows": null,
            "right": null,
            "justify_content": null,
            "_view_module": "@jupyter-widgets/base",
            "overflow": null,
            "_model_module_version": "1.2.0",
            "_view_count": null,
            "flex_flow": null,
            "width": null,
            "min_width": null,
            "border": null,
            "align_items": null,
            "bottom": null,
            "_model_module": "@jupyter-widgets/base",
            "top": null,
            "grid_column": null,
            "overflow_y": null,
            "overflow_x": null,
            "grid_auto_flow": null,
            "grid_area": null,
            "grid_template_columns": null,
            "flex": null,
            "_model_name": "LayoutModel",
            "justify_items": null,
            "grid_row": null,
            "max_height": null,
            "align_content": null,
            "visibility": null,
            "align_self": null,
            "height": null,
            "min_height": null,
            "padding": null,
            "grid_auto_rows": null,
            "grid_gap": null,
            "max_width": null,
            "order": null,
            "_view_module_version": "1.2.0",
            "grid_template_areas": null,
            "object_position": null,
            "object_fit": null,
            "grid_auto_columns": null,
            "margin": null,
            "display": null,
            "left": null
          }
        },
        "6d77b45bfd864ac997c759c14bc740d1": {
          "model_module": "@jupyter-widgets/controls",
          "model_name": "FloatProgressModel",
          "state": {
            "_view_name": "ProgressView",
            "style": "IPY_MODEL_c451354543a14e0e9f98a1fdbd3d388e",
            "_dom_classes": [],
            "description": "",
            "_model_name": "FloatProgressModel",
            "bar_style": "success",
            "max": 1,
            "_view_module": "@jupyter-widgets/controls",
            "_model_module_version": "1.5.0",
            "value": 1,
            "_view_count": null,
            "_view_module_version": "1.5.0",
            "orientation": "horizontal",
            "min": 0,
            "description_tooltip": null,
            "_model_module": "@jupyter-widgets/controls",
            "layout": "IPY_MODEL_bb0cc451d6df42b2880f7c25c274000b"
          }
        },
        "d2e7de9d12384eedba9b08f95f171679": {
          "model_module": "@jupyter-widgets/controls",
          "model_name": "HTMLModel",
          "state": {
            "_view_name": "HTMLView",
            "style": "IPY_MODEL_95c500655d6043adb275b65a78f82a47",
            "_dom_classes": [],
            "description": "",
            "_model_name": "HTMLModel",
            "placeholder": "​",
            "_view_module": "@jupyter-widgets/controls",
            "_model_module_version": "1.5.0",
            "value": " 8192/? [00:00&lt;00:00, 24677.28it/s]",
            "_view_count": null,
            "_view_module_version": "1.5.0",
            "description_tooltip": null,
            "_model_module": "@jupyter-widgets/controls",
            "layout": "IPY_MODEL_fa7509c149564c42acaadf1a9cf6f419"
          }
        },
        "c451354543a14e0e9f98a1fdbd3d388e": {
          "model_module": "@jupyter-widgets/controls",
          "model_name": "ProgressStyleModel",
          "state": {
            "_view_name": "StyleView",
            "_model_name": "ProgressStyleModel",
            "description_width": "initial",
            "_view_module": "@jupyter-widgets/base",
            "_model_module_version": "1.5.0",
            "_view_count": null,
            "_view_module_version": "1.2.0",
            "bar_color": null,
            "_model_module": "@jupyter-widgets/controls"
          }
        },
        "bb0cc451d6df42b2880f7c25c274000b": {
          "model_module": "@jupyter-widgets/base",
          "model_name": "LayoutModel",
          "state": {
            "_view_name": "LayoutView",
            "grid_template_rows": null,
            "right": null,
            "justify_content": null,
            "_view_module": "@jupyter-widgets/base",
            "overflow": null,
            "_model_module_version": "1.2.0",
            "_view_count": null,
            "flex_flow": null,
            "width": null,
            "min_width": null,
            "border": null,
            "align_items": null,
            "bottom": null,
            "_model_module": "@jupyter-widgets/base",
            "top": null,
            "grid_column": null,
            "overflow_y": null,
            "overflow_x": null,
            "grid_auto_flow": null,
            "grid_area": null,
            "grid_template_columns": null,
            "flex": null,
            "_model_name": "LayoutModel",
            "justify_items": null,
            "grid_row": null,
            "max_height": null,
            "align_content": null,
            "visibility": null,
            "align_self": null,
            "height": null,
            "min_height": null,
            "padding": null,
            "grid_auto_rows": null,
            "grid_gap": null,
            "max_width": null,
            "order": null,
            "_view_module_version": "1.2.0",
            "grid_template_areas": null,
            "object_position": null,
            "object_fit": null,
            "grid_auto_columns": null,
            "margin": null,
            "display": null,
            "left": null
          }
        },
        "95c500655d6043adb275b65a78f82a47": {
          "model_module": "@jupyter-widgets/controls",
          "model_name": "DescriptionStyleModel",
          "state": {
            "_view_name": "StyleView",
            "_model_name": "DescriptionStyleModel",
            "description_width": "",
            "_view_module": "@jupyter-widgets/base",
            "_model_module_version": "1.5.0",
            "_view_count": null,
            "_view_module_version": "1.2.0",
            "_model_module": "@jupyter-widgets/controls"
          }
        },
        "fa7509c149564c42acaadf1a9cf6f419": {
          "model_module": "@jupyter-widgets/base",
          "model_name": "LayoutModel",
          "state": {
            "_view_name": "LayoutView",
            "grid_template_rows": null,
            "right": null,
            "justify_content": null,
            "_view_module": "@jupyter-widgets/base",
            "overflow": null,
            "_model_module_version": "1.2.0",
            "_view_count": null,
            "flex_flow": null,
            "width": null,
            "min_width": null,
            "border": null,
            "align_items": null,
            "bottom": null,
            "_model_module": "@jupyter-widgets/base",
            "top": null,
            "grid_column": null,
            "overflow_y": null,
            "overflow_x": null,
            "grid_auto_flow": null,
            "grid_area": null,
            "grid_template_columns": null,
            "flex": null,
            "_model_name": "LayoutModel",
            "justify_items": null,
            "grid_row": null,
            "max_height": null,
            "align_content": null,
            "visibility": null,
            "align_self": null,
            "height": null,
            "min_height": null,
            "padding": null,
            "grid_auto_rows": null,
            "grid_gap": null,
            "max_width": null,
            "order": null,
            "_view_module_version": "1.2.0",
            "grid_template_areas": null,
            "object_position": null,
            "object_fit": null,
            "grid_auto_columns": null,
            "margin": null,
            "display": null,
            "left": null
          }
        }
      }
    },
    "accelerator": "GPU"
  },
  "cells": [
    {
      "cell_type": "code",
      "metadata": {
        "id": "LkRNO3wP-DVR",
        "colab_type": "code",
        "colab": {
          "base_uri": "https://localhost:8080/",
          "height": 153
        },
        "outputId": "60351b29-d886-4769-867b-ed37a3f01afa"
      },
      "source": [
        "!rm -rf *\n",
        "!git config --global user.name \"Akhilez\"\n",
        "!git config --global user.email \"akhild18@yahoo.com\"\n",
        "!git clone https://github.com/Akhilez/ml_gallery.git\n",
        "%cd ml_gallery/ml_py"
      ],
      "execution_count": 1,
      "outputs": [
        {
          "output_type": "stream",
          "text": [
            "Cloning into 'ml_gallery'...\n",
            "remote: Enumerating objects: 588, done.\u001b[K\n",
            "remote: Counting objects: 100% (588/588), done.\u001b[K\n",
            "remote: Compressing objects: 100% (405/405), done.\u001b[K\n",
            "remote: Total 2115 (delta 359), reused 359 (delta 169), pack-reused 1527\u001b[K\n",
            "Receiving objects: 100% (2115/2115), 11.82 MiB | 32.12 MiB/s, done.\n",
            "Resolving deltas: 100% (1297/1297), done.\n",
            "/content/ml_gallery/ml_py\n"
          ],
          "name": "stdout"
        }
      ]
    },
    {
      "cell_type": "code",
      "metadata": {
        "id": "mRMuULbI-0ML",
        "colab_type": "code",
        "colab": {}
      },
      "source": [
        "import os\n",
        "os.environ['SECRET_KEY'] = '1234'\n",
        "%mkdir -p data/mnist/numbers"
      ],
      "execution_count": 2,
      "outputs": []
    },
    {
      "cell_type": "code",
      "metadata": {
        "id": "jMr-foIX-5i5",
        "colab_type": "code",
        "colab": {}
      },
      "source": [
        "import torch\n",
        "from torch.nn.functional import relu\n",
        "from collections import namedtuple\n",
        "import numpy as np\n",
        "from lib.mnist_aug.mnist_augmenter import DataManager, MNISTAug\n",
        "import torchvision"
      ],
      "execution_count": 64,
      "outputs": []
    },
    {
      "cell_type": "code",
      "metadata": {
        "id": "eshztUwq-6FE",
        "colab_type": "code",
        "colab": {
          "base_uri": "https://localhost:8080/",
          "height": 34
        },
        "outputId": "8ca507d3-8509-40ac-f5cf-00f106da5b48"
      },
      "source": [
        "# Device configuration\n",
        "device = torch.device('cuda' if torch.cuda.is_available() else 'cpu')\n",
        "device"
      ],
      "execution_count": 4,
      "outputs": [
        {
          "output_type": "execute_result",
          "data": {
            "text/plain": [
              "device(type='cuda')"
            ]
          },
          "metadata": {
            "tags": []
          },
          "execution_count": 4
        }
      ]
    },
    {
      "cell_type": "code",
      "metadata": {
        "id": "z0Db7Exb-8D8",
        "colab_type": "code",
        "colab": {
          "base_uri": "https://localhost:8080/",
          "height": 420,
          "referenced_widgets": [
            "0be171f099ed4b1e9986942a9792fe97",
            "45aa5471760c430ebb3070b76d7a6d7f",
            "be636e45712d43af80af7259e9e103cb",
            "6df32b1fbbcd48978a5568a34ae5d127",
            "7c8ed89abc9f4b6689f0d3875d62e504",
            "1c433240374d4e1c985dfd68f96b38ca",
            "24813b4dc4c747bfbd89edbaa23e2913",
            "544d746976674af1b0319c869888d98f",
            "4a4d09e62d8e44c4b1880db5aa25a333",
            "10b0f76b03f24c498ece3ad01b33a65a",
            "0942ce54766f4a1ab7b7e21d26aad08f",
            "f11a7b4314524bf586ce9011c9f73f38",
            "e8f4026eb1d8447599125dfc487a5bc8",
            "ea4db4728f094190bfb5051fab1d5d41",
            "1fd3fe607ff14a2e94e7c5e3d43455de",
            "1920f730bad6478d9b2c16ae9eb33fbd",
            "3e5c6dc594d140deab5aab7f422f2b6b",
            "c288918d3cca4940815e167e5033f190",
            "12af26a2c42544be8eff060ccde39d52",
            "763fd48ab2234fb28f980eacdd9a4880",
            "db18a485ce0b4873ae9e5b08fa360ab5",
            "beb510abd4b04cea81f25ec03e02734b",
            "f9e6d7a43681422db62049ca629bc53c",
            "34764a9c32284f9a82d07785072c0a38",
            "6a68f60e8e1c45069ebd5bd8bd9ccdf0",
            "3f8a54f6cd6b4cffa7a4629ae844f984",
            "6d77b45bfd864ac997c759c14bc740d1",
            "d2e7de9d12384eedba9b08f95f171679",
            "c451354543a14e0e9f98a1fdbd3d388e",
            "bb0cc451d6df42b2880f7c25c274000b",
            "95c500655d6043adb275b65a78f82a47",
            "fa7509c149564c42acaadf1a9cf6f419"
          ]
        },
        "outputId": "ce61d4f9-3621-471c-b07f-d1c9f1c71fb2"
      },
      "source": [
        "#aug = MNISTAug()\n",
        "#dm = DataManager()\n",
        "#dm.load()\n",
        "aug.max_objects = 10\n",
        "aug.min_objects = 4\n",
        "aug.overflow = 0"
      ],
      "execution_count": 5,
      "outputs": [
        {
          "output_type": "stream",
          "text": [
            "Downloading http://yann.lecun.com/exdb/mnist/train-images-idx3-ubyte.gz to /content/ml_gallery/ml_py/data/mnist/numbers/MNIST/raw/train-images-idx3-ubyte.gz\n"
          ],
          "name": "stdout"
        },
        {
          "output_type": "display_data",
          "data": {
            "application/vnd.jupyter.widget-view+json": {
              "model_id": "0be171f099ed4b1e9986942a9792fe97",
              "version_minor": 0,
              "version_major": 2
            },
            "text/plain": [
              "HBox(children=(FloatProgress(value=1.0, bar_style='info', max=1.0), HTML(value='')))"
            ]
          },
          "metadata": {
            "tags": []
          }
        },
        {
          "output_type": "stream",
          "text": [
            "Extracting /content/ml_gallery/ml_py/data/mnist/numbers/MNIST/raw/train-images-idx3-ubyte.gz to /content/ml_gallery/ml_py/data/mnist/numbers/MNIST/raw\n",
            "Downloading http://yann.lecun.com/exdb/mnist/train-labels-idx1-ubyte.gz to /content/ml_gallery/ml_py/data/mnist/numbers/MNIST/raw/train-labels-idx1-ubyte.gz\n"
          ],
          "name": "stdout"
        },
        {
          "output_type": "display_data",
          "data": {
            "application/vnd.jupyter.widget-view+json": {
              "model_id": "4a4d09e62d8e44c4b1880db5aa25a333",
              "version_minor": 0,
              "version_major": 2
            },
            "text/plain": [
              "HBox(children=(FloatProgress(value=1.0, bar_style='info', max=1.0), HTML(value='')))"
            ]
          },
          "metadata": {
            "tags": []
          }
        },
        {
          "output_type": "stream",
          "text": [
            "Extracting /content/ml_gallery/ml_py/data/mnist/numbers/MNIST/raw/train-labels-idx1-ubyte.gz to /content/ml_gallery/ml_py/data/mnist/numbers/MNIST/raw\n",
            "Downloading http://yann.lecun.com/exdb/mnist/t10k-images-idx3-ubyte.gz to /content/ml_gallery/ml_py/data/mnist/numbers/MNIST/raw/t10k-images-idx3-ubyte.gz\n"
          ],
          "name": "stdout"
        },
        {
          "output_type": "display_data",
          "data": {
            "application/vnd.jupyter.widget-view+json": {
              "model_id": "3e5c6dc594d140deab5aab7f422f2b6b",
              "version_minor": 0,
              "version_major": 2
            },
            "text/plain": [
              "HBox(children=(FloatProgress(value=1.0, bar_style='info', max=1.0), HTML(value='')))"
            ]
          },
          "metadata": {
            "tags": []
          }
        },
        {
          "output_type": "stream",
          "text": [
            "Extracting /content/ml_gallery/ml_py/data/mnist/numbers/MNIST/raw/t10k-images-idx3-ubyte.gz to /content/ml_gallery/ml_py/data/mnist/numbers/MNIST/raw\n",
            "Downloading http://yann.lecun.com/exdb/mnist/t10k-labels-idx1-ubyte.gz to /content/ml_gallery/ml_py/data/mnist/numbers/MNIST/raw/t10k-labels-idx1-ubyte.gz\n"
          ],
          "name": "stdout"
        },
        {
          "output_type": "display_data",
          "data": {
            "application/vnd.jupyter.widget-view+json": {
              "model_id": "6a68f60e8e1c45069ebd5bd8bd9ccdf0",
              "version_minor": 0,
              "version_major": 2
            },
            "text/plain": [
              "HBox(children=(FloatProgress(value=1.0, bar_style='info', max=1.0), HTML(value='')))"
            ]
          },
          "metadata": {
            "tags": []
          }
        },
        {
          "output_type": "stream",
          "text": [
            "Extracting /content/ml_gallery/ml_py/data/mnist/numbers/MNIST/raw/t10k-labels-idx1-ubyte.gz to /content/ml_gallery/ml_py/data/mnist/numbers/MNIST/raw\n",
            "Processing...\n",
            "Done!\n",
            "\n",
            "\n"
          ],
          "name": "stdout"
        },
        {
          "output_type": "stream",
          "text": [
            "/pytorch/torch/csrc/utils/tensor_numpy.cpp:141: UserWarning: The given NumPy array is not writeable, and PyTorch does not support non-writeable tensors. This means you can write to the underlying (supposedly non-writeable) NumPy array using the tensor. You may want to copy the array to protect its data or make it writeable before converting it to a tensor. This type of warning will be suppressed for the rest of this program.\n"
          ],
          "name": "stderr"
        },
        {
          "output_type": "stream",
          "text": [
            "\n",
            "\n"
          ],
          "name": "stdout"
        }
      ]
    },
    {
      "cell_type": "code",
      "metadata": {
        "id": "FCidsSEL_T9U",
        "colab_type": "code",
        "colab": {}
      },
      "source": [
        "x_train, y_train = aug.get_augmented(dm.x_train, dm.y_train, 10)\n",
        "x_test, y_test = aug.get_augmented(dm.x_test, dm.y_test, 10)"
      ],
      "execution_count": 6,
      "outputs": []
    },
    {
      "cell_type": "code",
      "metadata": {
        "id": "GsNoRI-a_Z8m",
        "colab_type": "code",
        "colab": {}
      },
      "source": [
        "x_train = torch.tensor(x_train.reshape(-1, 1, 112, 112)).type('torch.FloatTensor')\n",
        "x_test = torch.tensor(x_test.reshape(-1, 1, 112, 112)).type('torch.FloatTensor')"
      ],
      "execution_count": 7,
      "outputs": []
    },
    {
      "cell_type": "code",
      "metadata": {
        "id": "QbZOSOWO_cZ7",
        "colab_type": "code",
        "colab": {
          "base_uri": "https://localhost:8080/",
          "height": 948
        },
        "outputId": "56fa2b45-918b-4da6-f6fb-9e311d0be048"
      },
      "source": [
        "DataManager.plot_num(x_train[0].reshape((112, 112)), y_train[0])\n",
        "y_train[0]"
      ],
      "execution_count": 8,
      "outputs": [
        {
          "output_type": "execute_result",
          "data": {
            "text/plain": [
              "[{'class': 1,\n",
              "  'class_one_hot': tensor([0., 1., 0., 0., 0., 0., 0., 0., 0., 0.]),\n",
              "  'cx': 40.0,\n",
              "  'cy': 91.0,\n",
              "  'height': 22,\n",
              "  'width': 22,\n",
              "  'x1': 29,\n",
              "  'x2': 51,\n",
              "  'y1': 80,\n",
              "  'y2': 102},\n",
              " {'class': 9,\n",
              "  'class_one_hot': tensor([0., 0., 0., 0., 0., 0., 0., 0., 0., 1.]),\n",
              "  'cx': 100.5,\n",
              "  'cy': 99.0,\n",
              "  'height': 26,\n",
              "  'width': 23,\n",
              "  'x1': 89,\n",
              "  'x2': 112,\n",
              "  'y1': 86,\n",
              "  'y2': 112},\n",
              " {'class': 5,\n",
              "  'class_one_hot': tensor([0., 0., 0., 0., 0., 1., 0., 0., 0., 0.]),\n",
              "  'cx': 76.0,\n",
              "  'cy': 80.0,\n",
              "  'height': 24,\n",
              "  'width': 24,\n",
              "  'x1': 64,\n",
              "  'x2': 88,\n",
              "  'y1': 68,\n",
              "  'y2': 92},\n",
              " {'class': 4,\n",
              "  'class_one_hot': tensor([0., 0., 0., 0., 1., 0., 0., 0., 0., 0.]),\n",
              "  'cx': 34.0,\n",
              "  'cy': 37.0,\n",
              "  'height': 26,\n",
              "  'width': 26,\n",
              "  'x1': 21,\n",
              "  'x2': 47,\n",
              "  'y1': 24,\n",
              "  'y2': 50}]"
            ]
          },
          "metadata": {
            "tags": []
          },
          "execution_count": 8
        },
        {
          "output_type": "display_data",
          "data": {
            "image/png": "[encoded data removed]",
            "text/plain": [
              "<Figure size 432x288 with 1 Axes>"
            ]
          },
          "metadata": {
            "tags": [],
            "needs_background": "light"
          }
        }
      ]
    },
    {
      "cell_type": "code",
      "metadata": {
        "id": "1Y5MvcmNiNbD",
        "colab_type": "code",
        "colab": {}
      },
      "source": [
        "def to_one_hot(x, num_classes=10):\n",
        "  b = np.zeros((len(x), num_classes), dtype=np.float32)\n",
        "  b[np.arange(len(x)), x] = 1\n",
        "  return b"
      ],
      "execution_count": 9,
      "outputs": []
    },
    {
      "cell_type": "code",
      "metadata": {
        "id": "jI8jVrA5_ecs",
        "colab_type": "code",
        "colab": {}
      },
      "source": [
        "# 14 * 14  = 196 anchor boxes\n",
        "# side of each anchor box = 28\n",
        "\n",
        "n_anchors = 14 * 14\n",
        "\n",
        "anchor_grid_spacing = 8\n",
        "\n",
        "anchor_centers = []\n",
        "for i in range(14):\n",
        "  anchor_row = []\n",
        "  for j in range(14):\n",
        "    anchor_row.append([\n",
        "      j * anchor_grid_spacing + anchor_grid_spacing / 2,\n",
        "      i * anchor_grid_spacing + anchor_grid_spacing / 2,\n",
        "    ])\n",
        "  anchor_centers.append(anchor_row)\n",
        "anchor_centers = torch.tensor(anchor_centers).reshape((-1, 2))"
      ],
      "execution_count": 10,
      "outputs": []
    },
    {
      "cell_type": "code",
      "metadata": {
        "id": "cMmayJpt3snc",
        "colab_type": "code",
        "colab": {}
      },
      "source": [
        "def get_fractional_difference(anchor, bounding_box):\n",
        "  a_box = anchor\n",
        "  b_box = bounding_box\n",
        "\n",
        "  cx_d = (b_box['cx'] - a_box[0]) / 112\n",
        "  cy_d = (b_box['cy'] - a_box[1]) / 112\n",
        "  wd = (b_box['width'] - 28) / 112\n",
        "\n",
        "  return cx_d, cy_d, wd\n",
        "\n",
        "def get_units_from_diff(anchors, bounding_boxes):\n",
        "    diffs = torch.zeros((len(anchors), 3)).to(device)\n",
        "    for i in range(len(anchors)):\n",
        "        diffs[i][0] = bounding_boxes[i][0] * 112 + anchors[i][0]\n",
        "        diffs[i][1] = bounding_boxes[i][1] * 112 + anchors[i][1]\n",
        "        diffs[i][2] = bounding_boxes[i][2] * 112 + 28\n",
        "\n",
        "    return diffs"
      ],
      "execution_count": 58,
      "outputs": []
    },
    {
      "cell_type": "code",
      "metadata": {
        "id": "o-zkgDcan4ss",
        "colab_type": "code",
        "colab": {}
      },
      "source": [
        "def get_iou(anchor_center, bounding_box):\n",
        "\n",
        "  boxA = [anchor_center[0]-14, anchor_center[1]-14, anchor_center[0]+14, anchor_center[1]+14]\n",
        "  boxB = [bounding_box['x1'], bounding_box['y1'], bounding_box['x2'], bounding_box['y2']]\n",
        "\n",
        "  # determine the (x, y)-coordinates of the intersection rectangle\n",
        "  xA = max(boxA[0], boxB[0])\n",
        "  yA = max(boxA[1], boxB[1])\n",
        "  xB = min(boxA[2], boxB[2])\n",
        "  yB = min(boxA[3], boxB[3])\n",
        "  # compute the area of intersection rectangle\n",
        "  interArea = max(0, xB - xA + 1) * max(0, yB - yA + 1)\n",
        "  # compute the area of both the prediction and ground-truth\n",
        "  # rectangles\n",
        "  boxAArea = (boxA[2] - boxA[0] + 1) * (boxA[3] - boxA[1] + 1)\n",
        "  boxBArea = (boxB[2] - boxB[0] + 1) * (boxB[3] - boxB[1] + 1)\n",
        "  # compute the intersection over union by taking the intersection\n",
        "  # area and dividing it by the sum of prediction + ground-truth\n",
        "  # areas - the interesection area\n",
        "  iou = interArea / float(boxAArea + boxBArea - interArea)\n",
        "  # return the intersection over union value\n",
        "  return iou"
      ],
      "execution_count": 11,
      "outputs": []
    },
    {
      "cell_type": "code",
      "metadata": {
        "id": "A0CKF8vFvNe3",
        "colab_type": "code",
        "colab": {}
      },
      "source": [
        "def get_positive_anchors(y_batch):\n",
        "    \"\"\"\n",
        "    1. For Each item in the batch:\n",
        "    2. For each anchor box:\n",
        "    - For each bounding box:\n",
        "        - Find the IoU.\n",
        "    - Pick bounding box with highest IoU for that anchor.\n",
        "    - # TODO: Pick the anchor with the highest IoU for that bounding box.\n",
        "    - If highest IoU is < 0.3, then continue 1.\n",
        "    # - Create the difference units for the anchor and the bounding box as y\n",
        "    - Now add the anchor box and bounding box into a map.\n",
        "    \"\"\"\n",
        "    all_positive_pairs = []\n",
        "    for batch_i in range(len(y_batch)):\n",
        "        positive_pairs_batch = []\n",
        "        max_iou_b = {}\n",
        "        max_iou_a = {}\n",
        "\n",
        "        # ---------- The two loops --------------\n",
        "\n",
        "        for anchor_i in range(len(anchor_centers)):\n",
        "            for bb_i in range(len(y_batch[batch_i])):\n",
        "\n",
        "                b_box = y_batch[batch_i][bb_i]\n",
        "                a_box = anchor_centers[anchor_i]\n",
        "\n",
        "                iou = get_iou(a_box, b_box)\n",
        "                default_iou = {'iou': 0, 'bb_i': -1, 'ab_i': -1}\n",
        "\n",
        "                # --------------- Find max IoUs ------------------\n",
        "\n",
        "                if iou > max_iou_b.get(bb_i, default_iou)['iou']:\n",
        "                    max_iou_b[bb_i] = {\n",
        "                        'iou': iou,\n",
        "                        'bb_i': bb_i,\n",
        "                        'ab_i': anchor_i\n",
        "                    }\n",
        "\n",
        "                if iou > 0.5 and iou > max_iou_a.get(anchor_i, default_iou)['iou']:\n",
        "                    max_iou_a[anchor_i] = {\n",
        "                        'iou': iou,\n",
        "                        'bb_i': bb_i,\n",
        "                        'ab_i': anchor_i\n",
        "                    }\n",
        "\n",
        "        # --------- Merge both max ious ----------------\n",
        "        \n",
        "        positive_pairs = [max_iou_b[index] for index in list(max_iou_b.keys())]\n",
        "        for index in list(max_iou_a.keys()):\n",
        "            if max_iou_a[index] not in positive_pairs:\n",
        "                positive_pairs.append(max_iou_a[index])\n",
        "        all_positive_pairs.append(positive_pairs)\n",
        "\n",
        "    return all_positive_pairs"
      ],
      "execution_count": 12,
      "outputs": []
    },
    {
      "cell_type": "code",
      "metadata": {
        "id": "CU87LW700FIz",
        "colab_type": "code",
        "colab": {
          "base_uri": "https://localhost:8080/",
          "height": 68
        },
        "outputId": "d6e15d40-4da0-417b-98a9-32036d3dbd74"
      },
      "source": [
        "positives = get_positive_anchors(y_test[:2])\n",
        "for positive in positives:\n",
        "  print(len(positive))\n",
        "14 * 14"
      ],
      "execution_count": 13,
      "outputs": [
        {
          "output_type": "stream",
          "text": [
            "30\n",
            "22\n"
          ],
          "name": "stdout"
        },
        {
          "output_type": "execute_result",
          "data": {
            "text/plain": [
              "196"
            ]
          },
          "metadata": {
            "tags": []
          },
          "execution_count": 13
        }
      ]
    },
    {
      "cell_type": "code",
      "metadata": {
        "id": "mOYEt0PtqNnp",
        "colab_type": "code",
        "colab": {}
      },
      "source": [
        "def get_y_d(y):\n",
        "  \"\"\"\n",
        "  Find all the positive anchor pairs.\n",
        "  for each of y:\n",
        "    for each pair in yi:\n",
        "      find fractional difference in anchor and bounding box.\n",
        "      append the fractional difference to the pair.\n",
        "  \"\"\"\n",
        "  y_d = []\n",
        "  positive_pairs = get_positive_anchors(y)\n",
        "  for yi in range(len(y)):\n",
        "    diffs = []\n",
        "    for pair_i in range(len(y[yi])):\n",
        "      pair = positive_pairs[yi][pair_i]\n",
        "      anchor = anchor_centers[pair['ab_i']]\n",
        "      bounding_box = y[yi][pair['bb_i']]\n",
        "      cx_d, cy_d, wd = get_fractional_difference(anchor, bounding_box)\n",
        "      diffs.append((cx_d, cy_d, wd, pair['ab_i'], pair['bb_i']))\n",
        "    y_d.append(torch.tensor(diffs))\n",
        "  return y_d"
      ],
      "execution_count": 15,
      "outputs": []
    },
    {
      "cell_type": "code",
      "metadata": {
        "id": "scrpMShajX4I",
        "colab_type": "code",
        "colab": {}
      },
      "source": [
        "y_train_d = get_y_d(y_train)\n",
        "y_test_d = get_y_d(y_test)"
      ],
      "execution_count": 16,
      "outputs": []
    },
    {
      "cell_type": "code",
      "metadata": {
        "id": "cGzrsvx1IemW",
        "colab_type": "code",
        "colab": {}
      },
      "source": [
        "class BoxPredictor(torch.nn.Module):\n",
        "  def __init__(self):\n",
        "    super().__init__()\n",
        "    self.linear1 = torch.nn.Linear(4096, 1024)\n",
        "    self.linear2 = torch.nn.Linear(1024, 3 * n_anchors)\n",
        "\n",
        "  def forward(self, x):\n",
        "    x = relu(self.linear1(x))\n",
        "    x = torch.tanh(self.linear2(x))\n",
        "    return x.reshape((-1, n_anchors, 3))\n",
        "\n",
        "\n",
        "class ConfidencePredictor(torch.nn.Module):\n",
        "  def __init__(self):\n",
        "    super().__init__()\n",
        "    self.linear1 = torch.nn.Linear(4096, 1024)\n",
        "    self.linear2 = torch.nn.Linear(1024, n_anchors)\n",
        "\n",
        "  def forward(self, x):\n",
        "    x = torch.relu(self.linear1(x))\n",
        "    x = torch.sigmoid(self.linear2(x))\n",
        "    return x\n",
        "\n",
        "\n",
        "class DetectorV1 (torch.nn.Module):\n",
        "    def __init__(self):\n",
        "        super().__init__()\n",
        "        self.conv1 = torch.nn.Conv2d(1, 32, 3, padding=1)  # 112x112\n",
        "        self.conv2 = torch.nn.Conv2d(32, 64, 3, stride=2, padding=1)  # 56x56\n",
        "        self.conv3 = torch.nn.Conv2d(64, 128, 3, stride=2, padding=1)  # 28x28\n",
        "        self.conv4 = torch.nn.Conv2d(128, 256, 3, stride=2, padding=1)  # 14x14\n",
        "        self.conv5 = torch.nn.Conv2d(256, 512, 3, stride=2, padding=1)  # 7x7\n",
        "        self.linear1 = torch.nn.Linear(25088, 4096)\n",
        "        self.box_predictor = BoxPredictor()\n",
        "        self.confidence_predictor = ConfidencePredictor()\n",
        "\n",
        "    def forward(self, x):\n",
        "        x = relu(self.conv1(x))  # 112\n",
        "        x = relu(self.conv2(x))  # 56\n",
        "        x = relu(self.conv3(x))  # 28\n",
        "        x = relu(self.conv4(x))  # 14\n",
        "        x = relu(self.conv5(x))  # 7\n",
        "        x = torch.flatten(x, 1)\n",
        "        x = relu(self.linear1(x))\n",
        "        boxes = self.box_predictor(x)\n",
        "        confidences = self.confidence_predictor(x)\n",
        "        return boxes, confidences\n",
        "\n",
        "model = DetectorV1().to(device)\n",
        "optimizer = torch.optim.Adam(model.parameters())"
      ],
      "execution_count": 61,
      "outputs": []
    },
    {
      "cell_type": "markdown",
      "metadata": {
        "id": "Q1hyZNulvcq_",
        "colab_type": "text"
      },
      "source": [
        "Steps:\n",
        " - get the predictions.\n",
        " - Find the anchors which have >0.1 IoU -> +ve anchors\n",
        " - Find the matching bounding box for each +ve anchor\n",
        " - All +ve anchors are high confidence, rest are low.\n",
        " - What is the loss for -ve anchors?\n",
        "\n",
        "\n",
        " - For each of the positive anchors, Find loss and add it to the total loss.\n",
        " - Find loss of the confidences.\n",
        " - \n"
      ]
    },
    {
      "cell_type": "code",
      "metadata": {
        "id": "SGl7qtS3u92g",
        "colab_type": "code",
        "colab": {
          "base_uri": "https://localhost:8080/",
          "height": 357
        },
        "outputId": "ebe71f13-c08f-4f63-fffd-28f1fcf720e2"
      },
      "source": [
        "epochs = 20\n",
        "batch_size = 64\n",
        "\n",
        "for epoch in range(epochs):\n",
        "    \n",
        "    for i in range(0, len(x_train), batch_size):\n",
        "        start_index = i\n",
        "        end_index = i+batch_size\n",
        "        \n",
        "        x_batch = x_train[start_index:end_index].to(device)\n",
        "        y_batch = y_train_d[start_index:end_index]\n",
        "        \n",
        "        optimizer.zero_grad()\n",
        "\n",
        "        y_hat_boxes, y_hat_confidences = model(x_batch)\n",
        "\n",
        "        loss = 0\n",
        "        for batch_i in range(len(y_batch)):  # Each image\n",
        "            y_diffs = y_batch[batch_i]\n",
        "            \"\"\"\n",
        "            1. find losses for each positive anchor\n",
        "            2. Sum them all up.\n",
        "            3. Create an array of n_anchors length for target confidences.\n",
        "            4. Make confidences 1 for positive indices.\n",
        "            5. Find losses for confidences. \n",
        "            \"\"\"\n",
        "            y_confidences = torch.zeros((n_anchors)).to(device)\n",
        "            for anchor_i in range(len(y_batch[batch_i])):  # Each positive anchor\n",
        "                box_index = int(y_batch[batch_i][anchor_i][4])\n",
        "                yd_box = y_batch[batch_i][anchor_i][:3].to(device)\n",
        "\n",
        "                anchor_index = int(y_batch[batch_i][anchor_i][3])\n",
        "                yd_pred = y_hat_boxes[batch_i][anchor_index]\n",
        "\n",
        "                loss += sum((yd_box - yd_pred) ** 2)\n",
        "\n",
        "                y_confidences[anchor_index] = 1.0\n",
        "\n",
        "            loss += sum((y_confidences - y_hat_confidences[batch_i]) ** 2)\n",
        "        \n",
        "        loss.backward()\n",
        "        optimizer.step()\n",
        "\n",
        "    print(f'Epoch: {epoch}, loss={float(loss)}')"
      ],
      "execution_count": 65,
      "outputs": [
        {
          "output_type": "stream",
          "text": [
            "Epoch: 0, loss=100.28968811035156\n",
            "Epoch: 1, loss=73.84757232666016\n",
            "Epoch: 2, loss=62.64126205444336\n",
            "Epoch: 3, loss=53.10938262939453\n",
            "Epoch: 4, loss=49.68842697143555\n",
            "Epoch: 5, loss=46.64128494262695\n",
            "Epoch: 6, loss=42.40894317626953\n",
            "Epoch: 7, loss=41.94721984863281\n",
            "Epoch: 8, loss=40.206539154052734\n",
            "Epoch: 9, loss=42.35682678222656\n",
            "Epoch: 10, loss=39.722293853759766\n",
            "Epoch: 11, loss=39.770389556884766\n",
            "Epoch: 12, loss=39.30099868774414\n",
            "Epoch: 13, loss=38.21592330932617\n",
            "Epoch: 14, loss=40.004512786865234\n",
            "Epoch: 15, loss=37.82253646850586\n",
            "Epoch: 16, loss=39.414955139160156\n",
            "Epoch: 17, loss=38.495933532714844\n",
            "Epoch: 18, loss=39.51585006713867\n",
            "Epoch: 19, loss=39.97494888305664\n"
          ],
          "name": "stdout"
        }
      ]
    },
    {
      "cell_type": "markdown",
      "metadata": {
        "id": "IpG50eLc7uy1",
        "colab_type": "text"
      },
      "source": [
        "- get predictions\n",
        "- get all anchor indices where confidences are > 0\n",
        "- Find the coordinates of the boxes.\n",
        "- Do nms on those.\n",
        "- plot them."
      ]
    },
    {
      "cell_type": "code",
      "metadata": {
        "id": "sQCZUhxLNskB",
        "colab_type": "code",
        "colab": {
          "base_uri": "https://localhost:8080/",
          "height": 231
        },
        "outputId": "1c806c6c-40d3-4971-e6b1-8af2adff6fc3"
      },
      "source": [
        "with torch.no_grad():\n",
        "    y_hat_boxes, y_hat_confidences = model(x_test.to(device))\n",
        "    for batch_i in range(len(x_test)):\n",
        "        positive_indices = (y_hat_confidences[batch_i] > 0.5).nonzero().reshape((-1))\n",
        "\n",
        "        pred_boxes = y_hat_boxes[batch_i][positive_indices]\n",
        "        anchors = anchor_centers[positive_indices]\n",
        "        pred_boxes = get_units_from_diff(anchors, pred_boxes)\n",
        "\n",
        "        pred_boxes = torch.tensor([[\n",
        "            float(box[0] - box[2] / 2),\n",
        "            float(box[1] - box[2] / 2),\n",
        "            float(box[0] + box[2] / 2),\n",
        "            float(box[1] + box[2] / 2)\n",
        "         ] for box in pred_boxes])\n",
        "\n",
        "        keep_indices = torchvision.ops.nms(pred_boxes, y_hat_confidences[batch_i], 0.5)\n",
        "        pred_boxes = pred_boxes[keep_indices]\n",
        "\n",
        "        DataManager.plot_num(\n",
        "            x_test[batch_i].reshape((112, 112)), \n",
        "            [{'x1': box[0], 'y1': box[1], 'x2': box[2], 'y2': box[3]} for box in pred_boxes]\n",
        "        )\n",
        "\n"
      ],
      "execution_count": 69,
      "outputs": [
        {
          "output_type": "error",
          "ename": "RuntimeError",
          "evalue": "ignored",
          "traceback": [
            "\u001b[0;31m---------------------------------------------------------------------------\u001b[0m",
            "\u001b[0;31mRuntimeError\u001b[0m                              Traceback (most recent call last)",
            "\u001b[0;32m<ipython-input-69-098a5be73fbd>\u001b[0m in \u001b[0;36m<module>\u001b[0;34m()\u001b[0m\n\u001b[1;32m      1\u001b[0m \u001b[0;32mwith\u001b[0m \u001b[0mtorch\u001b[0m\u001b[0;34m.\u001b[0m\u001b[0mno_grad\u001b[0m\u001b[0;34m(\u001b[0m\u001b[0;34m)\u001b[0m\u001b[0;34m:\u001b[0m\u001b[0;34m\u001b[0m\u001b[0;34m\u001b[0m\u001b[0m\n\u001b[0;32m----> 2\u001b[0;31m     \u001b[0my_hat_boxes\u001b[0m\u001b[0;34m,\u001b[0m \u001b[0my_hat_confidences\u001b[0m \u001b[0;34m=\u001b[0m \u001b[0mmodel\u001b[0m\u001b[0;34m(\u001b[0m\u001b[0mx_test\u001b[0m\u001b[0;34m.\u001b[0m\u001b[0mto\u001b[0m\u001b[0;34m(\u001b[0m\u001b[0mdevice\u001b[0m\u001b[0;34m)\u001b[0m\u001b[0;34m)\u001b[0m\u001b[0;34m\u001b[0m\u001b[0;34m\u001b[0m\u001b[0m\n\u001b[0m\u001b[1;32m      3\u001b[0m     \u001b[0;32mfor\u001b[0m \u001b[0mbatch_i\u001b[0m \u001b[0;32min\u001b[0m \u001b[0mrange\u001b[0m\u001b[0;34m(\u001b[0m\u001b[0mlen\u001b[0m\u001b[0;34m(\u001b[0m\u001b[0mx_test\u001b[0m\u001b[0;34m)\u001b[0m\u001b[0;34m)\u001b[0m\u001b[0;34m:\u001b[0m\u001b[0;34m\u001b[0m\u001b[0;34m\u001b[0m\u001b[0m\n\u001b[1;32m      4\u001b[0m         \u001b[0mpositive_indices\u001b[0m \u001b[0;34m=\u001b[0m \u001b[0;34m(\u001b[0m\u001b[0my_hat_confidences\u001b[0m\u001b[0;34m[\u001b[0m\u001b[0mbatch_i\u001b[0m\u001b[0;34m]\u001b[0m \u001b[0;34m>\u001b[0m \u001b[0;36m0.5\u001b[0m\u001b[0;34m)\u001b[0m\u001b[0;34m.\u001b[0m\u001b[0mnonzero\u001b[0m\u001b[0;34m(\u001b[0m\u001b[0;34m)\u001b[0m\u001b[0;34m.\u001b[0m\u001b[0mreshape\u001b[0m\u001b[0;34m(\u001b[0m\u001b[0;34m(\u001b[0m\u001b[0;34m-\u001b[0m\u001b[0;36m1\u001b[0m\u001b[0;34m)\u001b[0m\u001b[0;34m)\u001b[0m\u001b[0;34m\u001b[0m\u001b[0;34m\u001b[0m\u001b[0m\n\u001b[1;32m      5\u001b[0m \u001b[0;34m\u001b[0m\u001b[0m\n",
            "\u001b[0;31mRuntimeError\u001b[0m: CUDA error: device-side assert triggered"
          ]
        }
      ]
    },
    {
      "cell_type": "code",
      "metadata": {
        "id": "Jr7KlqkbC75n",
        "colab_type": "code",
        "colab": {}
      },
      "source": [
        ""
      ],
      "execution_count": null,
      "outputs": []
    }
  ]
}