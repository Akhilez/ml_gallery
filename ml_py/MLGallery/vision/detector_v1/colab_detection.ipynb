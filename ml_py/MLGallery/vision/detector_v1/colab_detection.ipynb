{
  "nbformat": 4,
  "nbformat_minor": 0,
  "metadata": {
    "colab": {
      "name": "mnist_detection.ipynb",
      "provenance": [],
      "collapsed_sections": []
    },
    "kernelspec": {
      "name": "python3",
      "display_name": "Python 3"
    },
    "widgets": {
      "application/vnd.jupyter.widget-state+json": {
        "2eff8900824645d08d718517b4ad8e55": {
          "model_module": "@jupyter-widgets/controls",
          "model_name": "HBoxModel",
          "state": {
            "_view_name": "HBoxView",
            "_dom_classes": [],
            "_model_name": "HBoxModel",
            "_view_module": "@jupyter-widgets/controls",
            "_model_module_version": "1.5.0",
            "_view_count": null,
            "_view_module_version": "1.5.0",
            "box_style": "",
            "layout": "IPY_MODEL_3bdeea12950c4c1bbcbeb105512b810b",
            "_model_module": "@jupyter-widgets/controls",
            "children": [
              "IPY_MODEL_58c25cd5753c4a79a1de26f5384eaea1",
              "IPY_MODEL_b970982a857b4ade9cbf6946fdaec633"
            ]
          }
        },
        "3bdeea12950c4c1bbcbeb105512b810b": {
          "model_module": "@jupyter-widgets/base",
          "model_name": "LayoutModel",
          "state": {
            "_view_name": "LayoutView",
            "grid_template_rows": null,
            "right": null,
            "justify_content": null,
            "_view_module": "@jupyter-widgets/base",
            "overflow": null,
            "_model_module_version": "1.2.0",
            "_view_count": null,
            "flex_flow": null,
            "width": null,
            "min_width": null,
            "border": null,
            "align_items": null,
            "bottom": null,
            "_model_module": "@jupyter-widgets/base",
            "top": null,
            "grid_column": null,
            "overflow_y": null,
            "overflow_x": null,
            "grid_auto_flow": null,
            "grid_area": null,
            "grid_template_columns": null,
            "flex": null,
            "_model_name": "LayoutModel",
            "justify_items": null,
            "grid_row": null,
            "max_height": null,
            "align_content": null,
            "visibility": null,
            "align_self": null,
            "height": null,
            "min_height": null,
            "padding": null,
            "grid_auto_rows": null,
            "grid_gap": null,
            "max_width": null,
            "order": null,
            "_view_module_version": "1.2.0",
            "grid_template_areas": null,
            "object_position": null,
            "object_fit": null,
            "grid_auto_columns": null,
            "margin": null,
            "display": null,
            "left": null
          }
        },
        "58c25cd5753c4a79a1de26f5384eaea1": {
          "model_module": "@jupyter-widgets/controls",
          "model_name": "FloatProgressModel",
          "state": {
            "_view_name": "ProgressView",
            "style": "IPY_MODEL_03205d7c33864aefbab4de5a47473539",
            "_dom_classes": [],
            "description": "",
            "_model_name": "FloatProgressModel",
            "bar_style": "success",
            "max": 1,
            "_view_module": "@jupyter-widgets/controls",
            "_model_module_version": "1.5.0",
            "value": 1,
            "_view_count": null,
            "_view_module_version": "1.5.0",
            "orientation": "horizontal",
            "min": 0,
            "description_tooltip": null,
            "_model_module": "@jupyter-widgets/controls",
            "layout": "IPY_MODEL_240d9f70c5664547bf1fca235f3bc5c5"
          }
        },
        "b970982a857b4ade9cbf6946fdaec633": {
          "model_module": "@jupyter-widgets/controls",
          "model_name": "HTMLModel",
          "state": {
            "_view_name": "HTMLView",
            "style": "IPY_MODEL_a3cd2a13c0f54c0a9c4ff378a1584b33",
            "_dom_classes": [],
            "description": "",
            "_model_name": "HTMLModel",
            "placeholder": "​",
            "_view_module": "@jupyter-widgets/controls",
            "_model_module_version": "1.5.0",
            "value": " 9920512/? [00:00&lt;00:00, 10624847.28it/s]",
            "_view_count": null,
            "_view_module_version": "1.5.0",
            "description_tooltip": null,
            "_model_module": "@jupyter-widgets/controls",
            "layout": "IPY_MODEL_f7777499ba7d48a2b80c9a93dc2325e3"
          }
        },
        "03205d7c33864aefbab4de5a47473539": {
          "model_module": "@jupyter-widgets/controls",
          "model_name": "ProgressStyleModel",
          "state": {
            "_view_name": "StyleView",
            "_model_name": "ProgressStyleModel",
            "description_width": "initial",
            "_view_module": "@jupyter-widgets/base",
            "_model_module_version": "1.5.0",
            "_view_count": null,
            "_view_module_version": "1.2.0",
            "bar_color": null,
            "_model_module": "@jupyter-widgets/controls"
          }
        },
        "240d9f70c5664547bf1fca235f3bc5c5": {
          "model_module": "@jupyter-widgets/base",
          "model_name": "LayoutModel",
          "state": {
            "_view_name": "LayoutView",
            "grid_template_rows": null,
            "right": null,
            "justify_content": null,
            "_view_module": "@jupyter-widgets/base",
            "overflow": null,
            "_model_module_version": "1.2.0",
            "_view_count": null,
            "flex_flow": null,
            "width": null,
            "min_width": null,
            "border": null,
            "align_items": null,
            "bottom": null,
            "_model_module": "@jupyter-widgets/base",
            "top": null,
            "grid_column": null,
            "overflow_y": null,
            "overflow_x": null,
            "grid_auto_flow": null,
            "grid_area": null,
            "grid_template_columns": null,
            "flex": null,
            "_model_name": "LayoutModel",
            "justify_items": null,
            "grid_row": null,
            "max_height": null,
            "align_content": null,
            "visibility": null,
            "align_self": null,
            "height": null,
            "min_height": null,
            "padding": null,
            "grid_auto_rows": null,
            "grid_gap": null,
            "max_width": null,
            "order": null,
            "_view_module_version": "1.2.0",
            "grid_template_areas": null,
            "object_position": null,
            "object_fit": null,
            "grid_auto_columns": null,
            "margin": null,
            "display": null,
            "left": null
          }
        },
        "a3cd2a13c0f54c0a9c4ff378a1584b33": {
          "model_module": "@jupyter-widgets/controls",
          "model_name": "DescriptionStyleModel",
          "state": {
            "_view_name": "StyleView",
            "_model_name": "DescriptionStyleModel",
            "description_width": "",
            "_view_module": "@jupyter-widgets/base",
            "_model_module_version": "1.5.0",
            "_view_count": null,
            "_view_module_version": "1.2.0",
            "_model_module": "@jupyter-widgets/controls"
          }
        },
        "f7777499ba7d48a2b80c9a93dc2325e3": {
          "model_module": "@jupyter-widgets/base",
          "model_name": "LayoutModel",
          "state": {
            "_view_name": "LayoutView",
            "grid_template_rows": null,
            "right": null,
            "justify_content": null,
            "_view_module": "@jupyter-widgets/base",
            "overflow": null,
            "_model_module_version": "1.2.0",
            "_view_count": null,
            "flex_flow": null,
            "width": null,
            "min_width": null,
            "border": null,
            "align_items": null,
            "bottom": null,
            "_model_module": "@jupyter-widgets/base",
            "top": null,
            "grid_column": null,
            "overflow_y": null,
            "overflow_x": null,
            "grid_auto_flow": null,
            "grid_area": null,
            "grid_template_columns": null,
            "flex": null,
            "_model_name": "LayoutModel",
            "justify_items": null,
            "grid_row": null,
            "max_height": null,
            "align_content": null,
            "visibility": null,
            "align_self": null,
            "height": null,
            "min_height": null,
            "padding": null,
            "grid_auto_rows": null,
            "grid_gap": null,
            "max_width": null,
            "order": null,
            "_view_module_version": "1.2.0",
            "grid_template_areas": null,
            "object_position": null,
            "object_fit": null,
            "grid_auto_columns": null,
            "margin": null,
            "display": null,
            "left": null
          }
        },
        "4a4bc85e778646e3983f818c13ec2c47": {
          "model_module": "@jupyter-widgets/controls",
          "model_name": "HBoxModel",
          "state": {
            "_view_name": "HBoxView",
            "_dom_classes": [],
            "_model_name": "HBoxModel",
            "_view_module": "@jupyter-widgets/controls",
            "_model_module_version": "1.5.0",
            "_view_count": null,
            "_view_module_version": "1.5.0",
            "box_style": "",
            "layout": "IPY_MODEL_6c412ad30ef947b7bc2d6a5e3e05e4de",
            "_model_module": "@jupyter-widgets/controls",
            "children": [
              "IPY_MODEL_29eecac07a464f07ab2d98779486dbb2",
              "IPY_MODEL_cc06f8bc69b3403ab85ec73afac1f805"
            ]
          }
        },
        "6c412ad30ef947b7bc2d6a5e3e05e4de": {
          "model_module": "@jupyter-widgets/base",
          "model_name": "LayoutModel",
          "state": {
            "_view_name": "LayoutView",
            "grid_template_rows": null,
            "right": null,
            "justify_content": null,
            "_view_module": "@jupyter-widgets/base",
            "overflow": null,
            "_model_module_version": "1.2.0",
            "_view_count": null,
            "flex_flow": null,
            "width": null,
            "min_width": null,
            "border": null,
            "align_items": null,
            "bottom": null,
            "_model_module": "@jupyter-widgets/base",
            "top": null,
            "grid_column": null,
            "overflow_y": null,
            "overflow_x": null,
            "grid_auto_flow": null,
            "grid_area": null,
            "grid_template_columns": null,
            "flex": null,
            "_model_name": "LayoutModel",
            "justify_items": null,
            "grid_row": null,
            "max_height": null,
            "align_content": null,
            "visibility": null,
            "align_self": null,
            "height": null,
            "min_height": null,
            "padding": null,
            "grid_auto_rows": null,
            "grid_gap": null,
            "max_width": null,
            "order": null,
            "_view_module_version": "1.2.0",
            "grid_template_areas": null,
            "object_position": null,
            "object_fit": null,
            "grid_auto_columns": null,
            "margin": null,
            "display": null,
            "left": null
          }
        },
        "29eecac07a464f07ab2d98779486dbb2": {
          "model_module": "@jupyter-widgets/controls",
          "model_name": "FloatProgressModel",
          "state": {
            "_view_name": "ProgressView",
            "style": "IPY_MODEL_a33de69899b241c48fa352cf99c0829f",
            "_dom_classes": [],
            "description": "",
            "_model_name": "FloatProgressModel",
            "bar_style": "success",
            "max": 1,
            "_view_module": "@jupyter-widgets/controls",
            "_model_module_version": "1.5.0",
            "value": 1,
            "_view_count": null,
            "_view_module_version": "1.5.0",
            "orientation": "horizontal",
            "min": 0,
            "description_tooltip": null,
            "_model_module": "@jupyter-widgets/controls",
            "layout": "IPY_MODEL_df11501a873d489c83cc411a55809b3b"
          }
        },
        "cc06f8bc69b3403ab85ec73afac1f805": {
          "model_module": "@jupyter-widgets/controls",
          "model_name": "HTMLModel",
          "state": {
            "_view_name": "HTMLView",
            "style": "IPY_MODEL_f81750fd3dbf463aafb8543c7e4bb713",
            "_dom_classes": [],
            "description": "",
            "_model_name": "HTMLModel",
            "placeholder": "​",
            "_view_module": "@jupyter-widgets/controls",
            "_model_module_version": "1.5.0",
            "value": " 32768/? [00:00&lt;00:00, 216759.14it/s]",
            "_view_count": null,
            "_view_module_version": "1.5.0",
            "description_tooltip": null,
            "_model_module": "@jupyter-widgets/controls",
            "layout": "IPY_MODEL_e03111adcb3341f89708a505c6b17c91"
          }
        },
        "a33de69899b241c48fa352cf99c0829f": {
          "model_module": "@jupyter-widgets/controls",
          "model_name": "ProgressStyleModel",
          "state": {
            "_view_name": "StyleView",
            "_model_name": "ProgressStyleModel",
            "description_width": "initial",
            "_view_module": "@jupyter-widgets/base",
            "_model_module_version": "1.5.0",
            "_view_count": null,
            "_view_module_version": "1.2.0",
            "bar_color": null,
            "_model_module": "@jupyter-widgets/controls"
          }
        },
        "df11501a873d489c83cc411a55809b3b": {
          "model_module": "@jupyter-widgets/base",
          "model_name": "LayoutModel",
          "state": {
            "_view_name": "LayoutView",
            "grid_template_rows": null,
            "right": null,
            "justify_content": null,
            "_view_module": "@jupyter-widgets/base",
            "overflow": null,
            "_model_module_version": "1.2.0",
            "_view_count": null,
            "flex_flow": null,
            "width": null,
            "min_width": null,
            "border": null,
            "align_items": null,
            "bottom": null,
            "_model_module": "@jupyter-widgets/base",
            "top": null,
            "grid_column": null,
            "overflow_y": null,
            "overflow_x": null,
            "grid_auto_flow": null,
            "grid_area": null,
            "grid_template_columns": null,
            "flex": null,
            "_model_name": "LayoutModel",
            "justify_items": null,
            "grid_row": null,
            "max_height": null,
            "align_content": null,
            "visibility": null,
            "align_self": null,
            "height": null,
            "min_height": null,
            "padding": null,
            "grid_auto_rows": null,
            "grid_gap": null,
            "max_width": null,
            "order": null,
            "_view_module_version": "1.2.0",
            "grid_template_areas": null,
            "object_position": null,
            "object_fit": null,
            "grid_auto_columns": null,
            "margin": null,
            "display": null,
            "left": null
          }
        },
        "f81750fd3dbf463aafb8543c7e4bb713": {
          "model_module": "@jupyter-widgets/controls",
          "model_name": "DescriptionStyleModel",
          "state": {
            "_view_name": "StyleView",
            "_model_name": "DescriptionStyleModel",
            "description_width": "",
            "_view_module": "@jupyter-widgets/base",
            "_model_module_version": "1.5.0",
            "_view_count": null,
            "_view_module_version": "1.2.0",
            "_model_module": "@jupyter-widgets/controls"
          }
        },
        "e03111adcb3341f89708a505c6b17c91": {
          "model_module": "@jupyter-widgets/base",
          "model_name": "LayoutModel",
          "state": {
            "_view_name": "LayoutView",
            "grid_template_rows": null,
            "right": null,
            "justify_content": null,
            "_view_module": "@jupyter-widgets/base",
            "overflow": null,
            "_model_module_version": "1.2.0",
            "_view_count": null,
            "flex_flow": null,
            "width": null,
            "min_width": null,
            "border": null,
            "align_items": null,
            "bottom": null,
            "_model_module": "@jupyter-widgets/base",
            "top": null,
            "grid_column": null,
            "overflow_y": null,
            "overflow_x": null,
            "grid_auto_flow": null,
            "grid_area": null,
            "grid_template_columns": null,
            "flex": null,
            "_model_name": "LayoutModel",
            "justify_items": null,
            "grid_row": null,
            "max_height": null,
            "align_content": null,
            "visibility": null,
            "align_self": null,
            "height": null,
            "min_height": null,
            "padding": null,
            "grid_auto_rows": null,
            "grid_gap": null,
            "max_width": null,
            "order": null,
            "_view_module_version": "1.2.0",
            "grid_template_areas": null,
            "object_position": null,
            "object_fit": null,
            "grid_auto_columns": null,
            "margin": null,
            "display": null,
            "left": null
          }
        },
        "35a494110ce84d65afcea8b445ecad5d": {
          "model_module": "@jupyter-widgets/controls",
          "model_name": "HBoxModel",
          "state": {
            "_view_name": "HBoxView",
            "_dom_classes": [],
            "_model_name": "HBoxModel",
            "_view_module": "@jupyter-widgets/controls",
            "_model_module_version": "1.5.0",
            "_view_count": null,
            "_view_module_version": "1.5.0",
            "box_style": "",
            "layout": "IPY_MODEL_62057b2ae52843ffa8cb1bbcb61ca58e",
            "_model_module": "@jupyter-widgets/controls",
            "children": [
              "IPY_MODEL_5fc215cdaf02496c82374730bf35d518",
              "IPY_MODEL_2bf99f85729046518da1d9d2b6a3dfcf"
            ]
          }
        },
        "62057b2ae52843ffa8cb1bbcb61ca58e": {
          "model_module": "@jupyter-widgets/base",
          "model_name": "LayoutModel",
          "state": {
            "_view_name": "LayoutView",
            "grid_template_rows": null,
            "right": null,
            "justify_content": null,
            "_view_module": "@jupyter-widgets/base",
            "overflow": null,
            "_model_module_version": "1.2.0",
            "_view_count": null,
            "flex_flow": null,
            "width": null,
            "min_width": null,
            "border": null,
            "align_items": null,
            "bottom": null,
            "_model_module": "@jupyter-widgets/base",
            "top": null,
            "grid_column": null,
            "overflow_y": null,
            "overflow_x": null,
            "grid_auto_flow": null,
            "grid_area": null,
            "grid_template_columns": null,
            "flex": null,
            "_model_name": "LayoutModel",
            "justify_items": null,
            "grid_row": null,
            "max_height": null,
            "align_content": null,
            "visibility": null,
            "align_self": null,
            "height": null,
            "min_height": null,
            "padding": null,
            "grid_auto_rows": null,
            "grid_gap": null,
            "max_width": null,
            "order": null,
            "_view_module_version": "1.2.0",
            "grid_template_areas": null,
            "object_position": null,
            "object_fit": null,
            "grid_auto_columns": null,
            "margin": null,
            "display": null,
            "left": null
          }
        },
        "5fc215cdaf02496c82374730bf35d518": {
          "model_module": "@jupyter-widgets/controls",
          "model_name": "FloatProgressModel",
          "state": {
            "_view_name": "ProgressView",
            "style": "IPY_MODEL_c6004e47443941009ffef02ee15c246c",
            "_dom_classes": [],
            "description": "",
            "_model_name": "FloatProgressModel",
            "bar_style": "success",
            "max": 1,
            "_view_module": "@jupyter-widgets/controls",
            "_model_module_version": "1.5.0",
            "value": 1,
            "_view_count": null,
            "_view_module_version": "1.5.0",
            "orientation": "horizontal",
            "min": 0,
            "description_tooltip": null,
            "_model_module": "@jupyter-widgets/controls",
            "layout": "IPY_MODEL_a2777974cffb41fdbdbdfce1d9f362b2"
          }
        },
        "2bf99f85729046518da1d9d2b6a3dfcf": {
          "model_module": "@jupyter-widgets/controls",
          "model_name": "HTMLModel",
          "state": {
            "_view_name": "HTMLView",
            "style": "IPY_MODEL_18f229bed0ed4da4b1f508d2bfbdd22b",
            "_dom_classes": [],
            "description": "",
            "_model_name": "HTMLModel",
            "placeholder": "​",
            "_view_module": "@jupyter-widgets/controls",
            "_model_module_version": "1.5.0",
            "value": " 1654784/? [00:00&lt;00:00, 2019721.87it/s]",
            "_view_count": null,
            "_view_module_version": "1.5.0",
            "description_tooltip": null,
            "_model_module": "@jupyter-widgets/controls",
            "layout": "IPY_MODEL_acabe7a1a61746de87ef74a120956218"
          }
        },
        "c6004e47443941009ffef02ee15c246c": {
          "model_module": "@jupyter-widgets/controls",
          "model_name": "ProgressStyleModel",
          "state": {
            "_view_name": "StyleView",
            "_model_name": "ProgressStyleModel",
            "description_width": "initial",
            "_view_module": "@jupyter-widgets/base",
            "_model_module_version": "1.5.0",
            "_view_count": null,
            "_view_module_version": "1.2.0",
            "bar_color": null,
            "_model_module": "@jupyter-widgets/controls"
          }
        },
        "a2777974cffb41fdbdbdfce1d9f362b2": {
          "model_module": "@jupyter-widgets/base",
          "model_name": "LayoutModel",
          "state": {
            "_view_name": "LayoutView",
            "grid_template_rows": null,
            "right": null,
            "justify_content": null,
            "_view_module": "@jupyter-widgets/base",
            "overflow": null,
            "_model_module_version": "1.2.0",
            "_view_count": null,
            "flex_flow": null,
            "width": null,
            "min_width": null,
            "border": null,
            "align_items": null,
            "bottom": null,
            "_model_module": "@jupyter-widgets/base",
            "top": null,
            "grid_column": null,
            "overflow_y": null,
            "overflow_x": null,
            "grid_auto_flow": null,
            "grid_area": null,
            "grid_template_columns": null,
            "flex": null,
            "_model_name": "LayoutModel",
            "justify_items": null,
            "grid_row": null,
            "max_height": null,
            "align_content": null,
            "visibility": null,
            "align_self": null,
            "height": null,
            "min_height": null,
            "padding": null,
            "grid_auto_rows": null,
            "grid_gap": null,
            "max_width": null,
            "order": null,
            "_view_module_version": "1.2.0",
            "grid_template_areas": null,
            "object_position": null,
            "object_fit": null,
            "grid_auto_columns": null,
            "margin": null,
            "display": null,
            "left": null
          }
        },
        "18f229bed0ed4da4b1f508d2bfbdd22b": {
          "model_module": "@jupyter-widgets/controls",
          "model_name": "DescriptionStyleModel",
          "state": {
            "_view_name": "StyleView",
            "_model_name": "DescriptionStyleModel",
            "description_width": "",
            "_view_module": "@jupyter-widgets/base",
            "_model_module_version": "1.5.0",
            "_view_count": null,
            "_view_module_version": "1.2.0",
            "_model_module": "@jupyter-widgets/controls"
          }
        },
        "acabe7a1a61746de87ef74a120956218": {
          "model_module": "@jupyter-widgets/base",
          "model_name": "LayoutModel",
          "state": {
            "_view_name": "LayoutView",
            "grid_template_rows": null,
            "right": null,
            "justify_content": null,
            "_view_module": "@jupyter-widgets/base",
            "overflow": null,
            "_model_module_version": "1.2.0",
            "_view_count": null,
            "flex_flow": null,
            "width": null,
            "min_width": null,
            "border": null,
            "align_items": null,
            "bottom": null,
            "_model_module": "@jupyter-widgets/base",
            "top": null,
            "grid_column": null,
            "overflow_y": null,
            "overflow_x": null,
            "grid_auto_flow": null,
            "grid_area": null,
            "grid_template_columns": null,
            "flex": null,
            "_model_name": "LayoutModel",
            "justify_items": null,
            "grid_row": null,
            "max_height": null,
            "align_content": null,
            "visibility": null,
            "align_self": null,
            "height": null,
            "min_height": null,
            "padding": null,
            "grid_auto_rows": null,
            "grid_gap": null,
            "max_width": null,
            "order": null,
            "_view_module_version": "1.2.0",
            "grid_template_areas": null,
            "object_position": null,
            "object_fit": null,
            "grid_auto_columns": null,
            "margin": null,
            "display": null,
            "left": null
          }
        },
        "4675326496cf4f2291bfa35abc051a30": {
          "model_module": "@jupyter-widgets/controls",
          "model_name": "HBoxModel",
          "state": {
            "_view_name": "HBoxView",
            "_dom_classes": [],
            "_model_name": "HBoxModel",
            "_view_module": "@jupyter-widgets/controls",
            "_model_module_version": "1.5.0",
            "_view_count": null,
            "_view_module_version": "1.5.0",
            "box_style": "",
            "layout": "IPY_MODEL_0a6e9b1befc044fdb7727f8dcdab652f",
            "_model_module": "@jupyter-widgets/controls",
            "children": [
              "IPY_MODEL_c0be1a055f234d3b8d0c7ccca022d038",
              "IPY_MODEL_e80b9f7a12334ccbbaa6b9be567901b3"
            ]
          }
        },
        "0a6e9b1befc044fdb7727f8dcdab652f": {
          "model_module": "@jupyter-widgets/base",
          "model_name": "LayoutModel",
          "state": {
            "_view_name": "LayoutView",
            "grid_template_rows": null,
            "right": null,
            "justify_content": null,
            "_view_module": "@jupyter-widgets/base",
            "overflow": null,
            "_model_module_version": "1.2.0",
            "_view_count": null,
            "flex_flow": null,
            "width": null,
            "min_width": null,
            "border": null,
            "align_items": null,
            "bottom": null,
            "_model_module": "@jupyter-widgets/base",
            "top": null,
            "grid_column": null,
            "overflow_y": null,
            "overflow_x": null,
            "grid_auto_flow": null,
            "grid_area": null,
            "grid_template_columns": null,
            "flex": null,
            "_model_name": "LayoutModel",
            "justify_items": null,
            "grid_row": null,
            "max_height": null,
            "align_content": null,
            "visibility": null,
            "align_self": null,
            "height": null,
            "min_height": null,
            "padding": null,
            "grid_auto_rows": null,
            "grid_gap": null,
            "max_width": null,
            "order": null,
            "_view_module_version": "1.2.0",
            "grid_template_areas": null,
            "object_position": null,
            "object_fit": null,
            "grid_auto_columns": null,
            "margin": null,
            "display": null,
            "left": null
          }
        },
        "c0be1a055f234d3b8d0c7ccca022d038": {
          "model_module": "@jupyter-widgets/controls",
          "model_name": "FloatProgressModel",
          "state": {
            "_view_name": "ProgressView",
            "style": "IPY_MODEL_c4f89712cf0f44108c5a6d5128151b78",
            "_dom_classes": [],
            "description": "",
            "_model_name": "FloatProgressModel",
            "bar_style": "success",
            "max": 1,
            "_view_module": "@jupyter-widgets/controls",
            "_model_module_version": "1.5.0",
            "value": 1,
            "_view_count": null,
            "_view_module_version": "1.5.0",
            "orientation": "horizontal",
            "min": 0,
            "description_tooltip": null,
            "_model_module": "@jupyter-widgets/controls",
            "layout": "IPY_MODEL_3981df0ffcce418db4e6689ecc9ae0ef"
          }
        },
        "e80b9f7a12334ccbbaa6b9be567901b3": {
          "model_module": "@jupyter-widgets/controls",
          "model_name": "HTMLModel",
          "state": {
            "_view_name": "HTMLView",
            "style": "IPY_MODEL_d9e288b94dc7449494de2787557b04ca",
            "_dom_classes": [],
            "description": "",
            "_model_name": "HTMLModel",
            "placeholder": "​",
            "_view_module": "@jupyter-widgets/controls",
            "_model_module_version": "1.5.0",
            "value": " 8192/? [00:00&lt;00:00, 22066.95it/s]",
            "_view_count": null,
            "_view_module_version": "1.5.0",
            "description_tooltip": null,
            "_model_module": "@jupyter-widgets/controls",
            "layout": "IPY_MODEL_787ea688f930405a995a7d92560fba95"
          }
        },
        "c4f89712cf0f44108c5a6d5128151b78": {
          "model_module": "@jupyter-widgets/controls",
          "model_name": "ProgressStyleModel",
          "state": {
            "_view_name": "StyleView",
            "_model_name": "ProgressStyleModel",
            "description_width": "initial",
            "_view_module": "@jupyter-widgets/base",
            "_model_module_version": "1.5.0",
            "_view_count": null,
            "_view_module_version": "1.2.0",
            "bar_color": null,
            "_model_module": "@jupyter-widgets/controls"
          }
        },
        "3981df0ffcce418db4e6689ecc9ae0ef": {
          "model_module": "@jupyter-widgets/base",
          "model_name": "LayoutModel",
          "state": {
            "_view_name": "LayoutView",
            "grid_template_rows": null,
            "right": null,
            "justify_content": null,
            "_view_module": "@jupyter-widgets/base",
            "overflow": null,
            "_model_module_version": "1.2.0",
            "_view_count": null,
            "flex_flow": null,
            "width": null,
            "min_width": null,
            "border": null,
            "align_items": null,
            "bottom": null,
            "_model_module": "@jupyter-widgets/base",
            "top": null,
            "grid_column": null,
            "overflow_y": null,
            "overflow_x": null,
            "grid_auto_flow": null,
            "grid_area": null,
            "grid_template_columns": null,
            "flex": null,
            "_model_name": "LayoutModel",
            "justify_items": null,
            "grid_row": null,
            "max_height": null,
            "align_content": null,
            "visibility": null,
            "align_self": null,
            "height": null,
            "min_height": null,
            "padding": null,
            "grid_auto_rows": null,
            "grid_gap": null,
            "max_width": null,
            "order": null,
            "_view_module_version": "1.2.0",
            "grid_template_areas": null,
            "object_position": null,
            "object_fit": null,
            "grid_auto_columns": null,
            "margin": null,
            "display": null,
            "left": null
          }
        },
        "d9e288b94dc7449494de2787557b04ca": {
          "model_module": "@jupyter-widgets/controls",
          "model_name": "DescriptionStyleModel",
          "state": {
            "_view_name": "StyleView",
            "_model_name": "DescriptionStyleModel",
            "description_width": "",
            "_view_module": "@jupyter-widgets/base",
            "_model_module_version": "1.5.0",
            "_view_count": null,
            "_view_module_version": "1.2.0",
            "_model_module": "@jupyter-widgets/controls"
          }
        },
        "787ea688f930405a995a7d92560fba95": {
          "model_module": "@jupyter-widgets/base",
          "model_name": "LayoutModel",
          "state": {
            "_view_name": "LayoutView",
            "grid_template_rows": null,
            "right": null,
            "justify_content": null,
            "_view_module": "@jupyter-widgets/base",
            "overflow": null,
            "_model_module_version": "1.2.0",
            "_view_count": null,
            "flex_flow": null,
            "width": null,
            "min_width": null,
            "border": null,
            "align_items": null,
            "bottom": null,
            "_model_module": "@jupyter-widgets/base",
            "top": null,
            "grid_column": null,
            "overflow_y": null,
            "overflow_x": null,
            "grid_auto_flow": null,
            "grid_area": null,
            "grid_template_columns": null,
            "flex": null,
            "_model_name": "LayoutModel",
            "justify_items": null,
            "grid_row": null,
            "max_height": null,
            "align_content": null,
            "visibility": null,
            "align_self": null,
            "height": null,
            "min_height": null,
            "padding": null,
            "grid_auto_rows": null,
            "grid_gap": null,
            "max_width": null,
            "order": null,
            "_view_module_version": "1.2.0",
            "grid_template_areas": null,
            "object_position": null,
            "object_fit": null,
            "grid_auto_columns": null,
            "margin": null,
            "display": null,
            "left": null
          }
        }
      }
    }
  },
  "cells": [
    {
      "cell_type": "code",
      "metadata": {
        "id": "LkRNO3wP-DVR",
        "colab_type": "code",
        "colab": {
          "base_uri": "https://localhost:8080/",
          "height": 153
        },
        "outputId": "4b86e44e-9492-4855-cc84-b87759452e34"
      },
      "source": [
        "!rm -rf *\n",
        "!git config --global user.name \"Akhilez\"\n",
        "!git config --global user.email \"akhild18@yahoo.com\"\n",
        "!git clone https://github.com/Akhilez/ml_gallery.git\n",
        "%cd ml_gallery/ml_py"
      ],
      "execution_count": null,
      "outputs": [
        {
          "output_type": "stream",
          "text": [
            "Cloning into 'ml_gallery'...\n",
            "remote: Enumerating objects: 529, done.\u001b[K\n",
            "remote: Counting objects:   0% (1/529)\u001b[K\rremote: Counting objects:   1% (6/529)\u001b[K\rremote: Counting objects:   2% (11/529)\u001b[K\rremote: Counting objects:   3% (16/529)\u001b[K\rremote: Counting objects:   4% (22/529)\u001b[K\rremote: Counting objects:   5% (27/529)\u001b[K\rremote: Counting objects:   6% (32/529)\u001b[K\rremote: Counting objects:   7% (38/529)\u001b[K\rremote: Counting objects:   8% (43/529)\u001b[K\rremote: Counting objects:   9% (48/529)\u001b[K\rremote: Counting objects:  10% (53/529)\u001b[K\rremote: Counting objects:  11% (59/529)\u001b[K\rremote: Counting objects:  12% (64/529)\u001b[K\rremote: Counting objects:  13% (69/529)\u001b[K\rremote: Counting objects:  14% (75/529)\u001b[K\rremote: Counting objects:  15% (80/529)\u001b[K\rremote: Counting objects:  16% (85/529)\u001b[K\rremote: Counting objects:  17% (90/529)\u001b[K\rremote: Counting objects:  18% (96/529)\u001b[K\rremote: Counting objects:  19% (101/529)\u001b[K\rremote: Counting objects:  20% (106/529)\u001b[K\rremote: Counting objects:  21% (112/529)\u001b[K\rremote: Counting objects:  22% (117/529)\u001b[K\rremote: Counting objects:  23% (122/529)\u001b[K\rremote: Counting objects:  24% (127/529)\u001b[K\rremote: Counting objects:  25% (133/529)\u001b[K\rremote: Counting objects:  26% (138/529)\u001b[K\rremote: Counting objects:  27% (143/529)\u001b[K\rremote: Counting objects:  28% (149/529)\u001b[K\rremote: Counting objects:  29% (154/529)\u001b[K\rremote: Counting objects:  30% (159/529)\u001b[K\rremote: Counting objects:  31% (164/529)\u001b[K\rremote: Counting objects:  32% (170/529)\u001b[K\rremote: Counting objects:  33% (175/529)\u001b[K\rremote: Counting objects:  34% (180/529)\u001b[K\rremote: Counting objects:  35% (186/529)\u001b[K\rremote: Counting objects:  36% (191/529)\u001b[K\rremote: Counting objects:  37% (196/529)\u001b[K\rremote: Counting objects:  38% (202/529)\u001b[K\rremote: Counting objects:  39% (207/529)\u001b[K\rremote: Counting objects:  40% (212/529)\u001b[K\rremote: Counting objects:  41% (217/529)\u001b[K\rremote: Counting objects:  42% (223/529)\u001b[K\rremote: Counting objects:  43% (228/529)\u001b[K\rremote: Counting objects:  44% (233/529)\u001b[K\rremote: Counting objects:  45% (239/529)\u001b[K\rremote: Counting objects:  46% (244/529)\u001b[K\rremote: Counting objects:  47% (249/529)\u001b[K\rremote: Counting objects:  48% (254/529)\u001b[K\rremote: Counting objects:  49% (260/529)\u001b[K\rremote: Counting objects:  50% (265/529)\u001b[K\rremote: Counting objects:  51% (270/529)\u001b[K\rremote: Counting objects:  52% (276/529)\u001b[K\rremote: Counting objects:  53% (281/529)\u001b[K\rremote: Counting objects:  54% (286/529)\u001b[K\rremote: Counting objects:  55% (291/529)\u001b[K\rremote: Counting objects:  56% (297/529)\u001b[K\rremote: Counting objects:  57% (302/529)\u001b[K\rremote: Counting objects:  58% (307/529)\u001b[K\rremote: Counting objects:  59% (313/529)\u001b[K\rremote: Counting objects:  60% (318/529)\u001b[K\rremote: Counting objects:  61% (323/529)\u001b[K\rremote: Counting objects:  62% (328/529)\u001b[K\rremote: Counting objects:  63% (334/529)\u001b[K\rremote: Counting objects:  64% (339/529)\u001b[K\rremote: Counting objects:  65% (344/529)\u001b[K\rremote: Counting objects:  66% (350/529)\u001b[K\rremote: Counting objects:  67% (355/529)\u001b[K\rremote: Counting objects:  68% (360/529)\u001b[K\rremote: Counting objects:  69% (366/529)\u001b[K\rremote: Counting objects:  70% (371/529)\u001b[K\rremote: Counting objects:  71% (376/529)\u001b[K\rremote: Counting objects:  72% (381/529)\u001b[K\rremote: Counting objects:  73% (387/529)\u001b[K\rremote: Counting objects:  74% (392/529)\u001b[K\rremote: Counting objects:  75% (397/529)\u001b[K\rremote: Counting objects:  76% (403/529)\u001b[K\rremote: Counting objects:  77% (408/529)\u001b[K\rremote: Counting objects:  78% (413/529)\u001b[K\rremote: Counting objects:  79% (418/529)\u001b[K\rremote: Counting objects:  80% (424/529)\u001b[K\rremote: Counting objects:  81% (429/529)\u001b[K\rremote: Counting objects:  82% (434/529)\u001b[K\rremote: Counting objects:  83% (440/529)\u001b[K\rremote: Counting objects:  84% (445/529)\u001b[K\rremote: Counting objects:  85% (450/529)\u001b[K\rremote: Counting objects:  86% (455/529)\u001b[K\rremote: Counting objects:  87% (461/529)\u001b[K\rremote: Counting objects:  88% (466/529)\u001b[K\rremote: Counting objects:  89% (471/529)\u001b[K\rremote: Counting objects:  90% (477/529)\u001b[K\rremote: Counting objects:  91% (482/529)\u001b[K\rremote: Counting objects:  92% (487/529)\u001b[K\rremote: Counting objects:  93% (492/529)\u001b[K\rremote: Counting objects:  94% (498/529)\u001b[K\rremote: Counting objects:  95% (503/529)\u001b[K\rremote: Counting objects:  96% (508/529)\u001b[K\rremote: Counting objects:  97% (514/529)\u001b[K\rremote: Counting objects:  98% (519/529)\u001b[K\rremote: Counting objects:  99% (524/529)\u001b[K\rremote: Counting objects: 100% (529/529)\u001b[K\rremote: Counting objects: 100% (529/529), done.\u001b[K\n",
            "remote: Compressing objects: 100% (363/363), done.\u001b[K\n",
            "remote: Total 2056 (delta 310), reused 337 (delta 152), pack-reused 1527\u001b[K\n",
            "Receiving objects: 100% (2056/2056), 11.69 MiB | 30.15 MiB/s, done.\n",
            "Resolving deltas: 100% (1248/1248), done.\n",
            "/content/ml_gallery/ml_py/ml_gallery/ml_py\n"
          ],
          "name": "stdout"
        }
      ]
    },
    {
      "cell_type": "code",
      "metadata": {
        "id": "mRMuULbI-0ML",
        "colab_type": "code",
        "colab": {}
      },
      "source": [
        "import os\n",
        "os.environ['SECRET_KEY'] = '1234'\n",
        "%mkdir -p data/mnist/numbers"
      ],
      "execution_count": null,
      "outputs": []
    },
    {
      "cell_type": "code",
      "metadata": {
        "id": "jMr-foIX-5i5",
        "colab_type": "code",
        "colab": {}
      },
      "source": [
        "import torch\n",
        "from torch.nn.functional import relu\n",
        "from collections import namedtuple\n",
        "from lib.mnist_aug.mnist_augmenter import DataManager, MNISTAug"
      ],
      "execution_count": null,
      "outputs": []
    },
    {
      "cell_type": "code",
      "metadata": {
        "id": "eshztUwq-6FE",
        "colab_type": "code",
        "colab": {
          "base_uri": "https://localhost:8080/",
          "height": 34
        },
        "outputId": "9b1e51e3-b0d0-4593-dca3-a97e14290052"
      },
      "source": [
        "# Device configuration\n",
        "device = torch.device('cuda' if torch.cuda.is_available() else 'cpu')\n",
        "device"
      ],
      "execution_count": null,
      "outputs": [
        {
          "output_type": "execute_result",
          "data": {
            "text/plain": [
              "device(type='cpu')"
            ]
          },
          "metadata": {
            "tags": []
          },
          "execution_count": 28
        }
      ]
    },
    {
      "cell_type": "code",
      "metadata": {
        "id": "z0Db7Exb-8D8",
        "colab_type": "code",
        "colab": {
          "base_uri": "https://localhost:8080/",
          "height": 383,
          "referenced_widgets": [
            "2eff8900824645d08d718517b4ad8e55",
            "3bdeea12950c4c1bbcbeb105512b810b",
            "58c25cd5753c4a79a1de26f5384eaea1",
            "b970982a857b4ade9cbf6946fdaec633",
            "03205d7c33864aefbab4de5a47473539",
            "240d9f70c5664547bf1fca235f3bc5c5",
            "a3cd2a13c0f54c0a9c4ff378a1584b33",
            "f7777499ba7d48a2b80c9a93dc2325e3",
            "4a4bc85e778646e3983f818c13ec2c47",
            "6c412ad30ef947b7bc2d6a5e3e05e4de",
            "29eecac07a464f07ab2d98779486dbb2",
            "cc06f8bc69b3403ab85ec73afac1f805",
            "a33de69899b241c48fa352cf99c0829f",
            "df11501a873d489c83cc411a55809b3b",
            "f81750fd3dbf463aafb8543c7e4bb713",
            "e03111adcb3341f89708a505c6b17c91",
            "35a494110ce84d65afcea8b445ecad5d",
            "62057b2ae52843ffa8cb1bbcb61ca58e",
            "5fc215cdaf02496c82374730bf35d518",
            "2bf99f85729046518da1d9d2b6a3dfcf",
            "c6004e47443941009ffef02ee15c246c",
            "a2777974cffb41fdbdbdfce1d9f362b2",
            "18f229bed0ed4da4b1f508d2bfbdd22b",
            "acabe7a1a61746de87ef74a120956218",
            "4675326496cf4f2291bfa35abc051a30",
            "0a6e9b1befc044fdb7727f8dcdab652f",
            "c0be1a055f234d3b8d0c7ccca022d038",
            "e80b9f7a12334ccbbaa6b9be567901b3",
            "c4f89712cf0f44108c5a6d5128151b78",
            "3981df0ffcce418db4e6689ecc9ae0ef",
            "d9e288b94dc7449494de2787557b04ca",
            "787ea688f930405a995a7d92560fba95"
          ]
        },
        "outputId": "d78c7869-e1ba-44d1-9e6d-c32fd2c223fb"
      },
      "source": [
        "aug = MNISTAug()\n",
        "dm = DataManager()\n",
        "dm.load()\n",
        "aug.max_objects = 10\n",
        "aug.min_objects = 4"
      ],
      "execution_count": null,
      "outputs": [
        {
          "output_type": "stream",
          "text": [
            "Downloading http://yann.lecun.com/exdb/mnist/train-images-idx3-ubyte.gz to /content/ml_gallery/ml_py/data/mnist/numbers/MNIST/raw/train-images-idx3-ubyte.gz\n"
          ],
          "name": "stdout"
        },
        {
          "output_type": "display_data",
          "data": {
            "application/vnd.jupyter.widget-view+json": {
              "model_id": "2eff8900824645d08d718517b4ad8e55",
              "version_minor": 0,
              "version_major": 2
            },
            "text/plain": [
              "HBox(children=(FloatProgress(value=1.0, bar_style='info', max=1.0), HTML(value='')))"
            ]
          },
          "metadata": {
            "tags": []
          }
        },
        {
          "output_type": "stream",
          "text": [
            "Extracting /content/ml_gallery/ml_py/data/mnist/numbers/MNIST/raw/train-images-idx3-ubyte.gz to /content/ml_gallery/ml_py/data/mnist/numbers/MNIST/raw\n",
            "Downloading http://yann.lecun.com/exdb/mnist/train-labels-idx1-ubyte.gz to /content/ml_gallery/ml_py/data/mnist/numbers/MNIST/raw/train-labels-idx1-ubyte.gz\n"
          ],
          "name": "stdout"
        },
        {
          "output_type": "display_data",
          "data": {
            "application/vnd.jupyter.widget-view+json": {
              "model_id": "4a4bc85e778646e3983f818c13ec2c47",
              "version_minor": 0,
              "version_major": 2
            },
            "text/plain": [
              "HBox(children=(FloatProgress(value=1.0, bar_style='info', max=1.0), HTML(value='')))"
            ]
          },
          "metadata": {
            "tags": []
          }
        },
        {
          "output_type": "stream",
          "text": [
            "Extracting /content/ml_gallery/ml_py/data/mnist/numbers/MNIST/raw/train-labels-idx1-ubyte.gz to /content/ml_gallery/ml_py/data/mnist/numbers/MNIST/raw\n",
            "Downloading http://yann.lecun.com/exdb/mnist/t10k-images-idx3-ubyte.gz to /content/ml_gallery/ml_py/data/mnist/numbers/MNIST/raw/t10k-images-idx3-ubyte.gz\n",
            "\n",
            "\n"
          ],
          "name": "stdout"
        },
        {
          "output_type": "display_data",
          "data": {
            "application/vnd.jupyter.widget-view+json": {
              "model_id": "35a494110ce84d65afcea8b445ecad5d",
              "version_minor": 0,
              "version_major": 2
            },
            "text/plain": [
              "HBox(children=(FloatProgress(value=1.0, bar_style='info', max=1.0), HTML(value='')))"
            ]
          },
          "metadata": {
            "tags": []
          }
        },
        {
          "output_type": "stream",
          "text": [
            "Extracting /content/ml_gallery/ml_py/data/mnist/numbers/MNIST/raw/t10k-images-idx3-ubyte.gz to /content/ml_gallery/ml_py/data/mnist/numbers/MNIST/raw\n",
            "Downloading http://yann.lecun.com/exdb/mnist/t10k-labels-idx1-ubyte.gz to /content/ml_gallery/ml_py/data/mnist/numbers/MNIST/raw/t10k-labels-idx1-ubyte.gz\n"
          ],
          "name": "stdout"
        },
        {
          "output_type": "display_data",
          "data": {
            "application/vnd.jupyter.widget-view+json": {
              "model_id": "4675326496cf4f2291bfa35abc051a30",
              "version_minor": 0,
              "version_major": 2
            },
            "text/plain": [
              "HBox(children=(FloatProgress(value=1.0, bar_style='info', max=1.0), HTML(value='')))"
            ]
          },
          "metadata": {
            "tags": []
          }
        },
        {
          "output_type": "stream",
          "text": [
            "Extracting /content/ml_gallery/ml_py/data/mnist/numbers/MNIST/raw/t10k-labels-idx1-ubyte.gz to /content/ml_gallery/ml_py/data/mnist/numbers/MNIST/raw\n",
            "Processing...\n",
            "Done!\n",
            "\n",
            "\n"
          ],
          "name": "stdout"
        }
      ]
    },
    {
      "cell_type": "code",
      "metadata": {
        "id": "FCidsSEL_T9U",
        "colab_type": "code",
        "colab": {}
      },
      "source": [
        "x_train, y_train = aug.get_augmented(dm.x_train, dm.y_train, 10)\n",
        "x_test, y_test = aug.get_augmented(dm.x_test, dm.y_test, 2)"
      ],
      "execution_count": null,
      "outputs": []
    },
    {
      "cell_type": "code",
      "metadata": {
        "id": "GsNoRI-a_Z8m",
        "colab_type": "code",
        "colab": {}
      },
      "source": [
        "x_train = torch.tensor(x_train.reshape(-1, 1, 112, 112)).type('torch.FloatTensor')\n",
        "x_test = torch.tensor(x_test.reshape(-1, 1, 112, 112)).type('torch.FloatTensor')"
      ],
      "execution_count": null,
      "outputs": []
    },
    {
      "cell_type": "code",
      "metadata": {
        "id": "QbZOSOWO_cZ7",
        "colab_type": "code",
        "colab": {
          "base_uri": "https://localhost:8080/",
          "height": 1000
        },
        "outputId": "1d4258ff-e63e-4b76-ebbb-2e50b16d2371"
      },
      "source": [
        "DataManager.plot_num(x_train[0].reshape((112, 112)), y_train[0])\n",
        "y_train[0]"
      ],
      "execution_count": null,
      "outputs": [
        {
          "output_type": "execute_result",
          "data": {
            "text/plain": [
              "[{'class': tensor(9),\n",
              "  'class_one_hot': tensor([0., 0., 0., 0., 0., 0., 0., 0., 0., 1.]),\n",
              "  'cx': 30.0,\n",
              "  'cy': 72.0,\n",
              "  'height': 14,\n",
              "  'width': 14,\n",
              "  'x1': 23,\n",
              "  'x2': 37,\n",
              "  'y1': 65,\n",
              "  'y2': 79},\n",
              " {'class': tensor(3),\n",
              "  'class_one_hot': tensor([0., 0., 0., 1., 0., 0., 0., 0., 0., 0.]),\n",
              "  'cx': 13.5,\n",
              "  'cy': 47.5,\n",
              "  'height': 25,\n",
              "  'width': 25,\n",
              "  'x1': 1,\n",
              "  'x2': 26,\n",
              "  'y1': 35,\n",
              "  'y2': 60},\n",
              " {'class': tensor(1),\n",
              "  'class_one_hot': tensor([0., 1., 0., 0., 0., 0., 0., 0., 0., 0.]),\n",
              "  'cx': 46.0,\n",
              "  'cy': 54.0,\n",
              "  'height': 34,\n",
              "  'width': 34,\n",
              "  'x1': 29,\n",
              "  'x2': 63,\n",
              "  'y1': 37,\n",
              "  'y2': 71},\n",
              " {'class': tensor(8),\n",
              "  'class_one_hot': tensor([0., 0., 0., 0., 0., 0., 0., 0., 1., 0.]),\n",
              "  'cx': 43.5,\n",
              "  'cy': 87.5,\n",
              "  'height': 31,\n",
              "  'width': 31,\n",
              "  'x1': 28,\n",
              "  'x2': 59,\n",
              "  'y1': 72,\n",
              "  'y2': 103},\n",
              " {'class': tensor(8),\n",
              "  'class_one_hot': tensor([0., 0., 0., 0., 0., 0., 0., 0., 1., 0.]),\n",
              "  'cx': 98.5,\n",
              "  'cy': 15.5,\n",
              "  'height': 25,\n",
              "  'width': 25,\n",
              "  'x1': 86,\n",
              "  'x2': 111,\n",
              "  'y1': 3,\n",
              "  'y2': 28},\n",
              " {'class': tensor(3),\n",
              "  'class_one_hot': tensor([0., 0., 0., 1., 0., 0., 0., 0., 0., 0.]),\n",
              "  'cx': 88.0,\n",
              "  'cy': 50.0,\n",
              "  'height': 26,\n",
              "  'width': 26,\n",
              "  'x1': 75,\n",
              "  'x2': 101,\n",
              "  'y1': 37,\n",
              "  'y2': 63},\n",
              " {'class': tensor(4),\n",
              "  'class_one_hot': tensor([0., 0., 0., 0., 1., 0., 0., 0., 0., 0.]),\n",
              "  'cx': 16.5,\n",
              "  'cy': 76.5,\n",
              "  'height': 17,\n",
              "  'width': 17,\n",
              "  'x1': 8,\n",
              "  'x2': 25,\n",
              "  'y1': 68,\n",
              "  'y2': 85}]"
            ]
          },
          "metadata": {
            "tags": []
          },
          "execution_count": 32
        },
        {
          "output_type": "display_data",
          "data": {
            "image/png": "[encoded data removed]",
            "text/plain": [
              "<Figure size 432x288 with 1 Axes>"
            ]
          },
          "metadata": {
            "tags": [],
            "needs_background": "light"
          }
        }
      ]
    },
    {
      "cell_type": "code",
      "metadata": {
        "id": "jI8jVrA5_ecs",
        "colab_type": "code",
        "colab": {}
      },
      "source": [
        "# 14 * 14  = 196 anchor boxes\n",
        "# side of each anchor box = 28\n",
        "\n",
        "n_anchors = 14 * 14\n",
        "\n",
        "anchor_grid_spacing = 8\n",
        "\n",
        "anchor_centers = []\n",
        "for i in range(14):\n",
        "  anchor_row = []\n",
        "  for j in range(14):\n",
        "    anchor_row.append(namedtuple('AnchorCenter', ['x', 'y'])(**{\n",
        "      'y': i * anchor_grid_spacing + anchor_grid_spacing / 2,\n",
        "      'x': j * anchor_grid_spacing + anchor_grid_spacing / 2\n",
        "    }))\n",
        "  anchor_centers.append(anchor_row)"
      ],
      "execution_count": 42,
      "outputs": []
    },
    {
      "cell_type": "code",
      "metadata": {
        "id": "yUIo1fwbJTfi",
        "colab_type": "code",
        "colab": {}
      },
      "source": [
        "def units_to_diff(y):\n",
        "    y_d = []\n",
        "    for i in range(len(y)):\n",
        "      yi_d = []\n",
        "      for j in range(len(y[i])):\n",
        "        cx_d = (y[i][j]['cx'] - anchor_centers[i][j].x) / 112\n",
        "        cy_d = (y[i][j]['cy'] - anchor_centers[i][j].y) / 112\n",
        "        w_d = (y[i][j]['width'] - 28) / 112\n",
        "        yi_d.append((cx_d, cy_d, w_d))\n",
        "      y_d.append(yi_d)\n",
        "    return y_d\n",
        "\n",
        "def diff_to_units(y):\n",
        "    y_units = []\n",
        "    for i in range(len(y)):\n",
        "        cx_d = y[i][0] * 112 + anchor_cx\n",
        "        cy_d = y[i][1] * 112 + anchor_cy\n",
        "        wd = y[i][2] * 112 + anchor_w\n",
        "        y_units.append((cx_d, cy_d, wd))\n",
        "    return torch.tensor(y_units)"
      ],
      "execution_count": null,
      "outputs": []
    },
    {
      "cell_type": "code",
      "metadata": {
        "id": "LOQ4ZA7aJYEo",
        "colab_type": "code",
        "colab": {}
      },
      "source": [
        "y_d = units_to_diff(y_train)\n",
        "y_d_test = units_to_diff(y_test)"
      ],
      "execution_count": null,
      "outputs": []
    },
    {
      "cell_type": "code",
      "metadata": {
        "id": "IIypH7Q2bUwb",
        "colab_type": "code",
        "colab": {
          "base_uri": "https://localhost:8080/",
          "height": 170
        },
        "outputId": "e4f38f47-9992-4e12-d473-b14eb2a90514"
      },
      "source": [
        "y_d_test[0]"
      ],
      "execution_count": null,
      "outputs": [
        {
          "output_type": "execute_result",
          "data": {
            "text/plain": [
              "[(0.6205357142857143, 0.59375, -0.08035714285714286),\n",
              " (0.18303571428571427, 0.05803571428571429, -0.0625),\n",
              " (0.7276785714285714, 0.32589285714285715, -0.08035714285714286),\n",
              " (0.14285714285714285, 0.36607142857142855, 0.14285714285714285),\n",
              " (0.33035714285714285, 0.7857142857142857, -0.017857142857142856),\n",
              " (-0.24553571428571427, 0.6830357142857143, 0.008928571428571428),\n",
              " (0.32142857142857145, 0.15178571428571427, -0.05357142857142857),\n",
              " (-0.3705357142857143, 0.15625, -0.0625),\n",
              " (-0.19196428571428573, 0.6473214285714286, 0.044642857142857144)]"
            ]
          },
          "metadata": {
            "tags": []
          },
          "execution_count": 40
        }
      ]
    },
    {
      "cell_type": "code",
      "metadata": {
        "id": "8rH8nv0gb7MK",
        "colab_type": "code",
        "colab": {}
      },
      "source": [
        "class BoxPredictor(torch.nn.Module):\n",
        "  def __init__(self):\n",
        "    super().__init__()\n",
        "    self.linear1 = torch.nn.Linear(4096, 1024)\n",
        "    self.linear2 = torch.nn.Linear(1024, 3 * n_anchors)\n",
        "\n",
        "  def forward(self, x):\n",
        "    x = relu(self.linear1(x))\n",
        "    x = torch.tanh(self.linear2(x))\n",
        "    return x\n",
        "\n",
        "\n",
        "class ConfidencePredictor(torch.nn.Module):\n",
        "  def __init__(self):\n",
        "    super().__init__()\n",
        "    self.linear1 = torch.nn.Linear(4096, 1024)\n",
        "    self.linear2 = torch.nn.Linear(1024, 2 * n_anchors)\n",
        "\n",
        "  def forward(self, x):\n",
        "    x = relu(self.linear1(x))\n",
        "    x = torch.nn.functional.softmax(self.linear2(x).reshape((-1, n_anchors, 2)), 2)\n",
        "    return x\n",
        "\n",
        "\n",
        "class DetectorV1 (torch.nn.Module):\n",
        "    def __init__(self):\n",
        "        super().__init__()\n",
        "        self.conv1 = torch.nn.Conv2d(1, 32, 3, padding=1)  # 112x112\n",
        "        self.conv2 = torch.nn.Conv2d(32, 64, 3, stride=2, padding=1)  # 56x56\n",
        "        self.conv3 = torch.nn.Conv2d(64, 128, 3, stride=2, padding=1)  # 28x28\n",
        "        self.conv4 = torch.nn.Conv2d(128, 256, 3, stride=2, padding=1)  # 14x14\n",
        "        self.conv5 = torch.nn.Conv2d(256, 512, 3, stride=2, padding=1)  # 7x7\n",
        "        self.linear1 = torch.nn.Linear(25088, 4096)\n",
        "        self.box_predictor = BoxPredictor()\n",
        "        self.confidence_predictor = ConfidencePredictor()\n",
        "\n",
        "    def forward(self, x):\n",
        "        x = relu(self.conv1(x))  # 112\n",
        "        x = relu(self.conv2(x))  # 56\n",
        "        x = relu(self.conv3(x))  # 28\n",
        "        x = relu(self.conv4(x))  # 14\n",
        "        x = relu(self.conv5(x))  # 7\n",
        "        x = torch.flatten(x, 1)\n",
        "        x = relu(self.linear1(x))\n",
        "        boxes = self.box_predictor(x)\n",
        "        confidences = self.confidence_predictor(x)\n",
        "        return boxes, confidences\n",
        "\n",
        "model = DetectorV1().to(device)\n",
        "optimizer = torch.optim.Adam(model.parameters())"
      ],
      "execution_count": 44,
      "outputs": []
    },
    {
      "cell_type": "markdown",
      "metadata": {
        "id": "Q1hyZNulvcq_",
        "colab_type": "text"
      },
      "source": [
        "Steps:\n",
        " - get the predictions.\n",
        " - Find the anchors which have >0.1 IoU -> +ve anchors\n",
        " - Find the matching bounding box for each +ve anchor\n",
        " - All +ve anchors are high confidence, rest are low.\n",
        " - What is the loss for -ve anchors?"
      ]
    },
    {
      "cell_type": "code",
      "metadata": {
        "id": "SGl7qtS3u92g",
        "colab_type": "code",
        "colab": {}
      },
      "source": [
        ""
      ],
      "execution_count": 45,
      "outputs": []
    },
    {
      "cell_type": "code",
      "metadata": {
        "id": "A0CKF8vFvNe3",
        "colab_type": "code",
        "colab": {}
      },
      "source": [
        ""
      ],
      "execution_count": null,
      "outputs": []
    }
  ]
}