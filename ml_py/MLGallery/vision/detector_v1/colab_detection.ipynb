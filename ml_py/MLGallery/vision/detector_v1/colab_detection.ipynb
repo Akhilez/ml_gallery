{
  "nbformat": 4,
  "nbformat_minor": 0,
  "metadata": {
    "colab": {
      "name": "mnist_detection.ipynb",
      "provenance": [],
      "collapsed_sections": []
    },
    "kernelspec": {
      "name": "python3",
      "display_name": "Python 3"
    },
    "widgets": {
      "application/vnd.jupyter.widget-state+json": {
        "903cb32cd222425fa12630a08a2ddb8a": {
          "model_module": "@jupyter-widgets/controls",
          "model_name": "HBoxModel",
          "state": {
            "_view_name": "HBoxView",
            "_dom_classes": [],
            "_model_name": "HBoxModel",
            "_view_module": "@jupyter-widgets/controls",
            "_model_module_version": "1.5.0",
            "_view_count": null,
            "_view_module_version": "1.5.0",
            "box_style": "",
            "layout": "IPY_MODEL_5a919785eafe4652ab86e2b8422aa244",
            "_model_module": "@jupyter-widgets/controls",
            "children": [
              "IPY_MODEL_2c1b8f2ec3044cf29ce7ccbf7dcc7e68",
              "IPY_MODEL_943451636984430bbb0268cac4e9f05f"
            ]
          }
        },
        "5a919785eafe4652ab86e2b8422aa244": {
          "model_module": "@jupyter-widgets/base",
          "model_name": "LayoutModel",
          "state": {
            "_view_name": "LayoutView",
            "grid_template_rows": null,
            "right": null,
            "justify_content": null,
            "_view_module": "@jupyter-widgets/base",
            "overflow": null,
            "_model_module_version": "1.2.0",
            "_view_count": null,
            "flex_flow": null,
            "width": null,
            "min_width": null,
            "border": null,
            "align_items": null,
            "bottom": null,
            "_model_module": "@jupyter-widgets/base",
            "top": null,
            "grid_column": null,
            "overflow_y": null,
            "overflow_x": null,
            "grid_auto_flow": null,
            "grid_area": null,
            "grid_template_columns": null,
            "flex": null,
            "_model_name": "LayoutModel",
            "justify_items": null,
            "grid_row": null,
            "max_height": null,
            "align_content": null,
            "visibility": null,
            "align_self": null,
            "height": null,
            "min_height": null,
            "padding": null,
            "grid_auto_rows": null,
            "grid_gap": null,
            "max_width": null,
            "order": null,
            "_view_module_version": "1.2.0",
            "grid_template_areas": null,
            "object_position": null,
            "object_fit": null,
            "grid_auto_columns": null,
            "margin": null,
            "display": null,
            "left": null
          }
        },
        "2c1b8f2ec3044cf29ce7ccbf7dcc7e68": {
          "model_module": "@jupyter-widgets/controls",
          "model_name": "FloatProgressModel",
          "state": {
            "_view_name": "ProgressView",
            "style": "IPY_MODEL_61867134df364fff80a31114bed0eaaa",
            "_dom_classes": [],
            "description": "",
            "_model_name": "FloatProgressModel",
            "bar_style": "success",
            "max": 1,
            "_view_module": "@jupyter-widgets/controls",
            "_model_module_version": "1.5.0",
            "value": 1,
            "_view_count": null,
            "_view_module_version": "1.5.0",
            "orientation": "horizontal",
            "min": 0,
            "description_tooltip": null,
            "_model_module": "@jupyter-widgets/controls",
            "layout": "IPY_MODEL_71ee3d8e7a6b4cb9bd18f3f54a929c76"
          }
        },
        "943451636984430bbb0268cac4e9f05f": {
          "model_module": "@jupyter-widgets/controls",
          "model_name": "HTMLModel",
          "state": {
            "_view_name": "HTMLView",
            "style": "IPY_MODEL_bc7e4b84c52b4ef192f849da29b6ab7a",
            "_dom_classes": [],
            "description": "",
            "_model_name": "HTMLModel",
            "placeholder": "​",
            "_view_module": "@jupyter-widgets/controls",
            "_model_module_version": "1.5.0",
            "value": " 9920512/? [00:02&lt;00:00, 3406432.67it/s]",
            "_view_count": null,
            "_view_module_version": "1.5.0",
            "description_tooltip": null,
            "_model_module": "@jupyter-widgets/controls",
            "layout": "IPY_MODEL_e4dc581011f8402f9d52269c9b190bc0"
          }
        },
        "61867134df364fff80a31114bed0eaaa": {
          "model_module": "@jupyter-widgets/controls",
          "model_name": "ProgressStyleModel",
          "state": {
            "_view_name": "StyleView",
            "_model_name": "ProgressStyleModel",
            "description_width": "initial",
            "_view_module": "@jupyter-widgets/base",
            "_model_module_version": "1.5.0",
            "_view_count": null,
            "_view_module_version": "1.2.0",
            "bar_color": null,
            "_model_module": "@jupyter-widgets/controls"
          }
        },
        "71ee3d8e7a6b4cb9bd18f3f54a929c76": {
          "model_module": "@jupyter-widgets/base",
          "model_name": "LayoutModel",
          "state": {
            "_view_name": "LayoutView",
            "grid_template_rows": null,
            "right": null,
            "justify_content": null,
            "_view_module": "@jupyter-widgets/base",
            "overflow": null,
            "_model_module_version": "1.2.0",
            "_view_count": null,
            "flex_flow": null,
            "width": null,
            "min_width": null,
            "border": null,
            "align_items": null,
            "bottom": null,
            "_model_module": "@jupyter-widgets/base",
            "top": null,
            "grid_column": null,
            "overflow_y": null,
            "overflow_x": null,
            "grid_auto_flow": null,
            "grid_area": null,
            "grid_template_columns": null,
            "flex": null,
            "_model_name": "LayoutModel",
            "justify_items": null,
            "grid_row": null,
            "max_height": null,
            "align_content": null,
            "visibility": null,
            "align_self": null,
            "height": null,
            "min_height": null,
            "padding": null,
            "grid_auto_rows": null,
            "grid_gap": null,
            "max_width": null,
            "order": null,
            "_view_module_version": "1.2.0",
            "grid_template_areas": null,
            "object_position": null,
            "object_fit": null,
            "grid_auto_columns": null,
            "margin": null,
            "display": null,
            "left": null
          }
        },
        "bc7e4b84c52b4ef192f849da29b6ab7a": {
          "model_module": "@jupyter-widgets/controls",
          "model_name": "DescriptionStyleModel",
          "state": {
            "_view_name": "StyleView",
            "_model_name": "DescriptionStyleModel",
            "description_width": "",
            "_view_module": "@jupyter-widgets/base",
            "_model_module_version": "1.5.0",
            "_view_count": null,
            "_view_module_version": "1.2.0",
            "_model_module": "@jupyter-widgets/controls"
          }
        },
        "e4dc581011f8402f9d52269c9b190bc0": {
          "model_module": "@jupyter-widgets/base",
          "model_name": "LayoutModel",
          "state": {
            "_view_name": "LayoutView",
            "grid_template_rows": null,
            "right": null,
            "justify_content": null,
            "_view_module": "@jupyter-widgets/base",
            "overflow": null,
            "_model_module_version": "1.2.0",
            "_view_count": null,
            "flex_flow": null,
            "width": null,
            "min_width": null,
            "border": null,
            "align_items": null,
            "bottom": null,
            "_model_module": "@jupyter-widgets/base",
            "top": null,
            "grid_column": null,
            "overflow_y": null,
            "overflow_x": null,
            "grid_auto_flow": null,
            "grid_area": null,
            "grid_template_columns": null,
            "flex": null,
            "_model_name": "LayoutModel",
            "justify_items": null,
            "grid_row": null,
            "max_height": null,
            "align_content": null,
            "visibility": null,
            "align_self": null,
            "height": null,
            "min_height": null,
            "padding": null,
            "grid_auto_rows": null,
            "grid_gap": null,
            "max_width": null,
            "order": null,
            "_view_module_version": "1.2.0",
            "grid_template_areas": null,
            "object_position": null,
            "object_fit": null,
            "grid_auto_columns": null,
            "margin": null,
            "display": null,
            "left": null
          }
        },
        "916f570003374037805fec63436d599c": {
          "model_module": "@jupyter-widgets/controls",
          "model_name": "HBoxModel",
          "state": {
            "_view_name": "HBoxView",
            "_dom_classes": [],
            "_model_name": "HBoxModel",
            "_view_module": "@jupyter-widgets/controls",
            "_model_module_version": "1.5.0",
            "_view_count": null,
            "_view_module_version": "1.5.0",
            "box_style": "",
            "layout": "IPY_MODEL_6ca4a53e87ff4738bfdb88457af836ca",
            "_model_module": "@jupyter-widgets/controls",
            "children": [
              "IPY_MODEL_5f86398fe3be41f896f0c7fbb79d44f3",
              "IPY_MODEL_678cb98788314499ab48d0026b926b6d"
            ]
          }
        },
        "6ca4a53e87ff4738bfdb88457af836ca": {
          "model_module": "@jupyter-widgets/base",
          "model_name": "LayoutModel",
          "state": {
            "_view_name": "LayoutView",
            "grid_template_rows": null,
            "right": null,
            "justify_content": null,
            "_view_module": "@jupyter-widgets/base",
            "overflow": null,
            "_model_module_version": "1.2.0",
            "_view_count": null,
            "flex_flow": null,
            "width": null,
            "min_width": null,
            "border": null,
            "align_items": null,
            "bottom": null,
            "_model_module": "@jupyter-widgets/base",
            "top": null,
            "grid_column": null,
            "overflow_y": null,
            "overflow_x": null,
            "grid_auto_flow": null,
            "grid_area": null,
            "grid_template_columns": null,
            "flex": null,
            "_model_name": "LayoutModel",
            "justify_items": null,
            "grid_row": null,
            "max_height": null,
            "align_content": null,
            "visibility": null,
            "align_self": null,
            "height": null,
            "min_height": null,
            "padding": null,
            "grid_auto_rows": null,
            "grid_gap": null,
            "max_width": null,
            "order": null,
            "_view_module_version": "1.2.0",
            "grid_template_areas": null,
            "object_position": null,
            "object_fit": null,
            "grid_auto_columns": null,
            "margin": null,
            "display": null,
            "left": null
          }
        },
        "5f86398fe3be41f896f0c7fbb79d44f3": {
          "model_module": "@jupyter-widgets/controls",
          "model_name": "FloatProgressModel",
          "state": {
            "_view_name": "ProgressView",
            "style": "IPY_MODEL_f1b1a0ded34b4b63a0bef5ce648a79d1",
            "_dom_classes": [],
            "description": "",
            "_model_name": "FloatProgressModel",
            "bar_style": "success",
            "max": 1,
            "_view_module": "@jupyter-widgets/controls",
            "_model_module_version": "1.5.0",
            "value": 1,
            "_view_count": null,
            "_view_module_version": "1.5.0",
            "orientation": "horizontal",
            "min": 0,
            "description_tooltip": null,
            "_model_module": "@jupyter-widgets/controls",
            "layout": "IPY_MODEL_2a7f0bbbfb984e05bd0e1f6ed6dd63fc"
          }
        },
        "678cb98788314499ab48d0026b926b6d": {
          "model_module": "@jupyter-widgets/controls",
          "model_name": "HTMLModel",
          "state": {
            "_view_name": "HTMLView",
            "style": "IPY_MODEL_b2fb94047c974c848417c47c6f946ee8",
            "_dom_classes": [],
            "description": "",
            "_model_name": "HTMLModel",
            "placeholder": "​",
            "_view_module": "@jupyter-widgets/controls",
            "_model_module_version": "1.5.0",
            "value": " 32768/? [00:01&lt;00:00, 25883.37it/s]",
            "_view_count": null,
            "_view_module_version": "1.5.0",
            "description_tooltip": null,
            "_model_module": "@jupyter-widgets/controls",
            "layout": "IPY_MODEL_93f43515acb145eaadd8f78da3cd35a6"
          }
        },
        "f1b1a0ded34b4b63a0bef5ce648a79d1": {
          "model_module": "@jupyter-widgets/controls",
          "model_name": "ProgressStyleModel",
          "state": {
            "_view_name": "StyleView",
            "_model_name": "ProgressStyleModel",
            "description_width": "initial",
            "_view_module": "@jupyter-widgets/base",
            "_model_module_version": "1.5.0",
            "_view_count": null,
            "_view_module_version": "1.2.0",
            "bar_color": null,
            "_model_module": "@jupyter-widgets/controls"
          }
        },
        "2a7f0bbbfb984e05bd0e1f6ed6dd63fc": {
          "model_module": "@jupyter-widgets/base",
          "model_name": "LayoutModel",
          "state": {
            "_view_name": "LayoutView",
            "grid_template_rows": null,
            "right": null,
            "justify_content": null,
            "_view_module": "@jupyter-widgets/base",
            "overflow": null,
            "_model_module_version": "1.2.0",
            "_view_count": null,
            "flex_flow": null,
            "width": null,
            "min_width": null,
            "border": null,
            "align_items": null,
            "bottom": null,
            "_model_module": "@jupyter-widgets/base",
            "top": null,
            "grid_column": null,
            "overflow_y": null,
            "overflow_x": null,
            "grid_auto_flow": null,
            "grid_area": null,
            "grid_template_columns": null,
            "flex": null,
            "_model_name": "LayoutModel",
            "justify_items": null,
            "grid_row": null,
            "max_height": null,
            "align_content": null,
            "visibility": null,
            "align_self": null,
            "height": null,
            "min_height": null,
            "padding": null,
            "grid_auto_rows": null,
            "grid_gap": null,
            "max_width": null,
            "order": null,
            "_view_module_version": "1.2.0",
            "grid_template_areas": null,
            "object_position": null,
            "object_fit": null,
            "grid_auto_columns": null,
            "margin": null,
            "display": null,
            "left": null
          }
        },
        "b2fb94047c974c848417c47c6f946ee8": {
          "model_module": "@jupyter-widgets/controls",
          "model_name": "DescriptionStyleModel",
          "state": {
            "_view_name": "StyleView",
            "_model_name": "DescriptionStyleModel",
            "description_width": "",
            "_view_module": "@jupyter-widgets/base",
            "_model_module_version": "1.5.0",
            "_view_count": null,
            "_view_module_version": "1.2.0",
            "_model_module": "@jupyter-widgets/controls"
          }
        },
        "93f43515acb145eaadd8f78da3cd35a6": {
          "model_module": "@jupyter-widgets/base",
          "model_name": "LayoutModel",
          "state": {
            "_view_name": "LayoutView",
            "grid_template_rows": null,
            "right": null,
            "justify_content": null,
            "_view_module": "@jupyter-widgets/base",
            "overflow": null,
            "_model_module_version": "1.2.0",
            "_view_count": null,
            "flex_flow": null,
            "width": null,
            "min_width": null,
            "border": null,
            "align_items": null,
            "bottom": null,
            "_model_module": "@jupyter-widgets/base",
            "top": null,
            "grid_column": null,
            "overflow_y": null,
            "overflow_x": null,
            "grid_auto_flow": null,
            "grid_area": null,
            "grid_template_columns": null,
            "flex": null,
            "_model_name": "LayoutModel",
            "justify_items": null,
            "grid_row": null,
            "max_height": null,
            "align_content": null,
            "visibility": null,
            "align_self": null,
            "height": null,
            "min_height": null,
            "padding": null,
            "grid_auto_rows": null,
            "grid_gap": null,
            "max_width": null,
            "order": null,
            "_view_module_version": "1.2.0",
            "grid_template_areas": null,
            "object_position": null,
            "object_fit": null,
            "grid_auto_columns": null,
            "margin": null,
            "display": null,
            "left": null
          }
        },
        "dbc64508c1b64eeda0b4e992caf894e7": {
          "model_module": "@jupyter-widgets/controls",
          "model_name": "HBoxModel",
          "state": {
            "_view_name": "HBoxView",
            "_dom_classes": [],
            "_model_name": "HBoxModel",
            "_view_module": "@jupyter-widgets/controls",
            "_model_module_version": "1.5.0",
            "_view_count": null,
            "_view_module_version": "1.5.0",
            "box_style": "",
            "layout": "IPY_MODEL_1934f6407adf4b2c81e66f3151fc0c33",
            "_model_module": "@jupyter-widgets/controls",
            "children": [
              "IPY_MODEL_9896ba65c09945f995bcb2b901972d0e",
              "IPY_MODEL_5a1c055c5ddd485fafb5196479968adf"
            ]
          }
        },
        "1934f6407adf4b2c81e66f3151fc0c33": {
          "model_module": "@jupyter-widgets/base",
          "model_name": "LayoutModel",
          "state": {
            "_view_name": "LayoutView",
            "grid_template_rows": null,
            "right": null,
            "justify_content": null,
            "_view_module": "@jupyter-widgets/base",
            "overflow": null,
            "_model_module_version": "1.2.0",
            "_view_count": null,
            "flex_flow": null,
            "width": null,
            "min_width": null,
            "border": null,
            "align_items": null,
            "bottom": null,
            "_model_module": "@jupyter-widgets/base",
            "top": null,
            "grid_column": null,
            "overflow_y": null,
            "overflow_x": null,
            "grid_auto_flow": null,
            "grid_area": null,
            "grid_template_columns": null,
            "flex": null,
            "_model_name": "LayoutModel",
            "justify_items": null,
            "grid_row": null,
            "max_height": null,
            "align_content": null,
            "visibility": null,
            "align_self": null,
            "height": null,
            "min_height": null,
            "padding": null,
            "grid_auto_rows": null,
            "grid_gap": null,
            "max_width": null,
            "order": null,
            "_view_module_version": "1.2.0",
            "grid_template_areas": null,
            "object_position": null,
            "object_fit": null,
            "grid_auto_columns": null,
            "margin": null,
            "display": null,
            "left": null
          }
        },
        "9896ba65c09945f995bcb2b901972d0e": {
          "model_module": "@jupyter-widgets/controls",
          "model_name": "FloatProgressModel",
          "state": {
            "_view_name": "ProgressView",
            "style": "IPY_MODEL_51faa2ad961f45efa8770c7bdf25761f",
            "_dom_classes": [],
            "description": "",
            "_model_name": "FloatProgressModel",
            "bar_style": "success",
            "max": 1,
            "_view_module": "@jupyter-widgets/controls",
            "_model_module_version": "1.5.0",
            "value": 1,
            "_view_count": null,
            "_view_module_version": "1.5.0",
            "orientation": "horizontal",
            "min": 0,
            "description_tooltip": null,
            "_model_module": "@jupyter-widgets/controls",
            "layout": "IPY_MODEL_d21071d787e04aa0ae8dd4d625a5fd41"
          }
        },
        "5a1c055c5ddd485fafb5196479968adf": {
          "model_module": "@jupyter-widgets/controls",
          "model_name": "HTMLModel",
          "state": {
            "_view_name": "HTMLView",
            "style": "IPY_MODEL_f79465c092904b81ac3f6af6183c6b96",
            "_dom_classes": [],
            "description": "",
            "_model_name": "HTMLModel",
            "placeholder": "​",
            "_view_module": "@jupyter-widgets/controls",
            "_model_module_version": "1.5.0",
            "value": " 1654784/? [00:01&lt;00:00, 1646203.09it/s]",
            "_view_count": null,
            "_view_module_version": "1.5.0",
            "description_tooltip": null,
            "_model_module": "@jupyter-widgets/controls",
            "layout": "IPY_MODEL_885cbbbd3c0d4ae8850e6272728c9e62"
          }
        },
        "51faa2ad961f45efa8770c7bdf25761f": {
          "model_module": "@jupyter-widgets/controls",
          "model_name": "ProgressStyleModel",
          "state": {
            "_view_name": "StyleView",
            "_model_name": "ProgressStyleModel",
            "description_width": "initial",
            "_view_module": "@jupyter-widgets/base",
            "_model_module_version": "1.5.0",
            "_view_count": null,
            "_view_module_version": "1.2.0",
            "bar_color": null,
            "_model_module": "@jupyter-widgets/controls"
          }
        },
        "d21071d787e04aa0ae8dd4d625a5fd41": {
          "model_module": "@jupyter-widgets/base",
          "model_name": "LayoutModel",
          "state": {
            "_view_name": "LayoutView",
            "grid_template_rows": null,
            "right": null,
            "justify_content": null,
            "_view_module": "@jupyter-widgets/base",
            "overflow": null,
            "_model_module_version": "1.2.0",
            "_view_count": null,
            "flex_flow": null,
            "width": null,
            "min_width": null,
            "border": null,
            "align_items": null,
            "bottom": null,
            "_model_module": "@jupyter-widgets/base",
            "top": null,
            "grid_column": null,
            "overflow_y": null,
            "overflow_x": null,
            "grid_auto_flow": null,
            "grid_area": null,
            "grid_template_columns": null,
            "flex": null,
            "_model_name": "LayoutModel",
            "justify_items": null,
            "grid_row": null,
            "max_height": null,
            "align_content": null,
            "visibility": null,
            "align_self": null,
            "height": null,
            "min_height": null,
            "padding": null,
            "grid_auto_rows": null,
            "grid_gap": null,
            "max_width": null,
            "order": null,
            "_view_module_version": "1.2.0",
            "grid_template_areas": null,
            "object_position": null,
            "object_fit": null,
            "grid_auto_columns": null,
            "margin": null,
            "display": null,
            "left": null
          }
        },
        "f79465c092904b81ac3f6af6183c6b96": {
          "model_module": "@jupyter-widgets/controls",
          "model_name": "DescriptionStyleModel",
          "state": {
            "_view_name": "StyleView",
            "_model_name": "DescriptionStyleModel",
            "description_width": "",
            "_view_module": "@jupyter-widgets/base",
            "_model_module_version": "1.5.0",
            "_view_count": null,
            "_view_module_version": "1.2.0",
            "_model_module": "@jupyter-widgets/controls"
          }
        },
        "885cbbbd3c0d4ae8850e6272728c9e62": {
          "model_module": "@jupyter-widgets/base",
          "model_name": "LayoutModel",
          "state": {
            "_view_name": "LayoutView",
            "grid_template_rows": null,
            "right": null,
            "justify_content": null,
            "_view_module": "@jupyter-widgets/base",
            "overflow": null,
            "_model_module_version": "1.2.0",
            "_view_count": null,
            "flex_flow": null,
            "width": null,
            "min_width": null,
            "border": null,
            "align_items": null,
            "bottom": null,
            "_model_module": "@jupyter-widgets/base",
            "top": null,
            "grid_column": null,
            "overflow_y": null,
            "overflow_x": null,
            "grid_auto_flow": null,
            "grid_area": null,
            "grid_template_columns": null,
            "flex": null,
            "_model_name": "LayoutModel",
            "justify_items": null,
            "grid_row": null,
            "max_height": null,
            "align_content": null,
            "visibility": null,
            "align_self": null,
            "height": null,
            "min_height": null,
            "padding": null,
            "grid_auto_rows": null,
            "grid_gap": null,
            "max_width": null,
            "order": null,
            "_view_module_version": "1.2.0",
            "grid_template_areas": null,
            "object_position": null,
            "object_fit": null,
            "grid_auto_columns": null,
            "margin": null,
            "display": null,
            "left": null
          }
        },
        "24a876c380ac40f9b182ae3066b76f1b": {
          "model_module": "@jupyter-widgets/controls",
          "model_name": "HBoxModel",
          "state": {
            "_view_name": "HBoxView",
            "_dom_classes": [],
            "_model_name": "HBoxModel",
            "_view_module": "@jupyter-widgets/controls",
            "_model_module_version": "1.5.0",
            "_view_count": null,
            "_view_module_version": "1.5.0",
            "box_style": "",
            "layout": "IPY_MODEL_44d5014153dd4333a93afa482d5dbab5",
            "_model_module": "@jupyter-widgets/controls",
            "children": [
              "IPY_MODEL_aad8c38baf6847169479bb94a75ab55d",
              "IPY_MODEL_ecd0dfa8b260400aa8cbb0e1136bd0e8"
            ]
          }
        },
        "44d5014153dd4333a93afa482d5dbab5": {
          "model_module": "@jupyter-widgets/base",
          "model_name": "LayoutModel",
          "state": {
            "_view_name": "LayoutView",
            "grid_template_rows": null,
            "right": null,
            "justify_content": null,
            "_view_module": "@jupyter-widgets/base",
            "overflow": null,
            "_model_module_version": "1.2.0",
            "_view_count": null,
            "flex_flow": null,
            "width": null,
            "min_width": null,
            "border": null,
            "align_items": null,
            "bottom": null,
            "_model_module": "@jupyter-widgets/base",
            "top": null,
            "grid_column": null,
            "overflow_y": null,
            "overflow_x": null,
            "grid_auto_flow": null,
            "grid_area": null,
            "grid_template_columns": null,
            "flex": null,
            "_model_name": "LayoutModel",
            "justify_items": null,
            "grid_row": null,
            "max_height": null,
            "align_content": null,
            "visibility": null,
            "align_self": null,
            "height": null,
            "min_height": null,
            "padding": null,
            "grid_auto_rows": null,
            "grid_gap": null,
            "max_width": null,
            "order": null,
            "_view_module_version": "1.2.0",
            "grid_template_areas": null,
            "object_position": null,
            "object_fit": null,
            "grid_auto_columns": null,
            "margin": null,
            "display": null,
            "left": null
          }
        },
        "aad8c38baf6847169479bb94a75ab55d": {
          "model_module": "@jupyter-widgets/controls",
          "model_name": "FloatProgressModel",
          "state": {
            "_view_name": "ProgressView",
            "style": "IPY_MODEL_4f11525ae479413e9b6aa17006b57028",
            "_dom_classes": [],
            "description": "",
            "_model_name": "FloatProgressModel",
            "bar_style": "success",
            "max": 1,
            "_view_module": "@jupyter-widgets/controls",
            "_model_module_version": "1.5.0",
            "value": 1,
            "_view_count": null,
            "_view_module_version": "1.5.0",
            "orientation": "horizontal",
            "min": 0,
            "description_tooltip": null,
            "_model_module": "@jupyter-widgets/controls",
            "layout": "IPY_MODEL_b1722ce8a6c348d1b7a5916ddd851bc1"
          }
        },
        "ecd0dfa8b260400aa8cbb0e1136bd0e8": {
          "model_module": "@jupyter-widgets/controls",
          "model_name": "HTMLModel",
          "state": {
            "_view_name": "HTMLView",
            "style": "IPY_MODEL_8ba0d12e14e947308d1864d9d92a35ab",
            "_dom_classes": [],
            "description": "",
            "_model_name": "HTMLModel",
            "placeholder": "​",
            "_view_module": "@jupyter-widgets/controls",
            "_model_module_version": "1.5.0",
            "value": " 8192/? [00:00&lt;00:00, 26428.66it/s]",
            "_view_count": null,
            "_view_module_version": "1.5.0",
            "description_tooltip": null,
            "_model_module": "@jupyter-widgets/controls",
            "layout": "IPY_MODEL_8f97fe203ef245f38b329430304210b5"
          }
        },
        "4f11525ae479413e9b6aa17006b57028": {
          "model_module": "@jupyter-widgets/controls",
          "model_name": "ProgressStyleModel",
          "state": {
            "_view_name": "StyleView",
            "_model_name": "ProgressStyleModel",
            "description_width": "initial",
            "_view_module": "@jupyter-widgets/base",
            "_model_module_version": "1.5.0",
            "_view_count": null,
            "_view_module_version": "1.2.0",
            "bar_color": null,
            "_model_module": "@jupyter-widgets/controls"
          }
        },
        "b1722ce8a6c348d1b7a5916ddd851bc1": {
          "model_module": "@jupyter-widgets/base",
          "model_name": "LayoutModel",
          "state": {
            "_view_name": "LayoutView",
            "grid_template_rows": null,
            "right": null,
            "justify_content": null,
            "_view_module": "@jupyter-widgets/base",
            "overflow": null,
            "_model_module_version": "1.2.0",
            "_view_count": null,
            "flex_flow": null,
            "width": null,
            "min_width": null,
            "border": null,
            "align_items": null,
            "bottom": null,
            "_model_module": "@jupyter-widgets/base",
            "top": null,
            "grid_column": null,
            "overflow_y": null,
            "overflow_x": null,
            "grid_auto_flow": null,
            "grid_area": null,
            "grid_template_columns": null,
            "flex": null,
            "_model_name": "LayoutModel",
            "justify_items": null,
            "grid_row": null,
            "max_height": null,
            "align_content": null,
            "visibility": null,
            "align_self": null,
            "height": null,
            "min_height": null,
            "padding": null,
            "grid_auto_rows": null,
            "grid_gap": null,
            "max_width": null,
            "order": null,
            "_view_module_version": "1.2.0",
            "grid_template_areas": null,
            "object_position": null,
            "object_fit": null,
            "grid_auto_columns": null,
            "margin": null,
            "display": null,
            "left": null
          }
        },
        "8ba0d12e14e947308d1864d9d92a35ab": {
          "model_module": "@jupyter-widgets/controls",
          "model_name": "DescriptionStyleModel",
          "state": {
            "_view_name": "StyleView",
            "_model_name": "DescriptionStyleModel",
            "description_width": "",
            "_view_module": "@jupyter-widgets/base",
            "_model_module_version": "1.5.0",
            "_view_count": null,
            "_view_module_version": "1.2.0",
            "_model_module": "@jupyter-widgets/controls"
          }
        },
        "8f97fe203ef245f38b329430304210b5": {
          "model_module": "@jupyter-widgets/base",
          "model_name": "LayoutModel",
          "state": {
            "_view_name": "LayoutView",
            "grid_template_rows": null,
            "right": null,
            "justify_content": null,
            "_view_module": "@jupyter-widgets/base",
            "overflow": null,
            "_model_module_version": "1.2.0",
            "_view_count": null,
            "flex_flow": null,
            "width": null,
            "min_width": null,
            "border": null,
            "align_items": null,
            "bottom": null,
            "_model_module": "@jupyter-widgets/base",
            "top": null,
            "grid_column": null,
            "overflow_y": null,
            "overflow_x": null,
            "grid_auto_flow": null,
            "grid_area": null,
            "grid_template_columns": null,
            "flex": null,
            "_model_name": "LayoutModel",
            "justify_items": null,
            "grid_row": null,
            "max_height": null,
            "align_content": null,
            "visibility": null,
            "align_self": null,
            "height": null,
            "min_height": null,
            "padding": null,
            "grid_auto_rows": null,
            "grid_gap": null,
            "max_width": null,
            "order": null,
            "_view_module_version": "1.2.0",
            "grid_template_areas": null,
            "object_position": null,
            "object_fit": null,
            "grid_auto_columns": null,
            "margin": null,
            "display": null,
            "left": null
          }
        }
      }
    },
    "accelerator": "GPU"
  },
  "cells": [
    {
      "cell_type": "code",
      "metadata": {
        "id": "LkRNO3wP-DVR",
        "colab_type": "code",
        "colab": {
          "base_uri": "https://localhost:8080/",
          "height": 153
        },
        "outputId": "ead906d2-057f-4c64-e611-cd6c986fbe8a"
      },
      "source": [
        "!rm -rf *\n",
        "!git config --global user.name \"Akhilez\"\n",
        "!git config --global user.email \"akhild18@yahoo.com\"\n",
        "!git clone https://github.com/Akhilez/ml_gallery.git\n",
        "%cd ml_gallery/ml_py"
      ],
      "execution_count": 1,
      "outputs": [
        {
          "output_type": "stream",
          "text": [
            "Cloning into 'ml_gallery'...\n",
            "remote: Enumerating objects: 598, done.\u001b[K\n",
            "remote: Counting objects: 100% (598/598), done.\u001b[K\n",
            "remote: Compressing objects: 100% (411/411), done.\u001b[K\n",
            "remote: Total 2125 (delta 367), reused 367 (delta 173), pack-reused 1527\u001b[K\n",
            "Receiving objects: 100% (2125/2125), 11.84 MiB | 20.65 MiB/s, done.\n",
            "Resolving deltas: 100% (1305/1305), done.\n",
            "/content/ml_gallery/ml_py\n"
          ],
          "name": "stdout"
        }
      ]
    },
    {
      "cell_type": "code",
      "metadata": {
        "id": "mRMuULbI-0ML",
        "colab_type": "code",
        "colab": {}
      },
      "source": [
        "import os\n",
        "os.environ['SECRET_KEY'] = '1234'\n",
        "%mkdir -p data/mnist/numbers"
      ],
      "execution_count": 2,
      "outputs": []
    },
    {
      "cell_type": "code",
      "metadata": {
        "id": "jMr-foIX-5i5",
        "colab_type": "code",
        "colab": {}
      },
      "source": [
        "import torch\n",
        "from torch.nn.functional import relu\n",
        "from collections import namedtuple\n",
        "import numpy as np\n",
        "from lib.mnist_aug.mnist_augmenter import DataManager, MNISTAug\n",
        "import torchvision"
      ],
      "execution_count": 3,
      "outputs": []
    },
    {
      "cell_type": "code",
      "metadata": {
        "id": "eshztUwq-6FE",
        "colab_type": "code",
        "colab": {
          "base_uri": "https://localhost:8080/",
          "height": 34
        },
        "outputId": "2d363af8-df77-4a48-e762-97297ae3063a"
      },
      "source": [
        "# Device configuration\n",
        "device = torch.device('cuda' if torch.cuda.is_available() else 'cpu')\n",
        "device"
      ],
      "execution_count": 4,
      "outputs": [
        {
          "output_type": "execute_result",
          "data": {
            "text/plain": [
              "device(type='cuda')"
            ]
          },
          "metadata": {
            "tags": []
          },
          "execution_count": 4
        }
      ]
    },
    {
      "cell_type": "code",
      "metadata": {
        "id": "z0Db7Exb-8D8",
        "colab_type": "code",
        "colab": {
          "base_uri": "https://localhost:8080/",
          "height": 420,
          "referenced_widgets": [
            "903cb32cd222425fa12630a08a2ddb8a",
            "5a919785eafe4652ab86e2b8422aa244",
            "2c1b8f2ec3044cf29ce7ccbf7dcc7e68",
            "943451636984430bbb0268cac4e9f05f",
            "61867134df364fff80a31114bed0eaaa",
            "71ee3d8e7a6b4cb9bd18f3f54a929c76",
            "bc7e4b84c52b4ef192f849da29b6ab7a",
            "e4dc581011f8402f9d52269c9b190bc0",
            "916f570003374037805fec63436d599c",
            "6ca4a53e87ff4738bfdb88457af836ca",
            "5f86398fe3be41f896f0c7fbb79d44f3",
            "678cb98788314499ab48d0026b926b6d",
            "f1b1a0ded34b4b63a0bef5ce648a79d1",
            "2a7f0bbbfb984e05bd0e1f6ed6dd63fc",
            "b2fb94047c974c848417c47c6f946ee8",
            "93f43515acb145eaadd8f78da3cd35a6",
            "dbc64508c1b64eeda0b4e992caf894e7",
            "1934f6407adf4b2c81e66f3151fc0c33",
            "9896ba65c09945f995bcb2b901972d0e",
            "5a1c055c5ddd485fafb5196479968adf",
            "51faa2ad961f45efa8770c7bdf25761f",
            "d21071d787e04aa0ae8dd4d625a5fd41",
            "f79465c092904b81ac3f6af6183c6b96",
            "885cbbbd3c0d4ae8850e6272728c9e62",
            "24a876c380ac40f9b182ae3066b76f1b",
            "44d5014153dd4333a93afa482d5dbab5",
            "aad8c38baf6847169479bb94a75ab55d",
            "ecd0dfa8b260400aa8cbb0e1136bd0e8",
            "4f11525ae479413e9b6aa17006b57028",
            "b1722ce8a6c348d1b7a5916ddd851bc1",
            "8ba0d12e14e947308d1864d9d92a35ab",
            "8f97fe203ef245f38b329430304210b5"
          ]
        },
        "outputId": "465f5c94-e47b-42e0-90cf-f4eccd0ba3b7"
      },
      "source": [
        "aug = MNISTAug()\n",
        "dm = DataManager()\n",
        "dm.load()\n",
        "aug.max_objects = 10\n",
        "aug.min_objects = 4\n",
        "aug.overflow = 0"
      ],
      "execution_count": 5,
      "outputs": [
        {
          "output_type": "stream",
          "text": [
            "Downloading http://yann.lecun.com/exdb/mnist/train-images-idx3-ubyte.gz to /content/ml_gallery/ml_py/data/mnist/numbers/MNIST/raw/train-images-idx3-ubyte.gz\n"
          ],
          "name": "stdout"
        },
        {
          "output_type": "display_data",
          "data": {
            "application/vnd.jupyter.widget-view+json": {
              "model_id": "903cb32cd222425fa12630a08a2ddb8a",
              "version_minor": 0,
              "version_major": 2
            },
            "text/plain": [
              "HBox(children=(FloatProgress(value=1.0, bar_style='info', max=1.0), HTML(value='')))"
            ]
          },
          "metadata": {
            "tags": []
          }
        },
        {
          "output_type": "stream",
          "text": [
            "Extracting /content/ml_gallery/ml_py/data/mnist/numbers/MNIST/raw/train-images-idx3-ubyte.gz to /content/ml_gallery/ml_py/data/mnist/numbers/MNIST/raw\n",
            "Downloading http://yann.lecun.com/exdb/mnist/train-labels-idx1-ubyte.gz to /content/ml_gallery/ml_py/data/mnist/numbers/MNIST/raw/train-labels-idx1-ubyte.gz\n"
          ],
          "name": "stdout"
        },
        {
          "output_type": "display_data",
          "data": {
            "application/vnd.jupyter.widget-view+json": {
              "model_id": "916f570003374037805fec63436d599c",
              "version_minor": 0,
              "version_major": 2
            },
            "text/plain": [
              "HBox(children=(FloatProgress(value=1.0, bar_style='info', max=1.0), HTML(value='')))"
            ]
          },
          "metadata": {
            "tags": []
          }
        },
        {
          "output_type": "stream",
          "text": [
            "Extracting /content/ml_gallery/ml_py/data/mnist/numbers/MNIST/raw/train-labels-idx1-ubyte.gz to /content/ml_gallery/ml_py/data/mnist/numbers/MNIST/raw\n",
            "Downloading http://yann.lecun.com/exdb/mnist/t10k-images-idx3-ubyte.gz to /content/ml_gallery/ml_py/data/mnist/numbers/MNIST/raw/t10k-images-idx3-ubyte.gz\n"
          ],
          "name": "stdout"
        },
        {
          "output_type": "display_data",
          "data": {
            "application/vnd.jupyter.widget-view+json": {
              "model_id": "dbc64508c1b64eeda0b4e992caf894e7",
              "version_minor": 0,
              "version_major": 2
            },
            "text/plain": [
              "HBox(children=(FloatProgress(value=1.0, bar_style='info', max=1.0), HTML(value='')))"
            ]
          },
          "metadata": {
            "tags": []
          }
        },
        {
          "output_type": "stream",
          "text": [
            "Extracting /content/ml_gallery/ml_py/data/mnist/numbers/MNIST/raw/t10k-images-idx3-ubyte.gz to /content/ml_gallery/ml_py/data/mnist/numbers/MNIST/raw\n",
            "Downloading http://yann.lecun.com/exdb/mnist/t10k-labels-idx1-ubyte.gz to /content/ml_gallery/ml_py/data/mnist/numbers/MNIST/raw/t10k-labels-idx1-ubyte.gz\n"
          ],
          "name": "stdout"
        },
        {
          "output_type": "display_data",
          "data": {
            "application/vnd.jupyter.widget-view+json": {
              "model_id": "24a876c380ac40f9b182ae3066b76f1b",
              "version_minor": 0,
              "version_major": 2
            },
            "text/plain": [
              "HBox(children=(FloatProgress(value=1.0, bar_style='info', max=1.0), HTML(value='')))"
            ]
          },
          "metadata": {
            "tags": []
          }
        },
        {
          "output_type": "stream",
          "text": [
            "Extracting /content/ml_gallery/ml_py/data/mnist/numbers/MNIST/raw/t10k-labels-idx1-ubyte.gz to /content/ml_gallery/ml_py/data/mnist/numbers/MNIST/raw\n",
            "Processing...\n",
            "Done!\n",
            "\n",
            "\n",
            "\n"
          ],
          "name": "stdout"
        },
        {
          "output_type": "stream",
          "text": [
            "/pytorch/torch/csrc/utils/tensor_numpy.cpp:141: UserWarning: The given NumPy array is not writeable, and PyTorch does not support non-writeable tensors. This means you can write to the underlying (supposedly non-writeable) NumPy array using the tensor. You may want to copy the array to protect its data or make it writeable before converting it to a tensor. This type of warning will be suppressed for the rest of this program.\n"
          ],
          "name": "stderr"
        },
        {
          "output_type": "stream",
          "text": [
            "\n"
          ],
          "name": "stdout"
        }
      ]
    },
    {
      "cell_type": "code",
      "metadata": {
        "id": "FCidsSEL_T9U",
        "colab_type": "code",
        "colab": {
          "base_uri": "https://localhost:8080/",
          "height": 51
        },
        "outputId": "cb33e260-f847-48a4-da2c-f005adfd714e"
      },
      "source": [
        "x_train, y_train = aug.get_augmented(dm.x_train, dm.y_train, 1000)\n",
        "x_test, y_test = aug.get_augmented(dm.x_test, dm.y_test, 10)"
      ],
      "execution_count": 6,
      "outputs": [
        {
          "output_type": "stream",
          "text": [
            "/usr/local/lib/python3.6/dist-packages/skimage/transform/_warps.py:104: RuntimeWarning: divide by zero encountered in true_divide\n",
            "  np.asarray(output_shape, dtype=float))\n"
          ],
          "name": "stderr"
        }
      ]
    },
    {
      "cell_type": "code",
      "metadata": {
        "id": "GsNoRI-a_Z8m",
        "colab_type": "code",
        "colab": {}
      },
      "source": [
        "x_train = torch.tensor(x_train.reshape(-1, 1, 112, 112)).type('torch.FloatTensor')\n",
        "x_test = torch.tensor(x_test.reshape(-1, 1, 112, 112)).type('torch.FloatTensor')"
      ],
      "execution_count": 7,
      "outputs": []
    },
    {
      "cell_type": "code",
      "metadata": {
        "id": "QbZOSOWO_cZ7",
        "colab_type": "code",
        "colab": {
          "base_uri": "https://localhost:8080/",
          "height": 1000
        },
        "outputId": "2e51a9c6-5b1e-47b1-a518-7c0570fac375"
      },
      "source": [
        "DataManager.plot_num(x_train[0].reshape((112, 112)), y_train[0])\n",
        "y_train[0]"
      ],
      "execution_count": 8,
      "outputs": [
        {
          "output_type": "execute_result",
          "data": {
            "text/plain": [
              "[{'class': 4,\n",
              "  'class_one_hot': tensor([0., 0., 0., 0., 1., 0., 0., 0., 0., 0.]),\n",
              "  'cx': 25.5,\n",
              "  'cy': 23.5,\n",
              "  'height': 37,\n",
              "  'width': 37,\n",
              "  'x1': 7,\n",
              "  'x2': 44,\n",
              "  'y1': 5,\n",
              "  'y2': 42},\n",
              " {'class': 6,\n",
              "  'class_one_hot': tensor([0., 0., 0., 0., 0., 0., 1., 0., 0., 0.]),\n",
              "  'cx': 71.5,\n",
              "  'cy': 30.5,\n",
              "  'height': 37,\n",
              "  'width': 37,\n",
              "  'x1': 53,\n",
              "  'x2': 90,\n",
              "  'y1': 12,\n",
              "  'y2': 49},\n",
              " {'class': 9,\n",
              "  'class_one_hot': tensor([0., 0., 0., 0., 0., 0., 0., 0., 0., 1.]),\n",
              "  'cx': 37.5,\n",
              "  'cy': 50.5,\n",
              "  'height': 37,\n",
              "  'width': 37,\n",
              "  'x1': 19,\n",
              "  'x2': 56,\n",
              "  'y1': 32,\n",
              "  'y2': 69},\n",
              " {'class': 3,\n",
              "  'class_one_hot': tensor([0., 0., 0., 1., 0., 0., 0., 0., 0., 0.]),\n",
              "  'cx': 53.5,\n",
              "  'cy': 86.5,\n",
              "  'height': 15,\n",
              "  'width': 15,\n",
              "  'x1': 46,\n",
              "  'x2': 61,\n",
              "  'y1': 79,\n",
              "  'y2': 94},\n",
              " {'class': 4,\n",
              "  'class_one_hot': tensor([0., 0., 0., 0., 1., 0., 0., 0., 0., 0.]),\n",
              "  'cx': 63.5,\n",
              "  'cy': 62.5,\n",
              "  'height': 39,\n",
              "  'width': 39,\n",
              "  'x1': 44,\n",
              "  'x2': 83,\n",
              "  'y1': 43,\n",
              "  'y2': 82},\n",
              " {'class': 9,\n",
              "  'class_one_hot': tensor([0., 0., 0., 0., 0., 0., 0., 0., 0., 1.]),\n",
              "  'cx': 59.0,\n",
              "  'cy': 98.0,\n",
              "  'height': 8,\n",
              "  'width': 8,\n",
              "  'x1': 55,\n",
              "  'x2': 63,\n",
              "  'y1': 94,\n",
              "  'y2': 102},\n",
              " {'class': 8,\n",
              "  'class_one_hot': tensor([0., 0., 0., 0., 0., 0., 0., 0., 1., 0.]),\n",
              "  'cx': 27.5,\n",
              "  'cy': 89.5,\n",
              "  'height': 43,\n",
              "  'width': 43,\n",
              "  'x1': 6,\n",
              "  'x2': 49,\n",
              "  'y1': 68,\n",
              "  'y2': 111},\n",
              " {'class': 9,\n",
              "  'class_one_hot': tensor([0., 0., 0., 0., 0., 0., 0., 0., 0., 1.]),\n",
              "  'cx': 86.5,\n",
              "  'cy': 49.5,\n",
              "  'height': 31,\n",
              "  'width': 31,\n",
              "  'x1': 71,\n",
              "  'x2': 102,\n",
              "  'y1': 34,\n",
              "  'y2': 65},\n",
              " {'class': 3,\n",
              "  'class_one_hot': tensor([0., 0., 0., 1., 0., 0., 0., 0., 0., 0.]),\n",
              "  'cx': 88.5,\n",
              "  'cy': 85.5,\n",
              "  'height': 35,\n",
              "  'width': 35,\n",
              "  'x1': 71,\n",
              "  'x2': 106,\n",
              "  'y1': 68,\n",
              "  'y2': 103},\n",
              " {'class': 6,\n",
              "  'class_one_hot': tensor([0., 0., 0., 0., 0., 0., 1., 0., 0., 0.]),\n",
              "  'cx': 51.0,\n",
              "  'cy': 11.0,\n",
              "  'height': 22,\n",
              "  'width': 22,\n",
              "  'x1': 40,\n",
              "  'x2': 62,\n",
              "  'y1': 0,\n",
              "  'y2': 22}]"
            ]
          },
          "metadata": {
            "tags": []
          },
          "execution_count": 8
        },
        {
          "output_type": "display_data",
          "data": {
            "image/png": "[encoded data removed]",
            "text/plain": [
              "<Figure size 432x288 with 1 Axes>"
            ]
          },
          "metadata": {
            "tags": [],
            "needs_background": "light"
          }
        }
      ]
    },
    {
      "cell_type": "code",
      "metadata": {
        "id": "1Y5MvcmNiNbD",
        "colab_type": "code",
        "colab": {}
      },
      "source": [
        "def to_one_hot(x, num_classes=10):\n",
        "  b = np.zeros((len(x), num_classes), dtype=np.float32)\n",
        "  b[np.arange(len(x)), x] = 1\n",
        "  return b"
      ],
      "execution_count": 9,
      "outputs": []
    },
    {
      "cell_type": "code",
      "metadata": {
        "id": "jI8jVrA5_ecs",
        "colab_type": "code",
        "colab": {}
      },
      "source": [
        "# 14 * 14  = 196 anchor boxes\n",
        "# side of each anchor box = 28\n",
        "\n",
        "n_anchors = 14 * 14\n",
        "\n",
        "anchor_grid_spacing = 8\n",
        "\n",
        "anchor_centers = []\n",
        "for i in range(14):\n",
        "  anchor_row = []\n",
        "  for j in range(14):\n",
        "    anchor_row.append([\n",
        "      j * anchor_grid_spacing + anchor_grid_spacing / 2,\n",
        "      i * anchor_grid_spacing + anchor_grid_spacing / 2,\n",
        "    ])\n",
        "  anchor_centers.append(anchor_row)\n",
        "anchor_centers = torch.tensor(anchor_centers).reshape((-1, 2))"
      ],
      "execution_count": 10,
      "outputs": []
    },
    {
      "cell_type": "code",
      "metadata": {
        "id": "cMmayJpt3snc",
        "colab_type": "code",
        "colab": {}
      },
      "source": [
        "def get_fractional_difference(anchor, bounding_box):\n",
        "  a_box = anchor\n",
        "  b_box = bounding_box\n",
        "\n",
        "  cx_d = (b_box['cx'] - a_box[0]) / 112\n",
        "  cy_d = (b_box['cy'] - a_box[1]) / 112\n",
        "  wd = (b_box['width'] - 28) / 112\n",
        "\n",
        "  return cx_d, cy_d, wd\n",
        "\n",
        "def get_units_from_diff(anchors, bounding_boxes):\n",
        "    diffs = torch.zeros((len(anchors), 3)).to(device)\n",
        "    for i in range(len(anchors)):\n",
        "        diffs[i][0] = bounding_boxes[i][0] * 112 + anchors[i][0]\n",
        "        diffs[i][1] = bounding_boxes[i][1] * 112 + anchors[i][1]\n",
        "        diffs[i][2] = bounding_boxes[i][2] * 112 + 28\n",
        "\n",
        "    return diffs"
      ],
      "execution_count": 11,
      "outputs": []
    },
    {
      "cell_type": "code",
      "metadata": {
        "id": "o-zkgDcan4ss",
        "colab_type": "code",
        "colab": {}
      },
      "source": [
        "def get_iou(anchor_center, bounding_box):\n",
        "\n",
        "  boxA = [anchor_center[0]-14, anchor_center[1]-14, anchor_center[0]+14, anchor_center[1]+14]\n",
        "  boxB = [bounding_box['x1'], bounding_box['y1'], bounding_box['x2'], bounding_box['y2']]\n",
        "\n",
        "  # determine the (x, y)-coordinates of the intersection rectangle\n",
        "  xA = max(boxA[0], boxB[0])\n",
        "  yA = max(boxA[1], boxB[1])\n",
        "  xB = min(boxA[2], boxB[2])\n",
        "  yB = min(boxA[3], boxB[3])\n",
        "  # compute the area of intersection rectangle\n",
        "  interArea = max(0, xB - xA + 1) * max(0, yB - yA + 1)\n",
        "  # compute the area of both the prediction and ground-truth\n",
        "  # rectangles\n",
        "  boxAArea = (boxA[2] - boxA[0] + 1) * (boxA[3] - boxA[1] + 1)\n",
        "  boxBArea = (boxB[2] - boxB[0] + 1) * (boxB[3] - boxB[1] + 1)\n",
        "  # compute the intersection over union by taking the intersection\n",
        "  # area and dividing it by the sum of prediction + ground-truth\n",
        "  # areas - the interesection area\n",
        "  iou = interArea / float(boxAArea + boxBArea - interArea)\n",
        "  # return the intersection over union value\n",
        "  return iou"
      ],
      "execution_count": 12,
      "outputs": []
    },
    {
      "cell_type": "code",
      "metadata": {
        "id": "A0CKF8vFvNe3",
        "colab_type": "code",
        "colab": {}
      },
      "source": [
        "def get_positive_anchors(y_batch):\n",
        "    \"\"\"\n",
        "    1. For Each item in the batch:\n",
        "    2. For each anchor box:\n",
        "    - For each bounding box:\n",
        "        - Find the IoU.\n",
        "    - Pick bounding box with highest IoU for that anchor.\n",
        "    - # TODO: Pick the anchor with the highest IoU for that bounding box.\n",
        "    - If highest IoU is < 0.3, then continue 1.\n",
        "    # - Create the difference units for the anchor and the bounding box as y\n",
        "    - Now add the anchor box and bounding box into a map.\n",
        "    \"\"\"\n",
        "    all_positive_pairs = []\n",
        "    for batch_i in range(len(y_batch)):\n",
        "        positive_pairs_batch = []\n",
        "        max_iou_b = {}\n",
        "        max_iou_a = {}\n",
        "\n",
        "        # ---------- The two loops --------------\n",
        "\n",
        "        for anchor_i in range(len(anchor_centers)):\n",
        "            for bb_i in range(len(y_batch[batch_i])):\n",
        "\n",
        "                b_box = y_batch[batch_i][bb_i]\n",
        "                a_box = anchor_centers[anchor_i]\n",
        "\n",
        "                iou = get_iou(a_box, b_box)\n",
        "                default_iou = {'iou': 0, 'bb_i': -1, 'ab_i': -1}\n",
        "\n",
        "                # --------------- Find max IoUs ------------------\n",
        "\n",
        "                if iou > max_iou_b.get(bb_i, default_iou)['iou']:\n",
        "                    max_iou_b[bb_i] = {\n",
        "                        'iou': iou,\n",
        "                        'bb_i': bb_i,\n",
        "                        'ab_i': anchor_i\n",
        "                    }\n",
        "\n",
        "                if iou > 0.5 and iou > max_iou_a.get(anchor_i, default_iou)['iou']:\n",
        "                    max_iou_a[anchor_i] = {\n",
        "                        'iou': iou,\n",
        "                        'bb_i': bb_i,\n",
        "                        'ab_i': anchor_i\n",
        "                    }\n",
        "\n",
        "        # --------- Merge both max ious ----------------\n",
        "        \n",
        "        positive_pairs = [max_iou_b[index] for index in list(max_iou_b.keys())]\n",
        "        for index in list(max_iou_a.keys()):\n",
        "            if max_iou_a[index] not in positive_pairs:\n",
        "                positive_pairs.append(max_iou_a[index])\n",
        "        all_positive_pairs.append(positive_pairs)\n",
        "\n",
        "    return all_positive_pairs"
      ],
      "execution_count": 13,
      "outputs": []
    },
    {
      "cell_type": "code",
      "metadata": {
        "id": "CU87LW700FIz",
        "colab_type": "code",
        "colab": {
          "base_uri": "https://localhost:8080/",
          "height": 68
        },
        "outputId": "c619c00a-17a0-46e3-cada-74feb1518bb2"
      },
      "source": [
        "positives = get_positive_anchors(y_test[:2])\n",
        "for positive in positives:\n",
        "  print(len(positive))\n",
        "14 * 14"
      ],
      "execution_count": 14,
      "outputs": [
        {
          "output_type": "stream",
          "text": [
            "16\n",
            "17\n"
          ],
          "name": "stdout"
        },
        {
          "output_type": "execute_result",
          "data": {
            "text/plain": [
              "196"
            ]
          },
          "metadata": {
            "tags": []
          },
          "execution_count": 14
        }
      ]
    },
    {
      "cell_type": "code",
      "metadata": {
        "id": "mOYEt0PtqNnp",
        "colab_type": "code",
        "colab": {}
      },
      "source": [
        "def get_y_d(y):\n",
        "  \"\"\"\n",
        "  Find all the positive anchor pairs.\n",
        "  for each of y:\n",
        "    for each pair in yi:\n",
        "      find fractional difference in anchor and bounding box.\n",
        "      append the fractional difference to the pair.\n",
        "  \"\"\"\n",
        "  y_d = []\n",
        "  positive_pairs = get_positive_anchors(y)\n",
        "  for yi in range(len(y)):\n",
        "    diffs = []\n",
        "    for pair_i in range(len(y[yi])):\n",
        "      pair = positive_pairs[yi][pair_i]\n",
        "      anchor = anchor_centers[pair['ab_i']]\n",
        "      bounding_box = y[yi][pair['bb_i']]\n",
        "      cx_d, cy_d, wd = get_fractional_difference(anchor, bounding_box)\n",
        "      diffs.append((cx_d, cy_d, wd, pair['ab_i'], pair['bb_i']))\n",
        "    y_d.append(torch.tensor(diffs))\n",
        "  return y_d"
      ],
      "execution_count": 15,
      "outputs": []
    },
    {
      "cell_type": "code",
      "metadata": {
        "id": "scrpMShajX4I",
        "colab_type": "code",
        "colab": {}
      },
      "source": [
        "y_train_d = get_y_d(y_train)\n",
        "y_test_d = get_y_d(y_test)"
      ],
      "execution_count": 16,
      "outputs": []
    },
    {
      "cell_type": "code",
      "metadata": {
        "id": "cGzrsvx1IemW",
        "colab_type": "code",
        "colab": {}
      },
      "source": [
        "class BoxPredictor(torch.nn.Module):\n",
        "  def __init__(self):\n",
        "    super().__init__()\n",
        "    self.linear1 = torch.nn.Linear(4096, 1024)\n",
        "    self.linear2 = torch.nn.Linear(1024, 3 * n_anchors)\n",
        "\n",
        "  def forward(self, x):\n",
        "    x = relu(self.linear1(x))\n",
        "    x = torch.tanh(self.linear2(x))\n",
        "    return x.reshape((-1, n_anchors, 3))\n",
        "\n",
        "\n",
        "class ConfidencePredictor(torch.nn.Module):\n",
        "  def __init__(self):\n",
        "    super().__init__()\n",
        "    self.linear1 = torch.nn.Linear(4096, 1024)\n",
        "    self.linear2 = torch.nn.Linear(1024, n_anchors)\n",
        "\n",
        "  def forward(self, x):\n",
        "    x = torch.relu(self.linear1(x))\n",
        "    x = torch.sigmoid(self.linear2(x))\n",
        "    return x\n",
        "\n",
        "\n",
        "class DetectorV1 (torch.nn.Module):\n",
        "    def __init__(self):\n",
        "        super().__init__()\n",
        "        self.conv1 = torch.nn.Conv2d(1, 32, 3, padding=1)  # 112x112\n",
        "        self.conv2 = torch.nn.Conv2d(32, 64, 3, stride=2, padding=1)  # 56x56\n",
        "        self.conv3 = torch.nn.Conv2d(64, 128, 3, stride=2, padding=1)  # 28x28\n",
        "        self.conv4 = torch.nn.Conv2d(128, 256, 3, stride=2, padding=1)  # 14x14\n",
        "        self.conv5 = torch.nn.Conv2d(256, 512, 3, stride=2, padding=1)  # 7x7\n",
        "        self.linear1 = torch.nn.Linear(25088, 4096)\n",
        "        self.box_predictor = BoxPredictor()\n",
        "        self.confidence_predictor = ConfidencePredictor()\n",
        "\n",
        "    def forward(self, x):\n",
        "        x = relu(self.conv1(x))  # 112\n",
        "        x = relu(self.conv2(x))  # 56\n",
        "        x = relu(self.conv3(x))  # 28\n",
        "        x = relu(self.conv4(x))  # 14\n",
        "        x = relu(self.conv5(x))  # 7\n",
        "        x = torch.flatten(x, 1)\n",
        "        x = relu(self.linear1(x))\n",
        "        boxes = self.box_predictor(x)\n",
        "        confidences = self.confidence_predictor(x)\n",
        "        return boxes, confidences\n",
        "\n",
        "model = DetectorV1().to(device)"
      ],
      "execution_count": 17,
      "outputs": []
    },
    {
      "cell_type": "code",
      "metadata": {
        "id": "Inl3qTvJHtV2",
        "colab_type": "code",
        "colab": {}
      },
      "source": [
        "optimizer = torch.optim.Adam(model.parameters())\n",
        "# optimizer = torch.optim.SGD(model.parameters(), lr=0.001, momentum=0.05)"
      ],
      "execution_count": 36,
      "outputs": []
    },
    {
      "cell_type": "markdown",
      "metadata": {
        "id": "Q1hyZNulvcq_",
        "colab_type": "text"
      },
      "source": [
        "Steps:\n",
        " - get the predictions.\n",
        " - Find the anchors which have >0.1 IoU -> +ve anchors\n",
        " - Find the matching bounding box for each +ve anchor\n",
        " - All +ve anchors are high confidence, rest are low.\n",
        " - What is the loss for -ve anchors?\n",
        "\n",
        "\n",
        " - For each of the positive anchors, Find loss and add it to the total loss.\n",
        " - Find loss of the confidences.\n",
        " - \n"
      ]
    },
    {
      "cell_type": "code",
      "metadata": {
        "id": "SGl7qtS3u92g",
        "colab_type": "code",
        "colab": {}
      },
      "source": [
        "epochs = 20\n",
        "batch_size = 64\n",
        "\n",
        "for epoch in range(epochs):\n",
        "    \n",
        "    for i in range(0, len(x_train), batch_size):\n",
        "        start_index = i\n",
        "        end_index = i+batch_size\n",
        "        \n",
        "        x_batch = x_train[start_index:end_index].to(device)\n",
        "        y_batch = y_train_d[start_index:end_index]\n",
        "        \n",
        "        optimizer.zero_grad()\n",
        "\n",
        "        y_hat_boxes, y_hat_confidences = model(x_batch)\n",
        "\n",
        "        loss = 0\n",
        "        for batch_i in range(len(y_batch)):  # Each image\n",
        "            y_diffs = y_batch[batch_i]\n",
        "            \"\"\"\n",
        "            1. find losses for each positive anchor\n",
        "            2. Sum them all up.\n",
        "            3. Create an array of n_anchors length for target confidences.\n",
        "            4. Make confidences 1 for positive indices.\n",
        "            5. Find losses for confidences. \n",
        "            \"\"\"\n",
        "            y_confidences = torch.zeros((n_anchors)).to(device)\n",
        "            for anchor_i in range(len(y_batch[batch_i])):  # Each positive anchor\n",
        "                box_index = int(y_batch[batch_i][anchor_i][4])\n",
        "                yd_box = y_batch[batch_i][anchor_i][:3].to(device)\n",
        "\n",
        "                anchor_index = int(y_batch[batch_i][anchor_i][3])\n",
        "                yd_pred = y_hat_boxes[batch_i][anchor_index]\n",
        "\n",
        "                loss += sum((yd_box - yd_pred) ** 2)\n",
        "\n",
        "                y_confidences[anchor_index] = 1.0\n",
        "\n",
        "            loss += sum((y_confidences - y_hat_confidences[batch_i]) ** 2)\n",
        "        \n",
        "        loss.backward()\n",
        "        optimizer.step()\n",
        "\n",
        "    print(f'Epoch: {epoch}, loss={float(loss)}')"
      ],
      "execution_count": null,
      "outputs": []
    },
    {
      "cell_type": "markdown",
      "metadata": {
        "id": "IpG50eLc7uy1",
        "colab_type": "text"
      },
      "source": [
        "- get predictions\n",
        "- get all anchor indices where confidences are > 0\n",
        "- Find the coordinates of the boxes.\n",
        "- Do nms on those.\n",
        "- plot them."
      ]
    },
    {
      "cell_type": "code",
      "metadata": {
        "id": "sQCZUhxLNskB",
        "colab_type": "code",
        "colab": {}
      },
      "source": [
        "with torch.no_grad():\n",
        "    y_hat_boxes, y_hat_confidences = model(x_test.to(device))\n",
        "    for batch_i in range(len(x_test)):\n",
        "        positive_indices = (y_hat_confidences[batch_i] > 0.5).nonzero().reshape((-1))\n",
        "\n",
        "        pred_boxes = y_hat_boxes[batch_i][positive_indices]\n",
        "        anchors = anchor_centers[positive_indices]\n",
        "        pred_confidences = y_hat_confidences[batch_i][positive_indices]\n",
        "        pred_boxes = get_units_from_diff(anchors, pred_boxes)\n",
        "\n",
        "        pred_boxes = torch.tensor([[\n",
        "            float(box[0] - box[2] / 2),\n",
        "            float(box[1] - box[2] / 2),\n",
        "            float(box[0] + box[2] / 2),\n",
        "            float(box[1] + box[2] / 2)\n",
        "         ] for box in pred_boxes]).to(device)\n",
        "        \n",
        "        keep_indices = torchvision.ops.nms(pred_boxes, pred_confidences, 0.5)\n",
        "        pred_boxes = pred_boxes[keep_indices]\n",
        "\n",
        "        DataManager.plot_num(\n",
        "            x_test[batch_i].reshape((112, 112)), \n",
        "            [{'x1': box[0], 'y1': box[1], 'x2': box[2], 'y2': box[3]} for box in pred_boxes]\n",
        "        )\n",
        "\n"
      ],
      "execution_count": null,
      "outputs": []
    },
    {
      "cell_type": "code",
      "metadata": {
        "id": "Jr7KlqkbC75n",
        "colab_type": "code",
        "colab": {}
      },
      "source": [
        "\n"
      ],
      "execution_count": null,
      "outputs": []
    }
  ]
}