{
  "nbformat": 4,
  "nbformat_minor": 0,
  "metadata": {
    "colab": {
      "name": "mnist_detection.ipynb",
      "provenance": [],
      "collapsed_sections": []
    },
    "kernelspec": {
      "name": "python3",
      "display_name": "Python 3"
    },
    "widgets": {
      "application/vnd.jupyter.widget-state+json": {
        "17474c4c8bc840e69bb77973f7d0e476": {
          "model_module": "@jupyter-widgets/controls",
          "model_name": "HBoxModel",
          "state": {
            "_view_name": "HBoxView",
            "_dom_classes": [],
            "_model_name": "HBoxModel",
            "_view_module": "@jupyter-widgets/controls",
            "_model_module_version": "1.5.0",
            "_view_count": null,
            "_view_module_version": "1.5.0",
            "box_style": "",
            "layout": "IPY_MODEL_39d6e4f11dca47f8907d4a41e08017d8",
            "_model_module": "@jupyter-widgets/controls",
            "children": [
              "IPY_MODEL_44a77d46557e4cd3a1636dbe16dfd8b8",
              "IPY_MODEL_44d957215ba4483ebbd435f4479a778e"
            ]
          }
        },
        "39d6e4f11dca47f8907d4a41e08017d8": {
          "model_module": "@jupyter-widgets/base",
          "model_name": "LayoutModel",
          "state": {
            "_view_name": "LayoutView",
            "grid_template_rows": null,
            "right": null,
            "justify_content": null,
            "_view_module": "@jupyter-widgets/base",
            "overflow": null,
            "_model_module_version": "1.2.0",
            "_view_count": null,
            "flex_flow": null,
            "width": null,
            "min_width": null,
            "border": null,
            "align_items": null,
            "bottom": null,
            "_model_module": "@jupyter-widgets/base",
            "top": null,
            "grid_column": null,
            "overflow_y": null,
            "overflow_x": null,
            "grid_auto_flow": null,
            "grid_area": null,
            "grid_template_columns": null,
            "flex": null,
            "_model_name": "LayoutModel",
            "justify_items": null,
            "grid_row": null,
            "max_height": null,
            "align_content": null,
            "visibility": null,
            "align_self": null,
            "height": null,
            "min_height": null,
            "padding": null,
            "grid_auto_rows": null,
            "grid_gap": null,
            "max_width": null,
            "order": null,
            "_view_module_version": "1.2.0",
            "grid_template_areas": null,
            "object_position": null,
            "object_fit": null,
            "grid_auto_columns": null,
            "margin": null,
            "display": null,
            "left": null
          }
        },
        "44a77d46557e4cd3a1636dbe16dfd8b8": {
          "model_module": "@jupyter-widgets/controls",
          "model_name": "FloatProgressModel",
          "state": {
            "_view_name": "ProgressView",
            "style": "IPY_MODEL_85974e8593904dd9b92a26b824fbb1e0",
            "_dom_classes": [],
            "description": "",
            "_model_name": "FloatProgressModel",
            "bar_style": "success",
            "max": 1,
            "_view_module": "@jupyter-widgets/controls",
            "_model_module_version": "1.5.0",
            "value": 1,
            "_view_count": null,
            "_view_module_version": "1.5.0",
            "orientation": "horizontal",
            "min": 0,
            "description_tooltip": null,
            "_model_module": "@jupyter-widgets/controls",
            "layout": "IPY_MODEL_c9ec5965fbab46bda7791d4805f7418c"
          }
        },
        "44d957215ba4483ebbd435f4479a778e": {
          "model_module": "@jupyter-widgets/controls",
          "model_name": "HTMLModel",
          "state": {
            "_view_name": "HTMLView",
            "style": "IPY_MODEL_2671ea5861bc48fbb571e8669e7617c1",
            "_dom_classes": [],
            "description": "",
            "_model_name": "HTMLModel",
            "placeholder": "​",
            "_view_module": "@jupyter-widgets/controls",
            "_model_module_version": "1.5.0",
            "value": " 9920512/? [00:06&lt;00:00, 1516351.05it/s]",
            "_view_count": null,
            "_view_module_version": "1.5.0",
            "description_tooltip": null,
            "_model_module": "@jupyter-widgets/controls",
            "layout": "IPY_MODEL_6f0d37008b994d678bc8f9342fc43d98"
          }
        },
        "85974e8593904dd9b92a26b824fbb1e0": {
          "model_module": "@jupyter-widgets/controls",
          "model_name": "ProgressStyleModel",
          "state": {
            "_view_name": "StyleView",
            "_model_name": "ProgressStyleModel",
            "description_width": "initial",
            "_view_module": "@jupyter-widgets/base",
            "_model_module_version": "1.5.0",
            "_view_count": null,
            "_view_module_version": "1.2.0",
            "bar_color": null,
            "_model_module": "@jupyter-widgets/controls"
          }
        },
        "c9ec5965fbab46bda7791d4805f7418c": {
          "model_module": "@jupyter-widgets/base",
          "model_name": "LayoutModel",
          "state": {
            "_view_name": "LayoutView",
            "grid_template_rows": null,
            "right": null,
            "justify_content": null,
            "_view_module": "@jupyter-widgets/base",
            "overflow": null,
            "_model_module_version": "1.2.0",
            "_view_count": null,
            "flex_flow": null,
            "width": null,
            "min_width": null,
            "border": null,
            "align_items": null,
            "bottom": null,
            "_model_module": "@jupyter-widgets/base",
            "top": null,
            "grid_column": null,
            "overflow_y": null,
            "overflow_x": null,
            "grid_auto_flow": null,
            "grid_area": null,
            "grid_template_columns": null,
            "flex": null,
            "_model_name": "LayoutModel",
            "justify_items": null,
            "grid_row": null,
            "max_height": null,
            "align_content": null,
            "visibility": null,
            "align_self": null,
            "height": null,
            "min_height": null,
            "padding": null,
            "grid_auto_rows": null,
            "grid_gap": null,
            "max_width": null,
            "order": null,
            "_view_module_version": "1.2.0",
            "grid_template_areas": null,
            "object_position": null,
            "object_fit": null,
            "grid_auto_columns": null,
            "margin": null,
            "display": null,
            "left": null
          }
        },
        "2671ea5861bc48fbb571e8669e7617c1": {
          "model_module": "@jupyter-widgets/controls",
          "model_name": "DescriptionStyleModel",
          "state": {
            "_view_name": "StyleView",
            "_model_name": "DescriptionStyleModel",
            "description_width": "",
            "_view_module": "@jupyter-widgets/base",
            "_model_module_version": "1.5.0",
            "_view_count": null,
            "_view_module_version": "1.2.0",
            "_model_module": "@jupyter-widgets/controls"
          }
        },
        "6f0d37008b994d678bc8f9342fc43d98": {
          "model_module": "@jupyter-widgets/base",
          "model_name": "LayoutModel",
          "state": {
            "_view_name": "LayoutView",
            "grid_template_rows": null,
            "right": null,
            "justify_content": null,
            "_view_module": "@jupyter-widgets/base",
            "overflow": null,
            "_model_module_version": "1.2.0",
            "_view_count": null,
            "flex_flow": null,
            "width": null,
            "min_width": null,
            "border": null,
            "align_items": null,
            "bottom": null,
            "_model_module": "@jupyter-widgets/base",
            "top": null,
            "grid_column": null,
            "overflow_y": null,
            "overflow_x": null,
            "grid_auto_flow": null,
            "grid_area": null,
            "grid_template_columns": null,
            "flex": null,
            "_model_name": "LayoutModel",
            "justify_items": null,
            "grid_row": null,
            "max_height": null,
            "align_content": null,
            "visibility": null,
            "align_self": null,
            "height": null,
            "min_height": null,
            "padding": null,
            "grid_auto_rows": null,
            "grid_gap": null,
            "max_width": null,
            "order": null,
            "_view_module_version": "1.2.0",
            "grid_template_areas": null,
            "object_position": null,
            "object_fit": null,
            "grid_auto_columns": null,
            "margin": null,
            "display": null,
            "left": null
          }
        },
        "f6081ac8bc984bf09ca950d8cec41503": {
          "model_module": "@jupyter-widgets/controls",
          "model_name": "HBoxModel",
          "state": {
            "_view_name": "HBoxView",
            "_dom_classes": [],
            "_model_name": "HBoxModel",
            "_view_module": "@jupyter-widgets/controls",
            "_model_module_version": "1.5.0",
            "_view_count": null,
            "_view_module_version": "1.5.0",
            "box_style": "",
            "layout": "IPY_MODEL_634fbe7459fe42f781b88c7cfea5de03",
            "_model_module": "@jupyter-widgets/controls",
            "children": [
              "IPY_MODEL_87a3d0884b144e68be247b8815589eca",
              "IPY_MODEL_ddeb5a46833947f0856d06e549761bca"
            ]
          }
        },
        "634fbe7459fe42f781b88c7cfea5de03": {
          "model_module": "@jupyter-widgets/base",
          "model_name": "LayoutModel",
          "state": {
            "_view_name": "LayoutView",
            "grid_template_rows": null,
            "right": null,
            "justify_content": null,
            "_view_module": "@jupyter-widgets/base",
            "overflow": null,
            "_model_module_version": "1.2.0",
            "_view_count": null,
            "flex_flow": null,
            "width": null,
            "min_width": null,
            "border": null,
            "align_items": null,
            "bottom": null,
            "_model_module": "@jupyter-widgets/base",
            "top": null,
            "grid_column": null,
            "overflow_y": null,
            "overflow_x": null,
            "grid_auto_flow": null,
            "grid_area": null,
            "grid_template_columns": null,
            "flex": null,
            "_model_name": "LayoutModel",
            "justify_items": null,
            "grid_row": null,
            "max_height": null,
            "align_content": null,
            "visibility": null,
            "align_self": null,
            "height": null,
            "min_height": null,
            "padding": null,
            "grid_auto_rows": null,
            "grid_gap": null,
            "max_width": null,
            "order": null,
            "_view_module_version": "1.2.0",
            "grid_template_areas": null,
            "object_position": null,
            "object_fit": null,
            "grid_auto_columns": null,
            "margin": null,
            "display": null,
            "left": null
          }
        },
        "87a3d0884b144e68be247b8815589eca": {
          "model_module": "@jupyter-widgets/controls",
          "model_name": "FloatProgressModel",
          "state": {
            "_view_name": "ProgressView",
            "style": "IPY_MODEL_6bc59f5fa76a4ddfa95b8b711797e66b",
            "_dom_classes": [],
            "description": "",
            "_model_name": "FloatProgressModel",
            "bar_style": "success",
            "max": 1,
            "_view_module": "@jupyter-widgets/controls",
            "_model_module_version": "1.5.0",
            "value": 1,
            "_view_count": null,
            "_view_module_version": "1.5.0",
            "orientation": "horizontal",
            "min": 0,
            "description_tooltip": null,
            "_model_module": "@jupyter-widgets/controls",
            "layout": "IPY_MODEL_308df23121e74fbb9254b7885f6569cc"
          }
        },
        "ddeb5a46833947f0856d06e549761bca": {
          "model_module": "@jupyter-widgets/controls",
          "model_name": "HTMLModel",
          "state": {
            "_view_name": "HTMLView",
            "style": "IPY_MODEL_6c2410b54ec341c79177c71c179457bb",
            "_dom_classes": [],
            "description": "",
            "_model_name": "HTMLModel",
            "placeholder": "​",
            "_view_module": "@jupyter-widgets/controls",
            "_model_module_version": "1.5.0",
            "value": " 32768/? [00:03&lt;00:00, 9683.66it/s]",
            "_view_count": null,
            "_view_module_version": "1.5.0",
            "description_tooltip": null,
            "_model_module": "@jupyter-widgets/controls",
            "layout": "IPY_MODEL_791a5cb9fea14c008a5e94b88979e0b5"
          }
        },
        "6bc59f5fa76a4ddfa95b8b711797e66b": {
          "model_module": "@jupyter-widgets/controls",
          "model_name": "ProgressStyleModel",
          "state": {
            "_view_name": "StyleView",
            "_model_name": "ProgressStyleModel",
            "description_width": "initial",
            "_view_module": "@jupyter-widgets/base",
            "_model_module_version": "1.5.0",
            "_view_count": null,
            "_view_module_version": "1.2.0",
            "bar_color": null,
            "_model_module": "@jupyter-widgets/controls"
          }
        },
        "308df23121e74fbb9254b7885f6569cc": {
          "model_module": "@jupyter-widgets/base",
          "model_name": "LayoutModel",
          "state": {
            "_view_name": "LayoutView",
            "grid_template_rows": null,
            "right": null,
            "justify_content": null,
            "_view_module": "@jupyter-widgets/base",
            "overflow": null,
            "_model_module_version": "1.2.0",
            "_view_count": null,
            "flex_flow": null,
            "width": null,
            "min_width": null,
            "border": null,
            "align_items": null,
            "bottom": null,
            "_model_module": "@jupyter-widgets/base",
            "top": null,
            "grid_column": null,
            "overflow_y": null,
            "overflow_x": null,
            "grid_auto_flow": null,
            "grid_area": null,
            "grid_template_columns": null,
            "flex": null,
            "_model_name": "LayoutModel",
            "justify_items": null,
            "grid_row": null,
            "max_height": null,
            "align_content": null,
            "visibility": null,
            "align_self": null,
            "height": null,
            "min_height": null,
            "padding": null,
            "grid_auto_rows": null,
            "grid_gap": null,
            "max_width": null,
            "order": null,
            "_view_module_version": "1.2.0",
            "grid_template_areas": null,
            "object_position": null,
            "object_fit": null,
            "grid_auto_columns": null,
            "margin": null,
            "display": null,
            "left": null
          }
        },
        "6c2410b54ec341c79177c71c179457bb": {
          "model_module": "@jupyter-widgets/controls",
          "model_name": "DescriptionStyleModel",
          "state": {
            "_view_name": "StyleView",
            "_model_name": "DescriptionStyleModel",
            "description_width": "",
            "_view_module": "@jupyter-widgets/base",
            "_model_module_version": "1.5.0",
            "_view_count": null,
            "_view_module_version": "1.2.0",
            "_model_module": "@jupyter-widgets/controls"
          }
        },
        "791a5cb9fea14c008a5e94b88979e0b5": {
          "model_module": "@jupyter-widgets/base",
          "model_name": "LayoutModel",
          "state": {
            "_view_name": "LayoutView",
            "grid_template_rows": null,
            "right": null,
            "justify_content": null,
            "_view_module": "@jupyter-widgets/base",
            "overflow": null,
            "_model_module_version": "1.2.0",
            "_view_count": null,
            "flex_flow": null,
            "width": null,
            "min_width": null,
            "border": null,
            "align_items": null,
            "bottom": null,
            "_model_module": "@jupyter-widgets/base",
            "top": null,
            "grid_column": null,
            "overflow_y": null,
            "overflow_x": null,
            "grid_auto_flow": null,
            "grid_area": null,
            "grid_template_columns": null,
            "flex": null,
            "_model_name": "LayoutModel",
            "justify_items": null,
            "grid_row": null,
            "max_height": null,
            "align_content": null,
            "visibility": null,
            "align_self": null,
            "height": null,
            "min_height": null,
            "padding": null,
            "grid_auto_rows": null,
            "grid_gap": null,
            "max_width": null,
            "order": null,
            "_view_module_version": "1.2.0",
            "grid_template_areas": null,
            "object_position": null,
            "object_fit": null,
            "grid_auto_columns": null,
            "margin": null,
            "display": null,
            "left": null
          }
        },
        "6716716fa47742529b6b3e1a9b630311": {
          "model_module": "@jupyter-widgets/controls",
          "model_name": "HBoxModel",
          "state": {
            "_view_name": "HBoxView",
            "_dom_classes": [],
            "_model_name": "HBoxModel",
            "_view_module": "@jupyter-widgets/controls",
            "_model_module_version": "1.5.0",
            "_view_count": null,
            "_view_module_version": "1.5.0",
            "box_style": "",
            "layout": "IPY_MODEL_a8a2fb93b5b2447aaf0f2c4e6b8b4fc7",
            "_model_module": "@jupyter-widgets/controls",
            "children": [
              "IPY_MODEL_38665cec78b247a3803afe9399494052",
              "IPY_MODEL_7d9ea215a4a048929ae08dbca4d4c027"
            ]
          }
        },
        "a8a2fb93b5b2447aaf0f2c4e6b8b4fc7": {
          "model_module": "@jupyter-widgets/base",
          "model_name": "LayoutModel",
          "state": {
            "_view_name": "LayoutView",
            "grid_template_rows": null,
            "right": null,
            "justify_content": null,
            "_view_module": "@jupyter-widgets/base",
            "overflow": null,
            "_model_module_version": "1.2.0",
            "_view_count": null,
            "flex_flow": null,
            "width": null,
            "min_width": null,
            "border": null,
            "align_items": null,
            "bottom": null,
            "_model_module": "@jupyter-widgets/base",
            "top": null,
            "grid_column": null,
            "overflow_y": null,
            "overflow_x": null,
            "grid_auto_flow": null,
            "grid_area": null,
            "grid_template_columns": null,
            "flex": null,
            "_model_name": "LayoutModel",
            "justify_items": null,
            "grid_row": null,
            "max_height": null,
            "align_content": null,
            "visibility": null,
            "align_self": null,
            "height": null,
            "min_height": null,
            "padding": null,
            "grid_auto_rows": null,
            "grid_gap": null,
            "max_width": null,
            "order": null,
            "_view_module_version": "1.2.0",
            "grid_template_areas": null,
            "object_position": null,
            "object_fit": null,
            "grid_auto_columns": null,
            "margin": null,
            "display": null,
            "left": null
          }
        },
        "38665cec78b247a3803afe9399494052": {
          "model_module": "@jupyter-widgets/controls",
          "model_name": "FloatProgressModel",
          "state": {
            "_view_name": "ProgressView",
            "style": "IPY_MODEL_95a5c26974824f67b54b582c456cef23",
            "_dom_classes": [],
            "description": "",
            "_model_name": "FloatProgressModel",
            "bar_style": "success",
            "max": 1,
            "_view_module": "@jupyter-widgets/controls",
            "_model_module_version": "1.5.0",
            "value": 1,
            "_view_count": null,
            "_view_module_version": "1.5.0",
            "orientation": "horizontal",
            "min": 0,
            "description_tooltip": null,
            "_model_module": "@jupyter-widgets/controls",
            "layout": "IPY_MODEL_3edac3e12a874d05aa84563edb0e5396"
          }
        },
        "7d9ea215a4a048929ae08dbca4d4c027": {
          "model_module": "@jupyter-widgets/controls",
          "model_name": "HTMLModel",
          "state": {
            "_view_name": "HTMLView",
            "style": "IPY_MODEL_99924d4dae0946eca2e0a5bc7023f229",
            "_dom_classes": [],
            "description": "",
            "_model_name": "HTMLModel",
            "placeholder": "​",
            "_view_module": "@jupyter-widgets/controls",
            "_model_module_version": "1.5.0",
            "value": " 1654784/? [00:02&lt;00:00, 675560.48it/s]",
            "_view_count": null,
            "_view_module_version": "1.5.0",
            "description_tooltip": null,
            "_model_module": "@jupyter-widgets/controls",
            "layout": "IPY_MODEL_640bd2f6944d43c8ac40b3b27a052a96"
          }
        },
        "95a5c26974824f67b54b582c456cef23": {
          "model_module": "@jupyter-widgets/controls",
          "model_name": "ProgressStyleModel",
          "state": {
            "_view_name": "StyleView",
            "_model_name": "ProgressStyleModel",
            "description_width": "initial",
            "_view_module": "@jupyter-widgets/base",
            "_model_module_version": "1.5.0",
            "_view_count": null,
            "_view_module_version": "1.2.0",
            "bar_color": null,
            "_model_module": "@jupyter-widgets/controls"
          }
        },
        "3edac3e12a874d05aa84563edb0e5396": {
          "model_module": "@jupyter-widgets/base",
          "model_name": "LayoutModel",
          "state": {
            "_view_name": "LayoutView",
            "grid_template_rows": null,
            "right": null,
            "justify_content": null,
            "_view_module": "@jupyter-widgets/base",
            "overflow": null,
            "_model_module_version": "1.2.0",
            "_view_count": null,
            "flex_flow": null,
            "width": null,
            "min_width": null,
            "border": null,
            "align_items": null,
            "bottom": null,
            "_model_module": "@jupyter-widgets/base",
            "top": null,
            "grid_column": null,
            "overflow_y": null,
            "overflow_x": null,
            "grid_auto_flow": null,
            "grid_area": null,
            "grid_template_columns": null,
            "flex": null,
            "_model_name": "LayoutModel",
            "justify_items": null,
            "grid_row": null,
            "max_height": null,
            "align_content": null,
            "visibility": null,
            "align_self": null,
            "height": null,
            "min_height": null,
            "padding": null,
            "grid_auto_rows": null,
            "grid_gap": null,
            "max_width": null,
            "order": null,
            "_view_module_version": "1.2.0",
            "grid_template_areas": null,
            "object_position": null,
            "object_fit": null,
            "grid_auto_columns": null,
            "margin": null,
            "display": null,
            "left": null
          }
        },
        "99924d4dae0946eca2e0a5bc7023f229": {
          "model_module": "@jupyter-widgets/controls",
          "model_name": "DescriptionStyleModel",
          "state": {
            "_view_name": "StyleView",
            "_model_name": "DescriptionStyleModel",
            "description_width": "",
            "_view_module": "@jupyter-widgets/base",
            "_model_module_version": "1.5.0",
            "_view_count": null,
            "_view_module_version": "1.2.0",
            "_model_module": "@jupyter-widgets/controls"
          }
        },
        "640bd2f6944d43c8ac40b3b27a052a96": {
          "model_module": "@jupyter-widgets/base",
          "model_name": "LayoutModel",
          "state": {
            "_view_name": "LayoutView",
            "grid_template_rows": null,
            "right": null,
            "justify_content": null,
            "_view_module": "@jupyter-widgets/base",
            "overflow": null,
            "_model_module_version": "1.2.0",
            "_view_count": null,
            "flex_flow": null,
            "width": null,
            "min_width": null,
            "border": null,
            "align_items": null,
            "bottom": null,
            "_model_module": "@jupyter-widgets/base",
            "top": null,
            "grid_column": null,
            "overflow_y": null,
            "overflow_x": null,
            "grid_auto_flow": null,
            "grid_area": null,
            "grid_template_columns": null,
            "flex": null,
            "_model_name": "LayoutModel",
            "justify_items": null,
            "grid_row": null,
            "max_height": null,
            "align_content": null,
            "visibility": null,
            "align_self": null,
            "height": null,
            "min_height": null,
            "padding": null,
            "grid_auto_rows": null,
            "grid_gap": null,
            "max_width": null,
            "order": null,
            "_view_module_version": "1.2.0",
            "grid_template_areas": null,
            "object_position": null,
            "object_fit": null,
            "grid_auto_columns": null,
            "margin": null,
            "display": null,
            "left": null
          }
        },
        "4e1070cf613643369ca62191381605ed": {
          "model_module": "@jupyter-widgets/controls",
          "model_name": "HBoxModel",
          "state": {
            "_view_name": "HBoxView",
            "_dom_classes": [],
            "_model_name": "HBoxModel",
            "_view_module": "@jupyter-widgets/controls",
            "_model_module_version": "1.5.0",
            "_view_count": null,
            "_view_module_version": "1.5.0",
            "box_style": "",
            "layout": "IPY_MODEL_2352f07e077141a297b56f18dde41f5b",
            "_model_module": "@jupyter-widgets/controls",
            "children": [
              "IPY_MODEL_228fd977ee4545c69cf581ecd0f490bc",
              "IPY_MODEL_9b974099b2b34f2a86a3e25e3f410350"
            ]
          }
        },
        "2352f07e077141a297b56f18dde41f5b": {
          "model_module": "@jupyter-widgets/base",
          "model_name": "LayoutModel",
          "state": {
            "_view_name": "LayoutView",
            "grid_template_rows": null,
            "right": null,
            "justify_content": null,
            "_view_module": "@jupyter-widgets/base",
            "overflow": null,
            "_model_module_version": "1.2.0",
            "_view_count": null,
            "flex_flow": null,
            "width": null,
            "min_width": null,
            "border": null,
            "align_items": null,
            "bottom": null,
            "_model_module": "@jupyter-widgets/base",
            "top": null,
            "grid_column": null,
            "overflow_y": null,
            "overflow_x": null,
            "grid_auto_flow": null,
            "grid_area": null,
            "grid_template_columns": null,
            "flex": null,
            "_model_name": "LayoutModel",
            "justify_items": null,
            "grid_row": null,
            "max_height": null,
            "align_content": null,
            "visibility": null,
            "align_self": null,
            "height": null,
            "min_height": null,
            "padding": null,
            "grid_auto_rows": null,
            "grid_gap": null,
            "max_width": null,
            "order": null,
            "_view_module_version": "1.2.0",
            "grid_template_areas": null,
            "object_position": null,
            "object_fit": null,
            "grid_auto_columns": null,
            "margin": null,
            "display": null,
            "left": null
          }
        },
        "228fd977ee4545c69cf581ecd0f490bc": {
          "model_module": "@jupyter-widgets/controls",
          "model_name": "FloatProgressModel",
          "state": {
            "_view_name": "ProgressView",
            "style": "IPY_MODEL_46336ec4c0244f4eb9936106aa80bca6",
            "_dom_classes": [],
            "description": "",
            "_model_name": "FloatProgressModel",
            "bar_style": "success",
            "max": 1,
            "_view_module": "@jupyter-widgets/controls",
            "_model_module_version": "1.5.0",
            "value": 1,
            "_view_count": null,
            "_view_module_version": "1.5.0",
            "orientation": "horizontal",
            "min": 0,
            "description_tooltip": null,
            "_model_module": "@jupyter-widgets/controls",
            "layout": "IPY_MODEL_88840ad673f54b9fba9d10c4cc1b6a92"
          }
        },
        "9b974099b2b34f2a86a3e25e3f410350": {
          "model_module": "@jupyter-widgets/controls",
          "model_name": "HTMLModel",
          "state": {
            "_view_name": "HTMLView",
            "style": "IPY_MODEL_ffe24a9570db4bd7b3dc68792d17bcd7",
            "_dom_classes": [],
            "description": "",
            "_model_name": "HTMLModel",
            "placeholder": "​",
            "_view_module": "@jupyter-widgets/controls",
            "_model_module_version": "1.5.0",
            "value": " 8192/? [00:00&lt;00:00, 12245.16it/s]",
            "_view_count": null,
            "_view_module_version": "1.5.0",
            "description_tooltip": null,
            "_model_module": "@jupyter-widgets/controls",
            "layout": "IPY_MODEL_eed322cb1cec42779629bf0edfb47cd3"
          }
        },
        "46336ec4c0244f4eb9936106aa80bca6": {
          "model_module": "@jupyter-widgets/controls",
          "model_name": "ProgressStyleModel",
          "state": {
            "_view_name": "StyleView",
            "_model_name": "ProgressStyleModel",
            "description_width": "initial",
            "_view_module": "@jupyter-widgets/base",
            "_model_module_version": "1.5.0",
            "_view_count": null,
            "_view_module_version": "1.2.0",
            "bar_color": null,
            "_model_module": "@jupyter-widgets/controls"
          }
        },
        "88840ad673f54b9fba9d10c4cc1b6a92": {
          "model_module": "@jupyter-widgets/base",
          "model_name": "LayoutModel",
          "state": {
            "_view_name": "LayoutView",
            "grid_template_rows": null,
            "right": null,
            "justify_content": null,
            "_view_module": "@jupyter-widgets/base",
            "overflow": null,
            "_model_module_version": "1.2.0",
            "_view_count": null,
            "flex_flow": null,
            "width": null,
            "min_width": null,
            "border": null,
            "align_items": null,
            "bottom": null,
            "_model_module": "@jupyter-widgets/base",
            "top": null,
            "grid_column": null,
            "overflow_y": null,
            "overflow_x": null,
            "grid_auto_flow": null,
            "grid_area": null,
            "grid_template_columns": null,
            "flex": null,
            "_model_name": "LayoutModel",
            "justify_items": null,
            "grid_row": null,
            "max_height": null,
            "align_content": null,
            "visibility": null,
            "align_self": null,
            "height": null,
            "min_height": null,
            "padding": null,
            "grid_auto_rows": null,
            "grid_gap": null,
            "max_width": null,
            "order": null,
            "_view_module_version": "1.2.0",
            "grid_template_areas": null,
            "object_position": null,
            "object_fit": null,
            "grid_auto_columns": null,
            "margin": null,
            "display": null,
            "left": null
          }
        },
        "ffe24a9570db4bd7b3dc68792d17bcd7": {
          "model_module": "@jupyter-widgets/controls",
          "model_name": "DescriptionStyleModel",
          "state": {
            "_view_name": "StyleView",
            "_model_name": "DescriptionStyleModel",
            "description_width": "",
            "_view_module": "@jupyter-widgets/base",
            "_model_module_version": "1.5.0",
            "_view_count": null,
            "_view_module_version": "1.2.0",
            "_model_module": "@jupyter-widgets/controls"
          }
        },
        "eed322cb1cec42779629bf0edfb47cd3": {
          "model_module": "@jupyter-widgets/base",
          "model_name": "LayoutModel",
          "state": {
            "_view_name": "LayoutView",
            "grid_template_rows": null,
            "right": null,
            "justify_content": null,
            "_view_module": "@jupyter-widgets/base",
            "overflow": null,
            "_model_module_version": "1.2.0",
            "_view_count": null,
            "flex_flow": null,
            "width": null,
            "min_width": null,
            "border": null,
            "align_items": null,
            "bottom": null,
            "_model_module": "@jupyter-widgets/base",
            "top": null,
            "grid_column": null,
            "overflow_y": null,
            "overflow_x": null,
            "grid_auto_flow": null,
            "grid_area": null,
            "grid_template_columns": null,
            "flex": null,
            "_model_name": "LayoutModel",
            "justify_items": null,
            "grid_row": null,
            "max_height": null,
            "align_content": null,
            "visibility": null,
            "align_self": null,
            "height": null,
            "min_height": null,
            "padding": null,
            "grid_auto_rows": null,
            "grid_gap": null,
            "max_width": null,
            "order": null,
            "_view_module_version": "1.2.0",
            "grid_template_areas": null,
            "object_position": null,
            "object_fit": null,
            "grid_auto_columns": null,
            "margin": null,
            "display": null,
            "left": null
          }
        }
      }
    }
  },
  "cells": [
    {
      "cell_type": "code",
      "metadata": {
        "id": "LkRNO3wP-DVR",
        "colab_type": "code",
        "colab": {
          "base_uri": "https://localhost:8080/",
          "height": 153
        },
        "outputId": "6b3e8e9f-f118-4d40-bb14-07ad96d26eb8"
      },
      "source": [
        "!rm -rf *\n",
        "!git config --global user.name \"Akhilez\"\n",
        "!git config --global user.email \"akhild18@yahoo.com\"\n",
        "!git clone https://github.com/Akhilez/ml_gallery.git\n",
        "%cd ml_gallery/ml_py"
      ],
      "execution_count": 2,
      "outputs": [
        {
          "output_type": "stream",
          "text": [
            "Cloning into 'ml_gallery'...\n",
            "remote: Enumerating objects: 561, done.\u001b[K\n",
            "remote: Counting objects: 100% (561/561), done.\u001b[K\n",
            "remote: Compressing objects: 100% (388/388), done.\u001b[K\n",
            "remote: Total 2088 (delta 337), reused 350 (delta 159), pack-reused 1527\u001b[K\n",
            "Receiving objects: 100% (2088/2088), 11.75 MiB | 6.71 MiB/s, done.\n",
            "Resolving deltas: 100% (1275/1275), done.\n",
            "/content/ml_gallery/ml_py\n"
          ],
          "name": "stdout"
        }
      ]
    },
    {
      "cell_type": "code",
      "metadata": {
        "id": "mRMuULbI-0ML",
        "colab_type": "code",
        "colab": {}
      },
      "source": [
        "import os\n",
        "os.environ['SECRET_KEY'] = '1234'\n",
        "%mkdir -p data/mnist/numbers"
      ],
      "execution_count": 3,
      "outputs": []
    },
    {
      "cell_type": "code",
      "metadata": {
        "id": "jMr-foIX-5i5",
        "colab_type": "code",
        "colab": {}
      },
      "source": [
        "import torch\n",
        "from torch.nn.functional import relu\n",
        "from collections import namedtuple\n",
        "import numpy as np\n",
        "from lib.mnist_aug.mnist_augmenter import DataManager, MNISTAug"
      ],
      "execution_count": 59,
      "outputs": []
    },
    {
      "cell_type": "code",
      "metadata": {
        "id": "eshztUwq-6FE",
        "colab_type": "code",
        "colab": {
          "base_uri": "https://localhost:8080/",
          "height": 34
        },
        "outputId": "bc43f7f8-1c26-485a-e335-8f0ea443142d"
      },
      "source": [
        "# Device configuration\n",
        "device = torch.device('cuda' if torch.cuda.is_available() else 'cpu')\n",
        "device"
      ],
      "execution_count": 5,
      "outputs": [
        {
          "output_type": "execute_result",
          "data": {
            "text/plain": [
              "device(type='cpu')"
            ]
          },
          "metadata": {
            "tags": []
          },
          "execution_count": 5
        }
      ]
    },
    {
      "cell_type": "code",
      "metadata": {
        "id": "z0Db7Exb-8D8",
        "colab_type": "code",
        "colab": {
          "base_uri": "https://localhost:8080/",
          "height": 420,
          "referenced_widgets": [
            "17474c4c8bc840e69bb77973f7d0e476",
            "39d6e4f11dca47f8907d4a41e08017d8",
            "44a77d46557e4cd3a1636dbe16dfd8b8",
            "44d957215ba4483ebbd435f4479a778e",
            "85974e8593904dd9b92a26b824fbb1e0",
            "c9ec5965fbab46bda7791d4805f7418c",
            "2671ea5861bc48fbb571e8669e7617c1",
            "6f0d37008b994d678bc8f9342fc43d98",
            "f6081ac8bc984bf09ca950d8cec41503",
            "634fbe7459fe42f781b88c7cfea5de03",
            "87a3d0884b144e68be247b8815589eca",
            "ddeb5a46833947f0856d06e549761bca",
            "6bc59f5fa76a4ddfa95b8b711797e66b",
            "308df23121e74fbb9254b7885f6569cc",
            "6c2410b54ec341c79177c71c179457bb",
            "791a5cb9fea14c008a5e94b88979e0b5",
            "6716716fa47742529b6b3e1a9b630311",
            "a8a2fb93b5b2447aaf0f2c4e6b8b4fc7",
            "38665cec78b247a3803afe9399494052",
            "7d9ea215a4a048929ae08dbca4d4c027",
            "95a5c26974824f67b54b582c456cef23",
            "3edac3e12a874d05aa84563edb0e5396",
            "99924d4dae0946eca2e0a5bc7023f229",
            "640bd2f6944d43c8ac40b3b27a052a96",
            "4e1070cf613643369ca62191381605ed",
            "2352f07e077141a297b56f18dde41f5b",
            "228fd977ee4545c69cf581ecd0f490bc",
            "9b974099b2b34f2a86a3e25e3f410350",
            "46336ec4c0244f4eb9936106aa80bca6",
            "88840ad673f54b9fba9d10c4cc1b6a92",
            "ffe24a9570db4bd7b3dc68792d17bcd7",
            "eed322cb1cec42779629bf0edfb47cd3"
          ]
        },
        "outputId": "8baeaa5c-dcb9-4278-fb9d-1b4cf9027eb0"
      },
      "source": [
        "aug = MNISTAug()\n",
        "dm = DataManager()\n",
        "dm.load()\n",
        "aug.max_objects = 10\n",
        "aug.min_objects = 4"
      ],
      "execution_count": 6,
      "outputs": [
        {
          "output_type": "stream",
          "text": [
            "Downloading http://yann.lecun.com/exdb/mnist/train-images-idx3-ubyte.gz to /content/ml_gallery/ml_py/data/mnist/numbers/MNIST/raw/train-images-idx3-ubyte.gz\n"
          ],
          "name": "stdout"
        },
        {
          "output_type": "display_data",
          "data": {
            "application/vnd.jupyter.widget-view+json": {
              "model_id": "17474c4c8bc840e69bb77973f7d0e476",
              "version_minor": 0,
              "version_major": 2
            },
            "text/plain": [
              "HBox(children=(FloatProgress(value=1.0, bar_style='info', max=1.0), HTML(value='')))"
            ]
          },
          "metadata": {
            "tags": []
          }
        },
        {
          "output_type": "stream",
          "text": [
            "Extracting /content/ml_gallery/ml_py/data/mnist/numbers/MNIST/raw/train-images-idx3-ubyte.gz to /content/ml_gallery/ml_py/data/mnist/numbers/MNIST/raw\n",
            "Downloading http://yann.lecun.com/exdb/mnist/train-labels-idx1-ubyte.gz to /content/ml_gallery/ml_py/data/mnist/numbers/MNIST/raw/train-labels-idx1-ubyte.gz\n"
          ],
          "name": "stdout"
        },
        {
          "output_type": "display_data",
          "data": {
            "application/vnd.jupyter.widget-view+json": {
              "model_id": "f6081ac8bc984bf09ca950d8cec41503",
              "version_minor": 0,
              "version_major": 2
            },
            "text/plain": [
              "HBox(children=(FloatProgress(value=1.0, bar_style='info', max=1.0), HTML(value='')))"
            ]
          },
          "metadata": {
            "tags": []
          }
        },
        {
          "output_type": "stream",
          "text": [
            "Extracting /content/ml_gallery/ml_py/data/mnist/numbers/MNIST/raw/train-labels-idx1-ubyte.gz to /content/ml_gallery/ml_py/data/mnist/numbers/MNIST/raw\n",
            "Downloading http://yann.lecun.com/exdb/mnist/t10k-images-idx3-ubyte.gz to /content/ml_gallery/ml_py/data/mnist/numbers/MNIST/raw/t10k-images-idx3-ubyte.gz\n"
          ],
          "name": "stdout"
        },
        {
          "output_type": "display_data",
          "data": {
            "application/vnd.jupyter.widget-view+json": {
              "model_id": "6716716fa47742529b6b3e1a9b630311",
              "version_minor": 0,
              "version_major": 2
            },
            "text/plain": [
              "HBox(children=(FloatProgress(value=1.0, bar_style='info', max=1.0), HTML(value='')))"
            ]
          },
          "metadata": {
            "tags": []
          }
        },
        {
          "output_type": "stream",
          "text": [
            "Extracting /content/ml_gallery/ml_py/data/mnist/numbers/MNIST/raw/t10k-images-idx3-ubyte.gz to /content/ml_gallery/ml_py/data/mnist/numbers/MNIST/raw\n",
            "Downloading http://yann.lecun.com/exdb/mnist/t10k-labels-idx1-ubyte.gz to /content/ml_gallery/ml_py/data/mnist/numbers/MNIST/raw/t10k-labels-idx1-ubyte.gz\n"
          ],
          "name": "stdout"
        },
        {
          "output_type": "display_data",
          "data": {
            "application/vnd.jupyter.widget-view+json": {
              "model_id": "4e1070cf613643369ca62191381605ed",
              "version_minor": 0,
              "version_major": 2
            },
            "text/plain": [
              "HBox(children=(FloatProgress(value=1.0, bar_style='info', max=1.0), HTML(value='')))"
            ]
          },
          "metadata": {
            "tags": []
          }
        },
        {
          "output_type": "stream",
          "text": [
            "Extracting /content/ml_gallery/ml_py/data/mnist/numbers/MNIST/raw/t10k-labels-idx1-ubyte.gz to /content/ml_gallery/ml_py/data/mnist/numbers/MNIST/raw\n",
            "Processing...\n",
            "Done!\n",
            "\n",
            "\n"
          ],
          "name": "stdout"
        },
        {
          "output_type": "stream",
          "text": [
            "/pytorch/torch/csrc/utils/tensor_numpy.cpp:141: UserWarning: The given NumPy array is not writeable, and PyTorch does not support non-writeable tensors. This means you can write to the underlying (supposedly non-writeable) NumPy array using the tensor. You may want to copy the array to protect its data or make it writeable before converting it to a tensor. This type of warning will be suppressed for the rest of this program.\n"
          ],
          "name": "stderr"
        },
        {
          "output_type": "stream",
          "text": [
            "\n",
            "\n"
          ],
          "name": "stdout"
        }
      ]
    },
    {
      "cell_type": "code",
      "metadata": {
        "id": "FCidsSEL_T9U",
        "colab_type": "code",
        "colab": {}
      },
      "source": [
        "x_train, y_train = aug.get_augmented(dm.x_train, dm.y_train, 10)\n",
        "x_test, y_test = aug.get_augmented(dm.x_test, dm.y_test, 2)"
      ],
      "execution_count": 7,
      "outputs": []
    },
    {
      "cell_type": "code",
      "metadata": {
        "id": "GsNoRI-a_Z8m",
        "colab_type": "code",
        "colab": {}
      },
      "source": [
        "x_train = torch.tensor(x_train.reshape(-1, 1, 112, 112)).type('torch.FloatTensor')\n",
        "x_test = torch.tensor(x_test.reshape(-1, 1, 112, 112)).type('torch.FloatTensor')"
      ],
      "execution_count": 8,
      "outputs": []
    },
    {
      "cell_type": "code",
      "metadata": {
        "id": "QbZOSOWO_cZ7",
        "colab_type": "code",
        "colab": {
          "base_uri": "https://localhost:8080/",
          "height": 1000
        },
        "outputId": "43b831d0-0974-4c75-dbc9-de9e94df5443"
      },
      "source": [
        "DataManager.plot_num(x_train[0].reshape((112, 112)), y_train[0])\n",
        "y_train[0]"
      ],
      "execution_count": 9,
      "outputs": [
        {
          "output_type": "execute_result",
          "data": {
            "text/plain": [
              "[{'class': 4,\n",
              "  'class_one_hot': tensor([0., 0., 0., 0., 1., 0., 0., 0., 0., 0.]),\n",
              "  'cx': 51.0,\n",
              "  'cy': 32.0,\n",
              "  'height': 32,\n",
              "  'width': 32,\n",
              "  'x1': 35,\n",
              "  'x2': 67,\n",
              "  'y1': 16,\n",
              "  'y2': 48},\n",
              " {'class': 5,\n",
              "  'class_one_hot': tensor([0., 0., 0., 0., 0., 1., 0., 0., 0., 0.]),\n",
              "  'cx': 30.0,\n",
              "  'cy': 96.0,\n",
              "  'height': 32,\n",
              "  'width': 36,\n",
              "  'x1': 12,\n",
              "  'x2': 48,\n",
              "  'y1': 80,\n",
              "  'y2': 112},\n",
              " {'class': 8,\n",
              "  'class_one_hot': tensor([0., 0., 0., 0., 0., 0., 0., 0., 1., 0.]),\n",
              "  'cx': 91.0,\n",
              "  'cy': 56.0,\n",
              "  'height': 30,\n",
              "  'width': 30,\n",
              "  'x1': 76,\n",
              "  'x2': 106,\n",
              "  'y1': 41,\n",
              "  'y2': 71},\n",
              " {'class': 8,\n",
              "  'class_one_hot': tensor([0., 0., 0., 0., 0., 0., 0., 0., 1., 0.]),\n",
              "  'cx': 16.0,\n",
              "  'cy': 33.0,\n",
              "  'height': 30,\n",
              "  'width': 30,\n",
              "  'x1': 1,\n",
              "  'x2': 31,\n",
              "  'y1': 18,\n",
              "  'y2': 48},\n",
              " {'class': 2,\n",
              "  'class_one_hot': tensor([0., 0., 1., 0., 0., 0., 0., 0., 0., 0.]),\n",
              "  'cx': 99.0,\n",
              "  'cy': 11.0,\n",
              "  'height': 22,\n",
              "  'width': 22,\n",
              "  'x1': 88,\n",
              "  'x2': 110,\n",
              "  'y1': 0,\n",
              "  'y2': 22},\n",
              " {'class': 1,\n",
              "  'class_one_hot': tensor([0., 1., 0., 0., 0., 0., 0., 0., 0., 0.]),\n",
              "  'cx': 76.0,\n",
              "  'cy': 92.5,\n",
              "  'height': 39,\n",
              "  'width': 46,\n",
              "  'x1': 53,\n",
              "  'x2': 99,\n",
              "  'y1': 73,\n",
              "  'y2': 112},\n",
              " {'class': 6,\n",
              "  'class_one_hot': tensor([0., 0., 0., 0., 0., 0., 1., 0., 0., 0.]),\n",
              "  'cx': 51.5,\n",
              "  'cy': 60.5,\n",
              "  'height': 17,\n",
              "  'width': 17,\n",
              "  'x1': 43,\n",
              "  'x2': 60,\n",
              "  'y1': 52,\n",
              "  'y2': 69},\n",
              " {'class': 7,\n",
              "  'class_one_hot': tensor([0., 0., 0., 0., 0., 0., 0., 1., 0., 0.]),\n",
              "  'cx': 98.5,\n",
              "  'cy': 77.5,\n",
              "  'height': 37,\n",
              "  'width': 27,\n",
              "  'x1': 85,\n",
              "  'x2': 112,\n",
              "  'y1': 59,\n",
              "  'y2': 96},\n",
              " {'class': 7,\n",
              "  'class_one_hot': tensor([0., 0., 0., 0., 0., 0., 0., 1., 0., 0.]),\n",
              "  'cx': 13.5,\n",
              "  'cy': 68.5,\n",
              "  'height': 23,\n",
              "  'width': 23,\n",
              "  'x1': 2,\n",
              "  'x2': 25,\n",
              "  'y1': 57,\n",
              "  'y2': 80}]"
            ]
          },
          "metadata": {
            "tags": []
          },
          "execution_count": 9
        },
        {
          "output_type": "display_data",
          "data": {
            "image/png": "[encoded data removed]",
            "text/plain": [
              "<Figure size 432x288 with 1 Axes>"
            ]
          },
          "metadata": {
            "tags": [],
            "needs_background": "light"
          }
        }
      ]
    },
    {
      "cell_type": "code",
      "metadata": {
        "id": "1Y5MvcmNiNbD",
        "colab_type": "code",
        "colab": {}
      },
      "source": [
        "def to_one_hot(x, num_classes=10):\n",
        "  b = np.zeros((len(x), num_classes), dtype=np.float32)\n",
        "  b[np.arange(len(x)), x] = 1\n",
        "  return b"
      ],
      "execution_count": 77,
      "outputs": []
    },
    {
      "cell_type": "code",
      "metadata": {
        "id": "jI8jVrA5_ecs",
        "colab_type": "code",
        "colab": {}
      },
      "source": [
        "# 14 * 14  = 196 anchor boxes\n",
        "# side of each anchor box = 28\n",
        "\n",
        "n_anchors = 14 * 14\n",
        "\n",
        "anchor_grid_spacing = 8\n",
        "\n",
        "anchor_centers = []\n",
        "for i in range(14):\n",
        "  anchor_row = []\n",
        "  for j in range(14):\n",
        "    anchor_row.append([\n",
        "      j * anchor_grid_spacing + anchor_grid_spacing / 2,\n",
        "      i * anchor_grid_spacing + anchor_grid_spacing / 2,\n",
        "    ])\n",
        "  anchor_centers.append(anchor_row)\n",
        "anchor_centers = torch.tensor(anchor_centers).reshape((-1, 2))"
      ],
      "execution_count": 37,
      "outputs": []
    },
    {
      "cell_type": "code",
      "metadata": {
        "id": "o-zkgDcan4ss",
        "colab_type": "code",
        "colab": {}
      },
      "source": [
        "def get_iou(anchor_center, bounding_box):\n",
        "\n",
        "  boxA = [anchor_center[0]-14, anchor_center[1]-14, anchor_center[0]+14, anchor_center[1]+14]\n",
        "  boxB = [bounding_box['x1'], bounding_box['y1'], bounding_box['x2'], bounding_box['y2']]\n",
        "\n",
        "  # determine the (x, y)-coordinates of the intersection rectangle\n",
        "  xA = max(boxA[0], boxB[0])\n",
        "  yA = max(boxA[1], boxB[1])\n",
        "  xB = min(boxA[2], boxB[2])\n",
        "  yB = min(boxA[3], boxB[3])\n",
        "  # compute the area of intersection rectangle\n",
        "  interArea = max(0, xB - xA + 1) * max(0, yB - yA + 1)\n",
        "  # compute the area of both the prediction and ground-truth\n",
        "  # rectangles\n",
        "  boxAArea = (boxA[2] - boxA[0] + 1) * (boxA[3] - boxA[1] + 1)\n",
        "  boxBArea = (boxB[2] - boxB[0] + 1) * (boxB[3] - boxB[1] + 1)\n",
        "  # compute the intersection over union by taking the intersection\n",
        "  # area and dividing it by the sum of prediction + ground-truth\n",
        "  # areas - the interesection area\n",
        "  iou = interArea / float(boxAArea + boxBArea - interArea)\n",
        "  # return the intersection over union value\n",
        "  return iou"
      ],
      "execution_count": 27,
      "outputs": []
    },
    {
      "cell_type": "code",
      "metadata": {
        "id": "NCzt7-3Aof3y",
        "colab_type": "code",
        "colab": {}
      },
      "source": [
        "def get_positive_box_index(anchor, bounding_boxes):\n",
        "  max_iou, max_iou_index = 0, -1\n",
        "  for bounding_i in range(len(bounding_boxes)):\n",
        "    iou = get_iou(anchor, bounding_boxes[bounding_i])\n",
        "    if iou > max_iou:\n",
        "      max_iou = iou\n",
        "      max_iou_index = bounding_i\n",
        "  if max_iou > 0.3:\n",
        "    return max_iou_index\n",
        "  return -1"
      ],
      "execution_count": 32,
      "outputs": []
    },
    {
      "cell_type": "code",
      "metadata": {
        "id": "A0CKF8vFvNe3",
        "colab_type": "code",
        "colab": {}
      },
      "source": [
        "def get_positive_anchors(y_batch):\n",
        "  \"\"\"\n",
        "  1. For Each item in the batch:\n",
        "  2. For each anchor box:\n",
        "    - For each bounding box:\n",
        "      - Find the IoU.\n",
        "    - Pick bounding box with highest IoU\n",
        "    - If highest IoU is < 0.3, then continue 1.\n",
        "    # - Create the difference units for the anchor and the bounding box as y\n",
        "    - Now add the anchor box and bounding box into a map.\n",
        "  \"\"\"\n",
        "  positive_pairs = []\n",
        "  for batch_i in range(len(y_batch)):\n",
        "    positive_pairs_batch = []\n",
        "    for anchor_i in range(len(anchor_centers)):\n",
        "      bounding_boxes = y_batch[batch_i]\n",
        "      positive_box_index = get_positive_box_index(anchor_centers[anchor_i], bounding_boxes)\n",
        "      if positive_box_index > -1:\n",
        "        positive_pairs_batch.append({'anchor_index': anchor_i, 'bounding_box_index': positive_box_index})\n",
        "    positive_pairs.append(positive_pairs_batch)\n",
        "  return positive_pairs"
      ],
      "execution_count": 35,
      "outputs": []
    },
    {
      "cell_type": "code",
      "metadata": {
        "id": "CU87LW700FIz",
        "colab_type": "code",
        "colab": {
          "base_uri": "https://localhost:8080/",
          "height": 68
        },
        "outputId": "ef0be523-486a-437c-a5fa-174a5fd78760"
      },
      "source": [
        "positives = get_positive_anchors(y_test[:2])\n",
        "for positive in positives:\n",
        "  print(len(positive))\n",
        "14 * 14"
      ],
      "execution_count": 36,
      "outputs": [
        {
          "output_type": "stream",
          "text": [
            "73\n",
            "47\n"
          ],
          "name": "stdout"
        },
        {
          "output_type": "execute_result",
          "data": {
            "text/plain": [
              "196"
            ]
          },
          "metadata": {
            "tags": []
          },
          "execution_count": 36
        }
      ]
    },
    {
      "cell_type": "code",
      "metadata": {
        "id": "cMmayJpt3snc",
        "colab_type": "code",
        "colab": {}
      },
      "source": [
        "def get_fractional_difference(anchor, bounding_box):\n",
        "  a_box = anchor\n",
        "  b_box = bounding_box\n",
        "\n",
        "  cx_d = (b_box['cx'] - a_box[0]) / 112\n",
        "  cy_d = (b_box['cy'] - a_box[1]) / 112\n",
        "  wd = (b_box['width'] - 28) / 112\n",
        "\n",
        "  return cx_d, cy_d, wd\n",
        "\n",
        "def get_units_from_diff(anchor, bounding_box):\n",
        "  cx_d = bounding_box['cx'] * 112 + anchor[0]\n",
        "  cy_d = bounding_box['cy'] * 112 + anchor[1]\n",
        "  wd = bounding_box['width'] * 112 + 28\n",
        "\n",
        "  return cx_d, cy_d, wd"
      ],
      "execution_count": 39,
      "outputs": []
    },
    {
      "cell_type": "code",
      "metadata": {
        "id": "mzx8r9zCLPSX",
        "colab_type": "code",
        "colab": {}
      },
      "source": [
        "def get_confidences(positive_pairs):\n",
        "  confidences = torch.zeros((14 * 14), dtype=torch.int)\n",
        "  for pair in positive_pairs:\n",
        "    confidences[pair['anchor_index']] = 1\n",
        "  return torch.tensor(to_one_hot(confidences.numpy(), 2)).reshape((-1))"
      ],
      "execution_count": 91,
      "outputs": []
    },
    {
      "cell_type": "code",
      "metadata": {
        "id": "mOYEt0PtqNnp",
        "colab_type": "code",
        "colab": {}
      },
      "source": [
        "def get_y_d(y):\n",
        "  \"\"\"\n",
        "  Find all the positive anchor pairs.\n",
        "  for each of y:\n",
        "    for each pair in yi:\n",
        "      find fractional difference in anchor and bounding box.\n",
        "      append the fractional difference to the pair.\n",
        "  \"\"\"\n",
        "  y_d = []\n",
        "  positive_pairs = get_positive_anchors(y)\n",
        "  for yi in range(len(y)):\n",
        "    diffs = []\n",
        "    for pair_i in range(len(y[yi])):\n",
        "      pair = positive_pairs[yi][pair_i]\n",
        "      anchor = anchor_centers[pair['anchor_index']]\n",
        "      bounding_box = y[yi][pair['bounding_box_index']]\n",
        "      cx_d, cy_d, wd = get_fractional_difference(anchor, bounding_box)\n",
        "      diffs.append((cx_d, cy_d, wd))\n",
        "    y_d.append({'diffs': torch.tensor(diffs), 'confidences': get_confidences(positive_pairs[yi])})\n",
        "  return y_d"
      ],
      "execution_count": 105,
      "outputs": []
    },
    {
      "cell_type": "code",
      "metadata": {
        "id": "scrpMShajX4I",
        "colab_type": "code",
        "colab": {}
      },
      "source": [
        "y_train_d = get_y_d(y_train)\n",
        "y_test_d = get_y_d(y_test)"
      ],
      "execution_count": 106,
      "outputs": []
    },
    {
      "cell_type": "code",
      "metadata": {
        "id": "BY0kO-k5R2qA",
        "colab_type": "code",
        "colab": {
          "base_uri": "https://localhost:8080/",
          "height": 527
        },
        "outputId": "e960acef-23d6-4049-af10-3117c538815d"
      },
      "source": [
        "y_test_d[0]"
      ],
      "execution_count": 107,
      "outputs": [
        {
          "output_type": "execute_result",
          "data": {
            "text/plain": [
              "{'confidences': tensor([1., 0., 1., 0., 1., 0., 1., 0., 0., 1., 0., 1., 1., 0., 1., 0., 1., 0.,\n",
              "         1., 0., 1., 0., 1., 0., 1., 0., 1., 0., 1., 0., 1., 0., 1., 0., 0., 1.,\n",
              "         0., 1., 0., 1., 0., 1., 1., 0., 1., 0., 1., 0., 1., 0., 0., 1., 1., 0.,\n",
              "         1., 0., 1., 0., 1., 0., 1., 0., 1., 0., 0., 1., 0., 1., 0., 1., 1., 0.,\n",
              "         1., 0., 1., 0., 0., 1., 0., 1., 0., 1., 1., 0., 1., 0., 1., 0., 1., 0.,\n",
              "         1., 0., 1., 0., 0., 1., 1., 0., 1., 0., 1., 0., 0., 1., 0., 1., 0., 1.,\n",
              "         0., 1., 0., 1., 1., 0., 1., 0., 1., 0., 1., 0., 0., 1., 0., 1., 0., 1.,\n",
              "         1., 0., 0., 1., 0., 1., 0., 1., 0., 1., 0., 1., 1., 0., 1., 0., 1., 0.,\n",
              "         1., 0., 1., 0., 0., 1., 0., 1., 0., 1., 0., 1., 0., 1., 0., 1., 0., 1.,\n",
              "         1., 0., 1., 0., 1., 0., 1., 0., 1., 0., 1., 0., 1., 0., 0., 1., 0., 1.,\n",
              "         0., 1., 1., 0., 0., 1., 0., 1., 0., 1., 0., 1., 1., 0., 1., 0., 1., 0.,\n",
              "         1., 0., 1., 0., 1., 0., 1., 0., 1., 0., 1., 0., 1., 0., 1., 0., 0., 1.,\n",
              "         0., 1., 0., 1., 0., 1., 1., 0., 1., 0., 1., 0., 1., 0., 1., 0., 1., 0.,\n",
              "         1., 0., 1., 0., 1., 0., 1., 0., 0., 1., 0., 1., 0., 1., 0., 1., 1., 0.,\n",
              "         1., 0., 1., 0., 1., 0., 1., 0., 0., 1., 0., 1., 0., 1., 1., 0., 1., 0.,\n",
              "         0., 1., 0., 1., 0., 1., 1., 0., 1., 0., 1., 0., 1., 0., 1., 0., 0., 1.,\n",
              "         0., 1., 0., 1., 0., 1., 1., 0., 1., 0., 1., 0., 0., 1., 0., 1., 0., 1.,\n",
              "         1., 0., 1., 0., 1., 0., 1., 0., 1., 0., 0., 1., 0., 1., 0., 1., 0., 1.,\n",
              "         0., 1., 1., 0., 0., 1., 0., 1., 0., 1., 1., 0., 1., 0., 1., 0., 1., 0.,\n",
              "         1., 0., 1., 0., 1., 0., 0., 1., 0., 1., 0., 1., 1., 0., 1., 0., 1., 0.,\n",
              "         1., 0., 1., 0., 1., 0., 1., 0., 1., 0., 1., 0., 1., 0., 1., 0., 1., 0.,\n",
              "         1., 0., 1., 0., 1., 0., 1., 0., 1., 0., 1., 0., 1., 0.]),\n",
              " 'diffs': tensor([[ 0.0446,  0.0982, -0.0179],\n",
              "         [-0.0268,  0.0982, -0.0179],\n",
              "         [ 0.1161,  0.0268, -0.0179],\n",
              "         [ 0.0446,  0.0268, -0.0179],\n",
              "         [-0.0268,  0.0268, -0.0179],\n",
              "         [-0.0982,  0.0268, -0.0179],\n",
              "         [ 0.0134,  0.1339,  0.0804],\n",
              "         [ 0.0446, -0.0446, -0.0179]])}"
            ]
          },
          "metadata": {
            "tags": []
          },
          "execution_count": 107
        }
      ]
    },
    {
      "cell_type": "code",
      "metadata": {
        "id": "cGzrsvx1IemW",
        "colab_type": "code",
        "colab": {}
      },
      "source": [
        "class BoxPredictor(torch.nn.Module):\n",
        "  def __init__(self):\n",
        "    super().__init__()\n",
        "    self.linear1 = torch.nn.Linear(4096, 1024)\n",
        "    self.linear2 = torch.nn.Linear(1024, 3 * n_anchors)\n",
        "\n",
        "  def forward(self, x):\n",
        "    x = relu(self.linear1(x))\n",
        "    x = torch.tanh(self.linear2(x))\n",
        "    return x\n",
        "\n",
        "\n",
        "class ConfidencePredictor(torch.nn.Module):\n",
        "  def __init__(self):\n",
        "    super().__init__()\n",
        "    self.linear1 = torch.nn.Linear(4096, 1024)\n",
        "    self.linear2 = torch.nn.Linear(1024, 2 * n_anchors)\n",
        "\n",
        "  def forward(self, x):\n",
        "    x = relu(self.linear1(x))\n",
        "    x = torch.nn.functional.softmax(self.linear2(x).reshape((-1, n_anchors, 2)), 2)\n",
        "    return x\n",
        "\n",
        "\n",
        "class DetectorV1 (torch.nn.Module):\n",
        "    def __init__(self):\n",
        "        super().__init__()\n",
        "        self.conv1 = torch.nn.Conv2d(1, 32, 3, padding=1)  # 112x112\n",
        "        self.conv2 = torch.nn.Conv2d(32, 64, 3, stride=2, padding=1)  # 56x56\n",
        "        self.conv3 = torch.nn.Conv2d(64, 128, 3, stride=2, padding=1)  # 28x28\n",
        "        self.conv4 = torch.nn.Conv2d(128, 256, 3, stride=2, padding=1)  # 14x14\n",
        "        self.conv5 = torch.nn.Conv2d(256, 512, 3, stride=2, padding=1)  # 7x7\n",
        "        self.linear1 = torch.nn.Linear(25088, 4096)\n",
        "        self.box_predictor = BoxPredictor()\n",
        "        self.confidence_predictor = ConfidencePredictor()\n",
        "\n",
        "    def forward(self, x):\n",
        "        x = relu(self.conv1(x))  # 112\n",
        "        x = relu(self.conv2(x))  # 56\n",
        "        x = relu(self.conv3(x))  # 28\n",
        "        x = relu(self.conv4(x))  # 14\n",
        "        x = relu(self.conv5(x))  # 7\n",
        "        x = torch.flatten(x, 1)\n",
        "        x = relu(self.linear1(x))\n",
        "        boxes = self.box_predictor(x)\n",
        "        confidences = self.confidence_predictor(x)\n",
        "        return boxes, confidences\n",
        "\n",
        "model = DetectorV1().to(device)\n",
        "optimizer = torch.optim.Adam(model.parameters())"
      ],
      "execution_count": 104,
      "outputs": []
    },
    {
      "cell_type": "markdown",
      "metadata": {
        "id": "Q1hyZNulvcq_",
        "colab_type": "text"
      },
      "source": [
        "Steps:\n",
        " - get the predictions.\n",
        " - Find the anchors which have >0.1 IoU -> +ve anchors\n",
        " - Find the matching bounding box for each +ve anchor\n",
        " - All +ve anchors are high confidence, rest are low.\n",
        " - What is the loss for -ve anchors?\n"
      ]
    },
    {
      "cell_type": "code",
      "metadata": {
        "id": "SGl7qtS3u92g",
        "colab_type": "code",
        "colab": {}
      },
      "source": [
        "epochs = 2\n",
        "batch_size = 5\n",
        "\n",
        "for epoch in range(epochs):\n",
        "    \n",
        "    for i in range(0, len(x_train), batch_size):\n",
        "        start_index = i\n",
        "        end_index = i+batch_size\n",
        "        \n",
        "        x_batch = x_train[start_index:end_index].to(device)\n",
        "        y_batch = y_d_train[start_index:end_index]\n",
        "        \n",
        "        optimizer.zero_grad()\n",
        "\n",
        "        y_hat = model(x_batch)\n",
        "\n",
        "        for i in range(batch_size):\n",
        "          y_diffs = y_batch[i]['diffs'].to(device)\n",
        "          # Find the positive indices.\n",
        "          # positive_indices = \n",
        "\n",
        "        positive_anchors = get_positive_anchors(y_hat, y_batch)\n",
        "\n",
        "        loss = sum(sum((y_batch - y_hat)**2))\n",
        "        \n",
        "        loss.backward()\n",
        "        optimizer.step()\n",
        "        \n",
        "    print(f'Epoch: {epoch}, loss={float(loss)}')"
      ],
      "execution_count": null,
      "outputs": []
    }
  ]
}