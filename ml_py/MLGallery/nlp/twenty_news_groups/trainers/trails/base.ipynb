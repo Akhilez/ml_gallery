{
  "nbformat": 4,
  "nbformat_minor": 0,
  "metadata": {
    "colab": {
      "name": "custom_test1.ipynb",
      "provenance": [],
      "collapsed_sections": []
    },
    "kernelspec": {
      "name": "python3",
      "display_name": "Python 3"
    },
    "accelerator": "GPU"
  },
  "cells": [
    {
      "cell_type": "code",
      "metadata": {
        "id": "03YcbT9HSJtw",
        "colab_type": "code",
        "colab": {
          "base_uri": "https://localhost:8080/",
          "height": 408
        },
        "outputId": "e4fbc6c6-af9c-45a2-c9be-c289f1cf95c4"
      },
      "source": [
        "# Downlod the dataset\n",
        "! rm -rf data\n",
        "! rm *.csv*\n",
        "! wget https://storage.googleapis.com/akhilez/datasets/singularity_systems/test_custom.csv\n",
        "! wget https://storage.googleapis.com/akhilez/datasets/singularity_systems/train_custom.csv\n",
        "! mkdir -p data\n",
        "! mv *.csv data/\n"
      ],
      "execution_count": 1,
      "outputs": [
        {
          "output_type": "stream",
          "text": [
            "rm: cannot remove '*.csv*': No such file or directory\n",
            "--2020-08-02 20:26:58--  https://storage.googleapis.com/akhilez/datasets/singularity_systems/test_custom.csv\n",
            "Resolving storage.googleapis.com (storage.googleapis.com)... 74.125.203.128, 74.125.204.128, 64.233.187.128, ...\n",
            "Connecting to storage.googleapis.com (storage.googleapis.com)|74.125.203.128|:443... connected.\n",
            "HTTP request sent, awaiting response... 200 OK\n",
            "Length: 4111913 (3.9M) [text/csv]\n",
            "Saving to: ‘test_custom.csv’\n",
            "\n",
            "test_custom.csv     100%[===================>]   3.92M  --.-KB/s    in 0.03s   \n",
            "\n",
            "2020-08-02 20:26:58 (136 MB/s) - ‘test_custom.csv’ saved [4111913/4111913]\n",
            "\n",
            "--2020-08-02 20:27:00--  https://storage.googleapis.com/akhilez/datasets/singularity_systems/train_custom.csv\n",
            "Resolving storage.googleapis.com (storage.googleapis.com)... 74.125.203.128, 74.125.204.128, 64.233.187.128, ...\n",
            "Connecting to storage.googleapis.com (storage.googleapis.com)|74.125.203.128|:443... connected.\n",
            "HTTP request sent, awaiting response... 200 OK\n",
            "Length: 5918888 (5.6M) [text/csv]\n",
            "Saving to: ‘train_custom.csv’\n",
            "\n",
            "train_custom.csv    100%[===================>]   5.64M  --.-KB/s    in 0.04s   \n",
            "\n",
            "2020-08-02 20:27:00 (154 MB/s) - ‘train_custom.csv’ saved [5918888/5918888]\n",
            "\n"
          ],
          "name": "stdout"
        }
      ]
    },
    {
      "cell_type": "code",
      "metadata": {
        "id": "_VcQjFWpExRC",
        "colab_type": "code",
        "colab": {}
      },
      "source": [
        "import tensorflow as tf\n",
        "from tensorflow.keras.layers import Embedding, Dense, GlobalAveragePooling1D, Bidirectional, LSTM, Dropout, Conv1D, MaxPooling1D, Flatten, AveragePooling1D, MaxPooling1D\n",
        "import matplotlib.pyplot as plt\n",
        "import csv\n",
        "import numpy as np\n",
        "from tensorflow.keras.callbacks import Callback\n",
        "import math\n",
        "from tensorflow.keras.losses import categorical_crossentropy"
      ],
      "execution_count": 2,
      "outputs": []
    },
    {
      "cell_type": "code",
      "metadata": {
        "id": "NI0UVGMxC0OA",
        "colab_type": "code",
        "colab": {}
      },
      "source": [
        "class BatchGenerator:\n",
        "\n",
        "    def __init__(self, data_path, batch_size):\n",
        "        self.batch_size = batch_size\n",
        "        self.data_path = data_path\n",
        "        self.n_labels = 20\n",
        "\n",
        "    def get_batch_gen(self, repeat=True):\n",
        "        while True:\n",
        "            with open(self.data_path) as data_file:\n",
        "                reader = csv.reader(data_file)\n",
        "                batch = []\n",
        "                for row in reader:  # TODO: Can the next batch be fetched asynchronously? With asyncio?\n",
        "                    batch.append(row)\n",
        "                    if len(batch) >= self.batch_size:\n",
        "                        batch = self._split_batch(batch)\n",
        "                        yield batch\n",
        "                        batch = []\n",
        "                if 0 < len(batch) < self.batch_size:\n",
        "                    yield self._split_batch(batch)\n",
        "            if not repeat:\n",
        "                break\n",
        "\n",
        "    def _split_batch(self, batch):\n",
        "        batch = np.array(batch, dtype=int)\n",
        "        x = batch[:, :len(batch[0]) - self.n_labels]\n",
        "        y = batch[:, len(batch[0]) - self.n_labels:]\n",
        "        return x, y\n",
        "\n",
        "\n",
        "class Metrics:\n",
        "    def __init__(self):\n",
        "        self.n_classes = 20\n",
        "\n",
        "        self.losses = []\n",
        "        self.accuracies = []\n",
        "        self.f1macros = []\n",
        "\n",
        "        self._epoch_loss = 0\n",
        "        self._epoch_accuracy = 0\n",
        "        self.confusion_matrix = np.zeros((self.n_classes, self.n_classes))\n",
        "\n",
        "        self.n_batches = 0\n",
        "        self.n_epochs = 0\n",
        "\n",
        "    def record_batch(self, loss, yh, y):\n",
        "        self.n_batches += 1\n",
        "        self._epoch_loss += loss\n",
        "        self._epoch_accuracy += self.find_accuracy(yh, y)\n",
        "        self.confusion_matrix += self.get_confusion_matrix(yh, y, self.n_classes)\n",
        "\n",
        "    def record_epoch(self):\n",
        "        self.losses.append(self._epoch_loss / self.n_batches)\n",
        "        self.accuracies.append(self._epoch_accuracy / self.n_batches)\n",
        "        self.f1macros.append(self.get_f1_macro(self.confusion_matrix))\n",
        "\n",
        "        self.n_epochs += 1\n",
        "        self._epoch_loss = 0\n",
        "        self._epoch_accuracy = 0\n",
        "        self.n_batches = 0\n",
        "\n",
        "    @staticmethod\n",
        "    def get_f1_macro(confusion_matrix):\n",
        "        n_classes = len(confusion_matrix)\n",
        "\n",
        "        tp = np.zeros((n_classes,))\n",
        "        fn = np.zeros((n_classes,))\n",
        "        fp = np.zeros((n_classes,))\n",
        "\n",
        "        for i_real in range(n_classes):\n",
        "            for i_pred in range(n_classes):\n",
        "                value = confusion_matrix[i_real][i_pred]\n",
        "                if i_real == i_pred:\n",
        "                    tp[i_real] = value\n",
        "                else:\n",
        "                    fn[i_real] += value\n",
        "                    fp[i_pred] += value\n",
        "\n",
        "        fn[fn == 0] = 1.e-06\n",
        "        fp[fp == 0] = 1.e-06\n",
        "\n",
        "        recall = tp / (tp + fn)\n",
        "        precision = tp / (tp + fp)\n",
        "\n",
        "        p_macro = sum(precision) / n_classes\n",
        "        r_macro = sum(recall) / n_classes\n",
        "\n",
        "        f_macro = 2 * p_macro * r_macro / (p_macro + r_macro)\n",
        "        return f_macro\n",
        "\n",
        "    @staticmethod\n",
        "    def get_confusion_matrix(yh, y, n_classes):\n",
        "        max_yh = yh.argmax(axis=1)\n",
        "        max_y = y.argmax(axis=1)\n",
        "\n",
        "        conf = np.zeros((n_classes, n_classes))\n",
        "        for i in range(len(y)):\n",
        "            conf[max_y[i]][max_yh[i]] += 1\n",
        "        return conf\n",
        "\n",
        "    @staticmethod\n",
        "    def find_accuracy(y_hat, y_real):\n",
        "        return sum(np.argmax(y_hat, axis=1) == np.argmax(y_real, axis=1)) / len(y_hat)\n",
        "\n",
        "\n",
        "class MetricsCallback(Callback):\n",
        "    def __init__(self, metrics_obj, data_gen, steps):\n",
        "        super(MetricsCallback, self).__init__()\n",
        "        self.metrics = metrics_obj\n",
        "        self.data_gen = data_gen\n",
        "        self.steps = steps\n",
        "\n",
        "    def on_epoch_end(self, epoch, logs=None):\n",
        "        for batch_i in range(math.ceil(self.steps)):\n",
        "            x_batch, y_batch = next(self.data_gen)\n",
        "\n",
        "            y_hat = self.model.predict(x_batch)\n",
        "\n",
        "            loss = categorical_crossentropy(y_batch, y_hat)\n",
        "\n",
        "            self.metrics.record_batch(float(sum(loss)), y_hat, y_batch)\n",
        "\n",
        "        self.metrics.record_epoch()\n",
        "\n",
        "        print(f\"\\tval_f1_macro: {self.metrics.f1macros[-1]}\")\n"
      ],
      "execution_count": 3,
      "outputs": []
    },
    {
      "cell_type": "code",
      "metadata": {
        "id": "FCfEtIXMCq6v",
        "colab_type": "code",
        "colab": {}
      },
      "source": [
        "train_batch_size = 30\n",
        "test_batch_size = 30\n",
        "train_size = 11083\n",
        "test_size = 7761\n",
        "train_steps = train_size / train_batch_size\n",
        "test_steps = test_size / test_batch_size\n",
        "\n",
        "train_gen = BatchGenerator(data_path='data/train_custom.csv', batch_size=train_batch_size).get_batch_gen()\n",
        "test_gen = BatchGenerator(data_path='data/test_custom.csv', batch_size=test_batch_size).get_batch_gen()\n",
        "metrics = Metrics()"
      ],
      "execution_count": 4,
      "outputs": []
    },
    {
      "cell_type": "code",
      "metadata": {
        "id": "meEx6Rf8Co8L",
        "colab_type": "code",
        "colab": {}
      },
      "source": [
        "vocab_size = 10000\n",
        "embed_size = 128"
      ],
      "execution_count": 5,
      "outputs": []
    },
    {
      "cell_type": "code",
      "metadata": {
        "id": "g6UWJsHJCoq6",
        "colab_type": "code",
        "colab": {
          "base_uri": "https://localhost:8080/",
          "height": 357
        },
        "outputId": "1cbe0a62-89ae-4626-a68c-24df474089fc"
      },
      "source": [
        "model = tf.keras.Sequential([\n",
        "    Embedding(vocab_size, embed_size, input_length=150),\n",
        "    GlobalAveragePooling1D(),\n",
        "    #LSTM(128, activation='relu'),\n",
        "    #Bidirectional(LSTM(64, activation='relu')),\n",
        "    Dropout(0.3),\n",
        "    Dense(128, activation='relu'),\n",
        "    Dropout(0.3),\n",
        "    Dense(20, activation='softmax')\n",
        "])\n",
        "model.compile(loss='categorical_crossentropy', optimizer='adam', metrics=['accuracy'])\n",
        "model.summary()"
      ],
      "execution_count": 6,
      "outputs": [
        {
          "output_type": "stream",
          "text": [
            "Model: \"sequential\"\n",
            "_________________________________________________________________\n",
            "Layer (type)                 Output Shape              Param #   \n",
            "=================================================================\n",
            "embedding (Embedding)        (None, 150, 128)          1280000   \n",
            "_________________________________________________________________\n",
            "global_average_pooling1d (Gl (None, 128)               0         \n",
            "_________________________________________________________________\n",
            "dropout (Dropout)            (None, 128)               0         \n",
            "_________________________________________________________________\n",
            "dense (Dense)                (None, 128)               16512     \n",
            "_________________________________________________________________\n",
            "dropout_1 (Dropout)          (None, 128)               0         \n",
            "_________________________________________________________________\n",
            "dense_1 (Dense)              (None, 20)                2580      \n",
            "=================================================================\n",
            "Total params: 1,299,092\n",
            "Trainable params: 1,299,092\n",
            "Non-trainable params: 0\n",
            "_________________________________________________________________\n"
          ],
          "name": "stdout"
        }
      ]
    },
    {
      "cell_type": "code",
      "metadata": {
        "id": "32ccRMguCtrL",
        "colab_type": "code",
        "colab": {
          "base_uri": "https://localhost:8080/",
          "height": 1000
        },
        "outputId": "2a39e904-4281-4777-c9be-74c3b78c09ff"
      },
      "source": [
        "epochs = 25\n",
        "history = model.fit(\n",
        "    train_gen, steps_per_epoch=train_steps, epochs=epochs,\n",
        "    validation_data=test_gen, validation_steps=test_steps, callbacks=[MetricsCallback(metrics, test_gen, test_steps)])"
      ],
      "execution_count": 7,
      "outputs": [
        {
          "output_type": "stream",
          "text": [
            "Epoch 1/25\n",
            "367/369 [============================>.] - ETA: 0s - loss: 2.6523 - accuracy: 0.1945\tval_f1_macro: 0.35925544200924786\n",
            "370/369 [==============================] - 17s 46ms/step - loss: 2.6489 - accuracy: 0.1954 - val_loss: 2.3386 - val_accuracy: 0.3434\n",
            "Epoch 2/25\n",
            "367/369 [============================>.] - ETA: 0s - loss: 1.5388 - accuracy: 0.5514\tval_f1_macro: 0.5043293252263494\n",
            "370/369 [==============================] - 17s 45ms/step - loss: 1.5365 - accuracy: 0.5522 - val_loss: 1.4555 - val_accuracy: 0.5824\n",
            "Epoch 3/25\n",
            "369/369 [============================>.] - ETA: 0s - loss: 0.8635 - accuracy: 0.7628\tval_f1_macro: 0.5838867157001448\n",
            "370/369 [==============================] - 17s 46ms/step - loss: 0.8632 - accuracy: 0.7630 - val_loss: 1.0758 - val_accuracy: 0.6615\n",
            "Epoch 4/25\n",
            "370/369 [==============================] - ETA: 0s - loss: 0.5235 - accuracy: 0.8676\tval_f1_macro: 0.6217996754788243\n",
            "370/369 [==============================] - 17s 46ms/step - loss: 0.5235 - accuracy: 0.8676 - val_loss: 0.8863 - val_accuracy: 0.7200\n",
            "Epoch 5/25\n",
            "367/369 [============================>.] - ETA: 0s - loss: 0.3436 - accuracy: 0.9191\tval_f1_macro: 0.6481919117084056\n",
            "370/369 [==============================] - 17s 46ms/step - loss: 0.3433 - accuracy: 0.9191 - val_loss: 0.8047 - val_accuracy: 0.7533\n",
            "Epoch 6/25\n",
            "368/369 [============================>.] - ETA: 0s - loss: 0.2331 - accuracy: 0.9478\tval_f1_macro: 0.6665859949121227\n",
            "370/369 [==============================] - 17s 46ms/step - loss: 0.2327 - accuracy: 0.9479 - val_loss: 0.7963 - val_accuracy: 0.7567\n",
            "Epoch 7/25\n",
            "368/369 [============================>.] - ETA: 0s - loss: 0.1651 - accuracy: 0.9645\tval_f1_macro: 0.6801500284656744\n",
            "370/369 [==============================] - 17s 46ms/step - loss: 0.1646 - accuracy: 0.9646 - val_loss: 0.7884 - val_accuracy: 0.7656\n",
            "Epoch 8/25\n",
            "369/369 [============================>.] - ETA: 0s - loss: 0.1194 - accuracy: 0.9753\tval_f1_macro: 0.6902597709432473\n",
            "370/369 [==============================] - 17s 46ms/step - loss: 0.1193 - accuracy: 0.9754 - val_loss: 0.8189 - val_accuracy: 0.7642\n",
            "Epoch 9/25\n",
            "370/369 [==============================] - ETA: 0s - loss: 0.0898 - accuracy: 0.9826\tval_f1_macro: 0.698159240051416\n",
            "370/369 [==============================] - 17s 46ms/step - loss: 0.0898 - accuracy: 0.9826 - val_loss: 0.8266 - val_accuracy: 0.7664\n",
            "Epoch 10/25\n",
            "369/369 [============================>.] - ETA: 0s - loss: 0.0655 - accuracy: 0.9883\tval_f1_macro: 0.7047799125398552\n",
            "370/369 [==============================] - 17s 46ms/step - loss: 0.0654 - accuracy: 0.9883 - val_loss: 0.8683 - val_accuracy: 0.7668\n",
            "Epoch 11/25\n",
            "370/369 [==============================] - ETA: 0s - loss: 0.0505 - accuracy: 0.9907\tval_f1_macro: 0.7103054848806113\n",
            "370/369 [==============================] - 17s 46ms/step - loss: 0.0505 - accuracy: 0.9907 - val_loss: 0.8820 - val_accuracy: 0.7692\n",
            "Epoch 12/25\n",
            "369/369 [============================>.] - ETA: 0s - loss: 0.0423 - accuracy: 0.9936\tval_f1_macro: 0.7148224580358711\n",
            "370/369 [==============================] - 17s 46ms/step - loss: 0.0423 - accuracy: 0.9936 - val_loss: 0.9490 - val_accuracy: 0.7637\n",
            "Epoch 13/25\n",
            "368/369 [============================>.] - ETA: 0s - loss: 0.0316 - accuracy: 0.9954\tval_f1_macro: 0.7185877849175476\n",
            "370/369 [==============================] - 17s 47ms/step - loss: 0.0316 - accuracy: 0.9954 - val_loss: 0.9665 - val_accuracy: 0.7663\n",
            "Epoch 14/25\n",
            "368/369 [============================>.] - ETA: 0s - loss: 0.0250 - accuracy: 0.9962\tval_f1_macro: 0.7215571271293377\n",
            "370/369 [==============================] - 17s 46ms/step - loss: 0.0250 - accuracy: 0.9962 - val_loss: 0.9920 - val_accuracy: 0.7630\n",
            "Epoch 15/25\n",
            "369/369 [============================>.] - ETA: 0s - loss: 0.0210 - accuracy: 0.9971\tval_f1_macro: 0.7239349318248587\n",
            "370/369 [==============================] - 18s 48ms/step - loss: 0.0209 - accuracy: 0.9971 - val_loss: 1.0700 - val_accuracy: 0.7548\n",
            "Epoch 16/25\n",
            "367/369 [============================>.] - ETA: 0s - loss: 0.0179 - accuracy: 0.9973\tval_f1_macro: 0.7260327812927336\n",
            "370/369 [==============================] - 17s 46ms/step - loss: 0.0179 - accuracy: 0.9972 - val_loss: 1.1037 - val_accuracy: 0.7558\n",
            "Epoch 17/25\n",
            "368/369 [============================>.] - ETA: 0s - loss: 0.0177 - accuracy: 0.9966\tval_f1_macro: 0.7279309934530237\n",
            "370/369 [==============================] - 17s 46ms/step - loss: 0.0176 - accuracy: 0.9967 - val_loss: 1.1184 - val_accuracy: 0.7602\n",
            "Epoch 18/25\n",
            "368/369 [============================>.] - ETA: 0s - loss: 0.0128 - accuracy: 0.9982\tval_f1_macro: 0.7296223980754664\n",
            "370/369 [==============================] - 17s 47ms/step - loss: 0.0127 - accuracy: 0.9982 - val_loss: 1.1529 - val_accuracy: 0.7580\n",
            "Epoch 19/25\n",
            "370/369 [==============================] - ETA: 0s - loss: 0.0110 - accuracy: 0.9979\tval_f1_macro: 0.7315556721808716\n",
            "370/369 [==============================] - 17s 46ms/step - loss: 0.0110 - accuracy: 0.9979 - val_loss: 1.1175 - val_accuracy: 0.7717\n",
            "Epoch 20/25\n",
            "369/369 [============================>.] - ETA: 0s - loss: 0.0102 - accuracy: 0.9982\tval_f1_macro: 0.7330119682203631\n",
            "370/369 [==============================] - 17s 47ms/step - loss: 0.0102 - accuracy: 0.9982 - val_loss: 1.1791 - val_accuracy: 0.7647\n",
            "Epoch 21/25\n",
            "370/369 [==============================] - ETA: 0s - loss: 0.0105 - accuracy: 0.9981\tval_f1_macro: 0.7343191809940531\n",
            "370/369 [==============================] - 17s 46ms/step - loss: 0.0105 - accuracy: 0.9981 - val_loss: 1.2167 - val_accuracy: 0.7618\n",
            "Epoch 22/25\n",
            "368/369 [============================>.] - ETA: 0s - loss: 0.0081 - accuracy: 0.9985\tval_f1_macro: 0.7355708801783271\n",
            "370/369 [==============================] - 17s 46ms/step - loss: 0.0081 - accuracy: 0.9985 - val_loss: 1.2054 - val_accuracy: 0.7658\n",
            "Epoch 23/25\n",
            "368/369 [============================>.] - ETA: 0s - loss: 0.0073 - accuracy: 0.9987\tval_f1_macro: 0.7367319514462087\n",
            "370/369 [==============================] - 17s 47ms/step - loss: 0.0073 - accuracy: 0.9987 - val_loss: 1.2401 - val_accuracy: 0.7673\n",
            "Epoch 24/25\n",
            "368/369 [============================>.] - ETA: 0s - loss: 0.0081 - accuracy: 0.9985\tval_f1_macro: 0.7375207432704238\n",
            "370/369 [==============================] - 17s 46ms/step - loss: 0.0081 - accuracy: 0.9985 - val_loss: 1.2992 - val_accuracy: 0.7581\n",
            "Epoch 25/25\n",
            "367/369 [============================>.] - ETA: 0s - loss: 0.0062 - accuracy: 0.9992\tval_f1_macro: 0.7386341754931631\n",
            "370/369 [==============================] - 17s 46ms/step - loss: 0.0062 - accuracy: 0.9992 - val_loss: 1.2868 - val_accuracy: 0.7700\n"
          ],
          "name": "stdout"
        }
      ]
    },
    {
      "cell_type": "code",
      "metadata": {
        "id": "NetGg_y82BMA",
        "colab_type": "code",
        "colab": {
          "base_uri": "https://localhost:8080/",
          "height": 541
        },
        "outputId": "2dfeed97-1668-4823-dfe6-0ce5b8671e72"
      },
      "source": [
        "def plot_graphs(history, string, metrics=None):\n",
        "    legend = [string, 'val_' + string]\n",
        "    plt.plot(history.history[string])\n",
        "    plt.plot(history.history['val_' + string])\n",
        "    if string == 'accuracy':\n",
        "        plt.plot(metrics.f1macros)\n",
        "        legend.append('f1_macro')\n",
        "    plt.xlabel(\"Epochs\")\n",
        "    plt.ylabel(string)\n",
        "    plt.legend(legend)\n",
        "    plt.show()\n",
        "\n",
        "plot_graphs(history, \"accuracy\", metrics)\n",
        "plot_graphs(history, \"loss\")\n"
      ],
      "execution_count": 9,
      "outputs": [
        {
          "output_type": "display_data",
          "data": {
            "image/png": "[encoded data removed]",
            "text/plain": [
              "<Figure size 432x288 with 1 Axes>"
            ]
          },
          "metadata": {
            "tags": [],
            "needs_background": "light"
          }
        },
        {
          "output_type": "display_data",
          "data": {
            "image/png": "[encoded data removed]",
            "text/plain": [
              "<Figure size 432x288 with 1 Axes>"
            ]
          },
          "metadata": {
            "tags": [],
            "needs_background": "light"
          }
        }
      ]
    },
    {
      "cell_type": "code",
      "metadata": {
        "id": "rTG7UhTCEMKN",
        "colab_type": "code",
        "colab": {}
      },
      "source": [
        "model.save('linear.h5')"
      ],
      "execution_count": null,
      "outputs": []
    },
    {
      "cell_type": "code",
      "metadata": {
        "id": "ySfoVlmo_Xrl",
        "colab_type": "code",
        "colab": {}
      },
      "source": [
        "#from google.colab import files\n",
        "#files.download('linear.h5')"
      ],
      "execution_count": null,
      "outputs": []
    },
    {
      "cell_type": "code",
      "metadata": {
        "id": "Eqjjr81PDer9",
        "colab_type": "code",
        "colab": {}
      },
      "source": [
        ""
      ],
      "execution_count": null,
      "outputs": []
    }
  ]
}