{
  "nbformat": 4,
  "nbformat_minor": 0,
  "metadata": {
    "colab": {
      "name": "CustomCNNClassifier.ipynb",
      "provenance": [],
      "authorship_tag": "ABX9TyMUw9fHwMQ3qYBpxPAHnhfp",
      "include_colab_link": true
    },
    "kernelspec": {
      "name": "python3",
      "display_name": "Python 3"
    },
    "accelerator": "GPU",
    "widgets": {
      "application/vnd.jupyter.widget-state+json": {
        "02dc8639891e4f9cb2acaed1b4c36fa1": {
          "model_module": "@jupyter-widgets/controls",
          "model_name": "HBoxModel",
          "state": {
            "_view_name": "HBoxView",
            "_dom_classes": [],
            "_model_name": "HBoxModel",
            "_view_module": "@jupyter-widgets/controls",
            "_model_module_version": "1.5.0",
            "_view_count": null,
            "_view_module_version": "1.5.0",
            "box_style": "",
            "layout": "IPY_MODEL_0fb20e2d4b38469aab9947825fedadab",
            "_model_module": "@jupyter-widgets/controls",
            "children": [
              "IPY_MODEL_9a9a0d1ba1da4b408e369986650a7049",
              "IPY_MODEL_15f0630781b246bd9f6647bb1b093221"
            ]
          }
        },
        "0fb20e2d4b38469aab9947825fedadab": {
          "model_module": "@jupyter-widgets/base",
          "model_name": "LayoutModel",
          "state": {
            "_view_name": "LayoutView",
            "grid_template_rows": null,
            "right": null,
            "justify_content": null,
            "_view_module": "@jupyter-widgets/base",
            "overflow": null,
            "_model_module_version": "1.2.0",
            "_view_count": null,
            "flex_flow": null,
            "width": null,
            "min_width": null,
            "border": null,
            "align_items": null,
            "bottom": null,
            "_model_module": "@jupyter-widgets/base",
            "top": null,
            "grid_column": null,
            "overflow_y": null,
            "overflow_x": null,
            "grid_auto_flow": null,
            "grid_area": null,
            "grid_template_columns": null,
            "flex": null,
            "_model_name": "LayoutModel",
            "justify_items": null,
            "grid_row": null,
            "max_height": null,
            "align_content": null,
            "visibility": null,
            "align_self": null,
            "height": null,
            "min_height": null,
            "padding": null,
            "grid_auto_rows": null,
            "grid_gap": null,
            "max_width": null,
            "order": null,
            "_view_module_version": "1.2.0",
            "grid_template_areas": null,
            "object_position": null,
            "object_fit": null,
            "grid_auto_columns": null,
            "margin": null,
            "display": null,
            "left": null
          }
        },
        "9a9a0d1ba1da4b408e369986650a7049": {
          "model_module": "@jupyter-widgets/controls",
          "model_name": "IntProgressModel",
          "state": {
            "_view_name": "ProgressView",
            "style": "IPY_MODEL_ab6575b610794827acca9c863344a10f",
            "_dom_classes": [],
            "description": "",
            "_model_name": "IntProgressModel",
            "bar_style": "success",
            "max": 1,
            "_view_module": "@jupyter-widgets/controls",
            "_model_module_version": "1.5.0",
            "value": 1,
            "_view_count": null,
            "_view_module_version": "1.5.0",
            "orientation": "horizontal",
            "min": 0,
            "description_tooltip": null,
            "_model_module": "@jupyter-widgets/controls",
            "layout": "IPY_MODEL_11e37a8698ec41989ef081ad71f4fd62"
          }
        },
        "15f0630781b246bd9f6647bb1b093221": {
          "model_module": "@jupyter-widgets/controls",
          "model_name": "HTMLModel",
          "state": {
            "_view_name": "HTMLView",
            "style": "IPY_MODEL_6bb9faaee322427b9a15ce547e9a2cd6",
            "_dom_classes": [],
            "description": "",
            "_model_name": "HTMLModel",
            "placeholder": "​",
            "_view_module": "@jupyter-widgets/controls",
            "_model_module_version": "1.5.0",
            "value": " 9920512/? [00:03&lt;00:00, 2979904.92it/s]",
            "_view_count": null,
            "_view_module_version": "1.5.0",
            "description_tooltip": null,
            "_model_module": "@jupyter-widgets/controls",
            "layout": "IPY_MODEL_c3387c5ca8be44efb2aacade011bc8be"
          }
        },
        "ab6575b610794827acca9c863344a10f": {
          "model_module": "@jupyter-widgets/controls",
          "model_name": "ProgressStyleModel",
          "state": {
            "_view_name": "StyleView",
            "_model_name": "ProgressStyleModel",
            "description_width": "initial",
            "_view_module": "@jupyter-widgets/base",
            "_model_module_version": "1.5.0",
            "_view_count": null,
            "_view_module_version": "1.2.0",
            "bar_color": null,
            "_model_module": "@jupyter-widgets/controls"
          }
        },
        "11e37a8698ec41989ef081ad71f4fd62": {
          "model_module": "@jupyter-widgets/base",
          "model_name": "LayoutModel",
          "state": {
            "_view_name": "LayoutView",
            "grid_template_rows": null,
            "right": null,
            "justify_content": null,
            "_view_module": "@jupyter-widgets/base",
            "overflow": null,
            "_model_module_version": "1.2.0",
            "_view_count": null,
            "flex_flow": null,
            "width": null,
            "min_width": null,
            "border": null,
            "align_items": null,
            "bottom": null,
            "_model_module": "@jupyter-widgets/base",
            "top": null,
            "grid_column": null,
            "overflow_y": null,
            "overflow_x": null,
            "grid_auto_flow": null,
            "grid_area": null,
            "grid_template_columns": null,
            "flex": null,
            "_model_name": "LayoutModel",
            "justify_items": null,
            "grid_row": null,
            "max_height": null,
            "align_content": null,
            "visibility": null,
            "align_self": null,
            "height": null,
            "min_height": null,
            "padding": null,
            "grid_auto_rows": null,
            "grid_gap": null,
            "max_width": null,
            "order": null,
            "_view_module_version": "1.2.0",
            "grid_template_areas": null,
            "object_position": null,
            "object_fit": null,
            "grid_auto_columns": null,
            "margin": null,
            "display": null,
            "left": null
          }
        },
        "6bb9faaee322427b9a15ce547e9a2cd6": {
          "model_module": "@jupyter-widgets/controls",
          "model_name": "DescriptionStyleModel",
          "state": {
            "_view_name": "StyleView",
            "_model_name": "DescriptionStyleModel",
            "description_width": "",
            "_view_module": "@jupyter-widgets/base",
            "_model_module_version": "1.5.0",
            "_view_count": null,
            "_view_module_version": "1.2.0",
            "_model_module": "@jupyter-widgets/controls"
          }
        },
        "c3387c5ca8be44efb2aacade011bc8be": {
          "model_module": "@jupyter-widgets/base",
          "model_name": "LayoutModel",
          "state": {
            "_view_name": "LayoutView",
            "grid_template_rows": null,
            "right": null,
            "justify_content": null,
            "_view_module": "@jupyter-widgets/base",
            "overflow": null,
            "_model_module_version": "1.2.0",
            "_view_count": null,
            "flex_flow": null,
            "width": null,
            "min_width": null,
            "border": null,
            "align_items": null,
            "bottom": null,
            "_model_module": "@jupyter-widgets/base",
            "top": null,
            "grid_column": null,
            "overflow_y": null,
            "overflow_x": null,
            "grid_auto_flow": null,
            "grid_area": null,
            "grid_template_columns": null,
            "flex": null,
            "_model_name": "LayoutModel",
            "justify_items": null,
            "grid_row": null,
            "max_height": null,
            "align_content": null,
            "visibility": null,
            "align_self": null,
            "height": null,
            "min_height": null,
            "padding": null,
            "grid_auto_rows": null,
            "grid_gap": null,
            "max_width": null,
            "order": null,
            "_view_module_version": "1.2.0",
            "grid_template_areas": null,
            "object_position": null,
            "object_fit": null,
            "grid_auto_columns": null,
            "margin": null,
            "display": null,
            "left": null
          }
        },
        "074630592c3c447bad92d64b6f33aef5": {
          "model_module": "@jupyter-widgets/controls",
          "model_name": "HBoxModel",
          "state": {
            "_view_name": "HBoxView",
            "_dom_classes": [],
            "_model_name": "HBoxModel",
            "_view_module": "@jupyter-widgets/controls",
            "_model_module_version": "1.5.0",
            "_view_count": null,
            "_view_module_version": "1.5.0",
            "box_style": "",
            "layout": "IPY_MODEL_9c0e46328b474f598d805a0738c0a992",
            "_model_module": "@jupyter-widgets/controls",
            "children": [
              "IPY_MODEL_a5bf26f177a14fdfa9170f4abc79ee60",
              "IPY_MODEL_300f158807bb4de4a09042aac832fad4"
            ]
          }
        },
        "9c0e46328b474f598d805a0738c0a992": {
          "model_module": "@jupyter-widgets/base",
          "model_name": "LayoutModel",
          "state": {
            "_view_name": "LayoutView",
            "grid_template_rows": null,
            "right": null,
            "justify_content": null,
            "_view_module": "@jupyter-widgets/base",
            "overflow": null,
            "_model_module_version": "1.2.0",
            "_view_count": null,
            "flex_flow": null,
            "width": null,
            "min_width": null,
            "border": null,
            "align_items": null,
            "bottom": null,
            "_model_module": "@jupyter-widgets/base",
            "top": null,
            "grid_column": null,
            "overflow_y": null,
            "overflow_x": null,
            "grid_auto_flow": null,
            "grid_area": null,
            "grid_template_columns": null,
            "flex": null,
            "_model_name": "LayoutModel",
            "justify_items": null,
            "grid_row": null,
            "max_height": null,
            "align_content": null,
            "visibility": null,
            "align_self": null,
            "height": null,
            "min_height": null,
            "padding": null,
            "grid_auto_rows": null,
            "grid_gap": null,
            "max_width": null,
            "order": null,
            "_view_module_version": "1.2.0",
            "grid_template_areas": null,
            "object_position": null,
            "object_fit": null,
            "grid_auto_columns": null,
            "margin": null,
            "display": null,
            "left": null
          }
        },
        "a5bf26f177a14fdfa9170f4abc79ee60": {
          "model_module": "@jupyter-widgets/controls",
          "model_name": "IntProgressModel",
          "state": {
            "_view_name": "ProgressView",
            "style": "IPY_MODEL_cd6ba686f4504f39bbe58daba7903a4f",
            "_dom_classes": [],
            "description": "",
            "_model_name": "IntProgressModel",
            "bar_style": "success",
            "max": 1,
            "_view_module": "@jupyter-widgets/controls",
            "_model_module_version": "1.5.0",
            "value": 1,
            "_view_count": null,
            "_view_module_version": "1.5.0",
            "orientation": "horizontal",
            "min": 0,
            "description_tooltip": null,
            "_model_module": "@jupyter-widgets/controls",
            "layout": "IPY_MODEL_d2cc6987c10746038a2b600d157be524"
          }
        },
        "300f158807bb4de4a09042aac832fad4": {
          "model_module": "@jupyter-widgets/controls",
          "model_name": "HTMLModel",
          "state": {
            "_view_name": "HTMLView",
            "style": "IPY_MODEL_d7d589c0ff0045ba8bb160e11acfd1d2",
            "_dom_classes": [],
            "description": "",
            "_model_name": "HTMLModel",
            "placeholder": "​",
            "_view_module": "@jupyter-widgets/controls",
            "_model_module_version": "1.5.0",
            "value": " 32768/? [00:00&lt;00:00, 100846.28it/s]",
            "_view_count": null,
            "_view_module_version": "1.5.0",
            "description_tooltip": null,
            "_model_module": "@jupyter-widgets/controls",
            "layout": "IPY_MODEL_850191df13f04404bd0e71e56b2f3a98"
          }
        },
        "cd6ba686f4504f39bbe58daba7903a4f": {
          "model_module": "@jupyter-widgets/controls",
          "model_name": "ProgressStyleModel",
          "state": {
            "_view_name": "StyleView",
            "_model_name": "ProgressStyleModel",
            "description_width": "initial",
            "_view_module": "@jupyter-widgets/base",
            "_model_module_version": "1.5.0",
            "_view_count": null,
            "_view_module_version": "1.2.0",
            "bar_color": null,
            "_model_module": "@jupyter-widgets/controls"
          }
        },
        "d2cc6987c10746038a2b600d157be524": {
          "model_module": "@jupyter-widgets/base",
          "model_name": "LayoutModel",
          "state": {
            "_view_name": "LayoutView",
            "grid_template_rows": null,
            "right": null,
            "justify_content": null,
            "_view_module": "@jupyter-widgets/base",
            "overflow": null,
            "_model_module_version": "1.2.0",
            "_view_count": null,
            "flex_flow": null,
            "width": null,
            "min_width": null,
            "border": null,
            "align_items": null,
            "bottom": null,
            "_model_module": "@jupyter-widgets/base",
            "top": null,
            "grid_column": null,
            "overflow_y": null,
            "overflow_x": null,
            "grid_auto_flow": null,
            "grid_area": null,
            "grid_template_columns": null,
            "flex": null,
            "_model_name": "LayoutModel",
            "justify_items": null,
            "grid_row": null,
            "max_height": null,
            "align_content": null,
            "visibility": null,
            "align_self": null,
            "height": null,
            "min_height": null,
            "padding": null,
            "grid_auto_rows": null,
            "grid_gap": null,
            "max_width": null,
            "order": null,
            "_view_module_version": "1.2.0",
            "grid_template_areas": null,
            "object_position": null,
            "object_fit": null,
            "grid_auto_columns": null,
            "margin": null,
            "display": null,
            "left": null
          }
        },
        "d7d589c0ff0045ba8bb160e11acfd1d2": {
          "model_module": "@jupyter-widgets/controls",
          "model_name": "DescriptionStyleModel",
          "state": {
            "_view_name": "StyleView",
            "_model_name": "DescriptionStyleModel",
            "description_width": "",
            "_view_module": "@jupyter-widgets/base",
            "_model_module_version": "1.5.0",
            "_view_count": null,
            "_view_module_version": "1.2.0",
            "_model_module": "@jupyter-widgets/controls"
          }
        },
        "850191df13f04404bd0e71e56b2f3a98": {
          "model_module": "@jupyter-widgets/base",
          "model_name": "LayoutModel",
          "state": {
            "_view_name": "LayoutView",
            "grid_template_rows": null,
            "right": null,
            "justify_content": null,
            "_view_module": "@jupyter-widgets/base",
            "overflow": null,
            "_model_module_version": "1.2.0",
            "_view_count": null,
            "flex_flow": null,
            "width": null,
            "min_width": null,
            "border": null,
            "align_items": null,
            "bottom": null,
            "_model_module": "@jupyter-widgets/base",
            "top": null,
            "grid_column": null,
            "overflow_y": null,
            "overflow_x": null,
            "grid_auto_flow": null,
            "grid_area": null,
            "grid_template_columns": null,
            "flex": null,
            "_model_name": "LayoutModel",
            "justify_items": null,
            "grid_row": null,
            "max_height": null,
            "align_content": null,
            "visibility": null,
            "align_self": null,
            "height": null,
            "min_height": null,
            "padding": null,
            "grid_auto_rows": null,
            "grid_gap": null,
            "max_width": null,
            "order": null,
            "_view_module_version": "1.2.0",
            "grid_template_areas": null,
            "object_position": null,
            "object_fit": null,
            "grid_auto_columns": null,
            "margin": null,
            "display": null,
            "left": null
          }
        },
        "088b04124afb4cf3851302bd2d8082d3": {
          "model_module": "@jupyter-widgets/controls",
          "model_name": "HBoxModel",
          "state": {
            "_view_name": "HBoxView",
            "_dom_classes": [],
            "_model_name": "HBoxModel",
            "_view_module": "@jupyter-widgets/controls",
            "_model_module_version": "1.5.0",
            "_view_count": null,
            "_view_module_version": "1.5.0",
            "box_style": "",
            "layout": "IPY_MODEL_5bb31fc910da45d6b4dfaeaf92f82b51",
            "_model_module": "@jupyter-widgets/controls",
            "children": [
              "IPY_MODEL_2d0ca82a16264bafa4daf427650ce627",
              "IPY_MODEL_6a75c2af50bf474fb4638115e9be0fa1"
            ]
          }
        },
        "5bb31fc910da45d6b4dfaeaf92f82b51": {
          "model_module": "@jupyter-widgets/base",
          "model_name": "LayoutModel",
          "state": {
            "_view_name": "LayoutView",
            "grid_template_rows": null,
            "right": null,
            "justify_content": null,
            "_view_module": "@jupyter-widgets/base",
            "overflow": null,
            "_model_module_version": "1.2.0",
            "_view_count": null,
            "flex_flow": null,
            "width": null,
            "min_width": null,
            "border": null,
            "align_items": null,
            "bottom": null,
            "_model_module": "@jupyter-widgets/base",
            "top": null,
            "grid_column": null,
            "overflow_y": null,
            "overflow_x": null,
            "grid_auto_flow": null,
            "grid_area": null,
            "grid_template_columns": null,
            "flex": null,
            "_model_name": "LayoutModel",
            "justify_items": null,
            "grid_row": null,
            "max_height": null,
            "align_content": null,
            "visibility": null,
            "align_self": null,
            "height": null,
            "min_height": null,
            "padding": null,
            "grid_auto_rows": null,
            "grid_gap": null,
            "max_width": null,
            "order": null,
            "_view_module_version": "1.2.0",
            "grid_template_areas": null,
            "object_position": null,
            "object_fit": null,
            "grid_auto_columns": null,
            "margin": null,
            "display": null,
            "left": null
          }
        },
        "2d0ca82a16264bafa4daf427650ce627": {
          "model_module": "@jupyter-widgets/controls",
          "model_name": "IntProgressModel",
          "state": {
            "_view_name": "ProgressView",
            "style": "IPY_MODEL_4b24e53dd88f46cd909f55b94e7c8653",
            "_dom_classes": [],
            "description": "",
            "_model_name": "IntProgressModel",
            "bar_style": "success",
            "max": 1,
            "_view_module": "@jupyter-widgets/controls",
            "_model_module_version": "1.5.0",
            "value": 1,
            "_view_count": null,
            "_view_module_version": "1.5.0",
            "orientation": "horizontal",
            "min": 0,
            "description_tooltip": null,
            "_model_module": "@jupyter-widgets/controls",
            "layout": "IPY_MODEL_5a92cd8b96364c86a0add509dba8c1be"
          }
        },
        "6a75c2af50bf474fb4638115e9be0fa1": {
          "model_module": "@jupyter-widgets/controls",
          "model_name": "HTMLModel",
          "state": {
            "_view_name": "HTMLView",
            "style": "IPY_MODEL_0c1b34e8549645279f57c61c73332e62",
            "_dom_classes": [],
            "description": "",
            "_model_name": "HTMLModel",
            "placeholder": "​",
            "_view_module": "@jupyter-widgets/controls",
            "_model_module_version": "1.5.0",
            "value": " 1654784/? [00:01&lt;00:00, 1071764.43it/s]",
            "_view_count": null,
            "_view_module_version": "1.5.0",
            "description_tooltip": null,
            "_model_module": "@jupyter-widgets/controls",
            "layout": "IPY_MODEL_b56a6afa61004d38b2a1ec82f5ad1f8d"
          }
        },
        "4b24e53dd88f46cd909f55b94e7c8653": {
          "model_module": "@jupyter-widgets/controls",
          "model_name": "ProgressStyleModel",
          "state": {
            "_view_name": "StyleView",
            "_model_name": "ProgressStyleModel",
            "description_width": "initial",
            "_view_module": "@jupyter-widgets/base",
            "_model_module_version": "1.5.0",
            "_view_count": null,
            "_view_module_version": "1.2.0",
            "bar_color": null,
            "_model_module": "@jupyter-widgets/controls"
          }
        },
        "5a92cd8b96364c86a0add509dba8c1be": {
          "model_module": "@jupyter-widgets/base",
          "model_name": "LayoutModel",
          "state": {
            "_view_name": "LayoutView",
            "grid_template_rows": null,
            "right": null,
            "justify_content": null,
            "_view_module": "@jupyter-widgets/base",
            "overflow": null,
            "_model_module_version": "1.2.0",
            "_view_count": null,
            "flex_flow": null,
            "width": null,
            "min_width": null,
            "border": null,
            "align_items": null,
            "bottom": null,
            "_model_module": "@jupyter-widgets/base",
            "top": null,
            "grid_column": null,
            "overflow_y": null,
            "overflow_x": null,
            "grid_auto_flow": null,
            "grid_area": null,
            "grid_template_columns": null,
            "flex": null,
            "_model_name": "LayoutModel",
            "justify_items": null,
            "grid_row": null,
            "max_height": null,
            "align_content": null,
            "visibility": null,
            "align_self": null,
            "height": null,
            "min_height": null,
            "padding": null,
            "grid_auto_rows": null,
            "grid_gap": null,
            "max_width": null,
            "order": null,
            "_view_module_version": "1.2.0",
            "grid_template_areas": null,
            "object_position": null,
            "object_fit": null,
            "grid_auto_columns": null,
            "margin": null,
            "display": null,
            "left": null
          }
        },
        "0c1b34e8549645279f57c61c73332e62": {
          "model_module": "@jupyter-widgets/controls",
          "model_name": "DescriptionStyleModel",
          "state": {
            "_view_name": "StyleView",
            "_model_name": "DescriptionStyleModel",
            "description_width": "",
            "_view_module": "@jupyter-widgets/base",
            "_model_module_version": "1.5.0",
            "_view_count": null,
            "_view_module_version": "1.2.0",
            "_model_module": "@jupyter-widgets/controls"
          }
        },
        "b56a6afa61004d38b2a1ec82f5ad1f8d": {
          "model_module": "@jupyter-widgets/base",
          "model_name": "LayoutModel",
          "state": {
            "_view_name": "LayoutView",
            "grid_template_rows": null,
            "right": null,
            "justify_content": null,
            "_view_module": "@jupyter-widgets/base",
            "overflow": null,
            "_model_module_version": "1.2.0",
            "_view_count": null,
            "flex_flow": null,
            "width": null,
            "min_width": null,
            "border": null,
            "align_items": null,
            "bottom": null,
            "_model_module": "@jupyter-widgets/base",
            "top": null,
            "grid_column": null,
            "overflow_y": null,
            "overflow_x": null,
            "grid_auto_flow": null,
            "grid_area": null,
            "grid_template_columns": null,
            "flex": null,
            "_model_name": "LayoutModel",
            "justify_items": null,
            "grid_row": null,
            "max_height": null,
            "align_content": null,
            "visibility": null,
            "align_self": null,
            "height": null,
            "min_height": null,
            "padding": null,
            "grid_auto_rows": null,
            "grid_gap": null,
            "max_width": null,
            "order": null,
            "_view_module_version": "1.2.0",
            "grid_template_areas": null,
            "object_position": null,
            "object_fit": null,
            "grid_auto_columns": null,
            "margin": null,
            "display": null,
            "left": null
          }
        },
        "b14b023888814b8b81d469c42c2544cd": {
          "model_module": "@jupyter-widgets/controls",
          "model_name": "HBoxModel",
          "state": {
            "_view_name": "HBoxView",
            "_dom_classes": [],
            "_model_name": "HBoxModel",
            "_view_module": "@jupyter-widgets/controls",
            "_model_module_version": "1.5.0",
            "_view_count": null,
            "_view_module_version": "1.5.0",
            "box_style": "",
            "layout": "IPY_MODEL_7d108b91f07044d5b09b5a0a0d4cf09b",
            "_model_module": "@jupyter-widgets/controls",
            "children": [
              "IPY_MODEL_d84ecee3e7504fa19cc6cd484104c528",
              "IPY_MODEL_1be6336e936a45399a8821aec012d5d0"
            ]
          }
        },
        "7d108b91f07044d5b09b5a0a0d4cf09b": {
          "model_module": "@jupyter-widgets/base",
          "model_name": "LayoutModel",
          "state": {
            "_view_name": "LayoutView",
            "grid_template_rows": null,
            "right": null,
            "justify_content": null,
            "_view_module": "@jupyter-widgets/base",
            "overflow": null,
            "_model_module_version": "1.2.0",
            "_view_count": null,
            "flex_flow": null,
            "width": null,
            "min_width": null,
            "border": null,
            "align_items": null,
            "bottom": null,
            "_model_module": "@jupyter-widgets/base",
            "top": null,
            "grid_column": null,
            "overflow_y": null,
            "overflow_x": null,
            "grid_auto_flow": null,
            "grid_area": null,
            "grid_template_columns": null,
            "flex": null,
            "_model_name": "LayoutModel",
            "justify_items": null,
            "grid_row": null,
            "max_height": null,
            "align_content": null,
            "visibility": null,
            "align_self": null,
            "height": null,
            "min_height": null,
            "padding": null,
            "grid_auto_rows": null,
            "grid_gap": null,
            "max_width": null,
            "order": null,
            "_view_module_version": "1.2.0",
            "grid_template_areas": null,
            "object_position": null,
            "object_fit": null,
            "grid_auto_columns": null,
            "margin": null,
            "display": null,
            "left": null
          }
        },
        "d84ecee3e7504fa19cc6cd484104c528": {
          "model_module": "@jupyter-widgets/controls",
          "model_name": "IntProgressModel",
          "state": {
            "_view_name": "ProgressView",
            "style": "IPY_MODEL_9218696604ef4de7a33512904f2ff98c",
            "_dom_classes": [],
            "description": "",
            "_model_name": "IntProgressModel",
            "bar_style": "success",
            "max": 1,
            "_view_module": "@jupyter-widgets/controls",
            "_model_module_version": "1.5.0",
            "value": 1,
            "_view_count": null,
            "_view_module_version": "1.5.0",
            "orientation": "horizontal",
            "min": 0,
            "description_tooltip": null,
            "_model_module": "@jupyter-widgets/controls",
            "layout": "IPY_MODEL_807251729e73412aaa56df753584971f"
          }
        },
        "1be6336e936a45399a8821aec012d5d0": {
          "model_module": "@jupyter-widgets/controls",
          "model_name": "HTMLModel",
          "state": {
            "_view_name": "HTMLView",
            "style": "IPY_MODEL_881a4e8a029947f49d8a7a28c1b1cafd",
            "_dom_classes": [],
            "description": "",
            "_model_name": "HTMLModel",
            "placeholder": "​",
            "_view_module": "@jupyter-widgets/controls",
            "_model_module_version": "1.5.0",
            "value": " 8192/? [00:00&lt;00:00, 19922.23it/s]",
            "_view_count": null,
            "_view_module_version": "1.5.0",
            "description_tooltip": null,
            "_model_module": "@jupyter-widgets/controls",
            "layout": "IPY_MODEL_839bc2e2bc954c929ed0090c91f3a49f"
          }
        },
        "9218696604ef4de7a33512904f2ff98c": {
          "model_module": "@jupyter-widgets/controls",
          "model_name": "ProgressStyleModel",
          "state": {
            "_view_name": "StyleView",
            "_model_name": "ProgressStyleModel",
            "description_width": "initial",
            "_view_module": "@jupyter-widgets/base",
            "_model_module_version": "1.5.0",
            "_view_count": null,
            "_view_module_version": "1.2.0",
            "bar_color": null,
            "_model_module": "@jupyter-widgets/controls"
          }
        },
        "807251729e73412aaa56df753584971f": {
          "model_module": "@jupyter-widgets/base",
          "model_name": "LayoutModel",
          "state": {
            "_view_name": "LayoutView",
            "grid_template_rows": null,
            "right": null,
            "justify_content": null,
            "_view_module": "@jupyter-widgets/base",
            "overflow": null,
            "_model_module_version": "1.2.0",
            "_view_count": null,
            "flex_flow": null,
            "width": null,
            "min_width": null,
            "border": null,
            "align_items": null,
            "bottom": null,
            "_model_module": "@jupyter-widgets/base",
            "top": null,
            "grid_column": null,
            "overflow_y": null,
            "overflow_x": null,
            "grid_auto_flow": null,
            "grid_area": null,
            "grid_template_columns": null,
            "flex": null,
            "_model_name": "LayoutModel",
            "justify_items": null,
            "grid_row": null,
            "max_height": null,
            "align_content": null,
            "visibility": null,
            "align_self": null,
            "height": null,
            "min_height": null,
            "padding": null,
            "grid_auto_rows": null,
            "grid_gap": null,
            "max_width": null,
            "order": null,
            "_view_module_version": "1.2.0",
            "grid_template_areas": null,
            "object_position": null,
            "object_fit": null,
            "grid_auto_columns": null,
            "margin": null,
            "display": null,
            "left": null
          }
        },
        "881a4e8a029947f49d8a7a28c1b1cafd": {
          "model_module": "@jupyter-widgets/controls",
          "model_name": "DescriptionStyleModel",
          "state": {
            "_view_name": "StyleView",
            "_model_name": "DescriptionStyleModel",
            "description_width": "",
            "_view_module": "@jupyter-widgets/base",
            "_model_module_version": "1.5.0",
            "_view_count": null,
            "_view_module_version": "1.2.0",
            "_model_module": "@jupyter-widgets/controls"
          }
        },
        "839bc2e2bc954c929ed0090c91f3a49f": {
          "model_module": "@jupyter-widgets/base",
          "model_name": "LayoutModel",
          "state": {
            "_view_name": "LayoutView",
            "grid_template_rows": null,
            "right": null,
            "justify_content": null,
            "_view_module": "@jupyter-widgets/base",
            "overflow": null,
            "_model_module_version": "1.2.0",
            "_view_count": null,
            "flex_flow": null,
            "width": null,
            "min_width": null,
            "border": null,
            "align_items": null,
            "bottom": null,
            "_model_module": "@jupyter-widgets/base",
            "top": null,
            "grid_column": null,
            "overflow_y": null,
            "overflow_x": null,
            "grid_auto_flow": null,
            "grid_area": null,
            "grid_template_columns": null,
            "flex": null,
            "_model_name": "LayoutModel",
            "justify_items": null,
            "grid_row": null,
            "max_height": null,
            "align_content": null,
            "visibility": null,
            "align_self": null,
            "height": null,
            "min_height": null,
            "padding": null,
            "grid_auto_rows": null,
            "grid_gap": null,
            "max_width": null,
            "order": null,
            "_view_module_version": "1.2.0",
            "grid_template_areas": null,
            "object_position": null,
            "object_fit": null,
            "grid_auto_columns": null,
            "margin": null,
            "display": null,
            "left": null
          }
        }
      }
    }
  },
  "cells": [
    {
      "cell_type": "markdown",
      "metadata": {
        "id": "view-in-github",
        "colab_type": "text"
      },
      "source": [
        "<a href=\"https://colab.research.google.com/github/Akhilez/ml_gallery/blob/master/ml_py/MLGallery/selective_generator/CustomCNNClassifier.ipynb\" target=\"_parent\"><img src=\"https://colab.research.google.com/assets/colab-badge.svg\" alt=\"Open In Colab\"/></a>"
      ]
    },
    {
      "cell_type": "markdown",
      "metadata": {
        "id": "d0L2arjj_d6j",
        "colab_type": "text"
      },
      "source": [
        "File path: https://github.com/Akhilez/ml_gallery/blob/master/ml_py/MLGallery/selective_generator/CustomCNNClassifier.ipynb"
      ]
    },
    {
      "cell_type": "code",
      "metadata": {
        "id": "gaZubiafcyic",
        "colab_type": "code",
        "colab": {}
      },
      "source": [
        "import numpy as np\n",
        "import torch\n",
        "import torchvision\n",
        "import matplotlib.pyplot as plt\n",
        "from torch.nn.functional import dropout, leaky_relu, binary_cross_entropy, softmax\n",
        "from torch import sigmoid\n",
        "from torch.nn import Conv2d, Linear\n",
        "from random import random"
      ],
      "execution_count": 0,
      "outputs": []
    },
    {
      "cell_type": "code",
      "metadata": {
        "id": "iyoWlidLdAJk",
        "colab_type": "code",
        "outputId": "c81d4d6a-d3c4-4c20-b612-99b8c99dc49b",
        "colab": {
          "base_uri": "https://localhost:8080/",
          "height": 332,
          "referenced_widgets": [
            "02dc8639891e4f9cb2acaed1b4c36fa1",
            "0fb20e2d4b38469aab9947825fedadab",
            "9a9a0d1ba1da4b408e369986650a7049",
            "15f0630781b246bd9f6647bb1b093221",
            "ab6575b610794827acca9c863344a10f",
            "11e37a8698ec41989ef081ad71f4fd62",
            "6bb9faaee322427b9a15ce547e9a2cd6",
            "c3387c5ca8be44efb2aacade011bc8be",
            "074630592c3c447bad92d64b6f33aef5",
            "9c0e46328b474f598d805a0738c0a992",
            "a5bf26f177a14fdfa9170f4abc79ee60",
            "300f158807bb4de4a09042aac832fad4",
            "cd6ba686f4504f39bbe58daba7903a4f",
            "d2cc6987c10746038a2b600d157be524",
            "d7d589c0ff0045ba8bb160e11acfd1d2",
            "850191df13f04404bd0e71e56b2f3a98",
            "088b04124afb4cf3851302bd2d8082d3",
            "5bb31fc910da45d6b4dfaeaf92f82b51",
            "2d0ca82a16264bafa4daf427650ce627",
            "6a75c2af50bf474fb4638115e9be0fa1",
            "4b24e53dd88f46cd909f55b94e7c8653",
            "5a92cd8b96364c86a0add509dba8c1be",
            "0c1b34e8549645279f57c61c73332e62",
            "b56a6afa61004d38b2a1ec82f5ad1f8d",
            "b14b023888814b8b81d469c42c2544cd",
            "7d108b91f07044d5b09b5a0a0d4cf09b",
            "d84ecee3e7504fa19cc6cd484104c528",
            "1be6336e936a45399a8821aec012d5d0",
            "9218696604ef4de7a33512904f2ff98c",
            "807251729e73412aaa56df753584971f",
            "881a4e8a029947f49d8a7a28c1b1cafd",
            "839bc2e2bc954c929ed0090c91f3a49f"
          ]
        }
      },
      "source": [
        "data_path = \"./data/mnist/\"\n",
        "\n",
        "train_loader = torch.utils.data.DataLoader(\n",
        "    torchvision.datasets.MNIST(data_path, train=True, download=True,\n",
        "                               transform=torchvision.transforms.ToTensor()), shuffle=True)\n",
        "\n",
        "test_loader = torch.utils.data.DataLoader(\n",
        "    torchvision.datasets.MNIST(data_path, train=False, download=True,\n",
        "                               transform=torchvision.transforms.ToTensor()), shuffle=True)"
      ],
      "execution_count": 3,
      "outputs": [
        {
          "output_type": "stream",
          "text": [
            "Downloading http://yann.lecun.com/exdb/mnist/train-images-idx3-ubyte.gz to ./data/mnist/MNIST/raw/train-images-idx3-ubyte.gz\n"
          ],
          "name": "stdout"
        },
        {
          "output_type": "display_data",
          "data": {
            "application/vnd.jupyter.widget-view+json": {
              "model_id": "02dc8639891e4f9cb2acaed1b4c36fa1",
              "version_minor": 0,
              "version_major": 2
            },
            "text/plain": [
              "HBox(children=(IntProgress(value=1, bar_style='info', max=1), HTML(value='')))"
            ]
          },
          "metadata": {
            "tags": []
          }
        },
        {
          "output_type": "stream",
          "text": [
            "Extracting ./data/mnist/MNIST/raw/train-images-idx3-ubyte.gz to ./data/mnist/MNIST/raw\n",
            "Downloading http://yann.lecun.com/exdb/mnist/train-labels-idx1-ubyte.gz to ./data/mnist/MNIST/raw/train-labels-idx1-ubyte.gz\n"
          ],
          "name": "stdout"
        },
        {
          "output_type": "display_data",
          "data": {
            "application/vnd.jupyter.widget-view+json": {
              "model_id": "074630592c3c447bad92d64b6f33aef5",
              "version_minor": 0,
              "version_major": 2
            },
            "text/plain": [
              "HBox(children=(IntProgress(value=1, bar_style='info', max=1), HTML(value='')))"
            ]
          },
          "metadata": {
            "tags": []
          }
        },
        {
          "output_type": "stream",
          "text": [
            "Extracting ./data/mnist/MNIST/raw/train-labels-idx1-ubyte.gz to ./data/mnist/MNIST/raw\n",
            "Downloading http://yann.lecun.com/exdb/mnist/t10k-images-idx3-ubyte.gz to ./data/mnist/MNIST/raw/t10k-images-idx3-ubyte.gz\n",
            "\n"
          ],
          "name": "stdout"
        },
        {
          "output_type": "display_data",
          "data": {
            "application/vnd.jupyter.widget-view+json": {
              "model_id": "088b04124afb4cf3851302bd2d8082d3",
              "version_minor": 0,
              "version_major": 2
            },
            "text/plain": [
              "HBox(children=(IntProgress(value=1, bar_style='info', max=1), HTML(value='')))"
            ]
          },
          "metadata": {
            "tags": []
          }
        },
        {
          "output_type": "stream",
          "text": [
            "Extracting ./data/mnist/MNIST/raw/t10k-images-idx3-ubyte.gz to ./data/mnist/MNIST/raw\n",
            "Downloading http://yann.lecun.com/exdb/mnist/t10k-labels-idx1-ubyte.gz to ./data/mnist/MNIST/raw/t10k-labels-idx1-ubyte.gz\n"
          ],
          "name": "stdout"
        },
        {
          "output_type": "display_data",
          "data": {
            "application/vnd.jupyter.widget-view+json": {
              "model_id": "b14b023888814b8b81d469c42c2544cd",
              "version_minor": 0,
              "version_major": 2
            },
            "text/plain": [
              "HBox(children=(IntProgress(value=1, bar_style='info', max=1), HTML(value='')))"
            ]
          },
          "metadata": {
            "tags": []
          }
        },
        {
          "output_type": "stream",
          "text": [
            "Extracting ./data/mnist/MNIST/raw/t10k-labels-idx1-ubyte.gz to ./data/mnist/MNIST/raw\n",
            "Processing...\n",
            "Done!\n"
          ],
          "name": "stdout"
        }
      ]
    },
    {
      "cell_type": "code",
      "metadata": {
        "id": "flsLh20ldEXk",
        "colab_type": "code",
        "colab": {}
      },
      "source": [
        "def to_one_hot(x):\n",
        "    b = np.zeros((len(x), 10))\n",
        "    b[np.arange(len(x)), x] = 1\n",
        "    return b"
      ],
      "execution_count": 0,
      "outputs": []
    },
    {
      "cell_type": "code",
      "metadata": {
        "id": "DMFBQK6VdGRC",
        "colab_type": "code",
        "outputId": "5917ac56-2314-4158-9270-382d1d8268d6",
        "colab": {
          "base_uri": "https://localhost:8080/",
          "height": 68
        }
      },
      "source": [
        "x_test = []\n",
        "y_test = []\n",
        "\n",
        "for data in test_loader:\n",
        "    x_test.append(data[0].reshape(1, 28, 28).numpy())\n",
        "    y_test.append(data[1][0])\n",
        "\n",
        "y_test = torch.Tensor(to_one_hot(y_test))\n",
        "x_test = torch.Tensor(x_test)"
      ],
      "execution_count": 5,
      "outputs": [
        {
          "output_type": "stream",
          "text": [
            "\n",
            "\n",
            "\n"
          ],
          "name": "stdout"
        }
      ]
    },
    {
      "cell_type": "code",
      "metadata": {
        "id": "UiTZj2VddMu4",
        "colab_type": "code",
        "colab": {}
      },
      "source": [
        "x_train = []\n",
        "y_train = []\n",
        "\n",
        "for data in test_loader:\n",
        "    x_train.append(data[0].reshape(1, 28, 28).numpy())\n",
        "    y_train.append(data[1][0])\n",
        "\n",
        "y_train = torch.Tensor(to_one_hot(y_train))\n",
        "x_train = torch.Tensor(x_train)"
      ],
      "execution_count": 0,
      "outputs": []
    },
    {
      "cell_type": "code",
      "metadata": {
        "id": "w43InLYkdOAF",
        "colab_type": "code",
        "colab": {}
      },
      "source": [
        "x_train = x_train[:5000]\n",
        "x_test = x_test[:500]\n",
        "y_train = y_train[:5000]\n",
        "y_test = y_test[:500]"
      ],
      "execution_count": 0,
      "outputs": []
    },
    {
      "cell_type": "code",
      "metadata": {
        "id": "ClX3ZcgZda1f",
        "colab_type": "code",
        "outputId": "4145613d-28df-4810-cb9c-589759df05ea",
        "colab": {
          "base_uri": "https://localhost:8080/",
          "height": 68
        }
      },
      "source": [
        "print(x_train.shape, x_test.shape, y_train.shape, y_test.shape)\n",
        "\n",
        "print(torch.min(x_test))\n",
        "print(torch.max(x_test))"
      ],
      "execution_count": 8,
      "outputs": [
        {
          "output_type": "stream",
          "text": [
            "torch.Size([5000, 1, 28, 28]) torch.Size([500, 1, 28, 28]) torch.Size([5000, 10]) torch.Size([500, 10])\n",
            "tensor(0.)\n",
            "tensor(1.)\n"
          ],
          "name": "stdout"
        }
      ]
    },
    {
      "cell_type": "code",
      "metadata": {
        "id": "50qBf--HdhWp",
        "colab_type": "code",
        "colab": {}
      },
      "source": [
        "def plot_image(x):\n",
        "    plt.imshow(x.reshape((28, 28)), cmap='gray')\n",
        "    # plt.show()"
      ],
      "execution_count": 0,
      "outputs": []
    },
    {
      "cell_type": "code",
      "metadata": {
        "id": "jmwh8jord1Nt",
        "colab_type": "code",
        "outputId": "9a4eeea2-c9e8-423c-9390-aa6b76b46ec8",
        "colab": {
          "base_uri": "https://localhost:8080/",
          "height": 282
        }
      },
      "source": [
        "index = 12\n",
        "plot_image(x_test[index].numpy())\n",
        "print(y_test[index])\n",
        "plt.show()"
      ],
      "execution_count": 10,
      "outputs": [
        {
          "output_type": "stream",
          "text": [
            "tensor([0., 0., 1., 0., 0., 0., 0., 0., 0., 0.])\n"
          ],
          "name": "stdout"
        },
        {
          "output_type": "display_data",
          "data": {
            "image/png": "[encoded data removed]",
            "text/plain": [
              "<Figure size 432x288 with 1 Axes>"
            ]
          },
          "metadata": {
            "tags": [],
            "needs_background": "light"
          }
        }
      ]
    },
    {
      "cell_type": "code",
      "metadata": {
        "id": "_MgaEjzdd5ES",
        "colab_type": "code",
        "colab": {}
      },
      "source": [
        "def get_random(shape, min_=-0.5, max_=0.5):\n",
        "    return torch.FloatTensor(*shape).uniform_(min_, max_).requires_grad_()"
      ],
      "execution_count": 0,
      "outputs": []
    },
    {
      "cell_type": "markdown",
      "metadata": {
        "id": "1RcKLa1HeeBc",
        "colab_type": "text"
      },
      "source": [
        "Params:\n",
        "\n",
        "```yaml\n",
        "input: (b, 1, 28, 28)\n",
        "\n",
        "conv1:\n",
        "    input: (b, 1, 28, 28)\n",
        "    kernel_size: (3, 3)\n",
        "    weights: (28, 3, 3)\n",
        "    biases: 28\n",
        "    stride: 1\n",
        "    padding: 1\n",
        "    output: (b, 28, 28, 28)\n",
        "    activation: relu\n",
        "\n",
        "fcc1:\n",
        "    input: (b, 28**3)\n",
        "    weights: (28**3, 128)\n",
        "    biases: 1000\n",
        "    output: (b, 128)\n",
        "    activation: sigmoid\n",
        "\n",
        "fcc2:\n",
        "    input: (b, 128)\n",
        "    weights: (128, 10)\n",
        "    biases: 10\n",
        "    output: (b, 10)\n",
        "    activation: softmax\n",
        "\n",
        "```"
      ]
    },
    {
      "cell_type": "code",
      "metadata": {
        "id": "Eqt8SIxTmqeP",
        "colab_type": "code",
        "colab": {}
      },
      "source": [
        "def pad2D(x):\n",
        "    padded_x = torch.zeros((x.shape[0], x.shape[1], x.shape[2]+2, x.shape[3]+2))\n",
        "    padded_x[:, :, 1:x.shape[2]+1, 1:x.shape[3]+1] = x\n",
        "    return padded_x"
      ],
      "execution_count": 0,
      "outputs": []
    },
    {
      "cell_type": "code",
      "metadata": {
        "id": "G74t1WURnLLj",
        "colab_type": "code",
        "colab": {}
      },
      "source": [
        "class Conv2D(torch.nn.Module):\n",
        "    def __init__(self, in_channels, out_channels, kernel_size=3, stride=1, padding=False):\n",
        "        super(Conv2D, self).__init__()\n",
        "        self.w = get_random((out_channels, in_channels * kernel_size * kernel_size))\n",
        "        self.b = torch.zeros(out_channels, requires_grad=True)\n",
        "        self.out_channels = out_channels\n",
        "        self.in_channels = in_channels\n",
        "        self.kernel_size = kernel_size\n",
        "        self.stride = stride\n",
        "        self.padding = padding\n",
        "\n",
        "    def forward(self, x, **kwargs):\n",
        "\n",
        "        # Add padding if asked\n",
        "        if self.padding:\n",
        "            x = pad2D(x)\n",
        "\n",
        "        # Create the output tensor\n",
        "        output = torch.zeros((\n",
        "            x.shape[0], \n",
        "            self.out_channels, \n",
        "            (x.shape[2] - self.kernel_size) // self.stride + 1,  # (w - k +2p)/s + 1\n",
        "            (x.shape[3] - self.kernel_size) // self.stride + 1\n",
        "        ))\n",
        "\n",
        "        # Convolutions loops\n",
        "        for i in range(0, x.shape[2] - self.kernel_size + 1, self.stride):\n",
        "            for j in range(0, x.shape[3] - self.kernel_size + 1, self.stride):\n",
        "                # Input to kernel\n",
        "                cropped_x = x[:, :, i:i+self.kernel_size, j:j+self.kernel_size]\n",
        "                \n",
        "                # Flattening the input into 1D\n",
        "                input_x = cropped_x.reshape((-1, cropped_x.shape[1] * cropped_x.shape[2] * cropped_x.shape[3]))\n",
        "\n",
        "                # Computing the matrix multiplication\n",
        "                h1 = input_x.matmul(self.w.T) + self.b\n",
        "\n",
        "                # Add the result to the output tensor\n",
        "                output[:, :, i // self.stride, j // self.stride] = h1\n",
        "\n",
        "        return output\n",
        "\n",
        "    def optimize(self, lr):\n",
        "        self.w = (self.w - lr * self.w.grad).detach().requires_grad_()\n",
        "        self.b = (self.b - lr * self.b.grad).detach().requires_grad_()\n",
        "\n",
        "    def parameters(self):\n",
        "        return {'params': [self.w, self.b]}"
      ],
      "execution_count": 0,
      "outputs": []
    },
    {
      "cell_type": "code",
      "metadata": {
        "id": "xAKj7wVaBETX",
        "colab_type": "code",
        "colab": {}
      },
      "source": [
        "class FC(torch.nn.Module):\n",
        "    def __init__(self, inputs, units):\n",
        "        super(FC, self).__init__()\n",
        "        self.w = get_random((inputs, units))\n",
        "        self.b = torch.zeros(units, requires_grad=True)\n",
        "        self.units = units\n",
        "        self.inputs = inputs\n",
        "\n",
        "    def forward(self, x):\n",
        "        h1 = x.matmul(self.w) + self.b\n",
        "        return h1\n",
        "\n",
        "    def optimize(self, lr):\n",
        "        self.w = (self.w - lr * self.w.grad).detach().requires_grad_()\n",
        "        self.b = (self.b - lr * self.b.grad).detach().requires_grad_()\n",
        "\n",
        "    def parameters(self):\n",
        "        return {'params': [self.w, self.b]}"
      ],
      "execution_count": 0,
      "outputs": []
    },
    {
      "cell_type": "code",
      "metadata": {
        "id": "hhUlXU4teANN",
        "colab_type": "code",
        "colab": {}
      },
      "source": [
        "class Classifier (torch.nn.Module):\n",
        "    def __init__(self):\n",
        "        super(Classifier, self).__init__()\n",
        "        self.conv1 = Conv2D(1, 28, 3, 1, True)\n",
        "        self.fc1 = FC(28 * 28 * 28, 128)\n",
        "        self.fc2 = FC(128, 10)\n",
        "\n",
        "\n",
        "    def forward(self, x):\n",
        "        h1 = torch.relu(self.conv1(x))\n",
        "        h1 = h1.reshape(h1.shape[0], -1)  # flatten\n",
        "        h2 = torch.sigmoid(self.fc1(h1))\n",
        "        h3 = torch.nn.functional.softmax(self.fc2(h2))\n",
        "        return h3\n",
        "\n",
        "    def optimize(self):\n",
        "        self.conv1.optimize(0.5)\n",
        "        self.fc1.optimize(0.5)\n",
        "        self.fc2.optimize(0.5)\n",
        "\n",
        "    def parameters(self):\n",
        "        return [layer.parameters() for layer in (self.conv1, self.fc1, self.fc2)]"
      ],
      "execution_count": 0,
      "outputs": []
    },
    {
      "cell_type": "code",
      "metadata": {
        "id": "tE8jTQDlNqZD",
        "colab_type": "code",
        "colab": {}
      },
      "source": [
        "model = Classifier()"
      ],
      "execution_count": 0,
      "outputs": []
    },
    {
      "cell_type": "code",
      "metadata": {
        "id": "bsbMPldpF5P4",
        "colab_type": "code",
        "colab": {}
      },
      "source": [
        "optimizer = torch.optim.Adam(model.parameters(), lr=0.01)"
      ],
      "execution_count": 0,
      "outputs": []
    },
    {
      "cell_type": "code",
      "metadata": {
        "id": "YB4P_A_rFjw7",
        "colab_type": "code",
        "colab": {
          "base_uri": "https://localhost:8080/",
          "height": 357
        },
        "outputId": "8e78b9ab-e1c6-4151-8b0b-8c9d48686769"
      },
      "source": [
        "batch_size = 200\n",
        "epochs = 1\n",
        "\n",
        "for epoch in range(epochs):\n",
        "    print(f'Epoch: {epoch}')\n",
        "    losses = 0\n",
        "    for i in range(0, len(x_train), batch_size):\n",
        "        start_index = i\n",
        "        end_index = i+batch_size\n",
        "        \n",
        "        x_batch = x_train[start_index:end_index]\n",
        "        y_batch = y_train[start_index:end_index]\n",
        "\n",
        "        optimizer.zero_grad()\n",
        "        y_pred = model(x_batch)\n",
        "        \n",
        "        loss = torch.nn.functional.binary_cross_entropy(y_pred, y_batch)\n",
        "        loss.backward()\n",
        "\n",
        "        optimizer.step()\n",
        "\n",
        "        losses += loss\n",
        "\n",
        "        if i % 300:\n",
        "            print(f'    Loss: {loss}')        \n",
        "    print(f'  Loss: {losses}')"
      ],
      "execution_count": 27,
      "outputs": [
        {
          "output_type": "stream",
          "text": [
            "Epoch: 0\n"
          ],
          "name": "stdout"
        },
        {
          "output_type": "stream",
          "text": [
            "/usr/local/lib/python3.6/dist-packages/ipykernel_launcher.py:13: UserWarning: Implicit dimension choice for softmax has been deprecated. Change the call to include dim=X as an argument.\n",
            "  del sys.path[0]\n"
          ],
          "name": "stderr"
        },
        {
          "output_type": "stream",
          "text": [
            "    Loss: 0.48331218957901\n",
            "    Loss: 0.36139115691185\n",
            "    Loss: 0.24380314350128174\n",
            "    Loss: 0.20648902654647827\n",
            "    Loss: 0.13495022058486938\n",
            "    Loss: 0.1308947205543518\n",
            "    Loss: 0.1154150515794754\n",
            "    Loss: 0.11980539560317993\n",
            "    Loss: 0.08740951865911484\n",
            "    Loss: 0.09248927980661392\n",
            "    Loss: 0.07681242376565933\n",
            "    Loss: 0.09474394470453262\n",
            "    Loss: 0.07295730710029602\n",
            "    Loss: 0.064518503844738\n",
            "    Loss: 0.06107725948095322\n",
            "    Loss: 0.06312616914510727\n",
            "  Loss: 3.893590211868286\n"
          ],
          "name": "stdout"
        }
      ]
    },
    {
      "cell_type": "code",
      "metadata": {
        "id": "XOcbmUSMm8xa",
        "colab_type": "code",
        "outputId": "e12f37c6-b66f-449c-de95-70f91a3bf393",
        "colab": {
          "base_uri": "https://localhost:8080/",
          "height": 357
        }
      },
      "source": [
        "batch_size = 200\n",
        "epochs = 1\n",
        "\n",
        "for epoch in range(epochs):\n",
        "    print(f'Epoch: {epoch}')\n",
        "    losses = 0\n",
        "    for i in range(0, len(x_train), batch_size):\n",
        "        start_index = i\n",
        "        end_index = i+batch_size\n",
        "        \n",
        "        x_batch = x_train[start_index:end_index]\n",
        "        y_batch = y_train[start_index:end_index]\n",
        "\n",
        "        y_pred = model(x_batch)\n",
        "        \n",
        "        loss = torch.nn.functional.binary_cross_entropy(y_pred, y_batch)\n",
        "        loss.backward()\n",
        "\n",
        "        model.optimize()\n",
        "\n",
        "        losses += loss\n",
        "\n",
        "        if i % 300:\n",
        "            print(f'    Loss: {loss}')        \n",
        "    print(f'  Loss: {losses}')"
      ],
      "execution_count": 0,
      "outputs": [
        {
          "output_type": "stream",
          "text": [
            "Epoch: 0\n"
          ],
          "name": "stdout"
        },
        {
          "output_type": "stream",
          "text": [
            "/usr/local/lib/python3.6/dist-packages/ipykernel_launcher.py:13: UserWarning: Implicit dimension choice for softmax has been deprecated. Change the call to include dim=X as an argument.\n",
            "  del sys.path[0]\n"
          ],
          "name": "stderr"
        },
        {
          "output_type": "stream",
          "text": [
            "    Loss: 0.26441535353660583\n",
            "    Loss: 0.2629656493663788\n",
            "    Loss: 0.2581695318222046\n",
            "    Loss: 0.2538660168647766\n",
            "    Loss: 0.256104439496994\n",
            "    Loss: 0.2317877858877182\n",
            "    Loss: 0.23507320880889893\n",
            "    Loss: 0.23883530497550964\n",
            "    Loss: 0.2222621738910675\n",
            "    Loss: 0.24459747970104218\n",
            "    Loss: 0.2333696484565735\n",
            "    Loss: 0.21002046763896942\n",
            "    Loss: 0.21329227089881897\n",
            "    Loss: 0.2293323427438736\n",
            "    Loss: 0.2005690038204193\n",
            "    Loss: 0.20597420632839203\n",
            "  Loss: 5.937482833862305\n"
          ],
          "name": "stdout"
        }
      ]
    },
    {
      "cell_type": "code",
      "metadata": {
        "id": "ihvGalZyINv2",
        "colab_type": "code",
        "outputId": "1161b71b-b86c-4733-f9f6-ccef675c2cd3",
        "colab": {
          "base_uri": "https://localhost:8080/",
          "height": 863
        }
      },
      "source": [
        "with torch.no_grad():\n",
        "\n",
        "    index = int(random() * 500)\n",
        "    print(index)\n",
        "    batch_size = 3\n",
        "\n",
        "    x_sample = x_test[index:index+batch_size]\n",
        "    y_sample = y_test[index:index+batch_size]\n",
        "\n",
        "    y_pred = model(x_sample)\n",
        "\n",
        "    for img in range(batch_size):\n",
        "        plot_image(x_sample[img].numpy())\n",
        "        plt.show()\n",
        "\n",
        "    value, y_pred_int = y_pred.max(1)\n",
        "    value, y_real_int = y_sample.max(1)\n",
        "\n",
        "    print(f'y_pred: {y_pred_int}\\ny_real: {y_real_int}')\n",
        "\n",
        "    loss = torch.nn.functional.binary_cross_entropy(y_pred, y_sample)\n",
        "\n",
        "    print(loss)\n"
      ],
      "execution_count": 30,
      "outputs": [
        {
          "output_type": "stream",
          "text": [
            "343\n"
          ],
          "name": "stdout"
        },
        {
          "output_type": "stream",
          "text": [
            "/usr/local/lib/python3.6/dist-packages/ipykernel_launcher.py:13: UserWarning: Implicit dimension choice for softmax has been deprecated. Change the call to include dim=X as an argument.\n",
            "  del sys.path[0]\n"
          ],
          "name": "stderr"
        },
        {
          "output_type": "display_data",
          "data": {
            "image/png": "[encoded data removed]",
            "text/plain": [
              "<Figure size 432x288 with 1 Axes>"
            ]
          },
          "metadata": {
            "tags": [],
            "needs_background": "light"
          }
        },
        {
          "output_type": "display_data",
          "data": {
            "image/png": "[encoded data removed]",
            "text/plain": [
              "<Figure size 432x288 with 1 Axes>"
            ]
          },
          "metadata": {
            "tags": [],
            "needs_background": "light"
          }
        },
        {
          "output_type": "display_data",
          "data": {
            "image/png": "[encoded data removed]",
            "text/plain": [
              "<Figure size 432x288 with 1 Axes>"
            ]
          },
          "metadata": {
            "tags": [],
            "needs_background": "light"
          }
        },
        {
          "output_type": "stream",
          "text": [
            "y_pred: tensor([4, 9, 1])\n",
            "y_real: tensor([4, 9, 1])\n",
            "tensor(0.0218)\n"
          ],
          "name": "stdout"
        }
      ]
    },
    {
      "cell_type": "code",
      "metadata": {
        "id": "RYaM-b5-JNbp",
        "colab_type": "code",
        "colab": {}
      },
      "source": [
        ""
      ],
      "execution_count": 0,
      "outputs": []
    }
  ]
}