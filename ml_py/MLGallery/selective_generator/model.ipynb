{
 "cells": [
  {
   "cell_type": "code",
   "execution_count": 1,
   "metadata": {
    "collapsed": true,
    "pycharm": {
     "is_executing": false
    }
   },
   "outputs": [],
   "source": [
    "import numpy as np\n",
    "import matplotlib.pyplot as plt\n",
    "from numpy import load\n",
    "import torch"
   ]
  },
  {
   "cell_type": "code",
   "execution_count": 15,
   "outputs": [],
   "source": [
    "data_path = \"../../data/mnist/\"\n",
    "x_test = torch.Tensor(load(f'{data_path}/x_test.npy').reshape((-1, 784)))\n",
    "x_train = torch.Tensor(load(f'{data_path}/x_train.npy').reshape((-1, 784)))\n",
    "y_test = torch.Tensor(load(f'{data_path}/y_test.npy'))\n",
    "y_train = torch.Tensor(load(f'{data_path}/y_train.npy'))"
   ],
   "metadata": {
    "collapsed": false,
    "pycharm": {
     "name": "#%%\n",
     "is_executing": false
    }
   }
  },
  {
   "cell_type": "code",
   "execution_count": 16,
   "outputs": [
    {
     "name": "stdout",
     "text": [
      "torch.Size([60000, 784])\n",
      "torch.Size([60000, 10])\n",
      "tensor(0.)\n",
      "tensor(1.)\n",
      "tensor([0., 0., 0., 0., 0., 0., 0., 1., 0., 0.])\n"
     ],
     "output_type": "stream"
    }
   ],
   "source": [
    "print(x_train.shape)\n",
    "print(y_train.shape)\n",
    "\n",
    "print(torch.min(x_test))\n",
    "print(torch.max(x_test))\n",
    "print(y_train[0])\n"
   ],
   "metadata": {
    "collapsed": false,
    "pycharm": {
     "name": "#%%\n",
     "is_executing": false
    }
   }
  },
  {
   "cell_type": "code",
   "execution_count": 36,
   "outputs": [],
   "source": [
    "def plot_image(x):\n",
    "    plt.imshow(x, cmap='gray')\n",
    "    # plt.show()"
   ],
   "metadata": {
    "collapsed": false,
    "pycharm": {
     "name": "#%%\n",
     "is_executing": false
    }
   }
  },
  {
   "cell_type": "code",
   "execution_count": 37,
   "outputs": [
    {
     "name": "stdout",
     "text": [
      "tensor([0., 0., 0., 0., 0., 0., 0., 0., 0., 1.])\n"
     ],
     "output_type": "stream"
    },
    {
     "data": {
      "text/plain": "<Figure size 432x288 with 1 Axes>",
      "image/png": "[encoded data removed]"
     },
     "metadata": {
      "needs_background": "light"
     },
     "output_type": "display_data"
    }
   ],
   "source": [
    "    \n",
    "index = 12\n",
    "plot_image(x_test[index].numpy().reshape((28, 28)))\n",
    "print(y_test[index])\n",
    "plt.show()"
   ],
   "metadata": {
    "collapsed": false,
    "pycharm": {
     "name": "#%%\n",
     "is_executing": false
    }
   }
  },
  {
   "cell_type": "code",
   "execution_count": 19,
   "outputs": [],
   "source": [
    "def get_random(shape, min_=-0.5, max_=0.5):\n",
    "    return torch.FloatTensor(*shape).uniform_(min_, max_).requires_grad_()"
   ],
   "metadata": {
    "collapsed": false,
    "pycharm": {
     "name": "#%%\n",
     "is_executing": false
    }
   }
  },
  {
   "cell_type": "markdown",
   "source": [
    "# Model\n",
    "\n",
    "```yaml\n",
    "Generator:\n",
    "  - Input: 100 (90 noise, 10 one-hot)\n",
    "  - h1: 150\n",
    "  - h2: 400\n",
    "  - h3: 784\n",
    "\n",
    "FeatureExtractor:\n",
    "  - Input: 784 (28x28)\n",
    "  - h1: 400\n",
    "  - h2: 150\n",
    "  - h3: 100\n",
    "\n",
    "Discriminator:\n",
    "  - Input: 100\n",
    "  - h1: 50\n",
    "  - h2: 1\n",
    "\n",
    "Classifier:\n",
    "  - Input: 100\n",
    "  - h1: 50\n",
    "  - h2: 10\n",
    "```"
   ],
   "metadata": {
    "collapsed": false,
    "pycharm": {
     "name": "#%% md\n"
    }
   }
  },
  {
   "cell_type": "code",
   "execution_count": 20,
   "outputs": [],
   "source": [
    "class Generator(torch.nn.Module):\n",
    "    def __init__(self):\n",
    "        super().__init__()\n",
    "        self.w1, self.b1 = get_random((100, 150)), torch.zeros(150, requires_grad=True)\n",
    "        self.w2, self.b2 = get_random((150, 400)), torch.zeros(400, requires_grad=True)\n",
    "        self.w3, self.b3 = get_random((400, 784)), torch.zeros(784, requires_grad=True)\n",
    "    \n",
    "    def forward(self, x, **kwargs):\n",
    "        # x.shape = (batch, 100)\n",
    "        h1 = x.matmul(self.w1) + self.b1\n",
    "        h2 = h1.matmul(self.w2) + self.b2\n",
    "        h3 = torch.nn.functional.softmax(h2.matmul(self.w3) + self.b3)\n",
    "        return h3\n",
    "    \n",
    "    def optimize(self, lr):\n",
    "        self.w1 = (self.w1 - lr * self.w1.grad).detach().requires_grad_()\n",
    "        self.w2 = (self.w2 - lr * self.w2.grad).detach().requires_grad_()\n",
    "        self.w3 = (self.w3 - lr * self.w3.grad).detach().requires_grad_()\n",
    "        \n",
    "        self.b1 = (self.b1 - lr * self.b1.grad).detach().requires_grad_()\n",
    "        self.b2 = (self.b2 - lr * self.b2.grad).detach().requires_grad_()\n",
    "        self.b3 = (self.b3 - lr * self.b3.grad).detach().requires_grad_()"
   ],
   "metadata": {
    "collapsed": false,
    "pycharm": {
     "name": "#%%\n",
     "is_executing": false
    }
   }
  },
  {
   "cell_type": "code",
   "execution_count": 21,
   "outputs": [],
   "source": [
    "class FeatureExtractor(torch.nn.Module):\n",
    "    def __init__(self):\n",
    "        super().__init__()\n",
    "        self.w1, self.b1 = get_random((784, 400)), torch.zeros(400, requires_grad=True)\n",
    "        self.w2, self.b2 = get_random((400, 150)), torch.zeros(150, requires_grad=True)\n",
    "        self.w3, self.b3 = get_random((150, 100)), torch.zeros(100, requires_grad=True)\n",
    "    \n",
    "    def forward(self, x, **kwargs):\n",
    "        h1 = torch.sigmoid(x.matmul(self.w1) + self.b1)\n",
    "        h2 = torch.sigmoid(h1.matmul(self.w2) + self.b2)\n",
    "        h3 = torch.sigmoid(h2.matmul(self.w3) + self.b3)\n",
    "        return h3\n",
    "    \n",
    "    def optimize(self, lr):\n",
    "        \n",
    "        self.w1 = (self.w1 - lr * self.w1.grad).detach().requires_grad_()\n",
    "        self.w2 = (self.w2 - lr * self.w2.grad).detach().requires_grad_()\n",
    "        self.w3 = (self.w3 - lr * self.w3.grad).detach().requires_grad_()\n",
    "        \n",
    "        self.b1 = (self.b1 - lr * self.b1.grad).detach().requires_grad_()\n",
    "        self.b2 = (self.b2 - lr * self.b2.grad).detach().requires_grad_()\n",
    "        self.b3 = (self.b3 - lr * self.b3.grad).detach().requires_grad_()\n",
    "        "
   ],
   "metadata": {
    "collapsed": false,
    "pycharm": {
     "name": "#%%\n",
     "is_executing": false
    }
   }
  },
  {
   "cell_type": "code",
   "execution_count": 22,
   "outputs": [],
   "source": [
    "class Discriminator(torch.nn.Module):\n",
    "    def __init__(self):\n",
    "        super().__init__()\n",
    "        self.w1, self.b1 = get_random((100, 50)), torch.zeros(50, requires_grad=True)\n",
    "        self.w2, self.b2 = get_random((50, 1)), torch.zeros(1, requires_grad=True)\n",
    "    \n",
    "    def forward(self, x, **kwargs):\n",
    "        h1 = x.matmul(self.w1) + self.b1\n",
    "        h2 = torch.sigmoid(h1.matmul(self.w2) + self.b2)\n",
    "        return h2\n",
    "    \n",
    "    def optimize(self, lr):\n",
    "        self.w1 = (self.w1 - lr * self.w1.grad).detach().requires_grad_()\n",
    "        self.w2 = (self.w2 - lr * self.w2.grad).detach().requires_grad_()\n",
    "        \n",
    "        self.b1 = (self.b1 - lr * self.b1.grad).detach().requires_grad_()\n",
    "        self.b2 = (self.b2 - lr * self.b2.grad).detach().requires_grad_()"
   ],
   "metadata": {
    "collapsed": false,
    "pycharm": {
     "name": "#%%\n",
     "is_executing": false
    }
   }
  },
  {
   "cell_type": "code",
   "execution_count": 26,
   "outputs": [],
   "source": [
    "    \n",
    "class Classifier(torch.nn.Module):\n",
    "    def __init__(self):\n",
    "        super().__init__()\n",
    "        self.w1, self.b1 = get_random((100, 50)), torch.zeros(50, requires_grad=True)\n",
    "        self.w2, self.b2 = get_random((50, 10)), torch.zeros(10, requires_grad=True)\n",
    "    \n",
    "    def forward(self, x, **kwargs):\n",
    "        h1 = torch.sigmoid(x.matmul(self.w1) + self.b1)\n",
    "        h2 = torch.nn.functional.softmax(h1.matmul(self.w2) + self.b2)\n",
    "        return h2\n",
    "    \n",
    "    def optimize(self, lr):\n",
    "        self.w1 = (self.w1 - lr * self.w1.grad).detach().requires_grad_()\n",
    "        self.w2 = (self.w2 - lr * self.w2.grad).detach().requires_grad_()\n",
    "        \n",
    "        self.b1 = (self.b1 - lr * self.b1.grad).detach().requires_grad_()\n",
    "        self.b2 = (self.b2 - lr * self.b2.grad).detach().requires_grad_()\n"
   ],
   "metadata": {
    "collapsed": false,
    "pycharm": {
     "name": "#%%\n",
     "is_executing": false
    }
   }
  },
  {
   "cell_type": "code",
   "execution_count": 27,
   "outputs": [],
   "source": [
    "fe = FeatureExtractor()\n",
    "classifier = Classifier()\n",
    "discriminator = Discriminator()\n",
    "generator = Generator()"
   ],
   "metadata": {
    "collapsed": false,
    "pycharm": {
     "name": "#%%\n",
     "is_executing": false
    }
   }
  },
  {
   "cell_type": "code",
   "execution_count": 31,
   "outputs": [
    {
     "name": "stdout",
     "text": [
      "torch.Size([5000, 784]) torch.Size([500, 784]) torch.Size([5000, 10]) torch.Size([500, 10])\n"
     ],
     "output_type": "stream"
    }
   ],
   "source": [
    "x_train = x_train[:5000]\n",
    "x_test = x_test[:500]\n",
    "y_train = y_train[:5000]\n",
    "y_test = y_test[:500]\n",
    "print(x_train.shape, x_test.shape, y_train.shape, y_test.shape)"
   ],
   "metadata": {
    "collapsed": false,
    "pycharm": {
     "name": "#%%\n",
     "is_executing": false
    }
   }
  },
  {
   "cell_type": "code",
   "execution_count": 40,
   "outputs": [
    {
     "name": "stdout",
     "text": [
      "Epoch: 0\n",
      "  Losses: [0.00672990788206107, 0.028761010096786777, 48.768569588661194]\n",
      "Epoch: 1\n",
      "  Losses: [0.008811767751581101, 0.027481034532684134, 47.616565585136414]\n",
      "Epoch: 2\n",
      "  Losses: [0.010753953179232667, 0.024097632722259732, 47.0744119733572]\n",
      "Epoch: 3\n",
      "  Losses: [0.011854831627488238, 0.02194914995925501, 46.474197670817375]\n",
      "Epoch: 4\n",
      "  Losses: [0.012383387664385737, 0.02030868969814037, 46.07940413057804]\n",
      "Epoch: 5\n",
      "  Losses: [0.012525443347612963, 0.01889376944200194, 45.76886384189129]\n",
      "Epoch: 6\n",
      "  Losses: [0.012373276720836657, 0.017612734793146956, 45.55451853573322]\n",
      "Epoch: 7\n",
      "  Losses: [0.012054564996674344, 0.016484453375596786, 45.38422194123268]\n",
      "Epoch: 8\n",
      "  Losses: [0.011644861357581249, 0.015484272487810813, 45.271639823913574]\n",
      "Epoch: 9\n",
      "  Losses: [0.011219836957593543, 0.01453532663435908, 45.131507471203804]\n"
     ],
     "output_type": "stream"
    },
    {
     "name": "stderr",
     "text": [
      "d:\\repos\\ml_gallery\\ml_py\\venv\\lib\\site-packages\\ipykernel_launcher.py:22: UserWarning: Using a target size (torch.Size([20])) that is different to the input size (torch.Size([20, 1])) is deprecated. Please ensure they have the same size.\n",
      "d:\\repos\\ml_gallery\\ml_py\\venv\\lib\\site-packages\\ipykernel_launcher.py:12: UserWarning: Implicit dimension choice for softmax has been deprecated. Change the call to include dim=X as an argument.\n",
      "  if sys.path[0] == '':\n",
      "d:\\repos\\ml_gallery\\ml_py\\venv\\lib\\site-packages\\ipykernel_launcher.py:9: UserWarning: Implicit dimension choice for softmax has been deprecated. Change the call to include dim=X as an argument.\n",
      "  if __name__ == '__main__':\n",
      "d:\\repos\\ml_gallery\\ml_py\\venv\\lib\\site-packages\\ipykernel_launcher.py:41: UserWarning: Using a target size (torch.Size([20])) that is different to the input size (torch.Size([20, 1])) is deprecated. Please ensure they have the same size.\n"
     ],
     "output_type": "stream"
    }
   ],
   "source": [
    "batch_size = 20\n",
    "epochs = 10\n",
    "\n",
    "for epoch in range(epochs):\n",
    "    print(f'Epoch: {epoch}')\n",
    "    losses = [0, 0, 0]\n",
    "    for i in range(0, len(x_train), batch_size):\n",
    "        start_index = i\n",
    "        end_index = i+batch_size\n",
    "        \n",
    "        x_batch = x_train[start_index:end_index]\n",
    "        y_batch = y_train[start_index:end_index]\n",
    "    \n",
    "        \n",
    "        # ------------ Train with real image ----------------\n",
    "        real = torch.ones(batch_size)\n",
    "        fake = torch.zeros(batch_size)\n",
    "        \n",
    "        features = fe(x_batch)\n",
    "        discriminator_out = discriminator(features)\n",
    "        \n",
    "        loss = torch.nn.functional.binary_cross_entropy(discriminator_out, real)\n",
    "        \n",
    "        loss.backward()\n",
    "        discriminator.optimize(0.1)\n",
    "        fe.optimize(0.1)\n",
    "        \n",
    "        losses[0] += float(loss)\n",
    "        \n",
    "        # --------------- Train with fake image -------------------\n",
    "        \n",
    "        generator_input = np.random.uniform(0, 1, (batch_size, 90))\n",
    "        generator_input = np.concatenate((generator_input, y_batch), axis=1)\n",
    "        generator_input = torch.Tensor(generator_input)\n",
    "        \n",
    "        generated = generator(generator_input)\n",
    "        features = fe(generated)\n",
    "        discriminator_out = discriminator(features)\n",
    "        classifier_out = classifier(features)\n",
    "        \n",
    "        loss_discriminator = torch.nn.functional.binary_cross_entropy(discriminator_out, fake)\n",
    "        loss_classifier = torch.nn.functional.binary_cross_entropy(classifier_out, y_batch)\n",
    "        \n",
    "        loss = loss_discriminator + loss_classifier\n",
    "        loss.backward()\n",
    "        \n",
    "        discriminator.optimize(0.1)\n",
    "        classifier.optimize(0.1)\n",
    "        fe.optimize(0.1)\n",
    "        generator.optimize(0.1)\n",
    "        \n",
    "        losses[1] += float(loss_discriminator)\n",
    "        losses[2] += float(loss_classifier)\n",
    "        \n",
    "    print(f'  Losses: {losses}')\n"
   ],
   "metadata": {
    "collapsed": false,
    "pycharm": {
     "name": "#%%\n",
     "is_executing": false
    }
   }
  },
  {
   "cell_type": "code",
   "execution_count": 43,
   "outputs": [
    {
     "name": "stderr",
     "text": [
      "d:\\repos\\ml_gallery\\ml_py\\venv\\lib\\site-packages\\ipykernel_launcher.py:12: UserWarning: Implicit dimension choice for softmax has been deprecated. Change the call to include dim=X as an argument.\n",
      "  if sys.path[0] == '':\n",
      "d:\\repos\\ml_gallery\\ml_py\\venv\\lib\\site-packages\\ipykernel_launcher.py:9: UserWarning: Implicit dimension choice for softmax has been deprecated. Change the call to include dim=X as an argument.\n",
      "  if __name__ == '__main__':\n"
     ],
     "output_type": "stream"
    },
    {
     "data": {
      "text/plain": "<Figure size 432x288 with 1 Axes>",
      "image/png": "[encoded data removed]"
     },
     "metadata": {
      "needs_background": "light"
     },
     "output_type": "display_data"
    },
    {
     "data": {
      "text/plain": "<Figure size 432x288 with 1 Axes>",
      "image/png": "[encoded data removed]"
     },
     "metadata": {
      "needs_background": "light"
     },
     "output_type": "display_data"
    },
    {
     "data": {
      "text/plain": "<Figure size 432x288 with 1 Axes>",
      "image/png": "[encoded data removed]"
     },
     "metadata": {
      "needs_background": "light"
     },
     "output_type": "display_data"
    },
    {
     "data": {
      "text/plain": "<Figure size 432x288 with 1 Axes>",
      "image/png": "[encoded data removed]"
     },
     "metadata": {
      "needs_background": "light"
     },
     "output_type": "display_data"
    },
    {
     "name": "stdout",
     "text": [
      "Discriminator_out: tensor([[2.1949e-06],\n",
      "        [2.1949e-06]])\n",
      "Real Img Discriminator Out: tensor([[1.0000],\n",
      "        [1.0000]])\n",
      "\n",
      "Class: tensor([[0.0020, 0.0044, 0.0007, 0.0054, 0.2278, 0.0079, 0.2254, 0.2684, 0.2514,\n",
      "         0.0066],\n",
      "        [0.0020, 0.0044, 0.0007, 0.0054, 0.2278, 0.0079, 0.2254, 0.2684, 0.2514,\n",
      "         0.0066]])\n",
      "Real class: tensor([[0., 0., 0., 0., 0., 0., 0., 1., 0., 0.],\n",
      "        [0., 0., 0., 0., 0., 0., 0., 0., 1., 0.]])\n"
     ],
     "output_type": "stream"
    }
   ],
   "source": [
    "with torch.no_grad():\n",
    "    \n",
    "    index = 133\n",
    "    batch_size = 2\n",
    "    \n",
    "    x_sample = x_test[index:index+batch_size]\n",
    "    y_sample = y_test[index:index+batch_size]\n",
    "    \n",
    "    generator_input = np.random.uniform(0, 1, (batch_size, 90))\n",
    "    generator_input = np.concatenate((generator_input, y_sample), axis=1)\n",
    "    generator_input = torch.Tensor(generator_input)\n",
    "        \n",
    "    generated = generator(generator_input)\n",
    "    features = fe(generated)\n",
    "    discriminator_out = discriminator(features)\n",
    "    classifier_out = classifier(features)\n",
    "    \n",
    "    real_discriminator_out = discriminator(fe(x_sample))\n",
    "\n",
    "    \n",
    "    for i in range(batch_size):\n",
    "        plot_image(generated[i].reshape((28, 28)))\n",
    "        plt.show()\n",
    "        plot_image(x_sample[i].reshape((28, 28)))\n",
    "        plt.show()\n",
    "        \n",
    "    \n",
    "    print(f\"Discriminator_out: {discriminator_out}\\nReal Img Discriminator Out: {real_discriminator_out}\")\n",
    "    print(f\"\\nClass: {classifier_out}\\nReal class: {y_sample}\")"
   ],
   "metadata": {
    "collapsed": false,
    "pycharm": {
     "name": "#%%\n",
     "is_executing": false
    }
   }
  },
  {
   "cell_type": "code",
   "execution_count": null,
   "outputs": [],
   "source": [
    "# This is just the classifier.\n",
    "\n",
    "batch_size = 20\n",
    "lr = 0.5\n",
    "epochs = 10\n",
    "\n",
    "for epoch in range(epochs):\n",
    "    print(f'Epoch: {epoch}')\n",
    "    losses = 0\n",
    "    for i in range(0, len(x_train), batch_size):\n",
    "        start_index = i\n",
    "        end_index = i+batch_size\n",
    "        \n",
    "        x_batch = x_train[start_index:end_index]\n",
    "        y_batch = y_train[start_index:end_index]\n",
    "        \n",
    "        features = fe(x_batch)\n",
    "        classes = classifier(features)\n",
    "        \n",
    "        loss = torch.nn.functional.binary_cross_entropy(classes, y_batch)\n",
    "        loss.backward()\n",
    "        \n",
    "        fe.optimize(lr)\n",
    "        classifier.optimize(lr)\n",
    "        \n",
    "        losses += loss.detach().numpy()\n",
    "    print(f' Loss: {losses}')\n",
    "\n",
    "with torch.no_grad():\n",
    "    index = 133\n",
    "    x_sample = x_test[index:index+2]\n",
    "    y_sample = y_test[index:index+2]\n",
    "    y_pred = classifier(fe(x_sample))\n",
    "    print(y_pred)\n",
    "    print(y_sample)"
   ],
   "metadata": {
    "collapsed": false,
    "pycharm": {
     "name": "#%%\n"
    }
   }
  },
  {
   "cell_type": "code",
   "execution_count": 12,
   "outputs": [],
   "source": [
    "\n"
   ],
   "metadata": {
    "collapsed": false,
    "pycharm": {
     "name": "#%%\n",
     "is_executing": false
    }
   }
  }
 ],
 "metadata": {
  "kernelspec": {
   "display_name": "Python 3",
   "language": "python",
   "name": "python3"
  },
  "language_info": {
   "codemirror_mode": {
    "name": "ipython",
    "version": 2
   },
   "file_extension": ".py",
   "mimetype": "text/x-python",
   "name": "python",
   "nbconvert_exporter": "python",
   "pygments_lexer": "ipython2",
   "version": "2.7.6"
  },
  "pycharm": {
   "stem_cell": {
    "cell_type": "raw",
    "source": [],
    "metadata": {
     "collapsed": false
    }
   }
  }
 },
 "nbformat": 4,
 "nbformat_minor": 0
}