{
 "cells": [
  {
   "cell_type": "code",
   "execution_count": 1,
   "metadata": {
    "collapsed": true,
    "pycharm": {
     "is_executing": false
    }
   },
   "outputs": [],
   "source": [
    "import numpy as np\n",
    "import matplotlib.pyplot as plt\n",
    "from numpy import load\n",
    "import torch"
   ]
  },
  {
   "cell_type": "code",
   "execution_count": 2,
   "outputs": [],
   "source": [
    "data_path = \"../../data/mnist/\"\n",
    "x_test = torch.Tensor(load(f'{data_path}/x_test.npy').reshape((-1, 784)))\n",
    "x_train = torch.Tensor(load(f'{data_path}/x_train.npy').reshape((-1, 784)))\n",
    "y_test = torch.Tensor(load(f'{data_path}/y_test.npy'))\n",
    "y_train = torch.Tensor(load(f'{data_path}/y_train.npy'))"
   ],
   "metadata": {
    "collapsed": false,
    "pycharm": {
     "name": "#%%\n",
     "is_executing": false
    }
   }
  },
  {
   "cell_type": "code",
   "execution_count": null,
   "outputs": [],
   "source": [
    "x_train = x_train[:5000]\n",
    "x_test = x_test[:500]\n",
    "y_train = y_train[:5000]\n",
    "y_test = y_test[:500]\n",
    "print(x_train.shape, x_test.shape, y_train.shape, y_test.shape)"
   ],
   "metadata": {
    "collapsed": false,
    "pycharm": {
     "name": "#%%\n"
    }
   }
  },
  {
   "cell_type": "code",
   "execution_count": 3,
   "outputs": [
    {
     "name": "stdout",
     "text": [
      "torch.Size([60000, 784])\n",
      "torch.Size([60000, 10])\n",
      "tensor(0.)\n",
      "tensor(1.)\n",
      "tensor([0., 0., 0., 0., 0., 0., 0., 1., 0., 0.])\n"
     ],
     "output_type": "stream"
    }
   ],
   "source": [
    "print(x_train.shape)\n",
    "print(y_train.shape)\n",
    "\n",
    "print(torch.min(x_test))\n",
    "print(torch.max(x_test))\n",
    "print(y_train[0])\n"
   ],
   "metadata": {
    "collapsed": false,
    "pycharm": {
     "name": "#%%\n",
     "is_executing": false
    }
   }
  },
  {
   "cell_type": "code",
   "execution_count": 4,
   "outputs": [],
   "source": [
    "def plot_image(x):\n",
    "    plt.imshow(x, cmap='gray')\n",
    "    # plt.show()"
   ],
   "metadata": {
    "collapsed": false,
    "pycharm": {
     "name": "#%%\n",
     "is_executing": false
    }
   }
  },
  {
   "cell_type": "code",
   "execution_count": 5,
   "outputs": [
    {
     "name": "stdout",
     "text": [
      "tensor([0., 0., 0., 0., 0., 0., 0., 0., 0., 1.])\n"
     ],
     "output_type": "stream"
    },
    {
     "data": {
      "text/plain": "<Figure size 432x288 with 1 Axes>",
      "image/png": "[encoded data removed]"
     },
     "metadata": {
      "needs_background": "light"
     },
     "output_type": "display_data"
    }
   ],
   "source": [
    "    \n",
    "index = 12\n",
    "plot_image(x_test[index].numpy().reshape((28, 28)))\n",
    "print(y_test[index])\n",
    "plt.show()"
   ],
   "metadata": {
    "collapsed": false,
    "pycharm": {
     "name": "#%%\n",
     "is_executing": false
    }
   }
  },
  {
   "cell_type": "code",
   "execution_count": 7,
   "outputs": [],
   "source": [
    "def get_random(shape, min_=-0.5, max_=0.5):\n",
    "    return torch.FloatTensor(*shape).uniform_(min_, max_).requires_grad_()"
   ],
   "metadata": {
    "collapsed": false,
    "pycharm": {
     "name": "#%%\n",
     "is_executing": false
    }
   }
  },
  {
   "cell_type": "markdown",
   "source": [
    "# Model\n",
    "\n",
    "```yaml\n",
    "Generator:\n",
    "  - Input: 100 (90 noise, 10 one-hot)\n",
    "  - h1: 150\n",
    "  - h2: 400\n",
    "  - h3: 784\n",
    "\n",
    "FeatureExtractor:\n",
    "  - Input: 784 (28x28)\n",
    "  - h1: 400\n",
    "  - h2: 150\n",
    "  - h3: 100\n",
    "\n",
    "Discriminator:\n",
    "  - Input: 100\n",
    "  - h1: 50\n",
    "  - h2: 1\n",
    "\n",
    "Classifier:\n",
    "  - Input: 100\n",
    "  - h1: 50\n",
    "  - h2: 10\n",
    "```"
   ],
   "metadata": {
    "collapsed": false,
    "pycharm": {
     "name": "#%% md\n"
    }
   }
  },
  {
   "cell_type": "code",
   "execution_count": 34,
   "outputs": [],
   "source": [
    "class Generator(torch.nn.Module):\n",
    "    def __init__(self):\n",
    "        super().__init__()\n",
    "        self.w1, self.b1 = get_random((100, 150)), torch.zeros(150, requires_grad=True)\n",
    "        self.w2, self.b2 = get_random((150, 400)), torch.zeros(400, requires_grad=True)\n",
    "        self.w3, self.b3 = get_random((400, 784)), torch.zeros(784, requires_grad=True)\n",
    "    \n",
    "    def forward(self, x, **kwargs):\n",
    "        # x.shape = (batch, 100)\n",
    "        h1 = torch.sigmoid(x.matmul(self.w1) + self.b1)\n",
    "        h2 = torch.sigmoid(h1.matmul(self.w2) + self.b2)\n",
    "        h3 = torch.sigmoid(h2.matmul(self.w3) + self.b3)\n",
    "        return h3\n",
    "    \n",
    "    def optimize(self, lr):\n",
    "        self.w1 = (self.w1 - lr * self.w1.grad).detach().requires_grad_()\n",
    "        self.w2 = (self.w2 - lr * self.w2.grad).detach().requires_grad_()\n",
    "        self.w3 = (self.w3 - lr * self.w3.grad).detach().requires_grad_()\n",
    "        \n",
    "        self.b1 = (self.b1 - lr * self.b1.grad).detach().requires_grad_()\n",
    "        self.b2 = (self.b2 - lr * self.b2.grad).detach().requires_grad_()\n",
    "        self.b3 = (self.b3 - lr * self.b3.grad).detach().requires_grad_()\n",
    "        \n",
    "    def zero_grad(self):\n",
    "        self.w1.grad = torch.zeros(self.w1.grad.shape)\n",
    "        self.w2.grad = torch.zeros(self.w2.grad.shape)\n",
    "        self.w3.grad = torch.zeros(self.w3.grad.shape)\n",
    "        \n",
    "        self.b1.grad = torch.zeros(self.b1.grad.shape)\n",
    "        self.b2.grad = torch.zeros(self.b2.grad.shape)\n",
    "        self.b3.grad = torch.zeros(self.b3.grad.shape)"
   ],
   "metadata": {
    "collapsed": false,
    "pycharm": {
     "name": "#%%\n",
     "is_executing": false
    }
   }
  },
  {
   "cell_type": "code",
   "execution_count": 35,
   "outputs": [],
   "source": [
    "class FeatureExtractor(torch.nn.Module):\n",
    "    def __init__(self):\n",
    "        super().__init__()\n",
    "        self.w1, self.b1 = get_random((784, 400)), torch.zeros(400, requires_grad=True)\n",
    "        self.w2, self.b2 = get_random((400, 150)), torch.zeros(150, requires_grad=True)\n",
    "        self.w3, self.b3 = get_random((150, 100)), torch.zeros(100, requires_grad=True)\n",
    "    \n",
    "    def forward(self, x, **kwargs):\n",
    "        h1 = torch.sigmoid(x.matmul(self.w1) + self.b1)\n",
    "        h2 = torch.sigmoid(h1.matmul(self.w2) + self.b2)\n",
    "        h3 = torch.sigmoid(h2.matmul(self.w3) + self.b3)\n",
    "        return h3\n",
    "    \n",
    "    def optimize(self, lr):\n",
    "        \n",
    "        self.w1 = (self.w1 - lr * self.w1.grad).detach().requires_grad_()\n",
    "        self.w2 = (self.w2 - lr * self.w2.grad).detach().requires_grad_()\n",
    "        self.w3 = (self.w3 - lr * self.w3.grad).detach().requires_grad_()\n",
    "        \n",
    "        self.b1 = (self.b1 - lr * self.b1.grad).detach().requires_grad_()\n",
    "        self.b2 = (self.b2 - lr * self.b2.grad).detach().requires_grad_()\n",
    "        self.b3 = (self.b3 - lr * self.b3.grad).detach().requires_grad_()\n",
    "        "
   ],
   "metadata": {
    "collapsed": false,
    "pycharm": {
     "name": "#%%\n",
     "is_executing": false
    }
   }
  },
  {
   "cell_type": "code",
   "execution_count": 36,
   "outputs": [],
   "source": [
    "class Discriminator(torch.nn.Module):\n",
    "    def __init__(self):\n",
    "        super().__init__()\n",
    "        self.w1, self.b1 = get_random((100, 50)), torch.zeros(50, requires_grad=True)\n",
    "        self.w2, self.b2 = get_random((50, 1)), torch.zeros(1, requires_grad=True)\n",
    "    \n",
    "    def forward(self, x, **kwargs):\n",
    "        h1 = torch.sigmoid(x.matmul(self.w1) + self.b1)\n",
    "        h2 = torch.sigmoid(h1.matmul(self.w2) + self.b2)\n",
    "        return h2\n",
    "    \n",
    "    def optimize(self, lr):\n",
    "        self.w1 = (self.w1 - lr * self.w1.grad).detach().requires_grad_()\n",
    "        self.w2 = (self.w2 - lr * self.w2.grad).detach().requires_grad_()\n",
    "        \n",
    "        self.b1 = (self.b1 - lr * self.b1.grad).detach().requires_grad_()\n",
    "        self.b2 = (self.b2 - lr * self.b2.grad).detach().requires_grad_()"
   ],
   "metadata": {
    "collapsed": false,
    "pycharm": {
     "name": "#%%\n",
     "is_executing": false
    }
   }
  },
  {
   "cell_type": "code",
   "execution_count": 37,
   "outputs": [],
   "source": [
    "    \n",
    "class Classifier(torch.nn.Module):\n",
    "    def __init__(self):\n",
    "        super().__init__()\n",
    "        self.w1, self.b1 = get_random((100, 50)), torch.zeros(50, requires_grad=True)\n",
    "        self.w2, self.b2 = get_random((50, 10)), torch.zeros(10, requires_grad=True)\n",
    "    \n",
    "    def forward(self, x, **kwargs):\n",
    "        h1 = torch.sigmoid(x.matmul(self.w1) + self.b1)\n",
    "        h2 = torch.nn.functional.softmax(h1.matmul(self.w2) + self.b2)\n",
    "        return h2\n",
    "    \n",
    "    def optimize(self, lr):\n",
    "        self.w1 = (self.w1 - lr * self.w1.grad).detach().requires_grad_()\n",
    "        self.w2 = (self.w2 - lr * self.w2.grad).detach().requires_grad_()\n",
    "        \n",
    "        self.b1 = (self.b1 - lr * self.b1.grad).detach().requires_grad_()\n",
    "        self.b2 = (self.b2 - lr * self.b2.grad).detach().requires_grad_()\n"
   ],
   "metadata": {
    "collapsed": false,
    "pycharm": {
     "name": "#%%\n",
     "is_executing": false
    }
   }
  },
  {
   "cell_type": "code",
   "execution_count": 42,
   "outputs": [],
   "source": [
    "fe = FeatureExtractor()\n",
    "classifier = Classifier()\n",
    "discriminator = Discriminator()\n",
    "generator = Generator()\n"
   ],
   "metadata": {
    "collapsed": false,
    "pycharm": {
     "name": "#%%\n",
     "is_executing": false
    }
   }
  },
  {
   "cell_type": "code",
   "execution_count": 46,
   "outputs": [
    {
     "name": "stdout",
     "text": [
      "Epoch: 0\n",
      "  Losses: [17.618211582303047, 0.3598412679566536, 81.95132100582123, 1676.8321352005005]\n",
      "Epoch: 1\n",
      "  Losses: [17.039702873677015, 0.2983848544827197, 81.85049679875374, 1734.4721775054932]\n",
      "Epoch: 2\n",
      "  Losses: [16.64182367734611, 0.308903419158014, 81.85386282205582, 1822.6388742923737]\n",
      "Epoch: 3\n",
      "  Losses: [16.525949347764254, 0.3925532911234768, 81.96433719992638, 1710.5838446617126]\n",
      "Epoch: 4\n",
      "  Losses: [16.301722835749388, 0.3581847659079358, 81.89213687181473, 1770.7252497673035]\n",
      "Epoch: 5\n",
      "  Losses: [16.04761689528823, 0.479913855153427, 81.9158186018467, 1648.377742767334]\n",
      "Epoch: 6\n",
      "  Losses: [51.85292133130133, 2.205817366610063, 81.66029033064842, 1419.800856590271]\n",
      "Epoch: 7\n",
      "  Losses: [15.196742171421647, 0.2460713071632199, 81.45457246899605, 1734.478410243988]\n",
      "Epoch: 8\n",
      "  Losses: [14.296627961099148, 0.14798005251213908, 81.4981196820736, 1859.2573099136353]\n",
      "Epoch: 9\n",
      "  Losses: [13.684524405747652, 0.10802208454697393, 81.5222769677639, 1937.190182209015]\n",
      "Epoch: 10\n",
      "  Losses: [13.218682372942567, 0.10814510189811699, 81.56645381450653, 1937.1337547302246]\n",
      "Epoch: 11\n",
      "  Losses: [12.798804735764861, 0.0888513129320927, 81.56284436583519, 1986.7167553901672]\n",
      "Epoch: 12\n",
      "  Losses: [12.432070823386312, 0.09636402342584915, 81.60411265492439, 1968.5238604545593]\n",
      "Epoch: 13\n",
      "  Losses: [12.110962730832398, 0.10938056392478757, 81.63212084770203, 1937.6950163841248]\n",
      "Epoch: 14\n",
      "  Losses: [11.961012520827353, 0.2807552529266104, 81.85770654678345, 1709.6804485321045]\n",
      "Epoch: 15\n",
      "  Losses: [11.933052716776729, 0.3887456441298127, 81.98326858878136, 1639.5931024551392]\n",
      "Epoch: 16\n",
      "  Losses: [11.810915989801288, 0.3575342349940911, 82.05352553725243, 1651.2553162574768]\n",
      "Epoch: 17\n",
      "  Losses: [11.556942513212562, 0.24439163305214606, 82.0676541030407, 1750.4659914970398]\n",
      "Epoch: 18\n",
      "  Losses: [11.446250925771892, 0.31728116708109155, 82.0334101319313, 1698.5963912010193]\n",
      "Epoch: 19\n",
      "  Losses: [11.375529890879989, 0.321426298993174, 81.99682280421257, 1709.6553606987]\n",
      "Epoch: 20\n",
      "  Losses: [10.989162182435393, 0.2557524899893906, 82.0079134106636, 1762.7222595214844]\n",
      "Epoch: 21\n",
      "  Losses: [11.19804058317095, 0.3972825111122802, 82.0691587626934, 1647.9937419891357]\n",
      "Epoch: 22\n",
      "  Losses: [10.770540256984532, 0.2119800942891743, 81.94072759151459, 1791.490146636963]\n",
      "Epoch: 23\n",
      "  Losses: [10.418727201409638, 0.1305329644383164, 81.9408848285675, 1914.5079798698425]\n",
      "Epoch: 24\n",
      "  Losses: [10.282024922780693, 0.1846724133065436, 82.00411656498909, 1832.6335105895996]\n",
      "Epoch: 25\n",
      "  Losses: [10.093566157855093, 0.16863460422609933, 82.02293518185616, 1861.5571479797363]\n",
      "Epoch: 26\n",
      "  Losses: [73.97964292019606, 11.405959603058932, 82.29018718004227, 1729.8999061658978]\n",
      "Epoch: 27\n",
      "  Losses: [22.29930917918682, 3.6612115534953773, 81.38553258776665, 1182.568730711937]\n",
      "Epoch: 28\n",
      "  Losses: [14.87924251332879, 0.6061295999679714, 81.39611631631851, 1510.9869241714478]\n",
      "Epoch: 29\n",
      "  Losses: [12.92531206086278, 0.3468456300906837, 81.44517514109612, 1647.143482685089]\n",
      "Epoch: 30\n",
      "  Losses: [11.818861173465848, 0.25700772914569825, 81.48351952433586, 1720.535038948059]\n",
      "Epoch: 31\n",
      "  Losses: [11.047375776804984, 0.20182336727157235, 81.50213748216629, 1781.0183300971985]\n",
      "Epoch: 32\n",
      "  Losses: [10.452806482091546, 0.16619114263448864, 81.52208510041237, 1829.3722896575928]\n",
      "Epoch: 33\n",
      "  Losses: [9.992095292545855, 0.14332814246881753, 81.5330069065094, 1866.2245788574219]\n",
      "Epoch: 34\n",
      "  Losses: [9.616260152310133, 0.1314888858469203, 81.55559012293816, 1887.8931350708008]\n",
      "Epoch: 35\n",
      "  Losses: [9.293052155524492, 0.11825086068711244, 81.56704384088516, 1914.6590251922607]\n",
      "Epoch: 36\n",
      "  Losses: [9.009511814918369, 0.11241666501155123, 81.5835331082344, 1927.2281951904297]\n",
      "Epoch: 37\n",
      "  Losses: [8.788564449641854, 0.14586346081341617, 81.65262478590012, 1863.6893610954285]\n",
      "Epoch: 38\n",
      "  Losses: [8.580617735628039, 0.1417282658512704, 81.67215248942375, 1870.691143989563]\n",
      "Epoch: 39\n",
      "  Losses: [8.381293491460383, 0.141846738406457, 81.69920894503593, 1870.804958820343]\n",
      "Epoch: 40\n",
      "  Losses: [8.179386266507208, 0.12579745551920496, 81.68884146213531, 1900.3889894485474]\n",
      "Epoch: 41\n",
      "  Losses: [8.037808067165315, 0.17793105146847665, 81.7377980351448, 1828.4724798202515]\n",
      "Epoch: 42\n",
      "  Losses: [8.000914241187274, 0.25026822288054973, 81.87612393498421, 1733.2773275375366]\n",
      "Epoch: 43\n",
      "  Losses: [7.847512187436223, 0.20589237730018795, 81.87998858094215, 1779.1765384674072]\n",
      "Epoch: 44\n",
      "  Losses: [7.704727695323527, 0.1737375223019626, 81.91083618998528, 1820.4303464889526]\n",
      "Epoch: 45\n",
      "  Losses: [7.527400243096054, 0.11909804391325451, 81.82444241642952, 1917.5966172218323]\n",
      "Epoch: 46\n",
      "  Losses: [7.46512110484764, 0.1872312093328219, 81.88230416178703, 1836.2117738723755]\n",
      "Epoch: 47\n",
      "  Losses: [7.5710897371172905, 0.3178021324565634, 81.98702856898308, 1681.2933549880981]\n",
      "Epoch: 48\n",
      "  Losses: [7.415716213639826, 0.22749614977510646, 81.89167255163193, 1762.2640409469604]\n",
      "Epoch: 49\n",
      "  Losses: [7.268741300329566, 0.2239414781506639, 81.9500523507595, 1784.8785848617554]\n"
     ],
     "output_type": "stream"
    },
    {
     "name": "stderr",
     "text": [
      "d:\\repos\\ml_gallery\\ml_py\\venv\\lib\\site-packages\\ipykernel_launcher.py:9: UserWarning: Implicit dimension choice for softmax has been deprecated. Change the call to include dim=X as an argument.\n",
      "  if __name__ == '__main__':\n",
      "d:\\repos\\ml_gallery\\ml_py\\venv\\lib\\site-packages\\ipykernel_launcher.py:23: UserWarning: Using a target size (torch.Size([20])) that is different to the input size (torch.Size([20, 1])) is deprecated. Please ensure they have the same size.\n",
      "d:\\repos\\ml_gallery\\ml_py\\venv\\lib\\site-packages\\ipykernel_launcher.py:45: UserWarning: Using a target size (torch.Size([20])) that is different to the input size (torch.Size([20, 1])) is deprecated. Please ensure they have the same size.\n",
      "d:\\repos\\ml_gallery\\ml_py\\venv\\lib\\site-packages\\ipykernel_launcher.py:46: UserWarning: Using a target size (torch.Size([20])) that is different to the input size (torch.Size([20, 1])) is deprecated. Please ensure they have the same size.\n"
     ],
     "output_type": "stream"
    }
   ],
   "source": [
    "batch_size = 20\n",
    "epochs = 50\n",
    "\n",
    "for epoch in range(epochs):\n",
    "    print(f'Epoch: {epoch}')\n",
    "    losses = [0, 0, 0, 0]\n",
    "    for i in range(0, len(x_train), batch_size):\n",
    "        start_index = i\n",
    "        end_index = i+batch_size\n",
    "        \n",
    "        x_batch = x_train[start_index:end_index]\n",
    "        y_batch = y_train[start_index:end_index]\n",
    "    \n",
    "        \n",
    "        # ------------ Train with real image ----------------\n",
    "        real = torch.ones(batch_size)\n",
    "        fake = torch.zeros(batch_size)\n",
    "        \n",
    "        features = fe(x_batch)\n",
    "        discriminator_out = discriminator(features)\n",
    "        classifier_out = classifier(features)\n",
    "        \n",
    "        loss_discriminator = torch.nn.functional.binary_cross_entropy(discriminator_out, real)\n",
    "        loss_classifier = torch.nn.functional.binary_cross_entropy(classifier_out, y_batch)\n",
    "        \n",
    "        loss = loss_discriminator + loss_classifier\n",
    "        loss.backward()\n",
    "        discriminator.optimize(0.1)\n",
    "        classifier.optimize(0.1)\n",
    "        fe.optimize(0.1)\n",
    "        \n",
    "        losses[0] += float(loss)\n",
    "        \n",
    "        # --------------- Train with fake image -------------------\n",
    "        \n",
    "        generator_input = np.random.uniform(0, 1, (batch_size, 90))\n",
    "        generator_input = np.concatenate((generator_input, y_batch), axis=1)\n",
    "        generator_input = torch.Tensor(generator_input)\n",
    "        \n",
    "        generated = generator(generator_input)\n",
    "        features = fe(generated)\n",
    "        discriminator_out = discriminator(features)\n",
    "        classifier_out = classifier(features)\n",
    "        \n",
    "        loss_discriminator = torch.nn.functional.binary_cross_entropy(discriminator_out, fake)\n",
    "        loss_generator = torch.nn.functional.binary_cross_entropy(discriminator_out, real)\n",
    "        loss_classifier = torch.nn.functional.binary_cross_entropy(classifier_out, y_batch)\n",
    "        loss = loss_discriminator + loss_classifier\n",
    "        \n",
    "        loss.backward(retain_graph=True)\n",
    "        \n",
    "        discriminator.optimize(0.1)\n",
    "        fe.optimize(0.1)\n",
    "        \n",
    "        generator.zero_grad()\n",
    "        loss_generator.backward()\n",
    "        generator.optimize(0.1)\n",
    "        \n",
    "        losses[1] += float(loss_discriminator)\n",
    "        losses[2] += float(loss_classifier)\n",
    "        losses[3] += float(loss_generator)\n",
    "        \n",
    "    print(f'  Losses: {losses}')\n"
   ],
   "metadata": {
    "collapsed": false,
    "pycharm": {
     "name": "#%%\n",
     "is_executing": false
    }
   }
  },
  {
   "cell_type": "code",
   "execution_count": 45,
   "outputs": [
    {
     "name": "stderr",
     "text": [
      "d:\\repos\\ml_gallery\\ml_py\\venv\\lib\\site-packages\\ipykernel_launcher.py:9: UserWarning: Implicit dimension choice for softmax has been deprecated. Change the call to include dim=X as an argument.\n",
      "  if __name__ == '__main__':\n"
     ],
     "output_type": "stream"
    },
    {
     "data": {
      "text/plain": "<Figure size 432x288 with 1 Axes>",
      "image/png": "[encoded data removed]"
     },
     "metadata": {
      "needs_background": "light"
     },
     "output_type": "display_data"
    },
    {
     "data": {
      "text/plain": "<Figure size 432x288 with 1 Axes>",
      "image/png": "[encoded data removed]"
     },
     "metadata": {
      "needs_background": "light"
     },
     "output_type": "display_data"
    },
    {
     "data": {
      "text/plain": "<Figure size 432x288 with 1 Axes>",
      "image/png": "[encoded data removed]"
     },
     "metadata": {
      "needs_background": "light"
     },
     "output_type": "display_data"
    },
    {
     "data": {
      "text/plain": "<Figure size 432x288 with 1 Axes>",
      "image/png": "[encoded data removed]"
     },
     "metadata": {
      "needs_background": "light"
     },
     "output_type": "display_data"
    },
    {
     "name": "stdout",
     "text": [
      "Discriminator_out fake: tensor([[0.0005],\n",
      "        [0.0005]])\n",
      "Real Img Discriminator Out: tensor([[0.9999],\n",
      "        [0.9993]])\n",
      "\n",
      "Class: tensor([[7.6908e-03, 2.5807e-03, 3.5578e-02, 4.4403e-03, 4.5470e-02, 2.1699e-02,\n",
      "         7.8702e-03, 4.3471e-01, 6.4389e-02, 3.7557e-01],\n",
      "        [4.4351e-04, 3.1133e-03, 1.4960e-03, 1.7677e-03, 1.7833e-03, 1.3472e-02,\n",
      "         6.7600e-03, 6.3875e-05, 9.6696e-01, 4.1436e-03]])\n",
      "Real class: tensor([[0., 0., 0., 0., 0., 0., 0., 1., 0., 0.],\n",
      "        [0., 0., 0., 0., 0., 0., 0., 0., 1., 0.]])\n"
     ],
     "output_type": "stream"
    }
   ],
   "source": [
    "with torch.no_grad():\n",
    "    \n",
    "    index = 133\n",
    "    batch_size = 2\n",
    "    \n",
    "    x_sample = x_test[index:index+batch_size]\n",
    "    y_sample = y_test[index:index+batch_size]\n",
    "    \n",
    "    generator_input = np.random.uniform(0, 1, (batch_size, 90))\n",
    "    generator_input = np.concatenate((generator_input, y_sample), axis=1)\n",
    "    generator_input = torch.Tensor(generator_input)\n",
    "        \n",
    "    generated = generator(generator_input)\n",
    "    features = fe(generated)\n",
    "    discriminator_out = discriminator(features)\n",
    "    \n",
    "    features = fe(x_sample)\n",
    "    real_discriminator_out = discriminator(features)\n",
    "    classifier_out = classifier(features)\n",
    "\n",
    "    \n",
    "    for i in range(batch_size):\n",
    "        plot_image(generated[i].reshape((28, 28)))\n",
    "        plt.show()\n",
    "        plot_image(x_sample[i].reshape((28, 28)))\n",
    "        plt.show()\n",
    "        \n",
    "    \n",
    "    print(f\"Discriminator_out fake: {discriminator_out}\\nReal Img Discriminator Out: {real_discriminator_out}\")\n",
    "    print(f\"\\nClass: {classifier_out}\\nReal class: {y_sample}\")\n",
    "    "
   ],
   "metadata": {
    "collapsed": false,
    "pycharm": {
     "name": "#%%\n",
     "is_executing": false
    }
   }
  },
  {
   "cell_type": "code",
   "execution_count": null,
   "outputs": [],
   "source": [
    "# This is just the classifier.\n",
    "\n",
    "batch_size = 20\n",
    "lr = 0.5\n",
    "epochs = 10\n",
    "\n",
    "for epoch in range(epochs):\n",
    "    print(f'Epoch: {epoch}')\n",
    "    losses = 0\n",
    "    for i in range(0, len(x_train), batch_size):\n",
    "        start_index = i\n",
    "        end_index = i+batch_size\n",
    "        \n",
    "        x_batch = x_train[start_index:end_index]\n",
    "        y_batch = y_train[start_index:end_index]\n",
    "        \n",
    "        features = fe(x_batch)\n",
    "        classes = classifier(features)\n",
    "        \n",
    "        loss = torch.nn.functional.binary_cross_entropy(classes, y_batch)\n",
    "        loss.backward()\n",
    "        \n",
    "        fe.optimize(lr)\n",
    "        classifier.optimize(lr)\n",
    "        \n",
    "        losses += loss.detach().numpy()\n",
    "    print(f' Loss: {losses}')"
   ],
   "metadata": {
    "collapsed": false,
    "pycharm": {
     "name": "#%%\n"
    }
   }
  },
  {
   "cell_type": "code",
   "execution_count": null,
   "outputs": [],
   "source": [
    "with torch.no_grad():\n",
    "    index = 133\n",
    "    x_sample = x_test[index:index+2]\n",
    "    y_sample = y_test[index:index+2]\n",
    "    y_pred = classifier(fe(x_sample))\n",
    "    print(y_pred)\n",
    "    print(y_sample)"
   ],
   "metadata": {
    "collapsed": false,
    "pycharm": {
     "name": "#%%\n"
    }
   }
  },
  {
   "cell_type": "code",
   "execution_count": 15,
   "outputs": [],
   "source": [
    "\n"
   ],
   "metadata": {
    "collapsed": false,
    "pycharm": {
     "name": "#%%\n",
     "is_executing": false
    }
   }
  }
 ],
 "metadata": {
  "kernelspec": {
   "display_name": "Python 3",
   "language": "python",
   "name": "python3"
  },
  "language_info": {
   "codemirror_mode": {
    "name": "ipython",
    "version": 2
   },
   "file_extension": ".py",
   "mimetype": "text/x-python",
   "name": "python",
   "nbconvert_exporter": "python",
   "pygments_lexer": "ipython2",
   "version": "2.7.6"
  },
  "pycharm": {
   "stem_cell": {
    "cell_type": "raw",
    "source": [],
    "metadata": {
     "collapsed": false
    }
   }
  }
 },
 "nbformat": 4,
 "nbformat_minor": 0
}