{
 "cells": [
  {
   "cell_type": "code",
   "execution_count": 1,
   "metadata": {
    "collapsed": true,
    "pycharm": {
     "is_executing": false
    }
   },
   "outputs": [],
   "source": [
    "import numpy as np\n",
    "import matplotlib.pyplot as plt\n",
    "from numpy import load\n",
    "import torch"
   ]
  },
  {
   "cell_type": "code",
   "execution_count": 10,
   "outputs": [],
   "source": [
    "data_path = \"../../data/mnist/\"\n",
    "x = torch.Tensor(load(f'{data_path}/x_test.npy'))\n",
    "y = torch.Tensor(load(f'{data_path}/y_test.npy'))"
   ],
   "metadata": {
    "collapsed": false,
    "pycharm": {
     "name": "#%%\n",
     "is_executing": false
    }
   }
  },
  {
   "cell_type": "code",
   "execution_count": 11,
   "outputs": [
    {
     "name": "stdout",
     "text": [
      "torch.Size([1000, 784])\n",
      "torch.Size([1000])\n"
     ],
     "output_type": "stream"
    }
   ],
   "source": [
    "print(x.shape)\n",
    "print(y.shape)"
   ],
   "metadata": {
    "collapsed": false,
    "pycharm": {
     "name": "#%%\n",
     "is_executing": false
    }
   }
  },
  {
   "cell_type": "code",
   "execution_count": 16,
   "outputs": [],
   "source": [
    "def get_random(shape, min_=-0.5, max_=0.5):\n",
    "    return torch.FloatTensor(*shape).uniform_(min_, max_).requires_grad_()"
   ],
   "metadata": {
    "collapsed": false,
    "pycharm": {
     "name": "#%%\n",
     "is_executing": false
    }
   }
  },
  {
   "cell_type": "markdown",
   "source": [
    "# Model\n",
    "\n",
    "```yaml\n",
    "Generator:\n",
    "  - Input: 100 (90 noise, 10 one-hot)\n",
    "  - h1: 150\n",
    "  - h2: 400\n",
    "  - h3: 784\n",
    "\n",
    "FeatureExtractor:\n",
    "  - Input: 784 (28x28)\n",
    "  - h1: 400\n",
    "  - h2: 150\n",
    "  - h3: 100\n",
    "\n",
    "Discriminator:\n",
    "  - Input: 100\n",
    "  - h1: 50\n",
    "  - h2: 1\n",
    "\n",
    "Classifier:\n",
    "  - Input: 100\n",
    "  - h1: 50\n",
    "  - h2: 10\n",
    "```"
   ],
   "metadata": {
    "collapsed": false,
    "pycharm": {
     "name": "#%% md\n"
    }
   }
  },
  {
   "cell_type": "code",
   "execution_count": 21,
   "outputs": [],
   "source": [
    "gw1, gb1 = get_random((100, 150)), torch.zeros((150, 1))\n",
    "gw2, gb2 = get_random((150, 400)), torch.zeros((400, 1))\n",
    "gw3, gb3 = get_random((400, 784)), torch.zeros((784, 1))\n",
    "\n",
    "few1, feb1 = get_random((784, 400)), torch.zeros((400, 1))\n",
    "few2, feb2 = get_random((400, 150)), torch.zeros((150, 1))\n",
    "few3, feb3 = get_random((150, 100)), torch.zeros((100, 1))\n",
    "\n",
    "dw1, db1 = get_random((100, 50)), torch.zeros((50, 1))\n",
    "dw2, db2 = get_random((50, 1)), torch.zeros((1, 1))\n",
    "\n",
    "cw1, cb1 = get_random((100, 50)), torch.zeros((50, 1))\n",
    "cw2, cb2 = get_random((50, 10)), torch.zeros((10, 1))"
   ],
   "metadata": {
    "collapsed": false,
    "pycharm": {
     "name": "#%%\n",
     "is_executing": false
    }
   }
  },
  {
   "cell_type": "code",
   "execution_count": 22,
   "outputs": [
    {
     "data": {
      "text/plain": "torch.Size([50, 1])"
     },
     "metadata": {},
     "output_type": "execute_result",
     "execution_count": 22
    }
   ],
   "source": [],
   "metadata": {
    "collapsed": false,
    "pycharm": {
     "name": "#%%\n",
     "is_executing": false
    }
   }
  },
  {
   "cell_type": "code",
   "execution_count": null,
   "outputs": [],
   "source": [
    "\n"
   ],
   "metadata": {
    "collapsed": false,
    "pycharm": {
     "name": "#%%\n"
    }
   }
  }
 ],
 "metadata": {
  "kernelspec": {
   "display_name": "Python 3",
   "language": "python",
   "name": "python3"
  },
  "language_info": {
   "codemirror_mode": {
    "name": "ipython",
    "version": 2
   },
   "file_extension": ".py",
   "mimetype": "text/x-python",
   "name": "python",
   "nbconvert_exporter": "python",
   "pygments_lexer": "ipython2",
   "version": "2.7.6"
  },
  "pycharm": {
   "stem_cell": {
    "cell_type": "raw",
    "source": [],
    "metadata": {
     "collapsed": false
    }
   }
  }
 },
 "nbformat": 4,
 "nbformat_minor": 0
}