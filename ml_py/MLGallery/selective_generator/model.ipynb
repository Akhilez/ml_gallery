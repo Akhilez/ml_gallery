{
 "cells": [
  {
   "cell_type": "code",
   "execution_count": 25,
   "metadata": {
    "collapsed": true,
    "pycharm": {
     "is_executing": false
    }
   },
   "outputs": [],
   "source": [
    "from typing import Any\n",
    "import numpy as np\n",
    "import matplotlib.pyplot as plt\n",
    "from numpy import load\n",
    "import torch"
   ]
  },
  {
   "cell_type": "code",
   "execution_count": 26,
   "outputs": [],
   "source": [
    "data_path = \"../../data/mnist/\"\n",
    "x_test = torch.Tensor(load(f'{data_path}/x_test.npy'))\n",
    "x_train = torch.Tensor(load(f'{data_path}/x_train.npy'))\n",
    "y_test = torch.Tensor(load(f'{data_path}/y_test.npy'))\n",
    "y_train = torch.Tensor(load(f'{data_path}/y_train.npy'))"
   ],
   "metadata": {
    "collapsed": false,
    "pycharm": {
     "name": "#%%\n",
     "is_executing": false
    }
   }
  },
  {
   "cell_type": "code",
   "execution_count": 27,
   "outputs": [
    {
     "name": "stdout",
     "text": [
      "torch.Size([4000, 784])\n",
      "torch.Size([4000])\n"
     ],
     "output_type": "stream"
    }
   ],
   "source": [
    "print(x_train.shape)\n",
    "print(y_train.shape)"
   ],
   "metadata": {
    "collapsed": false,
    "pycharm": {
     "name": "#%%\n",
     "is_executing": false
    }
   }
  },
  {
   "cell_type": "code",
   "execution_count": 28,
   "outputs": [],
   "source": [
    "def get_random(shape, min_=-0.5, max_=0.5):\n",
    "    return torch.FloatTensor(*shape).uniform_(min_, max_).requires_grad_()"
   ],
   "metadata": {
    "collapsed": false,
    "pycharm": {
     "name": "#%%\n",
     "is_executing": false
    }
   }
  },
  {
   "cell_type": "markdown",
   "source": [
    "# Model\n",
    "\n",
    "```yaml\n",
    "Generator:\n",
    "  - Input: 100 (90 noise, 10 one-hot)\n",
    "  - h1: 150\n",
    "  - h2: 400\n",
    "  - h3: 784\n",
    "\n",
    "FeatureExtractor:\n",
    "  - Input: 784 (28x28)\n",
    "  - h1: 400\n",
    "  - h2: 150\n",
    "  - h3: 100\n",
    "\n",
    "Discriminator:\n",
    "  - Input: 100\n",
    "  - h1: 50\n",
    "  - h2: 1\n",
    "\n",
    "Classifier:\n",
    "  - Input: 100\n",
    "  - h1: 50\n",
    "  - h2: 10\n",
    "```"
   ],
   "metadata": {
    "collapsed": false,
    "pycharm": {
     "name": "#%% md\n"
    }
   }
  },
  {
   "cell_type": "code",
   "execution_count": 21,
   "outputs": [],
   "source": [
    "class Generator(torch.nn.Module):\n",
    "    def __init__(self):\n",
    "        super().__init__()\n",
    "        self.w1, self.b1 = get_random((100, 150)), torch.zeros((150, 1))\n",
    "        self.w2, self.b2 = get_random((150, 400)), torch.zeros((400, 1))\n",
    "        self.w3, self.gb3 = get_random((400, 784)), torch.zeros((784, 1))\n",
    "    \n",
    "    def forward(self, x, **kwargs):\n",
    "        # TODO: Do the forward.\n",
    "        return x"
   ],
   "metadata": {
    "collapsed": false,
    "pycharm": {
     "name": "#%%\n",
     "is_executing": false
    }
   }
  },
  {
   "cell_type": "code",
   "execution_count": null,
   "outputs": [],
   "source": [
    "class FeatureExtractor(torch.nn.Module):\n",
    "    def __init__(self):\n",
    "        super().__init__()\n",
    "        self.w1, self.b1 = get_random((784, 400)), torch.zeros((400, 1))\n",
    "        self.w2, self.b2 = get_random((400, 150)), torch.zeros((150, 1))\n",
    "        self.w3, self.b3 = get_random((150, 100)), torch.zeros((100, 1))\n",
    "    \n",
    "    def forward(self, x, **kwargs):\n",
    "        # TODO: Do the forward.\n",
    "        return x"
   ],
   "metadata": {
    "collapsed": false,
    "pycharm": {
     "name": "#%%\n"
    }
   }
  },
  {
   "cell_type": "code",
   "execution_count": null,
   "outputs": [],
   "source": [
    "class Discriminator(torch.nn.Module):\n",
    "    def __init__(self):\n",
    "        super().__init__()\n",
    "        self.w1, self.b1 = get_random((100, 50)), torch.zeros((50, 1))\n",
    "        self.w2, self.b2 = get_random((50, 1)), torch.zeros((1, 1))\n",
    "    \n",
    "    def forward(self, x, **kwargs):\n",
    "        # TODO: Do the forward.\n",
    "        return x    "
   ],
   "metadata": {
    "collapsed": false,
    "pycharm": {
     "name": "#%%\n"
    }
   }
  },
  {
   "cell_type": "code",
   "execution_count": null,
   "outputs": [],
   "source": [
    "    \n",
    "class Classifier(torch.nn.Module):\n",
    "    def __init__(self):\n",
    "        super().__init__()\n",
    "        self.w1, self.b1 = get_random((100, 50)), torch.zeros((50, 1))\n",
    "        self.w2, self.b2 = get_random((50, 10)), torch.zeros((10, 1))\n",
    "    \n",
    "    def forward(self, x, **kwargs):\n",
    "        # TODO: Do the forward.\n",
    "        return x\n"
   ],
   "metadata": {
    "collapsed": false,
    "pycharm": {
     "name": "#%%\n"
    }
   }
  },
  {
   "cell_type": "code",
   "execution_count": 22,
   "outputs": [
    {
     "data": {
      "text/plain": "torch.Size([50, 1])"
     },
     "metadata": {},
     "output_type": "execute_result",
     "execution_count": 22
    }
   ],
   "source": [
    "# TODO: Train only classifier to learn how to work with these things."
   ],
   "metadata": {
    "collapsed": false,
    "pycharm": {
     "name": "#%%\n",
     "is_executing": false
    }
   }
  },
  {
   "cell_type": "code",
   "execution_count": null,
   "outputs": [],
   "source": [
    "\n"
   ],
   "metadata": {
    "collapsed": false,
    "pycharm": {
     "name": "#%%\n"
    }
   }
  }
 ],
 "metadata": {
  "kernelspec": {
   "display_name": "Python 3",
   "language": "python",
   "name": "python3"
  },
  "language_info": {
   "codemirror_mode": {
    "name": "ipython",
    "version": 2
   },
   "file_extension": ".py",
   "mimetype": "text/x-python",
   "name": "python",
   "nbconvert_exporter": "python",
   "pygments_lexer": "ipython2",
   "version": "2.7.6"
  },
  "pycharm": {
   "stem_cell": {
    "cell_type": "raw",
    "source": [],
    "metadata": {
     "collapsed": false
    }
   }
  }
 },
 "nbformat": 4,
 "nbformat_minor": 0
}