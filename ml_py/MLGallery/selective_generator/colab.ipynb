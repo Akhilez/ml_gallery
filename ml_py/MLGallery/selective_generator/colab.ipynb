{
  "nbformat": 4,
  "nbformat_minor": 0,
  "metadata": {
    "colab": {
      "name": "Selective_GAN.ipynb",
      "provenance": [],
      "authorship_tag": "ABX9TyN+kkGjoGlE7+BZrKlvR2vN",
      "include_colab_link": true
    },
    "kernelspec": {
      "name": "python3",
      "display_name": "Python 3"
    },
    "widgets": {
      "application/vnd.jupyter.widget-state+json": {
        "86aa4b44e86b484781987c6e9095e4c1": {
          "model_module": "@jupyter-widgets/controls",
          "model_name": "HBoxModel",
          "state": {
            "_view_name": "HBoxView",
            "_dom_classes": [],
            "_model_name": "HBoxModel",
            "_view_module": "@jupyter-widgets/controls",
            "_model_module_version": "1.5.0",
            "_view_count": null,
            "_view_module_version": "1.5.0",
            "box_style": "",
            "layout": "IPY_MODEL_5434e51c5e094e909f7c74e0420353ec",
            "_model_module": "@jupyter-widgets/controls",
            "children": [
              "IPY_MODEL_7e333141f5ed4d13b7b86700ef01e996",
              "IPY_MODEL_4b1db38f39ca46c3a120c1e073fa3bcb"
            ]
          }
        },
        "7d38b6e7ca5847ceb23a3035084c9920": {
          "model_module": "@jupyter-widgets/controls",
          "model_name": "HBoxModel",
          "state": {
            "_view_name": "HBoxView",
            "_dom_classes": [],
            "_model_name": "HBoxModel",
            "_view_module": "@jupyter-widgets/controls",
            "_model_module_version": "1.5.0",
            "_view_count": null,
            "_view_module_version": "1.5.0",
            "box_style": "",
            "layout": "IPY_MODEL_0744eed41e504062b556afa1e53f5fb9",
            "_model_module": "@jupyter-widgets/controls",
            "children": [
              "IPY_MODEL_7bcb087fd72e4854ac139ed421f7136a",
              "IPY_MODEL_60fd684ef8ec49de84ce5c4568667139"
            ]
          }
        },
        "e73958f53a1a4a3aa985e57142efde21": {
          "model_module": "@jupyter-widgets/controls",
          "model_name": "HBoxModel",
          "state": {
            "_view_name": "HBoxView",
            "_dom_classes": [],
            "_model_name": "HBoxModel",
            "_view_module": "@jupyter-widgets/controls",
            "_model_module_version": "1.5.0",
            "_view_count": null,
            "_view_module_version": "1.5.0",
            "box_style": "",
            "layout": "IPY_MODEL_0f0646e789824fb3b0d5edc14c2d74ea",
            "_model_module": "@jupyter-widgets/controls",
            "children": [
              "IPY_MODEL_3d67cd8f90ca48b4b738307241a6f97e",
              "IPY_MODEL_9a9e9f1d406d48f0bd596fbf40d36ae7"
            ]
          }
        },
        "be3bdcd4343f48bc80fb7d9dc0cb05a3": {
          "model_module": "@jupyter-widgets/controls",
          "model_name": "HBoxModel",
          "state": {
            "_view_name": "HBoxView",
            "_dom_classes": [],
            "_model_name": "HBoxModel",
            "_view_module": "@jupyter-widgets/controls",
            "_model_module_version": "1.5.0",
            "_view_count": null,
            "_view_module_version": "1.5.0",
            "box_style": "",
            "layout": "IPY_MODEL_2c32efced87f4b07b27e151cc4a09c5e",
            "_model_module": "@jupyter-widgets/controls",
            "children": [
              "IPY_MODEL_f916ec8532a140279c96b3f01c043efe",
              "IPY_MODEL_95f26994de164eb38790006f262a52a4"
            ]
          }
        }
      }
    },
    "accelerator": "GPU"
  },
  "cells": [
    {
      "cell_type": "markdown",
      "metadata": {
        "id": "view-in-github",
        "colab_type": "text"
      },
      "source": [
        "<a href=\"https://colab.research.google.com/github/Akhilez/ml_gallery/blob/master/ml_py/MLGallery/selective_generator/colab.ipynb\" target=\"_parent\"><img src=\"https://colab.research.google.com/assets/colab-badge.svg\" alt=\"Open In Colab\"/></a>"
      ]
    },
    {
      "cell_type": "markdown",
      "metadata": {
        "id": "9fYjdUPs9G8T",
        "colab_type": "text"
      },
      "source": [
        "# Model\n",
        "\n",
        "```yaml\n",
        "Generator:\n",
        "  - Input: 100 (90 noise, 10 one-hot)\n",
        "  - h1: 150\n",
        "  - h2: 400\n",
        "  - h3: 784\n",
        "\n",
        "FeatureExtractor:\n",
        "  - Input: 784 (28x28)\n",
        "  - h1: 400\n",
        "  - h2: 150\n",
        "  - h3: 100\n",
        "\n",
        "Discriminator:\n",
        "  - Input: 100\n",
        "  - h1: 50\n",
        "  - h2: 1\n",
        "\n",
        "Classifier:\n",
        "  - Input: 100\n",
        "  - h1: 50\n",
        "  - h2: 10\n",
        "```\n",
        "\n",
        "Link to file: https://github.com/Akhilez/ml_gallery/blob/master/ml_py/MLGallery/selective_generator/colab.ipynb"
      ]
    },
    {
      "cell_type": "code",
      "metadata": {
        "id": "b83FOSP76d5l",
        "colab_type": "code",
        "colab": {}
      },
      "source": [
        "import numpy as np\n",
        "import torch\n",
        "import torchvision\n",
        "import matplotlib.pyplot as plt\n",
        "from torch.nn.functional import dropout, leaky_relu, binary_cross_entropy, softmax\n",
        "from torch import sigmoid, tanh\n",
        "from torch.nn import Conv2d, Linear, ConvTranspose2d"
      ],
      "execution_count": 0,
      "outputs": []
    },
    {
      "cell_type": "code",
      "metadata": {
        "id": "eksbSQK7mXqM",
        "colab_type": "code",
        "colab": {
          "base_uri": "https://localhost:8080/",
          "height": 34
        },
        "outputId": "d6b6272b-3f61-4f4d-8ddd-0fa6e7a5b7f4"
      },
      "source": [
        "# Device configuration\n",
        "device = torch.device('cuda' if torch.cuda.is_available() else 'cpu')\n",
        "device"
      ],
      "execution_count": 2,
      "outputs": [
        {
          "output_type": "execute_result",
          "data": {
            "text/plain": [
              "device(type='cuda')"
            ]
          },
          "metadata": {
            "tags": []
          },
          "execution_count": 2
        }
      ]
    },
    {
      "cell_type": "code",
      "metadata": {
        "id": "ZCLZ8YdE62Ls",
        "colab_type": "code",
        "outputId": "c6eb4b40-8cac-4141-faa9-c44e73a3d439",
        "colab": {
          "base_uri": "https://localhost:8080/",
          "height": 204,
          "referenced_widgets": [
            "86aa4b44e86b484781987c6e9095e4c1",
            "7d38b6e7ca5847ceb23a3035084c9920",
            "e73958f53a1a4a3aa985e57142efde21",
            "be3bdcd4343f48bc80fb7d9dc0cb05a3"
          ]
        }
      },
      "source": [
        "data_path = \"./data/mnist/\"\n",
        "\n",
        "train_loader = torch.utils.data.DataLoader(\n",
        "    torchvision.datasets.MNIST(data_path, train=True, download=True,\n",
        "                               transform=torchvision.transforms.ToTensor()), shuffle=True)\n",
        "\n",
        "test_loader = torch.utils.data.DataLoader(\n",
        "    torchvision.datasets.MNIST(data_path, train=False, download=True,\n",
        "                               transform=torchvision.transforms.ToTensor()), shuffle=True)"
      ],
      "execution_count": 3,
      "outputs": [
        {
          "output_type": "stream",
          "text": [
            "Downloading http://yann.lecun.com/exdb/mnist/train-images-idx3-ubyte.gz to ./data/mnist/MNIST/raw/train-images-idx3-ubyte.gz\n"
          ],
          "name": "stdout"
        },
        {
          "output_type": "display_data",
          "data": {
            "application/vnd.jupyter.widget-view+json": {
              "model_id": "86aa4b44e86b484781987c6e9095e4c1",
              "version_minor": 0,
              "version_major": 2
            },
            "text/plain": [
              "HBox(children=(IntProgress(value=1, bar_style='info', max=1), HTML(value='')))"
            ]
          },
          "metadata": {
            "tags": []
          }
        },
        {
          "output_type": "stream",
          "text": [
            "Extracting ./data/mnist/MNIST/raw/train-images-idx3-ubyte.gz to ./data/mnist/MNIST/raw\n",
            "Downloading http://yann.lecun.com/exdb/mnist/train-labels-idx1-ubyte.gz to ./data/mnist/MNIST/raw/train-labels-idx1-ubyte.gz\n"
          ],
          "name": "stdout"
        },
        {
          "output_type": "display_data",
          "data": {
            "application/vnd.jupyter.widget-view+json": {
              "model_id": "7d38b6e7ca5847ceb23a3035084c9920",
              "version_minor": 0,
              "version_major": 2
            },
            "text/plain": [
              "HBox(children=(IntProgress(value=1, bar_style='info', max=1), HTML(value='')))"
            ]
          },
          "metadata": {
            "tags": []
          }
        },
        {
          "output_type": "stream",
          "text": [
            "Extracting ./data/mnist/MNIST/raw/train-labels-idx1-ubyte.gz to ./data/mnist/MNIST/raw\n",
            "Downloading http://yann.lecun.com/exdb/mnist/t10k-images-idx3-ubyte.gz to ./data/mnist/MNIST/raw/t10k-images-idx3-ubyte.gz\n",
            "\n"
          ],
          "name": "stdout"
        },
        {
          "output_type": "display_data",
          "data": {
            "application/vnd.jupyter.widget-view+json": {
              "model_id": "e73958f53a1a4a3aa985e57142efde21",
              "version_minor": 0,
              "version_major": 2
            },
            "text/plain": [
              "HBox(children=(IntProgress(value=1, bar_style='info', max=1), HTML(value='')))"
            ]
          },
          "metadata": {
            "tags": []
          }
        },
        {
          "output_type": "stream",
          "text": [
            "Extracting ./data/mnist/MNIST/raw/t10k-images-idx3-ubyte.gz to ./data/mnist/MNIST/raw\n",
            "Downloading http://yann.lecun.com/exdb/mnist/t10k-labels-idx1-ubyte.gz to ./data/mnist/MNIST/raw/t10k-labels-idx1-ubyte.gz\n"
          ],
          "name": "stdout"
        },
        {
          "output_type": "display_data",
          "data": {
            "application/vnd.jupyter.widget-view+json": {
              "model_id": "be3bdcd4343f48bc80fb7d9dc0cb05a3",
              "version_minor": 0,
              "version_major": 2
            },
            "text/plain": [
              "HBox(children=(IntProgress(value=1, bar_style='info', max=1), HTML(value='')))"
            ]
          },
          "metadata": {
            "tags": []
          }
        },
        {
          "output_type": "stream",
          "text": [
            "Extracting ./data/mnist/MNIST/raw/t10k-labels-idx1-ubyte.gz to ./data/mnist/MNIST/raw\n",
            "Processing...\n",
            "Done!\n"
          ],
          "name": "stdout"
        }
      ]
    },
    {
      "cell_type": "code",
      "metadata": {
        "id": "MXTQzaxc69HA",
        "colab_type": "code",
        "colab": {}
      },
      "source": [
        "def to_one_hot(x):\n",
        "    b = np.zeros((len(x), 10))\n",
        "    b[np.arange(len(x)), x] = 1\n",
        "    return b"
      ],
      "execution_count": 0,
      "outputs": []
    },
    {
      "cell_type": "code",
      "metadata": {
        "id": "dXZQQySl6-YX",
        "colab_type": "code",
        "colab": {}
      },
      "source": [
        "x_test = []\n",
        "y_test = []\n",
        "\n",
        "for data in test_loader:\n",
        "    x_test.append(data[0].reshape(1, 28, 28).numpy())\n",
        "    y_test.append(data[1][0])\n",
        "\n",
        "y_test = torch.Tensor(to_one_hot(y_test))\n",
        "x_test = torch.Tensor(x_test)"
      ],
      "execution_count": 0,
      "outputs": []
    },
    {
      "cell_type": "code",
      "metadata": {
        "id": "pJBBvGHb7CE7",
        "colab_type": "code",
        "colab": {}
      },
      "source": [
        "x_train = []\n",
        "y_train = []\n",
        "\n",
        "for data in train_loader:\n",
        "    x_train.append(data[0].reshape(1, 28, 28).numpy())\n",
        "    y_train.append(data[1][0])\n",
        "\n",
        "y_train = torch.Tensor(to_one_hot(y_train))\n",
        "x_train = torch.Tensor(x_train)"
      ],
      "execution_count": 0,
      "outputs": []
    },
    {
      "cell_type": "code",
      "metadata": {
        "id": "SDJi3hQ37rv9",
        "colab_type": "code",
        "colab": {}
      },
      "source": [
        "x_train = x_train[:5000].to(device)\n",
        "x_test = x_test[:500].to(device)\n",
        "y_train = y_train[:5000]\n",
        "y_test = y_test[:500]"
      ],
      "execution_count": 0,
      "outputs": []
    },
    {
      "cell_type": "code",
      "metadata": {
        "id": "BsnNSYDf7DuV",
        "colab_type": "code",
        "outputId": "df1f694b-fbb4-4246-aec7-bbb2527d1203",
        "colab": {
          "base_uri": "https://localhost:8080/",
          "height": 85
        }
      },
      "source": [
        "print(x_train.shape, x_test.shape, y_train.shape, y_test.shape)\n",
        "\n",
        "print(torch.min(x_test))\n",
        "print(torch.max(x_test))\n",
        "\n",
        "print(y_train[0])"
      ],
      "execution_count": 8,
      "outputs": [
        {
          "output_type": "stream",
          "text": [
            "torch.Size([5000, 1, 28, 28]) torch.Size([500, 1, 28, 28]) torch.Size([5000, 10]) torch.Size([500, 10])\n",
            "tensor(0.)\n",
            "tensor(1.)\n",
            "tensor([0., 0., 0., 0., 0., 1., 0., 0., 0., 0.])\n"
          ],
          "name": "stdout"
        }
      ]
    },
    {
      "cell_type": "code",
      "metadata": {
        "id": "myqyq81i7L6g",
        "colab_type": "code",
        "colab": {}
      },
      "source": [
        "def plot_image(x):\n",
        "    plt.imshow(x, cmap='gray')\n",
        "    plt.show()"
      ],
      "execution_count": 0,
      "outputs": []
    },
    {
      "cell_type": "code",
      "metadata": {
        "id": "XZva4kv37yDZ",
        "colab_type": "code",
        "outputId": "77cc7d66-0179-4917-d2c7-608c4d082b93",
        "colab": {
          "base_uri": "https://localhost:8080/",
          "height": 282
        }
      },
      "source": [
        "index = 13\n",
        "plot_image(x_test[index].numpy().reshape((28, 28)))\n",
        "print(y_test[index])"
      ],
      "execution_count": 10,
      "outputs": [
        {
          "output_type": "display_data",
          "data": {
            "image/png": "[encoded data removed]",
            "text/plain": [
              "<Figure size 432x288 with 1 Axes>"
            ]
          },
          "metadata": {
            "tags": [],
            "needs_background": "light"
          }
        },
        {
          "output_type": "stream",
          "text": [
            "tensor([0., 0., 0., 0., 0., 0., 1., 0., 0., 0.])\n"
          ],
          "name": "stdout"
        }
      ]
    },
    {
      "cell_type": "code",
      "metadata": {
        "id": "y14YSTRg7zR1",
        "colab_type": "code",
        "colab": {}
      },
      "source": [
        "def get_random(shape, min_=-0.5, max_=0.5):\n",
        "    return torch.FloatTensor(*shape).uniform_(min_, max_).requires_grad_()"
      ],
      "execution_count": 0,
      "outputs": []
    },
    {
      "cell_type": "code",
      "metadata": {
        "id": "FF-ZsF-_71r_",
        "colab_type": "code",
        "colab": {}
      },
      "source": [
        "class Generator(torch.nn.Module):\n",
        "    def __init__(self):\n",
        "        super().__init__()\n",
        "\n",
        "        # torch.nn.Conv2d(in_channels, out_channels, kernel_size, stride=1, padding=0, dilation=1, groups=1, bias=True, padding_mode='zeros')\n",
        "        # torch.nn.Linear(in_features, out_features, bias=True)\n",
        "        # torch.nn.functional.leaky_relu(input, negative_slope=0.01, inplace=False) → Tensor\n",
        "        # torch.nn.ConvTranspose2d(in_channels, out_channels, kernel_size, stride=1, padding=0, output_padding=0, groups=1, bias=True, dilation=1, padding_mode='zeros')\n",
        "\n",
        "        self.fc1 = Linear(100, 128 * 7 * 7)\n",
        "        self.conv1 = ConvTranspose2d(128, 128, 4, stride=2, padding=1)  # [2, 128, 14, 14]\n",
        "        self.conv2 = ConvTranspose2d(128, 128, 4, stride=2, padding=1)  # [2, 128, 28, 28]\n",
        "        self.conv3 = ConvTranspose2d(128, 1, 7, padding=3)\n",
        "\n",
        "    \n",
        "    def forward(self, x, **kwargs):\n",
        "        # x.shape = (batch, 100)\n",
        "\n",
        "        h1 = leaky_relu(self.fc1(x))\n",
        "        h1 = h1.reshape(-1, 128, 7, 7)\n",
        "        h2 = leaky_relu(self.conv1(h1))\n",
        "        h3 = leaky_relu(self.conv2(h2))\n",
        "        h4 = tanh(self.conv3(h3))\n",
        "        return h4\n",
        "\n",
        "\n",
        "    def get_parameters(self):\n",
        "        return [{'params': layer.parameters()} for layer in (self.fc1, self.conv1, self.conv2, self.conv3)]\n",
        "\n",
        "    @staticmethod\n",
        "    def getGeneratorInput(y, batch_size):\n",
        "        y = np.array(y)\n",
        "        gen_input = np.random.uniform(0, 1, (batch_size, 100))\n",
        "        for batch in range(batch_size):\n",
        "            for i in range(0, 10, 20):\n",
        "                gen_input[batch][i: i+10] = y[batch]\n",
        "        return torch.Tensor(gen_input)"
      ],
      "execution_count": 0,
      "outputs": []
    },
    {
      "cell_type": "code",
      "metadata": {
        "id": "2V_6Faq9cCZa",
        "colab_type": "code",
        "outputId": "6e73989a-2547-4102-af7d-56d7af7578c1",
        "colab": {
          "base_uri": "https://localhost:8080/",
          "height": 459
        }
      },
      "source": [
        "y_sample = y_test[10:12]\n",
        "print(y_sample)\n",
        "Generator.getGeneratorInput(y_sample, 2)"
      ],
      "execution_count": 56,
      "outputs": [
        {
          "output_type": "stream",
          "text": [
            "tensor([[0., 0., 0., 0., 0., 0., 0., 0., 0., 1.],\n",
            "        [0., 0., 0., 0., 0., 0., 0., 0., 0., 1.]])\n"
          ],
          "name": "stdout"
        },
        {
          "output_type": "execute_result",
          "data": {
            "text/plain": [
              "tensor([[0.0000, 0.0000, 0.0000, 0.0000, 0.0000, 0.0000, 0.0000, 0.0000, 0.0000,\n",
              "         1.0000, 0.4638, 0.3326, 0.2107, 0.3058, 0.5439, 0.5842, 0.2023, 0.9478,\n",
              "         0.3077, 0.0422, 0.1943, 0.2309, 0.4325, 0.5862, 0.1457, 0.0937, 0.1789,\n",
              "         0.9368, 0.8660, 0.5868, 0.2163, 0.3358, 0.1222, 0.1650, 0.0791, 0.8666,\n",
              "         0.5396, 0.6751, 0.7027, 0.2072, 0.2862, 0.6568, 0.8246, 0.1298, 0.9100,\n",
              "         0.2875, 0.2205, 0.2949, 0.1319, 0.9408, 0.9032, 0.7025, 0.3640, 0.5705,\n",
              "         0.8898, 0.9917, 0.4449, 0.8659, 0.3349, 0.4153, 0.3899, 0.6731, 0.2975,\n",
              "         0.3116, 0.5308, 0.5945, 0.8507, 0.7906, 0.1475, 0.4220, 0.4837, 0.8930,\n",
              "         0.2711, 0.7663, 0.2360, 0.5082, 0.5692, 0.6052, 0.0122, 0.2541, 0.5759,\n",
              "         0.9297, 0.4651, 0.2778, 0.2805, 0.3631, 0.0077, 0.5940, 0.8702, 0.4889,\n",
              "         0.0179, 0.8074, 0.4689, 0.5306, 0.2751, 0.5238, 0.8837, 0.1152, 0.3697,\n",
              "         0.2372],\n",
              "        [0.0000, 0.0000, 0.0000, 0.0000, 0.0000, 0.0000, 0.0000, 0.0000, 0.0000,\n",
              "         1.0000, 0.0282, 0.7352, 0.6320, 0.8811, 0.2601, 0.8883, 0.7962, 0.0415,\n",
              "         0.5025, 0.4240, 0.3310, 0.8028, 0.6594, 0.7072, 0.9857, 0.4648, 0.0470,\n",
              "         0.9102, 0.4582, 0.3890, 0.4159, 0.6955, 0.9604, 0.8946, 0.6621, 0.8792,\n",
              "         0.8373, 0.1721, 0.7171, 0.6115, 0.0200, 0.9552, 0.5654, 0.1676, 0.9587,\n",
              "         0.2268, 0.0645, 0.2006, 0.1731, 0.6141, 0.9388, 0.4940, 0.6291, 0.4900,\n",
              "         0.7801, 0.8725, 0.3833, 0.1760, 0.1612, 0.8638, 0.6459, 0.8199, 0.7339,\n",
              "         0.1429, 0.7457, 0.2909, 0.8447, 0.5177, 0.6347, 0.4370, 0.1340, 0.7349,\n",
              "         0.3985, 0.1539, 0.5168, 0.3605, 0.9394, 0.1600, 0.7607, 0.2288, 0.6053,\n",
              "         0.4989, 0.4065, 0.8636, 0.6838, 0.7040, 0.6311, 0.6415, 0.5091, 0.1855,\n",
              "         0.4715, 0.7335, 0.3535, 0.4252, 0.7177, 0.1902, 0.7902, 0.5182, 0.7185,\n",
              "         0.3356]])"
            ]
          },
          "metadata": {
            "tags": []
          },
          "execution_count": 56
        }
      ]
    },
    {
      "cell_type": "code",
      "metadata": {
        "id": "k7UwJDNg79tU",
        "colab_type": "code",
        "colab": {}
      },
      "source": [
        "class FeatureExtractor(torch.nn.Module):\n",
        "    def __init__(self):\n",
        "        super().__init__()\n",
        "        self.w1, self.b1 = get_random((784, 600)), torch.zeros(600, requires_grad=True)\n",
        "        self.w2, self.b2 = get_random((600, 600)), torch.zeros(600, requires_grad=True)\n",
        "        self.w3, self.b3 = get_random((600, 100)), torch.zeros(100, requires_grad=True)\n",
        "    \n",
        "    def forward(self, x, **kwargs):\n",
        "        h1 = sigmoid(x.matmul(self.w1) + self.b1)\n",
        "        h2 = sigmoid(h1.matmul(self.w2) + self.b2)\n",
        "        h3 = sigmoid(h2.matmul(self.w3) + self.b3)\n",
        "        return h3\n",
        "    \n",
        "    def optimize(self, lr):\n",
        "        \n",
        "        self.w1 = (self.w1 - lr * self.w1.grad).detach().requires_grad_()\n",
        "        self.w2 = (self.w2 - lr * self.w2.grad).detach().requires_grad_()\n",
        "        self.w3 = (self.w3 - lr * self.w3.grad).detach().requires_grad_()\n",
        "        \n",
        "        self.b1 = (self.b1 - lr * self.b1.grad).detach().requires_grad_()\n",
        "        self.b2 = (self.b2 - lr * self.b2.grad).detach().requires_grad_()\n",
        "        self.b3 = (self.b3 - lr * self.b3.grad).detach().requires_grad_()"
      ],
      "execution_count": 0,
      "outputs": []
    },
    {
      "cell_type": "code",
      "metadata": {
        "id": "WTpDal2i7_dy",
        "colab_type": "code",
        "colab": {}
      },
      "source": [
        "class Discriminator(torch.nn.Module):\n",
        "    def __init__(self):\n",
        "        super().__init__()\n",
        "        \n",
        "        self.conv1 = Conv2d(1, 64, 3, stride=2, padding=1)\n",
        "        self.conv2 = Conv2d(64, 64, 3, stride=2, padding=1)\n",
        "        self.fc1 = Linear(3136, 2)\n",
        "\n",
        "    \n",
        "    def forward(self, x, **kwargs):\n",
        "\n",
        "        h1 = dropout(leaky_relu(self.conv1(x)))  # TODO: Add dropout\n",
        "        h2 = dropout(leaky_relu(self.conv2(h1)))\n",
        "        h2 = h2.reshape(h2.shape[0], -1)  # Flatten\n",
        "        h3 = softmax(self.fc1(h2))\n",
        "        return h3\n",
        "\n",
        "\n",
        "    def get_parameters(self):\n",
        "        return [{'params': layer.parameters()} for layer in (self.conv1, self.conv2, self.fc1)]\n",
        "\n",
        "    @staticmethod\n",
        "    def generate_labels(sample_size, real=True):\n",
        "        labels = torch.zeros((sample_size, 2))\n",
        "        for sample in labels:\n",
        "            sample[0] = 1 if real else 0\n",
        "            sample[1] = 0 if real else 1\n",
        "        return labels"
      ],
      "execution_count": 0,
      "outputs": []
    },
    {
      "cell_type": "code",
      "metadata": {
        "id": "IR1hTfa-qWiO",
        "colab_type": "code",
        "colab": {
          "base_uri": "https://localhost:8080/",
          "height": 51
        },
        "outputId": "0509b9a2-3e01-4797-e7ec-29f4d8b8e1db"
      },
      "source": [
        "Discriminator.generate_labels(batch_size, real=False)"
      ],
      "execution_count": 55,
      "outputs": [
        {
          "output_type": "execute_result",
          "data": {
            "text/plain": [
              "tensor([[0., 1.],\n",
              "        [0., 1.]])"
            ]
          },
          "metadata": {
            "tags": []
          },
          "execution_count": 55
        }
      ]
    },
    {
      "cell_type": "code",
      "metadata": {
        "id": "svpWhbN08BZV",
        "colab_type": "code",
        "colab": {}
      },
      "source": [
        "class Classifier (torch.nn.Module):\n",
        "    def __init__(self):\n",
        "        super(Classifier, self).__init__()\n",
        "        self.conv1 = Conv2d(1, 28, 3, padding=1)\n",
        "        self.fc1 = Linear(28 * 28 * 28, 128)\n",
        "        self.fc2 = Linear(128, 10)\n",
        "\n",
        "    def forward(self, x):\n",
        "        h1 = torch.relu(self.conv1(x))\n",
        "        h1 = h1.reshape(h1.shape[0], -1)  # flatten\n",
        "        h2 = torch.sigmoid(self.fc1(h1))\n",
        "        h3 = torch.nn.functional.softmax(self.fc2(h2))\n",
        "        return h3\n",
        "\n",
        "    def get_parameters(self):\n",
        "        return [layer.parameters() for layer in (self.conv1, self.fc1, self.fc2)]"
      ],
      "execution_count": 0,
      "outputs": []
    },
    {
      "cell_type": "code",
      "metadata": {
        "id": "-7MnX8wr8C1h",
        "colab_type": "code",
        "colab": {}
      },
      "source": [
        "# fe = FeatureExtractor()\n",
        "classifier = Classifier()\n",
        "discriminator = Discriminator().to(device)\n",
        "generator = Generator().to(device)\n",
        "\n",
        "d_optimizer = torch.optim.Adam(discriminator.parameters(), lr=0.0002)\n",
        "g_optimizer = torch.optim.Adam(generator.parameters(), lr=0.0002)\n",
        "c_optimizer = torch.optim.Adam(classifier.parameters(), lr=0.0002)"
      ],
      "execution_count": 0,
      "outputs": []
    },
    {
      "cell_type": "code",
      "metadata": {
        "id": "r5gCxDcsFhhz",
        "colab_type": "code",
        "colab": {}
      },
      "source": [
        "batch_size = 200\n",
        "\n",
        "real = Discriminator.generate_labels(batch_size).to(device)\n",
        "fake = Discriminator.generate_labels(batch_size, real=False).to(device)"
      ],
      "execution_count": 0,
      "outputs": []
    },
    {
      "cell_type": "markdown",
      "metadata": {
        "id": "vJXsA0mKXjPr",
        "colab_type": "text"
      },
      "source": [
        "# GAN Only"
      ]
    },
    {
      "cell_type": "code",
      "metadata": {
        "id": "RR8VdfIXX06t",
        "colab_type": "code",
        "colab": {}
      },
      "source": [
        "def train_c(x_batch, y_batch):\n",
        "\n",
        "    c_optimizer.zero_grad()\n",
        "    \n",
        "    c_out = classifier(x_batch)\n",
        "    \n",
        "    loss = binary_cross_entropy(c_out, y_batch)\n",
        "\n",
        "    loss.backward()\n",
        "    c_optimizer.step()\n",
        "\n",
        "    return loss"
      ],
      "execution_count": 0,
      "outputs": []
    },
    {
      "cell_type": "code",
      "metadata": {
        "id": "q2iSAwOUXQlV",
        "colab_type": "code",
        "colab": {}
      },
      "source": [
        "def train_d(x_batch, y_batch):\n",
        "\n",
        "    d_optimizer.zero_grad()\n",
        "    \n",
        "    # ------------ Train with real image ----------------\n",
        "    \n",
        "    discriminator_out = discriminator(x_batch)\n",
        "    \n",
        "    loss_discriminator_real = binary_cross_entropy(discriminator_out, real)\n",
        "\n",
        "    # --------------- Train with fake image -------------------\n",
        "\n",
        "    generator_input = Generator.getGeneratorInput(y_batch, batch_size).to(device)\n",
        "    \n",
        "    generated = generator(generator_input)\n",
        "    discriminator_out = discriminator(generated)\n",
        "    \n",
        "    loss_discriminator = binary_cross_entropy(discriminator_out, fake)\n",
        "    \n",
        "    # ---------------- Optimize --------------------\n",
        "\n",
        "    loss = loss_discriminator_real + loss_discriminator\n",
        "\n",
        "    loss.backward()\n",
        "    d_optimizer.step()\n",
        "\n",
        "    return loss_discriminator_real, loss_discriminator"
      ],
      "execution_count": 0,
      "outputs": []
    },
    {
      "cell_type": "code",
      "metadata": {
        "id": "S9r513zXdyGM",
        "colab_type": "code",
        "colab": {}
      },
      "source": [
        "def train_g(x_batch, y_batch):\n",
        "\n",
        "    generator_input = Generator.getGeneratorInput(y_batch, batch_size).to(device)\n",
        "\n",
        "    g_optimizer.zero_grad()\n",
        "    \n",
        "    generated = generator(generator_input)\n",
        "    discriminator_out = discriminator(generated)\n",
        "\n",
        "    loss_generator = binary_cross_entropy(discriminator_out, real)\n",
        "    \n",
        "    loss_generator.backward()\n",
        "    g_optimizer.step()\n",
        "\n",
        "    return loss_generator\n",
        "            \n",
        "    print(f'  G Losses: {losses}')"
      ],
      "execution_count": 0,
      "outputs": []
    },
    {
      "cell_type": "code",
      "metadata": {
        "id": "H4B7bzv-izSe",
        "colab_type": "code",
        "colab": {
          "base_uri": "https://localhost:8080/",
          "height": 1000
        },
        "outputId": "d9e4e1af-b383-4c97-c776-19cfc7983ab7"
      },
      "source": [
        "epochs = 50\n",
        "for epoch in range(epochs):\n",
        "    print(f'Epoch: {epoch}')\n",
        "    losses = torch.Tensor([0, 0, 0]).to(device)\n",
        "\n",
        "    for i in range(0, len(x_train), batch_size):\n",
        "        start_index = i\n",
        "        end_index = i+batch_size\n",
        "        \n",
        "        x_batch = x_train[start_index:end_index]\n",
        "        y_batch = y_train[start_index:end_index]\n",
        "        \n",
        "        loss_d1, loss_d2 = train_d(x_batch, y_batch)\n",
        "        loss_g = train_g(x_batch, y_batch)\n",
        "\n",
        "        losses[0] += loss_d1.detach()\n",
        "        losses[1] += loss_d2.detach()\n",
        "        losses[2] += loss_g.detach()\n",
        "\n",
        "    print(f'    Losses: {losses}')"
      ],
      "execution_count": 61,
      "outputs": [
        {
          "output_type": "stream",
          "text": [
            "Epoch: 0\n"
          ],
          "name": "stdout"
        },
        {
          "output_type": "stream",
          "text": [
            "/usr/local/lib/python3.6/dist-packages/ipykernel_launcher.py:15: UserWarning: Implicit dimension choice for softmax has been deprecated. Change the call to include dim=X as an argument.\n",
            "  from ipykernel import kernelapp as app\n"
          ],
          "name": "stderr"
        },
        {
          "output_type": "stream",
          "text": [
            "    Losses: tensor([12.6515, 13.5742, 31.0827], device='cuda:0')\n",
            "Epoch: 1\n",
            "    Losses: tensor([ 7.0349,  9.0219, 35.5952], device='cuda:0')\n",
            "Epoch: 2\n",
            "    Losses: tensor([ 7.6756,  6.4893, 48.5181], device='cuda:0')\n",
            "Epoch: 3\n",
            "    Losses: tensor([ 9.2097,  5.8554, 55.5998], device='cuda:0')\n",
            "Epoch: 4\n",
            "    Losses: tensor([ 7.6170,  4.1779, 69.0779], device='cuda:0')\n",
            "Epoch: 5\n",
            "    Losses: tensor([  2.8853,   1.5427, 100.0053], device='cuda:0')\n",
            "Epoch: 6\n",
            "    Losses: tensor([  1.2297,   0.7285, 120.7048], device='cuda:0')\n",
            "Epoch: 7\n",
            "    Losses: tensor([  1.1289,   0.7331, 123.4962], device='cuda:0')\n",
            "Epoch: 8\n",
            "    Losses: tensor([  1.5739,   1.1454, 117.1857], device='cuda:0')\n",
            "Epoch: 9\n",
            "    Losses: tensor([ 5.5393,  4.0613, 87.6352], device='cuda:0')\n",
            "Epoch: 10\n",
            "    Losses: tensor([14.9315, 13.4848, 39.0429], device='cuda:0')\n",
            "Epoch: 11\n",
            "    Losses: tensor([ 8.4789,  9.4502, 38.6701], device='cuda:0')\n",
            "Epoch: 12\n",
            "    Losses: tensor([11.4997, 10.8973, 37.4610], device='cuda:0')\n",
            "Epoch: 13\n",
            "    Losses: tensor([13.0443,  8.9460, 47.2535], device='cuda:0')\n",
            "Epoch: 14\n",
            "    Losses: tensor([ 4.8135,  2.9231, 85.2855], device='cuda:0')\n",
            "Epoch: 15\n",
            "    Losses: tensor([  1.4615,   1.0441, 113.2584], device='cuda:0')\n",
            "Epoch: 16\n",
            "    Losses: tensor([  1.4628,   1.1076, 111.0918], device='cuda:0')\n",
            "Epoch: 17\n",
            "    Losses: tensor([ 3.0801,  2.4210, 93.2544], device='cuda:0')\n",
            "Epoch: 18\n",
            "    Losses: tensor([ 6.0319,  5.0530, 69.7262], device='cuda:0')\n",
            "Epoch: 19\n",
            "    Losses: tensor([10.1290,  9.6434, 38.8498], device='cuda:0')\n",
            "Epoch: 20\n",
            "    Losses: tensor([ 1.7785,  1.9356, 70.3378], device='cuda:0')\n",
            "Epoch: 21\n",
            "    Losses: tensor([ 4.1943,  7.0372, 65.9392], device='cuda:0')\n",
            "Epoch: 22\n",
            "    Losses: tensor([22.1380,  9.3208, 69.4805], device='cuda:0')\n",
            "Epoch: 23\n",
            "    Losses: tensor([ 6.4427,  3.5343, 90.4294], device='cuda:0')\n",
            "Epoch: 24\n",
            "    Losses: tensor([10.9529,  9.0724, 54.2647], device='cuda:0')\n",
            "Epoch: 25\n",
            "    Losses: tensor([ 9.8948,  9.6091, 41.6513], device='cuda:0')\n",
            "Epoch: 26\n",
            "    Losses: tensor([ 6.0970,  6.3597, 52.2355], device='cuda:0')\n",
            "Epoch: 27\n",
            "    Losses: tensor([ 8.3233,  7.5146, 53.8412], device='cuda:0')\n",
            "Epoch: 28\n",
            "    Losses: tensor([11.9459,  8.4671, 59.6086], device='cuda:0')\n",
            "Epoch: 29\n",
            "    Losses: tensor([ 9.0808,  5.3157, 77.2846], device='cuda:0')\n",
            "Epoch: 30\n",
            "    Losses: tensor([ 3.6856,  2.3475, 97.2472], device='cuda:0')\n",
            "Epoch: 31\n",
            "    Losses: tensor([ 3.3428,  2.1546, 95.1991], device='cuda:0')\n",
            "Epoch: 32\n",
            "    Losses: tensor([ 2.8750,  2.0482, 92.5503], device='cuda:0')\n",
            "Epoch: 33\n",
            "    Losses: tensor([ 5.4904,  4.2307, 70.8599], device='cuda:0')\n",
            "Epoch: 34\n",
            "    Losses: tensor([ 6.3382,  5.1487, 57.5260], device='cuda:0')\n",
            "Epoch: 35\n",
            "    Losses: tensor([ 5.7627,  5.9211, 49.1845], device='cuda:0')\n",
            "Epoch: 36\n",
            "    Losses: tensor([ 4.5511,  4.4141, 59.7386], device='cuda:0')\n",
            "Epoch: 37\n",
            "    Losses: tensor([ 3.6061,  3.6594, 66.2185], device='cuda:0')\n",
            "Epoch: 38\n",
            "    Losses: tensor([11.6194,  8.9351, 54.8779], device='cuda:0')\n",
            "Epoch: 39\n",
            "    Losses: tensor([11.1190,  7.0330, 60.4749], device='cuda:0')\n",
            "Epoch: 40\n",
            "    Losses: tensor([ 4.5278,  2.9845, 77.4010], device='cuda:0')\n",
            "Epoch: 41\n",
            "    Losses: tensor([ 3.9944,  3.1149, 75.6675], device='cuda:0')\n",
            "Epoch: 42\n",
            "    Losses: tensor([ 7.2571,  6.1092, 55.4813], device='cuda:0')\n",
            "Epoch: 43\n",
            "    Losses: tensor([ 5.8933,  6.6218, 48.7905], device='cuda:0')\n",
            "Epoch: 44\n",
            "    Losses: tensor([ 5.7935,  5.2501, 52.7125], device='cuda:0')\n",
            "Epoch: 45\n",
            "    Losses: tensor([ 3.9234,  3.3466, 63.7162], device='cuda:0')\n",
            "Epoch: 46\n",
            "    Losses: tensor([ 6.2374,  4.5679, 60.5101], device='cuda:0')\n",
            "Epoch: 47\n",
            "    Losses: tensor([ 7.1529,  4.5687, 64.0383], device='cuda:0')\n",
            "Epoch: 48\n",
            "    Losses: tensor([ 4.1317,  3.3041, 74.2813], device='cuda:0')\n",
            "Epoch: 49\n",
            "    Losses: tensor([ 9.1080,  5.6887, 79.1174], device='cuda:0')\n"
          ],
          "name": "stdout"
        }
      ]
    },
    {
      "cell_type": "code",
      "metadata": {
        "id": "wdos9mWoaCcU",
        "colab_type": "code",
        "outputId": "0a394e40-bc59-43dd-ed01-e778a63ea913",
        "colab": {
          "base_uri": "https://localhost:8080/",
          "height": 1000
        }
      },
      "source": [
        "with torch.no_grad():\n",
        "    \n",
        "    index = 33\n",
        "    sample_size = 2\n",
        "    \n",
        "    x_sample = x_test[index:index+sample_size].to(device)\n",
        "    y_sample = y_test[index:index+sample_size]\n",
        "\n",
        "    generator_input = Generator.getGeneratorInput(y_sample, sample_size).to(device)\n",
        "\n",
        "    generated = generator(generator_input)\n",
        "    discriminator_out = discriminator(generated)\n",
        "    \n",
        "    real_discriminator_out = discriminator(x_sample)\n",
        "    \n",
        "    for i in range(sample_size):\n",
        "        plot_image(generated[i].reshape((28, 28)).cpu())\n",
        "        plt.show()\n",
        "        plot_image(x_sample[i].reshape((28, 28)).cpu())\n",
        "        plt.show()\n",
        "        \n",
        "    \n",
        "    print(f\"Discriminator_out fake: {discriminator_out}\\nReal Img Discriminator Out: {real_discriminator_out}\")"
      ],
      "execution_count": 62,
      "outputs": [
        {
          "output_type": "stream",
          "text": [
            "/usr/local/lib/python3.6/dist-packages/ipykernel_launcher.py:15: UserWarning: Implicit dimension choice for softmax has been deprecated. Change the call to include dim=X as an argument.\n",
            "  from ipykernel import kernelapp as app\n"
          ],
          "name": "stderr"
        },
        {
          "output_type": "display_data",
          "data": {
            "image/png": "[encoded data removed]",
            "text/plain": [
              "<Figure size 432x288 with 1 Axes>"
            ]
          },
          "metadata": {
            "tags": [],
            "needs_background": "light"
          }
        },
        {
          "output_type": "display_data",
          "data": {
            "image/png": "[encoded data removed]",
            "text/plain": [
              "<Figure size 432x288 with 1 Axes>"
            ]
          },
          "metadata": {
            "tags": [],
            "needs_background": "light"
          }
        },
        {
          "output_type": "display_data",
          "data": {
            "image/png": "[encoded data removed]",
            "text/plain": [
              "<Figure size 432x288 with 1 Axes>"
            ]
          },
          "metadata": {
            "tags": [],
            "needs_background": "light"
          }
        },
        {
          "output_type": "display_data",
          "data": {
            "image/png": "[encoded data removed]",
            "text/plain": [
              "<Figure size 432x288 with 1 Axes>"
            ]
          },
          "metadata": {
            "tags": [],
            "needs_background": "light"
          }
        },
        {
          "output_type": "stream",
          "text": [
            "Discriminator_out fake: tensor([[0.0090, 0.9910],\n",
            "        [0.0013, 0.9987]], device='cuda:0')\n",
            "Real Img Discriminator Out: tensor([[9.9672e-01, 3.2814e-03],\n",
            "        [9.9931e-01, 6.9179e-04]], device='cuda:0')\n"
          ],
          "name": "stdout"
        }
      ]
    },
    {
      "cell_type": "markdown",
      "metadata": {
        "id": "rrS5g9M2XTv7",
        "colab_type": "text"
      },
      "source": [
        "# Selective GAN"
      ]
    },
    {
      "cell_type": "code",
      "metadata": {
        "id": "NVU0vV5_8ETE",
        "colab_type": "code",
        "outputId": "fb90d5bc-b38d-4137-a791-5d920e0d9478",
        "colab": {
          "base_uri": "https://localhost:8080/",
          "height": 248
        }
      },
      "source": [
        "batch_size = 200\n",
        "epochs = 50\n",
        "\n",
        "for epoch in range(epochs):\n",
        "    print(f'Epoch: {epoch}')\n",
        "    losses = [0, 0, 0, 0]\n",
        "    for i in range(0, len(x_train), batch_size):\n",
        "        start_index = i\n",
        "        end_index = i+batch_size\n",
        "        \n",
        "        x_batch = x_train[start_index:end_index]\n",
        "        y_batch = y_train[start_index:end_index]\n",
        "    \n",
        "        \n",
        "        # ------------ Train with real image ----------------\n",
        "        real = Discriminator.generate_labels(batch_size)\n",
        "        fake = Discriminator.generate_labels(batch_size, real=False)\n",
        "        \n",
        "        features = fe(x_batch)\n",
        "        discriminator_out = discriminator(features)\n",
        "        classifier_out = classifier(features)\n",
        "        \n",
        "        loss_discriminator = binary_cross_entropy(discriminator_out, real)\n",
        "        loss_classifier = binary_cross_entropy(classifier_out, y_batch)\n",
        "        \n",
        "        loss = loss_discriminator + loss_classifier\n",
        "        loss.backward()\n",
        "        discriminator.optimize(0.1)\n",
        "        classifier.optimize(0.1)\n",
        "        fe.optimize(0.1)\n",
        "        \n",
        "        losses[0] += float(loss)\n",
        "        \n",
        "        # --------------- Train with fake image -------------------\n",
        "\n",
        "        generator_input = Generator.getGeneratorInput(y_batch, batch_size)\n",
        "        \n",
        "        generated = generator(generator_input)\n",
        "        features = fe(generated)\n",
        "        discriminator_out = discriminator(features)\n",
        "        classifier_out = classifier(features)\n",
        "        \n",
        "        loss_discriminator = binary_cross_entropy(discriminator_out, fake)\n",
        "        loss_generator = binary_cross_entropy(discriminator_out, real)\n",
        "        loss_classifier = binary_cross_entropy(classifier_out, y_batch)\n",
        "        loss = loss_discriminator + loss_classifier\n",
        "        \n",
        "        loss.backward(retain_graph=True)\n",
        "        \n",
        "        discriminator.optimize(0.1)\n",
        "        fe.optimize(0.1)\n",
        "        \n",
        "        generator.zero_grad()\n",
        "        loss_generator.backward()\n",
        "        generator.optimize(0.1)\n",
        "        \n",
        "        losses[1] += float(loss_discriminator)\n",
        "        losses[2] += float(loss_classifier)\n",
        "        losses[3] += float(loss_generator)\n",
        "        \n",
        "    print(f'  Losses: {losses}')"
      ],
      "execution_count": 20,
      "outputs": [
        {
          "output_type": "stream",
          "text": [
            "Epoch: 0\n"
          ],
          "name": "stdout"
        },
        {
          "output_type": "error",
          "ename": "NameError",
          "evalue": "ignored",
          "traceback": [
            "\u001b[0;31m---------------------------------------------------------------------------\u001b[0m",
            "\u001b[0;31mNameError\u001b[0m                                 Traceback (most recent call last)",
            "\u001b[0;32m<ipython-input-20-e16d4c26a37a>\u001b[0m in \u001b[0;36m<module>\u001b[0;34m()\u001b[0m\n\u001b[1;32m     17\u001b[0m         \u001b[0mfake\u001b[0m \u001b[0;34m=\u001b[0m \u001b[0mDiscriminator\u001b[0m\u001b[0;34m.\u001b[0m\u001b[0mgenerate_labels\u001b[0m\u001b[0;34m(\u001b[0m\u001b[0mbatch_size\u001b[0m\u001b[0;34m,\u001b[0m \u001b[0mreal\u001b[0m\u001b[0;34m=\u001b[0m\u001b[0;32mFalse\u001b[0m\u001b[0;34m)\u001b[0m\u001b[0;34m\u001b[0m\u001b[0;34m\u001b[0m\u001b[0m\n\u001b[1;32m     18\u001b[0m \u001b[0;34m\u001b[0m\u001b[0m\n\u001b[0;32m---> 19\u001b[0;31m         \u001b[0mfeatures\u001b[0m \u001b[0;34m=\u001b[0m \u001b[0mfe\u001b[0m\u001b[0;34m(\u001b[0m\u001b[0mx_batch\u001b[0m\u001b[0;34m)\u001b[0m\u001b[0;34m\u001b[0m\u001b[0;34m\u001b[0m\u001b[0m\n\u001b[0m\u001b[1;32m     20\u001b[0m         \u001b[0mdiscriminator_out\u001b[0m \u001b[0;34m=\u001b[0m \u001b[0mdiscriminator\u001b[0m\u001b[0;34m(\u001b[0m\u001b[0mfeatures\u001b[0m\u001b[0;34m)\u001b[0m\u001b[0;34m\u001b[0m\u001b[0;34m\u001b[0m\u001b[0m\n\u001b[1;32m     21\u001b[0m         \u001b[0mclassifier_out\u001b[0m \u001b[0;34m=\u001b[0m \u001b[0mclassifier\u001b[0m\u001b[0;34m(\u001b[0m\u001b[0mfeatures\u001b[0m\u001b[0;34m)\u001b[0m\u001b[0;34m\u001b[0m\u001b[0;34m\u001b[0m\u001b[0m\n",
            "\u001b[0;31mNameError\u001b[0m: name 'fe' is not defined"
          ]
        }
      ]
    },
    {
      "cell_type": "code",
      "metadata": {
        "id": "NmnS51pL8Gxg",
        "colab_type": "code",
        "colab": {}
      },
      "source": [
        "with torch.no_grad():\n",
        "    \n",
        "    index = 133\n",
        "    batch_size = 2\n",
        "    \n",
        "    x_sample = x_test[index:index+batch_size]\n",
        "    y_sample = y_test[index:index+batch_size]\n",
        "    \n",
        "    generator_input = Generator.getGeneratorInput(y_sample, batch_size)\n",
        "        \n",
        "    generated = generator(generator_input)\n",
        "    features = fe(generated)\n",
        "    discriminator_out = discriminator(features)\n",
        "    \n",
        "    features = fe(x_sample)\n",
        "    real_discriminator_out = discriminator(features)\n",
        "    classifier_out = classifier(features)\n",
        "\n",
        "    \n",
        "    for i in range(batch_size):\n",
        "        plot_image(generated[i].reshape((28, 28)))\n",
        "        plt.show()\n",
        "        plot_image(x_sample[i].reshape((28, 28)))\n",
        "        plt.show()\n",
        "        \n",
        "    \n",
        "    print(f\"Discriminator_out fake: {discriminator_out}\\nReal Img Discriminator Out: {real_discriminator_out}\")\n",
        "    print(f\"\\nClass: {classifier_out}\\nReal class: {y_sample}\")"
      ],
      "execution_count": 0,
      "outputs": []
    },
    {
      "cell_type": "code",
      "metadata": {
        "id": "TYtIu8Fp9es6",
        "colab_type": "code",
        "colab": {}
      },
      "source": [
        "with torch.no_grad():\n",
        "    index = 133\n",
        "    x_sample = x_test[index:index+2]\n",
        "    y_sample = y_test[index:index+2]\n",
        "    y_pred = classifier(fe(x_sample))\n",
        "    print(y_pred)\n",
        "    print(y_sample)"
      ],
      "execution_count": 0,
      "outputs": []
    },
    {
      "cell_type": "code",
      "metadata": {
        "id": "OQqsDNdsbKtg",
        "colab_type": "code",
        "colab": {}
      },
      "source": [
        ""
      ],
      "execution_count": 0,
      "outputs": []
    }
  ]
}