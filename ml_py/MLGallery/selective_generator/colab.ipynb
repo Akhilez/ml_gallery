{
  "nbformat": 4,
  "nbformat_minor": 0,
  "metadata": {
    "colab": {
      "name": "Selective_GAN.ipynb",
      "provenance": [],
      "authorship_tag": "ABX9TyP1eTArZhbYY4Ynub4lSaQ3",
      "include_colab_link": true
    },
    "kernelspec": {
      "name": "python3",
      "display_name": "Python 3"
    },
    "widgets": {
      "application/vnd.jupyter.widget-state+json": {
        "5bbeccf3c8b14d0cacd5cb82b2b9753d": {
          "model_module": "@jupyter-widgets/controls",
          "model_name": "HBoxModel",
          "state": {
            "_view_name": "HBoxView",
            "_dom_classes": [],
            "_model_name": "HBoxModel",
            "_view_module": "@jupyter-widgets/controls",
            "_model_module_version": "1.5.0",
            "_view_count": null,
            "_view_module_version": "1.5.0",
            "box_style": "",
            "layout": "IPY_MODEL_6398d4d0d8b344c0a7937a4837debea8",
            "_model_module": "@jupyter-widgets/controls",
            "children": [
              "IPY_MODEL_b79784b9e1b84ea3a724677698c337d2",
              "IPY_MODEL_49d4493901be460c91a91bb22d5ebb72"
            ]
          }
        },
        "6398d4d0d8b344c0a7937a4837debea8": {
          "model_module": "@jupyter-widgets/base",
          "model_name": "LayoutModel",
          "state": {
            "_view_name": "LayoutView",
            "grid_template_rows": null,
            "right": null,
            "justify_content": null,
            "_view_module": "@jupyter-widgets/base",
            "overflow": null,
            "_model_module_version": "1.2.0",
            "_view_count": null,
            "flex_flow": null,
            "width": null,
            "min_width": null,
            "border": null,
            "align_items": null,
            "bottom": null,
            "_model_module": "@jupyter-widgets/base",
            "top": null,
            "grid_column": null,
            "overflow_y": null,
            "overflow_x": null,
            "grid_auto_flow": null,
            "grid_area": null,
            "grid_template_columns": null,
            "flex": null,
            "_model_name": "LayoutModel",
            "justify_items": null,
            "grid_row": null,
            "max_height": null,
            "align_content": null,
            "visibility": null,
            "align_self": null,
            "height": null,
            "min_height": null,
            "padding": null,
            "grid_auto_rows": null,
            "grid_gap": null,
            "max_width": null,
            "order": null,
            "_view_module_version": "1.2.0",
            "grid_template_areas": null,
            "object_position": null,
            "object_fit": null,
            "grid_auto_columns": null,
            "margin": null,
            "display": null,
            "left": null
          }
        },
        "b79784b9e1b84ea3a724677698c337d2": {
          "model_module": "@jupyter-widgets/controls",
          "model_name": "IntProgressModel",
          "state": {
            "_view_name": "ProgressView",
            "style": "IPY_MODEL_e5412d0031ab4dd2a56add210a86ed3e",
            "_dom_classes": [],
            "description": "",
            "_model_name": "IntProgressModel",
            "bar_style": "success",
            "max": 1,
            "_view_module": "@jupyter-widgets/controls",
            "_model_module_version": "1.5.0",
            "value": 1,
            "_view_count": null,
            "_view_module_version": "1.5.0",
            "orientation": "horizontal",
            "min": 0,
            "description_tooltip": null,
            "_model_module": "@jupyter-widgets/controls",
            "layout": "IPY_MODEL_e35fdce44f994401ada4c88fca3c7cfd"
          }
        },
        "49d4493901be460c91a91bb22d5ebb72": {
          "model_module": "@jupyter-widgets/controls",
          "model_name": "HTMLModel",
          "state": {
            "_view_name": "HTMLView",
            "style": "IPY_MODEL_b0b4c908d4d1451386a65a11c606940d",
            "_dom_classes": [],
            "description": "",
            "_model_name": "HTMLModel",
            "placeholder": "​",
            "_view_module": "@jupyter-widgets/controls",
            "_model_module_version": "1.5.0",
            "value": " 9920512/? [00:08&lt;00:00, 1168956.12it/s]",
            "_view_count": null,
            "_view_module_version": "1.5.0",
            "description_tooltip": null,
            "_model_module": "@jupyter-widgets/controls",
            "layout": "IPY_MODEL_a65e0c0d868c499b872201ea6cd0c5f1"
          }
        },
        "e5412d0031ab4dd2a56add210a86ed3e": {
          "model_module": "@jupyter-widgets/controls",
          "model_name": "ProgressStyleModel",
          "state": {
            "_view_name": "StyleView",
            "_model_name": "ProgressStyleModel",
            "description_width": "initial",
            "_view_module": "@jupyter-widgets/base",
            "_model_module_version": "1.5.0",
            "_view_count": null,
            "_view_module_version": "1.2.0",
            "bar_color": null,
            "_model_module": "@jupyter-widgets/controls"
          }
        },
        "e35fdce44f994401ada4c88fca3c7cfd": {
          "model_module": "@jupyter-widgets/base",
          "model_name": "LayoutModel",
          "state": {
            "_view_name": "LayoutView",
            "grid_template_rows": null,
            "right": null,
            "justify_content": null,
            "_view_module": "@jupyter-widgets/base",
            "overflow": null,
            "_model_module_version": "1.2.0",
            "_view_count": null,
            "flex_flow": null,
            "width": null,
            "min_width": null,
            "border": null,
            "align_items": null,
            "bottom": null,
            "_model_module": "@jupyter-widgets/base",
            "top": null,
            "grid_column": null,
            "overflow_y": null,
            "overflow_x": null,
            "grid_auto_flow": null,
            "grid_area": null,
            "grid_template_columns": null,
            "flex": null,
            "_model_name": "LayoutModel",
            "justify_items": null,
            "grid_row": null,
            "max_height": null,
            "align_content": null,
            "visibility": null,
            "align_self": null,
            "height": null,
            "min_height": null,
            "padding": null,
            "grid_auto_rows": null,
            "grid_gap": null,
            "max_width": null,
            "order": null,
            "_view_module_version": "1.2.0",
            "grid_template_areas": null,
            "object_position": null,
            "object_fit": null,
            "grid_auto_columns": null,
            "margin": null,
            "display": null,
            "left": null
          }
        },
        "b0b4c908d4d1451386a65a11c606940d": {
          "model_module": "@jupyter-widgets/controls",
          "model_name": "DescriptionStyleModel",
          "state": {
            "_view_name": "StyleView",
            "_model_name": "DescriptionStyleModel",
            "description_width": "",
            "_view_module": "@jupyter-widgets/base",
            "_model_module_version": "1.5.0",
            "_view_count": null,
            "_view_module_version": "1.2.0",
            "_model_module": "@jupyter-widgets/controls"
          }
        },
        "a65e0c0d868c499b872201ea6cd0c5f1": {
          "model_module": "@jupyter-widgets/base",
          "model_name": "LayoutModel",
          "state": {
            "_view_name": "LayoutView",
            "grid_template_rows": null,
            "right": null,
            "justify_content": null,
            "_view_module": "@jupyter-widgets/base",
            "overflow": null,
            "_model_module_version": "1.2.0",
            "_view_count": null,
            "flex_flow": null,
            "width": null,
            "min_width": null,
            "border": null,
            "align_items": null,
            "bottom": null,
            "_model_module": "@jupyter-widgets/base",
            "top": null,
            "grid_column": null,
            "overflow_y": null,
            "overflow_x": null,
            "grid_auto_flow": null,
            "grid_area": null,
            "grid_template_columns": null,
            "flex": null,
            "_model_name": "LayoutModel",
            "justify_items": null,
            "grid_row": null,
            "max_height": null,
            "align_content": null,
            "visibility": null,
            "align_self": null,
            "height": null,
            "min_height": null,
            "padding": null,
            "grid_auto_rows": null,
            "grid_gap": null,
            "max_width": null,
            "order": null,
            "_view_module_version": "1.2.0",
            "grid_template_areas": null,
            "object_position": null,
            "object_fit": null,
            "grid_auto_columns": null,
            "margin": null,
            "display": null,
            "left": null
          }
        },
        "a18085cad1ff4886abea37fedc93bb67": {
          "model_module": "@jupyter-widgets/controls",
          "model_name": "HBoxModel",
          "state": {
            "_view_name": "HBoxView",
            "_dom_classes": [],
            "_model_name": "HBoxModel",
            "_view_module": "@jupyter-widgets/controls",
            "_model_module_version": "1.5.0",
            "_view_count": null,
            "_view_module_version": "1.5.0",
            "box_style": "",
            "layout": "IPY_MODEL_62a886811644481db6b2a5f5e9da1cca",
            "_model_module": "@jupyter-widgets/controls",
            "children": [
              "IPY_MODEL_3b8b39043ee74b05ab88cd6616418e01",
              "IPY_MODEL_11217b5b74f84cc6ad40d00460a3e7c7"
            ]
          }
        },
        "62a886811644481db6b2a5f5e9da1cca": {
          "model_module": "@jupyter-widgets/base",
          "model_name": "LayoutModel",
          "state": {
            "_view_name": "LayoutView",
            "grid_template_rows": null,
            "right": null,
            "justify_content": null,
            "_view_module": "@jupyter-widgets/base",
            "overflow": null,
            "_model_module_version": "1.2.0",
            "_view_count": null,
            "flex_flow": null,
            "width": null,
            "min_width": null,
            "border": null,
            "align_items": null,
            "bottom": null,
            "_model_module": "@jupyter-widgets/base",
            "top": null,
            "grid_column": null,
            "overflow_y": null,
            "overflow_x": null,
            "grid_auto_flow": null,
            "grid_area": null,
            "grid_template_columns": null,
            "flex": null,
            "_model_name": "LayoutModel",
            "justify_items": null,
            "grid_row": null,
            "max_height": null,
            "align_content": null,
            "visibility": null,
            "align_self": null,
            "height": null,
            "min_height": null,
            "padding": null,
            "grid_auto_rows": null,
            "grid_gap": null,
            "max_width": null,
            "order": null,
            "_view_module_version": "1.2.0",
            "grid_template_areas": null,
            "object_position": null,
            "object_fit": null,
            "grid_auto_columns": null,
            "margin": null,
            "display": null,
            "left": null
          }
        },
        "3b8b39043ee74b05ab88cd6616418e01": {
          "model_module": "@jupyter-widgets/controls",
          "model_name": "IntProgressModel",
          "state": {
            "_view_name": "ProgressView",
            "style": "IPY_MODEL_53af46e1a48b450a9b4d8db0295d6b80",
            "_dom_classes": [],
            "description": "",
            "_model_name": "IntProgressModel",
            "bar_style": "success",
            "max": 1,
            "_view_module": "@jupyter-widgets/controls",
            "_model_module_version": "1.5.0",
            "value": 1,
            "_view_count": null,
            "_view_module_version": "1.5.0",
            "orientation": "horizontal",
            "min": 0,
            "description_tooltip": null,
            "_model_module": "@jupyter-widgets/controls",
            "layout": "IPY_MODEL_c5b4798ae74248348568eecd07557618"
          }
        },
        "11217b5b74f84cc6ad40d00460a3e7c7": {
          "model_module": "@jupyter-widgets/controls",
          "model_name": "HTMLModel",
          "state": {
            "_view_name": "HTMLView",
            "style": "IPY_MODEL_3b5f38c9735a425ba1a9734402fc1fb1",
            "_dom_classes": [],
            "description": "",
            "_model_name": "HTMLModel",
            "placeholder": "​",
            "_view_module": "@jupyter-widgets/controls",
            "_model_module_version": "1.5.0",
            "value": " 32768/? [00:01&lt;00:00, 22498.45it/s]",
            "_view_count": null,
            "_view_module_version": "1.5.0",
            "description_tooltip": null,
            "_model_module": "@jupyter-widgets/controls",
            "layout": "IPY_MODEL_5337d100558e4a3f83559e69f1cb17e2"
          }
        },
        "53af46e1a48b450a9b4d8db0295d6b80": {
          "model_module": "@jupyter-widgets/controls",
          "model_name": "ProgressStyleModel",
          "state": {
            "_view_name": "StyleView",
            "_model_name": "ProgressStyleModel",
            "description_width": "initial",
            "_view_module": "@jupyter-widgets/base",
            "_model_module_version": "1.5.0",
            "_view_count": null,
            "_view_module_version": "1.2.0",
            "bar_color": null,
            "_model_module": "@jupyter-widgets/controls"
          }
        },
        "c5b4798ae74248348568eecd07557618": {
          "model_module": "@jupyter-widgets/base",
          "model_name": "LayoutModel",
          "state": {
            "_view_name": "LayoutView",
            "grid_template_rows": null,
            "right": null,
            "justify_content": null,
            "_view_module": "@jupyter-widgets/base",
            "overflow": null,
            "_model_module_version": "1.2.0",
            "_view_count": null,
            "flex_flow": null,
            "width": null,
            "min_width": null,
            "border": null,
            "align_items": null,
            "bottom": null,
            "_model_module": "@jupyter-widgets/base",
            "top": null,
            "grid_column": null,
            "overflow_y": null,
            "overflow_x": null,
            "grid_auto_flow": null,
            "grid_area": null,
            "grid_template_columns": null,
            "flex": null,
            "_model_name": "LayoutModel",
            "justify_items": null,
            "grid_row": null,
            "max_height": null,
            "align_content": null,
            "visibility": null,
            "align_self": null,
            "height": null,
            "min_height": null,
            "padding": null,
            "grid_auto_rows": null,
            "grid_gap": null,
            "max_width": null,
            "order": null,
            "_view_module_version": "1.2.0",
            "grid_template_areas": null,
            "object_position": null,
            "object_fit": null,
            "grid_auto_columns": null,
            "margin": null,
            "display": null,
            "left": null
          }
        },
        "3b5f38c9735a425ba1a9734402fc1fb1": {
          "model_module": "@jupyter-widgets/controls",
          "model_name": "DescriptionStyleModel",
          "state": {
            "_view_name": "StyleView",
            "_model_name": "DescriptionStyleModel",
            "description_width": "",
            "_view_module": "@jupyter-widgets/base",
            "_model_module_version": "1.5.0",
            "_view_count": null,
            "_view_module_version": "1.2.0",
            "_model_module": "@jupyter-widgets/controls"
          }
        },
        "5337d100558e4a3f83559e69f1cb17e2": {
          "model_module": "@jupyter-widgets/base",
          "model_name": "LayoutModel",
          "state": {
            "_view_name": "LayoutView",
            "grid_template_rows": null,
            "right": null,
            "justify_content": null,
            "_view_module": "@jupyter-widgets/base",
            "overflow": null,
            "_model_module_version": "1.2.0",
            "_view_count": null,
            "flex_flow": null,
            "width": null,
            "min_width": null,
            "border": null,
            "align_items": null,
            "bottom": null,
            "_model_module": "@jupyter-widgets/base",
            "top": null,
            "grid_column": null,
            "overflow_y": null,
            "overflow_x": null,
            "grid_auto_flow": null,
            "grid_area": null,
            "grid_template_columns": null,
            "flex": null,
            "_model_name": "LayoutModel",
            "justify_items": null,
            "grid_row": null,
            "max_height": null,
            "align_content": null,
            "visibility": null,
            "align_self": null,
            "height": null,
            "min_height": null,
            "padding": null,
            "grid_auto_rows": null,
            "grid_gap": null,
            "max_width": null,
            "order": null,
            "_view_module_version": "1.2.0",
            "grid_template_areas": null,
            "object_position": null,
            "object_fit": null,
            "grid_auto_columns": null,
            "margin": null,
            "display": null,
            "left": null
          }
        },
        "188a471f9b1445ec99cc0803e6c52b84": {
          "model_module": "@jupyter-widgets/controls",
          "model_name": "HBoxModel",
          "state": {
            "_view_name": "HBoxView",
            "_dom_classes": [],
            "_model_name": "HBoxModel",
            "_view_module": "@jupyter-widgets/controls",
            "_model_module_version": "1.5.0",
            "_view_count": null,
            "_view_module_version": "1.5.0",
            "box_style": "",
            "layout": "IPY_MODEL_32502e335ae3409886872f52890dbb66",
            "_model_module": "@jupyter-widgets/controls",
            "children": [
              "IPY_MODEL_3e72d9f5f8514cd88e214fa4a68ebcbb",
              "IPY_MODEL_de1ff608cdc14af189a9422c8d7d8583"
            ]
          }
        },
        "32502e335ae3409886872f52890dbb66": {
          "model_module": "@jupyter-widgets/base",
          "model_name": "LayoutModel",
          "state": {
            "_view_name": "LayoutView",
            "grid_template_rows": null,
            "right": null,
            "justify_content": null,
            "_view_module": "@jupyter-widgets/base",
            "overflow": null,
            "_model_module_version": "1.2.0",
            "_view_count": null,
            "flex_flow": null,
            "width": null,
            "min_width": null,
            "border": null,
            "align_items": null,
            "bottom": null,
            "_model_module": "@jupyter-widgets/base",
            "top": null,
            "grid_column": null,
            "overflow_y": null,
            "overflow_x": null,
            "grid_auto_flow": null,
            "grid_area": null,
            "grid_template_columns": null,
            "flex": null,
            "_model_name": "LayoutModel",
            "justify_items": null,
            "grid_row": null,
            "max_height": null,
            "align_content": null,
            "visibility": null,
            "align_self": null,
            "height": null,
            "min_height": null,
            "padding": null,
            "grid_auto_rows": null,
            "grid_gap": null,
            "max_width": null,
            "order": null,
            "_view_module_version": "1.2.0",
            "grid_template_areas": null,
            "object_position": null,
            "object_fit": null,
            "grid_auto_columns": null,
            "margin": null,
            "display": null,
            "left": null
          }
        },
        "3e72d9f5f8514cd88e214fa4a68ebcbb": {
          "model_module": "@jupyter-widgets/controls",
          "model_name": "IntProgressModel",
          "state": {
            "_view_name": "ProgressView",
            "style": "IPY_MODEL_010ed767d3e742deb2b7f126dde6e855",
            "_dom_classes": [],
            "description": "",
            "_model_name": "IntProgressModel",
            "bar_style": "success",
            "max": 1,
            "_view_module": "@jupyter-widgets/controls",
            "_model_module_version": "1.5.0",
            "value": 1,
            "_view_count": null,
            "_view_module_version": "1.5.0",
            "orientation": "horizontal",
            "min": 0,
            "description_tooltip": null,
            "_model_module": "@jupyter-widgets/controls",
            "layout": "IPY_MODEL_bbfe4701598a4941b1027d4ae6f206bf"
          }
        },
        "de1ff608cdc14af189a9422c8d7d8583": {
          "model_module": "@jupyter-widgets/controls",
          "model_name": "HTMLModel",
          "state": {
            "_view_name": "HTMLView",
            "style": "IPY_MODEL_4776603ba1df4ab5aed07b9064875d6e",
            "_dom_classes": [],
            "description": "",
            "_model_name": "HTMLModel",
            "placeholder": "​",
            "_view_module": "@jupyter-widgets/controls",
            "_model_module_version": "1.5.0",
            "value": " 1654784/? [00:03&lt;00:00, 448061.39it/s]",
            "_view_count": null,
            "_view_module_version": "1.5.0",
            "description_tooltip": null,
            "_model_module": "@jupyter-widgets/controls",
            "layout": "IPY_MODEL_359a36a0e9c9426fb0cccc4334b69aee"
          }
        },
        "010ed767d3e742deb2b7f126dde6e855": {
          "model_module": "@jupyter-widgets/controls",
          "model_name": "ProgressStyleModel",
          "state": {
            "_view_name": "StyleView",
            "_model_name": "ProgressStyleModel",
            "description_width": "initial",
            "_view_module": "@jupyter-widgets/base",
            "_model_module_version": "1.5.0",
            "_view_count": null,
            "_view_module_version": "1.2.0",
            "bar_color": null,
            "_model_module": "@jupyter-widgets/controls"
          }
        },
        "bbfe4701598a4941b1027d4ae6f206bf": {
          "model_module": "@jupyter-widgets/base",
          "model_name": "LayoutModel",
          "state": {
            "_view_name": "LayoutView",
            "grid_template_rows": null,
            "right": null,
            "justify_content": null,
            "_view_module": "@jupyter-widgets/base",
            "overflow": null,
            "_model_module_version": "1.2.0",
            "_view_count": null,
            "flex_flow": null,
            "width": null,
            "min_width": null,
            "border": null,
            "align_items": null,
            "bottom": null,
            "_model_module": "@jupyter-widgets/base",
            "top": null,
            "grid_column": null,
            "overflow_y": null,
            "overflow_x": null,
            "grid_auto_flow": null,
            "grid_area": null,
            "grid_template_columns": null,
            "flex": null,
            "_model_name": "LayoutModel",
            "justify_items": null,
            "grid_row": null,
            "max_height": null,
            "align_content": null,
            "visibility": null,
            "align_self": null,
            "height": null,
            "min_height": null,
            "padding": null,
            "grid_auto_rows": null,
            "grid_gap": null,
            "max_width": null,
            "order": null,
            "_view_module_version": "1.2.0",
            "grid_template_areas": null,
            "object_position": null,
            "object_fit": null,
            "grid_auto_columns": null,
            "margin": null,
            "display": null,
            "left": null
          }
        },
        "4776603ba1df4ab5aed07b9064875d6e": {
          "model_module": "@jupyter-widgets/controls",
          "model_name": "DescriptionStyleModel",
          "state": {
            "_view_name": "StyleView",
            "_model_name": "DescriptionStyleModel",
            "description_width": "",
            "_view_module": "@jupyter-widgets/base",
            "_model_module_version": "1.5.0",
            "_view_count": null,
            "_view_module_version": "1.2.0",
            "_model_module": "@jupyter-widgets/controls"
          }
        },
        "359a36a0e9c9426fb0cccc4334b69aee": {
          "model_module": "@jupyter-widgets/base",
          "model_name": "LayoutModel",
          "state": {
            "_view_name": "LayoutView",
            "grid_template_rows": null,
            "right": null,
            "justify_content": null,
            "_view_module": "@jupyter-widgets/base",
            "overflow": null,
            "_model_module_version": "1.2.0",
            "_view_count": null,
            "flex_flow": null,
            "width": null,
            "min_width": null,
            "border": null,
            "align_items": null,
            "bottom": null,
            "_model_module": "@jupyter-widgets/base",
            "top": null,
            "grid_column": null,
            "overflow_y": null,
            "overflow_x": null,
            "grid_auto_flow": null,
            "grid_area": null,
            "grid_template_columns": null,
            "flex": null,
            "_model_name": "LayoutModel",
            "justify_items": null,
            "grid_row": null,
            "max_height": null,
            "align_content": null,
            "visibility": null,
            "align_self": null,
            "height": null,
            "min_height": null,
            "padding": null,
            "grid_auto_rows": null,
            "grid_gap": null,
            "max_width": null,
            "order": null,
            "_view_module_version": "1.2.0",
            "grid_template_areas": null,
            "object_position": null,
            "object_fit": null,
            "grid_auto_columns": null,
            "margin": null,
            "display": null,
            "left": null
          }
        },
        "629e712e4ebe4a4684cae02588f879d7": {
          "model_module": "@jupyter-widgets/controls",
          "model_name": "HBoxModel",
          "state": {
            "_view_name": "HBoxView",
            "_dom_classes": [],
            "_model_name": "HBoxModel",
            "_view_module": "@jupyter-widgets/controls",
            "_model_module_version": "1.5.0",
            "_view_count": null,
            "_view_module_version": "1.5.0",
            "box_style": "",
            "layout": "IPY_MODEL_c498bddcabbf4a47bcb15cf98d2f275f",
            "_model_module": "@jupyter-widgets/controls",
            "children": [
              "IPY_MODEL_653d8afc63c84cba9c2edc786010dbc6",
              "IPY_MODEL_1249e0a7817a444f8a42398b7b564d15"
            ]
          }
        },
        "c498bddcabbf4a47bcb15cf98d2f275f": {
          "model_module": "@jupyter-widgets/base",
          "model_name": "LayoutModel",
          "state": {
            "_view_name": "LayoutView",
            "grid_template_rows": null,
            "right": null,
            "justify_content": null,
            "_view_module": "@jupyter-widgets/base",
            "overflow": null,
            "_model_module_version": "1.2.0",
            "_view_count": null,
            "flex_flow": null,
            "width": null,
            "min_width": null,
            "border": null,
            "align_items": null,
            "bottom": null,
            "_model_module": "@jupyter-widgets/base",
            "top": null,
            "grid_column": null,
            "overflow_y": null,
            "overflow_x": null,
            "grid_auto_flow": null,
            "grid_area": null,
            "grid_template_columns": null,
            "flex": null,
            "_model_name": "LayoutModel",
            "justify_items": null,
            "grid_row": null,
            "max_height": null,
            "align_content": null,
            "visibility": null,
            "align_self": null,
            "height": null,
            "min_height": null,
            "padding": null,
            "grid_auto_rows": null,
            "grid_gap": null,
            "max_width": null,
            "order": null,
            "_view_module_version": "1.2.0",
            "grid_template_areas": null,
            "object_position": null,
            "object_fit": null,
            "grid_auto_columns": null,
            "margin": null,
            "display": null,
            "left": null
          }
        },
        "653d8afc63c84cba9c2edc786010dbc6": {
          "model_module": "@jupyter-widgets/controls",
          "model_name": "IntProgressModel",
          "state": {
            "_view_name": "ProgressView",
            "style": "IPY_MODEL_6b3b112dcea64079ac70c4732993100f",
            "_dom_classes": [],
            "description": "",
            "_model_name": "IntProgressModel",
            "bar_style": "success",
            "max": 1,
            "_view_module": "@jupyter-widgets/controls",
            "_model_module_version": "1.5.0",
            "value": 1,
            "_view_count": null,
            "_view_module_version": "1.5.0",
            "orientation": "horizontal",
            "min": 0,
            "description_tooltip": null,
            "_model_module": "@jupyter-widgets/controls",
            "layout": "IPY_MODEL_c7b85ada301d4b9093b81690daabd0f5"
          }
        },
        "1249e0a7817a444f8a42398b7b564d15": {
          "model_module": "@jupyter-widgets/controls",
          "model_name": "HTMLModel",
          "state": {
            "_view_name": "HTMLView",
            "style": "IPY_MODEL_7cbeb642c5c141559db8f2ab31646426",
            "_dom_classes": [],
            "description": "",
            "_model_name": "HTMLModel",
            "placeholder": "​",
            "_view_module": "@jupyter-widgets/controls",
            "_model_module_version": "1.5.0",
            "value": " 8192/? [00:00&lt;00:00, 11136.52it/s]",
            "_view_count": null,
            "_view_module_version": "1.5.0",
            "description_tooltip": null,
            "_model_module": "@jupyter-widgets/controls",
            "layout": "IPY_MODEL_2c10c07b5c724873a32c9e1b0dc92b6c"
          }
        },
        "6b3b112dcea64079ac70c4732993100f": {
          "model_module": "@jupyter-widgets/controls",
          "model_name": "ProgressStyleModel",
          "state": {
            "_view_name": "StyleView",
            "_model_name": "ProgressStyleModel",
            "description_width": "initial",
            "_view_module": "@jupyter-widgets/base",
            "_model_module_version": "1.5.0",
            "_view_count": null,
            "_view_module_version": "1.2.0",
            "bar_color": null,
            "_model_module": "@jupyter-widgets/controls"
          }
        },
        "c7b85ada301d4b9093b81690daabd0f5": {
          "model_module": "@jupyter-widgets/base",
          "model_name": "LayoutModel",
          "state": {
            "_view_name": "LayoutView",
            "grid_template_rows": null,
            "right": null,
            "justify_content": null,
            "_view_module": "@jupyter-widgets/base",
            "overflow": null,
            "_model_module_version": "1.2.0",
            "_view_count": null,
            "flex_flow": null,
            "width": null,
            "min_width": null,
            "border": null,
            "align_items": null,
            "bottom": null,
            "_model_module": "@jupyter-widgets/base",
            "top": null,
            "grid_column": null,
            "overflow_y": null,
            "overflow_x": null,
            "grid_auto_flow": null,
            "grid_area": null,
            "grid_template_columns": null,
            "flex": null,
            "_model_name": "LayoutModel",
            "justify_items": null,
            "grid_row": null,
            "max_height": null,
            "align_content": null,
            "visibility": null,
            "align_self": null,
            "height": null,
            "min_height": null,
            "padding": null,
            "grid_auto_rows": null,
            "grid_gap": null,
            "max_width": null,
            "order": null,
            "_view_module_version": "1.2.0",
            "grid_template_areas": null,
            "object_position": null,
            "object_fit": null,
            "grid_auto_columns": null,
            "margin": null,
            "display": null,
            "left": null
          }
        },
        "7cbeb642c5c141559db8f2ab31646426": {
          "model_module": "@jupyter-widgets/controls",
          "model_name": "DescriptionStyleModel",
          "state": {
            "_view_name": "StyleView",
            "_model_name": "DescriptionStyleModel",
            "description_width": "",
            "_view_module": "@jupyter-widgets/base",
            "_model_module_version": "1.5.0",
            "_view_count": null,
            "_view_module_version": "1.2.0",
            "_model_module": "@jupyter-widgets/controls"
          }
        },
        "2c10c07b5c724873a32c9e1b0dc92b6c": {
          "model_module": "@jupyter-widgets/base",
          "model_name": "LayoutModel",
          "state": {
            "_view_name": "LayoutView",
            "grid_template_rows": null,
            "right": null,
            "justify_content": null,
            "_view_module": "@jupyter-widgets/base",
            "overflow": null,
            "_model_module_version": "1.2.0",
            "_view_count": null,
            "flex_flow": null,
            "width": null,
            "min_width": null,
            "border": null,
            "align_items": null,
            "bottom": null,
            "_model_module": "@jupyter-widgets/base",
            "top": null,
            "grid_column": null,
            "overflow_y": null,
            "overflow_x": null,
            "grid_auto_flow": null,
            "grid_area": null,
            "grid_template_columns": null,
            "flex": null,
            "_model_name": "LayoutModel",
            "justify_items": null,
            "grid_row": null,
            "max_height": null,
            "align_content": null,
            "visibility": null,
            "align_self": null,
            "height": null,
            "min_height": null,
            "padding": null,
            "grid_auto_rows": null,
            "grid_gap": null,
            "max_width": null,
            "order": null,
            "_view_module_version": "1.2.0",
            "grid_template_areas": null,
            "object_position": null,
            "object_fit": null,
            "grid_auto_columns": null,
            "margin": null,
            "display": null,
            "left": null
          }
        }
      }
    },
    "accelerator": "GPU"
  },
  "cells": [
    {
      "cell_type": "markdown",
      "metadata": {
        "id": "view-in-github",
        "colab_type": "text"
      },
      "source": [
        "<a href=\"https://colab.research.google.com/github/Akhilez/ml_gallery/blob/master/ml_py/MLGallery/selective_generator/colab.ipynb\" target=\"_parent\"><img src=\"https://colab.research.google.com/assets/colab-badge.svg\" alt=\"Open In Colab\"/></a>"
      ]
    },
    {
      "cell_type": "markdown",
      "metadata": {
        "id": "9fYjdUPs9G8T",
        "colab_type": "text"
      },
      "source": [
        "# Model\n",
        "\n",
        "```yaml\n",
        "Generator:\n",
        "  - Input: 100 (90 noise, 10 one-hot)\n",
        "  - h1: 150\n",
        "  - h2: 400\n",
        "  - h3: 784\n",
        "\n",
        "FeatureExtractor:\n",
        "  - Input: 784 (28x28)\n",
        "  - h1: 400\n",
        "  - h2: 150\n",
        "  - h3: 100\n",
        "\n",
        "Discriminator:\n",
        "  - Input: 100\n",
        "  - h1: 50\n",
        "  - h2: 1\n",
        "\n",
        "Classifier:\n",
        "  - Input: 100\n",
        "  - h1: 50\n",
        "  - h2: 10\n",
        "```\n",
        "\n",
        "Link to file: https://github.com/Akhilez/ml_gallery/blob/master/ml_py/MLGallery/selective_generator/colab.ipynb"
      ]
    },
    {
      "cell_type": "code",
      "metadata": {
        "id": "b83FOSP76d5l",
        "colab_type": "code",
        "colab": {}
      },
      "source": [
        "import numpy as np\n",
        "import torch\n",
        "import torchvision\n",
        "import matplotlib.pyplot as plt"
      ],
      "execution_count": 0,
      "outputs": []
    },
    {
      "cell_type": "code",
      "metadata": {
        "id": "ZCLZ8YdE62Ls",
        "colab_type": "code",
        "outputId": "0db38553-0f45-4e53-a962-c34b933dd384",
        "colab": {
          "base_uri": "https://localhost:8080/",
          "height": 332,
          "referenced_widgets": [
            "5bbeccf3c8b14d0cacd5cb82b2b9753d",
            "6398d4d0d8b344c0a7937a4837debea8",
            "b79784b9e1b84ea3a724677698c337d2",
            "49d4493901be460c91a91bb22d5ebb72",
            "e5412d0031ab4dd2a56add210a86ed3e",
            "e35fdce44f994401ada4c88fca3c7cfd",
            "b0b4c908d4d1451386a65a11c606940d",
            "a65e0c0d868c499b872201ea6cd0c5f1",
            "a18085cad1ff4886abea37fedc93bb67",
            "62a886811644481db6b2a5f5e9da1cca",
            "3b8b39043ee74b05ab88cd6616418e01",
            "11217b5b74f84cc6ad40d00460a3e7c7",
            "53af46e1a48b450a9b4d8db0295d6b80",
            "c5b4798ae74248348568eecd07557618",
            "3b5f38c9735a425ba1a9734402fc1fb1",
            "5337d100558e4a3f83559e69f1cb17e2",
            "188a471f9b1445ec99cc0803e6c52b84",
            "32502e335ae3409886872f52890dbb66",
            "3e72d9f5f8514cd88e214fa4a68ebcbb",
            "de1ff608cdc14af189a9422c8d7d8583",
            "010ed767d3e742deb2b7f126dde6e855",
            "bbfe4701598a4941b1027d4ae6f206bf",
            "4776603ba1df4ab5aed07b9064875d6e",
            "359a36a0e9c9426fb0cccc4334b69aee",
            "629e712e4ebe4a4684cae02588f879d7",
            "c498bddcabbf4a47bcb15cf98d2f275f",
            "653d8afc63c84cba9c2edc786010dbc6",
            "1249e0a7817a444f8a42398b7b564d15",
            "6b3b112dcea64079ac70c4732993100f",
            "c7b85ada301d4b9093b81690daabd0f5",
            "7cbeb642c5c141559db8f2ab31646426",
            "2c10c07b5c724873a32c9e1b0dc92b6c"
          ]
        }
      },
      "source": [
        "data_path = \"./data/mnist/\"\n",
        "\n",
        "train_loader = torch.utils.data.DataLoader(\n",
        "    torchvision.datasets.MNIST(data_path, train=True, download=True,\n",
        "                               transform=torchvision.transforms.ToTensor()), shuffle=True)\n",
        "\n",
        "test_loader = torch.utils.data.DataLoader(\n",
        "    torchvision.datasets.MNIST(data_path, train=False, download=True,\n",
        "                               transform=torchvision.transforms.ToTensor()), shuffle=True)"
      ],
      "execution_count": 2,
      "outputs": [
        {
          "output_type": "stream",
          "text": [
            "Downloading http://yann.lecun.com/exdb/mnist/train-images-idx3-ubyte.gz to ./data/mnist/MNIST/raw/train-images-idx3-ubyte.gz\n"
          ],
          "name": "stdout"
        },
        {
          "output_type": "display_data",
          "data": {
            "application/vnd.jupyter.widget-view+json": {
              "model_id": "5bbeccf3c8b14d0cacd5cb82b2b9753d",
              "version_minor": 0,
              "version_major": 2
            },
            "text/plain": [
              "HBox(children=(IntProgress(value=1, bar_style='info', max=1), HTML(value='')))"
            ]
          },
          "metadata": {
            "tags": []
          }
        },
        {
          "output_type": "stream",
          "text": [
            "Extracting ./data/mnist/MNIST/raw/train-images-idx3-ubyte.gz to ./data/mnist/MNIST/raw\n",
            "Downloading http://yann.lecun.com/exdb/mnist/train-labels-idx1-ubyte.gz to ./data/mnist/MNIST/raw/train-labels-idx1-ubyte.gz\n"
          ],
          "name": "stdout"
        },
        {
          "output_type": "display_data",
          "data": {
            "application/vnd.jupyter.widget-view+json": {
              "model_id": "a18085cad1ff4886abea37fedc93bb67",
              "version_minor": 0,
              "version_major": 2
            },
            "text/plain": [
              "HBox(children=(IntProgress(value=1, bar_style='info', max=1), HTML(value='')))"
            ]
          },
          "metadata": {
            "tags": []
          }
        },
        {
          "output_type": "stream",
          "text": [
            "Extracting ./data/mnist/MNIST/raw/train-labels-idx1-ubyte.gz to ./data/mnist/MNIST/raw\n",
            "Downloading http://yann.lecun.com/exdb/mnist/t10k-images-idx3-ubyte.gz to ./data/mnist/MNIST/raw/t10k-images-idx3-ubyte.gz\n",
            "\n"
          ],
          "name": "stdout"
        },
        {
          "output_type": "display_data",
          "data": {
            "application/vnd.jupyter.widget-view+json": {
              "model_id": "188a471f9b1445ec99cc0803e6c52b84",
              "version_minor": 0,
              "version_major": 2
            },
            "text/plain": [
              "HBox(children=(IntProgress(value=1, bar_style='info', max=1), HTML(value='')))"
            ]
          },
          "metadata": {
            "tags": []
          }
        },
        {
          "output_type": "stream",
          "text": [
            "Extracting ./data/mnist/MNIST/raw/t10k-images-idx3-ubyte.gz to ./data/mnist/MNIST/raw\n",
            "Downloading http://yann.lecun.com/exdb/mnist/t10k-labels-idx1-ubyte.gz to ./data/mnist/MNIST/raw/t10k-labels-idx1-ubyte.gz\n"
          ],
          "name": "stdout"
        },
        {
          "output_type": "display_data",
          "data": {
            "application/vnd.jupyter.widget-view+json": {
              "model_id": "629e712e4ebe4a4684cae02588f879d7",
              "version_minor": 0,
              "version_major": 2
            },
            "text/plain": [
              "HBox(children=(IntProgress(value=1, bar_style='info', max=1), HTML(value='')))"
            ]
          },
          "metadata": {
            "tags": []
          }
        },
        {
          "output_type": "stream",
          "text": [
            "Extracting ./data/mnist/MNIST/raw/t10k-labels-idx1-ubyte.gz to ./data/mnist/MNIST/raw\n",
            "Processing...\n",
            "Done!\n"
          ],
          "name": "stdout"
        }
      ]
    },
    {
      "cell_type": "code",
      "metadata": {
        "id": "TsF9T-rT66jh",
        "colab_type": "code",
        "colab": {}
      },
      "source": [
        "x_train = []\n",
        "x_test = []\n",
        "y_test = []\n",
        "y_train = []"
      ],
      "execution_count": 0,
      "outputs": []
    },
    {
      "cell_type": "code",
      "metadata": {
        "id": "MXTQzaxc69HA",
        "colab_type": "code",
        "colab": {}
      },
      "source": [
        "def to_one_hot(x):\n",
        "    b = np.zeros((x.size, 10))\n",
        "    b[np.arange(x.size), x] = 1\n",
        "    return b"
      ],
      "execution_count": 0,
      "outputs": []
    },
    {
      "cell_type": "code",
      "metadata": {
        "id": "dXZQQySl6-YX",
        "colab_type": "code",
        "colab": {
          "base_uri": "https://localhost:8080/",
          "height": 68
        },
        "outputId": "5e67cd00-660c-4b4f-f6dc-37b86b86cf79"
      },
      "source": [
        "for data in test_loader:\n",
        "    y_test_i = data[1].numpy()\n",
        "    x_test_i = data[0].numpy()\n",
        "    \n",
        "    x_test_i = x_test_i.reshape((28, 28))\n",
        "    y_test_i = y_test_i[0]\n",
        "    \n",
        "    x_test.append(x_test_i)\n",
        "    y_test.append(y_test_i)"
      ],
      "execution_count": 5,
      "outputs": [
        {
          "output_type": "stream",
          "text": [
            "\n",
            "\n",
            "\n"
          ],
          "name": "stdout"
        }
      ]
    },
    {
      "cell_type": "code",
      "metadata": {
        "id": "xs9zdDSz7AU1",
        "colab_type": "code",
        "colab": {}
      },
      "source": [
        "y_test = torch.Tensor(to_one_hot(np.array(y_test)))\n",
        "x_test = torch.Tensor(x_test).reshape((-1, 784))"
      ],
      "execution_count": 0,
      "outputs": []
    },
    {
      "cell_type": "code",
      "metadata": {
        "id": "pJBBvGHb7CE7",
        "colab_type": "code",
        "colab": {}
      },
      "source": [
        "for data in train_loader:\n",
        "    y_test_i = data[1].numpy()\n",
        "    x_test_i = data[0].numpy()\n",
        "    \n",
        "    x_test_i = x_test_i.reshape((28, 28))\n",
        "    y_test_i = y_test_i[0]\n",
        "    \n",
        "    x_train.append(x_test_i)\n",
        "    y_train.append(y_test_i)\n",
        "\n",
        "y_train = torch.Tensor(to_one_hot(np.array(y_train)))\n",
        "x_train = torch.Tensor(x_train).reshape((-1, 784))"
      ],
      "execution_count": 0,
      "outputs": []
    },
    {
      "cell_type": "code",
      "metadata": {
        "id": "SDJi3hQ37rv9",
        "colab_type": "code",
        "colab": {}
      },
      "source": [
        "x_train = x_train[:5000]\n",
        "x_test = x_test[:500]\n",
        "y_train = y_train[:5000]\n",
        "y_test = y_test[:500]"
      ],
      "execution_count": 0,
      "outputs": []
    },
    {
      "cell_type": "code",
      "metadata": {
        "id": "BsnNSYDf7DuV",
        "colab_type": "code",
        "outputId": "de13735a-2dc7-4a33-dffc-febe5b259d8e",
        "colab": {
          "base_uri": "https://localhost:8080/",
          "height": 119
        }
      },
      "source": [
        "print(x_train.shape, x_test.shape, y_train.shape, y_test.shape)\n",
        "print(x_train.shape)\n",
        "print(y_train.shape)\n",
        "\n",
        "print(torch.min(x_test))\n",
        "print(torch.max(x_test))\n",
        "print(y_train[0])"
      ],
      "execution_count": 9,
      "outputs": [
        {
          "output_type": "stream",
          "text": [
            "torch.Size([5000, 784]) torch.Size([500, 784]) torch.Size([5000, 10]) torch.Size([500, 10])\n",
            "torch.Size([5000, 784])\n",
            "torch.Size([5000, 10])\n",
            "tensor(0.)\n",
            "tensor(1.)\n",
            "tensor([0., 0., 0., 0., 0., 0., 0., 0., 0., 1.])\n"
          ],
          "name": "stdout"
        }
      ]
    },
    {
      "cell_type": "code",
      "metadata": {
        "id": "myqyq81i7L6g",
        "colab_type": "code",
        "colab": {}
      },
      "source": [
        "def plot_image(x):\n",
        "    plt.imshow(x, cmap='gray')\n",
        "    # plt.show()"
      ],
      "execution_count": 0,
      "outputs": []
    },
    {
      "cell_type": "code",
      "metadata": {
        "id": "XZva4kv37yDZ",
        "colab_type": "code",
        "outputId": "3f6faeae-76f2-4bfa-db60-8ec833efb4e9",
        "colab": {
          "base_uri": "https://localhost:8080/",
          "height": 282
        }
      },
      "source": [
        "index = 12\n",
        "plot_image(x_test[index].numpy().reshape((28, 28)))\n",
        "print(y_test[index])\n",
        "plt.show()"
      ],
      "execution_count": 11,
      "outputs": [
        {
          "output_type": "stream",
          "text": [
            "tensor([0., 0., 0., 0., 0., 0., 1., 0., 0., 0.])\n"
          ],
          "name": "stdout"
        },
        {
          "output_type": "display_data",
          "data": {
            "image/png": "[encoded data removed]",
            "text/plain": [
              "<Figure size 432x288 with 1 Axes>"
            ]
          },
          "metadata": {
            "tags": [],
            "needs_background": "light"
          }
        }
      ]
    },
    {
      "cell_type": "code",
      "metadata": {
        "id": "y14YSTRg7zR1",
        "colab_type": "code",
        "colab": {}
      },
      "source": [
        "def get_random(shape, min_=-0.5, max_=0.5):\n",
        "    return torch.FloatTensor(*shape).uniform_(min_, max_).requires_grad_()"
      ],
      "execution_count": 0,
      "outputs": []
    },
    {
      "cell_type": "code",
      "metadata": {
        "id": "FF-ZsF-_71r_",
        "colab_type": "code",
        "colab": {}
      },
      "source": [
        "class Generator(torch.nn.Module):\n",
        "    def __init__(self):\n",
        "        super().__init__()\n",
        "        self.w1, self.b1 = get_random((100, 6000)), torch.zeros(6000, requires_grad=True)\n",
        "        self.w2, self.b2 = get_random((6000, 6000)), torch.zeros(6000, requires_grad=True)\n",
        "        self.w3, self.b3 = get_random((6000, 784)), torch.zeros(784, requires_grad=True)\n",
        "    \n",
        "    def forward(self, x, **kwargs):\n",
        "        # x.shape = (batch, 100)\n",
        "        h1 = torch.sigmoid(x.matmul(self.w1) + self.b1)\n",
        "        h2 = torch.sigmoid(h1.matmul(self.w2) + self.b2)\n",
        "        h3 = torch.sigmoid(h2.matmul(self.w3) + self.b3)\n",
        "        return h3\n",
        "    \n",
        "    def optimize(self, lr):\n",
        "        self.w1 = (self.w1 - lr * self.w1.grad).detach().requires_grad_()\n",
        "        self.w2 = (self.w2 - lr * self.w2.grad).detach().requires_grad_()\n",
        "        self.w3 = (self.w3 - lr * self.w3.grad).detach().requires_grad_()\n",
        "        \n",
        "        self.b1 = (self.b1 - lr * self.b1.grad).detach().requires_grad_()\n",
        "        self.b2 = (self.b2 - lr * self.b2.grad).detach().requires_grad_()\n",
        "        self.b3 = (self.b3 - lr * self.b3.grad).detach().requires_grad_()\n",
        "        \n",
        "    def zero_grad(self):\n",
        "        self.w1.grad = torch.zeros(self.w1.grad.shape)\n",
        "        self.w2.grad = torch.zeros(self.w2.grad.shape)\n",
        "        self.w3.grad = torch.zeros(self.w3.grad.shape)\n",
        "        \n",
        "        self.b1.grad = torch.zeros(self.b1.grad.shape)\n",
        "        self.b2.grad = torch.zeros(self.b2.grad.shape)\n",
        "        self.b3.grad = torch.zeros(self.b3.grad.shape)\n",
        "\n",
        "    @staticmethod\n",
        "    def getGeneratorInput(y, batch_size):\n",
        "        gen_input = np.random.uniform(0, 1, (batch_size, 100))\n",
        "        for batch in range(batch_size):\n",
        "            for i in range(0, 90, 20):\n",
        "                gen_input[batch][i: i+10] = y[batch]\n",
        "        return torch.Tensor(gen_input)"
      ],
      "execution_count": 0,
      "outputs": []
    },
    {
      "cell_type": "code",
      "metadata": {
        "id": "2V_6Faq9cCZa",
        "colab_type": "code",
        "colab": {
          "base_uri": "https://localhost:8080/",
          "height": 459
        },
        "outputId": "41e55452-4f22-4e31-ecdb-224cb1a3d7b7"
      },
      "source": [
        "y_sample = y_test[10:12]\n",
        "print(y_sample)\n",
        "Generator.getGeneratorInput(y_sample, 2)"
      ],
      "execution_count": 22,
      "outputs": [
        {
          "output_type": "stream",
          "text": [
            "tensor([[0., 1., 0., 0., 0., 0., 0., 0., 0., 0.],\n",
            "        [0., 0., 1., 0., 0., 0., 0., 0., 0., 0.]])\n"
          ],
          "name": "stdout"
        },
        {
          "output_type": "execute_result",
          "data": {
            "text/plain": [
              "tensor([[0.0000, 1.0000, 0.0000, 0.0000, 0.0000, 0.0000, 0.0000, 0.0000, 0.0000,\n",
              "         0.0000, 0.5750, 0.3600, 0.9441, 0.2569, 0.6121, 0.5046, 0.6036, 0.9645,\n",
              "         0.4203, 0.1634, 0.0000, 1.0000, 0.0000, 0.0000, 0.0000, 0.0000, 0.0000,\n",
              "         0.0000, 0.0000, 0.0000, 0.5948, 0.1941, 0.2706, 0.3593, 0.1861, 0.5125,\n",
              "         0.4905, 0.1288, 0.9559, 0.7389, 0.0000, 1.0000, 0.0000, 0.0000, 0.0000,\n",
              "         0.0000, 0.0000, 0.0000, 0.0000, 0.0000, 0.6754, 0.1413, 0.6784, 0.0211,\n",
              "         0.8720, 0.1800, 0.2959, 0.5373, 0.6037, 0.1711, 0.0000, 1.0000, 0.0000,\n",
              "         0.0000, 0.0000, 0.0000, 0.0000, 0.0000, 0.0000, 0.0000, 0.2909, 0.2398,\n",
              "         0.9086, 0.5008, 0.5413, 0.9529, 0.8104, 0.5412, 0.6065, 0.9425, 0.0000,\n",
              "         1.0000, 0.0000, 0.0000, 0.0000, 0.0000, 0.0000, 0.0000, 0.0000, 0.0000,\n",
              "         0.5973, 0.0743, 0.4266, 0.1992, 0.1612, 0.5754, 0.3628, 0.7228, 0.7439,\n",
              "         0.1054],\n",
              "        [0.0000, 0.0000, 1.0000, 0.0000, 0.0000, 0.0000, 0.0000, 0.0000, 0.0000,\n",
              "         0.0000, 0.9267, 0.2922, 0.5552, 0.8354, 0.7428, 0.8253, 0.1741, 0.8134,\n",
              "         0.6176, 0.2130, 0.0000, 0.0000, 1.0000, 0.0000, 0.0000, 0.0000, 0.0000,\n",
              "         0.0000, 0.0000, 0.0000, 0.4038, 0.8940, 0.8877, 0.0704, 0.7815, 0.6042,\n",
              "         0.3496, 0.9306, 0.2123, 0.2332, 0.0000, 0.0000, 1.0000, 0.0000, 0.0000,\n",
              "         0.0000, 0.0000, 0.0000, 0.0000, 0.0000, 0.3485, 0.7426, 0.2993, 0.0284,\n",
              "         0.7840, 0.6605, 0.0019, 0.6795, 0.2273, 0.6511, 0.0000, 0.0000, 1.0000,\n",
              "         0.0000, 0.0000, 0.0000, 0.0000, 0.0000, 0.0000, 0.0000, 0.8856, 0.6664,\n",
              "         0.0083, 0.0628, 0.5952, 0.1049, 0.1622, 0.3569, 0.7469, 0.4372, 0.0000,\n",
              "         0.0000, 1.0000, 0.0000, 0.0000, 0.0000, 0.0000, 0.0000, 0.0000, 0.0000,\n",
              "         0.7137, 0.2455, 0.5367, 0.1034, 0.0324, 0.0215, 0.4625, 0.3866, 0.5880,\n",
              "         0.9096]])"
            ]
          },
          "metadata": {
            "tags": []
          },
          "execution_count": 22
        }
      ]
    },
    {
      "cell_type": "code",
      "metadata": {
        "id": "k7UwJDNg79tU",
        "colab_type": "code",
        "colab": {}
      },
      "source": [
        "class FeatureExtractor(torch.nn.Module):\n",
        "    def __init__(self):\n",
        "        super().__init__()\n",
        "        self.w1, self.b1 = get_random((784, 600)), torch.zeros(600, requires_grad=True)\n",
        "        self.w2, self.b2 = get_random((600, 600)), torch.zeros(600, requires_grad=True)\n",
        "        self.w3, self.b3 = get_random((600, 100)), torch.zeros(100, requires_grad=True)\n",
        "    \n",
        "    def forward(self, x, **kwargs):\n",
        "        h1 = torch.sigmoid(x.matmul(self.w1) + self.b1)\n",
        "        h2 = torch.sigmoid(h1.matmul(self.w2) + self.b2)\n",
        "        h3 = torch.sigmoid(h2.matmul(self.w3) + self.b3)\n",
        "        return h3\n",
        "    \n",
        "    def optimize(self, lr):\n",
        "        \n",
        "        self.w1 = (self.w1 - lr * self.w1.grad).detach().requires_grad_()\n",
        "        self.w2 = (self.w2 - lr * self.w2.grad).detach().requires_grad_()\n",
        "        self.w3 = (self.w3 - lr * self.w3.grad).detach().requires_grad_()\n",
        "        \n",
        "        self.b1 = (self.b1 - lr * self.b1.grad).detach().requires_grad_()\n",
        "        self.b2 = (self.b2 - lr * self.b2.grad).detach().requires_grad_()\n",
        "        self.b3 = (self.b3 - lr * self.b3.grad).detach().requires_grad_()"
      ],
      "execution_count": 0,
      "outputs": []
    },
    {
      "cell_type": "code",
      "metadata": {
        "id": "WTpDal2i7_dy",
        "colab_type": "code",
        "colab": {}
      },
      "source": [
        "class Discriminator(torch.nn.Module):\n",
        "    def __init__(self):\n",
        "        super().__init__()\n",
        "        self.w1, self.b1 = get_random((784, 600)), torch.zeros(600, requires_grad=True)\n",
        "        self.w2, self.b2 = get_random((600, 600)), torch.zeros(600, requires_grad=True)\n",
        "        self.w3, self.b3 = get_random((600, 2)), torch.zeros(2, requires_grad=True)\n",
        "    \n",
        "    def forward(self, x, **kwargs):\n",
        "        h1 = torch.sigmoid(x.matmul(self.w1) + self.b1)\n",
        "        h2 = torch.sigmoid(h1.matmul(self.w2) + self.b2)\n",
        "        h3 = torch.sigmoid(h2.matmul(self.w3) + self.b3)\n",
        "        return h3\n",
        "    \n",
        "    def optimize(self, lr):\n",
        "        self.w1 = (self.w1 - lr * self.w1.grad).detach().requires_grad_()\n",
        "        self.w2 = (self.w2 - lr * self.w2.grad).detach().requires_grad_()\n",
        "        self.w3 = (self.w3 - lr * self.w3.grad).detach().requires_grad_()\n",
        "        \n",
        "        self.b1 = (self.b1 - lr * self.b1.grad).detach().requires_grad_()\n",
        "        self.b2 = (self.b2 - lr * self.b2.grad).detach().requires_grad_()\n",
        "        self.b3 = (self.b3 - lr * self.b3.grad).detach().requires_grad_()\n",
        "\n",
        "    @staticmethod\n",
        "    def generate_labels(sample_size, real=True):\n",
        "        labels = torch.zeros((sample_size, 2))\n",
        "        for sample in labels:\n",
        "            sample[0] = 1 if real else 0\n",
        "            sample[1] = 0 if real else 1\n",
        "        return labels"
      ],
      "execution_count": 0,
      "outputs": []
    },
    {
      "cell_type": "code",
      "metadata": {
        "id": "svpWhbN08BZV",
        "colab_type": "code",
        "colab": {}
      },
      "source": [
        "class Classifier(torch.nn.Module):\n",
        "    def __init__(self):\n",
        "        super().__init__()\n",
        "        self.w1, self.b1 = get_random((784, 600)), torch.zeros(600, requires_grad=True)\n",
        "        self.w2, self.b2 = get_random((600, 600)), torch.zeros(600, requires_grad=True)\n",
        "        self.w3, self.b3 = get_random((600, 10)), torch.zeros(10, requires_grad=True)\n",
        "    \n",
        "    def forward(self, x, **kwargs):\n",
        "        h1 = torch.sigmoid(x.matmul(self.w1) + self.b1)\n",
        "        h2 = torch.sigmoid(h1.matmul(self.w2) + self.b2)\n",
        "        h3 = torch.nn.functional.softmax(h2.matmul(self.w3) + self.b3)\n",
        "        return h3\n",
        "    \n",
        "    def optimize(self, lr):\n",
        "        self.w1 = (self.w1 - lr * self.w1.grad).detach().requires_grad_()\n",
        "        self.w2 = (self.w2 - lr * self.w2.grad).detach().requires_grad_()\n",
        "        self.w3 = (self.w3 - lr * self.w3.grad).detach().requires_grad_()\n",
        "        \n",
        "        self.b1 = (self.b1 - lr * self.b1.grad).detach().requires_grad_()\n",
        "        self.b2 = (self.b2 - lr * self.b2.grad).detach().requires_grad_()\n",
        "        self.b3 = (self.b3 - lr * self.b3.grad).detach().requires_grad_()"
      ],
      "execution_count": 0,
      "outputs": []
    },
    {
      "cell_type": "code",
      "metadata": {
        "id": "-7MnX8wr8C1h",
        "colab_type": "code",
        "colab": {}
      },
      "source": [
        "# fe = FeatureExtractor()\n",
        "# classifier = Classifier()\n",
        "discriminator = Discriminator()\n",
        "generator = Generator()"
      ],
      "execution_count": 0,
      "outputs": []
    },
    {
      "cell_type": "markdown",
      "metadata": {
        "id": "rrS5g9M2XTv7",
        "colab_type": "text"
      },
      "source": [
        "# Selective GAN"
      ]
    },
    {
      "cell_type": "code",
      "metadata": {
        "id": "NVU0vV5_8ETE",
        "colab_type": "code",
        "outputId": "cabe8950-b6a2-401d-8da3-f2482c115680",
        "colab": {
          "base_uri": "https://localhost:8080/",
          "height": 1000
        }
      },
      "source": [
        "batch_size = 200\n",
        "epochs = 50\n",
        "\n",
        "for epoch in range(epochs):\n",
        "    print(f'Epoch: {epoch}')\n",
        "    losses = [0, 0, 0, 0]\n",
        "    for i in range(0, len(x_train), batch_size):\n",
        "        start_index = i\n",
        "        end_index = i+batch_size\n",
        "        \n",
        "        x_batch = x_train[start_index:end_index]\n",
        "        y_batch = y_train[start_index:end_index]\n",
        "    \n",
        "        \n",
        "        # ------------ Train with real image ----------------\n",
        "        real = Discriminator.generate_labels(batch_size)\n",
        "        fake = Discriminator.generate_labels(batch_size, real=False)\n",
        "        \n",
        "        features = fe(x_batch)\n",
        "        discriminator_out = discriminator(features)\n",
        "        classifier_out = classifier(features)\n",
        "        \n",
        "        loss_discriminator = torch.nn.functional.binary_cross_entropy(discriminator_out, real)\n",
        "        loss_classifier = torch.nn.functional.binary_cross_entropy(classifier_out, y_batch)\n",
        "        \n",
        "        loss = loss_discriminator + loss_classifier\n",
        "        loss.backward()\n",
        "        discriminator.optimize(0.1)\n",
        "        classifier.optimize(0.1)\n",
        "        fe.optimize(0.1)\n",
        "        \n",
        "        losses[0] += float(loss)\n",
        "        \n",
        "        # --------------- Train with fake image -------------------\n",
        "\n",
        "        generator_input = Generator.getGeneratorInput(y_batch, batch_size)\n",
        "        \n",
        "        generated = generator(generator_input)\n",
        "        features = fe(generated)\n",
        "        discriminator_out = discriminator(features)\n",
        "        classifier_out = classifier(features)\n",
        "        \n",
        "        loss_discriminator = torch.nn.functional.binary_cross_entropy(discriminator_out, fake)\n",
        "        loss_generator = torch.nn.functional.binary_cross_entropy(discriminator_out, real)\n",
        "        loss_classifier = torch.nn.functional.binary_cross_entropy(classifier_out, y_batch)\n",
        "        loss = loss_discriminator + loss_classifier\n",
        "        \n",
        "        loss.backward(retain_graph=True)\n",
        "        \n",
        "        discriminator.optimize(0.1)\n",
        "        fe.optimize(0.1)\n",
        "        \n",
        "        generator.zero_grad()\n",
        "        loss_generator.backward()\n",
        "        generator.optimize(0.1)\n",
        "        \n",
        "        losses[1] += float(loss_discriminator)\n",
        "        losses[2] += float(loss_classifier)\n",
        "        losses[3] += float(loss_generator)\n",
        "        \n",
        "    print(f'  Losses: {losses}')"
      ],
      "execution_count": 31,
      "outputs": [
        {
          "output_type": "stream",
          "text": [
            "Epoch: 0\n"
          ],
          "name": "stdout"
        },
        {
          "output_type": "stream",
          "text": [
            "/usr/local/lib/python3.6/dist-packages/ipykernel_launcher.py:9: UserWarning: Implicit dimension choice for softmax has been deprecated. Change the call to include dim=X as an argument.\n",
            "  if __name__ == '__main__':\n"
          ],
          "name": "stderr"
        },
        {
          "output_type": "stream",
          "text": [
            "  Losses: [9.351550132036209, 1.2778786085546017, 8.133616596460342, 75.42709064483643]\n",
            "Epoch: 1\n",
            "  Losses: [9.05757087469101, 0.9857751689851284, 8.149785697460175, 81.62760186195374]\n",
            "Epoch: 2\n",
            "  Losses: [8.716490477323532, 0.6873852722346783, 8.106913149356842, 90.40933609008789]\n",
            "Epoch: 3\n",
            "  Losses: [8.599604934453964, 0.5962067469954491, 8.110706865787506, 94.09379148483276]\n",
            "Epoch: 4\n",
            "  Losses: [8.44970914721489, 0.47285211831331253, 8.132135719060898, 99.66366767883301]\n",
            "Epoch: 5\n",
            "  Losses: [8.331039488315582, 0.39470741897821426, 8.135742872953415, 104.14802312850952]\n",
            "Epoch: 6\n",
            "  Losses: [8.28292390704155, 0.36182994674891233, 8.124283373355865, 106.45758533477783]\n",
            "Epoch: 7\n",
            "  Losses: [8.183967798948288, 0.2611696068197489, 8.122605741024017, 114.22565650939941]\n",
            "Epoch: 8\n",
            "  Losses: [8.109074264764786, 0.26210406702011824, 8.125921905040741, 114.23803949356079]\n",
            "Epoch: 9\n",
            "  Losses: [8.075328886508942, 0.2566063590347767, 8.124271303415298, 114.66406726837158]\n",
            "Epoch: 10\n",
            "  Losses: [8.026415288448334, 0.22173055168241262, 8.13864752650261, 118.34576845169067]\n",
            "Epoch: 11\n",
            "  Losses: [7.979782283306122, 0.22065863758325577, 8.127179771661758, 118.42133855819702]\n",
            "Epoch: 12\n",
            "  Losses: [7.939658164978027, 0.18732302216812968, 8.123156905174255, 122.49052143096924]\n",
            "Epoch: 13\n",
            "  Losses: [7.894880473613739, 0.18334008427336812, 8.132317036390305, 123.08166885375977]\n",
            "Epoch: 14\n",
            "  Losses: [7.8518959283828735, 0.15429618023335934, 8.134791076183319, 127.31375980377197]\n",
            "Epoch: 15\n",
            "  Losses: [7.80770081281662, 0.1476097865961492, 8.123774111270905, 128.4104619026184]\n",
            "Epoch: 16\n",
            "  Losses: [7.777921736240387, 0.16798431612551212, 8.126398533582687, 125.22739791870117]\n",
            "Epoch: 17\n",
            "  Losses: [7.740773528814316, 0.1406000219285488, 8.135057389736176, 129.88356685638428]\n",
            "Epoch: 18\n",
            "  Losses: [7.714966267347336, 0.17276677675545216, 8.132197678089142, 124.51409816741943]\n",
            "Epoch: 19\n",
            "  Losses: [7.677399814128876, 0.1480755158700049, 8.116620630025864, 128.39209413528442]\n",
            "Epoch: 20\n",
            "  Losses: [7.643864214420319, 0.15925556793808937, 8.120817989110947, 126.72454833984375]\n",
            "Epoch: 21\n",
            "  Losses: [7.595761716365814, 0.12811189843341708, 8.115928798913956, 131.96353769302368]\n",
            "Epoch: 22\n",
            "  Losses: [7.550212472677231, 0.11230020318180323, 8.125440657138824, 135.29059600830078]\n",
            "Epoch: 23\n",
            "  Losses: [7.504811495542526, 0.11173284566029906, 8.120944231748581, 135.38559198379517]\n",
            "Epoch: 24\n",
            "  Losses: [7.463660836219788, 0.11452684458345175, 8.133665889501572, 134.79924964904785]\n",
            "Epoch: 25\n",
            "  Losses: [7.423189282417297, 0.10114902560599148, 8.13102301955223, 137.93945455551147]\n",
            "Epoch: 26\n",
            "  Losses: [7.381324976682663, 0.11375040793791413, 8.127851486206055, 134.95419120788574]\n",
            "Epoch: 27\n",
            "  Losses: [7.341507911682129, 0.10988606791943312, 8.118300020694733, 135.77897024154663]\n",
            "Epoch: 28\n",
            "  Losses: [7.302473425865173, 0.11601079953834414, 8.117513328790665, 134.47015762329102]\n",
            "Epoch: 29\n",
            "  Losses: [7.2650691866874695, 0.11791930720210075, 8.124556124210358, 134.10328340530396]\n",
            "Epoch: 30\n",
            "  Losses: [7.220556765794754, 0.09687036951072514, 8.125458538532257, 138.9913935661316]\n",
            "Epoch: 31\n",
            "  Losses: [7.169977635145187, 0.09047760744579136, 8.121160715818405, 140.65559577941895]\n",
            "Epoch: 32\n",
            "  Losses: [7.123570621013641, 0.08599872677586973, 8.117997646331787, 141.96013164520264]\n",
            "Epoch: 33\n",
            "  Losses: [7.073090076446533, 0.06986315827816725, 8.11829498410225, 147.06920957565308]\n",
            "Epoch: 34\n",
            "  Losses: [7.023632049560547, 0.06835286365821958, 8.117200046777725, 147.6181812286377]\n",
            "Epoch: 35\n",
            "  Losses: [6.977755904197693, 0.07073968299664557, 8.123468577861786, 146.79198932647705]\n",
            "Epoch: 36\n",
            "  Losses: [6.934437423944473, 0.07427617022767663, 8.127886265516281, 145.58330726623535]\n",
            "Epoch: 37\n",
            "  Losses: [6.88878059387207, 0.06772524584084749, 8.125514298677444, 147.87471342086792]\n",
            "Epoch: 38\n",
            "  Losses: [6.84134304523468, 0.06681144353933632, 8.119584441184998, 148.2621569633484]\n",
            "Epoch: 39\n",
            "  Losses: [6.791546434164047, 0.06169970449991524, 8.115771502256393, 150.24306344985962]\n",
            "Epoch: 40\n",
            "  Losses: [6.742634832859039, 0.06645102356560528, 8.1234872341156, 148.36193895339966]\n",
            "Epoch: 41\n",
            "  Losses: [6.69405871629715, 0.06221117847599089, 8.117449641227722, 149.99179983139038]\n",
            "Epoch: 42\n",
            "  Losses: [6.6457304656505585, 0.06976639828644693, 8.115164279937744, 147.13435173034668]\n",
            "Epoch: 43\n",
            "  Losses: [6.596997678279877, 0.06399671360850334, 8.114713937044144, 149.27962112426758]\n",
            "Epoch: 44\n",
            "  Losses: [6.5450146198272705, 0.06205573817715049, 8.115880757570267, 150.0330352783203]\n",
            "Epoch: 45\n",
            "  Losses: [6.494489163160324, 0.06077204761095345, 8.121417224407196, 150.53842401504517]\n",
            "Epoch: 46\n",
            "  Losses: [6.442311733961105, 0.05623421096242964, 8.126053482294083, 152.49447870254517]\n",
            "Epoch: 47\n",
            "  Losses: [6.38780115544796, 0.05531803681515157, 8.119245052337646, 152.90575313568115]\n",
            "Epoch: 48\n",
            "  Losses: [6.335621953010559, 0.062161529902368784, 8.119158506393433, 150.07605695724487]\n",
            "Epoch: 49\n",
            "  Losses: [6.283517777919769, 0.05912653123959899, 8.12541988492012, 151.27586364746094]\n"
          ],
          "name": "stdout"
        }
      ]
    },
    {
      "cell_type": "code",
      "metadata": {
        "id": "NmnS51pL8Gxg",
        "colab_type": "code",
        "outputId": "2c216bbc-b2ba-4d0c-bf66-d298319f7595",
        "colab": {
          "base_uri": "https://localhost:8080/",
          "height": 1000
        }
      },
      "source": [
        "with torch.no_grad():\n",
        "    \n",
        "    index = 133\n",
        "    batch_size = 2\n",
        "    \n",
        "    x_sample = x_test[index:index+batch_size]\n",
        "    y_sample = y_test[index:index+batch_size]\n",
        "    \n",
        "    generator_input = Generator.getGeneratorInput(y_sample, batch_size)\n",
        "        \n",
        "    generated = generator(generator_input)\n",
        "    features = fe(generated)\n",
        "    discriminator_out = discriminator(features)\n",
        "    \n",
        "    features = fe(x_sample)\n",
        "    real_discriminator_out = discriminator(features)\n",
        "    classifier_out = classifier(features)\n",
        "\n",
        "    \n",
        "    for i in range(batch_size):\n",
        "        plot_image(generated[i].reshape((28, 28)))\n",
        "        plt.show()\n",
        "        plot_image(x_sample[i].reshape((28, 28)))\n",
        "        plt.show()\n",
        "        \n",
        "    \n",
        "    print(f\"Discriminator_out fake: {discriminator_out}\\nReal Img Discriminator Out: {real_discriminator_out}\")\n",
        "    print(f\"\\nClass: {classifier_out}\\nReal class: {y_sample}\")"
      ],
      "execution_count": 33,
      "outputs": [
        {
          "output_type": "stream",
          "text": [
            "/usr/local/lib/python3.6/dist-packages/ipykernel_launcher.py:9: UserWarning: Implicit dimension choice for softmax has been deprecated. Change the call to include dim=X as an argument.\n",
            "  if __name__ == '__main__':\n"
          ],
          "name": "stderr"
        },
        {
          "output_type": "display_data",
          "data": {
            "image/png": "[encoded data removed]",
            "text/plain": [
              "<Figure size 432x288 with 1 Axes>"
            ]
          },
          "metadata": {
            "tags": [],
            "needs_background": "light"
          }
        },
        {
          "output_type": "display_data",
          "data": {
            "image/png": "[encoded data removed]",
            "text/plain": [
              "<Figure size 432x288 with 1 Axes>"
            ]
          },
          "metadata": {
            "tags": [],
            "needs_background": "light"
          }
        },
        {
          "output_type": "display_data",
          "data": {
            "image/png": "[encoded data removed]",
            "text/plain": [
              "<Figure size 432x288 with 1 Axes>"
            ]
          },
          "metadata": {
            "tags": [],
            "needs_background": "light"
          }
        },
        {
          "output_type": "display_data",
          "data": {
            "image/png": "[encoded data removed]",
            "text/plain": [
              "<Figure size 432x288 with 1 Axes>"
            ]
          },
          "metadata": {
            "tags": [],
            "needs_background": "light"
          }
        },
        {
          "output_type": "stream",
          "text": [
            "Discriminator_out fake: tensor([[0.0025, 0.9972],\n",
            "        [0.0025, 0.9973]])\n",
            "Real Img Discriminator Out: tensor([[9.9947e-01, 3.7344e-04],\n",
            "        [9.9901e-01, 1.3867e-03]])\n",
            "\n",
            "Class: tensor([[0.0484, 0.0653, 0.0236, 0.0551, 0.1482, 0.0865, 0.0620, 0.0854, 0.0829,\n",
            "         0.3426],\n",
            "        [0.0945, 0.0613, 0.0805, 0.0433, 0.2050, 0.0698, 0.1012, 0.0741, 0.0506,\n",
            "         0.2197]])\n",
            "Real class: tensor([[0., 0., 0., 0., 0., 0., 0., 0., 0., 1.],\n",
            "        [0., 0., 0., 0., 0., 0., 0., 0., 0., 1.]])\n"
          ],
          "name": "stdout"
        }
      ]
    },
    {
      "cell_type": "code",
      "metadata": {
        "id": "TYtIu8Fp9es6",
        "colab_type": "code",
        "outputId": "22e419d7-c09a-40dd-c644-37013d06029a",
        "colab": {
          "base_uri": "https://localhost:8080/",
          "height": 153
        }
      },
      "source": [
        "with torch.no_grad():\n",
        "    index = 133\n",
        "    x_sample = x_test[index:index+2]\n",
        "    y_sample = y_test[index:index+2]\n",
        "    y_pred = classifier(fe(x_sample))\n",
        "    print(y_pred)\n",
        "    print(y_sample)"
      ],
      "execution_count": 0,
      "outputs": [
        {
          "output_type": "stream",
          "text": [
            "tensor([[2.8942e-03, 1.3588e-04, 1.3840e-04, 5.9589e-03, 8.2910e-05, 9.7652e-01,\n",
            "         5.8020e-06, 2.4974e-04, 1.3381e-02, 6.3833e-04],\n",
            "        [2.8175e-04, 5.9488e-03, 1.7584e-04, 1.1175e-02, 2.4148e-02, 1.2686e-02,\n",
            "         9.1562e-04, 6.3619e-03, 7.0668e-03, 9.3124e-01]])\n",
            "tensor([[0., 0., 0., 0., 0., 1., 0., 0., 0., 0.],\n",
            "        [0., 0., 0., 0., 0., 0., 0., 0., 0., 1.]])\n"
          ],
          "name": "stdout"
        },
        {
          "output_type": "stream",
          "text": [
            "/usr/local/lib/python3.6/dist-packages/ipykernel_launcher.py:9: UserWarning: Implicit dimension choice for softmax has been deprecated. Change the call to include dim=X as an argument.\n",
            "  if __name__ == '__main__':\n"
          ],
          "name": "stderr"
        }
      ]
    },
    {
      "cell_type": "markdown",
      "metadata": {
        "id": "Pyzrb6pIXOa8",
        "colab_type": "text"
      },
      "source": [
        "## GAN Only"
      ]
    },
    {
      "cell_type": "code",
      "metadata": {
        "id": "q2iSAwOUXQlV",
        "colab_type": "code",
        "colab": {
          "base_uri": "https://localhost:8080/",
          "height": 1000
        },
        "outputId": "75d286a4-485e-44d5-ad5d-b4fe1a6623c0"
      },
      "source": [
        "batch_size = 200\n",
        "epochs = 30\n",
        "\n",
        "for epoch in range(epochs):\n",
        "    print(f'Epoch: {epoch}')\n",
        "    losses = [0, 0, 0]\n",
        "    for i in range(0, len(x_train), batch_size):\n",
        "        start_index = i\n",
        "        end_index = i+batch_size\n",
        "        \n",
        "        x_batch = x_train[start_index:end_index]\n",
        "        y_batch = y_train[start_index:end_index]\n",
        "    \n",
        "        \n",
        "        # ------------ Train with real image ----------------\n",
        "        real = Discriminator.generate_labels(batch_size)\n",
        "        fake = Discriminator.generate_labels(batch_size, real=False)\n",
        "        \n",
        "        discriminator_out = discriminator(x_batch)\n",
        "        \n",
        "        loss_discriminator = torch.nn.functional.binary_cross_entropy(discriminator_out, real)\n",
        "        \n",
        "        loss_discriminator.backward()\n",
        "\n",
        "        discriminator.optimize(0.1)\n",
        "        \n",
        "        losses[0] += float(loss_discriminator)\n",
        "        \n",
        "        # --------------- Train with fake image -------------------\n",
        "\n",
        "        generator_input = Generator.getGeneratorInput(y_batch, batch_size)\n",
        "        \n",
        "        generated = generator(generator_input)\n",
        "        discriminator_out = discriminator(generated)\n",
        "        \n",
        "        loss_discriminator = torch.nn.functional.binary_cross_entropy(discriminator_out, fake)\n",
        "        loss_generator = torch.nn.functional.binary_cross_entropy(discriminator_out, real)\n",
        "        \n",
        "        loss_discriminator.backward(retain_graph=True)\n",
        "        discriminator.optimize(0.1)\n",
        "        \n",
        "        generator.zero_grad()\n",
        "        loss_generator.backward()\n",
        "        generator.optimize(0.1)\n",
        "        \n",
        "        losses[1] += float(loss_discriminator)\n",
        "        losses[2] += float(loss_generator)\n",
        "        \n",
        "    print(f'  Losses: {losses}')"
      ],
      "execution_count": 23,
      "outputs": [
        {
          "output_type": "stream",
          "text": [
            "Epoch: 0\n",
            "  Losses: [0.3530483739450574, 0.28096380503848195, 113.6924376487732]\n",
            "Epoch: 1\n",
            "  Losses: [0.26116274762898684, 0.23398225661367178, 118.25129175186157]\n",
            "Epoch: 2\n",
            "  Losses: [0.20324105164036155, 0.18422233685851097, 124.53243446350098]\n",
            "Epoch: 3\n",
            "  Losses: [0.24469881132245064, 0.24043961521238089, 117.0921459197998]\n",
            "Epoch: 4\n",
            "  Losses: [0.20958232833072543, 0.18413723865523934, 123.65717601776123]\n",
            "Epoch: 5\n",
            "  Losses: [0.18742428696714342, 0.18058427749201655, 123.85407304763794]\n",
            "Epoch: 6\n",
            "  Losses: [0.19443593779578805, 0.17148704547435045, 125.49542284011841]\n",
            "Epoch: 7\n",
            "  Losses: [0.14985075406730175, 0.1196161441039294, 134.96803998947144]\n",
            "Epoch: 8\n",
            "  Losses: [0.12452986626885831, 0.11122033977881074, 136.41102266311646]\n",
            "Epoch: 9\n",
            "  Losses: [0.11131250788457692, 0.10125416959635913, 138.2896432876587]\n",
            "Epoch: 10\n",
            "  Losses: [0.09609002666547894, 0.08715135813690722, 141.90793704986572]\n",
            "Epoch: 11\n",
            "  Losses: [0.08344966836739331, 0.06931284465827048, 147.87332487106323]\n",
            "Epoch: 12\n",
            "  Losses: [0.06674197339452803, 0.056956162909045815, 152.87662982940674]\n",
            "Epoch: 13\n",
            "  Losses: [0.06053041398990899, 0.049809563788585365, 156.06597232818604]\n",
            "Epoch: 14\n",
            "  Losses: [0.053006458445452154, 0.05184612551238388, 154.954598903656]\n",
            "Epoch: 15\n",
            "  Losses: [0.05932289292104542, 0.06448136875405908, 149.28431940078735]\n",
            "Epoch: 16\n",
            "  Losses: [0.059503085794858634, 0.05590835434850305, 153.2812623977661]\n",
            "Epoch: 17\n",
            "  Losses: [0.06339064275380224, 0.06485505471937358, 149.42155981063843]\n",
            "Epoch: 18\n",
            "  Losses: [0.05776288697961718, 0.04777458112221211, 157.05639934539795]\n",
            "Epoch: 19\n",
            "  Losses: [0.05466693115886301, 0.0582466961350292, 154.36890983581543]\n",
            "Epoch: 20\n",
            "  Losses: [0.06445438787341118, 0.06893546390347183, 149.24036741256714]\n",
            "Epoch: 21\n",
            "  Losses: [0.06889183435123414, 0.06493461667560041, 149.88968753814697]\n",
            "Epoch: 22\n",
            "  Losses: [0.05899120413232595, 0.054984520305879414, 153.8715043067932]\n",
            "Epoch: 23\n",
            "  Losses: [0.06222058308776468, 0.06418303400278091, 149.78648471832275]\n",
            "Epoch: 24\n",
            "  Losses: [0.05881761072669178, 0.052430640207603574, 154.96533107757568]\n",
            "Epoch: 25\n",
            "  Losses: [0.05231399612966925, 0.041217641439288855, 161.8355131149292]\n",
            "Epoch: 26\n",
            "  Losses: [0.043847619264852256, 0.035814147791825235, 164.55619430541992]\n",
            "Epoch: 27\n",
            "  Losses: [0.03789940779097378, 0.030002485844306648, 168.43649435043335]\n",
            "Epoch: 28\n",
            "  Losses: [0.03403746959520504, 0.02860669622896239, 169.56003856658936]\n",
            "Epoch: 29\n",
            "  Losses: [0.03059023222886026, 0.030147116456646472, 169.398512840271]\n"
          ],
          "name": "stdout"
        }
      ]
    },
    {
      "cell_type": "code",
      "metadata": {
        "id": "wdos9mWoaCcU",
        "colab_type": "code",
        "colab": {
          "base_uri": "https://localhost:8080/",
          "height": 1000
        },
        "outputId": "b137712f-fe89-4f11-c9b0-96417d501f26"
      },
      "source": [
        "with torch.no_grad():\n",
        "    \n",
        "    index = 133\n",
        "    batch_size = 2\n",
        "    \n",
        "    x_sample = x_test[index:index+batch_size]\n",
        "    y_sample = y_test[index:index+batch_size]\n",
        "    \n",
        "    generator_input = Generator.getGeneratorInput(y_sample, batch_size)\n",
        "        \n",
        "    generated = generator(generator_input)\n",
        "    discriminator_out = discriminator(generated)\n",
        "    \n",
        "    real_discriminator_out = discriminator(x_sample)\n",
        "    \n",
        "    for i in range(batch_size):\n",
        "        plot_image(generated[i].reshape((28, 28)))\n",
        "        plt.show()\n",
        "        plot_image(x_sample[i].reshape((28, 28)))\n",
        "        plt.show()\n",
        "        \n",
        "    \n",
        "    print(f\"Discriminator_out fake: {discriminator_out}\\nReal Img Discriminator Out: {real_discriminator_out}\")"
      ],
      "execution_count": 24,
      "outputs": [
        {
          "output_type": "display_data",
          "data": {
            "image/png": "[encoded data removed]",
            "text/plain": [
              "<Figure size 432x288 with 1 Axes>"
            ]
          },
          "metadata": {
            "tags": [],
            "needs_background": "light"
          }
        },
        {
          "output_type": "display_data",
          "data": {
            "image/png": "[encoded data removed]",
            "text/plain": [
              "<Figure size 432x288 with 1 Axes>"
            ]
          },
          "metadata": {
            "tags": [],
            "needs_background": "light"
          }
        },
        {
          "output_type": "display_data",
          "data": {
            "image/png": "[encoded data removed]",
            "text/plain": [
              "<Figure size 432x288 with 1 Axes>"
            ]
          },
          "metadata": {
            "tags": [],
            "needs_background": "light"
          }
        },
        {
          "output_type": "display_data",
          "data": {
            "image/png": "[encoded data removed]",
            "text/plain": [
              "<Figure size 432x288 with 1 Axes>"
            ]
          },
          "metadata": {
            "tags": [],
            "needs_background": "light"
          }
        },
        {
          "output_type": "stream",
          "text": [
            "Discriminator_out fake: tensor([[0.0017, 0.9987],\n",
            "        [0.0018, 0.9987]])\n",
            "Real Img Discriminator Out: tensor([[9.9994e-01, 1.3468e-05],\n",
            "        [1.0000e+00, 1.7767e-05]])\n"
          ],
          "name": "stdout"
        }
      ]
    },
    {
      "cell_type": "code",
      "metadata": {
        "id": "OQqsDNdsbKtg",
        "colab_type": "code",
        "colab": {}
      },
      "source": [
        ""
      ],
      "execution_count": 0,
      "outputs": []
    }
  ]
}