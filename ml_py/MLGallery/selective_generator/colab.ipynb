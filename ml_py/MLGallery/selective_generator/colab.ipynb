{
  "nbformat": 4,
  "nbformat_minor": 0,
  "metadata": {
    "colab": {
      "name": "Selective_GAN.ipynb",
      "provenance": [],
      "authorship_tag": "ABX9TyNygx9/K8/6qj6uSA5czdOf",
      "include_colab_link": true
    },
    "kernelspec": {
      "name": "python3",
      "display_name": "Python 3"
    },
    "widgets": {
      "application/vnd.jupyter.widget-state+json": {
        "575852d7425a437c8dfcad9b12442680": {
          "model_module": "@jupyter-widgets/controls",
          "model_name": "HBoxModel",
          "state": {
            "_view_name": "HBoxView",
            "_dom_classes": [],
            "_model_name": "HBoxModel",
            "_view_module": "@jupyter-widgets/controls",
            "_model_module_version": "1.5.0",
            "_view_count": null,
            "_view_module_version": "1.5.0",
            "box_style": "",
            "layout": "IPY_MODEL_923a3c8a27db494d9f5626be0e5bec7a",
            "_model_module": "@jupyter-widgets/controls",
            "children": [
              "IPY_MODEL_06e672f59fef4cd4a1ac2d4aa8b74050",
              "IPY_MODEL_68af874895b64df18188e175420ff75b"
            ]
          }
        },
        "ef9d7d5f9f534cc7948e8237c89804e1": {
          "model_module": "@jupyter-widgets/controls",
          "model_name": "HBoxModel",
          "state": {
            "_view_name": "HBoxView",
            "_dom_classes": [],
            "_model_name": "HBoxModel",
            "_view_module": "@jupyter-widgets/controls",
            "_model_module_version": "1.5.0",
            "_view_count": null,
            "_view_module_version": "1.5.0",
            "box_style": "",
            "layout": "IPY_MODEL_b93fa3a8095a423b8e9274beb3b12ce9",
            "_model_module": "@jupyter-widgets/controls",
            "children": [
              "IPY_MODEL_29c46171798847f69a4076e2ffe28c51",
              "IPY_MODEL_87a054f0f1ae417f9cfa6bc243862525"
            ]
          }
        },
        "f194dbdeed4f438591dcce6ec054f240": {
          "model_module": "@jupyter-widgets/controls",
          "model_name": "HBoxModel",
          "state": {
            "_view_name": "HBoxView",
            "_dom_classes": [],
            "_model_name": "HBoxModel",
            "_view_module": "@jupyter-widgets/controls",
            "_model_module_version": "1.5.0",
            "_view_count": null,
            "_view_module_version": "1.5.0",
            "box_style": "",
            "layout": "IPY_MODEL_08e090352aad4847937de69638289433",
            "_model_module": "@jupyter-widgets/controls",
            "children": [
              "IPY_MODEL_92e5e778b3674cb1903fc5bbb6dfade5",
              "IPY_MODEL_ccf327d766a047baab79a5ce2595ce35"
            ]
          }
        },
        "075b192367b940e2886284d1a5ad4b1a": {
          "model_module": "@jupyter-widgets/controls",
          "model_name": "HBoxModel",
          "state": {
            "_view_name": "HBoxView",
            "_dom_classes": [],
            "_model_name": "HBoxModel",
            "_view_module": "@jupyter-widgets/controls",
            "_model_module_version": "1.5.0",
            "_view_count": null,
            "_view_module_version": "1.5.0",
            "box_style": "",
            "layout": "IPY_MODEL_12c2874252c2488294107e374ef5144f",
            "_model_module": "@jupyter-widgets/controls",
            "children": [
              "IPY_MODEL_88ed8253044e46a4a23ac77328b0c5ac",
              "IPY_MODEL_183543e4934f40d695416c03c9ab6503"
            ]
          }
        }
      }
    },
    "accelerator": "GPU"
  },
  "cells": [
    {
      "cell_type": "markdown",
      "metadata": {
        "id": "view-in-github",
        "colab_type": "text"
      },
      "source": [
        "<a href=\"https://colab.research.google.com/github/Akhilez/ml_gallery/blob/master/ml_py/MLGallery/selective_generator/colab.ipynb\" target=\"_parent\"><img src=\"https://colab.research.google.com/assets/colab-badge.svg\" alt=\"Open In Colab\"/></a>"
      ]
    },
    {
      "cell_type": "markdown",
      "metadata": {
        "id": "9fYjdUPs9G8T",
        "colab_type": "text"
      },
      "source": [
        "# Model\n",
        "\n",
        "```yaml\n",
        "Generator:\n",
        "  - Input: 100 (90 noise, 10 one-hot)\n",
        "  - h1: 150\n",
        "  - h2: 400\n",
        "  - h3: 784\n",
        "\n",
        "FeatureExtractor:\n",
        "  - Input: 784 (28x28)\n",
        "  - h1: 400\n",
        "  - h2: 150\n",
        "  - h3: 100\n",
        "\n",
        "Discriminator:\n",
        "  - Input: 100\n",
        "  - h1: 50\n",
        "  - h2: 1\n",
        "\n",
        "Classifier:\n",
        "  - Input: 100\n",
        "  - h1: 50\n",
        "  - h2: 10\n",
        "```\n",
        "\n",
        "Link to file: https://github.com/Akhilez/ml_gallery/blob/master/ml_py/MLGallery/selective_generator/colab.ipynb"
      ]
    },
    {
      "cell_type": "code",
      "metadata": {
        "id": "b83FOSP76d5l",
        "colab_type": "code",
        "colab": {}
      },
      "source": [
        "import numpy as np\n",
        "import torch\n",
        "import torchvision\n",
        "import matplotlib.pyplot as plt\n",
        "from torch.nn.functional import dropout, leaky_relu, binary_cross_entropy, softmax\n",
        "from torch import sigmoid\n",
        "from torch.nn import Conv2d, Linear, ConvTranspose2d"
      ],
      "execution_count": 0,
      "outputs": []
    },
    {
      "cell_type": "code",
      "metadata": {
        "id": "eksbSQK7mXqM",
        "colab_type": "code",
        "colab": {
          "base_uri": "https://localhost:8080/",
          "height": 34
        },
        "outputId": "826b3e3f-bb61-4cb9-8b76-afa52a4aaf78"
      },
      "source": [
        "# Device configuration\n",
        "device = torch.device('cuda' if torch.cuda.is_available() else 'cpu')\n",
        "device"
      ],
      "execution_count": 25,
      "outputs": [
        {
          "output_type": "execute_result",
          "data": {
            "text/plain": [
              "device(type='cuda')"
            ]
          },
          "metadata": {
            "tags": []
          },
          "execution_count": 25
        }
      ]
    },
    {
      "cell_type": "code",
      "metadata": {
        "id": "ZCLZ8YdE62Ls",
        "colab_type": "code",
        "outputId": "e615271b-8e1e-4faa-da94-afa8cfccf011",
        "colab": {
          "base_uri": "https://localhost:8080/",
          "height": 187,
          "referenced_widgets": [
            "575852d7425a437c8dfcad9b12442680",
            "ef9d7d5f9f534cc7948e8237c89804e1",
            "f194dbdeed4f438591dcce6ec054f240",
            "075b192367b940e2886284d1a5ad4b1a"
          ]
        }
      },
      "source": [
        "data_path = \"./data/mnist/\"\n",
        "\n",
        "train_loader = torch.utils.data.DataLoader(\n",
        "    torchvision.datasets.MNIST(data_path, train=True, download=True,\n",
        "                               transform=torchvision.transforms.ToTensor()), shuffle=True)\n",
        "\n",
        "test_loader = torch.utils.data.DataLoader(\n",
        "    torchvision.datasets.MNIST(data_path, train=False, download=True,\n",
        "                               transform=torchvision.transforms.ToTensor()), shuffle=True)"
      ],
      "execution_count": 4,
      "outputs": [
        {
          "output_type": "stream",
          "text": [
            "Downloading http://yann.lecun.com/exdb/mnist/train-images-idx3-ubyte.gz to ./data/mnist/MNIST/raw/train-images-idx3-ubyte.gz\n"
          ],
          "name": "stdout"
        },
        {
          "output_type": "display_data",
          "data": {
            "application/vnd.jupyter.widget-view+json": {
              "model_id": "575852d7425a437c8dfcad9b12442680",
              "version_minor": 0,
              "version_major": 2
            },
            "text/plain": [
              "HBox(children=(IntProgress(value=1, bar_style='info', max=1), HTML(value='')))"
            ]
          },
          "metadata": {
            "tags": []
          }
        },
        {
          "output_type": "stream",
          "text": [
            "Extracting ./data/mnist/MNIST/raw/train-images-idx3-ubyte.gz to ./data/mnist/MNIST/raw\n",
            "Downloading http://yann.lecun.com/exdb/mnist/train-labels-idx1-ubyte.gz to ./data/mnist/MNIST/raw/train-labels-idx1-ubyte.gz\n"
          ],
          "name": "stdout"
        },
        {
          "output_type": "display_data",
          "data": {
            "application/vnd.jupyter.widget-view+json": {
              "model_id": "ef9d7d5f9f534cc7948e8237c89804e1",
              "version_minor": 0,
              "version_major": 2
            },
            "text/plain": [
              "HBox(children=(IntProgress(value=1, bar_style='info', max=1), HTML(value='')))"
            ]
          },
          "metadata": {
            "tags": []
          }
        },
        {
          "output_type": "stream",
          "text": [
            "Extracting ./data/mnist/MNIST/raw/train-labels-idx1-ubyte.gz to ./data/mnist/MNIST/raw\n",
            "Downloading http://yann.lecun.com/exdb/mnist/t10k-images-idx3-ubyte.gz to ./data/mnist/MNIST/raw/t10k-images-idx3-ubyte.gz\n"
          ],
          "name": "stdout"
        },
        {
          "output_type": "display_data",
          "data": {
            "application/vnd.jupyter.widget-view+json": {
              "model_id": "f194dbdeed4f438591dcce6ec054f240",
              "version_minor": 0,
              "version_major": 2
            },
            "text/plain": [
              "HBox(children=(IntProgress(value=1, bar_style='info', max=1), HTML(value='')))"
            ]
          },
          "metadata": {
            "tags": []
          }
        },
        {
          "output_type": "stream",
          "text": [
            "Extracting ./data/mnist/MNIST/raw/t10k-images-idx3-ubyte.gz to ./data/mnist/MNIST/raw\n",
            "Downloading http://yann.lecun.com/exdb/mnist/t10k-labels-idx1-ubyte.gz to ./data/mnist/MNIST/raw/t10k-labels-idx1-ubyte.gz\n"
          ],
          "name": "stdout"
        },
        {
          "output_type": "display_data",
          "data": {
            "application/vnd.jupyter.widget-view+json": {
              "model_id": "075b192367b940e2886284d1a5ad4b1a",
              "version_minor": 0,
              "version_major": 2
            },
            "text/plain": [
              "HBox(children=(IntProgress(value=1, bar_style='info', max=1), HTML(value='')))"
            ]
          },
          "metadata": {
            "tags": []
          }
        },
        {
          "output_type": "stream",
          "text": [
            "Extracting ./data/mnist/MNIST/raw/t10k-labels-idx1-ubyte.gz to ./data/mnist/MNIST/raw\n",
            "Processing...\n",
            "Done!\n"
          ],
          "name": "stdout"
        }
      ]
    },
    {
      "cell_type": "code",
      "metadata": {
        "id": "MXTQzaxc69HA",
        "colab_type": "code",
        "colab": {}
      },
      "source": [
        "def to_one_hot(x):\n",
        "    b = np.zeros((len(x), 10))\n",
        "    b[np.arange(len(x)), x] = 1\n",
        "    return b"
      ],
      "execution_count": 0,
      "outputs": []
    },
    {
      "cell_type": "code",
      "metadata": {
        "id": "dXZQQySl6-YX",
        "colab_type": "code",
        "colab": {}
      },
      "source": [
        "x_test = []\n",
        "y_test = []\n",
        "\n",
        "for data in test_loader:\n",
        "    x_test.append(data[0].reshape(1, 28, 28).numpy())\n",
        "    y_test.append(data[1][0])\n",
        "\n",
        "y_test = torch.Tensor(to_one_hot(y_test))\n",
        "x_test = torch.Tensor(x_test)"
      ],
      "execution_count": 0,
      "outputs": []
    },
    {
      "cell_type": "code",
      "metadata": {
        "id": "pJBBvGHb7CE7",
        "colab_type": "code",
        "colab": {}
      },
      "source": [
        "x_train = []\n",
        "y_train = []\n",
        "\n",
        "for data in test_loader:\n",
        "    x_train.append(data[0].reshape(1, 28, 28).numpy())\n",
        "    y_train.append(data[1][0])\n",
        "\n",
        "y_train = torch.Tensor(to_one_hot(y_train))\n",
        "x_train = torch.Tensor(x_train)"
      ],
      "execution_count": 0,
      "outputs": []
    },
    {
      "cell_type": "code",
      "metadata": {
        "id": "SDJi3hQ37rv9",
        "colab_type": "code",
        "colab": {}
      },
      "source": [
        "x_train = x_train[:5000]\n",
        "x_test = x_test[:500]\n",
        "y_train = y_train[:5000]\n",
        "y_test = y_test[:500]"
      ],
      "execution_count": 0,
      "outputs": []
    },
    {
      "cell_type": "code",
      "metadata": {
        "id": "BsnNSYDf7DuV",
        "colab_type": "code",
        "outputId": "3f127f21-0f4a-48ca-8abb-4336202dc793",
        "colab": {
          "base_uri": "https://localhost:8080/",
          "height": 85
        }
      },
      "source": [
        "print(x_train.shape, x_test.shape, y_train.shape, y_test.shape)\n",
        "\n",
        "print(torch.min(x_test))\n",
        "print(torch.max(x_test))\n",
        "\n",
        "print(y_train[0])"
      ],
      "execution_count": 9,
      "outputs": [
        {
          "output_type": "stream",
          "text": [
            "torch.Size([1000, 1, 28, 28]) torch.Size([100, 1, 28, 28]) torch.Size([1000, 10]) torch.Size([100, 10])\n",
            "tensor(0.)\n",
            "tensor(1.)\n",
            "tensor([0., 0., 0., 1., 0., 0., 0., 0., 0., 0.])\n"
          ],
          "name": "stdout"
        }
      ]
    },
    {
      "cell_type": "code",
      "metadata": {
        "id": "myqyq81i7L6g",
        "colab_type": "code",
        "colab": {}
      },
      "source": [
        "def plot_image(x):\n",
        "    plt.imshow(x, cmap='gray')\n",
        "    plt.show()"
      ],
      "execution_count": 0,
      "outputs": []
    },
    {
      "cell_type": "code",
      "metadata": {
        "id": "XZva4kv37yDZ",
        "colab_type": "code",
        "outputId": "39441e87-af61-419b-fbfc-bfba39f9deab",
        "colab": {
          "base_uri": "https://localhost:8080/",
          "height": 282
        }
      },
      "source": [
        "index = 13\n",
        "plot_image(x_test[index].numpy().reshape((28, 28)))\n",
        "print(y_test[index])"
      ],
      "execution_count": 11,
      "outputs": [
        {
          "output_type": "display_data",
          "data": {
            "image/png": "[encoded data removed]",
            "text/plain": [
              "<Figure size 432x288 with 1 Axes>"
            ]
          },
          "metadata": {
            "tags": [],
            "needs_background": "light"
          }
        },
        {
          "output_type": "stream",
          "text": [
            "tensor([0., 0., 0., 0., 1., 0., 0., 0., 0., 0.])\n"
          ],
          "name": "stdout"
        }
      ]
    },
    {
      "cell_type": "code",
      "metadata": {
        "id": "y14YSTRg7zR1",
        "colab_type": "code",
        "colab": {}
      },
      "source": [
        "def get_random(shape, min_=-0.5, max_=0.5):\n",
        "    return torch.FloatTensor(*shape).uniform_(min_, max_).requires_grad_()"
      ],
      "execution_count": 0,
      "outputs": []
    },
    {
      "cell_type": "code",
      "metadata": {
        "id": "FF-ZsF-_71r_",
        "colab_type": "code",
        "colab": {}
      },
      "source": [
        "class Generator(torch.nn.Module):\n",
        "    def __init__(self):\n",
        "        super().__init__()\n",
        "\n",
        "        # torch.nn.Conv2d(in_channels, out_channels, kernel_size, stride=1, padding=0, dilation=1, groups=1, bias=True, padding_mode='zeros')\n",
        "        # torch.nn.Linear(in_features, out_features, bias=True)\n",
        "        # torch.nn.functional.leaky_relu(input, negative_slope=0.01, inplace=False) → Tensor\n",
        "        # torch.nn.ConvTranspose2d(in_channels, out_channels, kernel_size, stride=1, padding=0, output_padding=0, groups=1, bias=True, dilation=1, padding_mode='zeros')\n",
        "\n",
        "        self.fc1 = Linear(100, 128 * 7 * 7)\n",
        "        self.conv1 = ConvTranspose2d(128, 128, 4, stride=2, padding=1)  # [2, 128, 14, 14]\n",
        "        self.conv2 = ConvTranspose2d(128, 128, 4, stride=2, padding=1)  # [2, 128, 28, 28]\n",
        "        self.conv3 = ConvTranspose2d(128, 1, 7, padding=3)\n",
        "\n",
        "    \n",
        "    def forward(self, x, **kwargs):\n",
        "        # x.shape = (batch, 100)\n",
        "        h1 = leaky_relu(self.fc1(x))\n",
        "        h1 = h1.reshape(-1, 128, 7, 7)\n",
        "        h2 = leaky_relu(self.conv1(h1))\n",
        "        h3 = leaky_relu(self.conv2(h2))\n",
        "        h4 = sigmoid(self.conv3(h3))\n",
        "        return h4\n",
        "\n",
        "    def get_parameters(self):\n",
        "        return [{'params': layer.parameters()} for layer in (self.fc1, self.conv1, self.conv2, self.conv3)]\n",
        "\n",
        "    @staticmethod\n",
        "    def getGeneratorInput(y, batch_size):\n",
        "        gen_input = np.random.uniform(0, 1, (batch_size, 100))\n",
        "        for batch in range(batch_size):\n",
        "            for i in range(0, 1, 20):\n",
        "                gen_input[batch][i: i+10] = y[batch]\n",
        "        return torch.Tensor(gen_input)"
      ],
      "execution_count": 0,
      "outputs": []
    },
    {
      "cell_type": "code",
      "metadata": {
        "id": "2V_6Faq9cCZa",
        "colab_type": "code",
        "outputId": "80bddd75-c0f5-4c1d-dc32-eeb4922e43b4",
        "colab": {
          "base_uri": "https://localhost:8080/",
          "height": 459
        }
      },
      "source": [
        "y_sample = y_test[10:12]\n",
        "print(y_sample)\n",
        "Generator.getGeneratorInput(y_sample, 2)"
      ],
      "execution_count": 80,
      "outputs": [
        {
          "output_type": "stream",
          "text": [
            "tensor([[0., 0., 0., 0., 0., 0., 1., 0., 0., 0.],\n",
            "        [0., 0., 0., 0., 0., 0., 1., 0., 0., 0.]])\n"
          ],
          "name": "stdout"
        },
        {
          "output_type": "execute_result",
          "data": {
            "text/plain": [
              "tensor([[0.0000, 0.0000, 0.0000, 0.0000, 0.0000, 0.0000, 1.0000, 0.0000, 0.0000,\n",
              "         0.0000, 0.7245, 0.1807, 0.3454, 0.7086, 0.7850, 0.7277, 0.4755, 0.6108,\n",
              "         0.3002, 0.6356, 0.6284, 0.3461, 0.8617, 0.8454, 0.6955, 0.2209, 0.2478,\n",
              "         0.4248, 0.8414, 0.8637, 0.9701, 0.7222, 0.9232, 0.0798, 0.5862, 0.8655,\n",
              "         0.8578, 0.5908, 0.7764, 0.7269, 0.6992, 0.3431, 0.4315, 0.7330, 0.1612,\n",
              "         0.5681, 0.0571, 0.8677, 0.8184, 0.6239, 0.2995, 0.2296, 0.9342, 0.4927,\n",
              "         0.4469, 0.5700, 0.6622, 0.3178, 0.2861, 0.6581, 0.3095, 0.7258, 0.1199,\n",
              "         0.8117, 0.0417, 0.3700, 0.7729, 0.5036, 0.0620, 0.9065, 0.4418, 0.2037,\n",
              "         0.5609, 0.2955, 0.7349, 0.8021, 0.4133, 0.9679, 0.3455, 0.9565, 0.9492,\n",
              "         0.8492, 0.2820, 0.8422, 0.8057, 0.4707, 0.6981, 0.6725, 0.0768, 0.8997,\n",
              "         0.6883, 0.5176, 0.2001, 0.6524, 0.1573, 0.3972, 0.2853, 0.7556, 0.9820,\n",
              "         0.6268],\n",
              "        [0.0000, 0.0000, 0.0000, 0.0000, 0.0000, 0.0000, 1.0000, 0.0000, 0.0000,\n",
              "         0.0000, 0.1267, 0.3879, 0.9685, 0.6122, 0.7035, 0.5488, 0.6012, 0.5385,\n",
              "         0.1152, 0.4035, 0.9069, 0.4146, 0.1442, 0.5261, 0.9229, 0.0286, 0.8536,\n",
              "         0.8426, 0.5350, 0.8964, 0.7343, 0.0139, 0.1460, 0.6710, 0.3016, 0.8034,\n",
              "         0.9442, 0.2675, 0.8733, 0.0611, 0.5276, 0.5528, 0.8689, 0.3038, 0.4325,\n",
              "         0.8433, 0.8670, 0.0935, 0.9720, 0.1858, 0.0656, 0.5057, 0.4043, 0.2667,\n",
              "         0.6113, 0.1135, 0.1022, 0.4668, 0.5158, 0.6032, 0.7402, 0.6403, 0.7298,\n",
              "         0.5204, 0.1276, 0.8767, 0.7971, 0.2158, 0.2156, 0.2890, 0.5992, 0.4757,\n",
              "         0.4687, 0.3576, 0.9996, 0.8000, 0.4696, 0.0816, 0.3263, 0.7109, 0.8368,\n",
              "         0.6132, 0.0761, 0.7642, 0.2963, 0.5211, 0.9811, 0.1293, 0.8168, 0.0879,\n",
              "         0.7758, 0.1438, 0.5531, 0.3563, 0.9223, 0.0606, 0.2256, 0.9799, 0.1599,\n",
              "         0.4098]])"
            ]
          },
          "metadata": {
            "tags": []
          },
          "execution_count": 80
        }
      ]
    },
    {
      "cell_type": "code",
      "metadata": {
        "id": "k7UwJDNg79tU",
        "colab_type": "code",
        "colab": {}
      },
      "source": [
        "class FeatureExtractor(torch.nn.Module):\n",
        "    def __init__(self):\n",
        "        super().__init__()\n",
        "        self.w1, self.b1 = get_random((784, 600)), torch.zeros(600, requires_grad=True)\n",
        "        self.w2, self.b2 = get_random((600, 600)), torch.zeros(600, requires_grad=True)\n",
        "        self.w3, self.b3 = get_random((600, 100)), torch.zeros(100, requires_grad=True)\n",
        "    \n",
        "    def forward(self, x, **kwargs):\n",
        "        h1 = sigmoid(x.matmul(self.w1) + self.b1)\n",
        "        h2 = sigmoid(h1.matmul(self.w2) + self.b2)\n",
        "        h3 = sigmoid(h2.matmul(self.w3) + self.b3)\n",
        "        return h3\n",
        "    \n",
        "    def optimize(self, lr):\n",
        "        \n",
        "        self.w1 = (self.w1 - lr * self.w1.grad).detach().requires_grad_()\n",
        "        self.w2 = (self.w2 - lr * self.w2.grad).detach().requires_grad_()\n",
        "        self.w3 = (self.w3 - lr * self.w3.grad).detach().requires_grad_()\n",
        "        \n",
        "        self.b1 = (self.b1 - lr * self.b1.grad).detach().requires_grad_()\n",
        "        self.b2 = (self.b2 - lr * self.b2.grad).detach().requires_grad_()\n",
        "        self.b3 = (self.b3 - lr * self.b3.grad).detach().requires_grad_()"
      ],
      "execution_count": 0,
      "outputs": []
    },
    {
      "cell_type": "code",
      "metadata": {
        "id": "WTpDal2i7_dy",
        "colab_type": "code",
        "colab": {}
      },
      "source": [
        "class Discriminator(torch.nn.Module):\n",
        "    def __init__(self):\n",
        "        super().__init__()\n",
        "        \n",
        "        self.conv1 = torch.nn.Conv2d(1, 64, 3, stride=2, padding=1)\n",
        "        self.conv2 = torch.nn.Conv2d(64, 64, 3, stride=2, padding=1)\n",
        "        self.fc1 = torch.nn.Linear(3136, 2)\n",
        "    \n",
        "    def forward(self, x, **kwargs):\n",
        "\n",
        "        h1 = dropout(leaky_relu(self.conv1(x)))  # TODO: Add dropout\n",
        "        h2 = dropout(leaky_relu(self.conv2(h1)))\n",
        "        h2 = h2.reshape(h2.shape[0], -1)  # Flatten\n",
        "        h3 = softmax(self.fc1(h2))\n",
        "\n",
        "        return h3\n",
        "\n",
        "    def get_parameters(self):\n",
        "        return [{'params': layer.parameters()} for layer in (self.conv1, self.conv2, self.fc1)]\n",
        "\n",
        "    @staticmethod\n",
        "    def generate_labels(sample_size, real=True):\n",
        "        labels = torch.zeros((sample_size, 2))\n",
        "        for sample in labels:\n",
        "            sample[0] = 1 if real else 0\n",
        "            sample[1] = 0 if real else 1\n",
        "        return labels"
      ],
      "execution_count": 0,
      "outputs": []
    },
    {
      "cell_type": "code",
      "metadata": {
        "id": "IR1hTfa-qWiO",
        "colab_type": "code",
        "colab": {
          "base_uri": "https://localhost:8080/",
          "height": 51
        },
        "outputId": "0509b9a2-3e01-4797-e7ec-29f4d8b8e1db"
      },
      "source": [
        "Discriminator.generate_labels(batch_size, real=False)"
      ],
      "execution_count": 55,
      "outputs": [
        {
          "output_type": "execute_result",
          "data": {
            "text/plain": [
              "tensor([[0., 1.],\n",
              "        [0., 1.]])"
            ]
          },
          "metadata": {
            "tags": []
          },
          "execution_count": 55
        }
      ]
    },
    {
      "cell_type": "code",
      "metadata": {
        "id": "svpWhbN08BZV",
        "colab_type": "code",
        "colab": {}
      },
      "source": [
        "class Classifier(torch.nn.Module):\n",
        "    def __init__(self):\n",
        "        super().__init__()\n",
        "        self.w1, self.b1 = get_random((784, 600)), torch.zeros(600, requires_grad=True)\n",
        "        self.w2, self.b2 = get_random((600, 600)), torch.zeros(600, requires_grad=True)\n",
        "        self.w3, self.b3 = get_random((600, 10)), torch.zeros(10, requires_grad=True)\n",
        "    \n",
        "    def forward(self, x, **kwargs):\n",
        "        h1 = sigmoid(x.matmul(self.w1) + self.b1)\n",
        "        h2 = sigmoid(h1.matmul(self.w2) + self.b2)\n",
        "        h3 = softmax(h2.matmul(self.w3) + self.b3)\n",
        "        return h3\n",
        "    \n",
        "    def optimize(self, lr):\n",
        "        self.w1 = (self.w1 - lr * self.w1.grad).detach().requires_grad_()\n",
        "        self.w2 = (self.w2 - lr * self.w2.grad).detach().requires_grad_()\n",
        "        self.w3 = (self.w3 - lr * self.w3.grad).detach().requires_grad_()\n",
        "        \n",
        "        self.b1 = (self.b1 - lr * self.b1.grad).detach().requires_grad_()\n",
        "        self.b2 = (self.b2 - lr * self.b2.grad).detach().requires_grad_()\n",
        "        self.b3 = (self.b3 - lr * self.b3.grad).detach().requires_grad_()"
      ],
      "execution_count": 0,
      "outputs": []
    },
    {
      "cell_type": "code",
      "metadata": {
        "id": "3SWj9V7vL-o5",
        "colab_type": "code",
        "colab": {}
      },
      "source": [
        "class Gan(torch.nn.Module):\n",
        "    def __init__(self, generator, discriminator):\n",
        "        super().__init__()\n",
        "        self.g = generator\n",
        "        self.d = discriminator\n",
        "\n",
        "    def forward(self, x, real=False):\n",
        "        if real:\n",
        "            self.d(x)"
      ],
      "execution_count": 0,
      "outputs": []
    },
    {
      "cell_type": "code",
      "metadata": {
        "id": "-7MnX8wr8C1h",
        "colab_type": "code",
        "colab": {}
      },
      "source": [
        "# fe = FeatureExtractor()\n",
        "# classifier = Classifier()\n",
        "discriminator = Discriminator().to(device)\n",
        "generator = Generator().to(device)\n",
        "\n",
        "d_optimizer = torch.optim.Adam(discriminator.parameters(), lr=0.001)\n",
        "g_optimizer = torch.optim.Adam(generator.parameters(), lr=0.01)"
      ],
      "execution_count": 0,
      "outputs": []
    },
    {
      "cell_type": "markdown",
      "metadata": {
        "id": "Pyzrb6pIXOa8",
        "colab_type": "text"
      },
      "source": [
        "## GAN Only"
      ]
    },
    {
      "cell_type": "code",
      "metadata": {
        "id": "q2iSAwOUXQlV",
        "colab_type": "code",
        "colab": {}
      },
      "source": [
        "def train_d():\n",
        "\n",
        "    batch_size = 200\n",
        "    losses = [0, 0]\n",
        "    for i in range(0, len(x_train), batch_size):\n",
        "        start_index = i\n",
        "        end_index = i+batch_size\n",
        "        \n",
        "        x_batch = x_train[start_index:end_index].to(device)\n",
        "        y_batch = y_train[start_index:end_index]\n",
        "\n",
        "        real = Discriminator.generate_labels(batch_size).to(device)\n",
        "        fake = Discriminator.generate_labels(batch_size, real=False).to(device)\n",
        "    \n",
        "        \n",
        "        # ------------ Train with real image ----------------\n",
        "\n",
        "        d_optimizer.zero_grad()\n",
        "        g_optimizer.zero_grad()\n",
        "        \n",
        "        discriminator_out = discriminator(x_batch)\n",
        "        \n",
        "        loss_discriminator_real = binary_cross_entropy(discriminator_out, real)\n",
        "\n",
        "        # --------------- Train with fake image -------------------\n",
        "\n",
        "        generator_input = Generator.getGeneratorInput(y_batch, batch_size).to(device)\n",
        "        \n",
        "        generated = generator(generator_input)\n",
        "        discriminator_out = discriminator(generated)\n",
        "        \n",
        "        loss_discriminator = binary_cross_entropy(discriminator_out, fake)\n",
        "        \n",
        "        # ---------------- Optimize --------------------\n",
        "\n",
        "        loss = loss_discriminator_real + loss_discriminator\n",
        "\n",
        "        loss.backward()\n",
        "        d_optimizer.step()\n",
        "        \n",
        "        losses[0] += float(loss_discriminator_real)\n",
        "        losses[1] += float(loss_discriminator)\n",
        "\n",
        "        # if i % 100 == 0:\n",
        "            # print(f'        losses: {(float(loss_discriminator_real), float(loss_discriminator))}')\n",
        "        \n",
        "    print(f'  D Losses: {losses}')"
      ],
      "execution_count": 0,
      "outputs": []
    },
    {
      "cell_type": "code",
      "metadata": {
        "id": "S9r513zXdyGM",
        "colab_type": "code",
        "colab": {}
      },
      "source": [
        "def train_g():\n",
        "\n",
        "    batch_size = 200\n",
        "\n",
        "    losses = 0\n",
        "    for i in range(0, len(x_train), batch_size):\n",
        "        start_index = i\n",
        "        end_index = i+batch_size\n",
        "        \n",
        "        x_batch = x_train[start_index:end_index]\n",
        "        y_batch = y_train[start_index:end_index]\n",
        "\n",
        "        real = Discriminator.generate_labels(batch_size).to(device)\n",
        "    \n",
        "        d_optimizer.zero_grad()\n",
        "        g_optimizer.zero_grad()\n",
        "\n",
        "        generator_input = Generator.getGeneratorInput(y_batch, batch_size).to(device)\n",
        "        \n",
        "        generated = generator(generator_input)\n",
        "        discriminator_out = discriminator(generated)\n",
        "\n",
        "        loss_generator = binary_cross_entropy(discriminator_out, real)\n",
        "        \n",
        "        loss_generator.backward()\n",
        "        g_optimizer.step()\n",
        "\n",
        "        losses += float(loss_generator)\n",
        "\n",
        "        # if i % 100 == 0:\n",
        "            # print(f'        losses: {float(loss_generator)}')\n",
        "            \n",
        "    print(f'  G Losses: {losses}')"
      ],
      "execution_count": 0,
      "outputs": []
    },
    {
      "cell_type": "code",
      "metadata": {
        "id": "H4B7bzv-izSe",
        "colab_type": "code",
        "colab": {
          "base_uri": "https://localhost:8080/",
          "height": 1000
        },
        "outputId": "02548179-39a0-4582-e40c-41a0699460bc"
      },
      "source": [
        "epochs = 50\n",
        "losses = [0, 0]\n",
        "for epoch in range(epochs):\n",
        "    print(f'Epoch: {epoch}')\n",
        "    if epoch % 10 == 0:\n",
        "        train_d()\n",
        "    train_g()"
      ],
      "execution_count": 87,
      "outputs": [
        {
          "output_type": "stream",
          "text": [
            "Epoch: 0\n"
          ],
          "name": "stdout"
        },
        {
          "output_type": "stream",
          "text": [
            "/usr/local/lib/python3.6/dist-packages/ipykernel_launcher.py:14: UserWarning: Implicit dimension choice for softmax has been deprecated. Change the call to include dim=X as an argument.\n",
            "  \n"
          ],
          "name": "stderr"
        },
        {
          "output_type": "stream",
          "text": [
            "  D Losses: [2.9009516835212708, 2.5694135427474976]\n",
            "  G Losses: 2.656028300523758\n",
            "Epoch: 1\n",
            "  G Losses: 1.2676369547843933\n",
            "Epoch: 2\n",
            "  G Losses: 1.2775112986564636\n",
            "Epoch: 3\n",
            "  G Losses: 1.2789261937141418\n",
            "Epoch: 4\n",
            "  G Losses: 1.2756428122520447\n",
            "Epoch: 5\n",
            "  G Losses: 1.2691766321659088\n",
            "Epoch: 6\n",
            "  G Losses: 1.281274139881134\n",
            "Epoch: 7\n",
            "  G Losses: 1.279291719198227\n",
            "Epoch: 8\n",
            "  G Losses: 1.271279662847519\n",
            "Epoch: 9\n",
            "  G Losses: 1.2690344750881195\n",
            "Epoch: 10\n",
            "  D Losses: [2.530480772256851, 4.5395229160785675]\n",
            "  G Losses: 6.400903105735779\n",
            "Epoch: 11\n",
            "  G Losses: 6.39644467830658\n",
            "Epoch: 12\n",
            "  G Losses: 6.393760442733765\n",
            "Epoch: 13\n",
            "  G Losses: 6.422759294509888\n",
            "Epoch: 14\n",
            "  G Losses: 6.4287790060043335\n",
            "Epoch: 15\n",
            "  G Losses: 6.409407377243042\n",
            "Epoch: 16\n",
            "  G Losses: 6.389157295227051\n",
            "Epoch: 17\n",
            "  G Losses: 6.421555161476135\n",
            "Epoch: 18\n",
            "  G Losses: 6.431598424911499\n",
            "Epoch: 19\n",
            "  G Losses: 6.380217432975769\n",
            "Epoch: 20\n",
            "  D Losses: [1.5611878708004951, 1.8806900382041931]\n",
            "  G Losses: 6.138464450836182\n",
            "Epoch: 21\n",
            "  G Losses: 6.121037602424622\n",
            "Epoch: 22\n",
            "  G Losses: 6.1276936531066895\n",
            "Epoch: 23\n",
            "  G Losses: 6.13356351852417\n",
            "Epoch: 24\n",
            "  G Losses: 6.087881565093994\n",
            "Epoch: 25\n",
            "  G Losses: 6.084750175476074\n",
            "Epoch: 26\n",
            "  G Losses: 6.143603086471558\n",
            "Epoch: 27\n",
            "  G Losses: 6.1454774141311646\n",
            "Epoch: 28\n",
            "  G Losses: 6.116373300552368\n",
            "Epoch: 29\n",
            "  G Losses: 6.074029207229614\n",
            "Epoch: 30\n",
            "  D Losses: [0.24923383072018623, 1.0435508415102959]\n",
            "  G Losses: 15.339723110198975\n",
            "Epoch: 31\n",
            "  G Losses: 15.403182983398438\n",
            "Epoch: 32\n",
            "  G Losses: 15.282775640487671\n",
            "Epoch: 33\n",
            "  G Losses: 15.36514401435852\n",
            "Epoch: 34\n",
            "  G Losses: 15.363939046859741\n",
            "Epoch: 35\n",
            "  G Losses: 15.33155107498169\n",
            "Epoch: 36\n",
            "  G Losses: 15.321328163146973\n",
            "Epoch: 37\n",
            "  G Losses: 15.345332622528076\n",
            "Epoch: 38\n",
            "  G Losses: 15.250502109527588\n",
            "Epoch: 39\n",
            "  G Losses: 15.2605299949646\n",
            "Epoch: 40\n",
            "  D Losses: [0.2576179727911949, 0.1315015573054552]\n",
            "  G Losses: 23.547292709350586\n",
            "Epoch: 41\n",
            "  G Losses: 23.52880573272705\n",
            "Epoch: 42\n",
            "  G Losses: 23.67503309249878\n",
            "Epoch: 43\n",
            "  G Losses: 23.515116691589355\n",
            "Epoch: 44\n",
            "  G Losses: 23.519692420959473\n",
            "Epoch: 45\n",
            "  G Losses: 23.645609855651855\n",
            "Epoch: 46\n",
            "  G Losses: 23.51500368118286\n",
            "Epoch: 47\n",
            "  G Losses: 23.55954360961914\n",
            "Epoch: 48\n",
            "  G Losses: 23.638808250427246\n",
            "Epoch: 49\n",
            "  G Losses: 23.447319984436035\n"
          ],
          "name": "stdout"
        }
      ]
    },
    {
      "cell_type": "code",
      "metadata": {
        "id": "wdos9mWoaCcU",
        "colab_type": "code",
        "outputId": "4afea4c2-45d9-4c58-98a4-1a5d6810f744",
        "colab": {
          "base_uri": "https://localhost:8080/",
          "height": 1000
        }
      },
      "source": [
        "with torch.no_grad():\n",
        "    \n",
        "    index = 33\n",
        "    batch_size = 2\n",
        "    \n",
        "    x_sample = x_test[index:index+batch_size].to(device)\n",
        "    y_sample = y_test[index:index+batch_size]\n",
        "\n",
        "    generator_input = Generator.getGeneratorInput(y_sample, batch_size).to(device)\n",
        "\n",
        "    generated = generator(generator_input)\n",
        "    discriminator_out = discriminator(generated)\n",
        "    \n",
        "    real_discriminator_out = discriminator(x_sample)\n",
        "    \n",
        "    for i in range(batch_size):\n",
        "        plot_image(generated[i].reshape((28, 28)).cpu())\n",
        "        plt.show()\n",
        "        plot_image(x_sample[i].reshape((28, 28)).cpu())\n",
        "        plt.show()\n",
        "        \n",
        "    \n",
        "    print(f\"Discriminator_out fake: {discriminator_out}\\nReal Img Discriminator Out: {real_discriminator_out}\")"
      ],
      "execution_count": 78,
      "outputs": [
        {
          "output_type": "stream",
          "text": [
            "/usr/local/lib/python3.6/dist-packages/ipykernel_launcher.py:14: UserWarning: Implicit dimension choice for softmax has been deprecated. Change the call to include dim=X as an argument.\n",
            "  \n"
          ],
          "name": "stderr"
        },
        {
          "output_type": "display_data",
          "data": {
            "image/png": "[encoded data removed]",
            "text/plain": [
              "<Figure size 432x288 with 1 Axes>"
            ]
          },
          "metadata": {
            "tags": [],
            "needs_background": "light"
          }
        },
        {
          "output_type": "display_data",
          "data": {
            "image/png": "[encoded data removed]",
            "text/plain": [
              "<Figure size 432x288 with 1 Axes>"
            ]
          },
          "metadata": {
            "tags": [],
            "needs_background": "light"
          }
        },
        {
          "output_type": "display_data",
          "data": {
            "image/png": "[encoded data removed]",
            "text/plain": [
              "<Figure size 432x288 with 1 Axes>"
            ]
          },
          "metadata": {
            "tags": [],
            "needs_background": "light"
          }
        },
        {
          "output_type": "display_data",
          "data": {
            "image/png": "[encoded data removed]",
            "text/plain": [
              "<Figure size 432x288 with 1 Axes>"
            ]
          },
          "metadata": {
            "tags": [],
            "needs_background": "light"
          }
        },
        {
          "output_type": "stream",
          "text": [
            "Discriminator_out fake: tensor([[5.7335e-03, 9.9427e-01],\n",
            "        [6.9326e-04, 9.9931e-01]], device='cuda:0')\n",
            "Real Img Discriminator Out: tensor([[1.0000e+00, 6.6925e-08],\n",
            "        [9.9999e-01, 1.3373e-05]], device='cuda:0')\n"
          ],
          "name": "stdout"
        }
      ]
    },
    {
      "cell_type": "markdown",
      "metadata": {
        "id": "rrS5g9M2XTv7",
        "colab_type": "text"
      },
      "source": [
        "# Selective GAN"
      ]
    },
    {
      "cell_type": "code",
      "metadata": {
        "id": "NVU0vV5_8ETE",
        "colab_type": "code",
        "outputId": "fb90d5bc-b38d-4137-a791-5d920e0d9478",
        "colab": {
          "base_uri": "https://localhost:8080/",
          "height": 248
        }
      },
      "source": [
        "batch_size = 200\n",
        "epochs = 50\n",
        "\n",
        "for epoch in range(epochs):\n",
        "    print(f'Epoch: {epoch}')\n",
        "    losses = [0, 0, 0, 0]\n",
        "    for i in range(0, len(x_train), batch_size):\n",
        "        start_index = i\n",
        "        end_index = i+batch_size\n",
        "        \n",
        "        x_batch = x_train[start_index:end_index]\n",
        "        y_batch = y_train[start_index:end_index]\n",
        "    \n",
        "        \n",
        "        # ------------ Train with real image ----------------\n",
        "        real = Discriminator.generate_labels(batch_size)\n",
        "        fake = Discriminator.generate_labels(batch_size, real=False)\n",
        "        \n",
        "        features = fe(x_batch)\n",
        "        discriminator_out = discriminator(features)\n",
        "        classifier_out = classifier(features)\n",
        "        \n",
        "        loss_discriminator = binary_cross_entropy(discriminator_out, real)\n",
        "        loss_classifier = binary_cross_entropy(classifier_out, y_batch)\n",
        "        \n",
        "        loss = loss_discriminator + loss_classifier\n",
        "        loss.backward()\n",
        "        discriminator.optimize(0.1)\n",
        "        classifier.optimize(0.1)\n",
        "        fe.optimize(0.1)\n",
        "        \n",
        "        losses[0] += float(loss)\n",
        "        \n",
        "        # --------------- Train with fake image -------------------\n",
        "\n",
        "        generator_input = Generator.getGeneratorInput(y_batch, batch_size)\n",
        "        \n",
        "        generated = generator(generator_input)\n",
        "        features = fe(generated)\n",
        "        discriminator_out = discriminator(features)\n",
        "        classifier_out = classifier(features)\n",
        "        \n",
        "        loss_discriminator = binary_cross_entropy(discriminator_out, fake)\n",
        "        loss_generator = binary_cross_entropy(discriminator_out, real)\n",
        "        loss_classifier = binary_cross_entropy(classifier_out, y_batch)\n",
        "        loss = loss_discriminator + loss_classifier\n",
        "        \n",
        "        loss.backward(retain_graph=True)\n",
        "        \n",
        "        discriminator.optimize(0.1)\n",
        "        fe.optimize(0.1)\n",
        "        \n",
        "        generator.zero_grad()\n",
        "        loss_generator.backward()\n",
        "        generator.optimize(0.1)\n",
        "        \n",
        "        losses[1] += float(loss_discriminator)\n",
        "        losses[2] += float(loss_classifier)\n",
        "        losses[3] += float(loss_generator)\n",
        "        \n",
        "    print(f'  Losses: {losses}')"
      ],
      "execution_count": 20,
      "outputs": [
        {
          "output_type": "stream",
          "text": [
            "Epoch: 0\n"
          ],
          "name": "stdout"
        },
        {
          "output_type": "error",
          "ename": "NameError",
          "evalue": "ignored",
          "traceback": [
            "\u001b[0;31m---------------------------------------------------------------------------\u001b[0m",
            "\u001b[0;31mNameError\u001b[0m                                 Traceback (most recent call last)",
            "\u001b[0;32m<ipython-input-20-e16d4c26a37a>\u001b[0m in \u001b[0;36m<module>\u001b[0;34m()\u001b[0m\n\u001b[1;32m     17\u001b[0m         \u001b[0mfake\u001b[0m \u001b[0;34m=\u001b[0m \u001b[0mDiscriminator\u001b[0m\u001b[0;34m.\u001b[0m\u001b[0mgenerate_labels\u001b[0m\u001b[0;34m(\u001b[0m\u001b[0mbatch_size\u001b[0m\u001b[0;34m,\u001b[0m \u001b[0mreal\u001b[0m\u001b[0;34m=\u001b[0m\u001b[0;32mFalse\u001b[0m\u001b[0;34m)\u001b[0m\u001b[0;34m\u001b[0m\u001b[0;34m\u001b[0m\u001b[0m\n\u001b[1;32m     18\u001b[0m \u001b[0;34m\u001b[0m\u001b[0m\n\u001b[0;32m---> 19\u001b[0;31m         \u001b[0mfeatures\u001b[0m \u001b[0;34m=\u001b[0m \u001b[0mfe\u001b[0m\u001b[0;34m(\u001b[0m\u001b[0mx_batch\u001b[0m\u001b[0;34m)\u001b[0m\u001b[0;34m\u001b[0m\u001b[0;34m\u001b[0m\u001b[0m\n\u001b[0m\u001b[1;32m     20\u001b[0m         \u001b[0mdiscriminator_out\u001b[0m \u001b[0;34m=\u001b[0m \u001b[0mdiscriminator\u001b[0m\u001b[0;34m(\u001b[0m\u001b[0mfeatures\u001b[0m\u001b[0;34m)\u001b[0m\u001b[0;34m\u001b[0m\u001b[0;34m\u001b[0m\u001b[0m\n\u001b[1;32m     21\u001b[0m         \u001b[0mclassifier_out\u001b[0m \u001b[0;34m=\u001b[0m \u001b[0mclassifier\u001b[0m\u001b[0;34m(\u001b[0m\u001b[0mfeatures\u001b[0m\u001b[0;34m)\u001b[0m\u001b[0;34m\u001b[0m\u001b[0;34m\u001b[0m\u001b[0m\n",
            "\u001b[0;31mNameError\u001b[0m: name 'fe' is not defined"
          ]
        }
      ]
    },
    {
      "cell_type": "code",
      "metadata": {
        "id": "NmnS51pL8Gxg",
        "colab_type": "code",
        "colab": {}
      },
      "source": [
        "with torch.no_grad():\n",
        "    \n",
        "    index = 133\n",
        "    batch_size = 2\n",
        "    \n",
        "    x_sample = x_test[index:index+batch_size]\n",
        "    y_sample = y_test[index:index+batch_size]\n",
        "    \n",
        "    generator_input = Generator.getGeneratorInput(y_sample, batch_size)\n",
        "        \n",
        "    generated = generator(generator_input)\n",
        "    features = fe(generated)\n",
        "    discriminator_out = discriminator(features)\n",
        "    \n",
        "    features = fe(x_sample)\n",
        "    real_discriminator_out = discriminator(features)\n",
        "    classifier_out = classifier(features)\n",
        "\n",
        "    \n",
        "    for i in range(batch_size):\n",
        "        plot_image(generated[i].reshape((28, 28)))\n",
        "        plt.show()\n",
        "        plot_image(x_sample[i].reshape((28, 28)))\n",
        "        plt.show()\n",
        "        \n",
        "    \n",
        "    print(f\"Discriminator_out fake: {discriminator_out}\\nReal Img Discriminator Out: {real_discriminator_out}\")\n",
        "    print(f\"\\nClass: {classifier_out}\\nReal class: {y_sample}\")"
      ],
      "execution_count": 0,
      "outputs": []
    },
    {
      "cell_type": "code",
      "metadata": {
        "id": "TYtIu8Fp9es6",
        "colab_type": "code",
        "colab": {}
      },
      "source": [
        "with torch.no_grad():\n",
        "    index = 133\n",
        "    x_sample = x_test[index:index+2]\n",
        "    y_sample = y_test[index:index+2]\n",
        "    y_pred = classifier(fe(x_sample))\n",
        "    print(y_pred)\n",
        "    print(y_sample)"
      ],
      "execution_count": 0,
      "outputs": []
    },
    {
      "cell_type": "code",
      "metadata": {
        "id": "OQqsDNdsbKtg",
        "colab_type": "code",
        "colab": {}
      },
      "source": [
        ""
      ],
      "execution_count": 0,
      "outputs": []
    }
  ]
}