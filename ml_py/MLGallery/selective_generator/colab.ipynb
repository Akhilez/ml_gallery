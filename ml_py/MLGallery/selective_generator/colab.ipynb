{
  "nbformat": 4,
  "nbformat_minor": 0,
  "metadata": {
    "colab": {
      "name": "Selective_GAN.ipynb",
      "provenance": [],
      "authorship_tag": "ABX9TyM5ZXt7jZOaCZZr3DYrWDQR",
      "include_colab_link": true
    },
    "kernelspec": {
      "name": "python3",
      "display_name": "Python 3"
    },
    "widgets": {
      "application/vnd.jupyter.widget-state+json": {
        "29479d5c465240fd8495e51b18d08608": {
          "model_module": "@jupyter-widgets/controls",
          "model_name": "HBoxModel",
          "state": {
            "_view_name": "HBoxView",
            "_dom_classes": [],
            "_model_name": "HBoxModel",
            "_view_module": "@jupyter-widgets/controls",
            "_model_module_version": "1.5.0",
            "_view_count": null,
            "_view_module_version": "1.5.0",
            "box_style": "",
            "layout": "IPY_MODEL_2b808d569b584fe398fe03cedc58cd9c",
            "_model_module": "@jupyter-widgets/controls",
            "children": [
              "IPY_MODEL_7f7d17d21a644c60a73ea3a872965d7b",
              "IPY_MODEL_fed1398d1ca14cd7a12d20fb0c7e7b89"
            ]
          }
        },
        "2b808d569b584fe398fe03cedc58cd9c": {
          "model_module": "@jupyter-widgets/base",
          "model_name": "LayoutModel",
          "state": {
            "_view_name": "LayoutView",
            "grid_template_rows": null,
            "right": null,
            "justify_content": null,
            "_view_module": "@jupyter-widgets/base",
            "overflow": null,
            "_model_module_version": "1.2.0",
            "_view_count": null,
            "flex_flow": null,
            "width": null,
            "min_width": null,
            "border": null,
            "align_items": null,
            "bottom": null,
            "_model_module": "@jupyter-widgets/base",
            "top": null,
            "grid_column": null,
            "overflow_y": null,
            "overflow_x": null,
            "grid_auto_flow": null,
            "grid_area": null,
            "grid_template_columns": null,
            "flex": null,
            "_model_name": "LayoutModel",
            "justify_items": null,
            "grid_row": null,
            "max_height": null,
            "align_content": null,
            "visibility": null,
            "align_self": null,
            "height": null,
            "min_height": null,
            "padding": null,
            "grid_auto_rows": null,
            "grid_gap": null,
            "max_width": null,
            "order": null,
            "_view_module_version": "1.2.0",
            "grid_template_areas": null,
            "object_position": null,
            "object_fit": null,
            "grid_auto_columns": null,
            "margin": null,
            "display": null,
            "left": null
          }
        },
        "7f7d17d21a644c60a73ea3a872965d7b": {
          "model_module": "@jupyter-widgets/controls",
          "model_name": "IntProgressModel",
          "state": {
            "_view_name": "ProgressView",
            "style": "IPY_MODEL_efed30db0174427681eaec678245ec69",
            "_dom_classes": [],
            "description": "",
            "_model_name": "IntProgressModel",
            "bar_style": "info",
            "max": 1,
            "_view_module": "@jupyter-widgets/controls",
            "_model_module_version": "1.5.0",
            "value": 1,
            "_view_count": null,
            "_view_module_version": "1.5.0",
            "orientation": "horizontal",
            "min": 0,
            "description_tooltip": null,
            "_model_module": "@jupyter-widgets/controls",
            "layout": "IPY_MODEL_e11dc00b7d494a7eb098f3cd0487653c"
          }
        },
        "fed1398d1ca14cd7a12d20fb0c7e7b89": {
          "model_module": "@jupyter-widgets/controls",
          "model_name": "HTMLModel",
          "state": {
            "_view_name": "HTMLView",
            "style": "IPY_MODEL_f3384ba0c32f440c946045ad80e21f20",
            "_dom_classes": [],
            "description": "",
            "_model_name": "HTMLModel",
            "placeholder": "​",
            "_view_module": "@jupyter-widgets/controls",
            "_model_module_version": "1.5.0",
            "value": " 9920512/? [00:19&lt;00:00, 9663504.95it/s]",
            "_view_count": null,
            "_view_module_version": "1.5.0",
            "description_tooltip": null,
            "_model_module": "@jupyter-widgets/controls",
            "layout": "IPY_MODEL_74386e7e3b5a4c9a87f31851c7a96a0e"
          }
        },
        "efed30db0174427681eaec678245ec69": {
          "model_module": "@jupyter-widgets/controls",
          "model_name": "ProgressStyleModel",
          "state": {
            "_view_name": "StyleView",
            "_model_name": "ProgressStyleModel",
            "description_width": "initial",
            "_view_module": "@jupyter-widgets/base",
            "_model_module_version": "1.5.0",
            "_view_count": null,
            "_view_module_version": "1.2.0",
            "bar_color": null,
            "_model_module": "@jupyter-widgets/controls"
          }
        },
        "e11dc00b7d494a7eb098f3cd0487653c": {
          "model_module": "@jupyter-widgets/base",
          "model_name": "LayoutModel",
          "state": {
            "_view_name": "LayoutView",
            "grid_template_rows": null,
            "right": null,
            "justify_content": null,
            "_view_module": "@jupyter-widgets/base",
            "overflow": null,
            "_model_module_version": "1.2.0",
            "_view_count": null,
            "flex_flow": null,
            "width": null,
            "min_width": null,
            "border": null,
            "align_items": null,
            "bottom": null,
            "_model_module": "@jupyter-widgets/base",
            "top": null,
            "grid_column": null,
            "overflow_y": null,
            "overflow_x": null,
            "grid_auto_flow": null,
            "grid_area": null,
            "grid_template_columns": null,
            "flex": null,
            "_model_name": "LayoutModel",
            "justify_items": null,
            "grid_row": null,
            "max_height": null,
            "align_content": null,
            "visibility": null,
            "align_self": null,
            "height": null,
            "min_height": null,
            "padding": null,
            "grid_auto_rows": null,
            "grid_gap": null,
            "max_width": null,
            "order": null,
            "_view_module_version": "1.2.0",
            "grid_template_areas": null,
            "object_position": null,
            "object_fit": null,
            "grid_auto_columns": null,
            "margin": null,
            "display": null,
            "left": null
          }
        },
        "f3384ba0c32f440c946045ad80e21f20": {
          "model_module": "@jupyter-widgets/controls",
          "model_name": "DescriptionStyleModel",
          "state": {
            "_view_name": "StyleView",
            "_model_name": "DescriptionStyleModel",
            "description_width": "",
            "_view_module": "@jupyter-widgets/base",
            "_model_module_version": "1.5.0",
            "_view_count": null,
            "_view_module_version": "1.2.0",
            "_model_module": "@jupyter-widgets/controls"
          }
        },
        "74386e7e3b5a4c9a87f31851c7a96a0e": {
          "model_module": "@jupyter-widgets/base",
          "model_name": "LayoutModel",
          "state": {
            "_view_name": "LayoutView",
            "grid_template_rows": null,
            "right": null,
            "justify_content": null,
            "_view_module": "@jupyter-widgets/base",
            "overflow": null,
            "_model_module_version": "1.2.0",
            "_view_count": null,
            "flex_flow": null,
            "width": null,
            "min_width": null,
            "border": null,
            "align_items": null,
            "bottom": null,
            "_model_module": "@jupyter-widgets/base",
            "top": null,
            "grid_column": null,
            "overflow_y": null,
            "overflow_x": null,
            "grid_auto_flow": null,
            "grid_area": null,
            "grid_template_columns": null,
            "flex": null,
            "_model_name": "LayoutModel",
            "justify_items": null,
            "grid_row": null,
            "max_height": null,
            "align_content": null,
            "visibility": null,
            "align_self": null,
            "height": null,
            "min_height": null,
            "padding": null,
            "grid_auto_rows": null,
            "grid_gap": null,
            "max_width": null,
            "order": null,
            "_view_module_version": "1.2.0",
            "grid_template_areas": null,
            "object_position": null,
            "object_fit": null,
            "grid_auto_columns": null,
            "margin": null,
            "display": null,
            "left": null
          }
        },
        "2f253460e9374e19b6d7f85ec80868a4": {
          "model_module": "@jupyter-widgets/controls",
          "model_name": "HBoxModel",
          "state": {
            "_view_name": "HBoxView",
            "_dom_classes": [],
            "_model_name": "HBoxModel",
            "_view_module": "@jupyter-widgets/controls",
            "_model_module_version": "1.5.0",
            "_view_count": null,
            "_view_module_version": "1.5.0",
            "box_style": "",
            "layout": "IPY_MODEL_f127e147a2c74a518ec12848899a9970",
            "_model_module": "@jupyter-widgets/controls",
            "children": [
              "IPY_MODEL_939aeafb3f684b169b49e026a4b416b8",
              "IPY_MODEL_1af6d2cc2260487fa6c55535831aa55c"
            ]
          }
        },
        "f127e147a2c74a518ec12848899a9970": {
          "model_module": "@jupyter-widgets/base",
          "model_name": "LayoutModel",
          "state": {
            "_view_name": "LayoutView",
            "grid_template_rows": null,
            "right": null,
            "justify_content": null,
            "_view_module": "@jupyter-widgets/base",
            "overflow": null,
            "_model_module_version": "1.2.0",
            "_view_count": null,
            "flex_flow": null,
            "width": null,
            "min_width": null,
            "border": null,
            "align_items": null,
            "bottom": null,
            "_model_module": "@jupyter-widgets/base",
            "top": null,
            "grid_column": null,
            "overflow_y": null,
            "overflow_x": null,
            "grid_auto_flow": null,
            "grid_area": null,
            "grid_template_columns": null,
            "flex": null,
            "_model_name": "LayoutModel",
            "justify_items": null,
            "grid_row": null,
            "max_height": null,
            "align_content": null,
            "visibility": null,
            "align_self": null,
            "height": null,
            "min_height": null,
            "padding": null,
            "grid_auto_rows": null,
            "grid_gap": null,
            "max_width": null,
            "order": null,
            "_view_module_version": "1.2.0",
            "grid_template_areas": null,
            "object_position": null,
            "object_fit": null,
            "grid_auto_columns": null,
            "margin": null,
            "display": null,
            "left": null
          }
        },
        "939aeafb3f684b169b49e026a4b416b8": {
          "model_module": "@jupyter-widgets/controls",
          "model_name": "IntProgressModel",
          "state": {
            "_view_name": "ProgressView",
            "style": "IPY_MODEL_e998a67b535448b291037aa769f0c658",
            "_dom_classes": [],
            "description": "",
            "_model_name": "IntProgressModel",
            "bar_style": "success",
            "max": 1,
            "_view_module": "@jupyter-widgets/controls",
            "_model_module_version": "1.5.0",
            "value": 1,
            "_view_count": null,
            "_view_module_version": "1.5.0",
            "orientation": "horizontal",
            "min": 0,
            "description_tooltip": null,
            "_model_module": "@jupyter-widgets/controls",
            "layout": "IPY_MODEL_dea14862195146e88a636942b0c7d13e"
          }
        },
        "1af6d2cc2260487fa6c55535831aa55c": {
          "model_module": "@jupyter-widgets/controls",
          "model_name": "HTMLModel",
          "state": {
            "_view_name": "HTMLView",
            "style": "IPY_MODEL_97746532fded4d48acdeb9332d398f0f",
            "_dom_classes": [],
            "description": "",
            "_model_name": "HTMLModel",
            "placeholder": "​",
            "_view_module": "@jupyter-widgets/controls",
            "_model_module_version": "1.5.0",
            "value": " 32768/? [00:00&lt;00:00, 247031.08it/s]",
            "_view_count": null,
            "_view_module_version": "1.5.0",
            "description_tooltip": null,
            "_model_module": "@jupyter-widgets/controls",
            "layout": "IPY_MODEL_01097a97dccb4af5b069c5acd277eef9"
          }
        },
        "e998a67b535448b291037aa769f0c658": {
          "model_module": "@jupyter-widgets/controls",
          "model_name": "ProgressStyleModel",
          "state": {
            "_view_name": "StyleView",
            "_model_name": "ProgressStyleModel",
            "description_width": "initial",
            "_view_module": "@jupyter-widgets/base",
            "_model_module_version": "1.5.0",
            "_view_count": null,
            "_view_module_version": "1.2.0",
            "bar_color": null,
            "_model_module": "@jupyter-widgets/controls"
          }
        },
        "dea14862195146e88a636942b0c7d13e": {
          "model_module": "@jupyter-widgets/base",
          "model_name": "LayoutModel",
          "state": {
            "_view_name": "LayoutView",
            "grid_template_rows": null,
            "right": null,
            "justify_content": null,
            "_view_module": "@jupyter-widgets/base",
            "overflow": null,
            "_model_module_version": "1.2.0",
            "_view_count": null,
            "flex_flow": null,
            "width": null,
            "min_width": null,
            "border": null,
            "align_items": null,
            "bottom": null,
            "_model_module": "@jupyter-widgets/base",
            "top": null,
            "grid_column": null,
            "overflow_y": null,
            "overflow_x": null,
            "grid_auto_flow": null,
            "grid_area": null,
            "grid_template_columns": null,
            "flex": null,
            "_model_name": "LayoutModel",
            "justify_items": null,
            "grid_row": null,
            "max_height": null,
            "align_content": null,
            "visibility": null,
            "align_self": null,
            "height": null,
            "min_height": null,
            "padding": null,
            "grid_auto_rows": null,
            "grid_gap": null,
            "max_width": null,
            "order": null,
            "_view_module_version": "1.2.0",
            "grid_template_areas": null,
            "object_position": null,
            "object_fit": null,
            "grid_auto_columns": null,
            "margin": null,
            "display": null,
            "left": null
          }
        },
        "97746532fded4d48acdeb9332d398f0f": {
          "model_module": "@jupyter-widgets/controls",
          "model_name": "DescriptionStyleModel",
          "state": {
            "_view_name": "StyleView",
            "_model_name": "DescriptionStyleModel",
            "description_width": "",
            "_view_module": "@jupyter-widgets/base",
            "_model_module_version": "1.5.0",
            "_view_count": null,
            "_view_module_version": "1.2.0",
            "_model_module": "@jupyter-widgets/controls"
          }
        },
        "01097a97dccb4af5b069c5acd277eef9": {
          "model_module": "@jupyter-widgets/base",
          "model_name": "LayoutModel",
          "state": {
            "_view_name": "LayoutView",
            "grid_template_rows": null,
            "right": null,
            "justify_content": null,
            "_view_module": "@jupyter-widgets/base",
            "overflow": null,
            "_model_module_version": "1.2.0",
            "_view_count": null,
            "flex_flow": null,
            "width": null,
            "min_width": null,
            "border": null,
            "align_items": null,
            "bottom": null,
            "_model_module": "@jupyter-widgets/base",
            "top": null,
            "grid_column": null,
            "overflow_y": null,
            "overflow_x": null,
            "grid_auto_flow": null,
            "grid_area": null,
            "grid_template_columns": null,
            "flex": null,
            "_model_name": "LayoutModel",
            "justify_items": null,
            "grid_row": null,
            "max_height": null,
            "align_content": null,
            "visibility": null,
            "align_self": null,
            "height": null,
            "min_height": null,
            "padding": null,
            "grid_auto_rows": null,
            "grid_gap": null,
            "max_width": null,
            "order": null,
            "_view_module_version": "1.2.0",
            "grid_template_areas": null,
            "object_position": null,
            "object_fit": null,
            "grid_auto_columns": null,
            "margin": null,
            "display": null,
            "left": null
          }
        },
        "5a62788aab9f418d95589858609be436": {
          "model_module": "@jupyter-widgets/controls",
          "model_name": "HBoxModel",
          "state": {
            "_view_name": "HBoxView",
            "_dom_classes": [],
            "_model_name": "HBoxModel",
            "_view_module": "@jupyter-widgets/controls",
            "_model_module_version": "1.5.0",
            "_view_count": null,
            "_view_module_version": "1.5.0",
            "box_style": "",
            "layout": "IPY_MODEL_a44c512c385449a58c1cde19a05e6287",
            "_model_module": "@jupyter-widgets/controls",
            "children": [
              "IPY_MODEL_fb78f1f53a23405aaa2d1c48451bc619",
              "IPY_MODEL_d8433f2464c74d07bb3553665b14e936"
            ]
          }
        },
        "a44c512c385449a58c1cde19a05e6287": {
          "model_module": "@jupyter-widgets/base",
          "model_name": "LayoutModel",
          "state": {
            "_view_name": "LayoutView",
            "grid_template_rows": null,
            "right": null,
            "justify_content": null,
            "_view_module": "@jupyter-widgets/base",
            "overflow": null,
            "_model_module_version": "1.2.0",
            "_view_count": null,
            "flex_flow": null,
            "width": null,
            "min_width": null,
            "border": null,
            "align_items": null,
            "bottom": null,
            "_model_module": "@jupyter-widgets/base",
            "top": null,
            "grid_column": null,
            "overflow_y": null,
            "overflow_x": null,
            "grid_auto_flow": null,
            "grid_area": null,
            "grid_template_columns": null,
            "flex": null,
            "_model_name": "LayoutModel",
            "justify_items": null,
            "grid_row": null,
            "max_height": null,
            "align_content": null,
            "visibility": null,
            "align_self": null,
            "height": null,
            "min_height": null,
            "padding": null,
            "grid_auto_rows": null,
            "grid_gap": null,
            "max_width": null,
            "order": null,
            "_view_module_version": "1.2.0",
            "grid_template_areas": null,
            "object_position": null,
            "object_fit": null,
            "grid_auto_columns": null,
            "margin": null,
            "display": null,
            "left": null
          }
        },
        "fb78f1f53a23405aaa2d1c48451bc619": {
          "model_module": "@jupyter-widgets/controls",
          "model_name": "IntProgressModel",
          "state": {
            "_view_name": "ProgressView",
            "style": "IPY_MODEL_bbb8ea8018b04325b758d4c9920fe918",
            "_dom_classes": [],
            "description": "",
            "_model_name": "IntProgressModel",
            "bar_style": "info",
            "max": 1,
            "_view_module": "@jupyter-widgets/controls",
            "_model_module_version": "1.5.0",
            "value": 1,
            "_view_count": null,
            "_view_module_version": "1.5.0",
            "orientation": "horizontal",
            "min": 0,
            "description_tooltip": null,
            "_model_module": "@jupyter-widgets/controls",
            "layout": "IPY_MODEL_32b66eb3362c4dfa95baf581bcefb669"
          }
        },
        "d8433f2464c74d07bb3553665b14e936": {
          "model_module": "@jupyter-widgets/controls",
          "model_name": "HTMLModel",
          "state": {
            "_view_name": "HTMLView",
            "style": "IPY_MODEL_343ba89db69846d2aa8df876a4f98d04",
            "_dom_classes": [],
            "description": "",
            "_model_name": "HTMLModel",
            "placeholder": "​",
            "_view_module": "@jupyter-widgets/controls",
            "_model_module_version": "1.5.0",
            "value": " 1654784/? [00:19&lt;00:00, 9300704.20it/s]",
            "_view_count": null,
            "_view_module_version": "1.5.0",
            "description_tooltip": null,
            "_model_module": "@jupyter-widgets/controls",
            "layout": "IPY_MODEL_c5d980cf296d4c179ad501b643d709a0"
          }
        },
        "bbb8ea8018b04325b758d4c9920fe918": {
          "model_module": "@jupyter-widgets/controls",
          "model_name": "ProgressStyleModel",
          "state": {
            "_view_name": "StyleView",
            "_model_name": "ProgressStyleModel",
            "description_width": "initial",
            "_view_module": "@jupyter-widgets/base",
            "_model_module_version": "1.5.0",
            "_view_count": null,
            "_view_module_version": "1.2.0",
            "bar_color": null,
            "_model_module": "@jupyter-widgets/controls"
          }
        },
        "32b66eb3362c4dfa95baf581bcefb669": {
          "model_module": "@jupyter-widgets/base",
          "model_name": "LayoutModel",
          "state": {
            "_view_name": "LayoutView",
            "grid_template_rows": null,
            "right": null,
            "justify_content": null,
            "_view_module": "@jupyter-widgets/base",
            "overflow": null,
            "_model_module_version": "1.2.0",
            "_view_count": null,
            "flex_flow": null,
            "width": null,
            "min_width": null,
            "border": null,
            "align_items": null,
            "bottom": null,
            "_model_module": "@jupyter-widgets/base",
            "top": null,
            "grid_column": null,
            "overflow_y": null,
            "overflow_x": null,
            "grid_auto_flow": null,
            "grid_area": null,
            "grid_template_columns": null,
            "flex": null,
            "_model_name": "LayoutModel",
            "justify_items": null,
            "grid_row": null,
            "max_height": null,
            "align_content": null,
            "visibility": null,
            "align_self": null,
            "height": null,
            "min_height": null,
            "padding": null,
            "grid_auto_rows": null,
            "grid_gap": null,
            "max_width": null,
            "order": null,
            "_view_module_version": "1.2.0",
            "grid_template_areas": null,
            "object_position": null,
            "object_fit": null,
            "grid_auto_columns": null,
            "margin": null,
            "display": null,
            "left": null
          }
        },
        "343ba89db69846d2aa8df876a4f98d04": {
          "model_module": "@jupyter-widgets/controls",
          "model_name": "DescriptionStyleModel",
          "state": {
            "_view_name": "StyleView",
            "_model_name": "DescriptionStyleModel",
            "description_width": "",
            "_view_module": "@jupyter-widgets/base",
            "_model_module_version": "1.5.0",
            "_view_count": null,
            "_view_module_version": "1.2.0",
            "_model_module": "@jupyter-widgets/controls"
          }
        },
        "c5d980cf296d4c179ad501b643d709a0": {
          "model_module": "@jupyter-widgets/base",
          "model_name": "LayoutModel",
          "state": {
            "_view_name": "LayoutView",
            "grid_template_rows": null,
            "right": null,
            "justify_content": null,
            "_view_module": "@jupyter-widgets/base",
            "overflow": null,
            "_model_module_version": "1.2.0",
            "_view_count": null,
            "flex_flow": null,
            "width": null,
            "min_width": null,
            "border": null,
            "align_items": null,
            "bottom": null,
            "_model_module": "@jupyter-widgets/base",
            "top": null,
            "grid_column": null,
            "overflow_y": null,
            "overflow_x": null,
            "grid_auto_flow": null,
            "grid_area": null,
            "grid_template_columns": null,
            "flex": null,
            "_model_name": "LayoutModel",
            "justify_items": null,
            "grid_row": null,
            "max_height": null,
            "align_content": null,
            "visibility": null,
            "align_self": null,
            "height": null,
            "min_height": null,
            "padding": null,
            "grid_auto_rows": null,
            "grid_gap": null,
            "max_width": null,
            "order": null,
            "_view_module_version": "1.2.0",
            "grid_template_areas": null,
            "object_position": null,
            "object_fit": null,
            "grid_auto_columns": null,
            "margin": null,
            "display": null,
            "left": null
          }
        },
        "8bfb3db6646e4e3ba4b3e66e09717f7e": {
          "model_module": "@jupyter-widgets/controls",
          "model_name": "HBoxModel",
          "state": {
            "_view_name": "HBoxView",
            "_dom_classes": [],
            "_model_name": "HBoxModel",
            "_view_module": "@jupyter-widgets/controls",
            "_model_module_version": "1.5.0",
            "_view_count": null,
            "_view_module_version": "1.5.0",
            "box_style": "",
            "layout": "IPY_MODEL_deb3af0104ce4f3cbd0917b8572350be",
            "_model_module": "@jupyter-widgets/controls",
            "children": [
              "IPY_MODEL_d426520a0ea84e7fa7bb67357133f784",
              "IPY_MODEL_90d1246b33634133baf7e3f29eb1261e"
            ]
          }
        },
        "deb3af0104ce4f3cbd0917b8572350be": {
          "model_module": "@jupyter-widgets/base",
          "model_name": "LayoutModel",
          "state": {
            "_view_name": "LayoutView",
            "grid_template_rows": null,
            "right": null,
            "justify_content": null,
            "_view_module": "@jupyter-widgets/base",
            "overflow": null,
            "_model_module_version": "1.2.0",
            "_view_count": null,
            "flex_flow": null,
            "width": null,
            "min_width": null,
            "border": null,
            "align_items": null,
            "bottom": null,
            "_model_module": "@jupyter-widgets/base",
            "top": null,
            "grid_column": null,
            "overflow_y": null,
            "overflow_x": null,
            "grid_auto_flow": null,
            "grid_area": null,
            "grid_template_columns": null,
            "flex": null,
            "_model_name": "LayoutModel",
            "justify_items": null,
            "grid_row": null,
            "max_height": null,
            "align_content": null,
            "visibility": null,
            "align_self": null,
            "height": null,
            "min_height": null,
            "padding": null,
            "grid_auto_rows": null,
            "grid_gap": null,
            "max_width": null,
            "order": null,
            "_view_module_version": "1.2.0",
            "grid_template_areas": null,
            "object_position": null,
            "object_fit": null,
            "grid_auto_columns": null,
            "margin": null,
            "display": null,
            "left": null
          }
        },
        "d426520a0ea84e7fa7bb67357133f784": {
          "model_module": "@jupyter-widgets/controls",
          "model_name": "IntProgressModel",
          "state": {
            "_view_name": "ProgressView",
            "style": "IPY_MODEL_6f0d0871083e4e99ab773076c02505df",
            "_dom_classes": [],
            "description": "",
            "_model_name": "IntProgressModel",
            "bar_style": "info",
            "max": 1,
            "_view_module": "@jupyter-widgets/controls",
            "_model_module_version": "1.5.0",
            "value": 0,
            "_view_count": null,
            "_view_module_version": "1.5.0",
            "orientation": "horizontal",
            "min": 0,
            "description_tooltip": null,
            "_model_module": "@jupyter-widgets/controls",
            "layout": "IPY_MODEL_f6087aeb68254a7b90f4247e12deeff8"
          }
        },
        "90d1246b33634133baf7e3f29eb1261e": {
          "model_module": "@jupyter-widgets/controls",
          "model_name": "HTMLModel",
          "state": {
            "_view_name": "HTMLView",
            "style": "IPY_MODEL_1e756706afcb4252af90adca739f4b48",
            "_dom_classes": [],
            "description": "",
            "_model_name": "HTMLModel",
            "placeholder": "​",
            "_view_module": "@jupyter-widgets/controls",
            "_model_module_version": "1.5.0",
            "value": " 0/? [00:00&lt;?, ?it/s]",
            "_view_count": null,
            "_view_module_version": "1.5.0",
            "description_tooltip": null,
            "_model_module": "@jupyter-widgets/controls",
            "layout": "IPY_MODEL_fee5e8aec47e431082ce8f40888004c5"
          }
        },
        "6f0d0871083e4e99ab773076c02505df": {
          "model_module": "@jupyter-widgets/controls",
          "model_name": "ProgressStyleModel",
          "state": {
            "_view_name": "StyleView",
            "_model_name": "ProgressStyleModel",
            "description_width": "initial",
            "_view_module": "@jupyter-widgets/base",
            "_model_module_version": "1.5.0",
            "_view_count": null,
            "_view_module_version": "1.2.0",
            "bar_color": null,
            "_model_module": "@jupyter-widgets/controls"
          }
        },
        "f6087aeb68254a7b90f4247e12deeff8": {
          "model_module": "@jupyter-widgets/base",
          "model_name": "LayoutModel",
          "state": {
            "_view_name": "LayoutView",
            "grid_template_rows": null,
            "right": null,
            "justify_content": null,
            "_view_module": "@jupyter-widgets/base",
            "overflow": null,
            "_model_module_version": "1.2.0",
            "_view_count": null,
            "flex_flow": null,
            "width": null,
            "min_width": null,
            "border": null,
            "align_items": null,
            "bottom": null,
            "_model_module": "@jupyter-widgets/base",
            "top": null,
            "grid_column": null,
            "overflow_y": null,
            "overflow_x": null,
            "grid_auto_flow": null,
            "grid_area": null,
            "grid_template_columns": null,
            "flex": null,
            "_model_name": "LayoutModel",
            "justify_items": null,
            "grid_row": null,
            "max_height": null,
            "align_content": null,
            "visibility": null,
            "align_self": null,
            "height": null,
            "min_height": null,
            "padding": null,
            "grid_auto_rows": null,
            "grid_gap": null,
            "max_width": null,
            "order": null,
            "_view_module_version": "1.2.0",
            "grid_template_areas": null,
            "object_position": null,
            "object_fit": null,
            "grid_auto_columns": null,
            "margin": null,
            "display": null,
            "left": null
          }
        },
        "1e756706afcb4252af90adca739f4b48": {
          "model_module": "@jupyter-widgets/controls",
          "model_name": "DescriptionStyleModel",
          "state": {
            "_view_name": "StyleView",
            "_model_name": "DescriptionStyleModel",
            "description_width": "",
            "_view_module": "@jupyter-widgets/base",
            "_model_module_version": "1.5.0",
            "_view_count": null,
            "_view_module_version": "1.2.0",
            "_model_module": "@jupyter-widgets/controls"
          }
        },
        "fee5e8aec47e431082ce8f40888004c5": {
          "model_module": "@jupyter-widgets/base",
          "model_name": "LayoutModel",
          "state": {
            "_view_name": "LayoutView",
            "grid_template_rows": null,
            "right": null,
            "justify_content": null,
            "_view_module": "@jupyter-widgets/base",
            "overflow": null,
            "_model_module_version": "1.2.0",
            "_view_count": null,
            "flex_flow": null,
            "width": null,
            "min_width": null,
            "border": null,
            "align_items": null,
            "bottom": null,
            "_model_module": "@jupyter-widgets/base",
            "top": null,
            "grid_column": null,
            "overflow_y": null,
            "overflow_x": null,
            "grid_auto_flow": null,
            "grid_area": null,
            "grid_template_columns": null,
            "flex": null,
            "_model_name": "LayoutModel",
            "justify_items": null,
            "grid_row": null,
            "max_height": null,
            "align_content": null,
            "visibility": null,
            "align_self": null,
            "height": null,
            "min_height": null,
            "padding": null,
            "grid_auto_rows": null,
            "grid_gap": null,
            "max_width": null,
            "order": null,
            "_view_module_version": "1.2.0",
            "grid_template_areas": null,
            "object_position": null,
            "object_fit": null,
            "grid_auto_columns": null,
            "margin": null,
            "display": null,
            "left": null
          }
        }
      }
    }
  },
  "cells": [
    {
      "cell_type": "markdown",
      "metadata": {
        "id": "view-in-github",
        "colab_type": "text"
      },
      "source": [
        "<a href=\"https://colab.research.google.com/github/Akhilez/ml_gallery/blob/master/ml_py/MLGallery/selective_generator/colab.ipynb\" target=\"_parent\"><img src=\"https://colab.research.google.com/assets/colab-badge.svg\" alt=\"Open In Colab\"/></a>"
      ]
    },
    {
      "cell_type": "markdown",
      "metadata": {
        "id": "9fYjdUPs9G8T",
        "colab_type": "text"
      },
      "source": [
        "# Model\n",
        "\n",
        "```yaml\n",
        "Generator:\n",
        "  - Input: 100 (90 noise, 10 one-hot)\n",
        "  - h1: 150\n",
        "  - h2: 400\n",
        "  - h3: 784\n",
        "\n",
        "FeatureExtractor:\n",
        "  - Input: 784 (28x28)\n",
        "  - h1: 400\n",
        "  - h2: 150\n",
        "  - h3: 100\n",
        "\n",
        "Discriminator:\n",
        "  - Input: 100\n",
        "  - h1: 50\n",
        "  - h2: 1\n",
        "\n",
        "Classifier:\n",
        "  - Input: 100\n",
        "  - h1: 50\n",
        "  - h2: 10\n",
        "```\n",
        "\n",
        "Link to file: https://github.com/Akhilez/ml_gallery/blob/master/ml_py/MLGallery/selective_generator/colab.ipynb"
      ]
    },
    {
      "cell_type": "code",
      "metadata": {
        "id": "b83FOSP76d5l",
        "colab_type": "code",
        "colab": {}
      },
      "source": [
        "import numpy as np\n",
        "import torch\n",
        "import torchvision\n",
        "import matplotlib.pyplot as plt"
      ],
      "execution_count": 0,
      "outputs": []
    },
    {
      "cell_type": "code",
      "metadata": {
        "id": "ZCLZ8YdE62Ls",
        "colab_type": "code",
        "colab": {
          "base_uri": "https://localhost:8080/",
          "height": 332,
          "referenced_widgets": [
            "29479d5c465240fd8495e51b18d08608",
            "2b808d569b584fe398fe03cedc58cd9c",
            "7f7d17d21a644c60a73ea3a872965d7b",
            "fed1398d1ca14cd7a12d20fb0c7e7b89",
            "efed30db0174427681eaec678245ec69",
            "e11dc00b7d494a7eb098f3cd0487653c",
            "f3384ba0c32f440c946045ad80e21f20",
            "74386e7e3b5a4c9a87f31851c7a96a0e",
            "2f253460e9374e19b6d7f85ec80868a4",
            "f127e147a2c74a518ec12848899a9970",
            "939aeafb3f684b169b49e026a4b416b8",
            "1af6d2cc2260487fa6c55535831aa55c",
            "e998a67b535448b291037aa769f0c658",
            "dea14862195146e88a636942b0c7d13e",
            "97746532fded4d48acdeb9332d398f0f",
            "01097a97dccb4af5b069c5acd277eef9",
            "5a62788aab9f418d95589858609be436",
            "a44c512c385449a58c1cde19a05e6287",
            "fb78f1f53a23405aaa2d1c48451bc619",
            "d8433f2464c74d07bb3553665b14e936",
            "bbb8ea8018b04325b758d4c9920fe918",
            "32b66eb3362c4dfa95baf581bcefb669",
            "343ba89db69846d2aa8df876a4f98d04",
            "c5d980cf296d4c179ad501b643d709a0",
            "8bfb3db6646e4e3ba4b3e66e09717f7e",
            "deb3af0104ce4f3cbd0917b8572350be",
            "d426520a0ea84e7fa7bb67357133f784",
            "90d1246b33634133baf7e3f29eb1261e",
            "6f0d0871083e4e99ab773076c02505df",
            "f6087aeb68254a7b90f4247e12deeff8",
            "1e756706afcb4252af90adca739f4b48",
            "fee5e8aec47e431082ce8f40888004c5"
          ]
        },
        "outputId": "82d1f0d5-1dc2-4fc1-952b-6d08d34cf8fa"
      },
      "source": [
        "data_path = \"./data/mnist/\"\n",
        "\n",
        "train_loader = torch.utils.data.DataLoader(\n",
        "    torchvision.datasets.MNIST(data_path, train=True, download=True,\n",
        "                               transform=torchvision.transforms.ToTensor()), shuffle=True)\n",
        "\n",
        "test_loader = torch.utils.data.DataLoader(\n",
        "    torchvision.datasets.MNIST(data_path, train=False, download=True,\n",
        "                               transform=torchvision.transforms.ToTensor()), shuffle=True)"
      ],
      "execution_count": 2,
      "outputs": [
        {
          "output_type": "stream",
          "text": [
            "Downloading http://yann.lecun.com/exdb/mnist/train-images-idx3-ubyte.gz to ./data/mnist/MNIST/raw/train-images-idx3-ubyte.gz\n"
          ],
          "name": "stdout"
        },
        {
          "output_type": "display_data",
          "data": {
            "application/vnd.jupyter.widget-view+json": {
              "model_id": "29479d5c465240fd8495e51b18d08608",
              "version_minor": 0,
              "version_major": 2
            },
            "text/plain": [
              "HBox(children=(IntProgress(value=1, bar_style='info', max=1), HTML(value='')))"
            ]
          },
          "metadata": {
            "tags": []
          }
        },
        {
          "output_type": "stream",
          "text": [
            "Extracting ./data/mnist/MNIST/raw/train-images-idx3-ubyte.gz to ./data/mnist/MNIST/raw\n",
            "Downloading http://yann.lecun.com/exdb/mnist/train-labels-idx1-ubyte.gz to ./data/mnist/MNIST/raw/train-labels-idx1-ubyte.gz\n"
          ],
          "name": "stdout"
        },
        {
          "output_type": "display_data",
          "data": {
            "application/vnd.jupyter.widget-view+json": {
              "model_id": "2f253460e9374e19b6d7f85ec80868a4",
              "version_minor": 0,
              "version_major": 2
            },
            "text/plain": [
              "HBox(children=(IntProgress(value=1, bar_style='info', max=1), HTML(value='')))"
            ]
          },
          "metadata": {
            "tags": []
          }
        },
        {
          "output_type": "stream",
          "text": [
            "Extracting ./data/mnist/MNIST/raw/train-labels-idx1-ubyte.gz to ./data/mnist/MNIST/raw\n",
            "Downloading http://yann.lecun.com/exdb/mnist/t10k-images-idx3-ubyte.gz to ./data/mnist/MNIST/raw/t10k-images-idx3-ubyte.gz\n",
            "\n"
          ],
          "name": "stdout"
        },
        {
          "output_type": "display_data",
          "data": {
            "application/vnd.jupyter.widget-view+json": {
              "model_id": "5a62788aab9f418d95589858609be436",
              "version_minor": 0,
              "version_major": 2
            },
            "text/plain": [
              "HBox(children=(IntProgress(value=1, bar_style='info', max=1), HTML(value='')))"
            ]
          },
          "metadata": {
            "tags": []
          }
        },
        {
          "output_type": "stream",
          "text": [
            "Extracting ./data/mnist/MNIST/raw/t10k-images-idx3-ubyte.gz to ./data/mnist/MNIST/raw\n",
            "Downloading http://yann.lecun.com/exdb/mnist/t10k-labels-idx1-ubyte.gz to ./data/mnist/MNIST/raw/t10k-labels-idx1-ubyte.gz\n"
          ],
          "name": "stdout"
        },
        {
          "output_type": "display_data",
          "data": {
            "application/vnd.jupyter.widget-view+json": {
              "model_id": "8bfb3db6646e4e3ba4b3e66e09717f7e",
              "version_minor": 0,
              "version_major": 2
            },
            "text/plain": [
              "HBox(children=(IntProgress(value=1, bar_style='info', max=1), HTML(value='')))"
            ]
          },
          "metadata": {
            "tags": []
          }
        },
        {
          "output_type": "stream",
          "text": [
            "Extracting ./data/mnist/MNIST/raw/t10k-labels-idx1-ubyte.gz to ./data/mnist/MNIST/raw\n",
            "Processing...\n",
            "Done!\n"
          ],
          "name": "stdout"
        }
      ]
    },
    {
      "cell_type": "code",
      "metadata": {
        "id": "TsF9T-rT66jh",
        "colab_type": "code",
        "colab": {}
      },
      "source": [
        "x_train = []\n",
        "x_test = []\n",
        "y_test = []\n",
        "y_train = []"
      ],
      "execution_count": 0,
      "outputs": []
    },
    {
      "cell_type": "code",
      "metadata": {
        "id": "MXTQzaxc69HA",
        "colab_type": "code",
        "colab": {}
      },
      "source": [
        "def to_one_hot(x):\n",
        "    b = np.zeros((x.size, 10))\n",
        "    b[np.arange(x.size), x] = 1\n",
        "    return b"
      ],
      "execution_count": 0,
      "outputs": []
    },
    {
      "cell_type": "code",
      "metadata": {
        "id": "dXZQQySl6-YX",
        "colab_type": "code",
        "colab": {}
      },
      "source": [
        "for data in test_loader:\n",
        "    y_test_i = data[1].numpy()\n",
        "    x_test_i = data[0].numpy()\n",
        "    \n",
        "    x_test_i = x_test_i.reshape((28, 28))\n",
        "    y_test_i = y_test_i[0]\n",
        "    \n",
        "    x_test.append(x_test_i)\n",
        "    y_test.append(y_test_i)"
      ],
      "execution_count": 0,
      "outputs": []
    },
    {
      "cell_type": "code",
      "metadata": {
        "id": "xs9zdDSz7AU1",
        "colab_type": "code",
        "colab": {}
      },
      "source": [
        "y_test = torch.Tensor(to_one_hot(np.array(y_test)))\n",
        "x_test = torch.Tensor(x_test).reshape((-1, 784))"
      ],
      "execution_count": 0,
      "outputs": []
    },
    {
      "cell_type": "code",
      "metadata": {
        "id": "pJBBvGHb7CE7",
        "colab_type": "code",
        "colab": {}
      },
      "source": [
        "for data in train_loader:\n",
        "    y_test_i = data[1].numpy()\n",
        "    x_test_i = data[0].numpy()\n",
        "    \n",
        "    x_test_i = x_test_i.reshape((28, 28))\n",
        "    y_test_i = y_test_i[0]\n",
        "    \n",
        "    x_train.append(x_test_i)\n",
        "    y_train.append(y_test_i)\n",
        "\n",
        "y_train = torch.Tensor(to_one_hot(np.array(y_train)))\n",
        "x_train = torch.Tensor(x_train).reshape((-1, 784))"
      ],
      "execution_count": 0,
      "outputs": []
    },
    {
      "cell_type": "code",
      "metadata": {
        "id": "SDJi3hQ37rv9",
        "colab_type": "code",
        "colab": {}
      },
      "source": [
        "x_train = x_train[:5000]\n",
        "x_test = x_test[:500]\n",
        "y_train = y_train[:5000]\n",
        "y_test = y_test[:500]"
      ],
      "execution_count": 0,
      "outputs": []
    },
    {
      "cell_type": "code",
      "metadata": {
        "id": "BsnNSYDf7DuV",
        "colab_type": "code",
        "colab": {
          "base_uri": "https://localhost:8080/",
          "height": 119
        },
        "outputId": "a72b1255-13de-4026-ee14-fa3132ca94ac"
      },
      "source": [
        "print(x_train.shape, x_test.shape, y_train.shape, y_test.shape)\n",
        "print(x_train.shape)\n",
        "print(y_train.shape)\n",
        "\n",
        "print(torch.min(x_test))\n",
        "print(torch.max(x_test))\n",
        "print(y_train[0])"
      ],
      "execution_count": 35,
      "outputs": [
        {
          "output_type": "stream",
          "text": [
            "torch.Size([5000, 784]) torch.Size([500, 784]) torch.Size([5000, 10]) torch.Size([500, 10])\n",
            "torch.Size([5000, 784])\n",
            "torch.Size([5000, 10])\n",
            "tensor(0.)\n",
            "tensor(1.)\n",
            "tensor([0., 0., 0., 0., 0., 1., 0., 0., 0., 0.])\n"
          ],
          "name": "stdout"
        }
      ]
    },
    {
      "cell_type": "code",
      "metadata": {
        "id": "myqyq81i7L6g",
        "colab_type": "code",
        "colab": {}
      },
      "source": [
        "def plot_image(x):\n",
        "    plt.imshow(x, cmap='gray')\n",
        "    # plt.show()"
      ],
      "execution_count": 0,
      "outputs": []
    },
    {
      "cell_type": "code",
      "metadata": {
        "id": "XZva4kv37yDZ",
        "colab_type": "code",
        "colab": {
          "base_uri": "https://localhost:8080/",
          "height": 282
        },
        "outputId": "d06d29da-7b88-4d2b-b070-84789bf69849"
      },
      "source": [
        "index = 12\n",
        "plot_image(x_test[index].numpy().reshape((28, 28)))\n",
        "print(y_test[index])\n",
        "plt.show()"
      ],
      "execution_count": 20,
      "outputs": [
        {
          "output_type": "stream",
          "text": [
            "tensor([0., 0., 1., 0., 0., 0., 0., 0., 0., 0.])\n"
          ],
          "name": "stdout"
        },
        {
          "output_type": "display_data",
          "data": {
            "image/png": "[encoded data removed]",
            "text/plain": [
              "<Figure size 432x288 with 1 Axes>"
            ]
          },
          "metadata": {
            "tags": [],
            "needs_background": "light"
          }
        }
      ]
    },
    {
      "cell_type": "code",
      "metadata": {
        "id": "y14YSTRg7zR1",
        "colab_type": "code",
        "colab": {}
      },
      "source": [
        "def get_random(shape, min_=-0.5, max_=0.5):\n",
        "    return torch.FloatTensor(*shape).uniform_(min_, max_).requires_grad_()"
      ],
      "execution_count": 0,
      "outputs": []
    },
    {
      "cell_type": "code",
      "metadata": {
        "id": "FF-ZsF-_71r_",
        "colab_type": "code",
        "colab": {}
      },
      "source": [
        "class Generator(torch.nn.Module):\n",
        "    def __init__(self):\n",
        "        super().__init__()\n",
        "        self.w1, self.b1 = get_random((100, 150)), torch.zeros(150, requires_grad=True)\n",
        "        self.w2, self.b2 = get_random((150, 400)), torch.zeros(400, requires_grad=True)\n",
        "        self.w3, self.b3 = get_random((400, 784)), torch.zeros(784, requires_grad=True)\n",
        "    \n",
        "    def forward(self, x, **kwargs):\n",
        "        # x.shape = (batch, 100)\n",
        "        h1 = torch.sigmoid(x.matmul(self.w1) + self.b1)\n",
        "        h2 = torch.sigmoid(h1.matmul(self.w2) + self.b2)\n",
        "        h3 = torch.sigmoid(h2.matmul(self.w3) + self.b3)\n",
        "        return h3\n",
        "    \n",
        "    def optimize(self, lr):\n",
        "        self.w1 = (self.w1 - lr * self.w1.grad).detach().requires_grad_()\n",
        "        self.w2 = (self.w2 - lr * self.w2.grad).detach().requires_grad_()\n",
        "        self.w3 = (self.w3 - lr * self.w3.grad).detach().requires_grad_()\n",
        "        \n",
        "        self.b1 = (self.b1 - lr * self.b1.grad).detach().requires_grad_()\n",
        "        self.b2 = (self.b2 - lr * self.b2.grad).detach().requires_grad_()\n",
        "        self.b3 = (self.b3 - lr * self.b3.grad).detach().requires_grad_()\n",
        "        \n",
        "    def zero_grad(self):\n",
        "        self.w1.grad = torch.zeros(self.w1.grad.shape)\n",
        "        self.w2.grad = torch.zeros(self.w2.grad.shape)\n",
        "        self.w3.grad = torch.zeros(self.w3.grad.shape)\n",
        "        \n",
        "        self.b1.grad = torch.zeros(self.b1.grad.shape)\n",
        "        self.b2.grad = torch.zeros(self.b2.grad.shape)\n",
        "        self.b3.grad = torch.zeros(self.b3.grad.shape)\n",
        "\n",
        "    @staticmethod\n",
        "    def getGeneratorInput(y, batch_size):\n",
        "        gen_input = np.random.uniform(0, 1, (batch_size, 100))\n",
        "        for batch in range(batch_size):\n",
        "            for i in range(0, 90, 20):\n",
        "                gen_input[batch][i: i+10] = y[batch]\n",
        "        return torch.Tensor(gen_input)"
      ],
      "execution_count": 0,
      "outputs": []
    },
    {
      "cell_type": "code",
      "metadata": {
        "id": "ccDWm3Nq_CSK",
        "colab_type": "code",
        "colab": {
          "base_uri": "https://localhost:8080/",
          "height": 612
        },
        "outputId": "efcd0d0b-b765-46ef-bd2c-9fafb369bf5f"
      },
      "source": [
        "print(y_test[0])\n",
        "Generator.getGeneratorInput(y_test[0], 2)"
      ],
      "execution_count": 54,
      "outputs": [
        {
          "output_type": "stream",
          "text": [
            "tensor([0., 0., 0., 1., 0., 0., 0., 0., 0., 0.])\n",
            "[[0.         0.         0.         1.         0.         0.\n",
            "  0.         0.         0.         0.         0.63059537 0.72126981\n",
            "  0.89304424 0.7947097  0.40433033 0.71623552 0.09090192 0.5597902\n",
            "  0.27243053 0.9394228  0.         0.         0.         1.\n",
            "  0.         0.         0.         0.         0.         0.\n",
            "  0.00498172 0.1949677  0.23258074 0.18721035 0.43928764 0.89727629\n",
            "  0.2904651  0.42833202 0.51790735 0.66943394 0.         0.\n",
            "  0.         1.         0.         0.         0.         0.\n",
            "  0.         0.         0.90042814 0.75742623 0.84006409 0.45353502\n",
            "  0.96976008 0.27256666 0.36913744 0.80729164 0.95835437 0.81225245\n",
            "  0.         0.         0.         1.         0.         0.\n",
            "  0.         0.         0.         0.         0.16773025 0.19482518\n",
            "  0.81847576 0.60060536 0.5654057  0.85459735 0.52872296 0.7533004\n",
            "  0.7990423  0.0177268  0.         0.         0.         1.\n",
            "  0.         0.         0.         0.         0.         0.\n",
            "  0.97339342 0.02329213 0.00412192 0.78602131 0.46645791 0.26767807\n",
            "  0.57010162 0.27770283 0.30342967 0.99052418]\n",
            " [0.         0.         0.         1.         0.         0.\n",
            "  0.         0.         0.         0.         0.73215056 0.86745631\n",
            "  0.89878748 0.79631932 0.21957107 0.21372015 0.3056849  0.44450903\n",
            "  0.71568864 0.89455644 0.         0.         0.         1.\n",
            "  0.         0.         0.         0.         0.         0.\n",
            "  0.54865003 0.23350307 0.56119319 0.75088612 0.07523461 0.80997595\n",
            "  0.45337617 0.09385061 0.4544846  0.85958408 0.         0.\n",
            "  0.         1.         0.         0.         0.         0.\n",
            "  0.         0.         0.26485272 0.71454328 0.82631265 0.59846239\n",
            "  0.89563307 0.65023808 0.14152957 0.8197895  0.39606125 0.77062937\n",
            "  0.         0.         0.         1.         0.         0.\n",
            "  0.         0.         0.         0.         0.40427774 0.68815791\n",
            "  0.57450489 0.13914522 0.78317481 0.36786374 0.00823416 0.01440318\n",
            "  0.05579065 0.80669314 0.         0.         0.         1.\n",
            "  0.         0.         0.         0.         0.         0.\n",
            "  0.99891365 0.92318541 0.39779541 0.60760757 0.12527638 0.81996904\n",
            "  0.11818245 0.00346525 0.61754304 0.42654959]]\n"
          ],
          "name": "stdout"
        }
      ]
    },
    {
      "cell_type": "code",
      "metadata": {
        "id": "k7UwJDNg79tU",
        "colab_type": "code",
        "colab": {}
      },
      "source": [
        "class FeatureExtractor(torch.nn.Module):\n",
        "    def __init__(self):\n",
        "        super().__init__()\n",
        "        self.w1, self.b1 = get_random((784, 400)), torch.zeros(400, requires_grad=True)\n",
        "        self.w2, self.b2 = get_random((400, 150)), torch.zeros(150, requires_grad=True)\n",
        "        self.w3, self.b3 = get_random((150, 100)), torch.zeros(100, requires_grad=True)\n",
        "    \n",
        "    def forward(self, x, **kwargs):\n",
        "        h1 = torch.sigmoid(x.matmul(self.w1) + self.b1)\n",
        "        h2 = torch.sigmoid(h1.matmul(self.w2) + self.b2)\n",
        "        h3 = torch.sigmoid(h2.matmul(self.w3) + self.b3)\n",
        "        return h3\n",
        "    \n",
        "    def optimize(self, lr):\n",
        "        \n",
        "        self.w1 = (self.w1 - lr * self.w1.grad).detach().requires_grad_()\n",
        "        self.w2 = (self.w2 - lr * self.w2.grad).detach().requires_grad_()\n",
        "        self.w3 = (self.w3 - lr * self.w3.grad).detach().requires_grad_()\n",
        "        \n",
        "        self.b1 = (self.b1 - lr * self.b1.grad).detach().requires_grad_()\n",
        "        self.b2 = (self.b2 - lr * self.b2.grad).detach().requires_grad_()\n",
        "        self.b3 = (self.b3 - lr * self.b3.grad).detach().requires_grad_()"
      ],
      "execution_count": 0,
      "outputs": []
    },
    {
      "cell_type": "code",
      "metadata": {
        "id": "WTpDal2i7_dy",
        "colab_type": "code",
        "colab": {}
      },
      "source": [
        "class Discriminator(torch.nn.Module):\n",
        "    def __init__(self):\n",
        "        super().__init__()\n",
        "        self.w1, self.b1 = get_random((100, 50)), torch.zeros(50, requires_grad=True)\n",
        "        self.w2, self.b2 = get_random((50, 1)), torch.zeros(1, requires_grad=True)\n",
        "    \n",
        "    def forward(self, x, **kwargs):\n",
        "        h1 = torch.sigmoid(x.matmul(self.w1) + self.b1)\n",
        "        h2 = torch.sigmoid(h1.matmul(self.w2) + self.b2)\n",
        "        return h2\n",
        "    \n",
        "    def optimize(self, lr):\n",
        "        self.w1 = (self.w1 - lr * self.w1.grad).detach().requires_grad_()\n",
        "        self.w2 = (self.w2 - lr * self.w2.grad).detach().requires_grad_()\n",
        "        \n",
        "        self.b1 = (self.b1 - lr * self.b1.grad).detach().requires_grad_()\n",
        "        self.b2 = (self.b2 - lr * self.b2.grad).detach().requires_grad_()"
      ],
      "execution_count": 0,
      "outputs": []
    },
    {
      "cell_type": "code",
      "metadata": {
        "id": "svpWhbN08BZV",
        "colab_type": "code",
        "colab": {}
      },
      "source": [
        "class Classifier(torch.nn.Module):\n",
        "    def __init__(self):\n",
        "        super().__init__()\n",
        "        self.w1, self.b1 = get_random((100, 50)), torch.zeros(50, requires_grad=True)\n",
        "        self.w2, self.b2 = get_random((50, 10)), torch.zeros(10, requires_grad=True)\n",
        "    \n",
        "    def forward(self, x, **kwargs):\n",
        "        h1 = torch.sigmoid(x.matmul(self.w1) + self.b1)\n",
        "        h2 = torch.nn.functional.softmax(h1.matmul(self.w2) + self.b2)\n",
        "        return h2\n",
        "    \n",
        "    def optimize(self, lr):\n",
        "        self.w1 = (self.w1 - lr * self.w1.grad).detach().requires_grad_()\n",
        "        self.w2 = (self.w2 - lr * self.w2.grad).detach().requires_grad_()\n",
        "        \n",
        "        self.b1 = (self.b1 - lr * self.b1.grad).detach().requires_grad_()\n",
        "        self.b2 = (self.b2 - lr * self.b2.grad).detach().requires_grad_()"
      ],
      "execution_count": 0,
      "outputs": []
    },
    {
      "cell_type": "code",
      "metadata": {
        "id": "-7MnX8wr8C1h",
        "colab_type": "code",
        "colab": {}
      },
      "source": [
        "fe = FeatureExtractor()\n",
        "classifier = Classifier()\n",
        "discriminator = Discriminator()\n",
        "generator = Generator()"
      ],
      "execution_count": 0,
      "outputs": []
    },
    {
      "cell_type": "code",
      "metadata": {
        "id": "NVU0vV5_8ETE",
        "colab_type": "code",
        "colab": {
          "base_uri": "https://localhost:8080/",
          "height": 1000
        },
        "outputId": "6a2a23db-dfd0-4ab6-fc12-f0ad2f1c3730"
      },
      "source": [
        "batch_size = 20\n",
        "epochs = 50\n",
        "\n",
        "for epoch in range(epochs):\n",
        "    print(f'Epoch: {epoch}')\n",
        "    losses = [0, 0, 0, 0]\n",
        "    for i in range(0, len(x_train), batch_size):\n",
        "        start_index = i\n",
        "        end_index = i+batch_size\n",
        "        \n",
        "        x_batch = x_train[start_index:end_index]\n",
        "        y_batch = y_train[start_index:end_index]\n",
        "    \n",
        "        \n",
        "        # ------------ Train with real image ----------------\n",
        "        real = torch.ones(batch_size)\n",
        "        fake = torch.zeros(batch_size)\n",
        "        \n",
        "        features = fe(x_batch)\n",
        "        discriminator_out = discriminator(features)\n",
        "        classifier_out = classifier(features)\n",
        "        \n",
        "        loss_discriminator = torch.nn.functional.binary_cross_entropy(discriminator_out, real)\n",
        "        loss_classifier = torch.nn.functional.binary_cross_entropy(classifier_out, y_batch)\n",
        "        \n",
        "        loss = loss_discriminator + loss_classifier\n",
        "        loss.backward()\n",
        "        discriminator.optimize(0.1)\n",
        "        classifier.optimize(0.1)\n",
        "        fe.optimize(0.1)\n",
        "        \n",
        "        losses[0] += float(loss)\n",
        "        \n",
        "        # --------------- Train with fake image -------------------\n",
        "\n",
        "        generator_input = Generator.getGeneratorInput(y_batch, batch_size)\n",
        "        \n",
        "        generated = generator(generator_input)\n",
        "        features = fe(generated)\n",
        "        discriminator_out = discriminator(features)\n",
        "        classifier_out = classifier(features)\n",
        "        \n",
        "        loss_discriminator = torch.nn.functional.binary_cross_entropy(discriminator_out, fake)\n",
        "        loss_generator = torch.nn.functional.binary_cross_entropy(discriminator_out, real)\n",
        "        loss_classifier = torch.nn.functional.binary_cross_entropy(classifier_out, y_batch)\n",
        "        loss = loss_discriminator + loss_classifier\n",
        "        \n",
        "        loss.backward(retain_graph=True)\n",
        "        \n",
        "        discriminator.optimize(0.1)\n",
        "        fe.optimize(0.1)\n",
        "        \n",
        "        generator.zero_grad()\n",
        "        loss_generator.backward()\n",
        "        generator.optimize(0.1)\n",
        "        \n",
        "        losses[1] += float(loss_discriminator)\n",
        "        losses[2] += float(loss_classifier)\n",
        "        losses[3] += float(loss_generator)\n",
        "        \n",
        "    print(f'  Losses: {losses}')"
      ],
      "execution_count": 70,
      "outputs": [
        {
          "output_type": "stream",
          "text": [
            "Epoch: 0\n"
          ],
          "name": "stdout"
        },
        {
          "output_type": "stream",
          "text": [
            "/usr/local/lib/python3.6/dist-packages/ipykernel_launcher.py:9: UserWarning: Implicit dimension choice for softmax has been deprecated. Change the call to include dim=X as an argument.\n",
            "  if __name__ == '__main__':\n",
            "/usr/local/lib/python3.6/dist-packages/ipykernel_launcher.py:23: UserWarning: Using a target size (torch.Size([20])) that is different to the input size (torch.Size([20, 1])) is deprecated. Please ensure they have the same size.\n",
            "/usr/local/lib/python3.6/dist-packages/ipykernel_launcher.py:43: UserWarning: Using a target size (torch.Size([20])) that is different to the input size (torch.Size([20, 1])) is deprecated. Please ensure they have the same size.\n",
            "/usr/local/lib/python3.6/dist-packages/ipykernel_launcher.py:44: UserWarning: Using a target size (torch.Size([20])) that is different to the input size (torch.Size([20, 1])) is deprecated. Please ensure they have the same size.\n"
          ],
          "name": "stderr"
        },
        {
          "output_type": "stream",
          "text": [
            "  Losses: [1.3011284405365586, 0.006751977282874577, 81.53320378065109, 2660.450089454651]\n",
            "Epoch: 1\n",
            "  Losses: [1.2864524333854206, 0.0075600528925861, 81.54237332940102, 2614.000144004822]\n",
            "Epoch: 2\n",
            "  Losses: [1.2678143054363318, 0.006126353698164166, 81.53044074773788, 2662.478260040283]\n",
            "Epoch: 3\n",
            "  Losses: [1.2434888042625971, 0.003505890676024137, 81.51104426383972, 2799.75075340271]\n",
            "Epoch: 4\n",
            "  Losses: [1.2296172274509445, 0.0035618806596176, 81.51179075241089, 2794.073173522949]\n",
            "Epoch: 5\n",
            "  Losses: [1.2087775887921453, 0.0025006481832861027, 81.50313022732735, 2880.794987678528]\n",
            "Epoch: 6\n",
            "  Losses: [1.1981545891612768, 0.004483716676077165, 81.52157124876976, 2742.4941148757935]\n",
            "Epoch: 7\n",
            "  Losses: [1.1873094300972298, 0.0037833360738659394, 81.52833822369576, 2778.8039226531982]\n",
            "Epoch: 8\n",
            "  Losses: [1.172795680759009, 0.00443135303339659, 81.51770266890526, 2750.6763801574707]\n",
            "Epoch: 9\n",
            "  Losses: [1.1592253188136965, 0.006441456625907449, 81.52178299427032, 2647.156991004944]\n",
            "Epoch: 10\n",
            "  Losses: [1.154199757031165, 0.011767146837883047, 81.53392454981804, 2508.089168548584]\n",
            "Epoch: 11\n",
            "  Losses: [1.1428194822510704, 0.007682695950279594, 81.51562011241913, 2607.3371238708496]\n",
            "Epoch: 12\n",
            "  Losses: [1.143218941113446, 0.016330527623722446, 81.54114934802055, 2435.7098531723022]\n",
            "Epoch: 13\n",
            "  Losses: [1.1276811496936716, 0.012146818426117534, 81.54290434718132, 2535.490207672119]\n",
            "Epoch: 14\n",
            "  Losses: [1.1650687686051242, 0.02898892520897789, 81.59480890631676, 2298.870466709137]\n",
            "Epoch: 15\n",
            "  Losses: [1.1781617804663256, 0.03766489197005285, 81.61738589406013, 2219.7660388946533]\n",
            "Epoch: 16\n",
            "  Losses: [1.1273527854937129, 0.013850418650690699, 81.56525340676308, 2457.416464805603]\n",
            "Epoch: 17\n",
            "  Losses: [1.1113102014642209, 0.016269114517854177, 81.54815718531609, 2436.9195165634155]\n",
            "Epoch: 18\n",
            "  Losses: [1.107390446937643, 0.015880568287684582, 81.53924912214279, 2431.0270624160767]\n",
            "Epoch: 19\n",
            "  Losses: [1.0825581531971693, 0.010839653286893736, 81.52211824059486, 2523.47598361969]\n",
            "Epoch: 20\n",
            "  Losses: [1.0687873855931684, 0.008698814570379909, 81.53266939520836, 2585.22518825531]\n",
            "Epoch: 21\n",
            "  Losses: [1.046536656911485, 0.0073313385182700586, 81.51818943023682, 2612.1072130203247]\n",
            "Epoch: 22\n",
            "  Losses: [1.0321366454591043, 0.005687761061381025, 81.50329804420471, 2683.635124206543]\n",
            "Epoch: 23\n",
            "  Losses: [1.0100418103975244, 0.006006195033478434, 81.49727642536163, 2661.245225906372]\n",
            "Epoch: 24\n",
            "  Losses: [0.9971463749243412, 0.0055900100314829615, 81.49248892068863, 2683.5138082504272]\n",
            "Epoch: 25\n",
            "  Losses: [0.9848954054177739, 0.009280089750973275, 81.50754198431969, 2561.87020778656]\n",
            "Epoch: 26\n",
            "  Losses: [0.97050289195613, 0.007814698805304943, 81.5048556625843, 2602.157536506653]\n",
            "Epoch: 27\n",
            "  Losses: [0.9657725315482821, 0.012647568135434994, 81.51345428824425, 2484.2739477157593]\n",
            "Epoch: 28\n",
            "  Losses: [0.9501635666820221, 0.010962549813484657, 81.50355836749077, 2530.1601028442383]\n",
            "Epoch: 29\n",
            "  Losses: [0.9394604814588092, 0.014568088765372522, 81.51904579997063, 2446.336399078369]\n",
            "Epoch: 30\n",
            "  Losses: [0.9451581155590247, 0.023361463856417686, 81.53799819946289, 2329.331600189209]\n",
            "Epoch: 31\n",
            "  Losses: [0.9561855326173827, 0.024476577254972653, 81.52541294693947, 2342.0113945007324]\n",
            "Epoch: 32\n",
            "  Losses: [0.9368718504556455, 0.01355229184628115, 81.51565313339233, 2466.6064825057983]\n",
            "Epoch: 33\n",
            "  Losses: [0.9227562019659672, 0.014319615071144653, 81.50723865628242, 2451.5949201583862]\n",
            "Epoch: 34\n",
            "  Losses: [0.9096498080180027, 0.013137467814885895, 81.50607359409332, 2498.3050088882446]\n",
            "Epoch: 35\n",
            "  Losses: [0.9164277997333556, 0.02786501235459582, 81.54716956615448, 2334.4586939811707]\n",
            "Epoch: 36\n",
            "  Losses: [0.9343495857901871, 0.024212229956901865, 81.52540254592896, 2347.85657787323]\n",
            "Epoch: 37\n",
            "  Losses: [0.8889347875665408, 0.008617512610726408, 81.50096634030342, 2576.816372871399]\n",
            "Epoch: 38\n",
            "  Losses: [0.8961686560651287, 0.023349294173385715, 81.52277928590775, 2372.5007004737854]\n",
            "Epoch: 39\n",
            "  Losses: [0.8829658527392894, 0.01388373381269048, 81.49613445997238, 2464.9042949676514]\n",
            "Epoch: 40\n",
            "  Losses: [0.8534998725517653, 0.006290606152106193, 81.48161986470222, 2650.227868080139]\n",
            "Epoch: 41\n",
            "  Losses: [0.8559864964336157, 0.01086545471480349, 81.5219116806984, 2549.6630458831787]\n",
            "Epoch: 42\n",
            "  Losses: [0.8629011429438833, 0.011992157709755702, 81.52828669548035, 2504.7710304260254]\n",
            "Epoch: 43\n",
            "  Losses: [0.838237592310179, 0.00737914620731317, 81.5008877813816, 2617.5363664627075]\n",
            "Epoch: 44\n",
            "  Losses: [0.8220949945680331, 0.006026359404131654, 81.4763440489769, 2664.877152442932]\n",
            "Epoch: 45\n",
            "  Losses: [0.8119367547915317, 0.0072714071511654765, 81.49396672844887, 2626.965866088867]\n",
            "Epoch: 46\n",
            "  Losses: [0.8093246143544093, 0.010456231504576863, 81.51068651676178, 2536.368268966675]\n",
            "Epoch: 47\n",
            "  Losses: [0.7982582250842825, 0.007284038654688629, 81.48931437730789, 2620.65819644928]\n",
            "Epoch: 48\n",
            "  Losses: [0.7917326664028224, 0.008004728731975774, 81.49298319220543, 2596.243748664856]\n",
            "Epoch: 49\n",
            "  Losses: [0.7734403384965844, 0.005388524336012779, 81.49743783473969, 2705.9993953704834]\n"
          ],
          "name": "stdout"
        }
      ]
    },
    {
      "cell_type": "code",
      "metadata": {
        "id": "NmnS51pL8Gxg",
        "colab_type": "code",
        "colab": {
          "base_uri": "https://localhost:8080/",
          "height": 1000
        },
        "outputId": "4c037898-0a74-4656-bcbf-1f27ef33f9ce"
      },
      "source": [
        "with torch.no_grad():\n",
        "    \n",
        "    index = 133\n",
        "    batch_size = 2\n",
        "    \n",
        "    x_sample = x_test[index:index+batch_size]\n",
        "    y_sample = y_test[index:index+batch_size]\n",
        "    \n",
        "    generator_input = Generator.getGeneratorInput(y_sample, batch_size)\n",
        "        \n",
        "    generated = generator(generator_input)\n",
        "    features = fe(generated)\n",
        "    discriminator_out = discriminator(features)\n",
        "    \n",
        "    features = fe(x_sample)\n",
        "    real_discriminator_out = discriminator(features)\n",
        "    classifier_out = classifier(features)\n",
        "\n",
        "    \n",
        "    for i in range(batch_size):\n",
        "        plot_image(generated[i].reshape((28, 28)))\n",
        "        plt.show()\n",
        "        plot_image(x_sample[i].reshape((28, 28)))\n",
        "        plt.show()\n",
        "        \n",
        "    \n",
        "    print(f\"Discriminator_out fake: {discriminator_out}\\nReal Img Discriminator Out: {real_discriminator_out}\")\n",
        "    print(f\"\\nClass: {classifier_out}\\nReal class: {y_sample}\")"
      ],
      "execution_count": 71,
      "outputs": [
        {
          "output_type": "stream",
          "text": [
            "/usr/local/lib/python3.6/dist-packages/ipykernel_launcher.py:9: UserWarning: Implicit dimension choice for softmax has been deprecated. Change the call to include dim=X as an argument.\n",
            "  if __name__ == '__main__':\n"
          ],
          "name": "stderr"
        },
        {
          "output_type": "display_data",
          "data": {
            "image/png": "[encoded data removed]",
            "text/plain": [
              "<Figure size 432x288 with 1 Axes>"
            ]
          },
          "metadata": {
            "tags": [],
            "needs_background": "light"
          }
        },
        {
          "output_type": "display_data",
          "data": {
            "image/png": "[encoded data removed]",
            "text/plain": [
              "<Figure size 432x288 with 1 Axes>"
            ]
          },
          "metadata": {
            "tags": [],
            "needs_background": "light"
          }
        },
        {
          "output_type": "display_data",
          "data": {
            "image/png": "[encoded data removed]",
            "text/plain": [
              "<Figure size 432x288 with 1 Axes>"
            ]
          },
          "metadata": {
            "tags": [],
            "needs_background": "light"
          }
        },
        {
          "output_type": "display_data",
          "data": {
            "image/png": "[encoded data removed]",
            "text/plain": [
              "<Figure size 432x288 with 1 Axes>"
            ]
          },
          "metadata": {
            "tags": [],
            "needs_background": "light"
          }
        },
        {
          "output_type": "stream",
          "text": [
            "Discriminator_out fake: tensor([[5.5470e-05],\n",
            "        [5.5477e-05]])\n",
            "Real Img Discriminator Out: tensor([[1.0000],\n",
            "        [1.0000]])\n",
            "\n",
            "Class: tensor([[7.6277e-06, 5.3071e-07, 1.5071e-07, 8.0976e-06, 1.1732e-06, 9.9995e-01,\n",
            "         5.6411e-07, 6.3524e-08, 2.9707e-05, 7.0654e-07],\n",
            "        [1.1505e-06, 2.0968e-02, 3.5361e-05, 3.0092e-02, 1.2872e-02, 5.4172e-03,\n",
            "         4.8659e-05, 7.6031e-04, 4.2600e-02, 8.8720e-01]])\n",
            "Real class: tensor([[0., 0., 0., 0., 0., 1., 0., 0., 0., 0.],\n",
            "        [0., 0., 0., 0., 0., 0., 0., 0., 0., 1.]])\n"
          ],
          "name": "stdout"
        }
      ]
    },
    {
      "cell_type": "code",
      "metadata": {
        "id": "TYtIu8Fp9es6",
        "colab_type": "code",
        "colab": {
          "base_uri": "https://localhost:8080/",
          "height": 153
        },
        "outputId": "22e419d7-c09a-40dd-c644-37013d06029a"
      },
      "source": [
        "with torch.no_grad():\n",
        "    index = 133\n",
        "    x_sample = x_test[index:index+2]\n",
        "    y_sample = y_test[index:index+2]\n",
        "    y_pred = classifier(fe(x_sample))\n",
        "    print(y_pred)\n",
        "    print(y_sample)"
      ],
      "execution_count": 38,
      "outputs": [
        {
          "output_type": "stream",
          "text": [
            "tensor([[2.8942e-03, 1.3588e-04, 1.3840e-04, 5.9589e-03, 8.2910e-05, 9.7652e-01,\n",
            "         5.8020e-06, 2.4974e-04, 1.3381e-02, 6.3833e-04],\n",
            "        [2.8175e-04, 5.9488e-03, 1.7584e-04, 1.1175e-02, 2.4148e-02, 1.2686e-02,\n",
            "         9.1562e-04, 6.3619e-03, 7.0668e-03, 9.3124e-01]])\n",
            "tensor([[0., 0., 0., 0., 0., 1., 0., 0., 0., 0.],\n",
            "        [0., 0., 0., 0., 0., 0., 0., 0., 0., 1.]])\n"
          ],
          "name": "stdout"
        },
        {
          "output_type": "stream",
          "text": [
            "/usr/local/lib/python3.6/dist-packages/ipykernel_launcher.py:9: UserWarning: Implicit dimension choice for softmax has been deprecated. Change the call to include dim=X as an argument.\n",
            "  if __name__ == '__main__':\n"
          ],
          "name": "stderr"
        }
      ]
    },
    {
      "cell_type": "code",
      "metadata": {
        "id": "6y7rpoN-92pK",
        "colab_type": "code",
        "colab": {}
      },
      "source": [
        ""
      ],
      "execution_count": 0,
      "outputs": []
    }
  ]
}