{
  "nbformat": 4,
  "nbformat_minor": 0,
  "metadata": {
    "colab": {
      "name": "Selective_GAN.ipynb",
      "provenance": [],
      "authorship_tag": "ABX9TyOgvhEogBrsY1wiIuAR7HjS",
      "include_colab_link": true
    },
    "kernelspec": {
      "name": "python3",
      "display_name": "Python 3"
    },
    "widgets": {
      "application/vnd.jupyter.widget-state+json": {
        "58183f83451b4f97a29db6a9f6da9829": {
          "model_module": "@jupyter-widgets/controls",
          "model_name": "HBoxModel",
          "state": {
            "_view_name": "HBoxView",
            "_dom_classes": [],
            "_model_name": "HBoxModel",
            "_view_module": "@jupyter-widgets/controls",
            "_model_module_version": "1.5.0",
            "_view_count": null,
            "_view_module_version": "1.5.0",
            "box_style": "",
            "layout": "IPY_MODEL_472c96a719134817964d4c2113be56b7",
            "_model_module": "@jupyter-widgets/controls",
            "children": [
              "IPY_MODEL_40be2f371eac4c42a9c355e824d129c1",
              "IPY_MODEL_6d40cec8fb0244abaa3b795d1148adbc"
            ]
          }
        },
        "4cfac25c920743cb9aad304e75a4ecda": {
          "model_module": "@jupyter-widgets/controls",
          "model_name": "HBoxModel",
          "state": {
            "_view_name": "HBoxView",
            "_dom_classes": [],
            "_model_name": "HBoxModel",
            "_view_module": "@jupyter-widgets/controls",
            "_model_module_version": "1.5.0",
            "_view_count": null,
            "_view_module_version": "1.5.0",
            "box_style": "",
            "layout": "IPY_MODEL_24e67dbf40e74a289c60cadc6ad15008",
            "_model_module": "@jupyter-widgets/controls",
            "children": [
              "IPY_MODEL_816d68738d8248f381d4fa437e990d67",
              "IPY_MODEL_b538fca8942043ffb0ecd2f078d485e4"
            ]
          }
        },
        "50d0aa607a8447e9b6bb048605d2ac59": {
          "model_module": "@jupyter-widgets/controls",
          "model_name": "HBoxModel",
          "state": {
            "_view_name": "HBoxView",
            "_dom_classes": [],
            "_model_name": "HBoxModel",
            "_view_module": "@jupyter-widgets/controls",
            "_model_module_version": "1.5.0",
            "_view_count": null,
            "_view_module_version": "1.5.0",
            "box_style": "",
            "layout": "IPY_MODEL_66fb316f723348e3b96a30e18b7c927c",
            "_model_module": "@jupyter-widgets/controls",
            "children": [
              "IPY_MODEL_887f9e9df5ea41dbb7ce251ba81c26fa",
              "IPY_MODEL_7b218c6d5fc544719a9507b179f4916e"
            ]
          }
        },
        "e869fa0e36f740cc901e37c273bc4712": {
          "model_module": "@jupyter-widgets/controls",
          "model_name": "HBoxModel",
          "state": {
            "_view_name": "HBoxView",
            "_dom_classes": [],
            "_model_name": "HBoxModel",
            "_view_module": "@jupyter-widgets/controls",
            "_model_module_version": "1.5.0",
            "_view_count": null,
            "_view_module_version": "1.5.0",
            "box_style": "",
            "layout": "IPY_MODEL_a99999fb3755458990e66c5ad53e2dee",
            "_model_module": "@jupyter-widgets/controls",
            "children": [
              "IPY_MODEL_7aabdb3a57794ef7ab9539106b41ce88",
              "IPY_MODEL_9ac0c50bcfc54967a79f3b7f98709e50"
            ]
          }
        }
      }
    },
    "accelerator": "GPU"
  },
  "cells": [
    {
      "cell_type": "markdown",
      "metadata": {
        "id": "view-in-github",
        "colab_type": "text"
      },
      "source": [
        "<a href=\"https://colab.research.google.com/github/Akhilez/ml_gallery/blob/master/ml_py/MLGallery/selective_generator/colab.ipynb\" target=\"_parent\"><img src=\"https://colab.research.google.com/assets/colab-badge.svg\" alt=\"Open In Colab\"/></a>"
      ]
    },
    {
      "cell_type": "markdown",
      "metadata": {
        "id": "9fYjdUPs9G8T",
        "colab_type": "text"
      },
      "source": [
        "# Selective GAN\n",
        "\n",
        "```yaml\n",
        "        noise + one-hot-class   (b, 10)\n",
        "                 |\n",
        "             Generator\n",
        "                 |\n",
        "               Image            (b, 1, 28, 28)\n",
        "        _________|________\n",
        "        |                |\n",
        "     Softmax           Logistic\n",
        "    Classifier        Discriminator\n",
        "    (b, 10)             (b, 2)\n",
        "\n",
        "```\n",
        "\n",
        "Link to file: https://github.com/Akhilez/ml_gallery/blob/master/ml_py/MLGallery/selective_generator/colab.ipynb"
      ]
    },
    {
      "cell_type": "code",
      "metadata": {
        "id": "b83FOSP76d5l",
        "colab_type": "code",
        "colab": {}
      },
      "source": [
        "import numpy as np\n",
        "import torch\n",
        "import torchvision\n",
        "import matplotlib.pyplot as plt\n",
        "from torch.nn.functional import dropout, leaky_relu, binary_cross_entropy, softmax\n",
        "from torch import sigmoid, tanh\n",
        "from torch.nn import Conv2d, Linear, ConvTranspose2d"
      ],
      "execution_count": 0,
      "outputs": []
    },
    {
      "cell_type": "code",
      "metadata": {
        "id": "eksbSQK7mXqM",
        "colab_type": "code",
        "colab": {
          "base_uri": "https://localhost:8080/",
          "height": 34
        },
        "outputId": "7e01cfd3-7e34-4610-8f61-f9453347ae94"
      },
      "source": [
        "# Device configuration\n",
        "device = torch.device('cuda' if torch.cuda.is_available() else 'cpu')\n",
        "device"
      ],
      "execution_count": 3,
      "outputs": [
        {
          "output_type": "execute_result",
          "data": {
            "text/plain": [
              "device(type='cuda')"
            ]
          },
          "metadata": {
            "tags": []
          },
          "execution_count": 3
        }
      ]
    },
    {
      "cell_type": "code",
      "metadata": {
        "id": "ZCLZ8YdE62Ls",
        "colab_type": "code",
        "outputId": "617ab9fb-4b32-4658-80bb-8ad13ee3efa5",
        "colab": {
          "base_uri": "https://localhost:8080/",
          "height": 221,
          "referenced_widgets": [
            "58183f83451b4f97a29db6a9f6da9829",
            "4cfac25c920743cb9aad304e75a4ecda",
            "50d0aa607a8447e9b6bb048605d2ac59",
            "e869fa0e36f740cc901e37c273bc4712"
          ]
        }
      },
      "source": [
        "data_path = \"./data/mnist/\"\n",
        "\n",
        "train_loader = torch.utils.data.DataLoader(\n",
        "    torchvision.datasets.MNIST(data_path, train=True, download=True,\n",
        "                               transform=torchvision.transforms.ToTensor()), shuffle=True)\n",
        "\n",
        "test_loader = torch.utils.data.DataLoader(\n",
        "    torchvision.datasets.MNIST(data_path, train=False, download=True,\n",
        "                               transform=torchvision.transforms.ToTensor()), shuffle=True)"
      ],
      "execution_count": 4,
      "outputs": [
        {
          "output_type": "stream",
          "text": [
            "Downloading http://yann.lecun.com/exdb/mnist/train-images-idx3-ubyte.gz to ./data/mnist/MNIST/raw/train-images-idx3-ubyte.gz\n"
          ],
          "name": "stdout"
        },
        {
          "output_type": "display_data",
          "data": {
            "application/vnd.jupyter.widget-view+json": {
              "model_id": "58183f83451b4f97a29db6a9f6da9829",
              "version_minor": 0,
              "version_major": 2
            },
            "text/plain": [
              "HBox(children=(IntProgress(value=1, bar_style='info', max=1), HTML(value='')))"
            ]
          },
          "metadata": {
            "tags": []
          }
        },
        {
          "output_type": "stream",
          "text": [
            "Extracting ./data/mnist/MNIST/raw/train-images-idx3-ubyte.gz to ./data/mnist/MNIST/raw\n",
            "Downloading http://yann.lecun.com/exdb/mnist/train-labels-idx1-ubyte.gz to ./data/mnist/MNIST/raw/train-labels-idx1-ubyte.gz\n"
          ],
          "name": "stdout"
        },
        {
          "output_type": "display_data",
          "data": {
            "application/vnd.jupyter.widget-view+json": {
              "model_id": "4cfac25c920743cb9aad304e75a4ecda",
              "version_minor": 0,
              "version_major": 2
            },
            "text/plain": [
              "HBox(children=(IntProgress(value=1, bar_style='info', max=1), HTML(value='')))"
            ]
          },
          "metadata": {
            "tags": []
          }
        },
        {
          "output_type": "stream",
          "text": [
            "Extracting ./data/mnist/MNIST/raw/train-labels-idx1-ubyte.gz to ./data/mnist/MNIST/raw\n",
            "Downloading http://yann.lecun.com/exdb/mnist/t10k-images-idx3-ubyte.gz to ./data/mnist/MNIST/raw/t10k-images-idx3-ubyte.gz\n"
          ],
          "name": "stdout"
        },
        {
          "output_type": "display_data",
          "data": {
            "application/vnd.jupyter.widget-view+json": {
              "model_id": "50d0aa607a8447e9b6bb048605d2ac59",
              "version_minor": 0,
              "version_major": 2
            },
            "text/plain": [
              "HBox(children=(IntProgress(value=1, bar_style='info', max=1), HTML(value='')))"
            ]
          },
          "metadata": {
            "tags": []
          }
        },
        {
          "output_type": "stream",
          "text": [
            "Extracting ./data/mnist/MNIST/raw/t10k-images-idx3-ubyte.gz to ./data/mnist/MNIST/raw\n",
            "Downloading http://yann.lecun.com/exdb/mnist/t10k-labels-idx1-ubyte.gz to ./data/mnist/MNIST/raw/t10k-labels-idx1-ubyte.gz\n",
            "\n",
            "\n"
          ],
          "name": "stdout"
        },
        {
          "output_type": "display_data",
          "data": {
            "application/vnd.jupyter.widget-view+json": {
              "model_id": "e869fa0e36f740cc901e37c273bc4712",
              "version_minor": 0,
              "version_major": 2
            },
            "text/plain": [
              "HBox(children=(IntProgress(value=1, bar_style='info', max=1), HTML(value='')))"
            ]
          },
          "metadata": {
            "tags": []
          }
        },
        {
          "output_type": "stream",
          "text": [
            "Extracting ./data/mnist/MNIST/raw/t10k-labels-idx1-ubyte.gz to ./data/mnist/MNIST/raw\n",
            "Processing...\n",
            "Done!\n"
          ],
          "name": "stdout"
        }
      ]
    },
    {
      "cell_type": "code",
      "metadata": {
        "id": "MXTQzaxc69HA",
        "colab_type": "code",
        "colab": {}
      },
      "source": [
        "def to_one_hot(x):\n",
        "    b = np.zeros((len(x), 10), dtype=np.float32)\n",
        "    b[np.arange(len(x)), x] = 1\n",
        "    return b"
      ],
      "execution_count": 0,
      "outputs": []
    },
    {
      "cell_type": "code",
      "metadata": {
        "id": "dXZQQySl6-YX",
        "colab_type": "code",
        "outputId": "85bb9906-b5f2-4fc7-83ae-c4c223a3f910",
        "colab": {
          "base_uri": "https://localhost:8080/",
          "height": 51
        }
      },
      "source": [
        "x_test = []\n",
        "y_test = []\n",
        "\n",
        "for data in test_loader:\n",
        "    x_test.append(data[0].reshape(1, 28, 28).numpy())\n",
        "    y_test.append(data[1][0])\n",
        "\n",
        "y_test = torch.Tensor(to_one_hot(y_test))\n",
        "x_test = torch.Tensor(x_test)"
      ],
      "execution_count": 6,
      "outputs": [
        {
          "output_type": "stream",
          "text": [
            "\n",
            "\n"
          ],
          "name": "stdout"
        }
      ]
    },
    {
      "cell_type": "code",
      "metadata": {
        "id": "pJBBvGHb7CE7",
        "colab_type": "code",
        "colab": {}
      },
      "source": [
        "x_train = []\n",
        "y_train = []\n",
        "\n",
        "for data in train_loader:\n",
        "    x_train.append(data[0].reshape(1, 28, 28).numpy())\n",
        "    y_train.append(data[1][0])\n",
        "\n",
        "y_train = torch.Tensor(to_one_hot(y_train))\n",
        "x_train = torch.Tensor(x_train)"
      ],
      "execution_count": 0,
      "outputs": []
    },
    {
      "cell_type": "code",
      "metadata": {
        "id": "SDJi3hQ37rv9",
        "colab_type": "code",
        "colab": {}
      },
      "source": [
        "x_train = x_train[:5000].to(device)\n",
        "x_test = x_test[:500].to(device)\n",
        "y_train = y_train[:5000]\n",
        "y_test = y_test[:500]"
      ],
      "execution_count": 0,
      "outputs": []
    },
    {
      "cell_type": "code",
      "metadata": {
        "id": "BsnNSYDf7DuV",
        "colab_type": "code",
        "outputId": "508c4074-3b92-4bf8-f527-eb4e0c6604a0",
        "colab": {
          "base_uri": "https://localhost:8080/",
          "height": 85
        }
      },
      "source": [
        "print(x_train.shape, x_test.shape, y_train.shape, y_test.shape)\n",
        "\n",
        "print(torch.min(x_test))\n",
        "print(torch.max(x_test))\n",
        "\n",
        "print(y_train[0])"
      ],
      "execution_count": 9,
      "outputs": [
        {
          "output_type": "stream",
          "text": [
            "torch.Size([5000, 1, 28, 28]) torch.Size([500, 1, 28, 28]) torch.Size([5000, 10]) torch.Size([500, 10])\n",
            "tensor(0., device='cuda:0')\n",
            "tensor(1., device='cuda:0')\n",
            "tensor([0., 0., 0., 0., 0., 0., 1., 0., 0., 0.])\n"
          ],
          "name": "stdout"
        }
      ]
    },
    {
      "cell_type": "code",
      "metadata": {
        "id": "myqyq81i7L6g",
        "colab_type": "code",
        "colab": {}
      },
      "source": [
        "def plot_image(x):\n",
        "    plt.imshow(x, cmap='gray')\n",
        "    plt.show()"
      ],
      "execution_count": 0,
      "outputs": []
    },
    {
      "cell_type": "code",
      "metadata": {
        "id": "XZva4kv37yDZ",
        "colab_type": "code",
        "outputId": "ee71b514-20a9-4add-ac7c-c59ecceabb3b",
        "colab": {
          "base_uri": "https://localhost:8080/",
          "height": 197
        }
      },
      "source": [
        "index = 13\n",
        "plot_image(x_test[index].numpy().reshape((28, 28)))\n",
        "print(y_test[index])"
      ],
      "execution_count": 11,
      "outputs": [
        {
          "output_type": "error",
          "ename": "TypeError",
          "evalue": "ignored",
          "traceback": [
            "\u001b[0;31m---------------------------------------------------------------------------\u001b[0m",
            "\u001b[0;31mTypeError\u001b[0m                                 Traceback (most recent call last)",
            "\u001b[0;32m<ipython-input-11-3f09bd4c0a9f>\u001b[0m in \u001b[0;36m<module>\u001b[0;34m()\u001b[0m\n\u001b[1;32m      1\u001b[0m \u001b[0mindex\u001b[0m \u001b[0;34m=\u001b[0m \u001b[0;36m13\u001b[0m\u001b[0;34m\u001b[0m\u001b[0;34m\u001b[0m\u001b[0m\n\u001b[0;32m----> 2\u001b[0;31m \u001b[0mplot_image\u001b[0m\u001b[0;34m(\u001b[0m\u001b[0mx_test\u001b[0m\u001b[0;34m[\u001b[0m\u001b[0mindex\u001b[0m\u001b[0;34m]\u001b[0m\u001b[0;34m.\u001b[0m\u001b[0mnumpy\u001b[0m\u001b[0;34m(\u001b[0m\u001b[0;34m)\u001b[0m\u001b[0;34m.\u001b[0m\u001b[0mreshape\u001b[0m\u001b[0;34m(\u001b[0m\u001b[0;34m(\u001b[0m\u001b[0;36m28\u001b[0m\u001b[0;34m,\u001b[0m \u001b[0;36m28\u001b[0m\u001b[0;34m)\u001b[0m\u001b[0;34m)\u001b[0m\u001b[0;34m)\u001b[0m\u001b[0;34m\u001b[0m\u001b[0;34m\u001b[0m\u001b[0m\n\u001b[0m\u001b[1;32m      3\u001b[0m \u001b[0mprint\u001b[0m\u001b[0;34m(\u001b[0m\u001b[0my_test\u001b[0m\u001b[0;34m[\u001b[0m\u001b[0mindex\u001b[0m\u001b[0;34m]\u001b[0m\u001b[0;34m)\u001b[0m\u001b[0;34m\u001b[0m\u001b[0;34m\u001b[0m\u001b[0m\n",
            "\u001b[0;31mTypeError\u001b[0m: can't convert CUDA tensor to numpy. Use Tensor.cpu() to copy the tensor to host memory first."
          ]
        }
      ]
    },
    {
      "cell_type": "code",
      "metadata": {
        "id": "y14YSTRg7zR1",
        "colab_type": "code",
        "colab": {}
      },
      "source": [
        "def get_random(shape, min_=-0.5, max_=0.5):\n",
        "    return torch.FloatTensor(*shape).uniform_(min_, max_).requires_grad_()"
      ],
      "execution_count": 0,
      "outputs": []
    },
    {
      "cell_type": "code",
      "metadata": {
        "id": "FF-ZsF-_71r_",
        "colab_type": "code",
        "colab": {}
      },
      "source": [
        "class Generator(torch.nn.Module):\n",
        "\n",
        "    input_shape = (10)\n",
        "\n",
        "    def __init__(self):\n",
        "        super().__init__()\n",
        "\n",
        "        # torch.nn.Conv2d(in_channels, out_channels, kernel_size, stride=1, padding=0, dilation=1, groups=1, bias=True, padding_mode='zeros')\n",
        "        # torch.nn.Linear(in_features, out_features, bias=True)\n",
        "        # torch.nn.functional.leaky_relu(input, negative_slope=0.01, inplace=False) → Tensor\n",
        "        # torch.nn.ConvTranspose2d(in_channels, out_channels, kernel_size, stride=1, padding=0, output_padding=0, groups=1, bias=True, dilation=1, padding_mode='zeros')\n",
        "\n",
        "        self.fc1 = Linear(Generator.input_shape, 128 * 7 * 7)\n",
        "        self.conv1 = ConvTranspose2d(128, 128, 4, stride=2, padding=1)  # [2, 128, 14, 14]\n",
        "        self.conv2 = ConvTranspose2d(128, 128, 4, stride=2, padding=1)  # [2, 128, 28, 28]\n",
        "        self.conv3 = ConvTranspose2d(128, 1, 7, padding=3)\n",
        "\n",
        "    \n",
        "    def forward(self, x, **kwargs):\n",
        "        # x.shape = (batch, 100)\n",
        "\n",
        "        h1 = leaky_relu(self.fc1(x))\n",
        "        h1 = h1.reshape(-1, 128, 7, 7)\n",
        "        h2 = leaky_relu(self.conv1(h1))\n",
        "        h3 = leaky_relu(self.conv2(h2))\n",
        "        h4 = tanh(self.conv3(h3))\n",
        "        return h4\n",
        "\n",
        "\n",
        "    def get_parameters(self):\n",
        "        return [{'params': layer.parameters()} for layer in (self.fc1, self.conv1, self.conv2, self.conv3)]\n",
        "\n",
        "    @staticmethod\n",
        "    def getGeneratorInput2(y, batch_size):\n",
        "        gen_input = torch.randn((batch_size, 100)).to(device)\n",
        "        for batch in range(batch_size):\n",
        "            for i in range(0, 10, 20):\n",
        "                gen_input[batch][i: i+10] = y[batch]\n",
        "        return gen_input\n",
        "\n",
        "    @staticmethod\n",
        "    def getGeneratorInput(y, batch_size):\n",
        "        gen_input = torch.randn((batch_size, 10)).to(device) * 0.1\n",
        "        gen_input = gen_input + y\n",
        "        return gen_input"
      ],
      "execution_count": 0,
      "outputs": []
    },
    {
      "cell_type": "code",
      "metadata": {
        "id": "2V_6Faq9cCZa",
        "colab_type": "code",
        "outputId": "59c767ea-c6e8-415d-98a0-2853577a8045",
        "colab": {
          "base_uri": "https://localhost:8080/",
          "height": 119
        }
      },
      "source": [
        "y_sample = y_test[10:12].to(device)\n",
        "print(y_sample)\n",
        "Generator.getGeneratorInput(y_sample, 2)"
      ],
      "execution_count": 62,
      "outputs": [
        {
          "output_type": "stream",
          "text": [
            "tensor([[0., 0., 0., 1., 0., 0., 0., 0., 0., 0.],\n",
            "        [0., 1., 0., 0., 0., 0., 0., 0., 0., 0.]], device='cuda:0')\n"
          ],
          "name": "stdout"
        },
        {
          "output_type": "execute_result",
          "data": {
            "text/plain": [
              "tensor([[-0.0024,  0.1117,  0.0676,  1.0121,  0.0054,  0.1922, -0.0143, -0.0433,\n",
              "         -0.1206, -0.0404],\n",
              "        [ 0.0126,  1.0127, -0.0595,  0.1062,  0.0762, -0.0236, -0.0311, -0.1109,\n",
              "          0.0643,  0.0342]], device='cuda:0')"
            ]
          },
          "metadata": {
            "tags": []
          },
          "execution_count": 62
        }
      ]
    },
    {
      "cell_type": "code",
      "metadata": {
        "id": "k7UwJDNg79tU",
        "colab_type": "code",
        "colab": {}
      },
      "source": [
        "class FeatureExtractor(torch.nn.Module):\n",
        "    def __init__(self):\n",
        "        super().__init__()\n",
        "        self.w1, self.b1 = get_random((784, 600)), torch.zeros(600, requires_grad=True)\n",
        "        self.w2, self.b2 = get_random((600, 600)), torch.zeros(600, requires_grad=True)\n",
        "        self.w3, self.b3 = get_random((600, 100)), torch.zeros(100, requires_grad=True)\n",
        "    \n",
        "    def forward(self, x, **kwargs):\n",
        "        h1 = sigmoid(x.matmul(self.w1) + self.b1)\n",
        "        h2 = sigmoid(h1.matmul(self.w2) + self.b2)\n",
        "        h3 = sigmoid(h2.matmul(self.w3) + self.b3)\n",
        "        return h3\n",
        "    \n",
        "    def optimize(self, lr):\n",
        "        \n",
        "        self.w1 = (self.w1 - lr * self.w1.grad).detach().requires_grad_()\n",
        "        self.w2 = (self.w2 - lr * self.w2.grad).detach().requires_grad_()\n",
        "        self.w3 = (self.w3 - lr * self.w3.grad).detach().requires_grad_()\n",
        "        \n",
        "        self.b1 = (self.b1 - lr * self.b1.grad).detach().requires_grad_()\n",
        "        self.b2 = (self.b2 - lr * self.b2.grad).detach().requires_grad_()\n",
        "        self.b3 = (self.b3 - lr * self.b3.grad).detach().requires_grad_()"
      ],
      "execution_count": 0,
      "outputs": []
    },
    {
      "cell_type": "code",
      "metadata": {
        "id": "WTpDal2i7_dy",
        "colab_type": "code",
        "colab": {}
      },
      "source": [
        "class Discriminator(torch.nn.Module):\n",
        "    def __init__(self):\n",
        "        super().__init__()\n",
        "        \n",
        "        self.conv1 = Conv2d(1, 64, 3, stride=2, padding=1)\n",
        "        self.conv2 = Conv2d(64, 64, 3, stride=2, padding=1)\n",
        "        self.fc1 = Linear(3136, 2)\n",
        "\n",
        "    \n",
        "    def forward(self, x, **kwargs):\n",
        "\n",
        "        h1 = dropout(leaky_relu(self.conv1(x)))  # TODO: Add dropout\n",
        "        h2 = dropout(leaky_relu(self.conv2(h1)))\n",
        "        h2 = h2.reshape(h2.shape[0], -1)  # Flatten\n",
        "        h3 = softmax(self.fc1(h2))\n",
        "        return h3\n",
        "\n",
        "\n",
        "    def get_parameters(self):\n",
        "        return [{'params': layer.parameters()} for layer in (self.conv1, self.conv2, self.fc1)]\n",
        "\n",
        "    @staticmethod\n",
        "    def generate_labels(sample_size, real=True):\n",
        "        labels = torch.zeros((sample_size, 2))\n",
        "        for sample in labels:\n",
        "            sample[0] = 1 if real else 0\n",
        "            sample[1] = 0 if real else 1\n",
        "        return labels"
      ],
      "execution_count": 0,
      "outputs": []
    },
    {
      "cell_type": "code",
      "metadata": {
        "id": "IR1hTfa-qWiO",
        "colab_type": "code",
        "colab": {
          "base_uri": "https://localhost:8080/",
          "height": 51
        },
        "outputId": "f5e969ef-ff0c-4a62-ad15-02169dc19d21"
      },
      "source": [
        "Discriminator.generate_labels(2, real=False)"
      ],
      "execution_count": 21,
      "outputs": [
        {
          "output_type": "execute_result",
          "data": {
            "text/plain": [
              "tensor([[0., 1.],\n",
              "        [0., 1.]])"
            ]
          },
          "metadata": {
            "tags": []
          },
          "execution_count": 21
        }
      ]
    },
    {
      "cell_type": "code",
      "metadata": {
        "id": "svpWhbN08BZV",
        "colab_type": "code",
        "colab": {}
      },
      "source": [
        "class Classifier (torch.nn.Module):\n",
        "    def __init__(self):\n",
        "        super(Classifier, self).__init__()\n",
        "        self.conv1 = Conv2d(1, 28, 3, padding=1)\n",
        "        self.fc1 = Linear(28 * 28 * 28, 128)\n",
        "        self.fc2 = Linear(128, 10)\n",
        "\n",
        "    def forward(self, x):\n",
        "        h1 = torch.relu(self.conv1(x))\n",
        "        h1 = h1.reshape(h1.shape[0], -1)  # flatten\n",
        "        h2 = torch.sigmoid(self.fc1(h1))\n",
        "        h3 = torch.nn.functional.softmax(self.fc2(h2))\n",
        "        return h3\n",
        "\n",
        "    def get_parameters(self):\n",
        "        return [layer.parameters() for layer in (self.conv1, self.fc1, self.fc2)]"
      ],
      "execution_count": 0,
      "outputs": []
    },
    {
      "cell_type": "code",
      "metadata": {
        "id": "-7MnX8wr8C1h",
        "colab_type": "code",
        "colab": {}
      },
      "source": [
        "# fe = FeatureExtractor()\n",
        "classifier = Classifier().to(device)\n",
        "discriminator = Discriminator().to(device)\n",
        "generator = Generator().to(device)\n",
        "\n",
        "d_optimizer = torch.optim.Adam(discriminator.parameters(), lr=0.0002)\n",
        "g_optimizer = torch.optim.Adam(generator.parameters(), lr=0.0002)\n",
        "c_optimizer = torch.optim.Adam(classifier.parameters(), lr=0.0002)"
      ],
      "execution_count": 0,
      "outputs": []
    },
    {
      "cell_type": "code",
      "metadata": {
        "id": "r5gCxDcsFhhz",
        "colab_type": "code",
        "colab": {}
      },
      "source": [
        "batch_size = 200\n",
        "\n",
        "real = Discriminator.generate_labels(batch_size).to(device)\n",
        "fake = Discriminator.generate_labels(batch_size, real=False).to(device)"
      ],
      "execution_count": 0,
      "outputs": []
    },
    {
      "cell_type": "code",
      "metadata": {
        "id": "RR8VdfIXX06t",
        "colab_type": "code",
        "colab": {}
      },
      "source": [
        "def train_c(x_batch, y_batch):\n",
        "\n",
        "    c_optimizer.zero_grad()\n",
        "    \n",
        "    c_out = classifier(x_batch)\n",
        "    \n",
        "    loss = binary_cross_entropy(c_out, y_batch)\n",
        "\n",
        "    loss.backward()\n",
        "    c_optimizer.step()\n",
        "\n",
        "    return loss.data.item()"
      ],
      "execution_count": 0,
      "outputs": []
    },
    {
      "cell_type": "code",
      "metadata": {
        "id": "q2iSAwOUXQlV",
        "colab_type": "code",
        "colab": {}
      },
      "source": [
        "def train_d(x_batch, y_batch):\n",
        "\n",
        "    d_optimizer.zero_grad()\n",
        "    \n",
        "    # ------------ Train with real image ----------------\n",
        "    \n",
        "    discriminator_out = discriminator(x_batch)\n",
        "    \n",
        "    loss_discriminator_real = binary_cross_entropy(discriminator_out, real)\n",
        "\n",
        "    # --------------- Train with fake image -------------------\n",
        "\n",
        "    generator_input = Generator.getGeneratorInput(y_batch, batch_size).to(device)\n",
        "    \n",
        "    generated = generator(generator_input)\n",
        "    discriminator_out = discriminator(generated)\n",
        "    \n",
        "    loss_discriminator = binary_cross_entropy(discriminator_out, fake)\n",
        "    \n",
        "    # ---------------- Optimize --------------------\n",
        "\n",
        "    loss = loss_discriminator_real + loss_discriminator\n",
        "\n",
        "    loss.backward()\n",
        "    d_optimizer.step()\n",
        "\n",
        "    return loss_discriminator_real.data.item(), loss_discriminator.data.item()"
      ],
      "execution_count": 0,
      "outputs": []
    },
    {
      "cell_type": "code",
      "metadata": {
        "id": "S9r513zXdyGM",
        "colab_type": "code",
        "colab": {}
      },
      "source": [
        "def train_g(x_batch, y_batch):\n",
        "\n",
        "    generator_input = Generator.getGeneratorInput(y_batch, batch_size).to(device)\n",
        "\n",
        "    g_optimizer.zero_grad()\n",
        "    \n",
        "    generated = generator(generator_input)\n",
        "    discriminator_out = discriminator(generated)\n",
        "    classifier_out = classifier(generated)\n",
        "\n",
        "    loss_generator = binary_cross_entropy(discriminator_out, real)\n",
        "    loss_classifier = binary_cross_entropy(classifier_out, y_batch)\n",
        "\n",
        "    loss = loss_generator + 2 * loss_classifier\n",
        "    \n",
        "    loss.backward()\n",
        "    g_optimizer.step()\n",
        "\n",
        "    return loss.data.item()"
      ],
      "execution_count": 0,
      "outputs": []
    },
    {
      "cell_type": "code",
      "metadata": {
        "id": "H4B7bzv-izSe",
        "colab_type": "code",
        "colab": {
          "base_uri": "https://localhost:8080/",
          "height": 255
        },
        "outputId": "d591e227-cb75-4795-ae9f-07f9dac992ce"
      },
      "source": [
        "epochs = 5\n",
        "for epoch in range(epochs):\n",
        "    print(f'Epoch: {epoch}')\n",
        "    losses = {'c': 0, 'dr': 0, 'df': 0, 'g': 0}\n",
        "\n",
        "    for i in range(0, len(x_train), batch_size):\n",
        "        start_index = i\n",
        "        end_index = i+batch_size\n",
        "        \n",
        "        x_batch = x_train[start_index:end_index]\n",
        "        y_batch = y_train[start_index:end_index].to(device)\n",
        "        \n",
        "        loss_c = train_c(x_batch, y_batch)\n",
        "        loss_d1, loss_d2 = train_d(x_batch, y_batch)\n",
        "        loss_g = train_g(x_batch, y_batch)\n",
        "\n",
        "        losses['c'] += loss_c\n",
        "        losses['dr'] += loss_d1\n",
        "        losses['df'] += loss_d2\n",
        "        losses['g'] += loss_g\n",
        "\n",
        "    print(f'    Losses: {losses}')"
      ],
      "execution_count": 77,
      "outputs": [
        {
          "output_type": "stream",
          "text": [
            "Epoch: 0\n"
          ],
          "name": "stdout"
        },
        {
          "output_type": "stream",
          "text": [
            "/usr/local/lib/python3.6/dist-packages/ipykernel_launcher.py:12: UserWarning: Implicit dimension choice for softmax has been deprecated. Change the call to include dim=X as an argument.\n",
            "  if sys.path[0] == '':\n",
            "/usr/local/lib/python3.6/dist-packages/ipykernel_launcher.py:15: UserWarning: Implicit dimension choice for softmax has been deprecated. Change the call to include dim=X as an argument.\n",
            "  from ipykernel import kernelapp as app\n"
          ],
          "name": "stderr"
        },
        {
          "output_type": "stream",
          "text": [
            "    Losses: {'c': 2.0004075542092323, 'dr': 17.18263566493988, 'df': 15.814942002296448, 'g': 22.00268930196762}\n",
            "Epoch: 1\n",
            "    Losses: {'c': 1.86631765589118, 'dr': 15.756132394075394, 'df': 12.534117877483368, 'g': 33.7882844209671}\n",
            "Epoch: 2\n",
            "    Losses: {'c': 1.7511283829808235, 'dr': 16.200819492340088, 'df': 19.1485515832901, 'g': 21.132915675640106}\n",
            "Epoch: 3\n",
            "    Losses: {'c': 1.6507772766053677, 'dr': 16.50431028008461, 'df': 16.614192128181458, 'g': 20.84721541404724}\n",
            "Epoch: 4\n",
            "    Losses: {'c': 1.5623045191168785, 'dr': 16.188466131687164, 'df': 16.433917820453644, 'g': 20.765638649463654}\n"
          ],
          "name": "stdout"
        }
      ]
    },
    {
      "cell_type": "code",
      "metadata": {
        "id": "wdos9mWoaCcU",
        "colab_type": "code",
        "outputId": "2fc52a91-5161-40ad-b181-bf2ecdb04051",
        "colab": {
          "base_uri": "https://localhost:8080/",
          "height": 1000
        }
      },
      "source": [
        "with torch.no_grad():\n",
        "    \n",
        "    index = 33\n",
        "    sample_size = 10\n",
        "    \n",
        "    x_sample = x_test[index:index+sample_size].to(device)\n",
        "    y_sample = torch.tensor(to_one_hot(range(10))).to(device)\n",
        "\n",
        "    generator_input = Generator.getGeneratorInput(y_sample, sample_size).to(device)\n",
        "\n",
        "    generated = generator(generator_input)\n",
        "    discriminator_out = discriminator(generated)\n",
        "    classifier_out = classifier(x_sample)\n",
        "    \n",
        "    real_discriminator_out = discriminator(x_sample)\n",
        "    \n",
        "    for i in range(sample_size):\n",
        "        plot_image(generated[i].reshape((28, 28)).cpu())\n",
        "        plt.show()\n",
        "        # plot_image(x_sample[i].reshape((28, 28)).cpu())\n",
        "        # plt.show()\n",
        "        \n",
        "    \n",
        "    print(f\"Discriminator_out fake: {discriminator_out}\\nReal Img Discriminator Out: {real_discriminator_out}\")\n",
        "    print(f\"\\nClass: {torch.max(classifier_out, 1)[1]}\\nReal class: {torch.max(y_sample, 1)[1]}\")"
      ],
      "execution_count": 83,
      "outputs": [
        {
          "output_type": "stream",
          "text": [
            "/usr/local/lib/python3.6/dist-packages/ipykernel_launcher.py:15: UserWarning: Implicit dimension choice for softmax has been deprecated. Change the call to include dim=X as an argument.\n",
            "  from ipykernel import kernelapp as app\n",
            "/usr/local/lib/python3.6/dist-packages/ipykernel_launcher.py:12: UserWarning: Implicit dimension choice for softmax has been deprecated. Change the call to include dim=X as an argument.\n",
            "  if sys.path[0] == '':\n"
          ],
          "name": "stderr"
        },
        {
          "output_type": "display_data",
          "data": {
            "image/png": "[encoded data removed]",
            "text/plain": [
              "<Figure size 432x288 with 1 Axes>"
            ]
          },
          "metadata": {
            "tags": [],
            "needs_background": "light"
          }
        },
        {
          "output_type": "display_data",
          "data": {
            "image/png": "[encoded data removed]",
            "text/plain": [
              "<Figure size 432x288 with 1 Axes>"
            ]
          },
          "metadata": {
            "tags": [],
            "needs_background": "light"
          }
        },
        {
          "output_type": "display_data",
          "data": {
            "image/png": "[encoded data removed]",
            "text/plain": [
              "<Figure size 432x288 with 1 Axes>"
            ]
          },
          "metadata": {
            "tags": [],
            "needs_background": "light"
          }
        },
        {
          "output_type": "display_data",
          "data": {
            "image/png": "[encoded data removed]",
            "text/plain": [
              "<Figure size 432x288 with 1 Axes>"
            ]
          },
          "metadata": {
            "tags": [],
            "needs_background": "light"
          }
        },
        {
          "output_type": "display_data",
          "data": {
            "image/png": "[encoded data removed]",
            "text/plain": [
              "<Figure size 432x288 with 1 Axes>"
            ]
          },
          "metadata": {
            "tags": [],
            "needs_background": "light"
          }
        },
        {
          "output_type": "display_data",
          "data": {
            "image/png": "[encoded data removed]",
            "text/plain": [
              "<Figure size 432x288 with 1 Axes>"
            ]
          },
          "metadata": {
            "tags": [],
            "needs_background": "light"
          }
        },
        {
          "output_type": "display_data",
          "data": {
            "image/png": "[encoded data removed]",
            "text/plain": [
              "<Figure size 432x288 with 1 Axes>"
            ]
          },
          "metadata": {
            "tags": [],
            "needs_background": "light"
          }
        },
        {
          "output_type": "display_data",
          "data": {
            "image/png": "[encoded data removed]",
            "text/plain": [
              "<Figure size 432x288 with 1 Axes>"
            ]
          },
          "metadata": {
            "tags": [],
            "needs_background": "light"
          }
        },
        {
          "output_type": "display_data",
          "data": {
            "image/png": "[encoded data removed]",
            "text/plain": [
              "<Figure size 432x288 with 1 Axes>"
            ]
          },
          "metadata": {
            "tags": [],
            "needs_background": "light"
          }
        },
        {
          "output_type": "display_data",
          "data": {
            "image/png": "[encoded data removed]",
            "text/plain": [
              "<Figure size 432x288 with 1 Axes>"
            ]
          },
          "metadata": {
            "tags": [],
            "needs_background": "light"
          }
        },
        {
          "output_type": "stream",
          "text": [
            "Discriminator_out fake: tensor([[0.4538, 0.5462],\n",
            "        [0.4355, 0.5645],\n",
            "        [0.4527, 0.5473],\n",
            "        [0.3730, 0.6270],\n",
            "        [0.3633, 0.6367],\n",
            "        [0.5599, 0.4401],\n",
            "        [0.4899, 0.5101],\n",
            "        [0.6007, 0.3993],\n",
            "        [0.5110, 0.4890],\n",
            "        [0.2169, 0.7831]], device='cuda:0')\n",
            "Real Img Discriminator Out: tensor([[0.5590, 0.4410],\n",
            "        [0.5497, 0.4503],\n",
            "        [0.5901, 0.4099],\n",
            "        [0.4527, 0.5473],\n",
            "        [0.5565, 0.4435],\n",
            "        [0.4460, 0.5540],\n",
            "        [0.6512, 0.3488],\n",
            "        [0.6614, 0.3386],\n",
            "        [0.2780, 0.7220],\n",
            "        [0.4000, 0.6000]], device='cuda:0')\n",
            "\n",
            "Class: tensor([2, 0, 1, 3, 7, 3, 9, 3, 6, 6], device='cuda:0')\n",
            "Real class: tensor([0, 1, 2, 3, 4, 5, 6, 7, 8, 9], device='cuda:0')\n"
          ],
          "name": "stdout"
        }
      ]
    }
  ]
}